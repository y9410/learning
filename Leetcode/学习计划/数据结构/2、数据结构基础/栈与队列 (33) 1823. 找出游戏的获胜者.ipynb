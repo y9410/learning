{
 "cells": [
  {
   "cell_type": "markdown",
   "id": "7b5c2d00",
   "metadata": {},
   "source": [
    "# 题目"
   ]
  },
  {
   "cell_type": "markdown",
   "id": "a524f828",
   "metadata": {},
   "source": [
    "> 共有 n 名小伙伴一起做游戏。小伙伴们围成一圈，按 顺时针顺序 从 1 到 n 编号。确切地说，从第 i 名小伙伴顺时针移动一位会到达第 (i+1) 名小伙伴的位置，其中 1 <= i < n ，从第 n 名小伙伴顺时针移动一位会回到第 1 名小伙伴的位置。  \n",
    "游戏遵循如下规则：  \n",
    "1. 从第 1 名小伙伴所在位置开始。  \n",
    "2. 沿着顺时针方向数 k 名小伙伴，计数时需要 包含 起始时的那位小伙伴。逐个绕圈进行计数，一些小伙伴可能会被数过不止一次。  \n",
    "3. 你数到的最后一名小伙伴需要离开圈子，并视作输掉游戏。  \n",
    "4. 如果圈子中仍然有不止一名小伙伴，从刚刚输掉的小伙伴的 顺时针下一位 小伙伴 开始，回到步骤 2 继续执行。  \n",
    "5. 否则，圈子中最后一名小伙伴赢得游戏。  \n",
    "6. 给你参与游戏的小伙伴总数 n ，和一个整数 k ，返回游戏的获胜者。  "
   ]
  },
  {
   "cell_type": "markdown",
   "id": "58804bd6",
   "metadata": {},
   "source": [
    "# 方法一：数学 + 迭代"
   ]
  },
  {
   "cell_type": "markdown",
   "id": "e6ac7bff",
   "metadata": {},
   "source": [
    "> 假设n=10,k=3，则最终胜利者的编号为f(10,3)。  \n",
    "在第一轮剔除一个人之后，环中共有九人，此时尚存者的编号为1,2,4,5,6,7,8,9,10，重新排序后为4,5,6,7,8,9,10,1,2可以写成(4,5,6,7,8,9,10,11,12)%10。从此时的环中继续游戏选出胜利者与从一开始就组成9人的游戏（编号为1,2,3,4,5,6,7,8,9）中选出胜利者唯一的区别在于胜利者编号不同，但位置是一样的（f(10,3)第二轮的起始编号为4，而f(9,3)第一轮的起始编号为1）。  \n",
    "因此可以看出：若n=10，则最终的胜出者f(10,3)一定是第9轮中剩下的人之一，而这个人的位置与f(9,3)的位置相同（只是编号不同）。依次类推，f(9,3)也必定是第8轮中剩下的人之一...f(2,3)一定是第1轮剩下的人之一，当n=1时，这个人必是胜利者。因此只要知道编号的对应方法，即可求得f(10,3)。  \n",
    "由4对应1、5对应2...可以得到以下递推公式（保证不会出现取完余结果为0的情况）：  \n",
    "f(10,3)=(f(9,3)+3-1)%10+1  \n",
    "f(9,3)=(f(8,3)+3-1)%9+1  \n",
    "……  \n",
    "f(2,3)=(f(1,3)+3-1)%2+1 \n",
    "f(1,3)=1  \n",
    "由此可得：  \n",
    "f(n,k)=(f(n-1,k)+k-1)%n+1  \n",
    "f(n-1,k)=(f(n-2,k)+k-1)%(n-1)+1  \n",
    "..."
   ]
  },
  {
   "cell_type": "markdown",
   "id": "bd3fe9f0",
   "metadata": {},
   "source": [
    "## 复杂度"
   ]
  },
  {
   "cell_type": "markdown",
   "id": "749b993f",
   "metadata": {},
   "source": [
    "- 时间复杂度:  $O(n)$ ，其中 $n$ 是人数。"
   ]
  },
  {
   "cell_type": "markdown",
   "id": "8aec29aa",
   "metadata": {},
   "source": [
    "> 需要 $O(n)$ 的时间遍历并计算结果。"
   ]
  },
  {
   "cell_type": "markdown",
   "id": "46eb0215",
   "metadata": {},
   "source": [
    "- 空间复杂度: $O(1)$ 。"
   ]
  },
  {
   "cell_type": "markdown",
   "id": "83228dc1",
   "metadata": {},
   "source": [
    "## 代码"
   ]
  },
  {
   "cell_type": "code",
   "execution_count": 1,
   "id": "ec442003",
   "metadata": {},
   "outputs": [],
   "source": [
    "def findTheWinner(n, k):\n",
    "    winner = 1\n",
    "    for i in range(2, n + 1):\n",
    "        winner = (k + winner -1) % i + 1\n",
    "    return winner"
   ]
  },
  {
   "cell_type": "markdown",
   "id": "baa9314b",
   "metadata": {},
   "source": [
    "#### 测试一"
   ]
  },
  {
   "cell_type": "code",
   "execution_count": 2,
   "id": "9e9f9c31",
   "metadata": {},
   "outputs": [
    {
     "data": {
      "text/plain": [
       "3"
      ]
     },
     "execution_count": 2,
     "metadata": {},
     "output_type": "execute_result"
    }
   ],
   "source": [
    "n = 5\n",
    "k = 2\n",
    "findTheWinner(n, k)"
   ]
  },
  {
   "cell_type": "markdown",
   "id": "b6ea2973",
   "metadata": {},
   "source": [
    "#### 测试二"
   ]
  },
  {
   "cell_type": "code",
   "execution_count": 3,
   "id": "27feea81",
   "metadata": {},
   "outputs": [
    {
     "data": {
      "text/plain": [
       "1"
      ]
     },
     "execution_count": 3,
     "metadata": {},
     "output_type": "execute_result"
    }
   ],
   "source": [
    "n = 6\n",
    "k = 5\n",
    "findTheWinner(n, k)"
   ]
  }
 ],
 "metadata": {
  "kernelspec": {
   "display_name": "Python 3",
   "language": "python",
   "name": "python3"
  },
  "language_info": {
   "codemirror_mode": {
    "name": "ipython",
    "version": 3
   },
   "file_extension": ".py",
   "mimetype": "text/x-python",
   "name": "python",
   "nbconvert_exporter": "python",
   "pygments_lexer": "ipython3",
   "version": "3.7.4"
  }
 },
 "nbformat": 4,
 "nbformat_minor": 5
}
