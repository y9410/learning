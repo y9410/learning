{
 "cells": [
  {
   "cell_type": "markdown",
   "id": "eb596b07",
   "metadata": {},
   "source": [
    "# 题目"
   ]
  },
  {
   "cell_type": "markdown",
   "id": "3e7ea3b7",
   "metadata": {},
   "source": [
    "> 给你一个由 `'('` 、 `')'` 和小写字母组成的字符串 `s` 。  \n",
    "你需要从字符串中删除最少数目的 `'('` 或者 `')'` （可以删除任意位置的括号)，使得剩下的「括号字符串」有效。  \n",
    "请返回任意一个合法字符串。  \n",
    "有效「括号字符串」应当符合以下任意一条要求：  \n",
    "1. 空字符串或只包含小写字母的字符串；  \n",
    "2. 可以被写作 `AB`（ `A` 连接 `B` ）的字符串，其中 `A` 和 `B` 都是有效「括号字符串」；  \n",
    "3. 可以被写作 `(A)` 的字符串，其中 `A` 是一个有效的「括号字符串」。"
   ]
  },
  {
   "cell_type": "markdown",
   "id": "a87a66d6",
   "metadata": {},
   "source": [
    "# 方法一：栈"
   ]
  },
  {
   "cell_type": "markdown",
   "id": "deead672",
   "metadata": {},
   "source": [
    "> 左右括号必须数量相同且一一匹配，因此使用一个栈，从左到右遍历字符串，并进行如下操作：  \n",
    "1. 若当前字符为左括号，将其位置压入栈；\n",
    "2. 若当前字符为右括号，查看栈顶元素是否为左括号，若是，则将栈顶元素移出栈，否则记录当前右括号的位置；\n",
    "3. 遍历完成后，将栈中剩余元素的位置也记录到列表中；\n",
    "4. 删除列表中对应位置的括号。"
   ]
  },
  {
   "cell_type": "markdown",
   "id": "959f7b6f",
   "metadata": {},
   "source": [
    "# 方法二：两步法"
   ]
  },
  {
   "cell_type": "markdown",
   "id": "2ba48b51",
   "metadata": {},
   "source": [
    "> 根据栈中是否有可匹配的 \"(\"，可以立即知道当前每个 \")\" 是否有效。但是无法立即知道每个 \"(\" 是否有效，必须要等到字符串扫描结束，根据栈中是否有剩余的 \"(\" 确定。  \n",
    "第一步：从左到右扫描字符串，删除所有有问题的右括号；  \n",
    "第二步：将字符串翻转，并把所有左括号变为右括号，右括号变为左括号，再次从左到右扫描字符串，删除所有有问题的右括号；  \n",
    "第三步：再将字符串翻转并互换左右括号，得到最终结果。"
   ]
  },
  {
   "cell_type": "markdown",
   "id": "e1e695c7",
   "metadata": {},
   "source": [
    "# 方法三：改进的两步法"
   ]
  },
  {
   "cell_type": "markdown",
   "id": "7aa8f683",
   "metadata": {},
   "source": [
    "> 设置一个平衡值，用于计算左括号比右括号多几个。只需要保持平衡即可，不需要栈，也不需要执行两次完整的字符串扫描。在完成第一步扫描后，查看有多少个需要删除的 \"(\"，然后从右侧开始扫描，删除对应个数的 \"(\" 即可。事实证明，如果删除最右边的 \"(\"，一定可以保证字符串平衡。  \n",
    "为了避免第二步迭代（这会增加算法的复杂性），需要记录第一步扫描中字符串有多少个 \"(\"。这样就可以在第二次扫描时计算出保留的 \"(\" 数量和删除的 \"(\" 数量。一旦达到足够数量的 \"(\"，就可以直接删除后面的 \"(\"。"
   ]
  },
  {
   "cell_type": "markdown",
   "id": "60750777",
   "metadata": {},
   "source": [
    "## 复杂度"
   ]
  },
  {
   "cell_type": "markdown",
   "id": "0b5ce03c",
   "metadata": {},
   "source": [
    "- 时间复杂度:  $O(n)$ ，其中 $n$ 是输入字符串长度。"
   ]
  },
  {
   "cell_type": "markdown",
   "id": "bc2c2d97",
   "metadata": {},
   "source": [
    "> 一共有两个循环，每次循环操作 $n$ 个字符，每次操作 $O(1)$ 。循环之外，还有一些 $O(n)$ 的库函数调用。"
   ]
  },
  {
   "cell_type": "markdown",
   "id": "c1230872",
   "metadata": {},
   "source": [
    "- 空间复杂度: $O(n)$ ，其中 $n$ 是输入字符串长度。"
   ]
  },
  {
   "cell_type": "markdown",
   "id": "06d688f1",
   "metadata": {},
   "source": [
    "> list需要 $O(n)$ 的空间。"
   ]
  },
  {
   "cell_type": "markdown",
   "id": "c825c310",
   "metadata": {},
   "source": [
    "## 代码"
   ]
  },
  {
   "cell_type": "code",
   "execution_count": 1,
   "id": "e4a23282",
   "metadata": {},
   "outputs": [],
   "source": [
    "def minRemoveToMakeValid(s):\n",
    "\n",
    "    # 第一步：从左到右扫描字符串，删除所有无效的右括号\n",
    "    first_parse_chars = []\n",
    "    balance = 0\n",
    "    open_seen = 0  # 左括号的数量\n",
    "    for c in s:\n",
    "        # 若当前字符为左括号，平衡值+1\n",
    "        if c == \"(\":\n",
    "            balance += 1\n",
    "            open_seen += 1  # 记录下左括号的数量\n",
    "        # 若当前字符为右括号，且平衡值为0，说明这个右括号无效，删除这个右括号\n",
    "        if c == \")\":\n",
    "            if balance == 0:\n",
    "                continue\n",
    "            balance -= 1  # 若平衡值不为零，说明这个右括号有效，平衡值-1\n",
    "        first_parse_chars.append(c)  # 记录下来的字符中删除了所有无效的右括号\n",
    "\n",
    "    # 第二步：从右到左扫描字符串，删除所有无效的左括号\n",
    "    result = []\n",
    "    # 要删除的左括号数量为：所有的左括号-平衡值（因为平衡值代表着左括号比右括号多出的数量）\n",
    "    open_to_keep = open_seen - balance\n",
    "    # 从右到左删除open_to_keep个左括号\n",
    "    for c in first_parse_chars:\n",
    "        if c == \"(\":\n",
    "            open_to_keep -= 1\n",
    "            if open_to_keep < 0:\n",
    "                continue\n",
    "        result.append(c)\n",
    "\n",
    "    return \"\".join(result)"
   ]
  },
  {
   "cell_type": "markdown",
   "id": "0eed518c",
   "metadata": {},
   "source": [
    "#### 测试一"
   ]
  },
  {
   "cell_type": "code",
   "execution_count": 2,
   "id": "16beb4b6",
   "metadata": {},
   "outputs": [
    {
     "data": {
      "text/plain": [
       "'lee(t(c)o)de'"
      ]
     },
     "execution_count": 2,
     "metadata": {},
     "output_type": "execute_result"
    }
   ],
   "source": [
    "s = \"lee(t(c)o)de)\"\n",
    "minRemoveToMakeValid(s)"
   ]
  },
  {
   "cell_type": "markdown",
   "id": "21c2b1b7",
   "metadata": {},
   "source": [
    "#### 测试二"
   ]
  },
  {
   "cell_type": "code",
   "execution_count": 3,
   "id": "5e4112b3",
   "metadata": {},
   "outputs": [
    {
     "data": {
      "text/plain": [
       "'ab(c)d'"
      ]
     },
     "execution_count": 3,
     "metadata": {},
     "output_type": "execute_result"
    }
   ],
   "source": [
    "s = \"a)b(c)d\"\n",
    "minRemoveToMakeValid(s)"
   ]
  },
  {
   "cell_type": "markdown",
   "id": "ceda7810",
   "metadata": {},
   "source": [
    "#### 测试三"
   ]
  },
  {
   "cell_type": "code",
   "execution_count": 4,
   "id": "bdc19ef7",
   "metadata": {},
   "outputs": [
    {
     "data": {
      "text/plain": [
       "''"
      ]
     },
     "execution_count": 4,
     "metadata": {},
     "output_type": "execute_result"
    }
   ],
   "source": [
    "s = \"))((\"\n",
    "minRemoveToMakeValid(s)"
   ]
  },
  {
   "cell_type": "code",
   "execution_count": null,
   "id": "7b8e9e88",
   "metadata": {},
   "outputs": [],
   "source": []
  }
 ],
 "metadata": {
  "kernelspec": {
   "display_name": "Python 3",
   "language": "python",
   "name": "python3"
  },
  "language_info": {
   "codemirror_mode": {
    "name": "ipython",
    "version": 3
   },
   "file_extension": ".py",
   "mimetype": "text/x-python",
   "name": "python",
   "nbconvert_exporter": "python",
   "pygments_lexer": "ipython3",
   "version": "3.7.4"
  }
 },
 "nbformat": 4,
 "nbformat_minor": 5
}
