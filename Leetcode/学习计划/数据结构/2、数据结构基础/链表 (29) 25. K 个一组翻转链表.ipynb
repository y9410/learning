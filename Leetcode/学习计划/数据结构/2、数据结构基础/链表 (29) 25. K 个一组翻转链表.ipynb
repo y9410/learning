{
 "cells": [
  {
   "cell_type": "markdown",
   "id": "65f2c1bf",
   "metadata": {},
   "source": [
    "# 题目"
   ]
  },
  {
   "cell_type": "markdown",
   "id": "9b6607b9",
   "metadata": {},
   "source": [
    "> 给你链表的头节点 `head` ，每 k 个节点一组进行翻转，请你返回修改后的链表。  \n",
    "k 是一个正整数，它的值小于或等于链表的长度。如果节点总数不是 k 的整数倍，那么请将最后剩余的节点保持原有顺序。  \n",
    "你不能只是单纯的改变节点内部的值，而是需要实际进行节点交换。  \n",
    "例如：输入链表 [1,2,3,4,5],k=3 ，输出为 [3,2,1,4,5] 。"
   ]
  },
  {
   "cell_type": "markdown",
   "id": "b00ebe8d",
   "metadata": {},
   "source": [
    "# 方法一：模拟"
   ]
  },
  {
   "cell_type": "markdown",
   "id": "9804bd1f",
   "metadata": {},
   "source": [
    "> 1、将链表按照k个一组分组，使用指针head依次指向每组的头节点，设置一个虚拟节点指向链表头节点。  \n",
    "2、在翻转操作前，使用指针tail指向当前组的尾节点，并使用指针pre指向当前组头节点的前驱节点、指针nex指向当前组尾节点的后继节点，以备在翻转完成后将子链表接入原链表。  \n",
    "3、判断每组的长度是否小于k，若是，则说明翻转已经完成，直接返回新的链表头节点，否则进行对当前长度为k的子链表翻转操作，翻转操作需要输入当前子链表的head和tail。  \n",
    "4、将翻转后的子链表接入原链表，并对下一组进行翻转操作。  \n",
    "5、最开始，pre指向虚拟节点，第一组翻转完并接入原链表后，pre.next即为新链表的头节点，直接返回即可，这有效的防止了头节点变更带来的问题。\n",
    "\n",
    "> **翻转操作reverse(head, tail)的处理过程：**假设输入链表为 [1,2,3,4,5],k=3 ，此时要翻转第一组 [1,2,3] 。  \n",
    "1. head=1，tail=3，prev=tail.next=4，令当前节点p=head并指向prev=4。  \n",
    "2. 随后，prev依次变为1,2，当前节点p依次遍历prev的后继节点2,3并指向prev。  \n",
    "3. 当prev为3时，停止遍历。此时，原先的tail=3变为新的head，原先的head=1变为新的tail并指向下一组的head=4。  "
   ]
  },
  {
   "cell_type": "markdown",
   "id": "c4421edc",
   "metadata": {},
   "source": [
    "## 复杂度"
   ]
  },
  {
   "cell_type": "markdown",
   "id": "8b7df1d4",
   "metadata": {},
   "source": [
    "- 时间复杂度: $O(n)$ ，其中 $n$ 为链表的长度。"
   ]
  },
  {
   "cell_type": "markdown",
   "id": "f301b8ac",
   "metadata": {},
   "source": [
    ">  `head` 指针会在 $O(⌊n/k⌋)$ 个节点上停留，每次停留需要进行一次 $O(k)$ 的翻转操作。"
   ]
  },
  {
   "cell_type": "markdown",
   "id": "8f03dfbf",
   "metadata": {},
   "source": [
    "- 空间复杂度: $O(1)$ 。"
   ]
  },
  {
   "cell_type": "markdown",
   "id": "3cdb2fc9",
   "metadata": {},
   "source": [
    "> 只需要创建常数个变量。"
   ]
  },
  {
   "cell_type": "markdown",
   "id": "ce461f87",
   "metadata": {},
   "source": [
    "## 代码"
   ]
  },
  {
   "cell_type": "code",
   "execution_count": 1,
   "id": "16320b05",
   "metadata": {},
   "outputs": [],
   "source": [
    "class ListNode:\n",
    "    def __init__(self, val=0, next=None):\n",
    "        self.val = val\n",
    "        self.next = next"
   ]
  },
  {
   "cell_type": "code",
   "execution_count": 2,
   "id": "649cf81f",
   "metadata": {},
   "outputs": [],
   "source": [
    "# 翻转一个子链表，并且返回新的头与尾\n",
    "def reverse(head, tail):\n",
    "    prev = tail.next  # prev一开始是尾节点的next，即下一组的head\n",
    "    p = head  # 从这一组的head开始遍历\n",
    "    while prev != tail:  # 只要prev还没有走到该组的tail，则一直向下遍历\n",
    "        nex = p.next  # 记录当前节点的后继节点\n",
    "        p.next = prev  # 第一次，将该组的head指向下一组的head；第二次及之后，prev从该组的head一直遍历到tail，prev的后继节点指向prev，完成翻转\n",
    "        prev = p  # 令prev变为当前节点，同时是下一个要处理的节点的前驱节点\n",
    "        p = nex  # 将下一个要处理的节点设置为当前节点的后继节点\n",
    "    return tail, head  # 原先的tail变为新的head，原先的head变为新的tail\n",
    "\n",
    "def reverseKGroup(head, k):\n",
    "    # 设置一个虚拟节点指向head\n",
    "    hair = ListNode(0)  \n",
    "    hair.next = head\n",
    "    # 最开始的前驱节点为虚拟节点\n",
    "    pre = hair\n",
    "\n",
    "    while head:\n",
    "        tail = pre\n",
    "        \n",
    "        # 查看剩余部分长度是否大于等于 k\n",
    "        for i in range(k):\n",
    "            tail = tail.next  #将尾节点移动到当前组的尾部\n",
    "            if not tail:  # 在翻转操作之前判断，若剩余部分长度不足k，则翻转完成，返回翻转后的头节点\n",
    "                return hair.next\n",
    "        \n",
    "        nex = tail.next  # 下一组的头节点为当前组尾节点的后继节点\n",
    "        head, tail = reverse(head, tail)  # 翻转当前组\n",
    "        \n",
    "        # 由于下一组在翻转后会破坏相邻两组的连接关系，因此要把子链表重新接回原链表\n",
    "        pre.next = head  # 设置前驱节点\n",
    "        tail.next = nex  # 设置后继节点\n",
    "        \n",
    "        pre = tail  # 新的前驱节点为已翻转的当前组的tail\n",
    "        head = tail.next  # 新的head设置为pre的后继节点，开始下一次翻转\n",
    "    \n",
    "    return hair.next"
   ]
  },
  {
   "cell_type": "markdown",
   "id": "1b0bbab6",
   "metadata": {},
   "source": [
    "#### 测试一"
   ]
  },
  {
   "cell_type": "code",
   "execution_count": 4,
   "id": "a60dde79",
   "metadata": {},
   "outputs": [
    {
     "name": "stdout",
     "output_type": "stream",
     "text": [
      "3 2 1 4 5\n"
     ]
    }
   ],
   "source": [
    "# 构建链表[1,2,3,4,5]\n",
    "head = ListNode(1)\n",
    "n1 = ListNode(2)\n",
    "n2 = ListNode(3)\n",
    "n3 = ListNode(4)\n",
    "n4 = ListNode(5)\n",
    "head.next = n1\n",
    "n1.next = n2\n",
    "n2.next = n3\n",
    "n3.next = n4\n",
    "\n",
    "k=3\n",
    "newhead = reverseKGroup(head, k)\n",
    "print(newhead.val, newhead.next.val, newhead.next.next.val, newhead.next.next.next.val, newhead.next.next.next.next.val)"
   ]
  },
  {
   "cell_type": "code",
   "execution_count": null,
   "id": "a3c12433",
   "metadata": {},
   "outputs": [],
   "source": []
  }
 ],
 "metadata": {
  "kernelspec": {
   "display_name": "Python 3",
   "language": "python",
   "name": "python3"
  },
  "language_info": {
   "codemirror_mode": {
    "name": "ipython",
    "version": 3
   },
   "file_extension": ".py",
   "mimetype": "text/x-python",
   "name": "python",
   "nbconvert_exporter": "python",
   "pygments_lexer": "ipython3",
   "version": "3.7.4"
  }
 },
 "nbformat": 4,
 "nbformat_minor": 5
}
