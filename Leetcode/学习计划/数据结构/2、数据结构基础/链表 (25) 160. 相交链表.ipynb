{
 "cells": [
  {
   "cell_type": "markdown",
   "id": "8ea6760e",
   "metadata": {},
   "source": [
    "# 题目"
   ]
  },
  {
   "cell_type": "markdown",
   "id": "6e01d9ad",
   "metadata": {},
   "source": [
    "> 给你两个单链表的头节点 `headA` 和 `headB` ，请你找出并返回两个单链表相交的起始节点。如果两个链表不存在相交节点，返回 `null` 。  \n",
    "图示两个链表在节点 c1 开始相交：  \n",
    "a1→a2→**c1**→c2→c3  \n",
    "b1→b2→**c1**→c2→c3  \n",
    "题目数据保证整个链式结构中不存在环。  \n",
    "注意，函数返回结果后，链表必须保持其原始结构。"
   ]
  },
  {
   "cell_type": "markdown",
   "id": "233a5e8f",
   "metadata": {},
   "source": [
    "# 方法一：双指针"
   ]
  },
  {
   "cell_type": "markdown",
   "id": "de72a29b",
   "metadata": {},
   "source": [
    "> 设两个链表的长度分别为a和b，两个链表的重叠部分长度为c（若两链表不相交，则c=0）。  \n",
    "使用两个指针A和B分别遍历两个链表，指针A遍历完链表1后遍历链表2，指针B遍历完链表2后遍历链表1。  \n",
    "两个指针相遇时，指针A走了a+(b-c)步，指针B走了b+(a-c)步。  \n",
    "因此，若两链表相交，则指针指向第一个公共节点；若两链表不相交，则指针指向null。"
   ]
  },
  {
   "cell_type": "markdown",
   "id": "15aad643",
   "metadata": {},
   "source": [
    "## 复杂度"
   ]
  },
  {
   "cell_type": "markdown",
   "id": "4127d499",
   "metadata": {},
   "source": [
    "- 时间复杂度: $O(a+b)$，其中 $a,b$ 分别是两个链表的长度。"
   ]
  },
  {
   "cell_type": "markdown",
   "id": "6e66324c",
   "metadata": {},
   "source": [
    "> 最差情况下( $|a−b|=1,c=0$ )，此时需遍历a+b个节点。"
   ]
  },
  {
   "cell_type": "markdown",
   "id": "49c3e6b9",
   "metadata": {},
   "source": [
    "- 空间复杂度: $O(1)$ 。"
   ]
  },
  {
   "cell_type": "markdown",
   "id": "87ab797d",
   "metadata": {},
   "source": [
    "> 使用两个指针的存储空间。"
   ]
  },
  {
   "cell_type": "markdown",
   "id": "8cc8c2f9",
   "metadata": {},
   "source": [
    "## 代码"
   ]
  },
  {
   "cell_type": "code",
   "execution_count": 1,
   "id": "5ea1462b",
   "metadata": {},
   "outputs": [],
   "source": [
    "class ListNode:\n",
    "    def __init__(self, x):\n",
    "        self.val = x\n",
    "        self.next = None"
   ]
  },
  {
   "cell_type": "code",
   "execution_count": 2,
   "id": "25ae8632",
   "metadata": {},
   "outputs": [],
   "source": [
    "def getIntersectionNode(headA, headB):\n",
    "    A, B = headA, headB\n",
    "    while A != B:\n",
    "        A = A.next if A else headB  # 若指针没走到链表末端，则继续走，否则指向另一个链表\n",
    "        B = B.next if B else headA\n",
    "    return A"
   ]
  },
  {
   "cell_type": "markdown",
   "id": "9c9ee6ce",
   "metadata": {},
   "source": [
    "#### 测试一"
   ]
  },
  {
   "cell_type": "code",
   "execution_count": 3,
   "id": "7bc89b71",
   "metadata": {},
   "outputs": [
    {
     "data": {
      "text/plain": [
       "2"
      ]
     },
     "execution_count": 3,
     "metadata": {},
     "output_type": "execute_result"
    }
   ],
   "source": [
    "# 链表1：[9,1,2,4]\n",
    "headA = ListNode(9)\n",
    "a1 = ListNode(1)\n",
    "headA.next = a1\n",
    "# 链表2：[1,2,4]\n",
    "headB = ListNode(1)\n",
    "# 公共部分：[2,4]\n",
    "c1 = ListNode(2)\n",
    "c2 = ListNode(4)\n",
    "c1.next = c2\n",
    "\n",
    "a1.next = c1\n",
    "headB.next = c1\n",
    "\n",
    "getIntersectionNode(headA, headB).val"
   ]
  },
  {
   "cell_type": "code",
   "execution_count": null,
   "id": "b4a3f98d",
   "metadata": {},
   "outputs": [],
   "source": []
  }
 ],
 "metadata": {
  "kernelspec": {
   "display_name": "Python 3",
   "language": "python",
   "name": "python3"
  },
  "language_info": {
   "codemirror_mode": {
    "name": "ipython",
    "version": 3
   },
   "file_extension": ".py",
   "mimetype": "text/x-python",
   "name": "python",
   "nbconvert_exporter": "python",
   "pygments_lexer": "ipython3",
   "version": "3.7.4"
  }
 },
 "nbformat": 4,
 "nbformat_minor": 5
}
