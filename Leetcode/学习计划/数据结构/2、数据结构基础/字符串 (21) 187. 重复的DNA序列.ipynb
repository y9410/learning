{
 "cells": [
  {
   "cell_type": "markdown",
   "id": "16dbdd57",
   "metadata": {},
   "source": [
    "# 题目"
   ]
  },
  {
   "cell_type": "markdown",
   "id": "31a25a03",
   "metadata": {},
   "source": [
    "> **DNA序列**由一系列核苷酸组成，缩写为 'A', 'C', 'G' 和 'T'。  \n",
    "例如，\"ACGAATTCCG\" 是一个**DNA序列**。  \n",
    "在研究 DNA 时，识别 DNA 中的重复序列非常有用。  \n",
    "给定一个表示 DNA序列 的字符串 s ，返回所有在 DNA 分子中出现不止一次的长度为 10 的序列(子字符串)。你可以按任意顺序返回答案。"
   ]
  },
  {
   "cell_type": "markdown",
   "id": "88fe97a8",
   "metadata": {},
   "source": [
    "# 方法一：哈希表 + 滑动窗口 + 位运算"
   ]
  },
  {
   "cell_type": "markdown",
   "id": "000cae10",
   "metadata": {},
   "source": [
    "> DNA序列中仅包含4个不同的字符，因此可以用二进制表示，每个字符为2个比特：A表示为二进制00；C表示为二进制01；G表示为二进制10；T表示为二进制11。  \n",
    "可以用一个大小固定为10的滑动窗口来计算子串的整数表示。当我们要计算下一个子串时，就将滑动窗口向右移动一位，此时会有一个新的字符进入窗口，以及窗口最左边的字符离开窗口，位运算使得可以用 $O(1)$ 的时间计算出下一个子串的整数表示。"
   ]
  },
  {
   "cell_type": "markdown",
   "id": "beab925b",
   "metadata": {},
   "source": [
    "## 复杂度"
   ]
  },
  {
   "cell_type": "markdown",
   "id": "a369cc18",
   "metadata": {},
   "source": [
    "- 时间复杂度: $O(N)$，其中 $N$ 是字符串 `s` 的长度。"
   ]
  },
  {
   "cell_type": "markdown",
   "id": "8534e700",
   "metadata": {},
   "source": [
    "- 空间复杂度: $O(N)$，其中 $N$ 是字符串 `s` 的长度。"
   ]
  },
  {
   "cell_type": "markdown",
   "id": "56248803",
   "metadata": {},
   "source": [
    "## 代码"
   ]
  },
  {
   "cell_type": "code",
   "execution_count": 1,
   "id": "7467b634",
   "metadata": {},
   "outputs": [],
   "source": [
    "from collections import defaultdict"
   ]
  },
  {
   "cell_type": "code",
   "execution_count": 2,
   "id": "8eaeeb67",
   "metadata": {},
   "outputs": [],
   "source": [
    "L = 10\n",
    "bindict = {'A': 0, 'C': 1, 'G': 2, 'T': 3}\n",
    "\n",
    "def findRepeatedDnaSequences(s):\n",
    "    n = len(s)\n",
    "    if n <= L:\n",
    "        return []\n",
    "    ans = []\n",
    "    x = 0\n",
    "    \n",
    "    # 构造第一个窗口（二进制数表示，长度为20）\n",
    "    for ch in s[:L - 1]:  # 遍历字符串的前9个字符\n",
    "        # 由于每个字符都用长度为2的二进制数表示，因此每次向左移动两位，并通过“按位或运算符”记录对应的字符串\n",
    "        x = (x << 2) | bindict[ch]  # “按位或运算符：|”表示两个二进制数对应位上只要有一个为1，则取1\n",
    "    \n",
    "    cnt = defaultdict(int)\n",
    "    \n",
    "    for i in range(n - L + 1):  # 一直遍历到最后一个窗口的末端对准字符串s的末端\n",
    "        # (x << 2) | bindict[s[i + L - 1]]在之前的9位窗口上又加了一位，形成一个10位的窗口\n",
    "        # (1 << (L * 2)) - 1会输出“0b11111111111111111111”，表示一个包含20位1的二进制数\n",
    "        # &为按位与运算符，参与运算的两个值，如果两个相应位都为1，则该位的结果为1，否则为0\n",
    "        x = ((x << 2) | bindict[s[i + L - 1]]) & ((1 << (L * 2)) - 1)  # 只保留最右边的20位数用于表示当前匹配到的字符串\n",
    "        cnt[x] += 1  # 用哈希表记录已有的模式\n",
    "        if cnt[x] == 2:  # 一旦出现重复的模式，则将该字符串加入答案\n",
    "            ans.append(s[i : i + L])\n",
    "    return ans"
   ]
  },
  {
   "cell_type": "markdown",
   "id": "e1be6864",
   "metadata": {},
   "source": [
    "#### 测试一"
   ]
  },
  {
   "cell_type": "code",
   "execution_count": 3,
   "id": "afc9ea69",
   "metadata": {},
   "outputs": [
    {
     "data": {
      "text/plain": [
       "['AAAAACCCCC', 'CCCCCAAAAA']"
      ]
     },
     "execution_count": 3,
     "metadata": {},
     "output_type": "execute_result"
    }
   ],
   "source": [
    "s = \"AAAAACCCCCAAAAACCCCCCAAAAAGGGTTT\"\n",
    "findRepeatedDnaSequences(s)"
   ]
  },
  {
   "cell_type": "markdown",
   "id": "b1678b24",
   "metadata": {},
   "source": [
    "#### 测试二"
   ]
  },
  {
   "cell_type": "code",
   "execution_count": 4,
   "id": "c10d051c",
   "metadata": {},
   "outputs": [
    {
     "data": {
      "text/plain": [
       "['AAAAAAAAAA']"
      ]
     },
     "execution_count": 4,
     "metadata": {},
     "output_type": "execute_result"
    }
   ],
   "source": [
    "s = \"AAAAAAAAAAAAA\"\n",
    "findRepeatedDnaSequences(s)"
   ]
  },
  {
   "cell_type": "code",
   "execution_count": null,
   "id": "d1464975",
   "metadata": {},
   "outputs": [],
   "source": []
  }
 ],
 "metadata": {
  "kernelspec": {
   "display_name": "Python 3",
   "language": "python",
   "name": "python3"
  },
  "language_info": {
   "codemirror_mode": {
    "name": "ipython",
    "version": 3
   },
   "file_extension": ".py",
   "mimetype": "text/x-python",
   "name": "python",
   "nbconvert_exporter": "python",
   "pygments_lexer": "ipython3",
   "version": "3.7.4"
  }
 },
 "nbformat": 4,
 "nbformat_minor": 5
}
