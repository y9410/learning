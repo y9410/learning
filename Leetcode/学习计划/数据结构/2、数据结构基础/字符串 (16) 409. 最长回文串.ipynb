{
 "cells": [
  {
   "cell_type": "markdown",
   "id": "993efa20",
   "metadata": {},
   "source": [
    "# 题目"
   ]
  },
  {
   "cell_type": "markdown",
   "id": "f216f7ba",
   "metadata": {},
   "source": [
    "> 给定一个包含大写字母和小写字母的字符串 `s` ，返回通过这些字母构造成的**最长的回文串**。  \n",
    "在构造过程中，请注意区分大小写。比如 \"Aa\" 不能当做一个回文字符串。"
   ]
  },
  {
   "cell_type": "markdown",
   "id": "2f46192f",
   "metadata": {},
   "source": [
    "# 方法一：哈希表"
   ]
  },
  {
   "cell_type": "markdown",
   "id": "275ce304",
   "metadata": {},
   "source": [
    "> 若回文串的长度为偶数，则其中的所有字符都出现偶数次，否则有某一字符出现奇数次。  \n",
    "因此，遍历字符串 `s` ，用哈希表记录其中每个字符串的出现次数，再遍历哈希表，计算每个字符出现了多少个2的倍数次，在遍历哈希表时，若某个数出现奇数次，则最终的回文串长度+1。"
   ]
  },
  {
   "cell_type": "markdown",
   "id": "935c270c",
   "metadata": {},
   "source": [
    "## 复杂度"
   ]
  },
  {
   "cell_type": "markdown",
   "id": "9e5abd31",
   "metadata": {},
   "source": [
    "- 时间复杂度: $O(N)$ ，其中 $N$ 是字符串的长度。"
   ]
  },
  {
   "cell_type": "markdown",
   "id": "da8f06eb",
   "metadata": {},
   "source": [
    "> 遍历字符串和哈希表皆使用线性时间。"
   ]
  },
  {
   "cell_type": "markdown",
   "id": "3367b8fd",
   "metadata": {},
   "source": [
    "- 空间复杂度: $O(1)$ 。"
   ]
  },
  {
   "cell_type": "markdown",
   "id": "6744af8f",
   "metadata": {},
   "source": [
    "> 由于 ASCII 字符数量为 128 ，哈希表最多使用 $O(128)=O(1)$ 空间。"
   ]
  },
  {
   "cell_type": "markdown",
   "id": "56820814",
   "metadata": {},
   "source": [
    "## 代码"
   ]
  },
  {
   "cell_type": "code",
   "execution_count": 1,
   "id": "6b129a9a",
   "metadata": {},
   "outputs": [],
   "source": [
    "import collections"
   ]
  },
  {
   "cell_type": "code",
   "execution_count": 2,
   "id": "adee01b9",
   "metadata": {},
   "outputs": [],
   "source": [
    "def longestPalindrome(s):\n",
    "    # 统计各字符数量\n",
    "    counter = collections.defaultdict(int)\n",
    "    for c in s:\n",
    "        counter[c] += 1\n",
    "    res, odd = 0, 0\n",
    "    # 统计构造回文串的最大长度\n",
    "    for count in counter.values():\n",
    "        # 将当前字符出现次数向下取偶数，并计入 res\n",
    "        rem = count % 2\n",
    "        res += count - rem\n",
    "        # 若当前字符出现次数为奇数，则将 odd 置 1\n",
    "        if rem == 1: odd = 1\n",
    "    return res + odd"
   ]
  },
  {
   "cell_type": "markdown",
   "id": "93409c64",
   "metadata": {},
   "source": [
    "#### 测试一"
   ]
  },
  {
   "cell_type": "code",
   "execution_count": 3,
   "id": "f1085521",
   "metadata": {},
   "outputs": [],
   "source": [
    "s = \"abccccdd\"\n",
    "longestPalindrome(s)"
   ]
  },
  {
   "cell_type": "markdown",
   "id": "28c54d66",
   "metadata": {},
   "source": [
    "#### 测试二"
   ]
  },
  {
   "cell_type": "code",
   "execution_count": 4,
   "id": "18dec943",
   "metadata": {},
   "outputs": [],
   "source": [
    "s = \"aaaaaccc\"\n",
    "longestPalindrome(s)"
   ]
  },
  {
   "cell_type": "code",
   "execution_count": null,
   "id": "ba0a58ba",
   "metadata": {},
   "outputs": [],
   "source": []
  }
 ],
 "metadata": {
  "kernelspec": {
   "display_name": "Python 3",
   "language": "python",
   "name": "python3"
  },
  "language_info": {
   "codemirror_mode": {
    "name": "ipython",
    "version": 3
   },
   "file_extension": ".py",
   "mimetype": "text/x-python",
   "name": "python",
   "nbconvert_exporter": "python",
   "pygments_lexer": "ipython3",
   "version": "3.7.4"
  }
 },
 "nbformat": 4,
 "nbformat_minor": 5
}
