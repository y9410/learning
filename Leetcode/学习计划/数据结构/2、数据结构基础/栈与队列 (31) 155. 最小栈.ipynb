{
 "cells": [
  {
   "cell_type": "markdown",
   "id": "31f64965",
   "metadata": {},
   "source": [
    "# 题目"
   ]
  },
  {
   "cell_type": "markdown",
   "id": "a7d79f2a",
   "metadata": {},
   "source": [
    "> 设计一个支持 `push` ，`pop` ，`top` 操作，并能在常数时间内检索到最小元素的栈。  \n",
    "实现 MinStack 类:  \n",
    "1. MinStack() 初始化堆栈对象。\n",
    "2. push(int val) 将元素val推入堆栈。\n",
    "3. pop() 删除堆栈顶部的元素。\n",
    "4. top() 获取堆栈顶部的元素。\n",
    "5. getMin() 获取堆栈中的最小元素。"
   ]
  },
  {
   "cell_type": "markdown",
   "id": "3a84eec6",
   "metadata": {},
   "source": [
    "# 方法一：辅助栈"
   ]
  },
  {
   "cell_type": "markdown",
   "id": "beb12f3e",
   "metadata": {},
   "source": [
    "> 由于栈的结构式先进后出，因此当一个元素a位于栈中，那么只要a仍然存在，位于其下的b,c,d就存在于栈中。  \n",
    "因此，考虑构造一个辅助栈（其中已有一个无穷大值）。  \n",
    "每次在栈中压入一个值时，都在辅助栈中比较该值与辅助栈顶部元素的值孰大，将较大者压入辅助栈；每次弹出栈帧时也同时弹出辅助栈的顶部元素。  \n",
    "这保证了辅助栈的顶部元素值就是当前栈中所有值的最小值。  \n",
    "若要求不能使用辅助栈，则可以通过在栈中保存差值的方法找到最小值。"
   ]
  },
  {
   "cell_type": "markdown",
   "id": "3b443b40",
   "metadata": {},
   "source": [
    "## 复杂度"
   ]
  },
  {
   "cell_type": "markdown",
   "id": "f88543c5",
   "metadata": {},
   "source": [
    "- 时间复杂度: 所有操作复杂度均为 $O(1)$ 。"
   ]
  },
  {
   "cell_type": "markdown",
   "id": "b170917a",
   "metadata": {},
   "source": [
    "> 栈的插入、删除与读取操作都是 $O(1)$ ，我们定义的每个操作最多调用栈操作两次。"
   ]
  },
  {
   "cell_type": "markdown",
   "id": "7450b3b4",
   "metadata": {},
   "source": [
    "- 空间复杂度: $O(n)$ ，其中 $n$ 为总操作数。"
   ]
  },
  {
   "cell_type": "markdown",
   "id": "73ce68c6",
   "metadata": {},
   "source": [
    "> 最坏情况下，我们会连续插入 $n$ 个元素，此时两个栈占用的空间为 $O(n)$ 。"
   ]
  },
  {
   "cell_type": "markdown",
   "id": "a9e034e3",
   "metadata": {},
   "source": [
    "## 代码"
   ]
  },
  {
   "cell_type": "code",
   "execution_count": 1,
   "id": "c38fe3b3",
   "metadata": {},
   "outputs": [],
   "source": [
    "import math"
   ]
  },
  {
   "cell_type": "code",
   "execution_count": 2,
   "id": "2961f85a",
   "metadata": {},
   "outputs": [],
   "source": [
    "class MinStack:\n",
    "    def __init__(self):\n",
    "        self.stack = []  # 用列表初始化一个栈\n",
    "        self.min_stack = [math.inf]  # 构造一个辅助栈用于存储当前栈每个帧对应的最小值，辅助栈初始时包含一个无穷大值\n",
    "    \n",
    "    # 压入一个栈帧\n",
    "    def push(self, x):\n",
    "        self.stack.append(x)\n",
    "        self.min_stack.append(min(x, self.min_stack[-1]))  # 每当栈中加入一个新值，都在辅助栈中存储一个值，这个值是当前栈中的最小值\n",
    "    \n",
    "    # 弹出一个栈帧\n",
    "    def pop(self):\n",
    "        self.stack.pop()\n",
    "        self.min_stack.pop()\n",
    "    \n",
    "    # 得到栈最上面的值\n",
    "    def top(self):\n",
    "        return self.stack[-1]\n",
    "    \n",
    "    # 获得当前栈中的最小值，即为辅助栈最上面的值\n",
    "    def getMin(self) -> int:\n",
    "        return self.min_stack[-1]"
   ]
  },
  {
   "cell_type": "markdown",
   "id": "a8d99049",
   "metadata": {},
   "source": [
    "#### 测试一"
   ]
  },
  {
   "cell_type": "code",
   "execution_count": 3,
   "id": "998a9eb6",
   "metadata": {},
   "outputs": [
    {
     "name": "stdout",
     "output_type": "stream",
     "text": [
      "-3\n",
      "0\n",
      "-2\n"
     ]
    }
   ],
   "source": [
    "minStack = MinStack()\n",
    "minStack.push(-2)\n",
    "minStack.push(0)\n",
    "minStack.push(-3)\n",
    "print(minStack.getMin())\n",
    "minStack.pop()\n",
    "print(minStack.top())\n",
    "print(minStack.getMin())"
   ]
  },
  {
   "cell_type": "code",
   "execution_count": null,
   "id": "350d9e80",
   "metadata": {},
   "outputs": [],
   "source": []
  }
 ],
 "metadata": {
  "kernelspec": {
   "display_name": "Python 3",
   "language": "python",
   "name": "python3"
  },
  "language_info": {
   "codemirror_mode": {
    "name": "ipython",
    "version": 3
   },
   "file_extension": ".py",
   "mimetype": "text/x-python",
   "name": "python",
   "nbconvert_exporter": "python",
   "pygments_lexer": "ipython3",
   "version": "3.7.4"
  }
 },
 "nbformat": 4,
 "nbformat_minor": 5
}
