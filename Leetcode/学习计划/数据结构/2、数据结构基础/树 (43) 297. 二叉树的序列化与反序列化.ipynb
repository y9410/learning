{
 "cells": [
  {
   "cell_type": "markdown",
   "id": "068ab7f2",
   "metadata": {},
   "source": [
    "# 题目"
   ]
  },
  {
   "cell_type": "markdown",
   "id": "28908804",
   "metadata": {},
   "source": [
    "> 序列化是将一个数据结构或者对象转换为连续的比特位的操作，进而可以将转换后的数据存储在一个文件或者内存中，同时也可以通过网络传输到另一个计算机环境，采取相反方式重构得到原数据。  \n",
    "请设计一个算法来实现二叉树的序列化与反序列化。这里不限定你的序列 / 反序列化算法执行逻辑，你只需要保证一个二叉树可以被序列化为一个字符串并且将这个字符串反序列化为原始的树结构。"
   ]
  },
  {
   "cell_type": "markdown",
   "id": "efa42f82",
   "metadata": {},
   "source": [
    "# 方法一：广度优先搜索"
   ]
  },
  {
   "cell_type": "markdown",
   "id": "477b00fe",
   "metadata": {},
   "source": [
    "> **序列化**\n",
    "1. 用BFS遍历树，与一般遍历的不同点是不管node的左右子节点是否存在，统统加到队列中；\n",
    "2. 在节点出队时，如果节点不存在，在返回值res中加入一个”null“；如果节点存在，则加入节点值的字符串形式。  \n",
    "\n",
    "> **反序列化**\n",
    "1. 同样使用BFS方法，利用队列新建二叉树；\n",
    "2. 首先要将data转换成列表，然后遍历，只要不为null将节点按顺序加入二叉树中；同时还要将节点入队；\n",
    "3. 队列为空时遍历完毕，返回根节点。  "
   ]
  },
  {
   "cell_type": "markdown",
   "id": "49b7ec54",
   "metadata": {},
   "source": [
    "## 复杂度"
   ]
  },
  {
   "cell_type": "markdown",
   "id": "f6c99ece",
   "metadata": {},
   "source": [
    "- 时间复杂度: 渐进时间复杂度为 $O(n)$ ，其中 $n$ 为树中的节点数。"
   ]
  },
  {
   "cell_type": "markdown",
   "id": "c1976fc2",
   "metadata": {},
   "source": [
    "> 序列化时，对树做遍历；反序列化时，对字符串做遍历。"
   ]
  },
  {
   "cell_type": "markdown",
   "id": "1be49b46",
   "metadata": {},
   "source": [
    "- 空间复杂度: $O(n)$ ，其中 $n$ 为树中的节点数。"
   ]
  },
  {
   "cell_type": "markdown",
   "id": "c74783a1",
   "metadata": {},
   "source": [
    "> 双端队列的空间。"
   ]
  },
  {
   "cell_type": "markdown",
   "id": "3492bd76",
   "metadata": {},
   "source": [
    "## 代码"
   ]
  },
  {
   "cell_type": "code",
   "execution_count": 1,
   "id": "e06ddb7c",
   "metadata": {},
   "outputs": [],
   "source": [
    "class TreeNode:\n",
    "    def __init__(self, val=0, left=None, right=None):\n",
    "        self.val = val\n",
    "        self.left = left\n",
    "        self.right = right"
   ]
  },
  {
   "cell_type": "code",
   "execution_count": 2,
   "id": "2a822212",
   "metadata": {},
   "outputs": [],
   "source": [
    "import collections"
   ]
  },
  {
   "cell_type": "code",
   "execution_count": 3,
   "id": "0892ac7c",
   "metadata": {},
   "outputs": [],
   "source": [
    "class Codec:\n",
    "    \n",
    "    # 序列化\n",
    "    def serialize(self, root):\n",
    "        if not root:\n",
    "            return \"\"\n",
    "        queue = collections.deque([root])  # 构建一个双端队列用于储存节点\n",
    "        res = []\n",
    "        while queue:\n",
    "            node = queue.popleft()\n",
    "            if node:  # 若节点存在\n",
    "                res.append(str(node.val))  # 将节点值加入答案\n",
    "                # 向下继续遍历\n",
    "                queue.append(node.left)\n",
    "                queue.append(node.right)\n",
    "            else:  # 若节点不存在，将None加入答案\n",
    "                res.append('None')\n",
    "        return '[' + ','.join(res) + ']'  # 返回答案\n",
    "\n",
    "    # 反序列化\n",
    "    def deserialize(self, data):\n",
    "        if not data:\n",
    "            return []\n",
    "        dataList = data[1:-1].split(',')\n",
    "        root = TreeNode(int(dataList[0]))  # 创建根节点\n",
    "        queue = collections.deque([root])  # 构建一个双端队列用于储存节点\n",
    "        i = 1\n",
    "        while queue:\n",
    "            # 弹出一个根节点\n",
    "            node = queue.popleft()\n",
    "            # 创建根节点的左右子节点（可能不存在）\n",
    "            if dataList[i] != 'None':\n",
    "                node.left = TreeNode(int(dataList[i]))\n",
    "                queue.append(node.left)\n",
    "            i += 1\n",
    "            if dataList[i] != 'None':\n",
    "                node.right = TreeNode(int(dataList[i]))\n",
    "                queue.append(node.right)\n",
    "            i += 1\n",
    "        return root"
   ]
  },
  {
   "cell_type": "markdown",
   "id": "b8a7bfde",
   "metadata": {},
   "source": [
    "#### 测试一"
   ]
  },
  {
   "cell_type": "code",
   "execution_count": 5,
   "id": "edbdb0b6",
   "metadata": {},
   "outputs": [
    {
     "name": "stdout",
     "output_type": "stream",
     "text": [
      "[5,3,6,2,4,None,7,None,None,None,None,None,None]\n",
      "5\n"
     ]
    }
   ],
   "source": [
    "root = TreeNode(5)\n",
    "l1 = TreeNode(3)\n",
    "l2 = TreeNode(2)\n",
    "l3 = TreeNode(4)\n",
    "r1 = TreeNode(6)\n",
    "r2 = TreeNode(7)\n",
    "root.left = l1\n",
    "root.right = r1\n",
    "l1.left = l2\n",
    "l1.right = l3\n",
    "r1.right = r2\n",
    "\n",
    "ser = Codec()\n",
    "deser = Codec()\n",
    "data = ser.serialize(root)\n",
    "print(data)\n",
    "ans = deser.deserialize(data)\n",
    "print(ans.val)"
   ]
  },
  {
   "cell_type": "code",
   "execution_count": null,
   "id": "b201abf0",
   "metadata": {},
   "outputs": [],
   "source": []
  }
 ],
 "metadata": {
  "kernelspec": {
   "display_name": "Python 3",
   "language": "python",
   "name": "python3"
  },
  "language_info": {
   "codemirror_mode": {
    "name": "ipython",
    "version": 3
   },
   "file_extension": ".py",
   "mimetype": "text/x-python",
   "name": "python",
   "nbconvert_exporter": "python",
   "pygments_lexer": "ipython3",
   "version": "3.7.4"
  }
 },
 "nbformat": 4,
 "nbformat_minor": 5
}
