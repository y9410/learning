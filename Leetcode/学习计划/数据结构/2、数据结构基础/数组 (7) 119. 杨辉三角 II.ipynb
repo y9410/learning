{
 "cells": [
  {
   "cell_type": "markdown",
   "id": "ca117609",
   "metadata": {},
   "source": [
    "# 题目"
   ]
  },
  {
   "cell_type": "markdown",
   "id": "d4198efb",
   "metadata": {},
   "source": [
    "> 给定一个非负索引 `rowIndex` ，返回「杨辉三角」的第 `rowIndex` 行。  \n",
    "在「杨辉三角」中，每个数是它左上方和右上方的数的和。"
   ]
  },
  {
   "cell_type": "markdown",
   "id": "02d6ca1b",
   "metadata": {},
   "source": [
    "# 方法一：滚动数组"
   ]
  },
  {
   "cell_type": "markdown",
   "id": "ef1af205",
   "metadata": {},
   "source": [
    "> 使用一个大小为 `rowIndex+1` 的数组，根据杨辉三角的性质按照行更新前 n 位的值，直至 n=rowIndex+1 。  \n",
    "例如：rowIndex=3  \n",
    "1、构建数组 [1,1,1,1] ；  \n",
    "2、更新第一行，实际有效数组为 [1] ，更新结果为 [1,1,1,1] ；\n",
    "3、更新第二行，实际有效数组为 [1,1] ，更新结果为 [1,1,1,1] ；  \n",
    "4、更新第三行，实际有效数组为 [1,1,1] ，更新过程为： [1,1,1] → [1,`2`,1] ，更新结果为 [1,2,1,1] ；  \n",
    "5、更新第四行，实际有效数组为 [1,2,1,1] ，更新过程为： [1,2,1,1] → [1,2,`3`,1] → [1,`3`,3,1] ，更新结果为 [1,3,3,1] ；  "
   ]
  },
  {
   "cell_type": "markdown",
   "id": "e88d7a3c",
   "metadata": {},
   "source": [
    "## 复杂度"
   ]
  },
  {
   "cell_type": "markdown",
   "id": "471f26a1",
   "metadata": {},
   "source": [
    "- 时间复杂度: $O(rowIndex^2)$ ，其中 $rowIndex$ 为行索引。"
   ]
  },
  {
   "cell_type": "markdown",
   "id": "d4c53cb9",
   "metadata": {},
   "source": [
    "> 既要遍历行，又要遍历每一行的每个位置。"
   ]
  },
  {
   "cell_type": "markdown",
   "id": "efecd719",
   "metadata": {},
   "source": [
    "- 空间复杂度: $O(rowIndex)$ ，其中 $rowIndex$ 为行索引。"
   ]
  },
  {
   "cell_type": "markdown",
   "id": "80dbee96",
   "metadata": {},
   "source": [
    "> 只需要一个大小为 rowIndex 的数组。"
   ]
  },
  {
   "cell_type": "markdown",
   "id": "a3d3f0b3",
   "metadata": {},
   "source": [
    "## 代码"
   ]
  },
  {
   "cell_type": "code",
   "execution_count": 1,
   "id": "3cb10011",
   "metadata": {},
   "outputs": [],
   "source": [
    "def getRow(rowIndex):\n",
    "    res = [1] * (rowIndex + 1)\n",
    "    for i in range(2, rowIndex + 1): #逐行开始更新数组（例如，要计算索引4——第5行，则需要从第三行开始更新数值）\n",
    "        for j in range(i - 1, 0, -1): #每一行都是从右往左更新（例如，索引2——第3行就是从索引1位置向左更新）\n",
    "            res[j] += res[j - 1] #每个更新的数都等于自身与前一个数的和（即上一层相邻两数的和）\n",
    "    return res"
   ]
  },
  {
   "cell_type": "markdown",
   "id": "de169072",
   "metadata": {},
   "source": [
    "#### 测试一"
   ]
  },
  {
   "cell_type": "code",
   "execution_count": 2,
   "id": "fd70726a",
   "metadata": {},
   "outputs": [
    {
     "data": {
      "text/plain": [
       "[1]"
      ]
     },
     "execution_count": 2,
     "metadata": {},
     "output_type": "execute_result"
    }
   ],
   "source": [
    "rowIndex = 0\n",
    "getRow(rowIndex)"
   ]
  },
  {
   "cell_type": "markdown",
   "id": "3ec15875",
   "metadata": {},
   "source": [
    "#### 测试二"
   ]
  },
  {
   "cell_type": "code",
   "execution_count": 3,
   "id": "a672a5e7",
   "metadata": {},
   "outputs": [
    {
     "data": {
      "text/plain": [
       "[1, 1]"
      ]
     },
     "execution_count": 3,
     "metadata": {},
     "output_type": "execute_result"
    }
   ],
   "source": [
    "rowIndex = 1\n",
    "getRow(rowIndex)"
   ]
  },
  {
   "cell_type": "markdown",
   "id": "b748405c",
   "metadata": {},
   "source": [
    "#### 测试三"
   ]
  },
  {
   "cell_type": "code",
   "execution_count": 4,
   "id": "4797a6b9",
   "metadata": {},
   "outputs": [
    {
     "data": {
      "text/plain": [
       "[1, 3, 3, 1]"
      ]
     },
     "execution_count": 4,
     "metadata": {},
     "output_type": "execute_result"
    }
   ],
   "source": [
    "rowIndex = 3\n",
    "getRow(rowIndex)"
   ]
  },
  {
   "cell_type": "markdown",
   "id": "cba607a3",
   "metadata": {},
   "source": [
    "# 方法二：公式法"
   ]
  },
  {
   "cell_type": "markdown",
   "id": "6740e45e",
   "metadata": {},
   "source": [
    "> 杨辉三角中第 $n$ 行的第 $m$ 个数（从 0 开始编号）可以表示为组合数 $C(n,m)$ ，记为： $\\mathcal{C}_n^m=\\frac{n !}{m !(n-m) !}$ 。  \n",
    "此外， $(a+b)^n$ 的展开式中各项系数依次对应杨辉三角第 $n$ 行中的每一项。  \n",
    "由组合数公式可得同一行相邻组合数的关系：$\\mathcal{C}_n^m=\\mathcal{C}_n^{m-1} \\times \\frac{n-m+1}{m}$ ，可根据 $\\mathcal{C}_n^0=1$ 推出当前行所有组合数。"
   ]
  },
  {
   "cell_type": "markdown",
   "id": "50b3b90c",
   "metadata": {},
   "source": [
    "## 复杂度"
   ]
  },
  {
   "cell_type": "markdown",
   "id": "ae8442ea",
   "metadata": {},
   "source": [
    "- 时间复杂度: $O(rowIndex)$ ，其中 $rowIndex$ 为行索引。"
   ]
  },
  {
   "cell_type": "markdown",
   "id": "67a23c12",
   "metadata": {},
   "source": [
    "> 仅遍历当前行。"
   ]
  },
  {
   "cell_type": "markdown",
   "id": "110b8daf",
   "metadata": {},
   "source": [
    "- 空间复杂度: $O(1)$ 。"
   ]
  },
  {
   "cell_type": "markdown",
   "id": "c501f2f1",
   "metadata": {},
   "source": [
    "> 只需要一个大小为 rowIndex 的数组。"
   ]
  },
  {
   "cell_type": "markdown",
   "id": "2968bd2c",
   "metadata": {},
   "source": [
    "## 代码"
   ]
  },
  {
   "cell_type": "code",
   "execution_count": 5,
   "id": "4842e856",
   "metadata": {},
   "outputs": [],
   "source": [
    "def getRow(rowIndex):\n",
    "    ans = [1]\n",
    "    for i in range(1, rowIndex+1):\n",
    "        ans.append(ans[-1] * (rowIndex - i + 1) // i) #当前行从第2个数开始，每个数都由前一个数推出\n",
    "    return ans"
   ]
  },
  {
   "cell_type": "markdown",
   "id": "d6a85567",
   "metadata": {},
   "source": [
    "#### 测试一"
   ]
  },
  {
   "cell_type": "code",
   "execution_count": 6,
   "id": "0a3cf0a2",
   "metadata": {},
   "outputs": [
    {
     "data": {
      "text/plain": [
       "[1]"
      ]
     },
     "execution_count": 6,
     "metadata": {},
     "output_type": "execute_result"
    }
   ],
   "source": [
    "rowIndex = 0\n",
    "getRow(rowIndex)"
   ]
  },
  {
   "cell_type": "markdown",
   "id": "d42dfc10",
   "metadata": {},
   "source": [
    "#### 测试二"
   ]
  },
  {
   "cell_type": "code",
   "execution_count": 7,
   "id": "0667a926",
   "metadata": {},
   "outputs": [
    {
     "data": {
      "text/plain": [
       "[1, 1]"
      ]
     },
     "execution_count": 7,
     "metadata": {},
     "output_type": "execute_result"
    }
   ],
   "source": [
    "rowIndex = 1\n",
    "getRow(rowIndex)"
   ]
  },
  {
   "cell_type": "markdown",
   "id": "716214fb",
   "metadata": {},
   "source": [
    "#### 测试三"
   ]
  },
  {
   "cell_type": "code",
   "execution_count": 8,
   "id": "a2d1c36d",
   "metadata": {},
   "outputs": [
    {
     "data": {
      "text/plain": [
       "[1, 3, 3, 1]"
      ]
     },
     "execution_count": 8,
     "metadata": {},
     "output_type": "execute_result"
    }
   ],
   "source": [
    "rowIndex = 3\n",
    "getRow(rowIndex)"
   ]
  },
  {
   "cell_type": "code",
   "execution_count": null,
   "id": "697caa45",
   "metadata": {},
   "outputs": [],
   "source": []
  }
 ],
 "metadata": {
  "kernelspec": {
   "display_name": "Python 3",
   "language": "python",
   "name": "python3"
  },
  "language_info": {
   "codemirror_mode": {
    "name": "ipython",
    "version": 3
   },
   "file_extension": ".py",
   "mimetype": "text/x-python",
   "name": "python",
   "nbconvert_exporter": "python",
   "pygments_lexer": "ipython3",
   "version": "3.7.4"
  }
 },
 "nbformat": 4,
 "nbformat_minor": 5
}
