{
 "cells": [
  {
   "cell_type": "markdown",
   "id": "7a391edd",
   "metadata": {},
   "source": [
    "# 题目"
   ]
  },
  {
   "cell_type": "markdown",
   "id": "dfbcc5a0",
   "metadata": {},
   "source": [
    "> 给你一个整数数组 `nums` ，判断是否存在三元组 `[nums[i], nums[j], nums[k]]` 满足 `i != j` 、 `i != k` 且 `j != k` ，同时还满足 `nums[i] + nums[j] + nums[k] == 0` 。  \n",
    "请你返回所有和为 0 且不重复的三元组。  \n",
    "**注意：**答案中不可以包含重复的三元组。"
   ]
  },
  {
   "cell_type": "markdown",
   "id": "cafc0bce",
   "metadata": {},
   "source": [
    "# 方法一：排序 + 双指针"
   ]
  },
  {
   "cell_type": "markdown",
   "id": "412198a3",
   "metadata": {},
   "source": [
    "> 创建三个变量 a,b,c 对应三元组。对数组进行排序并通过三个大循环（分别对应a,b,c），为了保证不出现重复的三元组，确保枚举的所有三元组中都有 a≤b≤c 每次遍历新的 a,b 或 c 时都要保证新的 a,b 或 c 大于上次遍历到的 a,b 或 c 。由于 a 确定后， b,c 的和是定值，因此两者呈负相关关系，两者的指针向相反方向移动，因此可以让 b,c 处于一次遍历当中，减少一个大循环。"
   ]
  },
  {
   "cell_type": "markdown",
   "id": "aeba19b2",
   "metadata": {},
   "source": [
    "## 复杂度"
   ]
  },
  {
   "cell_type": "markdown",
   "id": "1427bfe5",
   "metadata": {},
   "source": [
    "- 时间复杂度: $O(N^2)$ ，其中 $N$ 为数组 `nums` 的长度。"
   ]
  },
  {
   "cell_type": "markdown",
   "id": "d0d5f254",
   "metadata": {},
   "source": [
    "> 排序的复杂度为 $O(NlogN)$ 小于两个大循环的复杂度。"
   ]
  },
  {
   "cell_type": "markdown",
   "id": "049a7086",
   "metadata": {},
   "source": [
    "- 空间复杂度: $O(logN)$ ，其中 $N$ 为数组 `nums` 的长度。"
   ]
  },
  {
   "cell_type": "markdown",
   "id": "8f0686d6",
   "metadata": {},
   "source": [
    "> 排序使用了 $O(logN)$ 的空间。若计算储存排序后数组的空间，则空间复杂度为 $O(N)$ 。"
   ]
  },
  {
   "cell_type": "markdown",
   "id": "acb6c9f5",
   "metadata": {},
   "source": [
    "## 代码"
   ]
  },
  {
   "cell_type": "code",
   "execution_count": 1,
   "id": "1e49652f",
   "metadata": {},
   "outputs": [],
   "source": [
    "def threeSum(nums):\n",
    "    n = len(nums)\n",
    "    nums.sort()\n",
    "    ans = list() #记录答案\n",
    "        \n",
    "    #枚举a\n",
    "    for first in range(n):\n",
    "        #需要和上一次枚举的数不相同\n",
    "        if first > 0 and nums[first] == nums[first - 1]:\n",
    "            continue\n",
    "        third = n - 1 #c对应的指针初始指向数组的最右端\n",
    "        target = -nums[first] #b+c应该等于-a\n",
    "        #枚举b\n",
    "        for second in range(first + 1, n):\n",
    "            #需要和上一次枚举的数不相同\n",
    "            if second > first + 1 and nums[second] == nums[second - 1]:\n",
    "                continue\n",
    "            #确保c指针在b指针的右边，若b+c>-a，由于此时a和b是定值，这说明c过大，则需一直向左移动c指针\n",
    "            while second < third and nums[second] + nums[third] > target:\n",
    "                third -= 1\n",
    "            #由于c一定大于等于b，所以若直到c指针和b指针重合（此时有最小的b+c），仍未找到满足和为-a的b和c，则可以跳出遍历\n",
    "            if second == third:\n",
    "                break\n",
    "            if nums[second] + nums[third] == target:\n",
    "                ans.append([nums[first], nums[second], nums[third]])\n",
    "        \n",
    "    return ans"
   ]
  },
  {
   "cell_type": "markdown",
   "id": "b41c1452",
   "metadata": {},
   "source": [
    "#### 测试一"
   ]
  },
  {
   "cell_type": "code",
   "execution_count": 2,
   "id": "78fd2a5a",
   "metadata": {},
   "outputs": [
    {
     "data": {
      "text/plain": [
       "[[-1, -1, 2], [-1, 0, 1]]"
      ]
     },
     "execution_count": 2,
     "metadata": {},
     "output_type": "execute_result"
    }
   ],
   "source": [
    "nums = [-1,0,1,2,-1,-4]\n",
    "threeSum(nums)"
   ]
  },
  {
   "cell_type": "markdown",
   "id": "a2cfdf9e",
   "metadata": {},
   "source": [
    "#### 测试二"
   ]
  },
  {
   "cell_type": "code",
   "execution_count": 3,
   "id": "825e9ae3",
   "metadata": {},
   "outputs": [
    {
     "data": {
      "text/plain": [
       "[[0, 0, 0]]"
      ]
     },
     "execution_count": 3,
     "metadata": {},
     "output_type": "execute_result"
    }
   ],
   "source": [
    "nums = [0,0,0]\n",
    "threeSum(nums)"
   ]
  },
  {
   "cell_type": "markdown",
   "id": "6e1f0fec",
   "metadata": {},
   "source": [
    "#### 测试三"
   ]
  },
  {
   "cell_type": "code",
   "execution_count": 4,
   "id": "d9f44a8a",
   "metadata": {},
   "outputs": [
    {
     "data": {
      "text/plain": [
       "[]"
      ]
     },
     "execution_count": 4,
     "metadata": {},
     "output_type": "execute_result"
    }
   ],
   "source": [
    "nums = [0,1,1]\n",
    "threeSum(nums)"
   ]
  },
  {
   "cell_type": "code",
   "execution_count": null,
   "id": "eb003c8c",
   "metadata": {},
   "outputs": [],
   "source": []
  }
 ],
 "metadata": {
  "kernelspec": {
   "display_name": "Python 3",
   "language": "python",
   "name": "python3"
  },
  "language_info": {
   "codemirror_mode": {
    "name": "ipython",
    "version": 3
   },
   "file_extension": ".py",
   "mimetype": "text/x-python",
   "name": "python",
   "nbconvert_exporter": "python",
   "pygments_lexer": "ipython3",
   "version": "3.7.4"
  }
 },
 "nbformat": 4,
 "nbformat_minor": 5
}
