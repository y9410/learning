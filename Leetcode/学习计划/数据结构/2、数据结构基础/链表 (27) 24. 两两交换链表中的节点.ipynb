{
 "cells": [
  {
   "cell_type": "markdown",
   "id": "ee4a7520",
   "metadata": {},
   "source": [
    "# 题目"
   ]
  },
  {
   "cell_type": "markdown",
   "id": "e40d2f6f",
   "metadata": {},
   "source": [
    "> 给你一个链表，两两交换其中相邻的节点，并返回交换后链表的头节点。你必须在不修改节点内部的值的情况下完成本题（即，只能进行节点交换）。  \n",
    "例如：链表 [1,2,3,4,5] 交换后变为 [2,1,4,3,5] 。"
   ]
  },
  {
   "cell_type": "markdown",
   "id": "8cf7837d",
   "metadata": {},
   "source": [
    "# 方法一：迭代"
   ]
  },
  {
   "cell_type": "markdown",
   "id": "d21caade",
   "metadata": {},
   "source": [
    "> 构造一个虚拟节点指向链表的头节点，构造一个临时变量temp用于交换。  \n",
    "一开始，temp指向虚拟节点。若temp后面没有节点或只有一个节点，说明没有更多需要交换的节点；若temp后面有两个节点，则交换这两个节点，temp指向交换完成后的第二个节点，并继续交换temp.next和temp.next.next。  \n",
    "新链表的头节点为虚拟节点的next节点。"
   ]
  },
  {
   "cell_type": "markdown",
   "id": "2dddf31c",
   "metadata": {},
   "source": [
    "## 复杂度"
   ]
  },
  {
   "cell_type": "markdown",
   "id": "9bf06153",
   "metadata": {},
   "source": [
    "- 时间复杂度: $O(n)$，其中 $n$ 是链表的长度。"
   ]
  },
  {
   "cell_type": "markdown",
   "id": "7789b280",
   "metadata": {},
   "source": [
    "> 需要对每个节点进行更新指针的操作。"
   ]
  },
  {
   "cell_type": "markdown",
   "id": "39b9af87",
   "metadata": {},
   "source": [
    "- 空间复杂度: $O(1)$ 。"
   ]
  },
  {
   "cell_type": "markdown",
   "id": "2bdb3ac0",
   "metadata": {},
   "source": [
    "> 使用三个指针的存储空间。"
   ]
  },
  {
   "cell_type": "markdown",
   "id": "c90e9e12",
   "metadata": {},
   "source": [
    "## 代码"
   ]
  },
  {
   "cell_type": "code",
   "execution_count": 1,
   "id": "b82eba11",
   "metadata": {},
   "outputs": [],
   "source": [
    "# 用于构造链表节点的类\n",
    "class Node:\n",
    "    def __init__(self, value):\n",
    "        self.value = value\n",
    "        self.next = None\n",
    "\n",
    "# 用于构造链表的类\n",
    "class LinkedList:\n",
    "    def __init__(self, head_value=None):\n",
    "        if head_value is not None:\n",
    "            self.head = Node(head_value)\n",
    "        else:\n",
    "            self.head = None\n",
    "\n",
    "    def append_to_tail(self, value):\n",
    "        if self.head is None:\n",
    "            self.head = Node(value)\n",
    "            return\n",
    "\n",
    "        current_node = self.head\n",
    "        while current_node.next is not None:\n",
    "            current_node = current_node.next\n",
    "\n",
    "        current_node.next = Node(value)\n",
    "\n",
    "# 输入一个列表，输出以列表元素组成的链表\n",
    "def create_linked_list_from_list(input_list):\n",
    "    linked_list = LinkedList(input_list[0])\n",
    "    for i in range(1, len(input_list)):\n",
    "        linked_list.append_to_tail(input_list[i])\n",
    "    return linked_list"
   ]
  },
  {
   "cell_type": "code",
   "execution_count": 2,
   "id": "7c3dcc3e",
   "metadata": {},
   "outputs": [],
   "source": [
    "def swapPairs(head):\n",
    "    dummyHead = Node(0)\n",
    "    dummyHead.next = head\n",
    "    temp = dummyHead\n",
    "    while temp.next and temp.next.next:\n",
    "        node1 = temp.next\n",
    "        node2 = temp.next.next\n",
    "        \n",
    "        # 开始交换\n",
    "        temp.next = node2  # 临时变量指向node2\n",
    "        node1.next = node2.next  # node1指向node2的下一个节点\n",
    "        node2.next = node1  # node2指向node1，完成交换\n",
    "        \n",
    "        temp = node1  # 临时变量变为node1，临时变量是要交换的两个节点的前置节点\n",
    "    \n",
    "    return dummyHead.next"
   ]
  },
  {
   "cell_type": "markdown",
   "id": "6494fb20",
   "metadata": {},
   "source": [
    "#### 测试一"
   ]
  },
  {
   "cell_type": "code",
   "execution_count": 3,
   "id": "06b0f56a",
   "metadata": {},
   "outputs": [
    {
     "name": "stdout",
     "output_type": "stream",
     "text": [
      "2 1 4 3 5\n"
     ]
    }
   ],
   "source": [
    "input_list = [1,2,3,4,5]\n",
    "# 头节点\n",
    "head = create_linked_list_from_list(input_list).head\n",
    "newhead = swapPairs(head)\n",
    "print(newhead.value, newhead.next.value, newhead.next.next.value, newhead.next.next.next.value, newhead.next.next.next.next.value)"
   ]
  },
  {
   "cell_type": "code",
   "execution_count": null,
   "id": "393c5e23",
   "metadata": {},
   "outputs": [],
   "source": []
  }
 ],
 "metadata": {
  "kernelspec": {
   "display_name": "Python 3",
   "language": "python",
   "name": "python3"
  },
  "language_info": {
   "codemirror_mode": {
    "name": "ipython",
    "version": 3
   },
   "file_extension": ".py",
   "mimetype": "text/x-python",
   "name": "python",
   "nbconvert_exporter": "python",
   "pygments_lexer": "ipython3",
   "version": "3.7.4"
  }
 },
 "nbformat": 4,
 "nbformat_minor": 5
}
