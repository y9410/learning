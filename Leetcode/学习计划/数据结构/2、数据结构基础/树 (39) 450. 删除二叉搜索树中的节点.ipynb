{
 "cells": [
  {
   "cell_type": "markdown",
   "id": "46619423",
   "metadata": {},
   "source": [
    "# 题目"
   ]
  },
  {
   "cell_type": "markdown",
   "id": "23bbee62",
   "metadata": {},
   "source": [
    "> 给定一个二叉搜索树的根节点 `root` 和一个值 `key` ，删除二叉搜索树中的 `key` 对应的节点，并保证二叉搜索树的性质不变。返回二叉搜索树（有可能被更新）的根节点的引用。  \n",
    "一般来说，删除节点可分为两个步骤：首先找到需要删除的节点；如果找到了，删除它。"
   ]
  },
  {
   "cell_type": "markdown",
   "id": "15cb4bcd",
   "metadata": {},
   "source": [
    "# 方法一：迭代"
   ]
  },
  {
   "cell_type": "markdown",
   "id": "ce99fb96",
   "metadata": {},
   "source": [
    "> 二叉搜索树有以下性质：  \n",
    "1. 左子树的所有节点（如果有）的值均小于当前节点的值；\n",
    "2. 右子树的所有节点（如果有）的值均大于当前节点的值；\n",
    "3. 左子树和右子树均为二叉搜索树。  \n",
    "\n",
    "> 先找到待删除节点，然后根据待删除节点子树的情况进行相应处理（见代码）。  \n",
    "在寻找待删除节点的过程中，记录当前节点的父节点，以便后续处理。"
   ]
  },
  {
   "cell_type": "markdown",
   "id": "ae525f3d",
   "metadata": {},
   "source": [
    "## 复杂度"
   ]
  },
  {
   "cell_type": "markdown",
   "id": "b8d4b8b6",
   "metadata": {},
   "source": [
    "- 时间复杂度: $O(n)$ ，其中 $n$ 是树中的节点个数。"
   ]
  },
  {
   "cell_type": "markdown",
   "id": "fa4aa4a3",
   "metadata": {},
   "source": [
    "> 最差情况下，需要遍历一次树。"
   ]
  },
  {
   "cell_type": "markdown",
   "id": "c2c77736",
   "metadata": {},
   "source": [
    "- 空间复杂度: $O(1)$ 。"
   ]
  },
  {
   "cell_type": "markdown",
   "id": "7b931064",
   "metadata": {},
   "source": [
    "> 使用的空间为常数。"
   ]
  },
  {
   "cell_type": "markdown",
   "id": "8052a93d",
   "metadata": {},
   "source": [
    "## 代码"
   ]
  },
  {
   "cell_type": "code",
   "execution_count": 1,
   "id": "25a9bd3e",
   "metadata": {},
   "outputs": [],
   "source": [
    "class TreeNode:\n",
    "    def __init__(self, val=0, left=None, right=None):\n",
    "        self.val = val\n",
    "        self.left = left\n",
    "        self.right = right"
   ]
  },
  {
   "cell_type": "code",
   "execution_count": 2,
   "id": "bc416d0d",
   "metadata": {},
   "outputs": [],
   "source": [
    "def deleteNode(root, key):\n",
    "    cur, curParent = root, None  # 记录当前节点与其父节点\n",
    "    # 搜索节点\n",
    "    while cur and cur.val != key:\n",
    "        curParent = cur\n",
    "        cur = cur.left if cur.val > key else cur.right\n",
    "    # 情况1：节点不存在，直接返回根节点\n",
    "    if cur is None:\n",
    "        return root\n",
    "    # 情况2：节点为叶子节点，直接删除该节点\n",
    "    if cur.left is None and cur.right is None:\n",
    "        cur = None\n",
    "    # 情况3：节点只有左子树，将节点删除并其左子节点替代\n",
    "    elif cur.right is None:\n",
    "        cur = cur.left\n",
    "    # 情况4：节点只有右子树，将节点删除并其右子节点替代\n",
    "    elif cur.left is None:\n",
    "        cur = cur.right\n",
    "    # 情况5：节点有左右子树\n",
    "    else:\n",
    "        successor, successorParent = cur.right, cur  # 从右子树中寻找待删除节点的后继节点并记录后继节点的父节点\n",
    "        # 1、找到待删除节点右子节点的左子树中的最左节点，即为后继节点（若右子节点没有左子树，则右子节点即为后继节点）\n",
    "        while successor.left:\n",
    "            successorParent = successor\n",
    "            successor = successor.left\n",
    "        # 2、删除后继节点\n",
    "        if successorParent.val == cur.val:  # 如果后继节点的父节点就是待删除节点（说明待删除节点的右子节点没有左子树）\n",
    "            successorParent.right = successor.right  # 直接将待删除节点的右子节点设置为后继节点的右子节点\n",
    "        else:  # 若待删除节点右子节点有左子树\n",
    "            successorParent.left = successor.right  #将后继节点的父节点的左子节点设置为后继节点的右子节点\n",
    "        # 3、用后继节点替代待删除节点\n",
    "        successor.right = cur.right\n",
    "        successor.left = cur.left\n",
    "        cur = successor\n",
    "    # 如果删除的节点就是根节点\n",
    "    if curParent is None:\n",
    "        return cur  # 直接返回当前节点\n",
    "    # 若被删除节点是其父节点的左子节点，则将其左子树的根节点（已处理好的cur）作为左子节点\n",
    "    if curParent.left and curParent.left.val == key:\n",
    "        curParent.left = cur\n",
    "    # 若被删除节点是其父节点的右子节点，则将其右子树的根节点（已处理好的cur）作为右子节点\n",
    "    else:\n",
    "        curParent.right = cur\n",
    "    return root"
   ]
  },
  {
   "cell_type": "markdown",
   "id": "97273ef2",
   "metadata": {},
   "source": [
    "#### 测试一"
   ]
  },
  {
   "cell_type": "code",
   "execution_count": 3,
   "id": "2637ad8f",
   "metadata": {},
   "outputs": [
    {
     "name": "stdout",
     "output_type": "stream",
     "text": [
      "5 4 6 2 7\n"
     ]
    }
   ],
   "source": [
    "root = TreeNode(5)\n",
    "l1 = TreeNode(3)\n",
    "l2 = TreeNode(2)\n",
    "l3 = TreeNode(4)\n",
    "r1 = TreeNode(6)\n",
    "r2 = TreeNode(7)\n",
    "root.left = l1\n",
    "root.right = r1\n",
    "l1.left = l2\n",
    "l1.right = l3\n",
    "r1.right = r2\n",
    "key = 3\n",
    "\n",
    "newroot = deleteNode(root, key)\n",
    "print(newroot.val, newroot.left.val, newroot.right.val, newroot.left.left.val, newroot.right.right.val)"
   ]
  },
  {
   "cell_type": "code",
   "execution_count": null,
   "id": "0e9ba71f",
   "metadata": {},
   "outputs": [],
   "source": []
  }
 ],
 "metadata": {
  "kernelspec": {
   "display_name": "Python 3",
   "language": "python",
   "name": "python3"
  },
  "language_info": {
   "codemirror_mode": {
    "name": "ipython",
    "version": 3
   },
   "file_extension": ".py",
   "mimetype": "text/x-python",
   "name": "python",
   "nbconvert_exporter": "python",
   "pygments_lexer": "ipython3",
   "version": "3.7.4"
  }
 },
 "nbformat": 4,
 "nbformat_minor": 5
}
