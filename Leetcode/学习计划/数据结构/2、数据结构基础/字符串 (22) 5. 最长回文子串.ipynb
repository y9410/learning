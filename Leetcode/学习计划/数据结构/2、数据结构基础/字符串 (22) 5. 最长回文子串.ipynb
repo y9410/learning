{
 "cells": [
  {
   "cell_type": "markdown",
   "id": "106fe742",
   "metadata": {},
   "source": [
    "# 题目"
   ]
  },
  {
   "cell_type": "markdown",
   "id": "65359b93",
   "metadata": {},
   "source": [
    "> 给你一个字符串 `s` ，找到 `s` 中最长的回文子串。  \n",
    "如果字符串的反序与原始字符串相同，则该字符串称为回文字符串。"
   ]
  },
  {
   "cell_type": "markdown",
   "id": "b0aef0a0",
   "metadata": {},
   "source": [
    "# 方法一：动态规划"
   ]
  },
  {
   "cell_type": "markdown",
   "id": "ce3c6c69",
   "metadata": {},
   "source": [
    "> 若一个字符串是回文串，则去掉其首位两个字符后仍为回文串。因此，设 $s[i,j]$ 为字符串 `s` 中第i位到第j位组成的子串。  \n",
    "只有当 $s[i+1:j−1]$ 是回文串，并且s的第i和j个字母相同时， $s[i:j]$ 才会是回文串。  \n",
    "基础情况为：长度为1的子串 $s[i,i]$ 必为回文串，长度为2的子串 $s[i,j]$ 在两个字母相同时为回文串。"
   ]
  },
  {
   "cell_type": "markdown",
   "id": "3364b935",
   "metadata": {},
   "source": [
    "## 复杂度"
   ]
  },
  {
   "cell_type": "markdown",
   "id": "8b546211",
   "metadata": {},
   "source": [
    "- 时间复杂度: $O(n^2)$，其中 $n$ 是字符串 `s` 的长度。"
   ]
  },
  {
   "cell_type": "markdown",
   "id": "e2e139ec",
   "metadata": {},
   "source": [
    "> 动态规划的状态总数为 $O(n^2)$ ，对于每个状态，我们需要转移的时间为 $O(1)$ 。"
   ]
  },
  {
   "cell_type": "markdown",
   "id": "13d32fd2",
   "metadata": {},
   "source": [
    "- 空间复杂度: $O(n^2)$，其中 $n$ 是字符串 `s` 的长度。"
   ]
  },
  {
   "cell_type": "markdown",
   "id": "76fd1e15",
   "metadata": {},
   "source": [
    "> 存储动态规划状态需要的空间。"
   ]
  },
  {
   "cell_type": "markdown",
   "id": "da4e4263",
   "metadata": {},
   "source": [
    "## 代码"
   ]
  },
  {
   "cell_type": "code",
   "execution_count": 1,
   "id": "8a04417b",
   "metadata": {},
   "outputs": [],
   "source": [
    "def longestPalindrome(s):\n",
    "    n = len(s)\n",
    "    if n < 2:\n",
    "        return s\n",
    "    \n",
    "    max_len = 1\n",
    "    begin = 0\n",
    "    # dp[i][j] 表示 s[i..j] 是否是回文串\n",
    "    dp = [[False] * n for _ in range(n)]  # 创建一个n×n的列表\n",
    "    for i in range(n):\n",
    "        dp[i][i] = True  # 所有长度为1的子串都为回文串，设为True\n",
    "    \n",
    "    # 递推开始\n",
    "    # 先枚举子串长度\n",
    "    for L in range(2, n + 1):  # L代表子串长度，至少为2，至多为n\n",
    "        # 枚举左边界，左边界的上限设置可以宽松一些\n",
    "        for i in range(n):\n",
    "            # 由 L 和 i 可以确定右边界，即 j - i + 1 = L 得\n",
    "            j = L + i - 1\n",
    "            # 如果右边界越界，就可以退出当前循环\n",
    "            if j >= n:\n",
    "                break\n",
    "                \n",
    "            if s[i] != s[j]:\n",
    "                dp[i][j] = False  # 若左右边界位置的字母不等，则s[i,j]不是回文串\n",
    "            else:\n",
    "                if j - i < 3:\n",
    "                    dp[i][j] = True  # 若左右边界位置的字母相等，且s[i,j]长度小于4，则s[i,j],是回文串\n",
    "                else:\n",
    "                    dp[i][j] = dp[i + 1][j - 1]  # 若左右边界位置的字母相等，且s[i,j]长度大于等于4，则需要判断s[i + 1,j - 1]的情况\n",
    "            \n",
    "            # 只要 dp[i][j] == true 成立，就表示子串 s[i.j] 是回文，此时记录回文长度和起始位置\n",
    "            if dp[i][j] and j - i + 1 > max_len:\n",
    "                max_len = j - i + 1\n",
    "                begin = i\n",
    "    return s[begin:begin + max_len]"
   ]
  },
  {
   "cell_type": "markdown",
   "id": "88f63a24",
   "metadata": {},
   "source": [
    "#### 测试一"
   ]
  },
  {
   "cell_type": "code",
   "execution_count": 2,
   "id": "c46db5e6",
   "metadata": {},
   "outputs": [],
   "source": [
    "s = \"babad\"\n",
    "longestPalindrome(s)"
   ]
  },
  {
   "cell_type": "markdown",
   "id": "097096d7",
   "metadata": {},
   "source": [
    "#### 测试二"
   ]
  },
  {
   "cell_type": "code",
   "execution_count": 3,
   "id": "076b622a",
   "metadata": {},
   "outputs": [],
   "source": [
    "s = \"cbbd\"\n",
    "longestPalindrome(s)"
   ]
  },
  {
   "cell_type": "markdown",
   "id": "3d0baacf",
   "metadata": {},
   "source": [
    "# 方法二：中心扩展算法"
   ]
  },
  {
   "cell_type": "markdown",
   "id": "6452f62f",
   "metadata": {},
   "source": [
    "> 在动态规划中， $n^2$ 种状态都是通过边界情况转移得到的，边界情况即为子串长度为1或2的情况。  \n",
    "因此可以枚举每种边界情况并不断向外扩展，直至两边字母不同，记录最大长度和回文中心的位置，选出其中长度最大的回文子串。"
   ]
  },
  {
   "cell_type": "markdown",
   "id": "a41eb51f",
   "metadata": {},
   "source": [
    "## 复杂度"
   ]
  },
  {
   "cell_type": "markdown",
   "id": "3c300284",
   "metadata": {},
   "source": [
    "- 时间复杂度: $O(n^2)$，其中 $n$ 是字符串 `s` 的长度。"
   ]
  },
  {
   "cell_type": "markdown",
   "id": "ba783651",
   "metadata": {},
   "source": [
    "> 动态规划的状态总数为 $O(n^2)$ ，对于每个状态，我们需要转移的时间为 $O(1)$ 。"
   ]
  },
  {
   "cell_type": "markdown",
   "id": "0ae10dc7",
   "metadata": {},
   "source": [
    "- 空间复杂度: $O(1)$ 。"
   ]
  },
  {
   "cell_type": "markdown",
   "id": "7cf745d7",
   "metadata": {},
   "source": [
    "> 每次枚举时只需要记录最大长度和回文中心的位置。"
   ]
  },
  {
   "cell_type": "markdown",
   "id": "f21bab14",
   "metadata": {},
   "source": [
    "# 方法三：Manacher 算法"
   ]
  },
  {
   "cell_type": "markdown",
   "id": "f6f0ece3",
   "metadata": {},
   "source": [
    "> Manacher算法是中心扩展算法的进阶版，该算法引入新的概念：臂长length。假设一个回文中心的最大回文串长度为L，则L=2×length+1。在对新的位置i进行中心扩展时，可以利用之前以扩展的所有点的臂长信息。  \n",
    "对于一个点j，假设其臂长为length，且有j+length>i，如下所示：  \n",
    "e b **a** b **a** b **a** b e  \n",
    "其中，回文中心j对应着第五个字母a，新的回文中心i对应第七个字母a，j的臂长为4。j+length>i表示i位于j的右臂长范围之内。  \n",
    "此时，可以找到i关于j的对称点2×j-i，即第三个字母a，该回文中心的臂长为n=1。  \n",
    "利用这些信息可以推断，回文中心i的臂长至少为min(j+length-i,n)，因此在扩展i时可以跳过这个最小臂长。  \n",
    "其中，j+length-i表示i到以j为中心的最大回文串的最右端点。min(j+length-i,n)表示：i左右相邻的若干字母的对称情况应该与其对称点2×j-i相似，但相似的长度不能超过j为中心的最大回文串覆盖的范围，因为若超过了，则不能保证i与其对称点的相邻点是一一对应的。例如，若j+length-i=1<n=2，则只能保证点i的左右各一个点是对称的，再向外扩展时超出了j的臂长范围，则不一定是回文串（因为点i向右两个点i+2和对称点2×j-i向左两个点2×j-i-2不相等）。  \n",
    "**只需要在中心扩展法的过程中记录右臂在最右边的回文字符串，将其中心作为j，在计算过程中就能最大限度地避免重复计算。**  \n",
    "可以通过一个特别的操作将奇偶数的情况统一起来：我们向字符串的头尾以及每两个字符中间添加一个特殊字符 `#` ，比如字符串 `aaba` 处理后会变成 `#a#a#b#a#` 。那么原先长度为偶数的回文字符串 `aa` 会变成长度为奇数的回文字符串 `#a#a#` ，而长度为奇数的回文字符串 `aba` 会变成长度仍然为奇数的回文字符串 `#a#b#a#` ，我们就不需要再考虑长度为偶数的回文字符串了。  \n",
    "注意这里的特殊字符不需要是没有出现过的字母，我们可以使用任何一个字符来作为这个特殊字符。这是因为，当我们只考虑长度为奇数的回文字符串时，每次我们比较的两个字符奇偶性一定是相同的，所以原来字符串中的字符不会与插入的特殊字符互相比较，不会因此产生问题。"
   ]
  },
  {
   "cell_type": "markdown",
   "id": "5c086c30",
   "metadata": {},
   "source": [
    "## 复杂度"
   ]
  },
  {
   "cell_type": "markdown",
   "id": "63d6842d",
   "metadata": {},
   "source": [
    "- 时间复杂度: $O(n)$，其中 $n$ 是字符串 `s` 的长度。"
   ]
  },
  {
   "cell_type": "markdown",
   "id": "99f69c64",
   "metadata": {},
   "source": [
    "> 对于每个位置，扩展要么从当前的最右侧臂长 `right` 开始，要么只会进行一步（因为已有的信息已经帮助其略过重复的步骤），而 `right` 最多向右走 $O(n)$ 步，因此算法的复杂度为 $O(n)$ 。"
   ]
  },
  {
   "cell_type": "markdown",
   "id": "6504ff6f",
   "metadata": {},
   "source": [
    "- 空间复杂度: $O(n)$，其中 $n$ 是字符串 `s` 的长度。"
   ]
  },
  {
   "cell_type": "markdown",
   "id": "d48c43b8",
   "metadata": {},
   "source": [
    "> 需要 $O(n)$ 的空间记录每个位置的臂长。"
   ]
  },
  {
   "cell_type": "markdown",
   "id": "94e4b313",
   "metadata": {},
   "source": [
    "## 代码"
   ]
  },
  {
   "cell_type": "code",
   "execution_count": 4,
   "id": "a693e412",
   "metadata": {},
   "outputs": [],
   "source": [
    "# 用于扩展回文串\n",
    "def expand(s, left, right):\n",
    "    while left >= 0 and right < len(s) and s[left] == s[right]:  # 若回文串左右端点都没有超过字符串的边界且彼此相等\n",
    "        # 将左右端点向外扩展，直至左右端点不等\n",
    "        left -= 1\n",
    "        right += 1\n",
    "    return (right - left - 2) // 2  # 返回当前回文中心的臂长\n",
    "\n",
    "def longestPalindrome(s):\n",
    "    end, start = -1, 0  # 分别记录最长回文串的右端点和左端点\n",
    "    s = '#' + '#'.join(list(s)) + '#'  # 加入特殊字符处理偶数长度的回文串\n",
    "    arm_len = []  # 记录每个回文中心的臂长\n",
    "    right = -1  # 前一个回文中心的右端点\n",
    "    j = -1  # 前一个回文中心\n",
    "    for i in range(len(s)):\n",
    "        \n",
    "        if right >= i:  # 若i的位置仍在上一个回文中心j的臂长范围之内，则可以快速计算i的臂长\n",
    "            i_sym = 2 * j - i\n",
    "            min_arm_len = min(arm_len[i_sym], right - i)\n",
    "            cur_arm_len = expand(s, i - min_arm_len, i + min_arm_len)\n",
    "        else:  # 若i的位置在上一个回文中心j的臂长范围之外，则只能从回文中心开始计算臂长\n",
    "            cur_arm_len = expand(s, i, i)\n",
    "        \n",
    "        arm_len.append(cur_arm_len)  #记录当前回文中心i的臂长\n",
    "        \n",
    "        if i + cur_arm_len > right:  # 若当前回文中心i的回文串右端点已超过上一个右端点，则需要更新right值\n",
    "            j = i  # j表示前一个回文中心\n",
    "            right = i + cur_arm_len  # 将right值更新为当前点的回文串右端点\n",
    "        if 2 * cur_arm_len + 1 > end - start:  # 若当前回文串的长度大于最大回文串的长度，则更新end和start\n",
    "            start = i - cur_arm_len\n",
    "            end = i + cur_arm_len\n",
    "    return s[start+1:end+1:2]  # 返回最长回文串，注意要跳过“#”"
   ]
  },
  {
   "cell_type": "markdown",
   "id": "189beb19",
   "metadata": {},
   "source": [
    "#### 测试一"
   ]
  },
  {
   "cell_type": "code",
   "execution_count": 5,
   "id": "e12aaade",
   "metadata": {},
   "outputs": [],
   "source": [
    "s = \"babad\"\n",
    "longestPalindrome(s)"
   ]
  },
  {
   "cell_type": "markdown",
   "id": "ad561a67",
   "metadata": {},
   "source": [
    "#### 测试二"
   ]
  },
  {
   "cell_type": "code",
   "execution_count": 6,
   "id": "cba69b0a",
   "metadata": {},
   "outputs": [],
   "source": [
    "s = \"cbbd\"\n",
    "longestPalindrome(s)"
   ]
  },
  {
   "cell_type": "code",
   "execution_count": null,
   "id": "5587057f",
   "metadata": {},
   "outputs": [],
   "source": []
  }
 ],
 "metadata": {
  "kernelspec": {
   "display_name": "Python 3",
   "language": "python",
   "name": "python3"
  },
  "language_info": {
   "codemirror_mode": {
    "name": "ipython",
    "version": 3
   },
   "file_extension": ".py",
   "mimetype": "text/x-python",
   "name": "python",
   "nbconvert_exporter": "python",
   "pygments_lexer": "ipython3",
   "version": "3.7.4"
  }
 },
 "nbformat": 4,
 "nbformat_minor": 5
}
