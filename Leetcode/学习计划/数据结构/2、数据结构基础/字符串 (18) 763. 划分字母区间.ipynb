{
 "cells": [
  {
   "cell_type": "markdown",
   "id": "13615376",
   "metadata": {},
   "source": [
    "# 题目"
   ]
  },
  {
   "cell_type": "markdown",
   "id": "9c5a63cc",
   "metadata": {},
   "source": [
    "> 给你一个字符串 `s` 。我们要把这个字符串划分为尽可能多的片段，同一字母最多出现在一个片段中。  \n",
    "注意，划分结果需要满足：将所有划分结果按顺序连接，得到的字符串仍然是 `s` 。  \n",
    "返回一个表示每个字符串片段的长度的列表。  \n",
    "字符串 `s` 中只有小写字母。"
   ]
  },
  {
   "cell_type": "markdown",
   "id": "0932d902",
   "metadata": {},
   "source": [
    "# 方法一：贪心"
   ]
  },
  {
   "cell_type": "markdown",
   "id": "4782b0d3",
   "metadata": {},
   "source": [
    "> 对于一个满足条件的片段，其中的每个字符的起始和终止位置都在片段所覆盖的区间内。  \n",
    "因此，遍历两次字符串 `s` 。第一次，记录每个字符的终止位置。  \n",
    "第二次遍历时，用两个变量 `start` 和 `end` 代表当前片段的启示和终止位置，两变量初始为0。为了保证每个片段都是符合条件的最短片段，因此对于遍历到的每个字符，比较它的终止位置和当前片段的终止位置，选择其中较大者作为当前片段的新终止位置，若遍历的当前位置恰好为当前片段的终止位置，则说明该片段构建完毕，进入新的片段并重复上述过程直至字符串 `s` 遍历完成。"
   ]
  },
  {
   "cell_type": "markdown",
   "id": "5dbc6374",
   "metadata": {},
   "source": [
    "## 复杂度"
   ]
  },
  {
   "cell_type": "markdown",
   "id": "e6b04a82",
   "metadata": {},
   "source": [
    "- 时间复杂度: $O(n+m)$ ，其中 $n,m$ 分别是模式和字符串的长度。"
   ]
  },
  {
   "cell_type": "markdown",
   "id": "da9fd72a",
   "metadata": {},
   "source": [
    "> 插入和查询哈希表的均摊时间复杂度均为 $O(n+m)$ 。每一个字符至多只被遍历一次。"
   ]
  },
  {
   "cell_type": "markdown",
   "id": "216af1e3",
   "metadata": {},
   "source": [
    "- 空间复杂度: $O(n+m)$ ，其中 $n,m$ 分别是模式和字符串的长度。"
   ]
  },
  {
   "cell_type": "markdown",
   "id": "8558018b",
   "metadata": {},
   "source": [
    "> 最坏情况下，我们需要存储模式和字符串中的每一个字符。"
   ]
  },
  {
   "cell_type": "markdown",
   "id": "b09598b2",
   "metadata": {},
   "source": [
    "## 代码"
   ]
  },
  {
   "cell_type": "code",
   "execution_count": 1,
   "id": "cf46cc86",
   "metadata": {},
   "outputs": [],
   "source": [
    "def partitionLabels(s):\n",
    "    last = [0] * 26  # 一个用于记录各个字符最后一次出现位置的列表\n",
    "    for i, ch in enumerate(s):\n",
    "        last[ord(ch) - ord(\"a\")] = i  # 列表对应字母的位置为字符串中字母最后出现的位置\n",
    "    \n",
    "    partition = list()\n",
    "    start = end = 0  # start记录每个片段的起始位置，end记录每个片段的终止位置\n",
    "    for i, ch in enumerate(s):  # 再次遍历字符串\n",
    "        # 对于遍历到的每个字符，该字符所在的片段的终止位置为当前的终止位置或该字符最后出现的位置中的较大值\n",
    "        end = max(end, last[ord(ch) - ord(\"a\")])\n",
    "        # 若遍历到的位置恰好等于终止位置，说明该片段中的所有字符的最后出现位置都等于终止位置或在之前，这是一个符合条件的最小片段\n",
    "        if i == end:\n",
    "            partition.append(end - start + 1)\n",
    "            start = end + 1  # 更新起始位置，进入新的片段\n",
    "    \n",
    "    return partition"
   ]
  },
  {
   "cell_type": "markdown",
   "id": "7e4060d5",
   "metadata": {},
   "source": [
    "#### 测试一"
   ]
  },
  {
   "cell_type": "code",
   "execution_count": 2,
   "id": "5f64475b",
   "metadata": {},
   "outputs": [],
   "source": [
    "s = \"ababcbacadefegdehijhklij\"\n",
    "partitionLabels(s)"
   ]
  },
  {
   "cell_type": "markdown",
   "id": "381c4fb5",
   "metadata": {},
   "source": [
    "#### 测试二"
   ]
  },
  {
   "cell_type": "code",
   "execution_count": 3,
   "id": "96730164",
   "metadata": {},
   "outputs": [],
   "source": [
    "s = \"eccbbbbdec\"\n",
    "partitionLabels(s)"
   ]
  },
  {
   "cell_type": "code",
   "execution_count": null,
   "id": "8b82693d",
   "metadata": {},
   "outputs": [],
   "source": []
  }
 ],
 "metadata": {
  "kernelspec": {
   "display_name": "Python 3",
   "language": "python",
   "name": "python3"
  },
  "language_info": {
   "codemirror_mode": {
    "name": "ipython",
    "version": 3
   },
   "file_extension": ".py",
   "mimetype": "text/x-python",
   "name": "python",
   "nbconvert_exporter": "python",
   "pygments_lexer": "ipython3",
   "version": "3.7.4"
  }
 },
 "nbformat": 4,
 "nbformat_minor": 5
}
