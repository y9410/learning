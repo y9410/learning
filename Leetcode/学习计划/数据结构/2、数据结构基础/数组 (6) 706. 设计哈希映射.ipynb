{
 "cells": [
  {
   "cell_type": "markdown",
   "id": "d8d0e532",
   "metadata": {},
   "source": [
    "# 题目"
   ]
  },
  {
   "cell_type": "markdown",
   "id": "7d771ebd",
   "metadata": {},
   "source": [
    "> 不使用任何内建的哈希表库设计一个哈希映射（HashMap）。  \n",
    "实现 `MyHashMap` 类：  \n",
    "1、 `MyHashMap()` 用空映射初始化对象；  \n",
    "2、 `void put(int key, int value)` 向 `HashMap` 插入一个键值对 `(key, value)` ，如果 `key` 已经存在于映射中，则更新其对应的值 `value` ；  \n",
    "3、 `int get(int key)` 返回特定的 `key` 所映射的 `value` ，如果映射中不包含 `key` 的映射，返回 `-1` ；  \n",
    "4、 `void remove(key)` 如果映射中存在 `key` 的映射，则移除 `key` 和它所对应的 `value` ；"
   ]
  },
  {
   "cell_type": "markdown",
   "id": "819dd678",
   "metadata": {},
   "source": [
    "# 方法一：不定长链表数组"
   ]
  },
  {
   "cell_type": "markdown",
   "id": "9418b43d",
   "metadata": {},
   "source": [
    "> 定义一个 size 为 sqrt(key取值范围) 的大列表，其元素为不定长小列表，根据取余算法为每个键值对分配位置，余数相同的键值对通过链表进行储存，小列表中储存 key%size 相同的键值对。  \n",
    "这种方法下，每个拉链的长度是动态变化的，不用预先分配内存，但查找元素时需要遍历。"
   ]
  },
  {
   "cell_type": "markdown",
   "id": "e9a3bde2",
   "metadata": {},
   "source": [
    "## 复杂度"
   ]
  },
  {
   "cell_type": "markdown",
   "id": "6590d25e",
   "metadata": {},
   "source": [
    "- 时间复杂度: $O(N/b)$ ，其中 $N$ 为键值对的个数， $b$ 为链表的数量。"
   ]
  },
  {
   "cell_type": "markdown",
   "id": "461bedde",
   "metadata": {},
   "source": [
    "- 空间复杂度: $O(N)$ ，其中 $N$ 为键值对的个数。"
   ]
  },
  {
   "cell_type": "markdown",
   "id": "3bc3b7cd",
   "metadata": {},
   "source": [
    "> 查找键值对时需要遍历。"
   ]
  },
  {
   "cell_type": "markdown",
   "id": "2aef50f8",
   "metadata": {},
   "source": [
    "## 代码"
   ]
  },
  {
   "cell_type": "code",
   "execution_count": 1,
   "id": "032c0dbb",
   "metadata": {},
   "outputs": [],
   "source": [
    "class MyHashMap:\n",
    "\n",
    "    def __init__(self):\n",
    "        self.buckets = 1009 #题目中key的范围是0到10^6=1000×1000，1009是1000后的第一个质数\n",
    "        self.table = [[] for _ in range(self.buckets)]\n",
    "\n",
    "    def hash(self, key):\n",
    "        return key % self.buckets\n",
    "    \n",
    "    def put(self, key, value):\n",
    "        hashkey = self.hash(key)\n",
    "        #根据余数找到对应的插入位置，对相应位置的那个列表进行遍历，若已有相同的键，则改变其对应值\n",
    "        for item in self.table[hashkey]:\n",
    "            if item[0] == key:\n",
    "                item[1] = value\n",
    "                return\n",
    "        self.table[hashkey].append([key, value]) #若没有相同键，则新加一个键值对\n",
    "\n",
    "    def get(self, key):\n",
    "        hashkey = self.hash(key)\n",
    "        for item in self.table[hashkey]:\n",
    "            if item[0] == key:\n",
    "                return item[1]\n",
    "        return -1 #未找到\n",
    "\n",
    "    def remove(self, key):\n",
    "        hashkey = self.hash(key)\n",
    "        for i, item in enumerate(self.table[hashkey]): #i是每个列表对应的索引，item是所有余数为hashkey的列表\n",
    "            if item[0] == key:\n",
    "                self.table[hashkey].pop(i) #删除对应索引的键值对\n",
    "                return"
   ]
  },
  {
   "cell_type": "markdown",
   "id": "fe89cc49",
   "metadata": {},
   "source": [
    "#### 测试一"
   ]
  },
  {
   "cell_type": "code",
   "execution_count": 2,
   "id": "5a18793d",
   "metadata": {},
   "outputs": [],
   "source": [
    "myHashMap = MyHashMap()"
   ]
  },
  {
   "cell_type": "code",
   "execution_count": 3,
   "id": "e2465304",
   "metadata": {},
   "outputs": [],
   "source": [
    "myHashMap.put(1, 1)"
   ]
  },
  {
   "cell_type": "code",
   "execution_count": 4,
   "id": "138c1039",
   "metadata": {},
   "outputs": [],
   "source": [
    "myHashMap.put(2, 2)"
   ]
  },
  {
   "cell_type": "code",
   "execution_count": 5,
   "id": "ad0546be",
   "metadata": {},
   "outputs": [
    {
     "data": {
      "text/plain": [
       "1"
      ]
     },
     "execution_count": 5,
     "metadata": {},
     "output_type": "execute_result"
    }
   ],
   "source": [
    "myHashMap.get(1)"
   ]
  },
  {
   "cell_type": "code",
   "execution_count": 6,
   "id": "29868aae",
   "metadata": {},
   "outputs": [
    {
     "data": {
      "text/plain": [
       "-1"
      ]
     },
     "execution_count": 6,
     "metadata": {},
     "output_type": "execute_result"
    }
   ],
   "source": [
    "myHashMap.get(3)"
   ]
  },
  {
   "cell_type": "code",
   "execution_count": 7,
   "id": "04a884d7",
   "metadata": {},
   "outputs": [],
   "source": [
    "myHashMap.put(2, 1)"
   ]
  },
  {
   "cell_type": "code",
   "execution_count": 8,
   "id": "71bab10e",
   "metadata": {},
   "outputs": [
    {
     "data": {
      "text/plain": [
       "1"
      ]
     },
     "execution_count": 8,
     "metadata": {},
     "output_type": "execute_result"
    }
   ],
   "source": [
    "myHashMap.get(2)"
   ]
  },
  {
   "cell_type": "code",
   "execution_count": 9,
   "id": "04888f0d",
   "metadata": {},
   "outputs": [],
   "source": [
    "myHashMap.remove(2)"
   ]
  },
  {
   "cell_type": "code",
   "execution_count": 10,
   "id": "8cfaebde",
   "metadata": {},
   "outputs": [
    {
     "data": {
      "text/plain": [
       "-1"
      ]
     },
     "execution_count": 10,
     "metadata": {},
     "output_type": "execute_result"
    }
   ],
   "source": [
    "myHashMap.get(2)"
   ]
  },
  {
   "cell_type": "code",
   "execution_count": null,
   "id": "67bbcc3a",
   "metadata": {},
   "outputs": [],
   "source": []
  }
 ],
 "metadata": {
  "kernelspec": {
   "display_name": "Python 3",
   "language": "python",
   "name": "python3"
  },
  "language_info": {
   "codemirror_mode": {
    "name": "ipython",
    "version": 3
   },
   "file_extension": ".py",
   "mimetype": "text/x-python",
   "name": "python",
   "nbconvert_exporter": "python",
   "pygments_lexer": "ipython3",
   "version": "3.7.4"
  }
 },
 "nbformat": 4,
 "nbformat_minor": 5
}
