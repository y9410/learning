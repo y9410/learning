{
 "cells": [
  {
   "cell_type": "markdown",
   "id": "a7ed3a99",
   "metadata": {},
   "source": [
    "# 题目"
   ]
  },
  {
   "cell_type": "markdown",
   "id": "8b1c4feb",
   "metadata": {},
   "source": [
    "> 给定一个二叉搜索树的根节点 `root` ，和一个整数 k ，请你设计一个算法查找其中第 k 个最小元素（从 1 开始计数）。"
   ]
  },
  {
   "cell_type": "markdown",
   "id": "7b5ae43f",
   "metadata": {},
   "source": [
    "# 方法一：记录子树的结点数"
   ]
  },
  {
   "cell_type": "markdown",
   "id": "e7442406",
   "metadata": {},
   "source": [
    "> 如果需要频繁地查找第k小的值，通过以下方法优化算法。   \n",
    "根据二叉树，构建一个类，记录二叉树中以每个节点为根节点的子数的节点数量，并使用如下方法搜索目标：  \n",
    "1. 令node等于根节点，开始搜索；\n",
    "2. 根据node节点左子树（左子树的节点值全小于当前节点值）的节点数进行下一步操作（详见代码）。"
   ]
  },
  {
   "cell_type": "markdown",
   "id": "63e090b8",
   "metadata": {},
   "source": [
    "## 复杂度"
   ]
  },
  {
   "cell_type": "markdown",
   "id": "306ac6b2",
   "metadata": {},
   "source": [
    "- 时间复杂度: $O(n)$ ，其中 $n$ 是树中的节点个数。"
   ]
  },
  {
   "cell_type": "markdown",
   "id": "aed801d7",
   "metadata": {},
   "source": [
    "> 我们需要遍历树中所有节点来统计以每个节点为根节点的子树的节点数。搜索的时间复杂度为 $O(H)$ ，其中 $H$ 是树的高度；当树是平衡树时，时间复杂度取得最小值 $O(log⁡n)$ ；当树是线性树时，时间复杂度取得最大值 $O(n)$ 。"
   ]
  },
  {
   "cell_type": "markdown",
   "id": "458e31ef",
   "metadata": {},
   "source": [
    "- 空间复杂度: $O(n)$ ，其中 $n$ 是树中的节点个数。"
   ]
  },
  {
   "cell_type": "markdown",
   "id": "5149e66a",
   "metadata": {},
   "source": [
    "> 用于存储以每个结点为根结点的子树的结点数。"
   ]
  },
  {
   "cell_type": "markdown",
   "id": "f1ac1962",
   "metadata": {},
   "source": [
    "## 代码"
   ]
  },
  {
   "cell_type": "code",
   "execution_count": 1,
   "id": "19469865",
   "metadata": {},
   "outputs": [],
   "source": [
    "class TreeNode:\n",
    "    def __init__(self, val=0, left=None, right=None):\n",
    "        self.val = val\n",
    "        self.left = left\n",
    "        self.right = right"
   ]
  },
  {
   "cell_type": "code",
   "execution_count": 2,
   "id": "2ddc4bc0",
   "metadata": {},
   "outputs": [],
   "source": [
    "class MyBst:\n",
    "    def __init__(self, root):\n",
    "        self.root = root\n",
    "\n",
    "        # 统计以每个结点为根结点的子树的结点数，并存储在哈希表中\n",
    "        self._node_num = {}\n",
    "        self._count_node_num(root)\n",
    "\n",
    "    def kth_smallest(self, k):\n",
    "        \"\"\"返回二叉搜索树中第k小的元素\"\"\"\n",
    "        node = self.root\n",
    "        while node:\n",
    "            left = self._get_node_num(node.left)  # 得到左子树的节点数\n",
    "            # 情况1：左子树的节点数小于k-1，说明第k小的节点在右子树中\n",
    "            if left < k - 1:\n",
    "                node = node.right  # 将当前节点变为右子节点\n",
    "                k -= left + 1  # 目标变为：从右子树中寻找第k-left-1小的节点\n",
    "            # 情况2：左子树的节点数等于k-1，说明第k小的节点就是当前节点\n",
    "            elif left == k - 1:\n",
    "                return node.val\n",
    "            # 情况3：左子树的节点数大于k-1，说明第k小的节点在左子树中\n",
    "            else:\n",
    "                node = node.left  # 将当前节点变为左子节点\n",
    "\n",
    "    def _count_node_num(self, node):\n",
    "        \"\"\"统计以node为根结点的子树的结点数\"\"\"\n",
    "        if not node:  # 基本情况，到达一个叶子节点\n",
    "            return 0\n",
    "        self._node_num[node] = 1 + self._count_node_num(node.left) + self._count_node_num(node.right)  # 递归的计算节点左右子树的节点数\n",
    "        return self._node_num[node]\n",
    "\n",
    "    def _get_node_num(self, node):\n",
    "        \"\"\"获取以node为根结点的子树的结点数\"\"\"\n",
    "        return self._node_num[node] if node is not None else 0\n",
    "\n",
    "\n",
    "def kthSmallest(root, k):\n",
    "    bst = MyBst(root)\n",
    "    return bst.kth_smallest(k)"
   ]
  },
  {
   "cell_type": "markdown",
   "id": "10c22714",
   "metadata": {},
   "source": [
    "#### 测试一"
   ]
  },
  {
   "cell_type": "code",
   "execution_count": 3,
   "id": "f1757ed5",
   "metadata": {},
   "outputs": [
    {
     "data": {
      "text/plain": [
       "4"
      ]
     },
     "execution_count": 3,
     "metadata": {},
     "output_type": "execute_result"
    }
   ],
   "source": [
    "root = TreeNode(5)\n",
    "l1 = TreeNode(3)\n",
    "l2 = TreeNode(2)\n",
    "l3 = TreeNode(4)\n",
    "r1 = TreeNode(6)\n",
    "r2 = TreeNode(7)\n",
    "root.left = l1\n",
    "root.right = r1\n",
    "l1.left = l2\n",
    "l1.right = l3\n",
    "r1.right = r2\n",
    "k = 3\n",
    "\n",
    "kthSmallest(root, k)"
   ]
  },
  {
   "cell_type": "code",
   "execution_count": null,
   "id": "8bbc099d",
   "metadata": {},
   "outputs": [],
   "source": []
  }
 ],
 "metadata": {
  "kernelspec": {
   "display_name": "Python 3",
   "language": "python",
   "name": "python3"
  },
  "language_info": {
   "codemirror_mode": {
    "name": "ipython",
    "version": 3
   },
   "file_extension": ".py",
   "mimetype": "text/x-python",
   "name": "python",
   "nbconvert_exporter": "python",
   "pygments_lexer": "ipython3",
   "version": "3.7.4"
  }
 },
 "nbformat": 4,
 "nbformat_minor": 5
}
