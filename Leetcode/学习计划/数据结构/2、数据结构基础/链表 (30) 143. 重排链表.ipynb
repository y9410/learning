{
 "cells": [
  {
   "cell_type": "markdown",
   "id": "05a1633c",
   "metadata": {},
   "source": [
    "# 题目"
   ]
  },
  {
   "cell_type": "markdown",
   "id": "59b8ae90",
   "metadata": {},
   "source": [
    "> 给定一个单链表 `L` 的头节点 `head` ，单链表 `L` 表示为：  \n",
    "L0→L1→...→Ln-1→Ln  \n",
    "将其重新排列后变为：  \n",
    "L0→Ln→L1→Ln-1→L2→Ln-2→...  \n",
    "不能只是单纯的改变节点内部的值，而是需要实际的进行节点交换。"
   ]
  },
  {
   "cell_type": "markdown",
   "id": "9b9f73da",
   "metadata": {},
   "source": [
    "# 方法一：寻找链表中点 + 链表逆序 + 合并链表"
   ]
  },
  {
   "cell_type": "markdown",
   "id": "444b7f41",
   "metadata": {},
   "source": [
    "> 目标链表即为将原链表的左半端和反转后的右半端交叉合并后的结果。  \n",
    "构造新链表可分为三步：  \n",
    "1. 找到原链表中点；\n",
    "2. 将右半端翻转；\n",
    "3. 将两个子链表交叉合并到一起。"
   ]
  },
  {
   "cell_type": "markdown",
   "id": "74b64533",
   "metadata": {},
   "source": [
    "## 复杂度"
   ]
  },
  {
   "cell_type": "markdown",
   "id": "d4ef8b5a",
   "metadata": {},
   "source": [
    "- 时间复杂度: $O(n)$ ，其中 $n$ 为链表的长度。"
   ]
  },
  {
   "cell_type": "markdown",
   "id": "4eb982e6",
   "metadata": {},
   "source": [
    "> 线性时间。"
   ]
  },
  {
   "cell_type": "markdown",
   "id": "f31ef6a8",
   "metadata": {},
   "source": [
    "- 空间复杂度: $O(1)$ 。"
   ]
  },
  {
   "cell_type": "markdown",
   "id": "70201a2d",
   "metadata": {},
   "source": [
    "> 只需要创建常数个变量。"
   ]
  },
  {
   "cell_type": "markdown",
   "id": "9fa4660f",
   "metadata": {},
   "source": [
    "## 代码"
   ]
  },
  {
   "cell_type": "code",
   "execution_count": 1,
   "id": "b8d7c9ad",
   "metadata": {},
   "outputs": [],
   "source": [
    "class ListNode:\n",
    "    def __init__(self, val=0, next=None):\n",
    "        self.val = val\n",
    "        self.next = next"
   ]
  },
  {
   "cell_type": "code",
   "execution_count": 2,
   "id": "2f0cc783",
   "metadata": {},
   "outputs": [],
   "source": [
    "# 寻找链表的中点\n",
    "def middleNode(head):\n",
    "    # 使用快慢指针，快指针一次走两步，慢指针一次走一步\n",
    "    slow = fast = head\n",
    "    while fast.next and fast.next.next:\n",
    "        slow = slow.next\n",
    "        fast = fast.next.next\n",
    "    # 快指针走到尾节点时，慢指针指向中点\n",
    "    return slow\n",
    "\n",
    "# 输入链表头节点，翻转这个链表\n",
    "def reverseList(head):\n",
    "    prev = None  # 前驱节点初始化为None\n",
    "    curr = head  # 从head开始遍历链表\n",
    "    while curr:\n",
    "        nextTemp = curr.next  # 记录当前节点的后继节点\n",
    "        curr.next = prev  # 使当前节点指向其前驱节点\n",
    "        prev = curr  # 当前节点变为原后继节点的前驱节点\n",
    "        curr = nextTemp  # 移动到下一个要翻转的节点\n",
    "    return prev  # 返回已翻转链表的头节点\n",
    "\n",
    "# 输入两个链表的头节点，将两个链表交叉在一起\n",
    "def mergeList(l1, l2):\n",
    "    # 从两个链表的头节点开始遍历\n",
    "    while l1 and l2:  # 两个链表长度最多差一，因此任何一个链表遍历完成说明工作完成\n",
    "        \n",
    "        # 记录l1,l2各自的后继节点\n",
    "        l1_tmp = l1.next\n",
    "        l2_tmp = l2.next\n",
    "        \n",
    "        # 将l1指向l2，并移动到链表1下一个要处理的点\n",
    "        l1.next = l2\n",
    "        l1 = l1_tmp\n",
    "        \n",
    "        # 将l2指向l1，并移动到链表2下一个要处理的点\n",
    "        l2.next = l1\n",
    "        l2 = l2_tmp\n",
    "\n",
    "# 主函数\n",
    "def reorderList(head):\n",
    "    if not head:\n",
    "        return\n",
    "    \n",
    "    mid = middleNode(head)  # 找到中点\n",
    "    l1 = head  # 链表1头节点设为当前链表的头节点，尾节点是中点\n",
    "    l2 = mid.next  # 链表2头节点是中点的后继节点，尾节点是原链表的尾节点\n",
    "    mid.next = None  # 分离两个链表\n",
    "    l2 = reverseList(l2)  # 将链表2翻转\n",
    "    mergeList(l1, l2)  # 交叉两个链表\n",
    "    return head"
   ]
  },
  {
   "cell_type": "markdown",
   "id": "ef9e5a56",
   "metadata": {},
   "source": [
    "#### 测试一"
   ]
  },
  {
   "cell_type": "code",
   "execution_count": 3,
   "id": "25f0c604",
   "metadata": {},
   "outputs": [
    {
     "name": "stdout",
     "output_type": "stream",
     "text": [
      "1 5 2 4 3\n"
     ]
    }
   ],
   "source": [
    "# 构建链表[1,2,3,4,5]\n",
    "head = ListNode(1)\n",
    "n1 = ListNode(2)\n",
    "n2 = ListNode(3)\n",
    "n3 = ListNode(4)\n",
    "n4 = ListNode(5)\n",
    "head.next = n1\n",
    "n1.next = n2\n",
    "n2.next = n3\n",
    "n3.next = n4\n",
    "\n",
    "newhead = reorderList(head)\n",
    "print(newhead.val, newhead.next.val, newhead.next.next.val, newhead.next.next.next.val, newhead.next.next.next.next.val)"
   ]
  },
  {
   "cell_type": "code",
   "execution_count": null,
   "id": "77ab4833",
   "metadata": {},
   "outputs": [],
   "source": []
  }
 ],
 "metadata": {
  "kernelspec": {
   "display_name": "Python 3",
   "language": "python",
   "name": "python3"
  },
  "language_info": {
   "codemirror_mode": {
    "name": "ipython",
    "version": 3
   },
   "file_extension": ".py",
   "mimetype": "text/x-python",
   "name": "python",
   "nbconvert_exporter": "python",
   "pygments_lexer": "ipython3",
   "version": "3.7.4"
  }
 },
 "nbformat": 4,
 "nbformat_minor": 5
}
