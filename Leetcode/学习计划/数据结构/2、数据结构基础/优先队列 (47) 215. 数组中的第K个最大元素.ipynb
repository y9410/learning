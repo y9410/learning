{
 "cells": [
  {
   "cell_type": "markdown",
   "id": "5e6b9bef",
   "metadata": {},
   "source": [
    "# 题目"
   ]
  },
  {
   "cell_type": "markdown",
   "id": "4040ee36",
   "metadata": {},
   "source": [
    "> 给定整数数组 nums 和整数 k，请返回数组中第 k 个最大的元素。  \n",
    "请注意，你需要找的是数组排序后的第 k 个最大的元素，而不是第 k 个不同的元素。  \n",
    "你必须设计并实现时间复杂度为 O(n) 的算法解决此问题。"
   ]
  },
  {
   "cell_type": "markdown",
   "id": "5ba8bf47",
   "metadata": {},
   "source": [
    "# 方法一：快速排序"
   ]
  },
  {
   "cell_type": "markdown",
   "id": "32ef28ec",
   "metadata": {},
   "source": [
    "> 快速排序使用分治法策略来把一个序列分为较小和较大的 2 个子序列，然后递归地排序两个子序列。  \n",
    "以「升序排列」为例，其基本步骤为：\n",
    "1. 挑选基准值：从数列中挑出一个元素，称为“基准”（pivot）；\n",
    "2. 分割（partition）：重新排序数列，所有比基准值小的元素摆放在基准前面，所有比基准值大的元素摆在基准后面（与基准值相等的数可以到任何一边），在这个分割结束之后，对基准值的排序就已经完成；\n",
    "3. 递归排序子序列：递归地将小于基准值元素的子序列和大于基准值元素的子序列排序；\n",
    "4. 递归到最底部的判断条件是数列的大小是零或一，此时该数列显然已经有序。"
   ]
  },
  {
   "cell_type": "markdown",
   "id": "ff7a5294",
   "metadata": {},
   "source": [
    "## 复杂度"
   ]
  },
  {
   "cell_type": "markdown",
   "id": "2e2dde9e",
   "metadata": {},
   "source": [
    "- 时间复杂度: 期望为$O(n)$ ，其中 $n$ 是数组长度。"
   ]
  },
  {
   "cell_type": "markdown",
   "id": "d94a8f2f",
   "metadata": {},
   "source": [
    "> 完全对数组进行排序的时间复杂度为 $O(nlogn)$ ，但不需要完全排序。每次都判断分割点是否是答案，若是则返回，否则仅需对其左边或右边的一个子数组进行排序。此外，每次快速排序选择的基准值都是随机的，很难出现最坏情况（复杂度为： $O(n)$ ）。"
   ]
  },
  {
   "cell_type": "markdown",
   "id": "f3e666db",
   "metadata": {},
   "source": [
    "- 空间复杂度: $O(logn)$ ，其中 $n$ 是数组长度。"
   ]
  },
  {
   "cell_type": "markdown",
   "id": "c7955016",
   "metadata": {},
   "source": [
    "> 递归使用栈空间的空间代价的期望为 $O(log⁡n)$ 。"
   ]
  },
  {
   "cell_type": "markdown",
   "id": "4681c466",
   "metadata": {},
   "source": [
    "## 代码"
   ]
  },
  {
   "cell_type": "code",
   "execution_count": 1,
   "id": "682ad4f3",
   "metadata": {},
   "outputs": [],
   "source": [
    "import random"
   ]
  },
  {
   "cell_type": "code",
   "execution_count": 2,
   "id": "6db1e9e7",
   "metadata": {},
   "outputs": [],
   "source": [
    "def findKthLargest(nums, k):\n",
    "    \n",
    "    # 选取基准值，将大于基准值的数放在其右边，将小与基准值的数放在其左边\n",
    "    def partition(arr, low, high):  # 输入：数组，数组最左边的位置，数组最右边的位置\n",
    "        pivot = arr[low]  # 选取最左边数为pivot（基准值）\n",
    "        left, right = low, high  # 左右指针分别指向数组两端\n",
    "        while left < right:\n",
    "            # 从右往左滑动right指针，找到第一个小于pivot的元素\n",
    "            while left < right and arr[right] >= pivot:  \n",
    "                right -= 1\n",
    "            arr[left] = arr[right]  # 并将其移动到left处\n",
    "            # 从左往右滑动left指针，找到第一个大于pivot的元素\n",
    "            while left < right and arr[left] <= pivot:           \n",
    "                left += 1\n",
    "            arr[right] = arr[left]  # 并将其移动到right处\n",
    "        \n",
    "        arr[left] = pivot  # pivot放置到中间left=right处\n",
    "        return left  # 返回此时基准值的位置（即分割点位置）\n",
    "    \n",
    "    # 随机选择基准值的位置调用partition\n",
    "    def randomPartition(arr, low, high):  # 输入：数组，数组最左边的位置，数组最右边的位置\n",
    "        pivot_idx = random.randint(low, high)  # 从数组中随机选择一个位置的数作为基准值\n",
    "        arr[low], arr[pivot_idx] = arr[pivot_idx], arr[low]  # 将基准值到最左边\n",
    "        return partition(arr, low, high)  # 调用partition函数\n",
    "\n",
    "    \n",
    "    def topKSplit(arr, low, high, k):\n",
    "        mid = randomPartition(arr, low, high)  # 以mid为分割点【随机选择pivot】\n",
    "        if mid == k-1:  # 第k个最小的元素下标为k-1（分割点左边k-1个数都小于分割点的数）\n",
    "            return arr[mid]  #【找到即返回】\n",
    "        # 如果一次快速排序没找到第k个最小的元素，则对分割点左边或右边的子数组进行递归\n",
    "        elif mid < k-1:  \n",
    "            return topKSplit(arr, mid+1, high, k)  # 递归对mid右侧元素进行排序\n",
    "        else:\n",
    "            return topKSplit(arr, low, mid-1, k)  # 递归对mid左侧元素进行排序\n",
    "    \n",
    "    n = len(nums)\n",
    "    return topKSplit(nums, 0, n-1, n-k+1)  # 第k大元素即为第n-k+1小元素"
   ]
  },
  {
   "cell_type": "markdown",
   "id": "d729016b",
   "metadata": {},
   "source": [
    "#### 测试一"
   ]
  },
  {
   "cell_type": "code",
   "execution_count": 3,
   "id": "b1e2c560",
   "metadata": {},
   "outputs": [
    {
     "data": {
      "text/plain": [
       "5"
      ]
     },
     "execution_count": 3,
     "metadata": {},
     "output_type": "execute_result"
    }
   ],
   "source": [
    "nums = [3,2,1,5,6,4]\n",
    "k = 2\n",
    "findKthLargest(nums, k)"
   ]
  },
  {
   "cell_type": "markdown",
   "id": "6c7f73c2",
   "metadata": {},
   "source": [
    "#### 测试二"
   ]
  },
  {
   "cell_type": "code",
   "execution_count": 4,
   "id": "97b5adcf",
   "metadata": {},
   "outputs": [
    {
     "data": {
      "text/plain": [
       "4"
      ]
     },
     "execution_count": 4,
     "metadata": {},
     "output_type": "execute_result"
    }
   ],
   "source": [
    "nums = [3,2,3,1,2,4,5,5,6]\n",
    "k = 4\n",
    "findKthLargest(nums, k)"
   ]
  },
  {
   "cell_type": "code",
   "execution_count": null,
   "id": "c403f117",
   "metadata": {},
   "outputs": [],
   "source": []
  }
 ],
 "metadata": {
  "kernelspec": {
   "display_name": "Python 3",
   "language": "python",
   "name": "python3"
  },
  "language_info": {
   "codemirror_mode": {
    "name": "ipython",
    "version": 3
   },
   "file_extension": ".py",
   "mimetype": "text/x-python",
   "name": "python",
   "nbconvert_exporter": "python",
   "pygments_lexer": "ipython3",
   "version": "3.7.4"
  }
 },
 "nbformat": 4,
 "nbformat_minor": 5
}
