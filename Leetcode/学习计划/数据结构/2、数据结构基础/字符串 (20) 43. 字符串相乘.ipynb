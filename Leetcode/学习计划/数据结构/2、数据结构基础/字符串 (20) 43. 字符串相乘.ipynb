{
 "cells": [
  {
   "cell_type": "markdown",
   "id": "c54a3a7c",
   "metadata": {},
   "source": [
    "# 题目"
   ]
  },
  {
   "cell_type": "markdown",
   "id": "82cc35e0",
   "metadata": {},
   "source": [
    "> 给定两个以字符串形式表示的非负整数 `num1` 和 `num2` ，返回 `num1` 和 `num2` 的乘积，它们的乘积也表示为字符串形式。  \n",
    "注意：不能使用任何内置的 BigInteger 库或直接将输入转换为整数。"
   ]
  },
  {
   "cell_type": "markdown",
   "id": "d5024441",
   "metadata": {},
   "source": [
    "# 方法一：做乘法"
   ]
  },
  {
   "cell_type": "markdown",
   "id": "1fd7d3b6",
   "metadata": {},
   "source": [
    "> 用数组储存计算结果可以节省很大空间。m位的数和n位的数相乘的长度只要m+n和m+n-1两种可能。  \n",
    "其余计算按竖式乘法计算即可。"
   ]
  },
  {
   "cell_type": "markdown",
   "id": "03ec657a",
   "metadata": {},
   "source": [
    "## 复杂度"
   ]
  },
  {
   "cell_type": "markdown",
   "id": "79a148e8",
   "metadata": {},
   "source": [
    "- 时间复杂度: $O(mn+n^2)$，其中 $m$ 和 $n$ 分别是字符串 `num1` 和 `num2` 的长度。"
   ]
  },
  {
   "cell_type": "markdown",
   "id": "e352fe1f",
   "metadata": {},
   "source": [
    "> 由于需要使用竖式计算，因此对于字符串 `num1` 的每一位，都需要遍历字符串 `num2` ，其余操作小于 $O(mn)$ 。"
   ]
  },
  {
   "cell_type": "markdown",
   "id": "906d82aa",
   "metadata": {},
   "source": [
    "- 空间复杂度: $O(m+n)$，其中 $m$ 和 $n$ 分别是字符串 `num1` 和 `num2` 的长度。"
   ]
  },
  {
   "cell_type": "markdown",
   "id": "0ee33b25",
   "metadata": {},
   "source": [
    "> 需要创建一个长度为 $m+n$ 的数组存储乘积。"
   ]
  },
  {
   "cell_type": "markdown",
   "id": "37b9777b",
   "metadata": {},
   "source": [
    "## 代码"
   ]
  },
  {
   "cell_type": "code",
   "execution_count": 1,
   "id": "a661c89f",
   "metadata": {},
   "outputs": [],
   "source": [
    "def multiply(num1, num2):\n",
    "    if num1 == \"0\" or num2 == \"0\":\n",
    "        return \"0\"\n",
    "    \n",
    "    m, n = len(num1), len(num2)  # 两数的乘积长度不超过两数长度之和\n",
    "    ansArr = [0] * (m + n)  # 用一个数组表示乘积\n",
    "    # 做乘法时，从后向前遍历（从个位数开始计算）\n",
    "    for i in range(m - 1, -1, -1):  # 乘法竖式下面的数\n",
    "        x = int(num1[i])\n",
    "        for j in range(n - 1, -1, -1):  # 乘法竖式上面的数\n",
    "            ansArr[i + j + 1] += x * int(num2[j])  # 乘积结果（乘完后对应位需要相加）\n",
    "    \n",
    "    for i in range(m + n - 1, 0, -1):\n",
    "        ansArr[i - 1] += ansArr[i] // 10  # 进位\n",
    "        ansArr[i] %= 10  # 每一位只保留个位数\n",
    "    \n",
    "    index = 1 if ansArr[0] == 0 else 0  # 乘积的长度可能是m+n或m+n-1\n",
    "    ans = \"\".join(str(x) for x in ansArr[index:])  # join用于连接字符\n",
    "    return ans"
   ]
  },
  {
   "cell_type": "markdown",
   "id": "a8885785",
   "metadata": {},
   "source": [
    "#### 测试一"
   ]
  },
  {
   "cell_type": "code",
   "execution_count": 2,
   "id": "be0b1fd5",
   "metadata": {},
   "outputs": [
    {
     "data": {
      "text/plain": [
       "'6'"
      ]
     },
     "execution_count": 2,
     "metadata": {},
     "output_type": "execute_result"
    }
   ],
   "source": [
    "num1 = \"2\"\n",
    "num2 = \"3\"\n",
    "multiply(num1, num2)"
   ]
  },
  {
   "cell_type": "markdown",
   "id": "caa7a4f5",
   "metadata": {},
   "source": [
    "#### 测试二"
   ]
  },
  {
   "cell_type": "code",
   "execution_count": 3,
   "id": "f54624e8",
   "metadata": {},
   "outputs": [
    {
     "data": {
      "text/plain": [
       "'56088'"
      ]
     },
     "execution_count": 3,
     "metadata": {},
     "output_type": "execute_result"
    }
   ],
   "source": [
    "num1 = \"123\"\n",
    "num2 = \"456\"\n",
    "multiply(num1, num2)"
   ]
  }
 ],
 "metadata": {
  "kernelspec": {
   "display_name": "Python 3",
   "language": "python",
   "name": "python3"
  },
  "language_info": {
   "codemirror_mode": {
    "name": "ipython",
    "version": 3
   },
   "file_extension": ".py",
   "mimetype": "text/x-python",
   "name": "python",
   "nbconvert_exporter": "python",
   "pygments_lexer": "ipython3",
   "version": "3.7.4"
  }
 },
 "nbformat": 4,
 "nbformat_minor": 5
}
