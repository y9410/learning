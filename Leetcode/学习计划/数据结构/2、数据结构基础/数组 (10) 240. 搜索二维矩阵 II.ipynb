{
 "cells": [
  {
   "cell_type": "markdown",
   "id": "32dcef34",
   "metadata": {},
   "source": [
    "# 题目"
   ]
  },
  {
   "cell_type": "markdown",
   "id": "96015007",
   "metadata": {},
   "source": [
    "> 编写一个高效的算法来搜索 m × n 矩阵 `matrix` 中的一个目标值 `target` 。该矩阵具有以下特性：  \n",
    "1、每行的元素从左到右升序排列；  \n",
    "2、每列的元素从上到下升序排列。"
   ]
  },
  {
   "cell_type": "markdown",
   "id": "96ed1b76",
   "metadata": {},
   "source": [
    "# 方法一：Z字形查找"
   ]
  },
  {
   "cell_type": "markdown",
   "id": "1ded291d",
   "metadata": {},
   "source": [
    "> 从矩阵右上角开始查找，判断当前元素与目标值的关系和/或移动：  \n",
    "1、若当前值等于目标值，返回 `True` ；  \n",
    "2、若当前值大于目标值，左移一列； \n",
    "3、若当前值小于目标值，下移一行；  \n",
    "4、若当前的移动不合法，返回 `Flase` 。"
   ]
  },
  {
   "cell_type": "markdown",
   "id": "54651352",
   "metadata": {},
   "source": [
    "## 复杂度"
   ]
  },
  {
   "cell_type": "markdown",
   "id": "d1a278d5",
   "metadata": {},
   "source": [
    "- 时间复杂度: $O(m+n)$ ，其中 $m,n$ 分别为矩阵的行列数。"
   ]
  },
  {
   "cell_type": "markdown",
   "id": "ca5e0e79",
   "metadata": {},
   "source": [
    "> 最多搜索 m+n 次。"
   ]
  },
  {
   "cell_type": "markdown",
   "id": "db5be247",
   "metadata": {},
   "source": [
    "- 空间复杂度: $O(1)$ 。"
   ]
  },
  {
   "cell_type": "markdown",
   "id": "b01fa0e1",
   "metadata": {},
   "source": [
    "## 代码"
   ]
  },
  {
   "cell_type": "code",
   "execution_count": 1,
   "id": "9faa6ef0",
   "metadata": {},
   "outputs": [],
   "source": [
    "def searchMatrix(matrix, target):\n",
    "    m, n = len(matrix), len(matrix[0]) #矩阵的行列数\n",
    "    x, y = 0, n - 1 #从右上角元素位置开始查找\n",
    "    while x < m and y >= 0: #元素行坐标x只会增加，上限为m-1；元素列坐标y只会减少，下限位0\n",
    "        if matrix[x][y] == target:\n",
    "            return True\n",
    "        if matrix[x][y] > target: #当前元素值大于目标值，应向左查找（值变小）\n",
    "            y -= 1\n",
    "        else: #当前元素值小于目标值，应向下查找（值变大）\n",
    "            x += 1\n",
    "    return False"
   ]
  },
  {
   "cell_type": "markdown",
   "id": "07a6409a",
   "metadata": {},
   "source": [
    "#### 测试一"
   ]
  },
  {
   "cell_type": "code",
   "execution_count": 2,
   "id": "e130b7a1",
   "metadata": {},
   "outputs": [
    {
     "data": {
      "text/plain": [
       "True"
      ]
     },
     "execution_count": 2,
     "metadata": {},
     "output_type": "execute_result"
    }
   ],
   "source": [
    "matrix = [[1,4,7,11,15],\n",
    "          [2,5,8,12,19],\n",
    "          [3,6,9,16,22],\n",
    "          [10,13,14,17,24],\n",
    "          [18,21,23,26,30]]\n",
    "target = 5\n",
    "searchMatrix(matrix, target)"
   ]
  },
  {
   "cell_type": "markdown",
   "id": "e96183f0",
   "metadata": {},
   "source": [
    "#### 测试二"
   ]
  },
  {
   "cell_type": "code",
   "execution_count": 3,
   "id": "490b133a",
   "metadata": {},
   "outputs": [
    {
     "data": {
      "text/plain": [
       "False"
      ]
     },
     "execution_count": 3,
     "metadata": {},
     "output_type": "execute_result"
    }
   ],
   "source": [
    "matrix = [[1,4,7,11,15],\n",
    "          [2,5,8,12,19],\n",
    "          [3,6,9,16,22],\n",
    "          [10,13,14,17,24],\n",
    "          [18,21,23,26,30]]\n",
    "target = 20\n",
    "searchMatrix(matrix, target)"
   ]
  },
  {
   "cell_type": "code",
   "execution_count": null,
   "id": "43143086",
   "metadata": {},
   "outputs": [],
   "source": []
  }
 ],
 "metadata": {
  "kernelspec": {
   "display_name": "Python 3",
   "language": "python",
   "name": "python3"
  },
  "language_info": {
   "codemirror_mode": {
    "name": "ipython",
    "version": 3
   },
   "file_extension": ".py",
   "mimetype": "text/x-python",
   "name": "python",
   "nbconvert_exporter": "python",
   "pygments_lexer": "ipython3",
   "version": "3.7.4"
  }
 },
 "nbformat": 4,
 "nbformat_minor": 5
}
