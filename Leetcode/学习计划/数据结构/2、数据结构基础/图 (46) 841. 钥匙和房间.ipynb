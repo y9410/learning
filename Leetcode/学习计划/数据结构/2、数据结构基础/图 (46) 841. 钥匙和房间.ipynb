{
 "cells": [
  {
   "cell_type": "markdown",
   "id": "d1bfe266",
   "metadata": {},
   "source": [
    "# 题目"
   ]
  },
  {
   "cell_type": "markdown",
   "id": "3317e0d6",
   "metadata": {},
   "source": [
    "> 有 n 个房间，房间按从 0 到 n - 1 编号。最初，除 0 号房间外的其余所有房间都被锁住。你的目标是进入所有的房间。然而，你不能在没有获得钥匙的时候进入锁住的房间。  \n",
    "当你进入一个房间，你可能会在里面找到一套不同的钥匙，每把钥匙上都有对应的房间号，即表示钥匙可以打开的房间。你可以拿上所有钥匙去解锁其他房间。  \n",
    "给你一个数组 rooms 其中 rooms[i] 是你进入 i 号房间可以获得的钥匙集合。如果能进入 所有 房间返回 true，否则返回 false。"
   ]
  },
  {
   "cell_type": "markdown",
   "id": "16585cbc",
   "metadata": {},
   "source": [
    "# 方法一：广度优先搜索"
   ]
  },
  {
   "cell_type": "markdown",
   "id": "3b27547d",
   "metadata": {},
   "source": [
    "> 可以使用广度优先搜索的方式遍历整张图，统计可以到达的节点个数，并利用数组 vis 标记当前节点是否访问过，以防止重复访问。"
   ]
  },
  {
   "cell_type": "markdown",
   "id": "a23e0cec",
   "metadata": {},
   "source": [
    "## 复杂度"
   ]
  },
  {
   "cell_type": "markdown",
   "id": "554dfcc0",
   "metadata": {},
   "source": [
    "- 时间复杂度: $O(n+m)$ ，其中 $n$ 是房间数量， $m$ 是所有房间中的钥匙数量的总数。"
   ]
  },
  {
   "cell_type": "markdown",
   "id": "87ba09b3",
   "metadata": {},
   "source": [
    "- 空间复杂度: $O(n)$ ，其中 $n$ 是房间数量。"
   ]
  },
  {
   "cell_type": "markdown",
   "id": "08972db7",
   "metadata": {},
   "source": [
    "> 主要为队列的开销。"
   ]
  },
  {
   "cell_type": "markdown",
   "id": "e6b92e7e",
   "metadata": {},
   "source": [
    "## 代码"
   ]
  },
  {
   "cell_type": "code",
   "execution_count": 1,
   "id": "0e5857fc",
   "metadata": {},
   "outputs": [],
   "source": [
    "import collections"
   ]
  },
  {
   "cell_type": "code",
   "execution_count": 2,
   "id": "f4d819a8",
   "metadata": {},
   "outputs": [],
   "source": [
    "def canVisitAllRooms(rooms):\n",
    "    n = len(rooms)\n",
    "    num = 0  # 用于计数，打开了多少个不重复的房间\n",
    "    vis = {0}  # 记录所有被打开的房间编号\n",
    "    que = collections.deque([0])  # 双端队列用于储存当前被打开的房间\n",
    "\n",
    "    while que:\n",
    "        x = que.popleft()  # 当前被打开的房间\n",
    "        num += 1  # 每打开一个房间，就+1\n",
    "        for it in rooms[x]:  # 遍历当前房间的所有钥匙\n",
    "            if it not in vis:  # 将能打开的房间编号不重复地添加到vis和deque里\n",
    "                vis.add(it)\n",
    "                que.append(it)\n",
    "    \n",
    "    return num == n"
   ]
  },
  {
   "cell_type": "markdown",
   "id": "efa79723",
   "metadata": {},
   "source": [
    "#### 测试一"
   ]
  },
  {
   "cell_type": "code",
   "execution_count": 3,
   "id": "4b448c06",
   "metadata": {},
   "outputs": [
    {
     "data": {
      "text/plain": [
       "True"
      ]
     },
     "execution_count": 3,
     "metadata": {},
     "output_type": "execute_result"
    }
   ],
   "source": [
    "rooms = [[1],[2],[3],[]]\n",
    "canVisitAllRooms(rooms)"
   ]
  },
  {
   "cell_type": "markdown",
   "id": "ee75bc1a",
   "metadata": {},
   "source": [
    "#### 测试二"
   ]
  },
  {
   "cell_type": "code",
   "execution_count": 4,
   "id": "57b4e55b",
   "metadata": {},
   "outputs": [
    {
     "data": {
      "text/plain": [
       "False"
      ]
     },
     "execution_count": 4,
     "metadata": {},
     "output_type": "execute_result"
    }
   ],
   "source": [
    "rooms = [[1,3],[3,0,1],[2],[0]]\n",
    "canVisitAllRooms(rooms)"
   ]
  },
  {
   "cell_type": "code",
   "execution_count": null,
   "id": "866037bd",
   "metadata": {},
   "outputs": [],
   "source": []
  }
 ],
 "metadata": {
  "kernelspec": {
   "display_name": "Python 3",
   "language": "python",
   "name": "python3"
  },
  "language_info": {
   "codemirror_mode": {
    "name": "ipython",
    "version": 3
   },
   "file_extension": ".py",
   "mimetype": "text/x-python",
   "name": "python",
   "nbconvert_exporter": "python",
   "pygments_lexer": "ipython3",
   "version": "3.7.4"
  }
 },
 "nbformat": 4,
 "nbformat_minor": 5
}
