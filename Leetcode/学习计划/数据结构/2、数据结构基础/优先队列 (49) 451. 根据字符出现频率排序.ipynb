{
 "cells": [
  {
   "cell_type": "markdown",
   "id": "45ae22b9",
   "metadata": {},
   "source": [
    "# 题目"
   ]
  },
  {
   "cell_type": "markdown",
   "id": "c16ad5c4",
   "metadata": {},
   "source": [
    "> 给定一个字符串 s ，根据字符出现的 频率 对其进行 降序排序 。一个字符出现的 频率 是它出现在字符串中的次数。  \n",
    "返回 已排序的字符串 。如果有多个答案，返回其中任何一个。"
   ]
  },
  {
   "cell_type": "markdown",
   "id": "e89dd66d",
   "metadata": {},
   "source": [
    "# 方法一：桶排序"
   ]
  },
  {
   "cell_type": "markdown",
   "id": "3388a7bf",
   "metadata": {},
   "source": [
    "> 由于每个字符在字符串中出现的频率存在上限，因此可以使用桶排序的思想，根据出现次数生成排序后的字符串。具体做法如下：  \n",
    "1. 遍历字符串，统计每个字符出现的频率；\n",
    "2. 创建桶，存储从 1 到 len(s)（最大可能频率） 的每个出现频率的字符；\n",
    "3. 按照出现频率从大到小的顺序遍历桶，对于每个出现频率，获得对应的字符，然后将每个字符按照出现频率拼接到排序后的字符串。"
   ]
  },
  {
   "cell_type": "markdown",
   "id": "9c61e0f4",
   "metadata": {},
   "source": [
    "## 复杂度"
   ]
  },
  {
   "cell_type": "markdown",
   "id": "d7e0ef45",
   "metadata": {},
   "source": [
    "- 时间复杂度: $O(n+k)$ ，其中 $n$ 是字符串长度， $k$ 是字符串s包含的不同字符的个数。"
   ]
  },
  {
   "cell_type": "markdown",
   "id": "a49c7b8f",
   "metadata": {},
   "source": [
    "> 遍历字符串统计每个字符出现的频率需要 $O(n)$ 的时间。创建桶并将不同字符加入桶需要 $O(k)$ 的时间。生成排序后的字符串，需要 $O(k)$ 的时间遍历桶，以及 $O(n)$ 的时间拼接字符串。因此总时间复杂度是 $O(n+k)$ 。"
   ]
  },
  {
   "cell_type": "markdown",
   "id": "f1e3b576",
   "metadata": {},
   "source": [
    "- 空间复杂度: $O(n+k)$ ，其中 $n$ 是字符串长度， $k$ 是字符串s包含的不同字符的个数。"
   ]
  },
  {
   "cell_type": "markdown",
   "id": "78a1af89",
   "metadata": {},
   "source": [
    "> 空间复杂度主要取决于桶和生成的排序后的字符串。"
   ]
  },
  {
   "cell_type": "markdown",
   "id": "a9a62d37",
   "metadata": {},
   "source": [
    "## 代码"
   ]
  },
  {
   "cell_type": "code",
   "execution_count": 1,
   "id": "0aae0a68",
   "metadata": {},
   "outputs": [],
   "source": [
    "import collections"
   ]
  },
  {
   "cell_type": "code",
   "execution_count": 2,
   "id": "1b3217d5",
   "metadata": {},
   "outputs": [],
   "source": [
    "def frequencySort(s):\n",
    "    # 桶排序\n",
    "    ret = []\n",
    "    # 构建一个字典，储存每个字符和其出现的次数\n",
    "    countFrequency = collections.defaultdict(int)\n",
    "    for i in s:\n",
    "        countFrequency[i] += 1\n",
    "    # 构建一个桶（列表），储存出现频率为0到len(s)的字符\n",
    "    buckets = [[] for _ in range(len(s) + 1)]  # 列表中的元素为列表，可储存同样频率的多个字符\n",
    "    for i in countFrequency:  # 遍历字典中的key（字符）\n",
    "        buckets[countFrequency[i]].extend(i * countFrequency[i])  # extend用于在列表的末尾追加多个字符i，个数为字符出现频率\n",
    "    # 按照频率从大到小的顺序输出字符\n",
    "    for i in buckets[::-1]:\n",
    "        if(i):  # 若字符存在\n",
    "            ret.extend(i)  # 将其加入列表\n",
    "    return ''.join(ret)"
   ]
  },
  {
   "cell_type": "markdown",
   "id": "2d935183",
   "metadata": {},
   "source": [
    "#### 测试一"
   ]
  },
  {
   "cell_type": "code",
   "execution_count": 5,
   "id": "e211d406",
   "metadata": {},
   "outputs": [
    {
     "data": {
      "text/plain": [
       "'eetr'"
      ]
     },
     "execution_count": 5,
     "metadata": {},
     "output_type": "execute_result"
    }
   ],
   "source": [
    "s = \"tree\"\n",
    "frequencySort(s)"
   ]
  },
  {
   "cell_type": "markdown",
   "id": "c55a5e15",
   "metadata": {},
   "source": [
    "#### 测试二"
   ]
  },
  {
   "cell_type": "code",
   "execution_count": 6,
   "id": "749ee40f",
   "metadata": {},
   "outputs": [
    {
     "data": {
      "text/plain": [
       "'bbAa'"
      ]
     },
     "execution_count": 6,
     "metadata": {},
     "output_type": "execute_result"
    }
   ],
   "source": [
    "s = \"Aabb\"\n",
    "frequencySort(s)"
   ]
  },
  {
   "cell_type": "code",
   "execution_count": null,
   "id": "de5be445",
   "metadata": {},
   "outputs": [],
   "source": []
  }
 ],
 "metadata": {
  "kernelspec": {
   "display_name": "Python 3",
   "language": "python",
   "name": "python3"
  },
  "language_info": {
   "codemirror_mode": {
    "name": "ipython",
    "version": 3
   },
   "file_extension": ".py",
   "mimetype": "text/x-python",
   "name": "python",
   "nbconvert_exporter": "python",
   "pygments_lexer": "ipython3",
   "version": "3.7.4"
  }
 },
 "nbformat": 4,
 "nbformat_minor": 5
}
