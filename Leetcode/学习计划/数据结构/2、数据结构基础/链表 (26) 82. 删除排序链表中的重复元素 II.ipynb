{
 "cells": [
  {
   "cell_type": "markdown",
   "id": "9743ee23",
   "metadata": {},
   "source": [
    "# 题目"
   ]
  },
  {
   "cell_type": "markdown",
   "id": "1473a6ed",
   "metadata": {},
   "source": [
    "> 给定一个已排序的链表的头 `head` ，删除原始链表中所有重复数字的节点，只留下不同的数字。返回已排序的链表。  \n",
    "例如：链表 [1,2,3,3,4,4,4,5] 删除后为 [1,2,5] 。"
   ]
  },
  {
   "cell_type": "markdown",
   "id": "65d82819",
   "metadata": {},
   "source": [
    "# 方法一：双指针"
   ]
  },
  {
   "cell_type": "markdown",
   "id": "1dd82fa3",
   "metadata": {},
   "source": [
    "> 由于链表已经排序，所以重复的元素必定相邻。由于头节点可能被删除，因此构造一个虚拟变量指向头节点并使用指针cur从虚拟变量开始遍历链表。  \n",
    "在遍历过程中，会出现两种情况：  \n",
    "1、cur.next = cur.next.next，说明发现重复元素，记录该重复值，通过改变next指向的方法把接下来的所有值与之重复的节点删除；  \n",
    "2、cur.next ≠ cur.next.next，说明cur.next有唯一值，将cur指向cur.next。"
   ]
  },
  {
   "cell_type": "markdown",
   "id": "f2707e91",
   "metadata": {},
   "source": [
    "## 复杂度"
   ]
  },
  {
   "cell_type": "markdown",
   "id": "874b645c",
   "metadata": {},
   "source": [
    "- 时间复杂度: $O(n)$，其中 $n$ 是链表的长度。"
   ]
  },
  {
   "cell_type": "markdown",
   "id": "530018f8",
   "metadata": {},
   "source": [
    "> 需要遍历链表一遍。"
   ]
  },
  {
   "cell_type": "markdown",
   "id": "0201132b",
   "metadata": {},
   "source": [
    "- 空间复杂度: $O(1)$ 。"
   ]
  },
  {
   "cell_type": "markdown",
   "id": "749f562f",
   "metadata": {},
   "source": [
    "> 使用一个指针的存储空间。"
   ]
  },
  {
   "cell_type": "markdown",
   "id": "99da493a",
   "metadata": {},
   "source": [
    "## 代码"
   ]
  },
  {
   "cell_type": "code",
   "execution_count": 1,
   "id": "5b6a7b08",
   "metadata": {},
   "outputs": [],
   "source": [
    "class ListNode:\n",
    "    def __init__(self, val=0, next=None):\n",
    "        self.val = val\n",
    "        self.next = next"
   ]
  },
  {
   "cell_type": "code",
   "execution_count": 2,
   "id": "4c562e70",
   "metadata": {},
   "outputs": [],
   "source": [
    "def deleteDuplicates(head):\n",
    "    if not head:\n",
    "        return head\n",
    "    \n",
    "    dummy = ListNode(0, head)  # 被删除的可能是头节点，因此构造一个虚拟变量指向头节点\n",
    "\n",
    "    cur = dummy  # 指针从头节点开始遍历\n",
    "    while cur.next and cur.next.next:  # 确保指针指向的节点存在\n",
    "        if cur.next.val == cur.next.next.val:  # 若相邻的两个节点值相等\n",
    "            x = cur.next.val  # 记录这个重复值\n",
    "            while cur.next and cur.next.val == x:\n",
    "                cur.next = cur.next.next  # 跳过值重复的点\n",
    "        else:\n",
    "            cur = cur.next\n",
    "\n",
    "    return dummy.next  # 返回新的头节点"
   ]
  },
  {
   "cell_type": "markdown",
   "id": "13427d4b",
   "metadata": {},
   "source": [
    "#### 测试一"
   ]
  },
  {
   "cell_type": "code",
   "execution_count": 3,
   "id": "d768f367",
   "metadata": {},
   "outputs": [
    {
     "name": "stdout",
     "output_type": "stream",
     "text": [
      "2 3\n"
     ]
    }
   ],
   "source": [
    "# 链表：[1,1,1,2,3]\n",
    "head = ListNode(1)\n",
    "n1 = ListNode(1)\n",
    "n2 = ListNode(1)\n",
    "n3 = ListNode(2)\n",
    "n4 = ListNode(3)\n",
    "head.next = n1\n",
    "n1.next = n2\n",
    "n2.next = n3\n",
    "n3.next = n4\n",
    "\n",
    "print(deleteDuplicates(head).val,deleteDuplicates(head).next.val)"
   ]
  },
  {
   "cell_type": "code",
   "execution_count": null,
   "id": "960d5a9c",
   "metadata": {},
   "outputs": [],
   "source": []
  }
 ],
 "metadata": {
  "kernelspec": {
   "display_name": "Python 3",
   "language": "python",
   "name": "python3"
  },
  "language_info": {
   "codemirror_mode": {
    "name": "ipython",
    "version": 3
   },
   "file_extension": ".py",
   "mimetype": "text/x-python",
   "name": "python",
   "nbconvert_exporter": "python",
   "pygments_lexer": "ipython3",
   "version": "3.7.4"
  }
 },
 "nbformat": 4,
 "nbformat_minor": 5
}
