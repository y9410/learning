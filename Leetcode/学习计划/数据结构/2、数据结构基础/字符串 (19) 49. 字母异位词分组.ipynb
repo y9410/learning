{
 "cells": [
  {
   "cell_type": "markdown",
   "id": "88880029",
   "metadata": {},
   "source": [
    "# 题目"
   ]
  },
  {
   "cell_type": "markdown",
   "id": "0a3688f0",
   "metadata": {},
   "source": [
    "> 给你一个字符串数组，请你将 字母异位词 组合在一起。可以按任意顺序返回结果列表。  \n",
    "字母异位词 是由重新排列源单词的字母得到的一个新单词，所有源单词中的字母通常恰好只用一次。"
   ]
  },
  {
   "cell_type": "markdown",
   "id": "bbfe60ca",
   "metadata": {},
   "source": [
    "# 方法一：计数"
   ]
  },
  {
   "cell_type": "markdown",
   "id": "e71aff78",
   "metadata": {},
   "source": [
    "> 由于互为字母异位词的两个字符串包含的字母相同，因此两个字符串中的相同字母出现的次数一定是相同的，故可以将每个字母出现的次数使用字符串表示，作为哈希表的键。  \n",
    "由于字符串只包含小写字母，因此对于每个字符串，可以使用长度为26的数组记录每个字母出现的次数。"
   ]
  },
  {
   "cell_type": "markdown",
   "id": "38aa03a2",
   "metadata": {},
   "source": [
    "## 复杂度"
   ]
  },
  {
   "cell_type": "markdown",
   "id": "3f9d9bd2",
   "metadata": {},
   "source": [
    "- 时间复杂度: $O(n(k+∣Σ∣))$，其中 $n$ 是 $strs$ 中的字符串的数量，$k$ 是 $strs$ 中的字符串的的最大长度， $Σ$ 是字符集，在本题中字符集为所有小写字母， $∣Σ∣=26$ 。"
   ]
  },
  {
   "cell_type": "markdown",
   "id": "fd8ff020",
   "metadata": {},
   "source": [
    "> 需要遍历 $n$ 个字符串，对于每个字符串，需要 $O(k)$ 的时间计算每个字母出现的次数， $O(∣Σ∣)$ 的时间生成哈希表的键，以及 $O(1)$ 的时间更新哈希表。"
   ]
  },
  {
   "cell_type": "markdown",
   "id": "9670180f",
   "metadata": {},
   "source": [
    "- 空间复杂度: $O(n(k+∣Σ∣))$，其中 $n$ 是 $strs$ 中的字符串的数量，$k$ 是 $strs$ 中的字符串的的最大长度， $Σ$ 是字符集，在本题中字符集为所有小写字母， $∣Σ∣=26$ 。"
   ]
  },
  {
   "cell_type": "markdown",
   "id": "7d645500",
   "metadata": {},
   "source": [
    "> 需要用哈希表存储全部字符串，而记录每个字符串中每个字母出现次数的数组需要的空间为 $O(∣Σ∣)$ ，在渐进意义下小于 $O(n(k+∣Σ∣))$ ，可以忽略不计。"
   ]
  },
  {
   "cell_type": "markdown",
   "id": "3c59a28f",
   "metadata": {},
   "source": [
    "## 代码"
   ]
  },
  {
   "cell_type": "code",
   "execution_count": 1,
   "id": "b8ab4a8a",
   "metadata": {},
   "outputs": [],
   "source": [
    "import collections"
   ]
  },
  {
   "cell_type": "code",
   "execution_count": 2,
   "id": "8e9aadf7",
   "metadata": {},
   "outputs": [],
   "source": [
    "def groupAnagrams(strs):\n",
    "    mp = collections.defaultdict(list)\n",
    "\n",
    "    for st in strs:\n",
    "        counts = [0] * 26  # 每个单词都用一个26维向量表示，表示其中每个小写字母出现了几次\n",
    "        for ch in st:\n",
    "            counts[ord(ch) - ord(\"a\")] += 1\n",
    "        # 需要将 list 转换成 tuple 才能进行哈希\n",
    "        mp[tuple(counts)].append(st)  #将列表转化为元组\n",
    "\n",
    "    return list(mp.values())  # 将字典中的值结合成列表"
   ]
  },
  {
   "cell_type": "markdown",
   "id": "6f4c9495",
   "metadata": {},
   "source": [
    "#### 测试一"
   ]
  },
  {
   "cell_type": "code",
   "execution_count": 3,
   "id": "53a8e011",
   "metadata": {},
   "outputs": [],
   "source": [
    "strs = [\"eat\", \"tea\", \"tan\", \"ate\", \"nat\", \"bat\"]\n",
    "groupAnagrams(strs)"
   ]
  },
  {
   "cell_type": "markdown",
   "id": "bfd70921",
   "metadata": {},
   "source": [
    "#### 测试二"
   ]
  },
  {
   "cell_type": "code",
   "execution_count": 4,
   "id": "8ce432a2",
   "metadata": {},
   "outputs": [],
   "source": [
    "strs = [\"\"]\n",
    "groupAnagrams(strs)"
   ]
  },
  {
   "cell_type": "markdown",
   "id": "2c7708b2",
   "metadata": {},
   "source": [
    "#### 测试三"
   ]
  },
  {
   "cell_type": "code",
   "execution_count": 5,
   "id": "1d460f19",
   "metadata": {},
   "outputs": [],
   "source": [
    "strs = [\"a\"]\n",
    "groupAnagrams(strs)"
   ]
  }
 ],
 "metadata": {
  "kernelspec": {
   "display_name": "Python 3",
   "language": "python",
   "name": "python3"
  },
  "language_info": {
   "codemirror_mode": {
    "name": "ipython",
    "version": 3
   },
   "file_extension": ".py",
   "mimetype": "text/x-python",
   "name": "python",
   "nbconvert_exporter": "python",
   "pygments_lexer": "ipython3",
   "version": "3.7.4"
  }
 },
 "nbformat": 4,
 "nbformat_minor": 5
}
