{
 "cells": [
  {
   "cell_type": "markdown",
   "id": "8ae4398c",
   "metadata": {},
   "source": [
    "# 题目"
   ]
  },
  {
   "cell_type": "markdown",
   "id": "aa012bc4",
   "metadata": {},
   "source": [
    "> 给你一个整数数组 `nums` ，其中元素已经按升序排列，请你将其转换为一棵高度平衡二叉搜索树。  \n",
    "高度平衡二叉树是一棵满足「每个节点的左右两个子树的高度差的绝对值不超过 1 」的二叉树。 "
   ]
  },
  {
   "cell_type": "markdown",
   "id": "62bb467d",
   "metadata": {},
   "source": [
    "# 方法一：中序遍历，总是选择中间位置左边的数字作为根节点"
   ]
  },
  {
   "cell_type": "markdown",
   "id": "eeb4907a",
   "metadata": {},
   "source": [
    "> 为了保证二叉树是高度平衡的，使用中序遍历遍历这个二叉树，每次选择输入数组的中间位置对应的节点作为二叉树每一层的根节点。  \n",
    "由于数组是有序的，因此这保证了根节点左右位置的数的数量相差不超过1。  \n",
    "当带选择的根节点有偶数个时，选择左边的点。"
   ]
  },
  {
   "cell_type": "markdown",
   "id": "c6fab65c",
   "metadata": {},
   "source": [
    "## 复杂度"
   ]
  },
  {
   "cell_type": "markdown",
   "id": "ddd17e87",
   "metadata": {},
   "source": [
    "- 时间复杂度:  $O(n)$ ，其中 $n$ 是数组长度。"
   ]
  },
  {
   "cell_type": "markdown",
   "id": "11b7fd6b",
   "metadata": {},
   "source": [
    "> 每个数字只访问一次。"
   ]
  },
  {
   "cell_type": "markdown",
   "id": "b7470eeb",
   "metadata": {},
   "source": [
    "- 空间复杂度: $O(logn)$ ，其中 $n$ 是数组长度。"
   ]
  },
  {
   "cell_type": "markdown",
   "id": "4dc4aab7",
   "metadata": {},
   "source": [
    "> 空间复杂度不考虑返回值，因此空间复杂度主要取决于递归栈的深度，递归栈的深度是 $O(log⁡n)$ 。"
   ]
  },
  {
   "cell_type": "markdown",
   "id": "2c876f4e",
   "metadata": {},
   "source": [
    "## 代码"
   ]
  },
  {
   "cell_type": "code",
   "execution_count": 1,
   "id": "dd2ed5e4",
   "metadata": {},
   "outputs": [],
   "source": [
    "class TreeNode:\n",
    "    def __init__(self, val=0, left=None, right=None):\n",
    "        self.val = val\n",
    "        self.left = left\n",
    "        self.right = right"
   ]
  },
  {
   "cell_type": "code",
   "execution_count": 2,
   "id": "d5e2f00c",
   "metadata": {},
   "outputs": [],
   "source": [
    "def sortedArrayToBST(nums):\n",
    "    def helper(left, right):\n",
    "        if left > right:  # 保证不会出现重复\n",
    "            return None\n",
    "\n",
    "        # 总是选择中间位置左边的数字（总体为偶数个的情景）作为根节点\n",
    "        mid = (left + right) // 2\n",
    "        root = TreeNode(nums[mid])\n",
    "        # 递归\n",
    "        root.left = helper(left, mid - 1)\n",
    "        root.right = helper(mid + 1, right)\n",
    "        return root\n",
    "\n",
    "    return helper(0, len(nums) - 1)"
   ]
  },
  {
   "cell_type": "markdown",
   "id": "aae3bda9",
   "metadata": {},
   "source": [
    "#### 测试一"
   ]
  },
  {
   "cell_type": "code",
   "execution_count": 4,
   "id": "e707f007",
   "metadata": {},
   "outputs": [
    {
     "name": "stdout",
     "output_type": "stream",
     "text": [
      "0 -10 5 -3 9\n"
     ]
    }
   ],
   "source": [
    "nums = [-10,-3,0,5,9]\n",
    "root = sortedArrayToBST(nums)\n",
    "print(root.val, root.left.val, root.right.val, root.left.right.val, root.right.right.val)"
   ]
  },
  {
   "cell_type": "code",
   "execution_count": null,
   "id": "52875f85",
   "metadata": {},
   "outputs": [],
   "source": []
  }
 ],
 "metadata": {
  "kernelspec": {
   "display_name": "Python 3",
   "language": "python",
   "name": "python3"
  },
  "language_info": {
   "codemirror_mode": {
    "name": "ipython",
    "version": 3
   },
   "file_extension": ".py",
   "mimetype": "text/x-python",
   "name": "python",
   "nbconvert_exporter": "python",
   "pygments_lexer": "ipython3",
   "version": "3.7.4"
  }
 },
 "nbformat": 4,
 "nbformat_minor": 5
}
