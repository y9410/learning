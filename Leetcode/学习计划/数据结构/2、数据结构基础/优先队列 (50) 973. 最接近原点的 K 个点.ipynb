{
 "cells": [
  {
   "cell_type": "markdown",
   "id": "6ffec824",
   "metadata": {},
   "source": [
    "# 题目"
   ]
  },
  {
   "cell_type": "markdown",
   "id": "f71a64cd",
   "metadata": {},
   "source": [
    "> 给定一个数组 points ，其中 points[i] = [xi, yi] 表示 X-Y 平面上的一个点，并且是一个整数 k ，返回离原点 (0,0) 最近的 k 个点。  \n",
    "这里，平面上两点之间的距离是 欧几里德距离。  \n",
    "你可以按任何顺序返回答案。除了点坐标的顺序之外，答案确保是唯一的。"
   ]
  },
  {
   "cell_type": "markdown",
   "id": "c0765a4d",
   "metadata": {},
   "source": [
    "# 方法一：快速排序"
   ]
  },
  {
   "cell_type": "markdown",
   "id": "3923cdf9",
   "metadata": {},
   "source": [
    "> 使用快速排序对每个点的欧式距离进行排序。"
   ]
  },
  {
   "cell_type": "markdown",
   "id": "1d2585a2",
   "metadata": {},
   "source": [
    "## 复杂度"
   ]
  },
  {
   "cell_type": "markdown",
   "id": "8856c617",
   "metadata": {},
   "source": [
    "- 时间复杂度: $O(n)$ ，其中 $n$ 是数组长度。"
   ]
  },
  {
   "cell_type": "markdown",
   "id": "020a795c",
   "metadata": {},
   "source": [
    "> 最坏情况下，时间复杂度为 $O(n^2)$ 。具体地，每次的划分点都是最大值或最小值，一共需要划分 $n−1$ 次，而一次划分需要线性的时间复杂度，所以最坏情况下时间复杂度为 $O(n^2)$ 。"
   ]
  },
  {
   "cell_type": "markdown",
   "id": "9ab6fad6",
   "metadata": {},
   "source": [
    "- 空间复杂度: $O(logn)$ ，其中 $n$ 是数组长度。"
   ]
  },
  {
   "cell_type": "markdown",
   "id": "d2e82704",
   "metadata": {},
   "source": [
    "> 最坏情况下，空间复杂度为 $O(n)$ ，此时需要划分 $n−1$ 次，对应递归的深度为 $n−1$ 层，所以最坏情况下时间复杂度为 $O(n)$ 。"
   ]
  },
  {
   "cell_type": "markdown",
   "id": "dc9a27d6",
   "metadata": {},
   "source": [
    "## 代码"
   ]
  },
  {
   "cell_type": "code",
   "execution_count": 1,
   "id": "a50b2b46",
   "metadata": {},
   "outputs": [],
   "source": [
    "import random"
   ]
  },
  {
   "cell_type": "code",
   "execution_count": 2,
   "id": "1557ebb5",
   "metadata": {},
   "outputs": [],
   "source": [
    "def kClosest(points, k):\n",
    "    def random_select(left, right, k):\n",
    "        pivot_id = random.randint(left, right)  # 随机选择一个位置为基准点\n",
    "        pivot = points[pivot_id][0] ** 2 + points[pivot_id][1] ** 2  # 计算基准点的欧氏距离，得到基准值\n",
    "        points[right], points[pivot_id] = points[pivot_id], points[right]  # 将基准点与最右端点交换\n",
    "        i = left - 1  # i从最左端点的左边一位开始\n",
    "        \n",
    "        # 从左到右遍历数组points，将欧氏距离小于基准值的点移到基准点左边，将欧氏距离大于基准值的点移到基准点右边\n",
    "        for j in range(left, right):\n",
    "            # 若某个点欧氏距离小于等于基准值，则将其与欧式距离大于基准的点进行交换\n",
    "            if points[j][0] ** 2 + points[j][1] ** 2 <= pivot:\n",
    "                i += 1  # 由于只有欧氏距离小于等于基准值i才会+1，因此i要么等于j，要么停在上一个欧式距离大于基准的点\n",
    "                points[i], points[j] = points[j], points[i]  \n",
    "        i += 1  # 将i指向所有欧氏距离小于基准值的点的右边一位\n",
    "        points[i], points[right] = points[right], points[i]  # 最后一次移动（i=right），将基准点移到正确位置\n",
    "        \n",
    "        # [left, i-1] 都小于等于 pivot, [i+1, right] 都大于 pivot\n",
    "        if k < i - left + 1:  # 如果要找k个点都在基准点左边的子数组（包括基准点）里\n",
    "            random_select(left, i - 1, k)  # 对左子数组再次快速排序\n",
    "        elif k > i - left + 1:  # 如果要找k个点不都在基准点左边的子数组（包括基准点）里\n",
    "            random_select(i + 1, right, k - (i - left + 1))  # 则还需要对右子数组进行快速排序，且k=k - (i - left + 1)（因为前i - left + 1个数已经在左子数组里了）\n",
    "\n",
    "    n = len(points)\n",
    "    random_select(0, n - 1, k)\n",
    "    return points[:k]"
   ]
  },
  {
   "cell_type": "markdown",
   "id": "5bfed6bc",
   "metadata": {},
   "source": [
    "#### 测试一"
   ]
  },
  {
   "cell_type": "code",
   "execution_count": 3,
   "id": "a6eb3172",
   "metadata": {},
   "outputs": [
    {
     "data": {
      "text/plain": [
       "[[-2, 2]]"
      ]
     },
     "execution_count": 3,
     "metadata": {},
     "output_type": "execute_result"
    }
   ],
   "source": [
    "points = [[1,3],[-2,2]]\n",
    "k = 1\n",
    "kClosest(points, k)"
   ]
  },
  {
   "cell_type": "markdown",
   "id": "d8189efd",
   "metadata": {},
   "source": [
    "#### 测试二"
   ]
  },
  {
   "cell_type": "code",
   "execution_count": 4,
   "id": "da1efb6b",
   "metadata": {},
   "outputs": [
    {
     "data": {
      "text/plain": [
       "[[3, 3], [-2, 4]]"
      ]
     },
     "execution_count": 4,
     "metadata": {},
     "output_type": "execute_result"
    }
   ],
   "source": [
    "points = [[3,3],[5,-1],[-2,4]]\n",
    "k = 2\n",
    "kClosest(points, k)"
   ]
  },
  {
   "cell_type": "code",
   "execution_count": null,
   "id": "57732235",
   "metadata": {},
   "outputs": [],
   "source": []
  }
 ],
 "metadata": {
  "kernelspec": {
   "display_name": "Python 3",
   "language": "python",
   "name": "python3"
  },
  "language_info": {
   "codemirror_mode": {
    "name": "ipython",
    "version": 3
   },
   "file_extension": ".py",
   "mimetype": "text/x-python",
   "name": "python",
   "nbconvert_exporter": "python",
   "pygments_lexer": "ipython3",
   "version": "3.7.4"
  }
 },
 "nbformat": 4,
 "nbformat_minor": 5
}
