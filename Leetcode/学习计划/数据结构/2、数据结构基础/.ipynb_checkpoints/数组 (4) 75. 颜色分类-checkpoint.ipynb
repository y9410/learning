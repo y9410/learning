{
 "cells": [
  {
   "cell_type": "markdown",
   "id": "3866cd89",
   "metadata": {},
   "source": [
    "# 题目"
   ]
  },
  {
   "cell_type": "markdown",
   "id": "fbff8314",
   "metadata": {},
   "source": [
    "> 给定一个包含红色、白色和蓝色、共 n 个元素的数组 `nums` ，原地（只使用常数的额外存储空间，输出会覆盖输入）对它们进行排序，使得相同颜色的元素相邻，并按照红色、白色、蓝色顺序排列。  \n",
    "我们使用整数 0、 1 和 2 分别表示红色、白色和蓝色。  \n",
    "必须在不使用库内置的 `sort` 函数的情况下解决这个问题。"
   ]
  },
  {
   "cell_type": "markdown",
   "id": "7b9f0692",
   "metadata": {},
   "source": [
    "# 方法一：双指针"
   ]
  },
  {
   "cell_type": "markdown",
   "id": "fa1cefa2",
   "metadata": {},
   "source": [
    "> 从前向后遍历数组，使用两个指针 `p0` 和 `p1` 分别用来指向 0 和 1 的位置，在遍历过程中交换 0,1 与两个指针的位置，在交换 0 时，为了确保不会把 1 再次交换出去，需要对当前元素 i 与 `p1` 位置的元素进行再次交换。"
   ]
  },
  {
   "cell_type": "markdown",
   "id": "4e9c5770",
   "metadata": {},
   "source": [
    "## 复杂度"
   ]
  },
  {
   "cell_type": "markdown",
   "id": "9c729b2c",
   "metadata": {},
   "source": [
    "- 时间复杂度: $O(N)$ ，其中 $N$ 为数组 `nums` 的长度。"
   ]
  },
  {
   "cell_type": "markdown",
   "id": "cd5e44d6",
   "metadata": {},
   "source": [
    "> 遍历数组一次。"
   ]
  },
  {
   "cell_type": "markdown",
   "id": "ce88912d",
   "metadata": {},
   "source": [
    "- 空间复杂度: $O(1)$ 。"
   ]
  },
  {
   "cell_type": "markdown",
   "id": "2b3a9020",
   "metadata": {},
   "source": [
    "## 代码"
   ]
  },
  {
   "cell_type": "code",
   "execution_count": 1,
   "id": "b36aca45",
   "metadata": {},
   "outputs": [],
   "source": [
    "def sortColors(nums):\n",
    "    n = len(nums)\n",
    "    p0 = p1 = 0\n",
    "    for i in range(n):\n",
    "        if nums[i] == 1: #将元素交换到p1的位置\n",
    "            nums[i], nums[p1] = nums[p1], nums[i]\n",
    "            p1 += 1\n",
    "        elif nums[i] == 0:\n",
    "            nums[i], nums[p0] = nums[p0], nums[i]\n",
    "            if p0 < p1: #由于之前将一些1交换到前面，为了保证这些1不会因为p0而再次被交换到后面，因此需要将其与p1再交换一次\n",
    "                nums[i], nums[p1] = nums[p1], nums[i]\n",
    "            #p0和p1无论是否成功交换，都需要向右移动一位，保证不会发生重复\n",
    "            p0 += 1 \n",
    "            p1 += 1"
   ]
  },
  {
   "cell_type": "markdown",
   "id": "42f09a57",
   "metadata": {},
   "source": [
    "#### 测试一"
   ]
  },
  {
   "cell_type": "code",
   "execution_count": 2,
   "id": "d0b93e6d",
   "metadata": {},
   "outputs": [
    {
     "name": "stdout",
     "output_type": "stream",
     "text": [
      "[0, 0, 1, 1, 2, 2]\n"
     ]
    }
   ],
   "source": [
    "nums = [2,0,2,1,1,0]\n",
    "sortColors(nums)\n",
    "print(nums)"
   ]
  },
  {
   "cell_type": "markdown",
   "id": "4c0f6d29",
   "metadata": {},
   "source": [
    "#### 测试二"
   ]
  },
  {
   "cell_type": "code",
   "execution_count": 3,
   "id": "02f2f128",
   "metadata": {},
   "outputs": [
    {
     "name": "stdout",
     "output_type": "stream",
     "text": [
      "[0, 1, 2]\n"
     ]
    }
   ],
   "source": [
    "nums = [2,0,1]\n",
    "sortColors(nums)\n",
    "print(nums)"
   ]
  },
  {
   "cell_type": "code",
   "execution_count": null,
   "id": "4c18ae7c",
   "metadata": {},
   "outputs": [],
   "source": []
  }
 ],
 "metadata": {
  "kernelspec": {
   "display_name": "Python 3",
   "language": "python",
   "name": "python3"
  },
  "language_info": {
   "codemirror_mode": {
    "name": "ipython",
    "version": 3
   },
   "file_extension": ".py",
   "mimetype": "text/x-python",
   "name": "python",
   "nbconvert_exporter": "python",
   "pygments_lexer": "ipython3",
   "version": "3.7.4"
  }
 },
 "nbformat": 4,
 "nbformat_minor": 5
}
