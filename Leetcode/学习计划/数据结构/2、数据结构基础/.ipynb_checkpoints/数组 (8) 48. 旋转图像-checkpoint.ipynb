{
 "cells": [
  {
   "cell_type": "markdown",
   "id": "bb04daa1",
   "metadata": {},
   "source": [
    "# 题目"
   ]
  },
  {
   "cell_type": "markdown",
   "id": "bc529f50",
   "metadata": {},
   "source": [
    "> 给定一个 n × n 的二维矩阵 `matrix` 表示一个图像。请你将图像顺时针旋转 90 度。  \n",
    "你必须在原地旋转图像，这意味着你需要直接修改输入的二维矩阵。请不要使用另一个矩阵来旋转图像。"
   ]
  },
  {
   "cell_type": "markdown",
   "id": "d145c535",
   "metadata": {},
   "source": [
    "# 方法一：原地旋转"
   ]
  },
  {
   "cell_type": "markdown",
   "id": "2e3267cd",
   "metadata": {},
   "source": [
    "> 根据矩阵的边长 $n$ 将矩阵分为四个包含 $n^2//2$ 个元素的小矩阵，遍历其中一个小矩阵的所有元素，每次都交换四个小矩阵对应位置的值，直到遍历结束。  \n",
    "边长 $n$ 为奇数时，中心元素无需改变。例如， $3×3$ 的矩阵左上的小矩阵由位置 (0,0)(0,1) 的元素构成，右上小矩阵由位置 (0,2)(1,2) 的元素构成，以此类推。  \n",
    "\n",
    "> $3×3$ 矩阵的四个小矩阵：  \n",
    "[1,1,2]  \n",
    "[4,0,2]  \n",
    "[4,3,3]  \n",
    "\n",
    "> $4×4$ 矩阵的四个小矩阵：  \n",
    "[1,1,2,2]  \n",
    "[1,1,2,2]  \n",
    "[4,4,3,3]  \n",
    "[4,4,3,3]"
   ]
  },
  {
   "cell_type": "markdown",
   "id": "e2219bb7",
   "metadata": {},
   "source": [
    "## 复杂度"
   ]
  },
  {
   "cell_type": "markdown",
   "id": "e16dc4bd",
   "metadata": {},
   "source": [
    "- 时间复杂度: $O(N^2)$ ，其中 $N$ 为 `matrix` 的边长。"
   ]
  },
  {
   "cell_type": "markdown",
   "id": "7e97db4c",
   "metadata": {},
   "source": [
    "> 需要遍历的小矩阵的大小为 $N^2/4$ （ $N$ 为偶数）或 $(N^2-1)/4$ （ $N$ 为奇数）。"
   ]
  },
  {
   "cell_type": "markdown",
   "id": "e0af18be",
   "metadata": {},
   "source": [
    "- 空间复杂度: $O(1)$ 。"
   ]
  },
  {
   "cell_type": "markdown",
   "id": "5d2da931",
   "metadata": {},
   "source": [
    "> 原地旋转。"
   ]
  },
  {
   "cell_type": "markdown",
   "id": "2fdd79a0",
   "metadata": {},
   "source": [
    "## 代码"
   ]
  },
  {
   "cell_type": "code",
   "execution_count": 1,
   "id": "28533bca",
   "metadata": {},
   "outputs": [],
   "source": [
    "def rotate(matrix):\n",
    "    n = len(matrix)\n",
    "    #可以将矩阵分成四块，每一块包含 n^2//4 个数值，分别遍历每一块的每一个位置，然后旋转四块的对应位置的值\n",
    "    for i in range(n // 2): #每一块的高\n",
    "        for j in range((n + 1) // 2): #每一块的宽\n",
    "            #new[左上,左下,右下,右上] = old[左下,右下,右上,左上]\n",
    "            matrix[i][j], matrix[n - j - 1][i], matrix[n - i - 1][n - j - 1], matrix[j][n - i - 1] \\\n",
    "            = matrix[n - j - 1][i], matrix[n - i - 1][n - j - 1], matrix[j][n - i - 1], matrix[i][j]"
   ]
  },
  {
   "cell_type": "markdown",
   "id": "02f29d70",
   "metadata": {},
   "source": [
    "#### 测试一"
   ]
  },
  {
   "cell_type": "code",
   "execution_count": 2,
   "id": "0ebfb311",
   "metadata": {},
   "outputs": [
    {
     "data": {
      "text/plain": [
       "[[7, 4, 1], [8, 5, 2], [9, 6, 3]]"
      ]
     },
     "execution_count": 2,
     "metadata": {},
     "output_type": "execute_result"
    }
   ],
   "source": [
    "matrix = [[1,2,3],\n",
    "          [4,5,6],\n",
    "          [7,8,9]]\n",
    "rotate(matrix)\n",
    "matrix"
   ]
  },
  {
   "cell_type": "markdown",
   "id": "a6d801a5",
   "metadata": {},
   "source": [
    "#### 测试二"
   ]
  },
  {
   "cell_type": "code",
   "execution_count": 3,
   "id": "47f4c79e",
   "metadata": {},
   "outputs": [
    {
     "data": {
      "text/plain": [
       "[[15, 13, 2, 5], [14, 3, 4, 1], [12, 6, 8, 9], [16, 7, 10, 11]]"
      ]
     },
     "execution_count": 3,
     "metadata": {},
     "output_type": "execute_result"
    }
   ],
   "source": [
    "matrix = [[5,1,9,11],\n",
    "          [2,4,8,10],\n",
    "          [13,3,6,7],\n",
    "          [15,14,12,16]]\n",
    "rotate(matrix)\n",
    "matrix"
   ]
  },
  {
   "cell_type": "code",
   "execution_count": null,
   "id": "49ab0148",
   "metadata": {},
   "outputs": [],
   "source": []
  }
 ],
 "metadata": {
  "kernelspec": {
   "display_name": "Python 3",
   "language": "python",
   "name": "python3"
  },
  "language_info": {
   "codemirror_mode": {
    "name": "ipython",
    "version": 3
   },
   "file_extension": ".py",
   "mimetype": "text/x-python",
   "name": "python",
   "nbconvert_exporter": "python",
   "pygments_lexer": "ipython3",
   "version": "3.7.4"
  }
 },
 "nbformat": 4,
 "nbformat_minor": 5
}
