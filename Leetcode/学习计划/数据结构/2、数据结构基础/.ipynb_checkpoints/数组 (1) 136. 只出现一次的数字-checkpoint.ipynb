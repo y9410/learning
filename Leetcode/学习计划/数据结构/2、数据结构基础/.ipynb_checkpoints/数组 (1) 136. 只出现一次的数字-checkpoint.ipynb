{
 "cells": [
  {
   "cell_type": "markdown",
   "id": "c3f11535",
   "metadata": {},
   "source": [
    "# 题目"
   ]
  },
  {
   "cell_type": "markdown",
   "id": "baac83e9",
   "metadata": {},
   "source": [
    "> 给你一个非空整数数组 `nums` ，除了某个元素只出现一次以外，其余每个元素均出现两次。找出那个只出现了一次的元素。  \n",
    "你必须设计并实现线性时间复杂度的算法来解决此问题，且该算法只使用常量额外空间。"
   ]
  },
  {
   "cell_type": "markdown",
   "id": "0524ef4a",
   "metadata": {},
   "source": [
    "# 方法一：位运算"
   ]
  },
  {
   "cell_type": "markdown",
   "id": "795e9faf",
   "metadata": {},
   "source": [
    "> **异或运算：**a⊕b = (¬a ∧ b) ∨ (a ∧¬b)  \n",
    "异或运算的性质有：a⊕0=a，a⊕a=0，a⊕b⊕a=b⊕a⊕a=b⊕(a⊕a)=b⊕0=b。  \n",
    "因此，对数组中的所有数做异或运算，即使用交换律，将所有相同的数放到一起，最终得到的结果即为只出现一次的数。  \n",
    "(a<sub>1</sub>⊕a<sub>1</sub>)⊕(a<sub>2</sub>⊕a<sub>2</sub>)⊕⋯⊕(a<sub>m</sub>⊕a<sub>m</sub>)⊕a<sub>m+1</sub>=0⊕0⊕⋯0⊕a<sub>m+1</sub>=a<sub>m+1</sub>"
   ]
  },
  {
   "cell_type": "markdown",
   "id": "5a068e53",
   "metadata": {},
   "source": [
    "## 复杂度"
   ]
  },
  {
   "cell_type": "markdown",
   "id": "43d64009",
   "metadata": {},
   "source": [
    "- 时间复杂度: $O(n)$ ，其中 $n$ 为数组 `nums` 的长度。"
   ]
  },
  {
   "cell_type": "markdown",
   "id": "1024c128",
   "metadata": {},
   "source": [
    "> 只需要对数组遍历一次。"
   ]
  },
  {
   "cell_type": "markdown",
   "id": "40ce034b",
   "metadata": {},
   "source": [
    "- 空间复杂度: $O(1)$ 。"
   ]
  },
  {
   "cell_type": "markdown",
   "id": "16ff77e8",
   "metadata": {},
   "source": [
    "## 代码"
   ]
  },
  {
   "cell_type": "code",
   "execution_count": 1,
   "id": "8725182a",
   "metadata": {},
   "outputs": [],
   "source": [
    "from functools import reduce"
   ]
  },
  {
   "cell_type": "code",
   "execution_count": 2,
   "id": "a8e3c607",
   "metadata": {},
   "outputs": [],
   "source": [
    "def singleNumber(nums):\n",
    "    return reduce(lambda x, y: x ^ y, nums) #reduce表示对某个序列做两两累加运算，即先算第一个元素和第二个元素，再算其结果与第三个元素；x^y为异或运算"
   ]
  },
  {
   "cell_type": "markdown",
   "id": "f99f2fb8",
   "metadata": {},
   "source": [
    "#### 测试一"
   ]
  },
  {
   "cell_type": "code",
   "execution_count": 3,
   "id": "a93706bf",
   "metadata": {},
   "outputs": [
    {
     "data": {
      "text/plain": [
       "1"
      ]
     },
     "execution_count": 3,
     "metadata": {},
     "output_type": "execute_result"
    }
   ],
   "source": [
    "nums = [2,2,1]\n",
    "singleNumber(nums)"
   ]
  },
  {
   "cell_type": "markdown",
   "id": "7fa4cf99",
   "metadata": {},
   "source": [
    "#### 测试二"
   ]
  },
  {
   "cell_type": "code",
   "execution_count": 4,
   "id": "a13bdfae",
   "metadata": {},
   "outputs": [
    {
     "data": {
      "text/plain": [
       "4"
      ]
     },
     "execution_count": 4,
     "metadata": {},
     "output_type": "execute_result"
    }
   ],
   "source": [
    "nums = [4,1,2,1,2]\n",
    "singleNumber(nums)"
   ]
  },
  {
   "cell_type": "code",
   "execution_count": null,
   "id": "f3ef96d4",
   "metadata": {},
   "outputs": [],
   "source": []
  }
 ],
 "metadata": {
  "kernelspec": {
   "display_name": "Python 3",
   "language": "python",
   "name": "python3"
  },
  "language_info": {
   "codemirror_mode": {
    "name": "ipython",
    "version": 3
   },
   "file_extension": ".py",
   "mimetype": "text/x-python",
   "name": "python",
   "nbconvert_exporter": "python",
   "pygments_lexer": "ipython3",
   "version": "3.7.4"
  }
 },
 "nbformat": 4,
 "nbformat_minor": 5
}
