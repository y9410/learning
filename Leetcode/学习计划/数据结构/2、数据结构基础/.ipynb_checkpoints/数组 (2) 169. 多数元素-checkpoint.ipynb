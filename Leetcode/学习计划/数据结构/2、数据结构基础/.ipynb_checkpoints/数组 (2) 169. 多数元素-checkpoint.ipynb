{
 "cells": [
  {
   "cell_type": "markdown",
   "id": "ae2a37b0",
   "metadata": {},
   "source": [
    "# 题目"
   ]
  },
  {
   "cell_type": "markdown",
   "id": "ddb54a81",
   "metadata": {},
   "source": [
    "> 给定一个大小为 n 的数组 `nums` ，返回其中的多数元素。多数元素是指在数组中出现次数大于 n/2 的元素。  \n",
    "你可以假设数组是非空的，并且给定的数组总是存在多数元素。"
   ]
  },
  {
   "cell_type": "markdown",
   "id": "934c7431",
   "metadata": {},
   "source": [
    "# 方法一：哈希表"
   ]
  },
  {
   "cell_type": "markdown",
   "id": "fd82d937",
   "metadata": {},
   "source": [
    "> 遍历数组，使用哈希表记录每个数出现的次数。"
   ]
  },
  {
   "cell_type": "markdown",
   "id": "e901d592",
   "metadata": {},
   "source": [
    "# 方法二：排序"
   ]
  },
  {
   "cell_type": "markdown",
   "id": "c8322ba9",
   "metadata": {},
   "source": [
    "> 将数组由小到大排序，返回 n/2 位置的数。  \n",
    "时间复杂度为 $O(nlogn)$ ，空间复杂度为使用栈空间的开销 $O(logn)$ 。"
   ]
  },
  {
   "cell_type": "markdown",
   "id": "5b53e150",
   "metadata": {},
   "source": [
    "# 方法三：分治"
   ]
  },
  {
   "cell_type": "markdown",
   "id": "39bf3906",
   "metadata": {},
   "source": [
    "> 如果数 `a` 是数组 `nums` 的众数，如果我们将 `nums` 分成两部分，那么 `a` 必定是至少一部分的众数。  \n",
    "使用经典的分治算法递归求解，直到所有的子问题都是长度为 1 的数组：  \n",
    "1、长度为 1 的子数组中唯一的数显然是众数，直接返回即可；  \n",
    "2、如果回溯后某区间的长度大于 1，我们必须将左右子区间的值合并；  \n",
    "3、如果它们的众数相同，那么显然这一段区间的众数是它们相同的值；  \n",
    "4、否则需要比较两个众数在整个区间内出现的次数来决定该区间的众数。  \n",
    "时间复杂度为 $O(nlogn)$ ，空间复杂度为递归的开销 $O(logn)$ 。"
   ]
  },
  {
   "cell_type": "markdown",
   "id": "a4e9dfac",
   "metadata": {},
   "source": [
    "# 方法四：随机化"
   ]
  },
  {
   "cell_type": "markdown",
   "id": "1a6b6998",
   "metadata": {},
   "source": [
    "> 由于一个给定的下标对应的数字很有可能是众数，随机挑选一个下标，检查它是否是众数，如果是就返回，否则继续随机挑选。"
   ]
  },
  {
   "cell_type": "markdown",
   "id": "7609d9cc",
   "metadata": {},
   "source": [
    "## 复杂度"
   ]
  },
  {
   "cell_type": "markdown",
   "id": "927d4f9c",
   "metadata": {},
   "source": [
    "- 时间复杂度: $O(n)$ ，其中 $n$ 为数组 `nums` 的长度。"
   ]
  },
  {
   "cell_type": "markdown",
   "id": "6c3fb328",
   "metadata": {},
   "source": [
    "> 时间复杂度与随机的期望次数有关，在众数个数正好为 1/2 时，期望次数最大。此时为：  \n",
    "$\\lim _{n \\rightarrow \\infty} \\sum_{i=1}^n i \\cdot \\frac{1}{2^i} = 2$  \n",
    "> 即：找 1 次就找到众数的概率为 1/2 ，找 2 次找到众数的概率为 1/2 × 1/2 （第一次有 1/2 概率没找到，第二次有 1/2 概率找到），以此类推，第 n 次找到众数的概率为 (1/2)^n 。  \n",
    "找到众数的期望次数为常数，每次找到众数后需要进行 $O(n)$ 复杂度的遍历，因此时间复杂度为 $O(n)$ 。"
   ]
  },
  {
   "cell_type": "markdown",
   "id": "e09eeed5",
   "metadata": {},
   "source": [
    "- 空间复杂度: $O(1)$ 。"
   ]
  },
  {
   "cell_type": "markdown",
   "id": "0f771ec2",
   "metadata": {},
   "source": [
    "> 随机方法只需要常数级别的额外空间。"
   ]
  },
  {
   "cell_type": "markdown",
   "id": "154cc7dc",
   "metadata": {},
   "source": [
    "## 代码"
   ]
  },
  {
   "cell_type": "code",
   "execution_count": 1,
   "id": "5af66841",
   "metadata": {},
   "outputs": [],
   "source": [
    "import random"
   ]
  },
  {
   "cell_type": "code",
   "execution_count": 2,
   "id": "cf75431d",
   "metadata": {},
   "outputs": [],
   "source": [
    "def majorityElement(nums):\n",
    "    majority_count = len(nums) // 2\n",
    "    while True:\n",
    "        candidate = random.choice(nums)\n",
    "        if sum(1 for elem in nums if elem == candidate) > majority_count: #判断随机选出的数是否为众数\n",
    "            return candidate"
   ]
  },
  {
   "cell_type": "markdown",
   "id": "973e46da",
   "metadata": {},
   "source": [
    "#### 测试一"
   ]
  },
  {
   "cell_type": "code",
   "execution_count": 3,
   "id": "8e747081",
   "metadata": {},
   "outputs": [
    {
     "data": {
      "text/plain": [
       "3"
      ]
     },
     "execution_count": 3,
     "metadata": {},
     "output_type": "execute_result"
    }
   ],
   "source": [
    "nums = [3,2,3]\n",
    "majorityElement(nums)"
   ]
  },
  {
   "cell_type": "markdown",
   "id": "3704aa42",
   "metadata": {},
   "source": [
    "#### 测试二"
   ]
  },
  {
   "cell_type": "code",
   "execution_count": 4,
   "id": "94e99e45",
   "metadata": {},
   "outputs": [
    {
     "data": {
      "text/plain": [
       "2"
      ]
     },
     "execution_count": 4,
     "metadata": {},
     "output_type": "execute_result"
    }
   ],
   "source": [
    "nums = [2,2,1,1,1,2,2]\n",
    "majorityElement(nums)"
   ]
  },
  {
   "cell_type": "markdown",
   "id": "da6907f2",
   "metadata": {},
   "source": [
    "# 方法五：Boyer-Moore 投票算法"
   ]
  },
  {
   "cell_type": "markdown",
   "id": "eb203bd3",
   "metadata": {},
   "source": [
    "> 一个数组中的众数出现的次数肯定多余其余所有数出现的次数。因此，可以顺序遍历数组，设置变量 `candidate` 代表候选众数，设置变量 `count` 用于统计众数出现的次数多余非众数的值。  \n",
    "1、令 `candidate` 为 `None` ，令 `count` 初始化为 `0` ;  \n",
    "2、对于数组的每个数：  \n",
    "若 `count = 0` ，则令 `candidate` 等于当前的数且 `count = count + 1` ；  \n",
    "否则，若其与 `candidate` 相同，则 `count = count + 1` ；若不同则 `count = count - 1` 。  \n",
    "3、数组遍历完后， `candidate` 即为众数。"
   ]
  },
  {
   "cell_type": "markdown",
   "id": "8ce5f133",
   "metadata": {},
   "source": [
    "## 复杂度"
   ]
  },
  {
   "cell_type": "markdown",
   "id": "a4f60d5c",
   "metadata": {},
   "source": [
    "- 时间复杂度: $O(n)$ ，其中 $n$ 为数组 `nums` 的长度。"
   ]
  },
  {
   "cell_type": "markdown",
   "id": "a56e7e13",
   "metadata": {},
   "source": [
    "> 只对数组遍历一次"
   ]
  },
  {
   "cell_type": "markdown",
   "id": "8cf5db35",
   "metadata": {},
   "source": [
    "- 空间复杂度: $O(1)$ 。"
   ]
  },
  {
   "cell_type": "markdown",
   "id": "db37e3a1",
   "metadata": {},
   "source": [
    "> 只需要常数级别的额外空间。"
   ]
  },
  {
   "cell_type": "markdown",
   "id": "5d3a6335",
   "metadata": {},
   "source": [
    "## 代码"
   ]
  },
  {
   "cell_type": "code",
   "execution_count": 5,
   "id": "8b65887b",
   "metadata": {},
   "outputs": [],
   "source": [
    "def majorityElement(nums):\n",
    "    count = 0\n",
    "    candidate = None\n",
    "\n",
    "    for num in nums:\n",
    "        if count == 0:\n",
    "            candidate = num\n",
    "        count += (1 if num == candidate else -1)\n",
    "\n",
    "    return candidate"
   ]
  },
  {
   "cell_type": "markdown",
   "id": "e352b50e",
   "metadata": {},
   "source": [
    "#### 测试一"
   ]
  },
  {
   "cell_type": "code",
   "execution_count": 6,
   "id": "3c7f7d67",
   "metadata": {},
   "outputs": [
    {
     "data": {
      "text/plain": [
       "3"
      ]
     },
     "execution_count": 6,
     "metadata": {},
     "output_type": "execute_result"
    }
   ],
   "source": [
    "nums = [3,2,3]\n",
    "majorityElement(nums)"
   ]
  },
  {
   "cell_type": "markdown",
   "id": "7fd2dd3d",
   "metadata": {},
   "source": [
    "#### 测试二"
   ]
  },
  {
   "cell_type": "code",
   "execution_count": 7,
   "id": "3040a9df",
   "metadata": {},
   "outputs": [
    {
     "data": {
      "text/plain": [
       "2"
      ]
     },
     "execution_count": 7,
     "metadata": {},
     "output_type": "execute_result"
    }
   ],
   "source": [
    "nums = [2,2,1,1,1,2,2]\n",
    "majorityElement(nums)"
   ]
  },
  {
   "cell_type": "code",
   "execution_count": null,
   "id": "9794e249",
   "metadata": {},
   "outputs": [],
   "source": []
  }
 ],
 "metadata": {
  "kernelspec": {
   "display_name": "Python 3",
   "language": "python",
   "name": "python3"
  },
  "language_info": {
   "codemirror_mode": {
    "name": "ipython",
    "version": 3
   },
   "file_extension": ".py",
   "mimetype": "text/x-python",
   "name": "python",
   "nbconvert_exporter": "python",
   "pygments_lexer": "ipython3",
   "version": "3.7.4"
  }
 },
 "nbformat": 4,
 "nbformat_minor": 5
}
