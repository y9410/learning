{
 "cells": [
  {
   "cell_type": "markdown",
   "id": "096b85ae",
   "metadata": {},
   "source": [
    "# 题目"
   ]
  },
  {
   "cell_type": "markdown",
   "id": "4eb6c924",
   "metadata": {},
   "source": [
    "> 给你一个正整数 n ，生成一个包含 1 到 $n^2$ 所有元素，且元素按顺时针顺序螺旋排列的 n × n 正方形矩阵 `matrix` 。"
   ]
  },
  {
   "cell_type": "markdown",
   "id": "4ccae158",
   "metadata": {},
   "source": [
    "# 方法一：原地旋转"
   ]
  },
  {
   "cell_type": "markdown",
   "id": "f73ceef4",
   "metadata": {},
   "source": [
    "> 模拟矩阵的生成。按照要求，初始位置设为矩阵的左上角，初始方向设为向右。若下一步的位置超出矩阵边界，或者是之前访问过的位置，则顺时针旋转，进入下一个方向。如此反复直至填入 $n^2$ 个元素。"
   ]
  },
  {
   "cell_type": "markdown",
   "id": "8413ba53",
   "metadata": {},
   "source": [
    "## 复杂度"
   ]
  },
  {
   "cell_type": "markdown",
   "id": "b4deb47c",
   "metadata": {},
   "source": [
    "- 时间复杂度: $O(n^2)$ ，其中 $n$ 为给定的正整数。"
   ]
  },
  {
   "cell_type": "markdown",
   "id": "9e2c390d",
   "metadata": {},
   "source": [
    "> 需要遍历 $O(n^2)$ 个位置。"
   ]
  },
  {
   "cell_type": "markdown",
   "id": "e659d6e8",
   "metadata": {},
   "source": [
    "- 空间复杂度: $O(1)$ 。"
   ]
  },
  {
   "cell_type": "markdown",
   "id": "2f347e6f",
   "metadata": {},
   "source": [
    "> 除了返回的矩阵以外，空间复杂度是常数。"
   ]
  },
  {
   "cell_type": "markdown",
   "id": "52f32554",
   "metadata": {},
   "source": [
    "## 代码"
   ]
  },
  {
   "cell_type": "code",
   "execution_count": 1,
   "id": "c4b12a8b",
   "metadata": {},
   "outputs": [],
   "source": [
    "def generateMatrix(n):\n",
    "    dirs = [(0, 1), (1, 0), (0, -1), (-1, 0)] #定义四个方向，分别代表：向右、向下、向左、向上\n",
    "    matrix = [[0] * n for _ in range(n)] #生成一个n×n的矩阵\n",
    "    row, col, dirIdx = 0, 0, 0 #dirIdx表示当前方向\n",
    "    for i in range(n * n):\n",
    "        matrix[row][col] = i + 1\n",
    "        dx, dy = dirs[dirIdx] #行列位置的变化与当前的方向有关\n",
    "        \n",
    "        #移动到下一个位置之前要判断是否改变移动方向\n",
    "        r, c = row + dx, col + dy\n",
    "        if r < 0 or r >= n or c < 0 or c >= n or matrix[r][c] > 0: #改变方向的条件为：行/列位置超过上下/左右边界，或当前位置已被填写\n",
    "            dirIdx = (dirIdx + 1) % 4 #顺时针旋转至下一个方向\n",
    "            dx, dy = dirs[dirIdx]\n",
    "        \n",
    "        row, col = row + dx, col + dy #移动到下一个位置\n",
    "        \n",
    "    return matrix"
   ]
  },
  {
   "cell_type": "markdown",
   "id": "ed04901f",
   "metadata": {},
   "source": [
    "#### 测试一"
   ]
  },
  {
   "cell_type": "code",
   "execution_count": 2,
   "id": "e26924bf",
   "metadata": {},
   "outputs": [
    {
     "data": {
      "text/plain": [
       "[[1, 2, 3], [8, 9, 4], [7, 6, 5]]"
      ]
     },
     "execution_count": 2,
     "metadata": {},
     "output_type": "execute_result"
    }
   ],
   "source": [
    "n = 3\n",
    "generateMatrix(n)"
   ]
  },
  {
   "cell_type": "markdown",
   "id": "ab18f471",
   "metadata": {},
   "source": [
    "#### 测试二"
   ]
  },
  {
   "cell_type": "code",
   "execution_count": 3,
   "id": "44ca0bf3",
   "metadata": {},
   "outputs": [
    {
     "data": {
      "text/plain": [
       "[[1, 2, 3, 4], [12, 13, 14, 5], [11, 16, 15, 6], [10, 9, 8, 7]]"
      ]
     },
     "execution_count": 3,
     "metadata": {},
     "output_type": "execute_result"
    }
   ],
   "source": [
    "n = 4\n",
    "generateMatrix(n)"
   ]
  },
  {
   "cell_type": "code",
   "execution_count": null,
   "id": "2dc03537",
   "metadata": {},
   "outputs": [],
   "source": []
  }
 ],
 "metadata": {
  "kernelspec": {
   "display_name": "Python 3",
   "language": "python",
   "name": "python3"
  },
  "language_info": {
   "codemirror_mode": {
    "name": "ipython",
    "version": 3
   },
   "file_extension": ".py",
   "mimetype": "text/x-python",
   "name": "python",
   "nbconvert_exporter": "python",
   "pygments_lexer": "ipython3",
   "version": "3.7.4"
  }
 },
 "nbformat": 4,
 "nbformat_minor": 5
}
