{
 "cells": [
  {
   "cell_type": "markdown",
   "id": "e5ef7241",
   "metadata": {},
   "source": [
    "# 题目"
   ]
  },
  {
   "cell_type": "markdown",
   "id": "92905c99",
   "metadata": {},
   "source": [
    "> 以数组 `intervals` 表示若干个区间的集合，其中单个区间为 `intervals[i] = [starti, endi]` 。请你合并所有重叠的区间，并返回一个不重叠的区间数组，该数组需恰好覆盖输入中的所有区间。"
   ]
  },
  {
   "cell_type": "markdown",
   "id": "13024be0",
   "metadata": {},
   "source": [
    "# 方法一：排序"
   ]
  },
  {
   "cell_type": "markdown",
   "id": "9dfe19d8",
   "metadata": {},
   "source": [
    "> 将所有区间按照区间下界由小到大排序，此时重叠发生在相邻区间当中。遍历所有区间，依次判断其与答案中的最后一个区间是否有重叠，若不重叠则直接加入答案，否则进行合并后加入答案。"
   ]
  },
  {
   "cell_type": "markdown",
   "id": "e092c56d",
   "metadata": {},
   "source": [
    "## 复杂度"
   ]
  },
  {
   "cell_type": "markdown",
   "id": "bb5702b6",
   "metadata": {},
   "source": [
    "- 时间复杂度: $O(NlogN)$ ，其中 $N$ 为数组 `intervals` 的长度。"
   ]
  },
  {
   "cell_type": "markdown",
   "id": "f2fd6c4c",
   "metadata": {},
   "source": [
    "> 排序的时间开销大于遍历数组的开销。"
   ]
  },
  {
   "cell_type": "markdown",
   "id": "f905441e",
   "metadata": {},
   "source": [
    "- 空间复杂度: $O(logN)$ ，其中 $N$ 为数组 `intervals` 的长度。"
   ]
  },
  {
   "cell_type": "markdown",
   "id": "cd88cc25",
   "metadata": {},
   "source": [
    "> 储存答案之外，排序的空间开销。"
   ]
  },
  {
   "cell_type": "markdown",
   "id": "2b6c5e17",
   "metadata": {},
   "source": [
    "## 代码"
   ]
  },
  {
   "cell_type": "code",
   "execution_count": 1,
   "id": "231c64fb",
   "metadata": {},
   "outputs": [],
   "source": [
    "def merge(intervals):\n",
    "    intervals.sort(key=lambda x: x[0]) #按照所有区间下界由小到大排序\n",
    "\n",
    "    merged = []\n",
    "    for interval in intervals:\n",
    "        #如果列表为空，或者当前区间与上一区间不重合，直接添加\n",
    "        if not merged or merged[-1][1] < interval[0]:\n",
    "            merged.append(interval)\n",
    "        else:\n",
    "            #否则的话，我们就可以与上一区间进行合并\n",
    "            merged[-1][1] = max(merged[-1][1], interval[1])\n",
    "\n",
    "    return merged"
   ]
  },
  {
   "cell_type": "markdown",
   "id": "29a6d6a4",
   "metadata": {},
   "source": [
    "#### 测试一"
   ]
  },
  {
   "cell_type": "code",
   "execution_count": 2,
   "id": "a3979d0d",
   "metadata": {},
   "outputs": [],
   "source": [
    "intervals = [[1,3],[2,6],[8,10],[15,18]]\n",
    "merge(intervals)"
   ]
  },
  {
   "cell_type": "markdown",
   "id": "90c08f4a",
   "metadata": {},
   "source": [
    "#### 测试二"
   ]
  },
  {
   "cell_type": "code",
   "execution_count": 3,
   "id": "fbea7952",
   "metadata": {},
   "outputs": [],
   "source": [
    "intervals = [[1,4],[4,5]]\n",
    "merge(intervals)"
   ]
  },
  {
   "cell_type": "code",
   "execution_count": null,
   "id": "29455855",
   "metadata": {},
   "outputs": [],
   "source": []
  }
 ],
 "metadata": {
  "kernelspec": {
   "display_name": "Python 3",
   "language": "python",
   "name": "python3"
  },
  "language_info": {
   "codemirror_mode": {
    "name": "ipython",
    "version": 3
   },
   "file_extension": ".py",
   "mimetype": "text/x-python",
   "name": "python",
   "nbconvert_exporter": "python",
   "pygments_lexer": "ipython3",
   "version": "3.7.4"
  }
 },
 "nbformat": 4,
 "nbformat_minor": 5
}
