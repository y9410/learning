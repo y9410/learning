{
 "cells": [
  {
   "cell_type": "markdown",
   "id": "03efda60",
   "metadata": {},
   "source": [
    "# 题目"
   ]
  },
  {
   "cell_type": "markdown",
   "id": "f9ada30b",
   "metadata": {},
   "source": [
    "> 给你一个整数数组 `nums` 和一个整数 `k` ，请你统计并返回该数组中和为 `k` 的连续子数组的个数。"
   ]
  },
  {
   "cell_type": "markdown",
   "id": "aecaa8ed",
   "metadata": {},
   "source": [
    "# 方法一：前缀和+哈希表"
   ]
  },
  {
   "cell_type": "markdown",
   "id": "62fe21f6",
   "metadata": {},
   "source": [
    "> 数组中，元素i的前缀和为从第1个元素加到元素i的和。  \n",
    "> 遍历输入数组，用字典记录每个元素的前缀和及该前缀和出现的次数。若元素i和元素j的前缀和相减的结果是目标值k，说明位置在[i+1,j]的子数组的和是k。  \n",
    "> 因此，每次计算完前缀和后，计算前缀和与k的差值，在字典中查询其次数，该次数即为到当前为止和为k的子数组的个数。  \n",
    "> **注意：**若 前缀和-k 的值在字典中出现多次，则说明有多个子数组和为k。"
   ]
  },
  {
   "cell_type": "markdown",
   "id": "0bc3d790",
   "metadata": {},
   "source": [
    "## 复杂度"
   ]
  },
  {
   "cell_type": "markdown",
   "id": "976ae838",
   "metadata": {},
   "source": [
    "- 时间复杂度: $O(n)$ ，其中 $n$ 是输入数组长度。"
   ]
  },
  {
   "cell_type": "markdown",
   "id": "4e33c993",
   "metadata": {},
   "source": [
    "> 遍历数组的时间复杂度高于使用哈希表的时间复杂度。"
   ]
  },
  {
   "cell_type": "markdown",
   "id": "fdfce4d6",
   "metadata": {},
   "source": [
    "- 空间复杂度: $O(n)$ ，其中 $n$ 是输入数组长度。"
   ]
  },
  {
   "cell_type": "markdown",
   "id": "37197264",
   "metadata": {},
   "source": [
    "> 哈希表最多可能拥有n个键值对。"
   ]
  },
  {
   "cell_type": "markdown",
   "id": "2bd05567",
   "metadata": {},
   "source": [
    "## 代码"
   ]
  },
  {
   "cell_type": "code",
   "execution_count": 1,
   "id": "cca6d53c",
   "metadata": {},
   "outputs": [],
   "source": [
    "import collections"
   ]
  },
  {
   "cell_type": "code",
   "execution_count": 2,
   "id": "225399ec",
   "metadata": {},
   "outputs": [],
   "source": [
    "def subarraySum(nums, k):\n",
    "    #要求的连续子数组\n",
    "    count = 0\n",
    "    n = len(nums)\n",
    "    preSums = collections.defaultdict(int) #用于计数，即统计某个键出现了几次\n",
    "    preSums[0] = 1\n",
    "\n",
    "    presum = 0\n",
    "    for i in range(n):\n",
    "        presum += nums[i] #求元素i的前缀和（即元素i前面所有元素与元素i的和）   \n",
    "        #若元素i的前缀和减去k在字典中存在，则说明存在和为k的子数组\n",
    "        count += preSums[presum - k] #利用defaultdict的特性，当presum-k不存在时，返回的是0。这样避免了判断\n",
    "        preSums[presum] += 1 #给前缀和为presum的个数加1\n",
    "            \n",
    "    return count"
   ]
  },
  {
   "cell_type": "markdown",
   "id": "6418592f",
   "metadata": {},
   "source": [
    "#### 测试一"
   ]
  },
  {
   "cell_type": "code",
   "execution_count": 3,
   "id": "b7ab4fb9",
   "metadata": {},
   "outputs": [],
   "source": [
    "nums = [1,1,1]\n",
    "k = 2\n",
    "subarraySum(nums, k)"
   ]
  },
  {
   "cell_type": "markdown",
   "id": "32f4d4ec",
   "metadata": {},
   "source": [
    "#### 测试二"
   ]
  },
  {
   "cell_type": "code",
   "execution_count": 4,
   "id": "5e4689f9",
   "metadata": {},
   "outputs": [],
   "source": [
    "nums = [1,2,3]\n",
    "k = 3\n",
    "subarraySum(nums, k)"
   ]
  },
  {
   "cell_type": "code",
   "execution_count": null,
   "id": "8c1e0f83",
   "metadata": {},
   "outputs": [],
   "source": []
  }
 ],
 "metadata": {
  "kernelspec": {
   "display_name": "Python 3",
   "language": "python",
   "name": "python3"
  },
  "language_info": {
   "codemirror_mode": {
    "name": "ipython",
    "version": 3
   },
   "file_extension": ".py",
   "mimetype": "text/x-python",
   "name": "python",
   "nbconvert_exporter": "python",
   "pygments_lexer": "ipython3",
   "version": "3.7.4"
  }
 },
 "nbformat": 4,
 "nbformat_minor": 5
}
