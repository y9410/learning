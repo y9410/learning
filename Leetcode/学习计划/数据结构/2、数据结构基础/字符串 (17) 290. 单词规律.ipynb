{
 "cells": [
  {
   "cell_type": "markdown",
   "id": "103d5242",
   "metadata": {},
   "source": [
    "# 题目"
   ]
  },
  {
   "cell_type": "markdown",
   "id": "55511014",
   "metadata": {},
   "source": [
    "> 给定一种规律 `pattern` 和一个字符串 `s` ，判断 `s` 是否遵循相同的规律。  \n",
    "这里的遵循指完全匹配，例如， `pattern` 里的每个字母和字符串 `s` 中的每个非空单词之间存在着双向连接的对应规律。  \n",
    " `pattern` 只包含小写英文字母， `s` 只包含小写英文字母和空格。"
   ]
  },
  {
   "cell_type": "markdown",
   "id": "0c8a7798",
   "metadata": {},
   "source": [
    "# 方法一：哈希表"
   ]
  },
  {
   "cell_type": "markdown",
   "id": "56b2230d",
   "metadata": {},
   "source": [
    "> 若回文串的长度为偶数，则其中的所有字符都出现偶数次，否则有某一字符出现奇数次。  \n",
    "因此，遍历字符串 `s` ，用哈希表记录其中每个字符串的出现次数，再遍历哈希表，计算每个字符出现了多少个2的倍数次，在遍历哈希表时，若某个数出现奇数次，则最终的回文串长度+1。"
   ]
  },
  {
   "cell_type": "markdown",
   "id": "b9ff87cb",
   "metadata": {},
   "source": [
    "## 复杂度"
   ]
  },
  {
   "cell_type": "markdown",
   "id": "10a01d4b",
   "metadata": {},
   "source": [
    "- 时间复杂度: $O(n+m)$ ，其中 $n,m$ 分别是模式和字符串的长度。"
   ]
  },
  {
   "cell_type": "markdown",
   "id": "b892038b",
   "metadata": {},
   "source": [
    "> 插入和查询哈希表的均摊时间复杂度均为 $O(n+m)$ 。每一个字符至多只被遍历一次。"
   ]
  },
  {
   "cell_type": "markdown",
   "id": "9eb67a25",
   "metadata": {},
   "source": [
    "- 空间复杂度: $O(n+m)$ ，其中 $n,m$ 分别是模式和字符串的长度。"
   ]
  },
  {
   "cell_type": "markdown",
   "id": "69d68912",
   "metadata": {},
   "source": [
    "> 最坏情况下，我们需要存储模式和字符串中的每一个字符。"
   ]
  },
  {
   "cell_type": "markdown",
   "id": "acf70daf",
   "metadata": {},
   "source": [
    "## 代码"
   ]
  },
  {
   "cell_type": "code",
   "execution_count": 1,
   "id": "534d4f08",
   "metadata": {},
   "outputs": [],
   "source": [
    "def wordPattern(pattern, s):\n",
    "    word2ch = dict()\n",
    "    ch2word = dict()\n",
    "    words = s.split()  # 按空格将字符串s切分成单词列表\n",
    "    if len(pattern) != len(words):\n",
    "        return False\n",
    "    \n",
    "    for ch, word in zip(pattern, words):  # zip函数将两个列表组合成一个新列表，每个位置的元素都是一个包含原来两个列表中相同位置元素组成的元组。\n",
    "        # 判断模式对应的单词与单词对应的模式是否分别与另一个指针指向的相同\n",
    "        if (word in word2ch and word2ch[word] != ch) or (ch in ch2word and ch2word[ch] != word):\n",
    "            return False\n",
    "        word2ch[word] = ch\n",
    "        ch2word[ch] = word\n",
    "\n",
    "    return True"
   ]
  },
  {
   "cell_type": "markdown",
   "id": "d7aecf15",
   "metadata": {},
   "source": [
    "#### 测试一"
   ]
  },
  {
   "cell_type": "code",
   "execution_count": 2,
   "id": "2103619f",
   "metadata": {},
   "outputs": [
    {
     "data": {
      "text/plain": [
       "True"
      ]
     },
     "execution_count": 2,
     "metadata": {},
     "output_type": "execute_result"
    }
   ],
   "source": [
    "pattern = \"abba\"\n",
    "s = \"dog cat cat dog\"\n",
    "wordPattern(pattern, s)"
   ]
  },
  {
   "cell_type": "markdown",
   "id": "2caefe06",
   "metadata": {},
   "source": [
    "#### 测试二"
   ]
  },
  {
   "cell_type": "code",
   "execution_count": 3,
   "id": "c8b4f920",
   "metadata": {},
   "outputs": [
    {
     "data": {
      "text/plain": [
       "False"
      ]
     },
     "execution_count": 3,
     "metadata": {},
     "output_type": "execute_result"
    }
   ],
   "source": [
    "pattern = \"aaaa\"\n",
    "s = \"dog cat cat dog\"\n",
    "wordPattern(pattern, s)"
   ]
  },
  {
   "cell_type": "code",
   "execution_count": null,
   "id": "31aa796d",
   "metadata": {},
   "outputs": [],
   "source": []
  }
 ],
 "metadata": {
  "kernelspec": {
   "display_name": "Python 3",
   "language": "python",
   "name": "python3"
  },
  "language_info": {
   "codemirror_mode": {
    "name": "ipython",
    "version": 3
   },
   "file_extension": ".py",
   "mimetype": "text/x-python",
   "name": "python",
   "nbconvert_exporter": "python",
   "pygments_lexer": "ipython3",
   "version": "3.7.4"
  }
 },
 "nbformat": 4,
 "nbformat_minor": 5
}
