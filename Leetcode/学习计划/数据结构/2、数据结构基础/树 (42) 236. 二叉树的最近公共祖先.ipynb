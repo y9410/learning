{
 "cells": [
  {
   "cell_type": "markdown",
   "id": "2ae553cd",
   "metadata": {},
   "source": [
    "# 题目"
   ]
  },
  {
   "cell_type": "markdown",
   "id": "368857ef",
   "metadata": {},
   "source": [
    "> 给定一个二叉树, 找到该树中两个指定节点的最近公共祖先。  \n",
    "百度百科中最近公共祖先的定义为：“对于有根树 T 的两个节点 p、q，最近公共祖先表示为一个节点 x，满足 x 是 p、q 的祖先且 x 的深度尽可能大（一个节点也可以是它自己的祖先）。”"
   ]
  },
  {
   "cell_type": "markdown",
   "id": "0b7401ab",
   "metadata": {},
   "source": [
    "# 方法一：递归"
   ]
  },
  {
   "cell_type": "markdown",
   "id": "fdcfbaed",
   "metadata": {},
   "source": [
    "> 若root是p和q的最近公共祖先，则只可能是以下三种情况之一：  \n",
    "1. p和q分别在root的不同侧子树中；\n",
    "2. p=root，q在root的子树中；\n",
    "3. q=root，p在root的子树中。  \n",
    "\n",
    "> 通过递归对二叉树进行先序遍历，当遇到节点 p 或 q 时返回。从底至顶回溯，当节点 p,q 在节点 root 的异侧时，节点 root 即为最近公共祖先，则向上返回 root 。"
   ]
  },
  {
   "cell_type": "markdown",
   "id": "aa99fa0e",
   "metadata": {},
   "source": [
    "## 复杂度"
   ]
  },
  {
   "cell_type": "markdown",
   "id": "f2b3e6a6",
   "metadata": {},
   "source": [
    "- 时间复杂度: $O(n)$ ，其中 $n$ 为树中的节点数。"
   ]
  },
  {
   "cell_type": "markdown",
   "id": "c7d6fc40",
   "metadata": {},
   "source": [
    "> 最差情况下，需要递归遍历树的所有节点。"
   ]
  },
  {
   "cell_type": "markdown",
   "id": "20f141a2",
   "metadata": {},
   "source": [
    "- 空间复杂度: $O(n)$ ，其中 $n$ 为树中的节点数。"
   ]
  },
  {
   "cell_type": "markdown",
   "id": "9e08b189",
   "metadata": {},
   "source": [
    "> 最差情况下，递归深度达到 $n$ ，系统使用 $O(n)$ 大小的额外空间。"
   ]
  },
  {
   "cell_type": "markdown",
   "id": "558c9103",
   "metadata": {},
   "source": [
    "## 代码"
   ]
  },
  {
   "cell_type": "code",
   "execution_count": 1,
   "id": "a95563c2",
   "metadata": {},
   "outputs": [],
   "source": [
    "class TreeNode:\n",
    "    def __init__(self, val=0, left=None, right=None):\n",
    "        self.val = val\n",
    "        self.left = left\n",
    "        self.right = right"
   ]
  },
  {
   "cell_type": "code",
   "execution_count": 2,
   "id": "7c9e023a",
   "metadata": {},
   "outputs": [],
   "source": [
    "def lowestCommonAncestor(root, p, q):\n",
    "    # 递归基本情况：1、当前遍历到了叶子节点的子节点（None）；2、当前节点等于p或q\n",
    "    if not root or root == p or root == q: \n",
    "        return root  # 返回None或p或q\n",
    "    # 先向左递归，再向右递归\n",
    "    left = lowestCommonAncestor(root.left, p, q)\n",
    "    right = lowestCommonAncestor(root.right, p, q)\n",
    "    # 情况1：当前节点的左右都为空，说明左右子树都不包含p或q\n",
    "    if not left and not right: \n",
    "        return  # 返回None\n",
    "    # 情况2：当前节点左边为空、右边不为空，说明：1、p或q其中一个在右子树，此时right指向那个节点；2、p和q都在右子树，right指向最近公共祖先节点\n",
    "    if not left: \n",
    "        return right  # 返回右子树\n",
    "    # 情况3：当前节点右边为空、左边不为空，说明：1、p或q其中一个在左子树，此时left指向那个节点；2、p和q都在左子树，left指向最近公共祖先节点\n",
    "    if not right: \n",
    "        return left\n",
    "    # 情况4：当前节点左右都不为空，说明p和q分布在当前节点的两侧，当前节点为最近公共祖先\n",
    "    return root"
   ]
  },
  {
   "cell_type": "markdown",
   "id": "a6931161",
   "metadata": {},
   "source": [
    "#### 测试一"
   ]
  },
  {
   "cell_type": "code",
   "execution_count": 3,
   "id": "23aa5f3a",
   "metadata": {},
   "outputs": [
    {
     "data": {
      "text/plain": [
       "5"
      ]
     },
     "execution_count": 3,
     "metadata": {},
     "output_type": "execute_result"
    }
   ],
   "source": [
    "root = TreeNode(5)\n",
    "l1 = TreeNode(3)\n",
    "l2 = TreeNode(2)\n",
    "l3 = TreeNode(4)\n",
    "r1 = TreeNode(6)\n",
    "r2 = TreeNode(7)\n",
    "root.left = l1\n",
    "root.right = r1\n",
    "l1.left = l2\n",
    "l1.right = l3\n",
    "r1.right = r2\n",
    "\n",
    "p = l2\n",
    "q = r2\n",
    "lowestCommonAncestor(root, p, q).val"
   ]
  },
  {
   "cell_type": "code",
   "execution_count": null,
   "id": "b40367d3",
   "metadata": {},
   "outputs": [],
   "source": []
  }
 ],
 "metadata": {
  "kernelspec": {
   "display_name": "Python 3",
   "language": "python",
   "name": "python3"
  },
  "language_info": {
   "codemirror_mode": {
    "name": "ipython",
    "version": 3
   },
   "file_extension": ".py",
   "mimetype": "text/x-python",
   "name": "python",
   "nbconvert_exporter": "python",
   "pygments_lexer": "ipython3",
   "version": "3.7.4"
  }
 },
 "nbformat": 4,
 "nbformat_minor": 5
}
