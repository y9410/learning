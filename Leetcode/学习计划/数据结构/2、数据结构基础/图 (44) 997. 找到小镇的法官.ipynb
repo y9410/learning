{
 "cells": [
  {
   "cell_type": "markdown",
   "id": "5f9657e2",
   "metadata": {},
   "source": [
    "# 题目"
   ]
  },
  {
   "cell_type": "markdown",
   "id": "c9e39231",
   "metadata": {},
   "source": [
    "> 小镇里有 n 个人，按从 1 到 n 的顺序编号。传言称，这些人中有一个暗地里是小镇法官。  \n",
    "如果小镇法官真的存在，那么：  \n",
    "1、小镇法官不会信任任何人；  \n",
    "2、每个人（除了小镇法官）都信任这位小镇法官。  \n",
    "只有一个人同时满足属性 1 和属性 2 。  \n",
    "给你一个数组 trust ，其中 trust[i] = [ai, bi] 表示编号为 ai 的人信任编号为 bi 的人。  \n",
    "如果小镇法官存在并且可以确定他的身份，请返回该法官的编号；否则，返回 -1 。"
   ]
  },
  {
   "cell_type": "markdown",
   "id": "b84ad954",
   "metadata": {},
   "source": [
    "# 方法一：计算各节点的出入度"
   ]
  },
  {
   "cell_type": "markdown",
   "id": "8f5eac0a",
   "metadata": {},
   "source": [
    "> 将小镇中的每个人看做有向图上的一个点。  \n",
    "每被别人信任一次则入度+1，每信任别人一次则出度+1。  \n",
    "小镇法官的入度是n-1，出度是0。"
   ]
  },
  {
   "cell_type": "markdown",
   "id": "1cfa4b55",
   "metadata": {},
   "source": [
    "## 复杂度"
   ]
  },
  {
   "cell_type": "markdown",
   "id": "dac5cc69",
   "metadata": {},
   "source": [
    "- 时间复杂度: $O(n+m)$ ，其中 $n$ 是人数， $m$ 是数组 trust 的长度。"
   ]
  },
  {
   "cell_type": "markdown",
   "id": "5b87211d",
   "metadata": {},
   "source": [
    "> 先遍历 trust 计算出入度，再遍历1到n确定法官。"
   ]
  },
  {
   "cell_type": "markdown",
   "id": "3521087b",
   "metadata": {},
   "source": [
    "- 空间复杂度: $O(n)$ ，其中 $n$ 是人数。"
   ]
  },
  {
   "cell_type": "markdown",
   "id": "43a4bf28",
   "metadata": {},
   "source": [
    "> 记录各个节点的入度和出度需要 $O(n)$ 的空间。"
   ]
  },
  {
   "cell_type": "markdown",
   "id": "d88a5a00",
   "metadata": {},
   "source": [
    "## 代码"
   ]
  },
  {
   "cell_type": "code",
   "execution_count": 1,
   "id": "c1474361",
   "metadata": {},
   "outputs": [],
   "source": [
    "from collections import Counter"
   ]
  },
  {
   "cell_type": "code",
   "execution_count": 2,
   "id": "9f72191a",
   "metadata": {},
   "outputs": [],
   "source": [
    "def findJudge(n, trust):\n",
    "    # Counter()可以统计一个列表中每个数出现的次数\n",
    "    inDegrees = Counter(y for _, y in trust)  # 计算入度，即某个人被他人信任的次数\n",
    "    outDegrees = Counter(x for x, _ in trust)  # 计算出度，即某个人信任他人的次数\n",
    "    # next()返回一个迭代器的下一个元素，若没有，则返回默认值-1\n",
    "    # 遍历1到n，返回入度为n-1且出度为0的点，若没有则返回-1\n",
    "    return next((i for i in range(1, n + 1) if inDegrees[i] == n - 1 and outDegrees[i] == 0), -1)"
   ]
  },
  {
   "cell_type": "markdown",
   "id": "fce4b6a8",
   "metadata": {},
   "source": [
    "#### 测试一"
   ]
  },
  {
   "cell_type": "code",
   "execution_count": 3,
   "id": "b6f560ec",
   "metadata": {},
   "outputs": [
    {
     "data": {
      "text/plain": [
       "3"
      ]
     },
     "execution_count": 3,
     "metadata": {},
     "output_type": "execute_result"
    }
   ],
   "source": [
    "n = 3\n",
    "trust = [[1,3],[2,3]]\n",
    "findJudge(n, trust)"
   ]
  },
  {
   "cell_type": "markdown",
   "id": "9897634c",
   "metadata": {},
   "source": [
    "#### 测试二"
   ]
  },
  {
   "cell_type": "code",
   "execution_count": 4,
   "id": "024d7e59",
   "metadata": {},
   "outputs": [
    {
     "data": {
      "text/plain": [
       "-1"
      ]
     },
     "execution_count": 4,
     "metadata": {},
     "output_type": "execute_result"
    }
   ],
   "source": [
    "n = 3\n",
    "trust = [[1,3],[2,3],[3,1]]\n",
    "findJudge(n, trust)"
   ]
  },
  {
   "cell_type": "code",
   "execution_count": null,
   "id": "fa5333af",
   "metadata": {},
   "outputs": [],
   "source": []
  }
 ],
 "metadata": {
  "kernelspec": {
   "display_name": "Python 3",
   "language": "python",
   "name": "python3"
  },
  "language_info": {
   "codemirror_mode": {
    "name": "ipython",
    "version": 3
   },
   "file_extension": ".py",
   "mimetype": "text/x-python",
   "name": "python",
   "nbconvert_exporter": "python",
   "pygments_lexer": "ipython3",
   "version": "3.7.4"
  }
 },
 "nbformat": 4,
 "nbformat_minor": 5
}
