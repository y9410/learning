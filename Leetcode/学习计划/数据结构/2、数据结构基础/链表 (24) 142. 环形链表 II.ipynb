{
 "cells": [
  {
   "cell_type": "markdown",
   "id": "ca9361a4",
   "metadata": {},
   "source": [
    "# 题目"
   ]
  },
  {
   "cell_type": "markdown",
   "id": "9800a69e",
   "metadata": {},
   "source": [
    "> 给定一个链表的头节点 `head` ，返回链表开始入环的第一个节点。如果链表无环，则返回 `null` 。  \n",
    "如果链表中有某个节点，可以通过连续跟踪 `next` 指针再次到达，则链表中存在环。为了表示给定链表中的环，评测系统内部使用整数 `pos` 来表示链表尾连接到链表中的位置（索引从 0 开始）。如果 `pos` 是 -1，则在该链表中没有环。注意：pos 不作为参数进行传递，仅仅是为了标识链表的实际情况。  \n",
    "不允许修改链表。"
   ]
  },
  {
   "cell_type": "markdown",
   "id": "a7c74f69",
   "metadata": {},
   "source": [
    "# 方法一：双指针"
   ]
  },
  {
   "cell_type": "markdown",
   "id": "d423f838",
   "metadata": {},
   "source": [
    "> 使用两个指针，一开始都只想head节点，快指针一次走2步，慢指针一次走1步，可分为两种情况讨论：  \n",
    "情况一——链表中没有环：则快指针走过链表末端，返回null。  \n",
    "情况二——链表中有环：当两指针第一次相遇时，假设快指针走了 $f$ 步，慢指针走了 $s$ 步，链表head到环入口点（被两个节点指向）之前的一个节点共有 $a$ 步，环中共有 $b$ 个节点，则有 $f=2s$ ，且 $f=s+nb$ ，即快指针比慢指针多走了 $n$ 个环（只有在环中两指针才会相遇），可得 $f=2nb,s=nb$ ；  \n",
    "此时慢指针只需再走 $a$ 步，有 $s'=a+nb$ 则会走到环入口点，但由于不知道 $a$ 的数值，因此在两指针第一次相遇时，将快指针指向head，且每轮走1步，当快指针走过a步后，两指针相遇，此时指针指向环入口点，返回慢指针指向的节点。 "
   ]
  },
  {
   "cell_type": "markdown",
   "id": "6f609f4c",
   "metadata": {},
   "source": [
    "## 复杂度"
   ]
  },
  {
   "cell_type": "markdown",
   "id": "f2db3708",
   "metadata": {},
   "source": [
    "- 时间复杂度: $O(N)$，其中 $N$ 是链表的长度。"
   ]
  },
  {
   "cell_type": "markdown",
   "id": "6abb4371",
   "metadata": {},
   "source": [
    "> 第一次相遇时，慢指针的步数小于 $a+b$ ；第二次相遇时，慢指针走了 $a$ 步。"
   ]
  },
  {
   "cell_type": "markdown",
   "id": "b7b1e9cf",
   "metadata": {},
   "source": [
    "- 空间复杂度: $O(1)$ 。"
   ]
  },
  {
   "cell_type": "markdown",
   "id": "94842bb0",
   "metadata": {},
   "source": [
    "> 使用两个指针的存储空间。"
   ]
  },
  {
   "cell_type": "markdown",
   "id": "e057b8e4",
   "metadata": {},
   "source": [
    "## 代码"
   ]
  },
  {
   "cell_type": "code",
   "execution_count": 1,
   "id": "64713495",
   "metadata": {},
   "outputs": [],
   "source": [
    "class ListNode:\n",
    "    def __init__(self, x):\n",
    "        self.val = x\n",
    "        self.next = None"
   ]
  },
  {
   "cell_type": "code",
   "execution_count": 2,
   "id": "37e29de2",
   "metadata": {},
   "outputs": [],
   "source": [
    "def detectCycle(head):\n",
    "    fast, slow = head, head\n",
    "    while True:\n",
    "        if not (fast and fast.next): return\n",
    "        fast, slow = fast.next.next, slow.next\n",
    "        if fast == slow: break\n",
    "    fast = head\n",
    "    while fast != slow:\n",
    "        fast, slow = fast.next, slow.next\n",
    "    return fast"
   ]
  },
  {
   "cell_type": "markdown",
   "id": "f7f3e43e",
   "metadata": {},
   "source": [
    "#### 测试一"
   ]
  },
  {
   "cell_type": "code",
   "execution_count": 3,
   "id": "59f1f7ef",
   "metadata": {},
   "outputs": [
    {
     "data": {
      "text/plain": [
       "2"
      ]
     },
     "execution_count": 3,
     "metadata": {},
     "output_type": "execute_result"
    }
   ],
   "source": [
    "# 构建链表，head = [3,2,0,-4], 环为[2,0,-4]\n",
    "head = ListNode(3)\n",
    "n1 = ListNode(2)\n",
    "n2 = ListNode(0)\n",
    "n3 = ListNode(-4)\n",
    "head.next = n1\n",
    "n1.next = n2\n",
    "n2.next = n3\n",
    "n3.next = n1\n",
    "\n",
    "detectCycle(head).val"
   ]
  },
  {
   "cell_type": "code",
   "execution_count": null,
   "id": "7c5d4fe3",
   "metadata": {},
   "outputs": [],
   "source": []
  }
 ],
 "metadata": {
  "kernelspec": {
   "display_name": "Python 3",
   "language": "python",
   "name": "python3"
  },
  "language_info": {
   "codemirror_mode": {
    "name": "ipython",
    "version": 3
   },
   "file_extension": ".py",
   "mimetype": "text/x-python",
   "name": "python",
   "nbconvert_exporter": "python",
   "pygments_lexer": "ipython3",
   "version": "3.7.4"
  }
 },
 "nbformat": 4,
 "nbformat_minor": 5
}
