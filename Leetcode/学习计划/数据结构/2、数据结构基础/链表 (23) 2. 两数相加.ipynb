{
 "cells": [
  {
   "cell_type": "markdown",
   "id": "63d2c49c",
   "metadata": {},
   "source": [
    "# 题目"
   ]
  },
  {
   "cell_type": "markdown",
   "id": "9b6a3b8d",
   "metadata": {},
   "source": [
    "> 给你一个字符串 `s` ，找到 `s` 中最长的回文子串。  \n",
    "如果字符串的反序与原始字符串相同，则该字符串称为回文字符串。"
   ]
  },
  {
   "cell_type": "markdown",
   "id": "16485cac",
   "metadata": {},
   "source": [
    "# 方法一：加法竖式计算"
   ]
  },
  {
   "cell_type": "markdown",
   "id": "12abc19d",
   "metadata": {},
   "source": [
    "> 运行条件：链表从头遍历到位，逐位相加（1）需要保存进位；（2）需要保存结果。  \n",
    "结束时：（1）两个链表只要有一个非空就需要往后进行；（2）如果链表遍历结束，进位不为0，需要把进位项添加在链表后面。"
   ]
  },
  {
   "cell_type": "markdown",
   "id": "7095f26c",
   "metadata": {},
   "source": [
    "## 复杂度"
   ]
  },
  {
   "cell_type": "markdown",
   "id": "36db274e",
   "metadata": {},
   "source": [
    "- 时间复杂度: $O(max(m,n))$，其中 $m,n$ 分别是两个链表的长度。"
   ]
  },
  {
   "cell_type": "markdown",
   "id": "5cf9a756",
   "metadata": {},
   "source": [
    "> 要遍历两个链表的全部位置，而处理每个位置只需要 $O(1)$ 的时间。"
   ]
  },
  {
   "cell_type": "markdown",
   "id": "ad2fd81c",
   "metadata": {},
   "source": [
    "- 空间复杂度: $O(1)$ 。"
   ]
  },
  {
   "cell_type": "markdown",
   "id": "643a8c18",
   "metadata": {},
   "source": [
    "> 返回值不计入空间复杂度。"
   ]
  },
  {
   "cell_type": "markdown",
   "id": "eed55d86",
   "metadata": {},
   "source": [
    "## 代码"
   ]
  },
  {
   "cell_type": "code",
   "execution_count": 1,
   "id": "ef346efb",
   "metadata": {},
   "outputs": [],
   "source": [
    "class ListNode:\n",
    "    def __init__(self, val=0, next=None):\n",
    "        self.val = val\n",
    "        self.next = next"
   ]
  },
  {
   "cell_type": "code",
   "execution_count": 2,
   "id": "ac057eb6",
   "metadata": {},
   "outputs": [],
   "source": [
    "def addTwoNumbers(l1, l2):\n",
    "\n",
    "    # 当前指针，结果链表\n",
    "    result = curr = ListNode()\n",
    "    # 进位项\n",
    "    remainder = 0\n",
    "\n",
    "    # 非空满足循环条件\n",
    "    while l1 or l2 :\n",
    "        x = l1.val if l1 else 0\n",
    "        y = l2.val if l2 else 0\n",
    "\n",
    "        total = x + y + remainder\n",
    "\n",
    "        curr.next = ListNode(total%10)  # 指针从计算结果的个位开始指向更高位\n",
    "        remainder = total//10  # 进位数\n",
    "\n",
    "        # 防止某一链表已经为空，空链表.next会报错\n",
    "        # 继续计算下一位\n",
    "        if l1 : \n",
    "            l1 = l1.next\n",
    "        if l2 : \n",
    "            l2 = l2.next\n",
    "        curr = curr.next  # 计算结果也指向下一位\n",
    "\n",
    "    if remainder:  # 两个数都遍历完后，若有进位数，则加在结果的最右边\n",
    "        curr.next = ListNode(remainder)\n",
    "    return result.next  # 返回结果的个位数对应的点"
   ]
  },
  {
   "cell_type": "markdown",
   "id": "bf809c17",
   "metadata": {},
   "source": [
    "#### 测试一"
   ]
  },
  {
   "cell_type": "code",
   "execution_count": 3,
   "id": "a29a8be0",
   "metadata": {},
   "outputs": [
    {
     "name": "stdout",
     "output_type": "stream",
     "text": [
      "8 0 7\n"
     ]
    }
   ],
   "source": [
    "# 第一个数342\n",
    "l1nn = ListNode(val=3)\n",
    "l1n = ListNode(val=4, next=l1nn)\n",
    "l1 = ListNode(val=2, next=l1n)\n",
    "# 第二个数465\n",
    "l2nn = ListNode(val=4)\n",
    "l2n = ListNode(val=6, next=l2nn)\n",
    "l2 = ListNode(val=5, next=l2n)\n",
    "\n",
    "print(addTwoNumbers(l1, l2).next.next.val, addTwoNumbers(l1, l2).next.val, addTwoNumbers(l1, l2).val)"
   ]
  },
  {
   "cell_type": "code",
   "execution_count": null,
   "id": "6d235573",
   "metadata": {},
   "outputs": [],
   "source": []
  }
 ],
 "metadata": {
  "kernelspec": {
   "display_name": "Python 3",
   "language": "python",
   "name": "python3"
  },
  "language_info": {
   "codemirror_mode": {
    "name": "ipython",
    "version": 3
   },
   "file_extension": ".py",
   "mimetype": "text/x-python",
   "name": "python",
   "nbconvert_exporter": "python",
   "pygments_lexer": "ipython3",
   "version": "3.7.4"
  }
 },
 "nbformat": 4,
 "nbformat_minor": 5
}
