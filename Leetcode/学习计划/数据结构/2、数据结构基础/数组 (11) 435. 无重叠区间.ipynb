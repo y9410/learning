{
 "cells": [
  {
   "cell_type": "markdown",
   "id": "79b6475f",
   "metadata": {},
   "source": [
    "# 题目"
   ]
  },
  {
   "cell_type": "markdown",
   "id": "de1c346d",
   "metadata": {},
   "source": [
    "> 给定一个区间的集合 `intervals` ，其中 `intervals[i] = [starti, endi]` 。返回需要移除区间的最小数量，使剩余区间互不重叠。"
   ]
  },
  {
   "cell_type": "markdown",
   "id": "b08adee9",
   "metadata": {},
   "source": [
    "# 方法一：贪心算法"
   ]
  },
  {
   "cell_type": "markdown",
   "id": "2c6b9c40",
   "metadata": {},
   "source": [
    "> 使用贪心算法，每一步都选择一个最优的最左侧区间，即一个左侧没有任何区间且右侧包含若干个不与其区间重叠的区间；   \n",
    "> 将所有区间按照右端点大小由小到大排序，最左侧的区间即为第一个最优左侧区间；    \n",
    "> 找到下一个不与其重叠的区间，它与后面的所有区间构成一个相同的子问题；    \n",
    "> 找到所有子问题的答案后，即可得到需要去除的区间数量。"
   ]
  },
  {
   "cell_type": "markdown",
   "id": "f260b3cd",
   "metadata": {},
   "source": [
    "## 复杂度"
   ]
  },
  {
   "cell_type": "markdown",
   "id": "e9b45444",
   "metadata": {},
   "source": [
    "- 时间复杂度: $O(nlogn)$ ，其中 $n$ 是区间的数量。"
   ]
  },
  {
   "cell_type": "markdown",
   "id": "b62ca7d6",
   "metadata": {},
   "source": [
    "> 时间开销以排序为主。"
   ]
  },
  {
   "cell_type": "markdown",
   "id": "d3a41d0d",
   "metadata": {},
   "source": [
    "- 空间复杂度: $O(logn)$ ，其中 $n$ 是区间的数量。"
   ]
  },
  {
   "cell_type": "markdown",
   "id": "0f420e5c",
   "metadata": {},
   "source": [
    "> 排序需要使用的栈空间。"
   ]
  },
  {
   "cell_type": "markdown",
   "id": "9af390f0",
   "metadata": {},
   "source": [
    "## 代码"
   ]
  },
  {
   "cell_type": "code",
   "execution_count": 1,
   "id": "c797797c",
   "metadata": {},
   "outputs": [],
   "source": [
    "def eraseOverlapIntervals(intervals):\n",
    "    if not intervals:\n",
    "        return 0\n",
    "        \n",
    "    intervals.sort(key = lambda x: x[1]) #按照所有区间的右端点由小到大排序\n",
    "    n = len(intervals)\n",
    "    right = intervals[0][1] #将排序好的最左侧区间的右端点作为第一个最优右端点\n",
    "    ans = 1\n",
    "\n",
    "    for i in range(1, n): #从第二个区间开始遍历\n",
    "        #如果该区间不包含最优右端点（说明该区间右端点更大），则加1个计数，且最优右端点更新为该区间右端点\n",
    "        if intervals[i][0] >= right:\n",
    "            ans += 1 #非重叠区间+1\n",
    "            right = intervals[i][1]\n",
    "        \n",
    "    return n - ans #答案=区间总数-重叠区间总数"
   ]
  },
  {
   "cell_type": "markdown",
   "id": "edcd30db",
   "metadata": {},
   "source": [
    "#### 测试一"
   ]
  },
  {
   "cell_type": "code",
   "execution_count": 2,
   "id": "88b59370",
   "metadata": {},
   "outputs": [
    {
     "data": {
      "text/plain": [
       "1"
      ]
     },
     "execution_count": 2,
     "metadata": {},
     "output_type": "execute_result"
    }
   ],
   "source": [
    "intervals = [[1,2],[2,3],[3,4],[1,3]]\n",
    "eraseOverlapIntervals(intervals)"
   ]
  },
  {
   "cell_type": "markdown",
   "id": "c76a1b67",
   "metadata": {},
   "source": [
    "#### 测试二"
   ]
  },
  {
   "cell_type": "code",
   "execution_count": 3,
   "id": "babf6085",
   "metadata": {},
   "outputs": [
    {
     "data": {
      "text/plain": [
       "2"
      ]
     },
     "execution_count": 3,
     "metadata": {},
     "output_type": "execute_result"
    }
   ],
   "source": [
    "intervals = [[1,2], [1,2], [1,2]]\n",
    "eraseOverlapIntervals(intervals)"
   ]
  },
  {
   "cell_type": "code",
   "execution_count": null,
   "id": "848b829e",
   "metadata": {},
   "outputs": [],
   "source": []
  }
 ],
 "metadata": {
  "kernelspec": {
   "display_name": "Python 3",
   "language": "python",
   "name": "python3"
  },
  "language_info": {
   "codemirror_mode": {
    "name": "ipython",
    "version": 3
   },
   "file_extension": ".py",
   "mimetype": "text/x-python",
   "name": "python",
   "nbconvert_exporter": "python",
   "pygments_lexer": "ipython3",
   "version": "3.7.4"
  }
 },
 "nbformat": 4,
 "nbformat_minor": 5
}
