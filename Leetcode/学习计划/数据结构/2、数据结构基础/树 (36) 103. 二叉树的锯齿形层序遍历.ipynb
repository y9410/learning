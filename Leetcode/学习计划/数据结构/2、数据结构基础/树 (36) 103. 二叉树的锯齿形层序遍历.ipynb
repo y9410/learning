{
 "cells": [
  {
   "cell_type": "markdown",
   "id": "3e5d9f3c",
   "metadata": {},
   "source": [
    "# 题目"
   ]
  },
  {
   "cell_type": "markdown",
   "id": "9c6a66f8",
   "metadata": {},
   "source": [
    "> 给你二叉树的根节点 `root` ，返回其节点值的锯齿形层序遍历。（即先从左往右，再从右往左进行下一层遍历，以此类推，层与层之间交替进行）。"
   ]
  },
  {
   "cell_type": "markdown",
   "id": "c9f00c77",
   "metadata": {},
   "source": [
    "# 方法一：队列"
   ]
  },
  {
   "cell_type": "markdown",
   "id": "d24c5fb5",
   "metadata": {},
   "source": [
    "> 按层遍历二叉树，将每一层的树节点储存在一个双端队列中，随后将其弹出并记录答案。"
   ]
  },
  {
   "cell_type": "markdown",
   "id": "3b1c5641",
   "metadata": {},
   "source": [
    "## 复杂度"
   ]
  },
  {
   "cell_type": "markdown",
   "id": "d668a02a",
   "metadata": {},
   "source": [
    "- 时间复杂度: $O(n)$ ，其中 $n$ 是树中的节点个数。"
   ]
  },
  {
   "cell_type": "markdown",
   "id": "99f52b00",
   "metadata": {},
   "source": [
    "> 遍历了每个节点。"
   ]
  },
  {
   "cell_type": "markdown",
   "id": "e8d812b9",
   "metadata": {},
   "source": [
    "- 空间复杂度: $O(n)$ ，其中 $n$ 是树中的节点个数。"
   ]
  },
  {
   "cell_type": "markdown",
   "id": "a21887f9",
   "metadata": {},
   "source": [
    "> 满二叉树（每一层都填满）最后一层有大约 $n/2$ 个节点，因此队列中最多有 $O(n$ 个元素，所以空间复杂度是 $O(n)$ 的。"
   ]
  },
  {
   "cell_type": "markdown",
   "id": "0a09dbb0",
   "metadata": {},
   "source": [
    "## 代码"
   ]
  },
  {
   "cell_type": "code",
   "execution_count": 1,
   "id": "2afa86dd",
   "metadata": {},
   "outputs": [],
   "source": [
    "class TreeNode:\n",
    "    def __init__(self, val=0, left=None, right=None):\n",
    "        self.val = val\n",
    "        self.left = left\n",
    "        self.right = right"
   ]
  },
  {
   "cell_type": "code",
   "execution_count": 2,
   "id": "517f5687",
   "metadata": {},
   "outputs": [],
   "source": [
    "from collections import deque"
   ]
  },
  {
   "cell_type": "code",
   "execution_count": 3,
   "id": "1d5ad169",
   "metadata": {},
   "outputs": [],
   "source": [
    "def zigzagLevelOrder(root):\n",
    "    if root is None:\n",
    "        return []\n",
    "    ans = []\n",
    "    q = deque([root])  # 创建一个双端队列用于存放树节点\n",
    "    even = False  # 用于控制顺序（从左往右还是从右往左）\n",
    "    while q:\n",
    "        vals = []  # 用于保存二叉树当前层的答案\n",
    "        for _ in range(len(q)):  # 对每一层，从左往右遍历当前层的所有节点\n",
    "            # 从队列前段（左边）弹出当前层的所有节点并记录在答案里\n",
    "            node = q.popleft()\n",
    "            vals.append(node.val)\n",
    "            # 将当前层节点的子节点（即下一层节点）插入队列尾部\n",
    "            if node.left:  \n",
    "                q.append(node.left)\n",
    "            if node.right: \n",
    "                q.append(node.right)\n",
    "        ans.append(vals[::-1] if even else vals)  # 如果even=True（偶数层），则顺序是从右往左（vals[::-1]）；否则顺序是从左往右（vals）\n",
    "        even = not even  # 每过一层，切换even的值\n",
    "    return ans"
   ]
  },
  {
   "cell_type": "markdown",
   "id": "ec0dc8d9",
   "metadata": {},
   "source": [
    "#### 测试一"
   ]
  },
  {
   "cell_type": "code",
   "execution_count": 5,
   "id": "9a2401d7",
   "metadata": {},
   "outputs": [
    {
     "data": {
      "text/plain": [
       "[[3], [20, 9], [15, 7]]"
      ]
     },
     "execution_count": 5,
     "metadata": {},
     "output_type": "execute_result"
    }
   ],
   "source": [
    "root = TreeNode(3)\n",
    "l1 = TreeNode(9)\n",
    "r1 = TreeNode(20)\n",
    "r2 = TreeNode(15)\n",
    "r3 = TreeNode(7)\n",
    "root.left = l1\n",
    "root.right = r1\n",
    "r1.left = r2\n",
    "r1.right = r3\n",
    "\n",
    "zigzagLevelOrder(root)"
   ]
  },
  {
   "cell_type": "code",
   "execution_count": null,
   "id": "2e3bf70e",
   "metadata": {},
   "outputs": [],
   "source": []
  }
 ],
 "metadata": {
  "kernelspec": {
   "display_name": "Python 3",
   "language": "python",
   "name": "python3"
  },
  "language_info": {
   "codemirror_mode": {
    "name": "ipython",
    "version": 3
   },
   "file_extension": ".py",
   "mimetype": "text/x-python",
   "name": "python",
   "nbconvert_exporter": "python",
   "pygments_lexer": "ipython3",
   "version": "3.7.4"
  }
 },
 "nbformat": 4,
 "nbformat_minor": 5
}
