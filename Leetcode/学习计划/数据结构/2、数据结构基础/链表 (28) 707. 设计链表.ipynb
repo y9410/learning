{
 "cells": [
  {
   "cell_type": "markdown",
   "id": "ef7a5bee",
   "metadata": {},
   "source": [
    "# 题目"
   ]
  },
  {
   "cell_type": "markdown",
   "id": "fe00f8c0",
   "metadata": {},
   "source": [
    "> 设计链表的实现。您可以选择使用单链表或双链表。单链表中的节点应该具有两个属性： `val` 和 `next` 。 `val` 是当前节点的值， `next` 是指向下一个节点的指针/引用。如果要使用双向链表，则还需要一个属性 `prev` 以指示链表中的上一个节点。假设链表中的所有节点都是 0-index 的。  \n",
    "在链表类中实现这些功能：  \n",
    "1. get(index)：获取链表中第 index 个节点的值。如果索引无效，则返回-1。\n",
    "2. addAtHead(val)：在链表的第一个元素之前添加一个值为 val 的节点。插入后，新节点将成为链表的第一个节点。\n",
    "3. addAtTail(val)：将值为 val 的节点追加到链表的最后一个元素。\n",
    "4. addAtIndex(index,val)：在链表中的第 index 个节点之前添加值为 val  的节点。如果 index 等于链表的长度，则该节点将附加到链表的末尾。如果index 大于链表长度，则不会插入节点。如果index小于0，则在头部插入节点。\n",
    "5. deleteAtIndex(index)：如果索引 index 有效，则删除链表中的第 index 个节点。"
   ]
  },
  {
   "cell_type": "markdown",
   "id": "912046ff",
   "metadata": {},
   "source": [
    "# 方法一：双向链表"
   ]
  },
  {
   "cell_type": "markdown",
   "id": "0f217448",
   "metadata": {},
   "source": [
    "> 详见代码。"
   ]
  },
  {
   "cell_type": "markdown",
   "id": "89246a39",
   "metadata": {},
   "source": [
    "## 复杂度"
   ]
  },
  {
   "cell_type": "markdown",
   "id": "af2277d3",
   "metadata": {},
   "source": [
    "- 时间复杂度: 初始化消耗 $O(1)$ ，get()消耗 $O(index)$ ，addAtHead()消耗 $O(1)$，addAtTail()消耗 $O(n)$，其中 $n$ 为链表当前长度，即addAtHead()，addAtTail()和addAtIndex()已调用次数之和，addAtIndex()消耗 $O(index)$ 。"
   ]
  },
  {
   "cell_type": "markdown",
   "id": "046e3860",
   "metadata": {},
   "source": [
    "- 空间复杂度: 所有函数的单次调用空间复杂度均为 $O(1)$，总体空间复杂度为 $O(n)$，其中 $n$ 为addAtHead()，addAtTail()和addAtIndex()已调用次数之和。"
   ]
  },
  {
   "cell_type": "markdown",
   "id": "86affbd6",
   "metadata": {},
   "source": [
    "## 代码"
   ]
  },
  {
   "cell_type": "code",
   "execution_count": 1,
   "id": "74cb6930",
   "metadata": {},
   "outputs": [],
   "source": [
    "class ListNode:\n",
    "\n",
    "    \n",
    "    def __init__(self, x):\n",
    "        self.val = x\n",
    "        self.next = None\n",
    "        self.prev = None\n",
    "\n",
    "        \n",
    "class MyLinkedList:\n",
    "\n",
    "    \n",
    "    def __init__(self):\n",
    "        self.size = 0  # 初始化链表长度\n",
    "        self.head, self.tail = ListNode(0), ListNode(0)  # 创建两个节点：头节点和尾节点\n",
    "        self.head.next = self.tail\n",
    "        self.tail.prev = self.head\n",
    "        \n",
    "        \n",
    "    def get(self, index):\n",
    "        if index < 0 or index >= self.size:  # 判断index是否有效\n",
    "            return -1\n",
    "        if index + 1 < self.size - index:  # 如果索引位置处于前半段，则从head找起\n",
    "            curr = self.head\n",
    "            for _ in range(index + 1):\n",
    "                curr = curr.next\n",
    "        else:  # 如果索引位置处于后半段，则从tail找起\n",
    "            curr = self.tail\n",
    "            for _ in range(self.size - index):\n",
    "                curr = curr.prev\n",
    "        return curr.val\n",
    "\n",
    "\n",
    "    def addAtHead(self, val):\n",
    "        self.addAtIndex(0, val)\n",
    "\n",
    "\n",
    "    def addAtTail(self, val):\n",
    "        self.addAtIndex(self.size, val)\n",
    "\n",
    "\n",
    "    def addAtIndex(self, index, val):\n",
    "        \n",
    "        # 判断index是否有效\n",
    "        if index > self.size:\n",
    "            return\n",
    "        index = max(0, index)\n",
    "        \n",
    "        if index < self.size - index:  # 如果索引位置处于前半段，则从head找起\n",
    "            pred = self.head\n",
    "            for _ in range(index):\n",
    "                pred = pred.next  # 找到插入节点的前驱节点，例如插入节点的index为0，则其前驱节点为head节点\n",
    "            succ = pred.next  # 插入节点的后继节点\n",
    "        else:  # 如果索引位置处于前半段，则从tail找起\n",
    "            succ = self.tail\n",
    "            for _ in range(self.size - index):\n",
    "                succ = succ.prev\n",
    "            pred = succ.prev\n",
    "        \n",
    "        # size+1\n",
    "        self.size += 1\n",
    "        \n",
    "        # 插入节点\n",
    "        to_add = ListNode(val)\n",
    "        to_add.prev = pred\n",
    "        to_add.next = succ\n",
    "        pred.next = to_add\n",
    "        succ.prev = to_add\n",
    "\n",
    "\n",
    "    def deleteAtIndex(self, index):\n",
    "        \n",
    "        if index < 0 or index >= self.size:  # 判断index是否有效\n",
    "            return\n",
    "        \n",
    "        # 找到要删除节点的前驱节点和后继节点\n",
    "        if index < self.size - index:\n",
    "            pred = self.head\n",
    "            for _ in range(index):\n",
    "                pred = pred.next\n",
    "            succ = pred.next.next\n",
    "        else:\n",
    "            succ = self.tail\n",
    "            for _ in range(self.size - index - 1):\n",
    "                succ = succ.prev\n",
    "            pred = succ.prev.prev\n",
    "        \n",
    "        # size-1\n",
    "        self.size -= 1\n",
    "        \n",
    "        # 删除节点\n",
    "        pred.next = succ\n",
    "        succ.prev = pred"
   ]
  },
  {
   "cell_type": "markdown",
   "id": "8a801d9c",
   "metadata": {},
   "source": [
    "#### 测试一"
   ]
  },
  {
   "cell_type": "code",
   "execution_count": 2,
   "id": "07c4c9fd",
   "metadata": {},
   "outputs": [
    {
     "name": "stdout",
     "output_type": "stream",
     "text": [
      "0 1\n",
      "0 1 3\n",
      "0 1 2 3\n",
      "2\n",
      "0 1 3\n",
      "3\n"
     ]
    }
   ],
   "source": [
    "# 创建空链表\n",
    "linkedList = MyLinkedList()\n",
    "# 在head后面插入值为1的节点\n",
    "linkedList.addAtHead(1)\n",
    "print(linkedList.head.val, linkedList.head.next.val)\n",
    "# 在tail前面插入值为3的节点\n",
    "linkedList.addAtTail(3)\n",
    "print(linkedList.head.val, linkedList.head.next.val, linkedList.head.next.next.val)\n",
    "# 在位置1插入值为2的节点\n",
    "linkedList.addAtIndex(1,2)\n",
    "print(linkedList.head.val, linkedList.head.next.val, linkedList.head.next.next.val, linkedList.head.next.next.next.val)\n",
    "# 查找位置1节点的值\n",
    "print(linkedList.get(1))\n",
    "# 删除位置1的节点\n",
    "linkedList.deleteAtIndex(1)\n",
    "print(linkedList.head.val, linkedList.head.next.val, linkedList.head.next.next.val)\n",
    "# 查找位置1节点的值\n",
    "print(linkedList.get(1))"
   ]
  },
  {
   "cell_type": "code",
   "execution_count": null,
   "id": "abbb781e",
   "metadata": {},
   "outputs": [],
   "source": []
  }
 ],
 "metadata": {
  "kernelspec": {
   "display_name": "Python 3",
   "language": "python",
   "name": "python3"
  },
  "language_info": {
   "codemirror_mode": {
    "name": "ipython",
    "version": 3
   },
   "file_extension": ".py",
   "mimetype": "text/x-python",
   "name": "python",
   "nbconvert_exporter": "python",
   "pygments_lexer": "ipython3",
   "version": "3.7.4"
  }
 },
 "nbformat": 4,
 "nbformat_minor": 5
}
