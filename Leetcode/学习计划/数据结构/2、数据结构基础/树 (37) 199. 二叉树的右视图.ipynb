{
 "cells": [
  {
   "cell_type": "markdown",
   "id": "c5b48378",
   "metadata": {},
   "source": [
    "# 题目"
   ]
  },
  {
   "cell_type": "markdown",
   "id": "06dc86f8",
   "metadata": {},
   "source": [
    "> 给定一个二叉树的根节点 `root` ，想象自己站在它的右侧，按照从顶部到底部的顺序，返回从右侧所能看到的节点值。"
   ]
  },
  {
   "cell_type": "markdown",
   "id": "d0d6e597",
   "metadata": {},
   "source": [
    "# 方法一：深度优先搜索"
   ]
  },
  {
   "cell_type": "markdown",
   "id": "530fc008",
   "metadata": {},
   "source": [
    "> 对树进行深度优先搜索，在搜索过程中总是先访问右子树。那么对于每一层来说，在这层见到的第一个结点一定是最右边的节点。"
   ]
  },
  {
   "cell_type": "markdown",
   "id": "160ee29c",
   "metadata": {},
   "source": [
    "## 复杂度"
   ]
  },
  {
   "cell_type": "markdown",
   "id": "620b6745",
   "metadata": {},
   "source": [
    "- 时间复杂度: $O(n)$ ，其中 $n$ 是树中的节点个数。"
   ]
  },
  {
   "cell_type": "markdown",
   "id": "3bcb0d8c",
   "metadata": {},
   "source": [
    "> 深度优先搜索最多访问每个节点一次，因此是线性复杂度。"
   ]
  },
  {
   "cell_type": "markdown",
   "id": "0d9a2a04",
   "metadata": {},
   "source": [
    "- 空间复杂度: $O(n)$ ，其中 $n$ 是树中的节点个数。"
   ]
  },
  {
   "cell_type": "markdown",
   "id": "34e7fce9",
   "metadata": {},
   "source": [
    "> 最坏情况下，栈内会包含接近树高度的节点数量，占用 $O(n)$ 的空间。"
   ]
  },
  {
   "cell_type": "markdown",
   "id": "af45ee9f",
   "metadata": {},
   "source": [
    "## 代码"
   ]
  },
  {
   "cell_type": "code",
   "execution_count": 1,
   "id": "f9babde0",
   "metadata": {},
   "outputs": [],
   "source": [
    "class TreeNode:\n",
    "    def __init__(self, val=0, left=None, right=None):\n",
    "        self.val = val\n",
    "        self.left = left\n",
    "        self.right = right"
   ]
  },
  {
   "cell_type": "code",
   "execution_count": 2,
   "id": "4bf4cf27",
   "metadata": {},
   "outputs": [],
   "source": [
    "def rightSideView(root):\n",
    "    # 创建一个字典用于记录每个深度（每层）最右侧的子节点\n",
    "    rightmost_value_at_depth = dict() # 深度为索引，存放节点的值\n",
    "    max_depth = -1\n",
    "\n",
    "    stack = [(root, 0)]  # 元素为元组的列表，元组中记录节点和其深度\n",
    "    while stack:\n",
    "        node, depth = stack.pop()  # 先弹出最右侧的元组（也是每一层最右侧的子节点）\n",
    "\n",
    "        if node is not None:\n",
    "            # 维护二叉树的最大深度\n",
    "            max_depth = max(max_depth, depth)\n",
    "\n",
    "            # 如果不存在对应深度的节点我们才插入(一个深度最多有一个节点)\n",
    "            rightmost_value_at_depth.setdefault(depth, node.val)\n",
    "            \n",
    "            # 将下一层的节点加入栈\n",
    "            stack.append((node.left, depth + 1))\n",
    "            stack.append((node.right, depth + 1))\n",
    "\n",
    "    return [rightmost_value_at_depth[depth] for depth in range(max_depth + 1)]"
   ]
  },
  {
   "cell_type": "markdown",
   "id": "44c6ec51",
   "metadata": {},
   "source": [
    "#### 测试一"
   ]
  },
  {
   "cell_type": "code",
   "execution_count": 3,
   "id": "d413e4d9",
   "metadata": {},
   "outputs": [
    {
     "data": {
      "text/plain": [
       "[3, 20, 7]"
      ]
     },
     "execution_count": 3,
     "metadata": {},
     "output_type": "execute_result"
    }
   ],
   "source": [
    "root = TreeNode(3)\n",
    "l1 = TreeNode(9)\n",
    "r1 = TreeNode(20)\n",
    "r2 = TreeNode(15)\n",
    "r3 = TreeNode(7)\n",
    "root.left = l1\n",
    "root.right = r1\n",
    "r1.left = r2\n",
    "r1.right = r3\n",
    "\n",
    "rightSideView(root)"
   ]
  },
  {
   "cell_type": "code",
   "execution_count": null,
   "id": "f1580285",
   "metadata": {},
   "outputs": [],
   "source": []
  }
 ],
 "metadata": {
  "kernelspec": {
   "display_name": "Python 3",
   "language": "python",
   "name": "python3"
  },
  "language_info": {
   "codemirror_mode": {
    "name": "ipython",
    "version": 3
   },
   "file_extension": ".py",
   "mimetype": "text/x-python",
   "name": "python",
   "nbconvert_exporter": "python",
   "pygments_lexer": "ipython3",
   "version": "3.7.4"
  }
 },
 "nbformat": 4,
 "nbformat_minor": 5
}
