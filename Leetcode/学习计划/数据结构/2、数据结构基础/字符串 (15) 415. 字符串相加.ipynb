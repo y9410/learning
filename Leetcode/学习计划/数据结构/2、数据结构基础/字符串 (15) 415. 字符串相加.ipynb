{
 "cells": [
  {
   "cell_type": "markdown",
   "id": "caae93d0",
   "metadata": {},
   "source": [
    "# 题目"
   ]
  },
  {
   "cell_type": "markdown",
   "id": "24db64af",
   "metadata": {},
   "source": [
    "> 给定两个字符串形式的非负整数 `num1` 和 `num2` ，计算它们的和并同样以字符串形式返回。  \n",
    "你不能使用任何內建的用于处理大整数的库（比如 BigInteger）， 也不能直接将输入的字符串转换为整数形式。"
   ]
  },
  {
   "cell_type": "markdown",
   "id": "16a061b7",
   "metadata": {},
   "source": [
    "# 方法一：双指针"
   ]
  },
  {
   "cell_type": "markdown",
   "id": "4655ee26",
   "metadata": {},
   "source": [
    "> 用两个指针分别指向两个数的最后一位，从后向前遍历，模拟加法竖式。  \n",
    "其中，使用一个变量 `carry` 储存当前位的进位数。"
   ]
  },
  {
   "cell_type": "markdown",
   "id": "b57a6f20",
   "metadata": {},
   "source": [
    "## 复杂度"
   ]
  },
  {
   "cell_type": "markdown",
   "id": "a030cea6",
   "metadata": {},
   "source": [
    "- 时间复杂度: $O(max(M,N)$ ，其中 $M,N$ 分别是两个数的长度。"
   ]
  },
  {
   "cell_type": "markdown",
   "id": "301a539f",
   "metadata": {},
   "source": [
    "> 以较长数为准。"
   ]
  },
  {
   "cell_type": "markdown",
   "id": "e749405f",
   "metadata": {},
   "source": [
    "- 空间复杂度: $O(1)$ 。"
   ]
  },
  {
   "cell_type": "markdown",
   "id": "5927d62f",
   "metadata": {},
   "source": [
    "> 指针与变量使用常数大小空间。"
   ]
  },
  {
   "cell_type": "markdown",
   "id": "c1c9f071",
   "metadata": {},
   "source": [
    "## 代码"
   ]
  },
  {
   "cell_type": "code",
   "execution_count": 1,
   "id": "6da9ddf7",
   "metadata": {},
   "outputs": [],
   "source": [
    "def addStrings(num1, num2):\n",
    "    res = \"\"\n",
    "    i, j, carry = len(num1) - 1, len(num2) - 1, 0\n",
    "    while i >= 0 or j >= 0:  # 从两个数的各位开始向前遍历\n",
    "        n1 = int(num1[i]) if i >= 0 else 0  # 若两数位数不相等，则在短的数前面补0\n",
    "        n2 = int(num2[j]) if j >= 0 else 0\n",
    "        tmp = n1 + n2 + carry  # 临时的计算结果\n",
    "        carry = tmp // 10  # 要进到下一位的数\n",
    "        res = str(tmp % 10) + res  # 当前位的数是两数对应位置数相加后的个位数与进位数的和\n",
    "        i, j = i - 1, j - 1\n",
    "    return \"1\" + res if carry else res  # 若退出循环后，仍有进位数，则需要在前面补1"
   ]
  },
  {
   "cell_type": "markdown",
   "id": "755ccc5b",
   "metadata": {},
   "source": [
    "#### 测试一"
   ]
  },
  {
   "cell_type": "code",
   "execution_count": 2,
   "id": "b5309beb",
   "metadata": {},
   "outputs": [
    {
     "data": {
      "text/plain": [
       "'134'"
      ]
     },
     "execution_count": 2,
     "metadata": {},
     "output_type": "execute_result"
    }
   ],
   "source": [
    "num1 = \"11\"\n",
    "num2 = \"123\"\n",
    "addStrings(num1, num2)"
   ]
  },
  {
   "cell_type": "markdown",
   "id": "ea35d366",
   "metadata": {},
   "source": [
    "#### 测试二"
   ]
  },
  {
   "cell_type": "code",
   "execution_count": 3,
   "id": "4f52b0ea",
   "metadata": {},
   "outputs": [
    {
     "data": {
      "text/plain": [
       "'533'"
      ]
     },
     "execution_count": 3,
     "metadata": {},
     "output_type": "execute_result"
    }
   ],
   "source": [
    "num1 = \"456\"\n",
    "num2 = \"77\"\n",
    "addStrings(num1, num2)"
   ]
  },
  {
   "cell_type": "code",
   "execution_count": null,
   "id": "a8a15fa9",
   "metadata": {},
   "outputs": [],
   "source": []
  }
 ],
 "metadata": {
  "kernelspec": {
   "display_name": "Python 3",
   "language": "python",
   "name": "python3"
  },
  "language_info": {
   "codemirror_mode": {
    "name": "ipython",
    "version": 3
   },
   "file_extension": ".py",
   "mimetype": "text/x-python",
   "name": "python",
   "nbconvert_exporter": "python",
   "pygments_lexer": "ipython3",
   "version": "3.7.4"
  }
 },
 "nbformat": 4,
 "nbformat_minor": 5
}
