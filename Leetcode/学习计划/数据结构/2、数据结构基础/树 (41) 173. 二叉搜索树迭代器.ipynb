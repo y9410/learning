{
 "cells": [
  {
   "cell_type": "markdown",
   "id": "db5e95ef",
   "metadata": {},
   "source": [
    "# 题目"
   ]
  },
  {
   "cell_type": "markdown",
   "id": "8a8ef432",
   "metadata": {},
   "source": [
    "> 实现一个二叉搜索树迭代器类BSTIterator ，表示一个按中序遍历二叉搜索树（BST）的迭代器：  \n",
    "· BSTIterator(root) 初始化 BSTIterator 类的一个对象。BST 的根节点 root 会作为构造函数的一部分给出。指针应初始化为一个不存在于 BST 中的数字，且该数字小于 BST 中的任何元素。  \n",
    "· hasNext() 如果向指针右侧遍历存在数字，则返回 true ；否则返回 false 。  \n",
    "· next() 将指针向右移动，然后返回指针处的数字。  \n",
    "注意，指针初始化为一个不存在于 BST 中的数字，所以对 next() 的首次调用将返回 BST 中的最小元素。  \n",
    "你可以假设 next() 调用总是有效的，也就是说，当调用 next() 时，BST 的中序遍历中至少存在一个下一个数字。"
   ]
  },
  {
   "cell_type": "markdown",
   "id": "4b8cf515",
   "metadata": {},
   "source": [
    "# 方法一：迭代时计算 next  节点"
   ]
  },
  {
   "cell_type": "markdown",
   "id": "57433fbb",
   "metadata": {},
   "source": [
    "> 中序遍历的顺序为：左-中-右。为了减少空间消耗，让栈中只保留左节点。  \n",
    "迭代思路为：先一路到底，将所有左节点保留在栈中；然后调用next()，弹出栈顶元素，若它有右子树，则从右子节点开始一路到底将所有左节点压入栈。"
   ]
  },
  {
   "cell_type": "markdown",
   "id": "ce45b043",
   "metadata": {},
   "source": [
    "## 复杂度"
   ]
  },
  {
   "cell_type": "markdown",
   "id": "d1f96009",
   "metadata": {},
   "source": [
    "- 时间复杂度: 均摊复杂度为 $O(1)$ 。"
   ]
  },
  {
   "cell_type": "markdown",
   "id": "c0274dd5",
   "metadata": {},
   "source": [
    "> 调用next()方法的时候，如果栈顶元素有右子树，则把所有右边节点即其所有左孩子全部放到了栈中，下次调用next()的时候，直接访问栈顶就可以了，均摊之后时间复杂度是 $O(1)$ 。"
   ]
  },
  {
   "cell_type": "markdown",
   "id": "2648f56b",
   "metadata": {},
   "source": [
    "- 空间复杂度: $O(h)$ ，其中 $h$ 是树的高度。"
   ]
  },
  {
   "cell_type": "markdown",
   "id": "40489273",
   "metadata": {},
   "source": [
    "> 因为栈中只保留了左节点，栈中元素最多的时候，就是树的高度。"
   ]
  },
  {
   "cell_type": "markdown",
   "id": "da9d4808",
   "metadata": {},
   "source": [
    "## 代码"
   ]
  },
  {
   "cell_type": "code",
   "execution_count": 1,
   "id": "ce2b0dd4",
   "metadata": {},
   "outputs": [],
   "source": [
    "class TreeNode:\n",
    "    def __init__(self, val=0, left=None, right=None):\n",
    "        self.val = val\n",
    "        self.left = left\n",
    "        self.right = right"
   ]
  },
  {
   "cell_type": "code",
   "execution_count": 2,
   "id": "e2c591d0",
   "metadata": {},
   "outputs": [],
   "source": [
    "class BSTIterator(object):\n",
    "\n",
    "    def __init__(self, root):\n",
    "        self.stack = []\n",
    "        while root:\n",
    "            self.stack.append(root)\n",
    "            root = root.left\n",
    "\n",
    "    def next(self):\n",
    "        cur = self.stack.pop()  # 每次调用函数，都从栈最上方弹出（当前最左边的值）\n",
    "        node = cur.right\n",
    "        while node:  # 若当前弹出的值有右子节点，说明这是一个根节点因此应当将其右子节点的所有左子节点压入栈\n",
    "            self.stack.append(node)\n",
    "            node = node.left\n",
    "        return cur.val\n",
    "\n",
    "    def hasNext(self):\n",
    "        return len(self.stack) > 0"
   ]
  },
  {
   "cell_type": "markdown",
   "id": "7fc2a9e6",
   "metadata": {},
   "source": [
    "#### 测试一"
   ]
  },
  {
   "cell_type": "code",
   "execution_count": 3,
   "id": "7931c74d",
   "metadata": {},
   "outputs": [
    {
     "name": "stdout",
     "output_type": "stream",
     "text": [
      "2\n",
      "3\n",
      "True\n",
      "4\n",
      "True\n",
      "5\n",
      "True\n",
      "6\n",
      "True\n",
      "7\n",
      "False\n"
     ]
    }
   ],
   "source": [
    "root = TreeNode(5)\n",
    "l1 = TreeNode(3)\n",
    "l2 = TreeNode(2)\n",
    "l3 = TreeNode(4)\n",
    "r1 = TreeNode(6)\n",
    "r2 = TreeNode(7)\n",
    "root.left = l1\n",
    "root.right = r1\n",
    "l1.left = l2\n",
    "l1.right = l3\n",
    "r1.right = r2\n",
    "\n",
    "bSTIterator = BSTIterator(root)\n",
    "print(bSTIterator.next())\n",
    "print(bSTIterator.next())\n",
    "print(bSTIterator.hasNext())\n",
    "print(bSTIterator.next())\n",
    "print(bSTIterator.hasNext())\n",
    "print(bSTIterator.next())\n",
    "print(bSTIterator.hasNext())\n",
    "print(bSTIterator.next())\n",
    "print(bSTIterator.hasNext())\n",
    "print(bSTIterator.next())\n",
    "print(bSTIterator.hasNext())"
   ]
  },
  {
   "cell_type": "code",
   "execution_count": null,
   "id": "f76730de",
   "metadata": {},
   "outputs": [],
   "source": []
  }
 ],
 "metadata": {
  "kernelspec": {
   "display_name": "Python 3",
   "language": "python",
   "name": "python3"
  },
  "language_info": {
   "codemirror_mode": {
    "name": "ipython",
    "version": 3
   },
   "file_extension": ".py",
   "mimetype": "text/x-python",
   "name": "python",
   "nbconvert_exporter": "python",
   "pygments_lexer": "ipython3",
   "version": "3.7.4"
  }
 },
 "nbformat": 4,
 "nbformat_minor": 5
}
