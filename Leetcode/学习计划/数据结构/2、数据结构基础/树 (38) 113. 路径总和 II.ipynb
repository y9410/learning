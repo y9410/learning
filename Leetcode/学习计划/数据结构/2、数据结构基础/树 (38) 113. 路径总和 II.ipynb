{
 "cells": [
  {
   "cell_type": "markdown",
   "id": "ac7aee48",
   "metadata": {},
   "source": [
    "# 题目"
   ]
  },
  {
   "cell_type": "markdown",
   "id": "a9ceeda9",
   "metadata": {},
   "source": [
    "> 给你二叉树的根节点 `root` 和一个整数目标和 `targetSum` ，找出所有从根节点到**叶子节点**路径总和等于给定目标和的路径。  \n",
    "**叶子节点**是指没有子节点的节点。"
   ]
  },
  {
   "cell_type": "markdown",
   "id": "b50b7ca5",
   "metadata": {},
   "source": [
    "# 方法一：深度优先搜索"
   ]
  },
  {
   "cell_type": "markdown",
   "id": "e8b5d003",
   "metadata": {},
   "source": [
    "> 我们可以采用深度优先搜索的方式，枚举每一条从根节点到叶子节点的路径。当我们遍历到叶子节点，且此时路径和恰为目标和时，我们就找到了一条满足条件的路径。"
   ]
  },
  {
   "cell_type": "markdown",
   "id": "14ff4b52",
   "metadata": {},
   "source": [
    "## 复杂度"
   ]
  },
  {
   "cell_type": "markdown",
   "id": "35b10e41",
   "metadata": {},
   "source": [
    "- 时间复杂度: $O(n^2)$ ，其中 $n$ 是树中的节点个数。"
   ]
  },
  {
   "cell_type": "markdown",
   "id": "b1eb6761",
   "metadata": {},
   "source": [
    "> 在最坏情况下，树的上半部分为链状，下半部分为完全二叉树，并且从根节点到每一个叶子节点的路径都符合题目要求。此时，路径的数目为 $O(N)$ ，并且每一条路径的节点个数也为 $O(N)$ ，因此要将这些路径全部添加进答案中，时间复杂度为 $O(n^2)$ 。"
   ]
  },
  {
   "cell_type": "markdown",
   "id": "13ffbb75",
   "metadata": {},
   "source": [
    "- 空间复杂度: $O(n)$ ，其中 $n$ 是树中的节点个数。"
   ]
  },
  {
   "cell_type": "markdown",
   "id": "d6db8fc5",
   "metadata": {},
   "source": [
    "> 空间复杂度主要取决于栈空间的开销，栈中的元素个数不会超过树的节点数。"
   ]
  },
  {
   "cell_type": "markdown",
   "id": "f2194021",
   "metadata": {},
   "source": [
    "## 代码"
   ]
  },
  {
   "cell_type": "code",
   "execution_count": 1,
   "id": "05f735f9",
   "metadata": {},
   "outputs": [],
   "source": [
    "class TreeNode:\n",
    "    def __init__(self, val=0, left=None, right=None):\n",
    "        self.val = val\n",
    "        self.left = left\n",
    "        self.right = right"
   ]
  },
  {
   "cell_type": "code",
   "execution_count": 2,
   "id": "c2514f60",
   "metadata": {},
   "outputs": [],
   "source": [
    "def pathSum(root, targetSum):\n",
    "    ret = list()  # 最终答案\n",
    "    path = list()  # 一条路径\n",
    "    \n",
    "    def dfs(root, targetSum):\n",
    "        if not root:\n",
    "            return\n",
    "        path.append(root.val)\n",
    "        targetSum -= root.val\n",
    "        if not root.left and not root.right and targetSum == 0:\n",
    "            ret.append(path[:])\n",
    "        dfs(root.left, targetSum)\n",
    "        dfs(root.right, targetSum)\n",
    "        path.pop()  # 每一次调用dfs()都在路径上增加一个节点，path只有一个，为了让不同路径不冲突，在对该路径进行判断后，需要将增加的节点删除\n",
    "    \n",
    "    dfs(root, targetSum)\n",
    "    return ret"
   ]
  },
  {
   "cell_type": "markdown",
   "id": "2cc35c54",
   "metadata": {},
   "source": [
    "#### 测试一"
   ]
  },
  {
   "cell_type": "code",
   "execution_count": 3,
   "id": "c87d9525",
   "metadata": {},
   "outputs": [
    {
     "data": {
      "text/plain": [
       "[[5, 4, 11], [5, 8, 7]]"
      ]
     },
     "execution_count": 3,
     "metadata": {},
     "output_type": "execute_result"
    }
   ],
   "source": [
    "root = TreeNode(5)\n",
    "l1 = TreeNode(4)\n",
    "l2 = TreeNode(11)\n",
    "r1 = TreeNode(8)\n",
    "r2 = TreeNode(3)\n",
    "r3 = TreeNode(7)\n",
    "root.left = l1\n",
    "root.right = r1\n",
    "l1.left = l2\n",
    "r1.left = r2\n",
    "r1.right = r3\n",
    "targetSum = 20\n",
    "\n",
    "pathSum(root, targetSum)"
   ]
  },
  {
   "cell_type": "code",
   "execution_count": null,
   "id": "ac97c50d",
   "metadata": {},
   "outputs": [],
   "source": []
  }
 ],
 "metadata": {
  "kernelspec": {
   "display_name": "Python 3",
   "language": "python",
   "name": "python3"
  },
  "language_info": {
   "codemirror_mode": {
    "name": "ipython",
    "version": 3
   },
   "file_extension": ".py",
   "mimetype": "text/x-python",
   "name": "python",
   "nbconvert_exporter": "python",
   "pygments_lexer": "ipython3",
   "version": "3.7.4"
  }
 },
 "nbformat": 4,
 "nbformat_minor": 5
}
