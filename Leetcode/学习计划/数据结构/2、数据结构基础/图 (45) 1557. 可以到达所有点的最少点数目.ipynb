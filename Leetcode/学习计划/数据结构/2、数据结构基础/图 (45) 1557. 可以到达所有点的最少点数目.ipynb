{
 "cells": [
  {
   "cell_type": "markdown",
   "id": "d98bab8b",
   "metadata": {},
   "source": [
    "# 题目"
   ]
  },
  {
   "cell_type": "markdown",
   "id": "1c63ffd4",
   "metadata": {},
   "source": [
    "> 给你一个有向无环图， n 个节点编号为 0 到 n-1 ，以及一个边数组 edges ，其中 edges[i] = [fromi, toi] 表示一条从点  fromi 到点 toi 的有向边。  \n",
    "找到最小的点集使得从这些点出发能到达图中所有点。题目保证解存在且唯一。  \n",
    "你可以以任意顺序返回这些节点编号。"
   ]
  },
  {
   "cell_type": "markdown",
   "id": "c38a08f7",
   "metadata": {},
   "source": [
    "# 方法一：寻找入度为零的节点"
   ]
  },
  {
   "cell_type": "markdown",
   "id": "3db13397",
   "metadata": {},
   "source": [
    "> 对于有向无环图，任何入度不为零的节点都可以由另一个节点到达，因此后者比前者更可能被加入答案。而入度为零的节点只能由自己到达，因此必须加入答案。综上，只需将所有入度为零的节点加入答案。"
   ]
  },
  {
   "cell_type": "markdown",
   "id": "aebdfe15",
   "metadata": {},
   "source": [
    "## 复杂度"
   ]
  },
  {
   "cell_type": "markdown",
   "id": "edf00c3e",
   "metadata": {},
   "source": [
    "- 时间复杂度: $O(n+m)$ ，其中 $n$ 是节点数量， $m$ 是边数量。"
   ]
  },
  {
   "cell_type": "markdown",
   "id": "897a926e",
   "metadata": {},
   "source": [
    "> 需要遍历所有的边获得入度不为零的节点，然后遍历所有的节点保留入度为零的节点。"
   ]
  },
  {
   "cell_type": "markdown",
   "id": "003113fe",
   "metadata": {},
   "source": [
    "- 空间复杂度: $O(n)$ ，其中 $n$ 是节点数量。"
   ]
  },
  {
   "cell_type": "markdown",
   "id": "f332d9e3",
   "metadata": {},
   "source": [
    "> 需要使用一个集合存储入度不为零的节点，集合中的节点数不会超过 $n$ 。"
   ]
  },
  {
   "cell_type": "markdown",
   "id": "4268c1ef",
   "metadata": {},
   "source": [
    "## 代码"
   ]
  },
  {
   "cell_type": "code",
   "execution_count": 1,
   "id": "6e51088f",
   "metadata": {},
   "outputs": [],
   "source": [
    "def findSmallestSetOfVertices(n, edges):\n",
    "    # 将所有入度不为零的节点提取出来\n",
    "    endSet = set(y for x, y in edges)  # set用于保存不重复的元素\n",
    "    # 若一个节点不在入度不为零的集合当中，则它入度为零\n",
    "    ans = [i for i in range(n) if i not in endSet]\n",
    "    return ans"
   ]
  },
  {
   "cell_type": "markdown",
   "id": "a71c142b",
   "metadata": {},
   "source": [
    "#### 测试一"
   ]
  },
  {
   "cell_type": "code",
   "execution_count": 2,
   "id": "11817713",
   "metadata": {},
   "outputs": [
    {
     "data": {
      "text/plain": [
       "[0, 3]"
      ]
     },
     "execution_count": 2,
     "metadata": {},
     "output_type": "execute_result"
    }
   ],
   "source": [
    "n = 6\n",
    "edges = [[0,1],[0,2],[2,5],[3,4],[4,2]]\n",
    "findSmallestSetOfVertices(n, edges)"
   ]
  },
  {
   "cell_type": "markdown",
   "id": "e9b16569",
   "metadata": {},
   "source": [
    "#### 测试二"
   ]
  },
  {
   "cell_type": "code",
   "execution_count": 3,
   "id": "e02af47d",
   "metadata": {},
   "outputs": [
    {
     "data": {
      "text/plain": [
       "[0, 2, 3]"
      ]
     },
     "execution_count": 3,
     "metadata": {},
     "output_type": "execute_result"
    }
   ],
   "source": [
    "n = 5\n",
    "edges = [[0,1],[2,1],[3,1],[1,4],[2,4]]\n",
    "findSmallestSetOfVertices(n, edges)"
   ]
  },
  {
   "cell_type": "code",
   "execution_count": null,
   "id": "aeb9d9df",
   "metadata": {},
   "outputs": [],
   "source": []
  }
 ],
 "metadata": {
  "kernelspec": {
   "display_name": "Python 3",
   "language": "python",
   "name": "python3"
  },
  "language_info": {
   "codemirror_mode": {
    "name": "ipython",
    "version": 3
   },
   "file_extension": ".py",
   "mimetype": "text/x-python",
   "name": "python",
   "nbconvert_exporter": "python",
   "pygments_lexer": "ipython3",
   "version": "3.7.4"
  }
 },
 "nbformat": 4,
 "nbformat_minor": 5
}
