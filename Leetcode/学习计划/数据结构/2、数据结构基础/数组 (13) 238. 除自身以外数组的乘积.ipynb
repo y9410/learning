{
 "cells": [
  {
   "cell_type": "markdown",
   "id": "53165d26",
   "metadata": {},
   "source": [
    "# 题目"
   ]
  },
  {
   "cell_type": "markdown",
   "id": "ec1b7cd2",
   "metadata": {},
   "source": [
    "> 给你一个整数数组 `nums` ，返回 数组 `answer` ，其中 `answer[i]` 等于 `nums` 中除 `nums[i]` 之外其余各元素的乘积。  \n",
    "> 题目数据保证数组 `nums` 之中任意元素的全部前缀元素和后缀的乘积都在32位整数范围内。  \n",
    "> 请不要使用除法，且在 O(n) 时间复杂度内完成此题。"
   ]
  },
  {
   "cell_type": "markdown",
   "id": "3bf94002",
   "metadata": {},
   "source": [
    "# 方法一：左右乘积"
   ]
  },
  {
   "cell_type": "markdown",
   "id": "60828860",
   "metadata": {},
   "source": [
    "> 一个变量左侧所有元素的乘积和右侧所有元素的乘积之积即为答案。因此，要分别从左右各遍历数组一次。  \n",
    "> 构建一个与输入数组等长的数组用于储存答案。从左遍历时，用输出数组储存元素i的左侧乘积。然后从右侧遍历，用一个变量R记录当前元素的右侧乘积，并将每个位置的元素更新为左右乘积之积。  \n",
    "> 遍历结束后得到答案。"
   ]
  },
  {
   "cell_type": "markdown",
   "id": "bb542dc4",
   "metadata": {},
   "source": [
    "## 复杂度"
   ]
  },
  {
   "cell_type": "markdown",
   "id": "6d71940d",
   "metadata": {},
   "source": [
    "- 时间复杂度: $O(n)$ ，其中 $n$ 是输入数组长度。"
   ]
  },
  {
   "cell_type": "markdown",
   "id": "0150c38b",
   "metadata": {},
   "source": [
    "> 两次遍历。"
   ]
  },
  {
   "cell_type": "markdown",
   "id": "452b0084",
   "metadata": {},
   "source": [
    "- 空间复杂度: $O(1)$ 。"
   ]
  },
  {
   "cell_type": "markdown",
   "id": "fa6e00ef",
   "metadata": {},
   "source": [
    "> 不计算输出数组的空间。"
   ]
  },
  {
   "cell_type": "markdown",
   "id": "45b2297f",
   "metadata": {},
   "source": [
    "## 代码"
   ]
  },
  {
   "cell_type": "code",
   "execution_count": 1,
   "id": "dc94a094",
   "metadata": {},
   "outputs": [],
   "source": [
    "def productExceptSelf(nums):\n",
    "    length = len(nums)\n",
    "    answer = [0] * length #直接用要输出的数组记录左侧乘积\n",
    "\n",
    "    answer[0] = 1\n",
    "    for i in range(1, length):\n",
    "        answer[i] = nums[i - 1] * answer[i - 1] #answer[i]表示索引i左侧所有元素的乘积\n",
    "        \n",
    "    R = 1 #用一个变量R记录元素右侧的乘积\n",
    "    for i in reversed(range(length)):\n",
    "        \n",
    "        answer[i] = answer[i] * R #元素i左右侧乘积之积为答案\n",
    "        R *= nums[i] #通过累乘计算R\n",
    "        \n",
    "    return answer"
   ]
  },
  {
   "cell_type": "markdown",
   "id": "6276802e",
   "metadata": {},
   "source": [
    "#### 测试一"
   ]
  },
  {
   "cell_type": "code",
   "execution_count": 2,
   "id": "6a6f2947",
   "metadata": {},
   "outputs": [
    {
     "data": {
      "text/plain": [
       "[24, 12, 8, 6]"
      ]
     },
     "execution_count": 2,
     "metadata": {},
     "output_type": "execute_result"
    }
   ],
   "source": [
    "nums = [1,2,3,4]\n",
    "productExceptSelf(nums)"
   ]
  },
  {
   "cell_type": "markdown",
   "id": "8c6183a6",
   "metadata": {},
   "source": [
    "#### 测试二"
   ]
  },
  {
   "cell_type": "code",
   "execution_count": 3,
   "id": "691b776b",
   "metadata": {},
   "outputs": [
    {
     "data": {
      "text/plain": [
       "[0, 0, 9, 0, 0]"
      ]
     },
     "execution_count": 3,
     "metadata": {},
     "output_type": "execute_result"
    }
   ],
   "source": [
    "nums = [-1,1,0,-3,3]\n",
    "productExceptSelf(nums)"
   ]
  },
  {
   "cell_type": "code",
   "execution_count": null,
   "id": "150dbdfb",
   "metadata": {},
   "outputs": [],
   "source": []
  }
 ],
 "metadata": {
  "kernelspec": {
   "display_name": "Python 3",
   "language": "python",
   "name": "python3"
  },
  "language_info": {
   "codemirror_mode": {
    "name": "ipython",
    "version": 3
   },
   "file_extension": ".py",
   "mimetype": "text/x-python",
   "name": "python",
   "nbconvert_exporter": "python",
   "pygments_lexer": "ipython3",
   "version": "3.7.4"
  }
 },
 "nbformat": 4,
 "nbformat_minor": 5
}
