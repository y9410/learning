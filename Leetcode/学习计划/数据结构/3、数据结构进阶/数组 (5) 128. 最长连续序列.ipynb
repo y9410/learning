{
 "cells": [
  {
   "cell_type": "markdown",
   "id": "6a8e1a48",
   "metadata": {},
   "source": [
    "# 题目"
   ]
  },
  {
   "cell_type": "markdown",
   "id": "7e7cdf46",
   "metadata": {},
   "source": [
    "> 给定一个未排序的整数数组 `nums` ，找出数字连续的最长序列（不要求序列元素在原数组中连续）的长度。  \n",
    "请你设计并实现时间复杂度为 $O(n)$ 的算法解决此问题。"
   ]
  },
  {
   "cell_type": "markdown",
   "id": "fd0cc03b",
   "metadata": {},
   "source": [
    "# 方法一：哈希表"
   ]
  },
  {
   "cell_type": "markdown",
   "id": "b5e05c14",
   "metadata": {},
   "source": [
    "> 枚举数组中的每个数 x ，在枚举的过程中，尝试匹配 x+1 ,若数组中存在 x+1 ，则继续匹配 x+2 ...重复以上过程，直到无法继续匹配。假设此时最后一个数为 x+y （数组中不存在x+y+1），则其长度为 y+1 。不断枚举并更新长度。  \n",
    "为了保证不重复（若枚举不在某一串数的开头位置的数，则会重复，例如数组为 [1,2,3] 在枚举1过后在枚举2，2匹配的一串数为2,3，必然短于从1开始的1,2,3），则需要在枚举前检查当前数 x 的前一个数 x-1 是否在数组中，若否，说明没有重复，则继续枚举，否则跳过当前数。"
   ]
  },
  {
   "cell_type": "markdown",
   "id": "c7b91249",
   "metadata": {},
   "source": [
    "## 复杂度"
   ]
  },
  {
   "cell_type": "markdown",
   "id": "5389ea14",
   "metadata": {},
   "source": [
    "- 时间复杂度: $O(n)$ ，其中 $n$ 为数组的长度。"
   ]
  },
  {
   "cell_type": "markdown",
   "id": "7834d122",
   "metadata": {},
   "source": [
    "> 外层循环为 $O(n)$ 只有当前数为子数组中的第一位时，才进入内层循环，且一个子数组的所有数只会进入内循环一次。"
   ]
  },
  {
   "cell_type": "markdown",
   "id": "36e4ca9b",
   "metadata": {},
   "source": [
    "- 空间复杂度: $O(n)$ ，其中 $n$ 为数组的长度。"
   ]
  },
  {
   "cell_type": "markdown",
   "id": "749712b9",
   "metadata": {},
   "source": [
    "> 哈希表存储数组中所有的数需要 $O(n)$ 的空间。"
   ]
  },
  {
   "cell_type": "markdown",
   "id": "22f96a10",
   "metadata": {},
   "source": [
    "## 代码"
   ]
  },
  {
   "cell_type": "code",
   "execution_count": 1,
   "id": "621c4bc0",
   "metadata": {},
   "outputs": [],
   "source": [
    "def longestConsecutive(nums):\n",
    "    longest_streak = 0\n",
    "    num_set = set(nums)  # 去掉数组中的重复值，返回一个哈希表\n",
    "\n",
    "    for num in num_set:\n",
    "        if num - 1 not in num_set:\n",
    "            current_num = num\n",
    "            current_streak = 1\n",
    "\n",
    "            while current_num + 1 in num_set:\n",
    "                current_num += 1\n",
    "                current_streak += 1\n",
    "\n",
    "            longest_streak = max(longest_streak, current_streak)\n",
    "\n",
    "    return longest_streak"
   ]
  },
  {
   "cell_type": "markdown",
   "id": "a0d7ae98",
   "metadata": {},
   "source": [
    "#### 测试一"
   ]
  },
  {
   "cell_type": "code",
   "execution_count": 2,
   "id": "9a736216",
   "metadata": {},
   "outputs": [],
   "source": [
    "nums = [100,4,200,1,3,2]\n",
    "longestConsecutive(nums)"
   ]
  },
  {
   "cell_type": "markdown",
   "id": "e41a8187",
   "metadata": {},
   "source": [
    "#### 测试二"
   ]
  },
  {
   "cell_type": "code",
   "execution_count": 4,
   "id": "5cf07f09",
   "metadata": {},
   "outputs": [
    {
     "data": {
      "text/plain": [
       "9"
      ]
     },
     "execution_count": 4,
     "metadata": {},
     "output_type": "execute_result"
    }
   ],
   "source": [
    "nums = [0,3,7,2,5,8,4,6,0,1]\n",
    "longestConsecutive(nums)"
   ]
  },
  {
   "cell_type": "code",
   "execution_count": null,
   "id": "e8bda39d",
   "metadata": {},
   "outputs": [],
   "source": []
  }
 ],
 "metadata": {
  "kernelspec": {
   "display_name": "Python 3",
   "language": "python",
   "name": "python3"
  },
  "language_info": {
   "codemirror_mode": {
    "name": "ipython",
    "version": 3
   },
   "file_extension": ".py",
   "mimetype": "text/x-python",
   "name": "python",
   "nbconvert_exporter": "python",
   "pygments_lexer": "ipython3",
   "version": "3.7.4"
  }
 },
 "nbformat": 4,
 "nbformat_minor": 5
}
