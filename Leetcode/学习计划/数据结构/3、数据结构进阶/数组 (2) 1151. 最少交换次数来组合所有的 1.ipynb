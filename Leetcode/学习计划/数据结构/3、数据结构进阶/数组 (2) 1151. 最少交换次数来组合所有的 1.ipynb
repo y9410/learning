{
 "cells": [
  {
   "cell_type": "markdown",
   "id": "d5331f63",
   "metadata": {},
   "source": [
    "# 题目"
   ]
  },
  {
   "cell_type": "markdown",
   "id": "cfd26342",
   "metadata": {},
   "source": [
    "> 给出一个二进制数组 data ，你需要通过交换位置，将数组中任何位置上的 1 组合到一起，并返回所有可能中所需最少的交换次数。"
   ]
  },
  {
   "cell_type": "markdown",
   "id": "1162788b",
   "metadata": {},
   "source": [
    "# 方法一：滑动窗口"
   ]
  },
  {
   "cell_type": "markdown",
   "id": "aca3f25c",
   "metadata": {},
   "source": [
    "> 对于一个二进制数组，假设在最好的情况下，有m个1聚集在一起，此时对于框柱这m个1的长度为m的窗口来说，其内部每有0，因此不用交换。  \n",
    "在一般情况下，使用一个长度为m的窗口从数组的左边滑到右边，当前窗口中每有1个0，说明要交换1次才能把所有1聚集在一起。  \n",
    "在滑动过程中，求出每个窗口的交换次数（包含的0的个数），并更新最小交换次数值，遍历完成后可得到最小交换次数。"
   ]
  },
  {
   "cell_type": "markdown",
   "id": "a22c02c1",
   "metadata": {},
   "source": [
    "## 复杂度"
   ]
  },
  {
   "cell_type": "markdown",
   "id": "38738814",
   "metadata": {},
   "source": [
    "- 时间复杂度: $O(n)$ ，其中 $n$ 为数组 `data` 的长度。"
   ]
  },
  {
   "cell_type": "markdown",
   "id": "0728490a",
   "metadata": {},
   "source": [
    "> 计算 1 的个数遍历一次 data 数组，复杂度为 $O(n)$ 。使用滑动窗口计算子数组 1 的个数的复杂度为 $O(n)$ 。"
   ]
  },
  {
   "cell_type": "markdown",
   "id": "37cfbaa6",
   "metadata": {},
   "source": [
    "- 空间复杂度: $O(1)$ 。"
   ]
  },
  {
   "cell_type": "markdown",
   "id": "10501703",
   "metadata": {},
   "source": [
    "> 没有使用额外的空间。"
   ]
  },
  {
   "cell_type": "markdown",
   "id": "418a35c7",
   "metadata": {},
   "source": [
    "## 代码"
   ]
  },
  {
   "cell_type": "code",
   "execution_count": 1,
   "id": "d8eb1afc",
   "metadata": {},
   "outputs": [],
   "source": [
    "def minSwaps(data):\n",
    "    n = len(data)\n",
    "    window_len = sum(data)  # 滑动窗口的大小等于所有1的个数\n",
    "    cnt1 = sum(data[ :window_len])  # 第一个窗口内1的个数\n",
    "\n",
    "    res = window_len - cnt1  # 第一个窗口内0的个数\n",
    "    for R in range(window_len, n):  # 滑动窗口（从窗口外的右边第一个数开始遍历）\n",
    "        # 进行一次滑动\n",
    "        cnt1 += data[R]  # 将这个数加入窗口\n",
    "        cnt1 -= data[R - window_len]  # 弹出窗口原先左端点处的数\n",
    "        \n",
    "        cnt0 = window_len - cnt1  # 记录当前窗口内0的个数，即如果以此窗口的位置为最后结果，需要交换的次数\n",
    "        res = min(res, cnt0)  # 更新res\n",
    "    return res"
   ]
  },
  {
   "cell_type": "markdown",
   "id": "0a6b5b2d",
   "metadata": {},
   "source": [
    "#### 测试一"
   ]
  },
  {
   "cell_type": "code",
   "execution_count": 2,
   "id": "cd9efb3b",
   "metadata": {},
   "outputs": [
    {
     "data": {
      "text/plain": [
       "1"
      ]
     },
     "execution_count": 2,
     "metadata": {},
     "output_type": "execute_result"
    }
   ],
   "source": [
    "data = [1,0,1,0,1]\n",
    "minSwaps(data)"
   ]
  },
  {
   "cell_type": "markdown",
   "id": "bf9c78c2",
   "metadata": {},
   "source": [
    "#### 测试二"
   ]
  },
  {
   "cell_type": "code",
   "execution_count": 3,
   "id": "a11d6432",
   "metadata": {},
   "outputs": [
    {
     "data": {
      "text/plain": [
       "0"
      ]
     },
     "execution_count": 3,
     "metadata": {},
     "output_type": "execute_result"
    }
   ],
   "source": [
    "data = [0,0,0,1,0]\n",
    "minSwaps(data)"
   ]
  },
  {
   "cell_type": "code",
   "execution_count": null,
   "id": "f9e47e64",
   "metadata": {},
   "outputs": [],
   "source": []
  }
 ],
 "metadata": {
  "kernelspec": {
   "display_name": "Python 3",
   "language": "python",
   "name": "python3"
  },
  "language_info": {
   "codemirror_mode": {
    "name": "ipython",
    "version": 3
   },
   "file_extension": ".py",
   "mimetype": "text/x-python",
   "name": "python",
   "nbconvert_exporter": "python",
   "pygments_lexer": "ipython3",
   "version": "3.7.4"
  }
 },
 "nbformat": 4,
 "nbformat_minor": 5
}
