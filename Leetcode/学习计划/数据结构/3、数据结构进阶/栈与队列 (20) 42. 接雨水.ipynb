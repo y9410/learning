{
 "cells": [
  {
   "cell_type": "markdown",
   "id": "7acb5dd2",
   "metadata": {},
   "source": [
    "# 题目"
   ]
  },
  {
   "cell_type": "markdown",
   "id": "629ef65f",
   "metadata": {},
   "source": [
    "> 给定 n 个非负整数表示每个宽度为 1 的柱子的高度图，计算按此排列的柱子，下雨之后能接多少雨水。  \n",
    "例如：输入为 [1,0,1] ，输出为 1 ，表示两根高度为 1 的柱子之间形成的容器能接 1 单位雨水。  \n",
    "1 0 1  \n",
    "0 0 0 "
   ]
  },
  {
   "cell_type": "markdown",
   "id": "bd17872a",
   "metadata": {},
   "source": [
    "# 方法一：单调栈"
   ]
  },
  {
   "cell_type": "markdown",
   "id": "49718ae7",
   "metadata": {},
   "source": [
    "> 柱子的排列必须呈现 高→低→高 的情况时才能形成一个容器。因此考虑用一个单调栈（自底向上单调不递增，可能出现相邻两根柱子高度相同的情况）来储存柱子的序号和高度。\n",
    "\n",
    "> 遍历列表 height ，设每个柱子的序号为 i ，对于每个遍历到的柱子，存在以下情况：  \n",
    "1. 栈为空。直接把当前柱子的序号 i 压入栈；\n",
    "2. 栈不为空，且当前柱子高度小于等于栈顶柱子的高度。直接把当前柱子的序号 i 压入栈，说明栈中的柱子还在等待一根更高的柱子来与其构成容器；\n",
    "3. 栈不为空，且当前柱子高度大于栈顶柱子的高度。弹出栈顶元素，此时的栈顶柱子构成容器的底部，底部柱子左边的柱子构成容器的左壁，计算容器体积。重复上述步骤，直到栈为空（所有左边的柱子都被弹出）或遇到一个更高的左柱子，将当前柱子的序号 i 压入栈。\n",
    "\n",
    "> 遍历结束后，返回答案列表"
   ]
  },
  {
   "cell_type": "markdown",
   "id": "07996b3c",
   "metadata": {},
   "source": [
    "## 复杂度"
   ]
  },
  {
   "cell_type": "markdown",
   "id": "53f7baaa",
   "metadata": {},
   "source": [
    "- 时间复杂度: $O(n)$ ，其中 $n$ 是列表 height 的长度。"
   ]
  },
  {
   "cell_type": "markdown",
   "id": "415964ce",
   "metadata": {},
   "source": [
    "> 正向遍历列表一遍，对于列表中的每个下标，最多有一次进栈和出栈的操作。"
   ]
  },
  {
   "cell_type": "markdown",
   "id": "7f89acf6",
   "metadata": {},
   "source": [
    "- 空间复杂度: $O(n)$ ，其中 $n$ 是列表 height 的长度。"
   ]
  },
  {
   "cell_type": "markdown",
   "id": "046db263",
   "metadata": {},
   "source": [
    "> 空间复杂度主要取决于栈空间，栈的大小不会超过 n 。"
   ]
  },
  {
   "cell_type": "markdown",
   "id": "6fa9de18",
   "metadata": {},
   "source": [
    "## 代码"
   ]
  },
  {
   "cell_type": "code",
   "execution_count": 1,
   "id": "1d6bf8e0",
   "metadata": {},
   "outputs": [],
   "source": [
    "def trap(height):\n",
    "    ans = 0  # 雨水总量\n",
    "    stack = list()  # 单调栈\n",
    "    n = len(height)\n",
    "    \n",
    "    for i, h in enumerate(height):  # i为每个柱子的序号，h为柱子高度\n",
    "        \n",
    "        # 只有当柱子的高度情况为：高→低→高时才能形成容器\n",
    "        # 因此要不断判断当前柱子高度是否高于栈顶柱子的高度\n",
    "        while stack and h > height[stack[-1]]:\n",
    "            top = stack.pop()  # 弹出栈顶柱子（相当于容器的底）\n",
    "            \n",
    "            # 如果栈为空，说明与当前柱子相对的左边柱子已经移出，当前容器已经接过水，跳出循环以避免重复计算\n",
    "            if not stack:\n",
    "                break\n",
    "            \n",
    "            left = stack[-1]  # 容器左边柱子的高度\n",
    "            currWidth = i - left - 1  # 计算容器的宽度\n",
    "            currHeight = min(height[left], height[i]) - height[top]  # 计算容器的高度，等于：左右柱子较矮者的高度减去底部高度\n",
    "            ans += currWidth * currHeight\n",
    "        \n",
    "        # 若栈为空或当前柱子高度小于等于栈顶柱子的高度（当前还没有形成一个容器），则将当前柱子的序号直接压入栈\n",
    "        # 否则需要经过上述循环后压入栈\n",
    "        stack.append(i)\n",
    "    \n",
    "    return ans"
   ]
  },
  {
   "cell_type": "markdown",
   "id": "9667f267",
   "metadata": {},
   "source": [
    "#### 测试一"
   ]
  },
  {
   "cell_type": "code",
   "execution_count": 2,
   "id": "e05f80df",
   "metadata": {},
   "outputs": [],
   "source": [
    "height = [0,1,0,2,1,0,1,3,2,1,2,1]\n",
    "trap(height)"
   ]
  },
  {
   "cell_type": "markdown",
   "id": "4fa7bb49",
   "metadata": {},
   "source": [
    "#### 测试二"
   ]
  },
  {
   "cell_type": "code",
   "execution_count": 3,
   "id": "7bea7430",
   "metadata": {},
   "outputs": [],
   "source": [
    "height = [4,2,2,0,3,2,5]\n",
    "trap(height)"
   ]
  },
  {
   "cell_type": "markdown",
   "id": "a6e3c600",
   "metadata": {},
   "source": [
    "# 方法二：双指针"
   ]
  },
  {
   "cell_type": "markdown",
   "id": "e089c8a3",
   "metadata": {},
   "source": [
    "> 使用两个指针 left,right 分别从左右两端遍历柱子。  \n",
    "每次都比较两者对应的柱子高度，较低者向中间继续移动，同时计算当前柱子对应的储水量。  \n",
    "两指针相遇时，得到总储水量。"
   ]
  },
  {
   "cell_type": "markdown",
   "id": "ed94b760",
   "metadata": {},
   "source": [
    "## 复杂度"
   ]
  },
  {
   "cell_type": "markdown",
   "id": "1beca2d3",
   "metadata": {},
   "source": [
    "- 时间复杂度: $O(n)$ ，其中 $n$ 是列表 height 的长度。"
   ]
  },
  {
   "cell_type": "markdown",
   "id": "c00ae338",
   "metadata": {},
   "source": [
    "> 两个指针的移动总次数不超过 n 。"
   ]
  },
  {
   "cell_type": "markdown",
   "id": "f9c43857",
   "metadata": {},
   "source": [
    "- 空间复杂度: $O(1)$ 。"
   ]
  },
  {
   "cell_type": "markdown",
   "id": "4a6a2efb",
   "metadata": {},
   "source": [
    "> 只需要使用常数的额外空间。"
   ]
  },
  {
   "cell_type": "markdown",
   "id": "04400862",
   "metadata": {},
   "source": [
    "## 代码"
   ]
  },
  {
   "cell_type": "code",
   "execution_count": 4,
   "id": "64007790",
   "metadata": {},
   "outputs": [],
   "source": [
    "def trap(height):\n",
    "    ans = 0\n",
    "    left, right = 0, len(height) - 1  # 两个指针分别从左右两端的柱子开始向中间遍历\n",
    "    leftMax = rightMax = 0  # 记录左右两端最高柱子的值\n",
    "\n",
    "    while left < right:  # 只要两指针不相遇，则继续遍历\n",
    "        leftMax = max(leftMax, height[left])  # 记录left指针从左往右遍历过的最高的柱子\n",
    "        rightMax = max(rightMax, height[right])  # 记录right指针从右往左遍历过的最高的柱子\n",
    "        \n",
    "        # 每次都只计算当前柱子对应的积水量（宽为1）\n",
    "        if height[left] < height[right]:  # 如果当前的左柱子低于右柱子，计算积水时需要以左边柱子（更矮）为准\n",
    "            # 当前柱子对应的积水量\n",
    "            ans += leftMax - height[left]  # 将当前柱子作为底，当前格储水量取决于左侧最高柱子的高度\n",
    "            left += 1\n",
    "        else:  # 如果当前的左柱子高于或等于右柱子，计算积水时需要以右边柱子（更矮）为准\n",
    "            ans += rightMax - height[right]\n",
    "            right -= 1\n",
    "    \n",
    "    return ans"
   ]
  },
  {
   "cell_type": "markdown",
   "id": "6bbf0c46",
   "metadata": {},
   "source": [
    "#### 测试一"
   ]
  },
  {
   "cell_type": "code",
   "execution_count": 7,
   "id": "6eef9736",
   "metadata": {},
   "outputs": [
    {
     "data": {
      "text/plain": [
       "6"
      ]
     },
     "execution_count": 7,
     "metadata": {},
     "output_type": "execute_result"
    }
   ],
   "source": [
    "height = [0,1,0,2,1,0,1,3,2,1,2,1]\n",
    "trap(height)"
   ]
  },
  {
   "cell_type": "markdown",
   "id": "f2910cbd",
   "metadata": {},
   "source": [
    "#### 测试二"
   ]
  },
  {
   "cell_type": "code",
   "execution_count": 8,
   "id": "0089c2df",
   "metadata": {},
   "outputs": [
    {
     "data": {
      "text/plain": [
       "11"
      ]
     },
     "execution_count": 8,
     "metadata": {},
     "output_type": "execute_result"
    }
   ],
   "source": [
    "height = [4,2,2,0,3,2,5]\n",
    "trap(height)"
   ]
  },
  {
   "cell_type": "code",
   "execution_count": null,
   "id": "7e99b518",
   "metadata": {},
   "outputs": [],
   "source": []
  }
 ],
 "metadata": {
  "kernelspec": {
   "display_name": "Python 3",
   "language": "python",
   "name": "python3"
  },
  "language_info": {
   "codemirror_mode": {
    "name": "ipython",
    "version": 3
   },
   "file_extension": ".py",
   "mimetype": "text/x-python",
   "name": "python",
   "nbconvert_exporter": "python",
   "pygments_lexer": "ipython3",
   "version": "3.7.4"
  }
 },
 "nbformat": 4,
 "nbformat_minor": 5
}
