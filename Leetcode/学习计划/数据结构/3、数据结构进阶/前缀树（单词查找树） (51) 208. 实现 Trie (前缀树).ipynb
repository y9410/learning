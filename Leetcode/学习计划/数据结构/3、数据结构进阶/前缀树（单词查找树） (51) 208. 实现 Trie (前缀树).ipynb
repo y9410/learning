{
 "cells": [
  {
   "cell_type": "markdown",
   "id": "f2a3178e",
   "metadata": {},
   "source": [
    "# 题目"
   ]
  },
  {
   "cell_type": "markdown",
   "id": "4beb090e",
   "metadata": {},
   "source": [
    "> Trie（发音类似 \"try\"）或者说 前缀树 是一种树形数据结构，用于高效地存储和检索字符串数据集中的键。这一数据结构有相当多的应用情景，例如自动补完和拼写检查。  \n",
    "请你实现 Trie 类：  \n",
    "- Trie() 初始化前缀树对象。\n",
    "- void insert(String word) 向前缀树中插入字符串 word 。\n",
    "- boolean search(String word) 如果字符串 word 在前缀树中，返回 true（即，在检索之前已经插入）；否则，返回 false 。\n",
    "- boolean startsWith(String prefix) 如果之前已经插入的字符串 word 的前缀之一为 prefix ，返回 true ；否则，返回 false 。"
   ]
  },
  {
   "cell_type": "markdown",
   "id": "2aac69e8",
   "metadata": {},
   "source": [
    "# 方法一：字典树"
   ]
  },
  {
   "cell_type": "markdown",
   "id": "50930e05",
   "metadata": {},
   "source": [
    "> Trie，又称前缀树或字典树，是一棵有根树，其每个节点包含以下字段：  \n",
    "- 指向子节点的指针数组 children 。对于本题而言，数组长度为 26 ，即小写英文字母的数量。此时 children[0] 对应小写字母 a ，children[1] 对应小写字母 b ，…，children[25] 对应小写字母 z 。\n",
    "- 布尔字段 isEnd ，表示该节点是否为字符串的结尾。\n",
    "\n",
    "> **查找前缀**  \n",
    "> 我们从字典树的根开始，查找前缀。对于当前字符对应的子节点，有两种情况：  \n",
    "1、子节点存在。沿着指针移动到子节点，继续搜索下一个字符。  \n",
    "2、子节点不存在。说明字典树中不包含该前缀，返回空指针。  \n",
    "> 重复以上步骤，直到返回空指针或搜索完前缀的最后一个字符。  \n",
    "若搜索到了前缀的末尾，就说明字典树中存在该前缀。此外，若前缀末尾对应节点的 isEnd 为真，则说明字典树中存在该字符串。\n",
    "\n",
    "> **插入字符串**  \n",
    "我们从字典树的根开始，插入字符串。对于当前字符对应的子节点，有两种情况：  \n",
    "1、子节点存在。沿着指针移动到子节点，继续处理下一个字符。    \n",
    "2、子节点不存在。创建一个新的子节点，记录在 children 数组的对应位置上，然后沿着指针移动到子节点，继续搜索下一个字符。  \n",
    "重复以上步骤，直到处理字符串的最后一个字符，然后将当前节点标记为字符串的结尾。"
   ]
  },
  {
   "cell_type": "markdown",
   "id": "a49ac903",
   "metadata": {},
   "source": [
    "## 复杂度"
   ]
  },
  {
   "cell_type": "markdown",
   "id": "6e171b33",
   "metadata": {},
   "source": [
    "- 时间复杂度: 初始化为 $O(1)$ ，其余操作为 $O(|S|)$ ，其中 $|S|$ 是每次插入或查询的字符串的长度。"
   ]
  },
  {
   "cell_type": "markdown",
   "id": "b9e5e3c3",
   "metadata": {},
   "source": [
    "- 空间复杂度:：$O(|T|⋅\\Sigma)$，其中 $|T|$ 为所有插入字符串的长度之和， $\\Sigma$ 为字符集的大小。"
   ]
  },
  {
   "cell_type": "markdown",
   "id": "f2ba5182",
   "metadata": {},
   "source": [
    ">  $\\Sigma=26$ 。 "
   ]
  },
  {
   "cell_type": "markdown",
   "id": "63c74b25",
   "metadata": {},
   "source": [
    "## 代码"
   ]
  },
  {
   "cell_type": "code",
   "execution_count": 1,
   "id": "15000789",
   "metadata": {},
   "outputs": [],
   "source": [
    "class Trie:\n",
    "    # 树中的每个节点包含以下字段\n",
    "    def __init__(self):\n",
    "        self.children = [None] * 26  # 每个位置对应一个字母，例如[0]→'a'\n",
    "        self.isEnd = False  # 该节点是否为字符串的结尾\n",
    "    \n",
    "    # 查找前缀是否存在，若是则返回前缀的最后一个字符对应的子节点\n",
    "    def searchPrefix(self, prefix):\n",
    "        node = self\n",
    "        # 遍历前缀的每个字符\n",
    "        for ch in prefix:\n",
    "            ch = ord(ch) - ord(\"a\")\n",
    "            # 只要某个字符对应的子节点不存在，就说明前缀树中不存在这个前缀\n",
    "            if not node.children[ch]:\n",
    "                return None\n",
    "            # 移动到字符对应的子节点\n",
    "            node = node.children[ch]\n",
    "        # 返回前缀的最后一个字符对应的子节点\n",
    "        return node\n",
    "\n",
    "    # 向树中插入字符串word\n",
    "    def insert(self, word):\n",
    "        node = self  # 节点\n",
    "        # 遍历每个字符\n",
    "        for ch in word:\n",
    "            # 计算字符离'a'的距离，得到当前字符在children中的位置\n",
    "            ch = ord(ch) - ord(\"a\")\n",
    "            # 若对应位置为空（子节点不存在），则在那里添加一个子节点\n",
    "            if not node.children[ch]:\n",
    "                node.children[ch] = Trie()\n",
    "            # 移动该字符的子节点\n",
    "            node = node.children[ch]\n",
    "        # 将word的最后一个字符对应的子节点的isEnd标为True\n",
    "        node.isEnd = True\n",
    "\n",
    "    # 查找字符串word是否存在\n",
    "    def search(self, word):\n",
    "        node = self.searchPrefix(word)\n",
    "        # 若作为前缀的word在树中存在且最后一个字符对应的子节点的isEnd为True，说明word作为一个单词存在于树中\n",
    "        return node is not None and node.isEnd\n",
    "\n",
    "    # 查找前缀是否存在\n",
    "    def startsWith(self, prefix):\n",
    "        return self.searchPrefix(prefix) is not None"
   ]
  },
  {
   "cell_type": "markdown",
   "id": "b8086a05",
   "metadata": {},
   "source": [
    "#### 测试一"
   ]
  },
  {
   "cell_type": "code",
   "execution_count": 2,
   "id": "f8773de0",
   "metadata": {},
   "outputs": [
    {
     "name": "stdout",
     "output_type": "stream",
     "text": [
      "True\n",
      "False\n",
      "True\n",
      "True\n"
     ]
    }
   ],
   "source": [
    "trie = Trie()\n",
    "trie.insert(\"apple\")\n",
    "print(trie.search(\"apple\"))\n",
    "print(trie.search(\"app\"))\n",
    "print(trie.startsWith(\"app\"))\n",
    "trie.insert(\"app\")\n",
    "print(trie.search(\"app\"))"
   ]
  },
  {
   "cell_type": "code",
   "execution_count": null,
   "id": "bff88ef7",
   "metadata": {},
   "outputs": [],
   "source": []
  }
 ],
 "metadata": {
  "kernelspec": {
   "display_name": "Python 3",
   "language": "python",
   "name": "python3"
  },
  "language_info": {
   "codemirror_mode": {
    "name": "ipython",
    "version": 3
   },
   "file_extension": ".py",
   "mimetype": "text/x-python",
   "name": "python",
   "nbconvert_exporter": "python",
   "pygments_lexer": "ipython3",
   "version": "3.7.4"
  }
 },
 "nbformat": 4,
 "nbformat_minor": 5
}
