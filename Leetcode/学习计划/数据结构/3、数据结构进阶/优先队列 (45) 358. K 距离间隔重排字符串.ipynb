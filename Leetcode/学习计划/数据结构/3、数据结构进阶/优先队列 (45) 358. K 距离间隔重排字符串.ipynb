{
 "cells": [
  {
   "cell_type": "markdown",
   "id": "91c1b1f8",
   "metadata": {},
   "source": [
    "# 题目"
   ]
  },
  {
   "cell_type": "markdown",
   "id": "2654a718",
   "metadata": {},
   "source": [
    "> 给你一个非空的字符串 s 和一个整数 k ，你要将这个字符串 s 中的字母进行重新排列，使得重排后的字符串中相同字母的位置间隔距离至少为 k 。  \n",
    "如果无法做到，请返回一个空字符串 \"\"。"
   ]
  },
  {
   "cell_type": "markdown",
   "id": "463caae5",
   "metadata": {},
   "source": [
    "# 方法一：贪心+最大堆+滑动窗口"
   ]
  },
  {
   "cell_type": "markdown",
   "id": "011c2d47",
   "metadata": {},
   "source": [
    "> 1.先把频率最大的字母扔进窗口；2.借助最大堆和队列。"
   ]
  },
  {
   "cell_type": "markdown",
   "id": "82c123aa",
   "metadata": {},
   "source": [
    "## 复杂度"
   ]
  },
  {
   "cell_type": "markdown",
   "id": "c328430c",
   "metadata": {},
   "source": [
    "- 时间复杂度: $O(nlogm)$ ，其中 $n$ 是字符串 s 的长度， $m$ 是不同字符的个数。"
   ]
  },
  {
   "cell_type": "markdown",
   "id": "88b8c5e6",
   "metadata": {},
   "source": [
    "> 要遍历 n 个字符，每一次都要进行一个插入堆的操作，复杂度为 $O(nlogm)$ （因为堆的长度最多是 m ）。"
   ]
  },
  {
   "cell_type": "markdown",
   "id": "f7ace232",
   "metadata": {},
   "source": [
    "- 空间复杂度: $O(m)$ ，其中 $m$ 是不同字符的个数。"
   ]
  },
  {
   "cell_type": "markdown",
   "id": "1807dde8",
   "metadata": {},
   "source": [
    "> 主要是堆、双端队列的开销。"
   ]
  },
  {
   "cell_type": "markdown",
   "id": "12b797c8",
   "metadata": {},
   "source": [
    "## 代码"
   ]
  },
  {
   "cell_type": "code",
   "execution_count": 1,
   "id": "da287354",
   "metadata": {},
   "outputs": [],
   "source": [
    "import heapq\n",
    "import collections"
   ]
  },
  {
   "cell_type": "code",
   "execution_count": 2,
   "id": "120ca15a",
   "metadata": {},
   "outputs": [],
   "source": [
    "class Solution:\n",
    "    def rearrangeString(self, s, k):\n",
    "        if k == 0:\n",
    "            return s\n",
    "        \n",
    "        chr_freq = collections.Counter(s)  # 统计每个字符出现的频次\n",
    "        \n",
    "        maxHeap = [(-1 * freq, chr) for chr, freq in chr_freq.items()]  # chr是字符，freq是对应的出现频次\n",
    "        \n",
    "        # 按照每个字符的出现频次将maxHeap重构为一个小顶堆\n",
    "        # 由于堆中的频次都是负数，其全部取负号后是一个大顶堆，父节点的频次高于子节点的频次\n",
    "        heapq.heapify(maxHeap)  \n",
    "        \n",
    "        Q = collections.deque()\n",
    "        res = \"\"\n",
    "        \n",
    "        while maxHeap:\n",
    "            # 要想实现，必须优先满足频次最大的字符的距离大于等于k\n",
    "            freq, c = heapq.heappop(maxHeap)  # heappop弹出堆中的最小元素（由于是负数，弹出的是最大频次的字符）\n",
    "            freq *= -1  # 得到当前字符c的频次\n",
    "\n",
    "            res += c  # 一次添加一个字符到字符串\n",
    "            \n",
    "            # 记录已添加字符的情况，以及对应的剩余待添加字符数量\n",
    "            # 由于字符已被添加到字符串，因此其频次需要-1\n",
    "            Q.append((freq - 1, c))  # 队头元素始终是频次最高的字符\n",
    "\n",
    "            # Q的长度即是当前Q队头字符的距离\n",
    "            # 若这个距离等于k，说明队头字符可以再次被添加至字符串（字符串中可以出现新的相同字符）\n",
    "            # 否则说明距离还不够长，还需要从maxHeap中继续向字符串添加不同的字符（字符串中还不能出现新的相同字符）\n",
    "            if len(Q) == k:\n",
    "                # 将队头元素弹出\n",
    "                f, c = Q.popleft()\n",
    "                # 若该字符还有待添加次数，则将其加入maxHeap以备继续添加\n",
    "                if f > 0:\n",
    "                    heapq.heappush(maxHeap, (-1 * f, c))\n",
    "        \n",
    "        # 当maxHeap为空时，若res的长度与s长度相等，说明k是合理的\n",
    "        return res if len(res) == len(s) else \"\""
   ]
  },
  {
   "cell_type": "markdown",
   "id": "b2223a6f",
   "metadata": {},
   "source": [
    "#### 测试一"
   ]
  },
  {
   "cell_type": "code",
   "execution_count": 3,
   "id": "b67cc56e",
   "metadata": {},
   "outputs": [
    {
     "data": {
      "text/plain": [
       "'abcabc'"
      ]
     },
     "execution_count": 3,
     "metadata": {},
     "output_type": "execute_result"
    }
   ],
   "source": [
    "s = \"aabbcc\"\n",
    "k = 3\n",
    "\n",
    "test = Solution()\n",
    "test.rearrangeString(s, k)"
   ]
  },
  {
   "cell_type": "markdown",
   "id": "9ad290d1",
   "metadata": {},
   "source": [
    "#### 测试二"
   ]
  },
  {
   "cell_type": "code",
   "execution_count": 4,
   "id": "61a9bba4",
   "metadata": {},
   "outputs": [
    {
     "data": {
      "text/plain": [
       "''"
      ]
     },
     "execution_count": 4,
     "metadata": {},
     "output_type": "execute_result"
    }
   ],
   "source": [
    "s = \"aaabc\"\n",
    "k = 3\n",
    "\n",
    "test = Solution()\n",
    "test.rearrangeString(s, k)"
   ]
  },
  {
   "cell_type": "code",
   "execution_count": null,
   "id": "cf67c8f8",
   "metadata": {},
   "outputs": [],
   "source": []
  }
 ],
 "metadata": {
  "kernelspec": {
   "display_name": "Python 3",
   "language": "python",
   "name": "python3"
  },
  "language_info": {
   "codemirror_mode": {
    "name": "ipython",
    "version": 3
   },
   "file_extension": ".py",
   "mimetype": "text/x-python",
   "name": "python",
   "nbconvert_exporter": "python",
   "pygments_lexer": "ipython3",
   "version": "3.7.4"
  }
 },
 "nbformat": 4,
 "nbformat_minor": 5
}
