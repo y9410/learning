{
 "cells": [
  {
   "cell_type": "markdown",
   "id": "1137b364",
   "metadata": {},
   "source": [
    "# 题目"
   ]
  },
  {
   "cell_type": "markdown",
   "id": "b07c749e",
   "metadata": {},
   "source": [
    "> 给你一棵二叉树，请按以下要求的顺序收集它的全部节点：  \n",
    "依次从左到右，每次收集并删除所有的叶子节点。  \n",
    "重复如上过程直到整棵树为空。  \n",
    "返回一个列表，其中的每个元素都是列表，代表了每一次要删除的叶子节点。"
   ]
  },
  {
   "cell_type": "markdown",
   "id": "5999bddb",
   "metadata": {},
   "source": [
    "# 方法一：后序遍历"
   ]
  },
  {
   "cell_type": "markdown",
   "id": "039f8d07",
   "metadata": {},
   "source": [
    "> 根据题意，一层层将叶子节点删除，叶子节点被删除后其父节点会变为叶子节点，所以需要自底向上递归来记录每个节点离叶子节点的高度，将不同深度的节点放入对应的集合即可。"
   ]
  },
  {
   "cell_type": "markdown",
   "id": "cf75a8d4",
   "metadata": {},
   "source": [
    "## 复杂度"
   ]
  },
  {
   "cell_type": "markdown",
   "id": "9cb1e2a2",
   "metadata": {},
   "source": [
    "- 时间复杂度: $O(n)$ ，其中 $n$ 是二叉树中的节点个数。"
   ]
  },
  {
   "cell_type": "markdown",
   "id": "5c518917",
   "metadata": {},
   "source": [
    "> 要后序遍历二叉树一次。"
   ]
  },
  {
   "cell_type": "markdown",
   "id": "adc4455e",
   "metadata": {},
   "source": [
    "- 空间复杂度: $O(h)$ ，其中 $h$ 是二叉树中的高度。"
   ]
  },
  {
   "cell_type": "markdown",
   "id": "e15dca3c",
   "metadata": {},
   "source": [
    "> 递归使用的栈空间。"
   ]
  },
  {
   "cell_type": "markdown",
   "id": "20e3f7a2",
   "metadata": {},
   "source": [
    "## 代码"
   ]
  },
  {
   "cell_type": "code",
   "execution_count": 1,
   "id": "6a4d02f9",
   "metadata": {},
   "outputs": [],
   "source": [
    "class TreeNode:\n",
    "    def __init__(self, val=0, left=None, right=None):\n",
    "        self.val = val\n",
    "        self.left = left\n",
    "        self.right = right"
   ]
  },
  {
   "cell_type": "code",
   "execution_count": 2,
   "id": "8e2922b5",
   "metadata": {},
   "outputs": [],
   "source": [
    "import collections"
   ]
  },
  {
   "cell_type": "code",
   "execution_count": 3,
   "id": "7a5a4ab0",
   "metadata": {},
   "outputs": [],
   "source": [
    "def findLeaves(root):\n",
    "    \n",
    "    # 自底向上递归\n",
    "    def dfs(root):\n",
    "        # 基本情况\n",
    "        if not root:\n",
    "            return 0\n",
    "        \n",
    "        l, r = dfs(root.left), dfs(root.right)  # 记录当前节点的左右子树的高度\n",
    "        depth = max(l,r)+1  # 当前节点离叶子节点的距离\n",
    "        res[depth].append(root.val)  # 将当前节点的值记录在高度对应的列表里\n",
    "        \n",
    "        return depth\n",
    "\n",
    "    res = collections.defaultdict(list)  # 构造一个value默认为list的字典，记录每个高度（节点离叶子节点的距离）对应的节点值集合\n",
    "    dfs(root)\n",
    "    \n",
    "    return [v for v in res.values()]"
   ]
  },
  {
   "cell_type": "markdown",
   "id": "e58efa25",
   "metadata": {},
   "source": [
    "#### 测试一"
   ]
  },
  {
   "cell_type": "code",
   "execution_count": 4,
   "id": "00086429",
   "metadata": {},
   "outputs": [
    {
     "data": {
      "text/plain": [
       "[[4, 5, 6], [2, 3], [1]]"
      ]
     },
     "execution_count": 4,
     "metadata": {},
     "output_type": "execute_result"
    }
   ],
   "source": [
    "N2_1 = TreeNode(val=4, left=None, right=None)\n",
    "N2_3 = TreeNode(val=5, left=None, right=None)\n",
    "N2_4 = TreeNode(val=6, left=None, right=None)\n",
    "N1_1 = TreeNode(val=2, left=N2_1, right=None)\n",
    "N1_2 = TreeNode(val=3, left=N2_3, right=N2_4)\n",
    "root = TreeNode(val=1, left=N1_1, right=N1_2)\n",
    "\n",
    "findLeaves(root)"
   ]
  },
  {
   "cell_type": "code",
   "execution_count": null,
   "id": "493acb45",
   "metadata": {},
   "outputs": [],
   "source": []
  }
 ],
 "metadata": {
  "kernelspec": {
   "display_name": "Python 3",
   "language": "python",
   "name": "python3"
  },
  "language_info": {
   "codemirror_mode": {
    "name": "ipython",
    "version": 3
   },
   "file_extension": ".py",
   "mimetype": "text/x-python",
   "name": "python",
   "nbconvert_exporter": "python",
   "pygments_lexer": "ipython3",
   "version": "3.7.4"
  }
 },
 "nbformat": 4,
 "nbformat_minor": 5
}
