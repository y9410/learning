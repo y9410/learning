{
 "cells": [
  {
   "cell_type": "markdown",
   "id": "8b87ba41",
   "metadata": {},
   "source": [
    "# 题目"
   ]
  },
  {
   "cell_type": "markdown",
   "id": "a78bb9a0",
   "metadata": {},
   "source": [
    "> 二叉树中，如果一个节点是其父节点的唯一子节点，则称这样的节点为 “独生节点” 。  \n",
    "二叉树的根节点不会是独生节点，因为它没有父节点。  \n",
    "给定一棵二叉树的根节点 root ，返回树中所有的独生节点的值所构成的数组。数组的顺序不限。"
   ]
  },
  {
   "cell_type": "markdown",
   "id": "8a50564f",
   "metadata": {},
   "source": [
    "# 方法一：前序遍历"
   ]
  },
  {
   "cell_type": "markdown",
   "id": "97f153ba",
   "metadata": {},
   "source": [
    "> 前序遍历，分情况判断：  \n",
    "当前节点没有子节点，不做处理，返回；  \n",
    "当前节点有两个子节点，不做处理，继续递归；  \n",
    "当前节点有一个子节点，符合题目要求，添加到返回数组中。"
   ]
  },
  {
   "cell_type": "markdown",
   "id": "e0cde13f",
   "metadata": {},
   "source": [
    "## 复杂度"
   ]
  },
  {
   "cell_type": "markdown",
   "id": "652f6785",
   "metadata": {},
   "source": [
    "- 时间复杂度: $O(n)$ ，其中 $n$ 是二叉树中的节点个数。"
   ]
  },
  {
   "cell_type": "markdown",
   "id": "b7b80764",
   "metadata": {},
   "source": [
    "> 要遍历二叉树一次"
   ]
  },
  {
   "cell_type": "markdown",
   "id": "b7489480",
   "metadata": {},
   "source": [
    "- 空间复杂度: $O(n)$ ，其中 $n$ 是二叉树中的节点个数。"
   ]
  },
  {
   "cell_type": "markdown",
   "id": "cf02f569",
   "metadata": {},
   "source": [
    "> 递归使用的栈空间。"
   ]
  },
  {
   "cell_type": "markdown",
   "id": "1b634aad",
   "metadata": {},
   "source": [
    "## 代码"
   ]
  },
  {
   "cell_type": "code",
   "execution_count": 1,
   "id": "ef2ceefa",
   "metadata": {},
   "outputs": [],
   "source": [
    "class TreeNode:\n",
    "    def __init__(self, val=0, left=None, right=None):\n",
    "        self.val = val\n",
    "        self.left = left\n",
    "        self.right = right"
   ]
  },
  {
   "cell_type": "code",
   "execution_count": 2,
   "id": "0a5d6e20",
   "metadata": {},
   "outputs": [],
   "source": [
    "def getLonelyNodes(root):\n",
    "    def DFS(root):\n",
    "        # 基础情况：遍历到叶子节点的子节点\n",
    "        if root == None:\n",
    "            return\n",
    "        else:\n",
    "            # 递归，前序遍历\n",
    "            DFS(root.left)\n",
    "            \n",
    "            # 判断当前节点的子节点是否为独生节点\n",
    "            if not root.right and root.left:\n",
    "                ans.append(root.left.val)\n",
    "            elif not root.left and root.right:\n",
    "                ans.append(root.right.val)\n",
    "            \n",
    "            DFS(root.right)\n",
    "    \n",
    "    # 寻找答案\n",
    "    ans = []\n",
    "    DFS(root)\n",
    "    return ans"
   ]
  },
  {
   "cell_type": "markdown",
   "id": "a298a873",
   "metadata": {},
   "source": [
    "#### 测试一"
   ]
  },
  {
   "cell_type": "code",
   "execution_count": 3,
   "id": "0a2e8769",
   "metadata": {},
   "outputs": [
    {
     "data": {
      "text/plain": [
       "[4]"
      ]
     },
     "execution_count": 3,
     "metadata": {},
     "output_type": "execute_result"
    }
   ],
   "source": [
    "N2_2 = TreeNode(val=4, left=None, right=None)\n",
    "N2_3 = TreeNode(val=5, left=None, right=None)\n",
    "N2_4 = TreeNode(val=6, left=None, right=None)\n",
    "N1_1 = TreeNode(val=2, left=None, right=N2_2)\n",
    "N1_2 = TreeNode(val=3, left=N2_3, right=N2_4)\n",
    "root = TreeNode(val=1, left=N1_1, right=N1_2)\n",
    "\n",
    "getLonelyNodes(root)"
   ]
  },
  {
   "cell_type": "markdown",
   "id": "a1c6cc63",
   "metadata": {},
   "source": [
    "#### 测试二"
   ]
  },
  {
   "cell_type": "code",
   "execution_count": 4,
   "id": "a81de1cc",
   "metadata": {},
   "outputs": [
    {
     "data": {
      "text/plain": [
       "[4, 5]"
      ]
     },
     "execution_count": 4,
     "metadata": {},
     "output_type": "execute_result"
    }
   ],
   "source": [
    "N2_2 = TreeNode(val=4, left=None, right=None)\n",
    "N2_3 = TreeNode(val=5, left=None, right=None)\n",
    "N1_1 = TreeNode(val=2, left=None, right=N2_2)\n",
    "N1_2 = TreeNode(val=3, left=N2_3, right=None)\n",
    "root = TreeNode(val=1, left=N1_1, right=N1_2)\n",
    "\n",
    "getLonelyNodes(root)"
   ]
  },
  {
   "cell_type": "code",
   "execution_count": null,
   "id": "348fb47e",
   "metadata": {},
   "outputs": [],
   "source": []
  }
 ],
 "metadata": {
  "kernelspec": {
   "display_name": "Python 3",
   "language": "python",
   "name": "python3"
  },
  "language_info": {
   "codemirror_mode": {
    "name": "ipython",
    "version": 3
   },
   "file_extension": ".py",
   "mimetype": "text/x-python",
   "name": "python",
   "nbconvert_exporter": "python",
   "pygments_lexer": "ipython3",
   "version": "3.7.4"
  }
 },
 "nbformat": 4,
 "nbformat_minor": 5
}
