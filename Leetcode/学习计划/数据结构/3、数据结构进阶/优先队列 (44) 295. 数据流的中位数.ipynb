{
 "cells": [
  {
   "cell_type": "markdown",
   "id": "7f89f96a",
   "metadata": {},
   "source": [
    "# 题目"
   ]
  },
  {
   "cell_type": "markdown",
   "id": "335bad7d",
   "metadata": {},
   "source": [
    "> 中位数是有序整数列表中的中间值。如果列表的大小是偶数，则没有中间值，中位数是两个中间值的平均值。\n",
    "例如 arr = [2,3,4] 的中位数是 3 。  \n",
    "例如 arr = [2,3] 的中位数是 (2 + 3) / 2 = 2.5 。  \n",
    "\n",
    "> 实现 MedianFinder 类:  \n",
    "MedianFinder() 初始化 MedianFinder 对象。  \n",
    "void addNum(int num) 将数据流中的整数 num 添加到数据结构中。  \n",
    "double findMedian() 返回到目前为止所有元素的中位数。与实际答案相差 10-5 以内的答案将被接受。"
   ]
  },
  {
   "cell_type": "markdown",
   "id": "6b521691",
   "metadata": {},
   "source": [
    "# 方法一：二分查找"
   ]
  },
  {
   "cell_type": "markdown",
   "id": "ed73b33c",
   "metadata": {},
   "source": [
    "> 使用两个堆维护所有新加入的数：  \n",
    "小顶堆queMax中所有数都大于中位数；  \n",
    "大顶堆queMin中所有数都小于等于中位数。  \n",
    "大顶堆queMin的长度始终大于等于小顶堆queMax，且大顶堆queMin最多比小顶堆queMax多一个元素。  \n",
    "\n",
    "> 使用addNum操作加入一个新元素时，共有以下几种情况：  \n",
    "1. 这个元素小于等于大顶堆queMin的队头，因此该元素小于中位数，会拉低中位数，将其放入大顶堆queMin。此外，查看两个堆的长度，若大顶堆queMin比小顶堆queMax多一个以上元素，则将大顶堆queMin的队头放入小顶堆queMax。  \n",
    "2. 这个元素大于大顶堆queMin的队头，因此该元素大于中位数，会拉高中位数，将其放入小顶堆queMax。此外，查看两个堆的长度，若大顶堆queMin比小顶堆queMax更短，则将小顶堆queMax的队头放入大顶堆queMin。\n",
    "\n",
    "> 使用findMedian操作时，根据两个堆的长度计算中位数。\n",
    "\n",
    "> 注意，由于heapq只能维护小顶堆，因此在维护大顶堆queMin时需要将新加入的num取负号，维护一个小顶堆，使用queMin时在取负号变回原来的num。"
   ]
  },
  {
   "cell_type": "markdown",
   "id": "d90a1aa2",
   "metadata": {},
   "source": [
    "## 复杂度"
   ]
  },
  {
   "cell_type": "markdown",
   "id": "67f0c726",
   "metadata": {},
   "source": [
    "- 时间复杂度:addNum操作的复杂度为 $O(logn)$ ，其中 $n$ 是累积添加的数的数量；findMedian操作的复杂度为 $O(1)$ 。"
   ]
  },
  {
   "cell_type": "markdown",
   "id": "ad7bf7c7",
   "metadata": {},
   "source": [
    "- 空间复杂度: $O(n)$ ，其中 $n$ 是累积添加的数的数量。"
   ]
  },
  {
   "cell_type": "markdown",
   "id": "066aa1ed",
   "metadata": {},
   "source": [
    "> 优先队列的开销。"
   ]
  },
  {
   "cell_type": "markdown",
   "id": "b0de0f15",
   "metadata": {},
   "source": [
    "## 代码"
   ]
  },
  {
   "cell_type": "code",
   "execution_count": 1,
   "id": "3a215cf4",
   "metadata": {},
   "outputs": [],
   "source": [
    "import heapq"
   ]
  },
  {
   "cell_type": "code",
   "execution_count": 2,
   "id": "3f2bf33a",
   "metadata": {},
   "outputs": [],
   "source": [
    "class MedianFinder:\n",
    "\n",
    "    def __init__(self):\n",
    "        # 元素个数为奇数时，queMin比queMax多一个数，queMin队头即为中位数\n",
    "        # 元素个数为偶数时，queMin与queMax长度相同，两者队头元素的平均值即为中位数\n",
    "        self.queMin = list()  # 大顶堆，值从左到右依次减小，其中的值小于等于中位数\n",
    "        self.queMax = list()  # 小顶堆，值从左到右依次增加，其中的值大于等于中位数\n",
    "\n",
    "    def addNum(self, num):\n",
    "        queMin_ = self.queMin\n",
    "        queMax_ = self.queMax\n",
    "\n",
    "        # 判断queMin_是否为空，或num是否小于等于queMin_的队头元素\n",
    "        if not queMin_ or num <= -queMin_[0]:\n",
    "            # heappush为小顶堆操作，因此要取负号\n",
    "            # 若num为最小值，直接heappush会将其放入队头，取负号后变为最大值，就会将其放入队尾\n",
    "            # 负号能够将小顶堆操作变为大顶堆操作。这样维护的queMin_中全是负数，是一个小顶堆\n",
    "            # 若将queMin_中所有数都取负号，则变为一个正确的大顶堆\n",
    "            heapq.heappush(queMin_, -num)\n",
    "            # 此时num小于等于中位数，需要将该数添加到queMin_中\n",
    "            # num会拉低中位数的值\n",
    "            # queMin_不能比queMax_多出1个以上的元素，因此要将多出的元素（queMin_中的队头）放到queMax_中\n",
    "            if len(queMax_) + 1 < len(queMin_):\n",
    "                heapq.heappush(queMax_, -heapq.heappop(queMin_))\n",
    "        # 若num大于queMin_的队头元素\n",
    "        else:\n",
    "            # 将num压入queMax_\n",
    "            heapq.heappush(queMax_, num)\n",
    "            # num会拉高中位数的值\n",
    "            # 由于queMax_的长度必须小于等于queMin_，因此要将多出的元素（queMax_中的队头）放到queMin_中\n",
    "            if len(queMax_) > len(queMin_):\n",
    "                heapq.heappush(queMin_, -heapq.heappop(queMax_))\n",
    "        \n",
    "    def findMedian(self):\n",
    "        queMin_ = self.queMin\n",
    "        queMax_ = self.queMax\n",
    "\n",
    "        # 如果queMin_的长度大于queMax_，则queMin_的队头即为中位数\n",
    "        if len(queMin_) > len(queMax_):\n",
    "            return -queMin_[0]\n",
    "        # 否则需要计算两者队头的平均\n",
    "        return (-queMin_[0] + queMax_[0]) / 2"
   ]
  },
  {
   "cell_type": "markdown",
   "id": "4769dfd2",
   "metadata": {},
   "source": [
    "#### 测试一"
   ]
  },
  {
   "cell_type": "code",
   "execution_count": 3,
   "id": "6dba29e3",
   "metadata": {},
   "outputs": [
    {
     "name": "stdout",
     "output_type": "stream",
     "text": [
      "[] [-1]\n",
      "[2] [-1]\n",
      "1.5\n",
      "[3] [-2, -1]\n",
      "2\n"
     ]
    }
   ],
   "source": [
    "newMedianFinder = MedianFinder()\n",
    "newMedianFinder.addNum(1)\n",
    "print(newMedianFinder.queMax, newMedianFinder.queMin)\n",
    "newMedianFinder.addNum(2)\n",
    "print(newMedianFinder.queMax, newMedianFinder.queMin)\n",
    "print(newMedianFinder.findMedian())\n",
    "newMedianFinder.addNum(3)\n",
    "print(newMedianFinder.queMax, newMedianFinder.queMin)\n",
    "print(newMedianFinder.findMedian())"
   ]
  },
  {
   "cell_type": "code",
   "execution_count": null,
   "id": "5b6380a7",
   "metadata": {},
   "outputs": [],
   "source": []
  }
 ],
 "metadata": {
  "kernelspec": {
   "display_name": "Python 3",
   "language": "python",
   "name": "python3"
  },
  "language_info": {
   "codemirror_mode": {
    "name": "ipython",
    "version": 3
   },
   "file_extension": ".py",
   "mimetype": "text/x-python",
   "name": "python",
   "nbconvert_exporter": "python",
   "pygments_lexer": "ipython3",
   "version": "3.7.4"
  }
 },
 "nbformat": 4,
 "nbformat_minor": 5
}
