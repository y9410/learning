{
 "cells": [
  {
   "cell_type": "markdown",
   "id": "e8d145d7",
   "metadata": {},
   "source": [
    "# 题目"
   ]
  },
  {
   "cell_type": "markdown",
   "id": "71d0d1ec",
   "metadata": {},
   "source": [
    "> 给定员工的 schedule 列表，表示每个员工的工作时间。  \n",
    "每个员工都有一个非重叠的时间段  Intervals 列表，这些时间段已经排好序。  \n",
    "返回表示所有员工的共同、正数长度的空闲时间的有限时间段的列表，同样需要排好序。"
   ]
  },
  {
   "cell_type": "markdown",
   "id": "cf09e233",
   "metadata": {},
   "source": [
    "# 方法一：优先队列"
   ]
  },
  {
   "cell_type": "markdown",
   "id": "a7bf4c18",
   "metadata": {},
   "source": [
    "> 所有员工的每项工作构成了代办工作的总集合。  \n",
    "对于每个员工来说，其代办工作都是按时间顺序排列的，因此使用一个小顶堆 pq 来维护每个员工的当前代办工作。这个小顶堆的长度等于员工的个数，小顶堆中的元素是每个员工的当前代办工作，小顶堆的队头是所有员工当前代办工作中起始时间最早的那项工作。  \n",
    "使用 anchor 记录当前时间， anchor 初始化为最早代办工作的起始时间。  \n",
    "按起始时间升序遍历全部代办工作：  \n",
    "1. 若当前工作的起始时间 t 在当前时间 anchor 之后，由于当前工作的起始时间是剩余代办工作中最早的，因此 anchor 到 t 之间的时间是所有员工的剩余时间；  \n",
    "2. 然后，若当前工作的结束时间在 anchor 之后，将时间向后推移， anchor 更新为这个工作的结束时间；  \n",
    "3. 最后，当前工作办完后，在小顶堆 pq 的元素中删除当前工作，并将该员工的下一项代办工作（若有）按顺序插入小顶堆 pq 。"
   ]
  },
  {
   "cell_type": "markdown",
   "id": "0ee49f9f",
   "metadata": {},
   "source": [
    "## 复杂度"
   ]
  },
  {
   "cell_type": "markdown",
   "id": "58498a8f",
   "metadata": {},
   "source": [
    "- 时间复杂度: $O(nlogm)$ ，其中 $n$ 是字符串 s 的长度， $m$ 是不同字符的个数。"
   ]
  },
  {
   "cell_type": "markdown",
   "id": "7c37b4ed",
   "metadata": {},
   "source": [
    "> 要遍历 n 个字符，每一次都要进行一个插入堆的操作，复杂度为 $O(nlogm)$ （因为堆的长度最多是 m ）。"
   ]
  },
  {
   "cell_type": "markdown",
   "id": "69d6bd3a",
   "metadata": {},
   "source": [
    "- 空间复杂度: $O(m)$ ，其中 $m$ 是不同字符的个数。"
   ]
  },
  {
   "cell_type": "markdown",
   "id": "110b6474",
   "metadata": {},
   "source": [
    "> 主要是堆、双端队列的开销。"
   ]
  },
  {
   "cell_type": "markdown",
   "id": "cc0aa71c",
   "metadata": {},
   "source": [
    "## 代码"
   ]
  },
  {
   "cell_type": "code",
   "execution_count": 1,
   "id": "36f4a70a",
   "metadata": {},
   "outputs": [],
   "source": [
    "class Interval:\n",
    "    def __init__(self, start = None, end = None):\n",
    "        self.start = start\n",
    "        self.end = end"
   ]
  },
  {
   "cell_type": "code",
   "execution_count": 2,
   "id": "3bd7f1b4",
   "metadata": {},
   "outputs": [],
   "source": [
    "import heapq"
   ]
  },
  {
   "cell_type": "code",
   "execution_count": 3,
   "id": "6cd90366",
   "metadata": {},
   "outputs": [],
   "source": [
    "class Solution:\n",
    "    def employeeFreeTime(self, schedule):\n",
    "        \n",
    "        ans = []\n",
    "        \n",
    "        # ei表示第几名员工，emp为员工的工作时间段列表\n",
    "        # emp[0].start表示员工第一项代办工作的起始时间\n",
    "        pq = [(emp[0].start, ei, 0) for ei, emp in enumerate(schedule)]\n",
    "        \n",
    "        # 将工作时间列表重构为小顶堆\n",
    "        # 其中的元素为：(最新待办工作的起始时间,员工编号,工作项数)\n",
    "        heapq.heapify(pq)\n",
    "        \n",
    "        # 用anchor记录当前时间\n",
    "        # 初始化：遍历所有员工的所有工作的起始时间，找出其中的最小值，记为anchor的初始值\n",
    "        anchor = min(iv.start for emp in schedule for iv in emp)\n",
    "        \n",
    "        # 按起始时间由早到晚的顺序遍历每个员工的每项工作\n",
    "        while pq:\n",
    "            # 弹出所有代办工作中起始时间最早的一项\n",
    "            t, e_id, e_jx = heapq.heappop(pq)  # t：员工最新代办工作的起始时间；e_id：第几名员工；e_jx：该员工的第几项工作\n",
    "            \n",
    "            # 由于anchor只在某项工作结束时更新，因此其可以代表某工作的结束时间\n",
    "            # 如果最新代办工作的起始时间t在anchor之后，说明在anchor到t这个时间段所有员工都是空闲的\n",
    "            if anchor < t:\n",
    "                ans.append(Interval(anchor, t))\n",
    "            \n",
    "            # 若当前员工的当前工作结束时间大于anchor，更新anchor的值\n",
    "            anchor = max(anchor, schedule[e_id][e_jx].end)\n",
    "            \n",
    "            # 如果当前员工还有工作没干完\n",
    "            if e_jx + 1 < len(schedule[e_id]):\n",
    "                # 将当前工作删除（已干完）\n",
    "                # pq中的元素更新为(下一项待办工作的起始时间,员工编号,工作项数)\n",
    "                heapq.heappush(pq, (schedule[e_id][e_jx+1].start, e_id, e_jx+1))\n",
    "\n",
    "        return ans"
   ]
  },
  {
   "cell_type": "markdown",
   "id": "4c91e622",
   "metadata": {},
   "source": [
    "#### 测试一"
   ]
  },
  {
   "cell_type": "code",
   "execution_count": 4,
   "id": "0749798a",
   "metadata": {},
   "outputs": [
    {
     "name": "stdout",
     "output_type": "stream",
     "text": [
      "[3, 4]\n"
     ]
    }
   ],
   "source": [
    "work1_1 = Interval(1, 2)\n",
    "work1_2 = Interval(5, 6)\n",
    "work2_1 = Interval(1, 3)\n",
    "work3_1 = Interval(4, 10)\n",
    "schedule = [[work1_1, work1_2], [work2_1], [work3_1]]\n",
    "\n",
    "test = Solution()\n",
    "ans = test.employeeFreeTime(schedule)\n",
    "while ans:\n",
    "    freetime = ans.pop(0)\n",
    "    print([freetime.start, freetime.end])"
   ]
  },
  {
   "cell_type": "markdown",
   "id": "41f90b39",
   "metadata": {},
   "source": [
    "#### 测试二"
   ]
  },
  {
   "cell_type": "code",
   "execution_count": 5,
   "id": "1bcbd857",
   "metadata": {},
   "outputs": [
    {
     "name": "stdout",
     "output_type": "stream",
     "text": [
      "[5, 6]\n",
      "[7, 9]\n"
     ]
    }
   ],
   "source": [
    "work1_1 = Interval(1, 3)\n",
    "work1_2 = Interval(6, 7)\n",
    "work2_1 = Interval(2, 4)\n",
    "work3_1 = Interval(2, 5)\n",
    "work3_2 = Interval(9, 12)\n",
    "schedule = [[work1_1, work1_2], [work2_1], [work3_1, work3_2]]\n",
    "\n",
    "test = Solution()\n",
    "ans = test.employeeFreeTime(schedule)\n",
    "while ans:\n",
    "    freetime = ans.pop(0)\n",
    "    print([freetime.start, freetime.end])"
   ]
  },
  {
   "cell_type": "code",
   "execution_count": null,
   "id": "be055891",
   "metadata": {},
   "outputs": [],
   "source": []
  }
 ],
 "metadata": {
  "kernelspec": {
   "display_name": "Python 3",
   "language": "python",
   "name": "python3"
  },
  "language_info": {
   "codemirror_mode": {
    "name": "ipython",
    "version": 3
   },
   "file_extension": ".py",
   "mimetype": "text/x-python",
   "name": "python",
   "nbconvert_exporter": "python",
   "pygments_lexer": "ipython3",
   "version": "3.7.4"
  }
 },
 "nbformat": 4,
 "nbformat_minor": 5
}
