{
 "cells": [
  {
   "cell_type": "markdown",
   "id": "9a8b1a3b",
   "metadata": {},
   "source": [
    "# 题目"
   ]
  },
  {
   "cell_type": "markdown",
   "id": "cf30b95f",
   "metadata": {},
   "source": [
    "> 多项式链表是一种特殊形式的链表，每个节点表示多项式的一项。  \n",
    "每个节点有三个属性：  \n",
    "coefficient：该项的系数。项 $9x^4$ 的系数是 9 。  \n",
    "power：该项的指数。项 $9x^4$ 的指数是 4 。  \n",
    "next：指向下一个节点的指针（引用），如果当前节点为链表的最后一个节点则为 null 。\n",
    "多项式链表必须是标准形式的，即多项式必须严格按指数 power 的递减顺序排列（即降幂排列）。另外，系数 coefficient 为 0 的项需要省略。  \n",
    "\n",
    "> 给定两个多项式链表的头节点 `poly1` 和 `poly2` ，返回它们的和的头节点。  \n",
    "PolyNode 格式：  \n",
    "输入/输出格式表示为 n 个节点的列表，其中每个节点表示为 [coefficient, power] 。例如，多项式 $5x^3 + 4x - 7$ 表示为： [[5,3],[4,1],[-7,0]] 。"
   ]
  },
  {
   "cell_type": "markdown",
   "id": "60ba1935",
   "metadata": {},
   "source": [
    "# 方法一：双指针模拟"
   ]
  },
  {
   "cell_type": "markdown",
   "id": "2339766e",
   "metadata": {},
   "source": [
    "> 两个多项式各维持一个指针，然后模拟多项式合并即可。"
   ]
  },
  {
   "cell_type": "markdown",
   "id": "2a513813",
   "metadata": {},
   "source": [
    "## 复杂度"
   ]
  },
  {
   "cell_type": "markdown",
   "id": "76a4c710",
   "metadata": {},
   "source": [
    "- 时间复杂度: $O(m+n)$ ，其中 $m,n$ 分别为两个多项式的项数。"
   ]
  },
  {
   "cell_type": "markdown",
   "id": "ccc04f2f",
   "metadata": {},
   "source": [
    "> 两个指针要遍历两个多项式一遍。"
   ]
  },
  {
   "cell_type": "markdown",
   "id": "105f255a",
   "metadata": {},
   "source": [
    "- 空间复杂度: $O(1)$ 。"
   ]
  },
  {
   "cell_type": "markdown",
   "id": "8742126d",
   "metadata": {},
   "source": [
    "> 只需要使用常数空间。"
   ]
  },
  {
   "cell_type": "markdown",
   "id": "505863c4",
   "metadata": {},
   "source": [
    "## 代码"
   ]
  },
  {
   "cell_type": "code",
   "execution_count": 1,
   "id": "62d83078",
   "metadata": {},
   "outputs": [],
   "source": [
    "class PolyNode:\n",
    "    def __init__(self, x=0, y=0, next=None):\n",
    "        self.coefficient = x\n",
    "        self.power = y\n",
    "        self.next = next"
   ]
  },
  {
   "cell_type": "code",
   "execution_count": 2,
   "id": "4112ae16",
   "metadata": {},
   "outputs": [],
   "source": [
    "def addPoly(poly1, poly2):\n",
    "    \n",
    "    # 使三个指针分别指向poly1、poly2以及新多项式当前的最后一项\n",
    "    p1, p2, ans_tail = poly1, poly2, None\n",
    "    ans = []\n",
    "\n",
    "    # 只要两个多项式中的任意一个没有遍历完成，就循环\n",
    "    while p1 or p2:\n",
    "        # 情况1：p1遍历完成或p2的当前指数大于p1\n",
    "        if p1 == None or (p2 and p2.power > p1.power):\n",
    "            cur_coff, cur_pow = p2.coefficient, p2.power  # 记录p2的指数和系数\n",
    "            p2 = p2.next  # 将p2向下一位移动\n",
    "        # 情况2：p2遍历完成或p1的当前指数大于p2\n",
    "        elif p2 == None or (p1 and p1.power > p2.power):\n",
    "            cur_coff, cur_pow = p1.coefficient, p1.power  # 记录p1的指数和系数\n",
    "            p1 = p1.next  # 将p1向下一位移动\n",
    "        # 情况3：p1和p2的指数相等\n",
    "        else:\n",
    "            cur_pow, cur_coff = p1.power, p1.coefficient + p2.coefficient  # 记录指数和系数，系数等于p1,p2系数之和\n",
    "            p1, p2 = p1.next, p2.next  # 将p1,p2向下一位移动\n",
    "        \n",
    "        # 只要新多项式当前项系数不为0\n",
    "        if cur_coff != 0:\n",
    "            newNode = PolyNode(cur_coff, cur_pow, None)  # 创建一个节点用于表示当前项\n",
    "            if not ans:  # 若当前项是新多项式的第一项\n",
    "                ans, ans_tail = newNode, newNode  # 在答案中添加当前项，并用指针指向它\n",
    "            else:  # 否则，将上一项的next指向当前项\n",
    "                ans_tail.next = newNode\n",
    "                ans_tail = ans_tail.next\n",
    "\n",
    "    return ans  # 返回新多项式的头节点"
   ]
  },
  {
   "cell_type": "markdown",
   "id": "a1614445",
   "metadata": {},
   "source": [
    "#### 测试一"
   ]
  },
  {
   "cell_type": "code",
   "execution_count": 4,
   "id": "b0f52693",
   "metadata": {},
   "outputs": [
    {
     "name": "stdout",
     "output_type": "stream",
     "text": [
      "1 1 1 0\n"
     ]
    }
   ],
   "source": [
    "poly1 = PolyNode(1, 1, None)\n",
    "poly2 = PolyNode(1, 0, None)\n",
    "print(addPoly(poly1, poly2).coefficient, addPoly(poly1, poly2).power, addPoly(poly1, poly2).next.coefficient, addPoly(poly1, poly2).next.power)"
   ]
  },
  {
   "cell_type": "code",
   "execution_count": null,
   "id": "c8ac0a87",
   "metadata": {},
   "outputs": [],
   "source": []
  }
 ],
 "metadata": {
  "kernelspec": {
   "display_name": "Python 3",
   "language": "python",
   "name": "python3"
  },
  "language_info": {
   "codemirror_mode": {
    "name": "ipython",
    "version": 3
   },
   "file_extension": ".py",
   "mimetype": "text/x-python",
   "name": "python",
   "nbconvert_exporter": "python",
   "pygments_lexer": "ipython3",
   "version": "3.7.4"
  }
 },
 "nbformat": 4,
 "nbformat_minor": 5
}
