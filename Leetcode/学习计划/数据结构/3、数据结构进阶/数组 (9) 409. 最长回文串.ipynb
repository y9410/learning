{
 "cells": [
  {
   "cell_type": "markdown",
   "id": "99e0e386",
   "metadata": {},
   "source": [
    "# 题目"
   ]
  },
  {
   "cell_type": "markdown",
   "id": "14e90318",
   "metadata": {},
   "source": [
    "> 给定一个包含大写字母和小写字母的字符串 s ，返回通过这些字母构造成的最长的回文串。\n",
    "在构造过程中，请注意区分大小写。比如 \"Aa\" 不能当做一个回文字符串。"
   ]
  },
  {
   "cell_type": "markdown",
   "id": "802f3b53",
   "metadata": {},
   "source": [
    "# 方法一：贪心"
   ]
  },
  {
   "cell_type": "markdown",
   "id": "98a06f2f",
   "metadata": {},
   "source": [
    "> 统计每个字符出现的次数，字符每出现两次，回文串的长度就加2，若有某个字符出现奇数次，则回文串长度还可以再增加1（只能有一个）。"
   ]
  },
  {
   "cell_type": "markdown",
   "id": "3c664438",
   "metadata": {},
   "source": [
    "## 复杂度"
   ]
  },
  {
   "cell_type": "markdown",
   "id": "41d6a36c",
   "metadata": {},
   "source": [
    "- 时间复杂度: $O(n)$ ，其中 $n$ 为字符串 `s` 的长度。"
   ]
  },
  {
   "cell_type": "markdown",
   "id": "09976633",
   "metadata": {},
   "source": [
    "> 遍历每个字符一次"
   ]
  },
  {
   "cell_type": "markdown",
   "id": "a2de0511",
   "metadata": {},
   "source": [
    "- 空间复杂度: $O(S)$ ， $S$ 为字符集大小。"
   ]
  },
  {
   "cell_type": "markdown",
   "id": "bc40848f",
   "metadata": {},
   "source": [
    "> 使用哈希映射储存键值对。"
   ]
  },
  {
   "cell_type": "markdown",
   "id": "8e19290c",
   "metadata": {},
   "source": [
    "## 代码"
   ]
  },
  {
   "cell_type": "code",
   "execution_count": 1,
   "id": "a02911aa",
   "metadata": {},
   "outputs": [],
   "source": [
    "import collections"
   ]
  },
  {
   "cell_type": "code",
   "execution_count": 2,
   "id": "7d444e40",
   "metadata": {},
   "outputs": [],
   "source": [
    "def longestPalindrome(s):\n",
    "    ans = 0\n",
    "    count = collections.Counter(s)  # 统计每个字符的出现频率\n",
    "    for v in count.values():\n",
    "        ans += v // 2 * 2  # 字符每出现两次长度就加2\n",
    "        if ans % 2 == 0 and v % 2 == 1:  # 若字符长度为奇数且答案长度不为奇数，则答案长度加1\n",
    "            ans += 1\n",
    "    return ans"
   ]
  },
  {
   "cell_type": "markdown",
   "id": "5d2f3595",
   "metadata": {},
   "source": [
    "#### 测试一"
   ]
  },
  {
   "cell_type": "code",
   "execution_count": 3,
   "id": "abdc68b2",
   "metadata": {},
   "outputs": [
    {
     "data": {
      "text/plain": [
       "7"
      ]
     },
     "execution_count": 3,
     "metadata": {},
     "output_type": "execute_result"
    }
   ],
   "source": [
    "s = \"abccccdd\"\n",
    "longestPalindrome(s)"
   ]
  },
  {
   "cell_type": "markdown",
   "id": "7c2ead36",
   "metadata": {},
   "source": [
    "#### 测试二"
   ]
  },
  {
   "cell_type": "code",
   "execution_count": 4,
   "id": "8e5eae39",
   "metadata": {},
   "outputs": [
    {
     "data": {
      "text/plain": [
       "7"
      ]
     },
     "execution_count": 4,
     "metadata": {},
     "output_type": "execute_result"
    }
   ],
   "source": [
    "s = \"aaaaaccc\"\n",
    "longestPalindrome(s)"
   ]
  },
  {
   "cell_type": "code",
   "execution_count": null,
   "id": "7ecd478e",
   "metadata": {},
   "outputs": [],
   "source": []
  }
 ],
 "metadata": {
  "kernelspec": {
   "display_name": "Python 3",
   "language": "python",
   "name": "python3"
  },
  "language_info": {
   "codemirror_mode": {
    "name": "ipython",
    "version": 3
   },
   "file_extension": ".py",
   "mimetype": "text/x-python",
   "name": "python",
   "nbconvert_exporter": "python",
   "pygments_lexer": "ipython3",
   "version": "3.7.4"
  }
 },
 "nbformat": 4,
 "nbformat_minor": 5
}
