{
 "cells": [
  {
   "cell_type": "markdown",
   "id": "20dd9445",
   "metadata": {},
   "source": [
    "# 题目"
   ]
  },
  {
   "cell_type": "markdown",
   "id": "435fd2ac",
   "metadata": {},
   "source": [
    "> 给你一个正整数数组 arr ，请你计算所有可能的奇数长度子数组的和。  \n",
    "子数组定义为原数组中的一个连续子序列。  \n",
    "请你返回 arr 中所有奇数长度子数组的和。"
   ]
  },
  {
   "cell_type": "markdown",
   "id": "61220618",
   "metadata": {},
   "source": [
    "# 方法一：数学"
   ]
  },
  {
   "cell_type": "markdown",
   "id": "c74c1ac0",
   "metadata": {},
   "source": [
    "> 通过计算每个子数组的和得到所有奇数长度子数组的和会导致极高的时间复杂度，因为子数组有很多个。  \n",
    "可以改变思路，数组中的每个元素都会在一个或多个奇数长度的子数组中出现，如果可以计算出每个元素在多少个长度为奇数的子数组中出现，即可得到所有奇数长度子数组的和。  \n",
    "\n",
    "> 对于元素 arr[i] ，记其左边和右边的元素个数分别为 $leftCount$ 和 $rightCount$ ，则 $leftCount=i,rightCount=n−i−1$ 。如果元素 $arr[i]$ 在一个长度为奇数的子数组中，则在该子数组中，元素 $arr[i]$ 的左边和右边的元素个数一定同为奇数或同为偶数（注意 0 也是偶数）。根据以上性质，可计算包含元素 $arr[i]$ 的奇数长度子数组个数：\n",
    "1. 对于所有包含 $arr[i]$ 且 $arr[i]$ 左右元素个数都为奇数的子数组：在区间 $[0,leftCount]$ 范围内的奇数有 $leftOdd=(leftCount+1)//2$ 个，在区间 $[0,rightCount]$ 范围内的奇数有 $rightOdd=(rightCount+1)//2$ 个，所以这样的子数组共有 $leftOdd×rightOdd$ 个；\n",
    "2. 对于所有包含 $arr[i]$ 且 $arr[i]$ 左右元素个数都为偶数（包括0）的子数组：在区间 $[0,leftCount]$ 范围内的偶数有 $leftEven=leftCount//2+1$ 个，在区间 $[0,rightCount]$ 范围内的偶数有 $rightEven=rightCount//2+1$ 个，所以这样的子数组共有 $leftEven×rightEven$ 个。\n",
    "\n",
    "> 基于上述分析，元素 $arr[i]$ 对总和的贡献为 $arr[i]×(leftOdd×rightOdd+leftEven×rightEven)$ 。"
   ]
  },
  {
   "cell_type": "markdown",
   "id": "67abfc7c",
   "metadata": {},
   "source": [
    "## 复杂度"
   ]
  },
  {
   "cell_type": "markdown",
   "id": "638f68c8",
   "metadata": {},
   "source": [
    "- 时间复杂度: $O(n)$ ，其中 $n$ 为数组 `arr` 的长度。"
   ]
  },
  {
   "cell_type": "markdown",
   "id": "957cdfc8",
   "metadata": {},
   "source": [
    "> 需要遍历数组 `arr` 一次，对于每个元素，需要 $O(1)$ 的时间计算该元素在奇数长度子数组的和中的贡献值，因此总时间复杂度是 $O(n)$ 。"
   ]
  },
  {
   "cell_type": "markdown",
   "id": "8b0ea887",
   "metadata": {},
   "source": [
    "- 空间复杂度: $O(1)$ 。"
   ]
  },
  {
   "cell_type": "markdown",
   "id": "f719219f",
   "metadata": {},
   "source": [
    "> 使用常数空间。"
   ]
  },
  {
   "cell_type": "markdown",
   "id": "48c69b4a",
   "metadata": {},
   "source": [
    "## 代码"
   ]
  },
  {
   "cell_type": "code",
   "execution_count": 1,
   "id": "bf1613ba",
   "metadata": {},
   "outputs": [],
   "source": [
    "def sumOddLengthSubarrays(arr):\n",
    "    sum = 0\n",
    "    n = len(arr)\n",
    "    for i, v in enumerate(arr):\n",
    "        leftCount, rightCount = i, n - i - 1\n",
    "        leftOdd = (leftCount + 1) // 2\n",
    "        rightOdd = (rightCount + 1) // 2\n",
    "        leftEven = leftCount // 2 + 1\n",
    "        rightEven = rightCount // 2 + 1\n",
    "        sum += v * (leftOdd * rightOdd + leftEven * rightEven)\n",
    "    return sum"
   ]
  },
  {
   "cell_type": "markdown",
   "id": "8a6fb9bf",
   "metadata": {},
   "source": [
    "#### 测试一"
   ]
  },
  {
   "cell_type": "code",
   "execution_count": 2,
   "id": "6178db93",
   "metadata": {},
   "outputs": [
    {
     "data": {
      "text/plain": [
       "58"
      ]
     },
     "execution_count": 2,
     "metadata": {},
     "output_type": "execute_result"
    }
   ],
   "source": [
    "arr = [1,4,2,5,3]\n",
    "sumOddLengthSubarrays(arr)"
   ]
  },
  {
   "cell_type": "markdown",
   "id": "7b3ae8f8",
   "metadata": {},
   "source": [
    "#### 测试二"
   ]
  },
  {
   "cell_type": "code",
   "execution_count": 3,
   "id": "ec12e4ea",
   "metadata": {},
   "outputs": [
    {
     "data": {
      "text/plain": [
       "3"
      ]
     },
     "execution_count": 3,
     "metadata": {},
     "output_type": "execute_result"
    }
   ],
   "source": [
    "arr = [1,2]\n",
    "sumOddLengthSubarrays(arr)"
   ]
  },
  {
   "cell_type": "code",
   "execution_count": null,
   "id": "8cdf4ed1",
   "metadata": {},
   "outputs": [],
   "source": []
  }
 ],
 "metadata": {
  "kernelspec": {
   "display_name": "Python 3",
   "language": "python",
   "name": "python3"
  },
  "language_info": {
   "codemirror_mode": {
    "name": "ipython",
    "version": 3
   },
   "file_extension": ".py",
   "mimetype": "text/x-python",
   "name": "python",
   "nbconvert_exporter": "python",
   "pygments_lexer": "ipython3",
   "version": "3.7.4"
  }
 },
 "nbformat": 4,
 "nbformat_minor": 5
}
