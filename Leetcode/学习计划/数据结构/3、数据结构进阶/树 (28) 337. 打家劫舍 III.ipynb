{
 "cells": [
  {
   "cell_type": "markdown",
   "id": "7353f2f4",
   "metadata": {},
   "source": [
    "# 题目"
   ]
  },
  {
   "cell_type": "markdown",
   "id": "b6865935",
   "metadata": {},
   "source": [
    "> 小偷又发现了一个新的可行窃的地区。这个地区只有一个入口，我们称之为 root 。  \n",
    "除了 root 之外，每栋房子有且只有一个“父“房子与之相连。一番侦察之后，聪明的小偷意识到“这个地方的所有房屋的排列类似于一棵二叉树”。如果两个直接相连的房子在同一天晚上被打劫，房屋将自动报警。  \n",
    "给定二叉树的 root 。返回在不触动警报的情况下，小偷能够盗取的最高金额。"
   ]
  },
  {
   "cell_type": "markdown",
   "id": "da628ddd",
   "metadata": {},
   "source": [
    "# 方法一：后序遍历+深度优先搜索"
   ]
  },
  {
   "cell_type": "markdown",
   "id": "173843c4",
   "metadata": {},
   "source": [
    "> 本题是一个经典的DPS。 难点在于，如果从上往下看这棵树，是无法在遍历到某一个节点时决定【偷或不偷】这个节点的收益的。因此，我们要想办法从下往上看，于是就想到了后序遍历。  \n",
    "\n",
    "> 对于每一个节点来说，由于无法确定其父节点是否要偷，因此需要计算出偷该节点和不偷该节点的收益：\n",
    "1. 若偷该节点，则无法偷该节点的子节点。收益=该节点值+左右子节点各自不偷的收益；\n",
    "2. 若不偷该节点，则有选择偷或不偷左右子节点的权利。收益等于=偷左子节点收益与不偷收益之中孰大值+偷右子节点收益与不偷收益之中孰大值；\n",
    "3. 对于叶子节点，偷的收益为其本身的值，不偷的收益为0.\n",
    "\n",
    "> 遍历所有节点后，返回根节点偷与不偷收益之中的孰大值。"
   ]
  },
  {
   "cell_type": "markdown",
   "id": "9e5234d2",
   "metadata": {},
   "source": [
    "## 复杂度"
   ]
  },
  {
   "cell_type": "markdown",
   "id": "6d5713c0",
   "metadata": {},
   "source": [
    "- 时间复杂度: $O(n)$ ，其中 $n$ 是二叉树中的节点个数。"
   ]
  },
  {
   "cell_type": "markdown",
   "id": "c3854360",
   "metadata": {},
   "source": [
    "> 要后序遍历二叉树一次。"
   ]
  },
  {
   "cell_type": "markdown",
   "id": "77267e15",
   "metadata": {},
   "source": [
    "- 空间复杂度: $O(n)$ ，其中 $n$ 是二叉树中的节点个数。"
   ]
  },
  {
   "cell_type": "markdown",
   "id": "1fba5a3e",
   "metadata": {},
   "source": [
    "> 递归使用的栈空间。"
   ]
  },
  {
   "cell_type": "markdown",
   "id": "cda1ba8d",
   "metadata": {},
   "source": [
    "## 代码"
   ]
  },
  {
   "cell_type": "code",
   "execution_count": 1,
   "id": "9fa588e8",
   "metadata": {},
   "outputs": [],
   "source": [
    "class TreeNode:\n",
    "    def __init__(self, val=0, left=None, right=None):\n",
    "        self.val = val\n",
    "        self.left = left\n",
    "        self.right = right"
   ]
  },
  {
   "cell_type": "code",
   "execution_count": 2,
   "id": "455463f3",
   "metadata": {},
   "outputs": [],
   "source": [
    "def rob(root):\n",
    "    def DFS(root):\n",
    "        \n",
    "        # 基本情况\n",
    "        if not root:\n",
    "            return 0, 0\n",
    "        \n",
    "        # 后序遍历，返回左右子节点偷和不偷的收益\n",
    "        leftchild_steal, leftchild_nosteal = DFS(root.left)\n",
    "        rightchild_steal, rightchild_nosteal = DFS(root.right)\n",
    "\n",
    "        # 偷当前node，则最大收益为【偷当前节点+不偷左右子节点】\n",
    "        steal = root.val + leftchild_nosteal + rightchild_nosteal\n",
    "        # 不偷当前node，则有选择偷或不偷左右子节点的权利\n",
    "        # 因此要选择偷与不偷子节点之中较大者作为不偷当前节点的收益\n",
    "        nosteal = max(leftchild_steal, leftchild_nosteal) + max(rightchild_steal, rightchild_nosteal)\n",
    "        return steal, nosteal\n",
    "        \n",
    "    return max(DFS(root))"
   ]
  },
  {
   "cell_type": "markdown",
   "id": "7de67d0d",
   "metadata": {},
   "source": [
    "#### 测试一"
   ]
  },
  {
   "cell_type": "code",
   "execution_count": 3,
   "id": "db296334",
   "metadata": {},
   "outputs": [
    {
     "data": {
      "text/plain": [
       "7"
      ]
     },
     "execution_count": 3,
     "metadata": {},
     "output_type": "execute_result"
    }
   ],
   "source": [
    "N2_2 = TreeNode(val=3, left=None, right=None)\n",
    "N2_4 = TreeNode(val=1, left=None, right=None)\n",
    "N1_1 = TreeNode(val=2, left=None, right=N2_2)\n",
    "N1_2 = TreeNode(val=3, left=None, right=N2_4)\n",
    "root = TreeNode(val=3, left=N1_1, right=N1_2)\n",
    "\n",
    "rob(root)"
   ]
  },
  {
   "cell_type": "markdown",
   "id": "5d4a6e0d",
   "metadata": {},
   "source": [
    "#### 测试二"
   ]
  },
  {
   "cell_type": "code",
   "execution_count": 4,
   "id": "2aa9494e",
   "metadata": {},
   "outputs": [
    {
     "data": {
      "text/plain": [
       "9"
      ]
     },
     "execution_count": 4,
     "metadata": {},
     "output_type": "execute_result"
    }
   ],
   "source": [
    "N2_1 = TreeNode(val=1, left=None, right=None)\n",
    "N2_2 = TreeNode(val=3, left=None, right=None)\n",
    "N2_4 = TreeNode(val=1, left=None, right=None)\n",
    "N1_1 = TreeNode(val=4, left=N2_1, right=N2_2)\n",
    "N1_2 = TreeNode(val=5, left=None, right=N2_4)\n",
    "root = TreeNode(val=3, left=N1_1, right=N1_2)\n",
    "\n",
    "rob(root)"
   ]
  },
  {
   "cell_type": "code",
   "execution_count": null,
   "id": "5d0c14d6",
   "metadata": {},
   "outputs": [],
   "source": []
  }
 ],
 "metadata": {
  "kernelspec": {
   "display_name": "Python 3",
   "language": "python",
   "name": "python3"
  },
  "language_info": {
   "codemirror_mode": {
    "name": "ipython",
    "version": 3
   },
   "file_extension": ".py",
   "mimetype": "text/x-python",
   "name": "python",
   "nbconvert_exporter": "python",
   "pygments_lexer": "ipython3",
   "version": "3.7.4"
  }
 },
 "nbformat": 4,
 "nbformat_minor": 5
}
