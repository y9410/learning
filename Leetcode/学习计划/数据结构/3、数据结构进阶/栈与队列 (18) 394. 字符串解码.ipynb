{
 "cells": [
  {
   "cell_type": "markdown",
   "id": "f8bd3d3e",
   "metadata": {},
   "source": [
    "# 题目"
   ]
  },
  {
   "cell_type": "markdown",
   "id": "5e6fc64d",
   "metadata": {},
   "source": [
    "> 给定一个经过编码的字符串，返回它解码后的字符串。  \n",
    "编码规则为: k[encoded_string] ，表示其中方括号内部的 encoded_string 正好重复 k 次。注意 k 保证为正整数。  \n",
    "你可以认为输入字符串总是有效的；输入字符串中没有额外的空格，且输入的方括号总是符合格式要求的。  \n",
    "此外，你可以认为原始数据不包含数字，所有的数字只表示重复的次数 k ，例如不会出现像 3a 或 2[4] 的输入。"
   ]
  },
  {
   "cell_type": "markdown",
   "id": "dab88b32",
   "metadata": {},
   "source": [
    "# 方法一：辅助栈"
   ]
  },
  {
   "cell_type": "markdown",
   "id": "3e89eb20",
   "metadata": {},
   "source": [
    "> 构建辅助栈 stack， 遍历字符串 s 中每个字符 c ，根据字符 c 的种类进行不同操作。"
   ]
  },
  {
   "cell_type": "markdown",
   "id": "59aa978c",
   "metadata": {},
   "source": [
    "## 复杂度"
   ]
  },
  {
   "cell_type": "markdown",
   "id": "dd59187d",
   "metadata": {},
   "source": [
    "- 时间复杂度: $O(n)$ ，其中 $n$ 是字符串的长度。"
   ]
  },
  {
   "cell_type": "markdown",
   "id": "bb28c05b",
   "metadata": {},
   "source": [
    "> 遍历字符串一次。"
   ]
  },
  {
   "cell_type": "markdown",
   "id": "fba4a77d",
   "metadata": {},
   "source": [
    "- 空间复杂度: $O(n)$ ，其中 $n$ 是字符串的长度。"
   ]
  },
  {
   "cell_type": "markdown",
   "id": "f7406835",
   "metadata": {},
   "source": [
    "> 辅助栈在极端情况下需要线性空间，例如 '2[2[2[a]]]' 。"
   ]
  },
  {
   "cell_type": "markdown",
   "id": "b8f26523",
   "metadata": {},
   "source": [
    "## 代码"
   ]
  },
  {
   "cell_type": "code",
   "execution_count": 1,
   "id": "803d357d",
   "metadata": {},
   "outputs": [],
   "source": [
    "def decodeString(s):\n",
    "    stack, res, multi = [], \"\", 0  # 辅助栈、当前答案、字符的乘数\n",
    "    for c in s:\n",
    "        # 情况1：当前字符为'['\n",
    "        if c == '[':\n",
    "            stack.append([multi, res])  # 将'['之前的乘数和答案压入栈\n",
    "            res, multi = \"\", 0  # 初始化答案变量和乘数变量\n",
    "        # 情况2：当前字符为']'\n",
    "        elif c == ']':\n",
    "            cur_multi, last_res = stack.pop()  # 弹出上一个'['到最近的'['之间的乘数和答案\n",
    "            res = last_res + cur_multi * res  # 新的答案=上一个'['到最近的'['之间的答案+上一个'['到最近的'['之间的乘数*'[]'内的所有字符\n",
    "        # 情况3：当前字符为数字\n",
    "        elif '0' <= c <= '9':\n",
    "            multi = multi * 10 + int(c)  # 计算正确的乘数：若只有一个数字，则该数字就是乘数；若有连续多个数字，则需要将这些数字按十进制组合\n",
    "        # 情况4：当前字符为字母，记录到当前答案中\n",
    "        else:\n",
    "            res += c\n",
    "    return res"
   ]
  },
  {
   "cell_type": "markdown",
   "id": "c001bd60",
   "metadata": {},
   "source": [
    "#### 测试一"
   ]
  },
  {
   "cell_type": "code",
   "execution_count": 2,
   "id": "1d7f6da5",
   "metadata": {},
   "outputs": [
    {
     "data": {
      "text/plain": [
       "'aaabcbc'"
      ]
     },
     "execution_count": 2,
     "metadata": {},
     "output_type": "execute_result"
    }
   ],
   "source": [
    "s = \"3[a]2[bc]\"\n",
    "decodeString(s)"
   ]
  },
  {
   "cell_type": "markdown",
   "id": "6f6b4e94",
   "metadata": {},
   "source": [
    "#### 测试二"
   ]
  },
  {
   "cell_type": "code",
   "execution_count": 3,
   "id": "7b2fcff7",
   "metadata": {},
   "outputs": [
    {
     "data": {
      "text/plain": [
       "'abcabccdcdcdef'"
      ]
     },
     "execution_count": 3,
     "metadata": {},
     "output_type": "execute_result"
    }
   ],
   "source": [
    "s = \"2[abc]3[cd]ef\"\n",
    "decodeString(s)"
   ]
  }
 ],
 "metadata": {
  "kernelspec": {
   "display_name": "Python 3",
   "language": "python",
   "name": "python3"
  },
  "language_info": {
   "codemirror_mode": {
    "name": "ipython",
    "version": 3
   },
   "file_extension": ".py",
   "mimetype": "text/x-python",
   "name": "python",
   "nbconvert_exporter": "python",
   "pygments_lexer": "ipython3",
   "version": "3.7.4"
  }
 },
 "nbformat": 4,
 "nbformat_minor": 5
}
