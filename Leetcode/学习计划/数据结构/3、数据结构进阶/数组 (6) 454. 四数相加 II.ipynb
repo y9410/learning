{
 "cells": [
  {
   "cell_type": "markdown",
   "id": "e777f865",
   "metadata": {},
   "source": [
    "# 题目"
   ]
  },
  {
   "cell_type": "markdown",
   "id": "b70a864e",
   "metadata": {},
   "source": [
    "> 给你四个整数数组 `nums1` 、 `nums2` 、 `nums3` 和 `nums4` ，数组长度都是 n ，请你计算有多少个元组 (i, j, k, l) 能满足：\n",
    "1. 0 <= i, j, k, l < n\n",
    "2. nums1[i] + nums2[j] + nums3[k] + nums4[l] == 0"
   ]
  },
  {
   "cell_type": "markdown",
   "id": "c9f79e0a",
   "metadata": {},
   "source": [
    "# 方法一：二重循环"
   ]
  },
  {
   "cell_type": "markdown",
   "id": "b95c6eb5",
   "metadata": {},
   "source": [
    "> 将四个数组分为两组：A和B一组，C和D一组。先计算A和B中数两两相加的和以及其出现的频次记录在哈希表countAB中，在使用二重循环遍历C和D，若-C[i]-D[j]在之前的统计中出现，说明此时得到一个答案，其出现次数为countAB中的次数。遍历完成后，计算次数和。"
   ]
  },
  {
   "cell_type": "markdown",
   "id": "4ce10416",
   "metadata": {},
   "source": [
    "## 复杂度"
   ]
  },
  {
   "cell_type": "markdown",
   "id": "40aa49aa",
   "metadata": {},
   "source": [
    "- 时间复杂度: $O(n^2)$ ，其中 $n$ 为数组的长度。"
   ]
  },
  {
   "cell_type": "markdown",
   "id": "72944bc9",
   "metadata": {},
   "source": [
    "> 主要是两次二重循环的开销。"
   ]
  },
  {
   "cell_type": "markdown",
   "id": "918ed580",
   "metadata": {},
   "source": [
    "- 空间复杂度: $O(n^2)$ ，其中 $n$ 为数组的长度。"
   ]
  },
  {
   "cell_type": "markdown",
   "id": "43951614",
   "metadata": {},
   "source": [
    "> 在最差情况下，A与B中每个数均不相同，因此conutAB占用 $n^2$ 的空间。"
   ]
  },
  {
   "cell_type": "markdown",
   "id": "8f6a8262",
   "metadata": {},
   "source": [
    "## 代码"
   ]
  },
  {
   "cell_type": "code",
   "execution_count": 1,
   "id": "bcf2a284",
   "metadata": {},
   "outputs": [],
   "source": [
    "import collections"
   ]
  },
  {
   "cell_type": "code",
   "execution_count": 2,
   "id": "6aa4cb3b",
   "metadata": {},
   "outputs": [],
   "source": [
    "def fourSumCount(A, B, C, D):\n",
    "    # 二重循环统计A+B中每个不同和的频次\n",
    "    countAB = collections.Counter(u + v for u in A for v in B)\n",
    "    ans = 0\n",
    "    # 二重循环遍历每个C+D的组合，若-C-D在countAB，说明出现了答案，记录这个答案的频次\n",
    "    for u in C:\n",
    "        for v in D:\n",
    "            if -u - v in countAB:\n",
    "                ans += countAB[-u - v]\n",
    "    return ans"
   ]
  },
  {
   "cell_type": "markdown",
   "id": "64efeb43",
   "metadata": {},
   "source": [
    "#### 测试一"
   ]
  },
  {
   "cell_type": "code",
   "execution_count": 5,
   "id": "2888e3c0",
   "metadata": {},
   "outputs": [
    {
     "data": {
      "text/plain": [
       "2"
      ]
     },
     "execution_count": 5,
     "metadata": {},
     "output_type": "execute_result"
    }
   ],
   "source": [
    "nums1 = [1,2]\n",
    "nums2 = [-2,-1]\n",
    "nums3 = [-1,2]\n",
    "nums4 = [0,2]\n",
    "fourSumCount(nums1, nums2, nums3, nums4)"
   ]
  },
  {
   "cell_type": "markdown",
   "id": "79f2639b",
   "metadata": {},
   "source": [
    "#### 测试二"
   ]
  },
  {
   "cell_type": "code",
   "execution_count": 6,
   "id": "3b8a06a3",
   "metadata": {},
   "outputs": [
    {
     "data": {
      "text/plain": [
       "1"
      ]
     },
     "execution_count": 6,
     "metadata": {},
     "output_type": "execute_result"
    }
   ],
   "source": [
    "nums1 = [0]\n",
    "nums2 = [0]\n",
    "nums3 = [0]\n",
    "nums4 = [0]\n",
    "fourSumCount(nums1, nums2, nums3, nums4)"
   ]
  },
  {
   "cell_type": "code",
   "execution_count": null,
   "id": "8a255c0f",
   "metadata": {},
   "outputs": [],
   "source": []
  }
 ],
 "metadata": {
  "kernelspec": {
   "display_name": "Python 3",
   "language": "python",
   "name": "python3"
  },
  "language_info": {
   "codemirror_mode": {
    "name": "ipython",
    "version": 3
   },
   "file_extension": ".py",
   "mimetype": "text/x-python",
   "name": "python",
   "nbconvert_exporter": "python",
   "pygments_lexer": "ipython3",
   "version": "3.7.4"
  }
 },
 "nbformat": 4,
 "nbformat_minor": 5
}
