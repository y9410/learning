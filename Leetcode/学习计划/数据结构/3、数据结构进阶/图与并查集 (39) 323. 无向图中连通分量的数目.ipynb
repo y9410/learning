{
 "cells": [
  {
   "cell_type": "markdown",
   "id": "344f56c7",
   "metadata": {},
   "source": [
    "# 题目"
   ]
  },
  {
   "cell_type": "markdown",
   "id": "177ffcff",
   "metadata": {},
   "source": [
    "> 你有一个包含 n 个节点的图。给定一个整数 n 和一个数组 edges ，其中 edges[i] = [ai, bi] 表示图中 ai 和 bi 之间有一条边。  \n",
    "返回图中已连接分量的数目 。"
   ]
  },
  {
   "cell_type": "markdown",
   "id": "9bcf99a3",
   "metadata": {},
   "source": [
    "# 方法一：并查集"
   ]
  },
  {
   "cell_type": "markdown",
   "id": "f83a70ed",
   "metadata": {},
   "source": [
    "> 标准并查集问题。"
   ]
  },
  {
   "cell_type": "markdown",
   "id": "873a5e9e",
   "metadata": {},
   "source": [
    "## 复杂度"
   ]
  },
  {
   "cell_type": "markdown",
   "id": "bdc9240d",
   "metadata": {},
   "source": [
    "- 时间复杂度: $O(m\\alpha(n))$ ，其中 $m$ 是数组 edges 的长度， $n$ 是节点的个数， $\\alpha$ 是阿克曼函数的反函数。"
   ]
  },
  {
   "cell_type": "markdown",
   "id": "9dd46751",
   "metadata": {},
   "source": [
    "- 空间复杂度: $O(n)$ ，其中 $n$ 是节点的个数。"
   ]
  },
  {
   "cell_type": "markdown",
   "id": "6d909516",
   "metadata": {},
   "source": [
    "> 并查集所需的空间。"
   ]
  },
  {
   "cell_type": "markdown",
   "id": "1c1e4013",
   "metadata": {},
   "source": [
    "## 代码"
   ]
  },
  {
   "cell_type": "code",
   "execution_count": 1,
   "id": "6ba394c5",
   "metadata": {},
   "outputs": [],
   "source": [
    "# 标准的并查集类\n",
    "class UnionFind:\n",
    "    def __init__(self, n):\n",
    "        self.n = n\n",
    "        self.part = n  # 记录集合数量\n",
    "        self.parent = [x for x in range(n)]  # 记录节点指向\n",
    "        self.size = [1 for _ in range(n)]  # 记录集合的大小（节点个数）\n",
    "\n",
    "    # 找寻节点x所属集合的代表元素，并进行路径压缩\n",
    "    def Find(self, x):\n",
    "        if self.parent[x] == x:\n",
    "            return x\n",
    "        return self.Find(self.parent[x])\n",
    "\n",
    "    # 合并节点x,y各自的所属集合\n",
    "    def Union(self, x, y):\n",
    "        root_x = self.Find(x)\n",
    "        root_y = self.Find(y)\n",
    "        if root_x == root_y:\n",
    "            return False\n",
    "        # 按size合并\n",
    "        if self.size[root_x] > self.size[root_y]:\n",
    "            root_x, root_y = root_y, root_x\n",
    "        \n",
    "        self.parent[root_x] = root_y\n",
    "        self.size[root_y] += self.size[root_x]\n",
    "        self.part -= 1\n",
    "        return True\n",
    "    \n",
    "    # 查看节点x,y是否同属于一个集合\n",
    "    def in_the_same_part(self, x, y):\n",
    "        return self.Find(x) == self.Find(y)\n",
    "    \n",
    "    # 得到集合的size\n",
    "    def get_part_size(self, x):\n",
    "        root_x = self.Find(x)\n",
    "        return self.size[root_x]"
   ]
  },
  {
   "cell_type": "code",
   "execution_count": 2,
   "id": "cd7f9012",
   "metadata": {},
   "outputs": [],
   "source": [
    "# 解法\n",
    "class Solution:\n",
    "    def countComponents(self, n, edges):\n",
    "        UF = UnionFind(n)  # 构建并查集\n",
    "        # 根据边的连接情况对节点进行合并\n",
    "        for x, y in edges:\n",
    "            UF.Union(x, y)\n",
    "        # 返回集合个数\n",
    "        return UF.part"
   ]
  },
  {
   "cell_type": "markdown",
   "id": "0bcd4342",
   "metadata": {},
   "source": [
    "#### 测试一"
   ]
  },
  {
   "cell_type": "code",
   "execution_count": 3,
   "id": "3761d5aa",
   "metadata": {},
   "outputs": [
    {
     "data": {
      "text/plain": [
       "2"
      ]
     },
     "execution_count": 3,
     "metadata": {},
     "output_type": "execute_result"
    }
   ],
   "source": [
    "n = 5\n",
    "edges = [[0, 1], [1, 2], [3, 4]]\n",
    "\n",
    "test = Solution()\n",
    "test.countComponents(n, edges)"
   ]
  },
  {
   "cell_type": "markdown",
   "id": "b02b2283",
   "metadata": {},
   "source": [
    "#### 测试二"
   ]
  },
  {
   "cell_type": "code",
   "execution_count": 4,
   "id": "eb75ee6e",
   "metadata": {},
   "outputs": [
    {
     "data": {
      "text/plain": [
       "1"
      ]
     },
     "execution_count": 4,
     "metadata": {},
     "output_type": "execute_result"
    }
   ],
   "source": [
    "n = 5\n",
    "edges = [[0,1], [1,2], [2,3], [3,4]]\n",
    "\n",
    "test = Solution()\n",
    "test.countComponents(n, edges)"
   ]
  },
  {
   "cell_type": "code",
   "execution_count": null,
   "id": "80c1808d",
   "metadata": {},
   "outputs": [],
   "source": []
  }
 ],
 "metadata": {
  "kernelspec": {
   "display_name": "Python 3",
   "language": "python",
   "name": "python3"
  },
  "language_info": {
   "codemirror_mode": {
    "name": "ipython",
    "version": 3
   },
   "file_extension": ".py",
   "mimetype": "text/x-python",
   "name": "python",
   "nbconvert_exporter": "python",
   "pygments_lexer": "ipython3",
   "version": "3.7.4"
  }
 },
 "nbformat": 4,
 "nbformat_minor": 5
}
