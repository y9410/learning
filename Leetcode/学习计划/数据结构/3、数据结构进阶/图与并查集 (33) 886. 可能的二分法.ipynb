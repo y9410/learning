{
 "cells": [
  {
   "cell_type": "markdown",
   "id": "adca1852",
   "metadata": {},
   "source": [
    "# 题目"
   ]
  },
  {
   "cell_type": "markdown",
   "id": "b25e5097",
   "metadata": {},
   "source": [
    "> 给定一组 n 人（编号为 1, 2, ..., n）， 我们想把每个人分进任意大小的两组。每个人都可能不喜欢其他人，那么他们不应该属于同一组。  \n",
    "给定整数 n 和数组 dislikes ，其中 dislikes[i] = [ai, bi] ，表示不允许将编号为 ai 和 bi的人归入同一组。当可以用这种方法将所有人分进两组时，返回 true；否则返回 false。"
   ]
  },
  {
   "cell_type": "markdown",
   "id": "92ea4724",
   "metadata": {},
   "source": [
    "# 方法一：并查集"
   ]
  },
  {
   "cell_type": "markdown",
   "id": "c5f508f2",
   "metadata": {},
   "source": [
    "> 有关并查集： https://zhuanlan.zhihu.com/p/93647900 。  \n",
    "> 由于最后只有两组，所以某一个人全部不喜欢人一定会在同一个组中，我们可以用「并查集」进行连接，并判断这个人是否与他不喜欢的人相连，如果相连则表示存在冲突，否则说明此人和他不喜欢的人在当前可以进行合法分组。"
   ]
  },
  {
   "cell_type": "markdown",
   "id": "38268126",
   "metadata": {},
   "source": [
    "## 复杂度"
   ]
  },
  {
   "cell_type": "markdown",
   "id": "32a177ce",
   "metadata": {},
   "source": [
    "- 时间复杂度: $O(n+m\\alpha(n))$ ，其中 $n$ 是给定的人数， $m$ 为给定的 dislike 数组的大小， $\\alpha$ 是反 Ackerman 函数。"
   ]
  },
  {
   "cell_type": "markdown",
   "id": "12e9f99e",
   "metadata": {},
   "source": [
    "- 空间复杂度: $O(n+m)$ ，其中 $n$ 是给定的人数， $m$ 为给定的 dislike 数组的大小。"
   ]
  },
  {
   "cell_type": "markdown",
   "id": "5e587798",
   "metadata": {},
   "source": [
    "## 代码"
   ]
  },
  {
   "cell_type": "code",
   "execution_count": 1,
   "id": "f93e6078",
   "metadata": {},
   "outputs": [],
   "source": [
    "# 构建并查集\n",
    "class UnionFind:\n",
    "    def __init__(self, n):\n",
    "        self.fa = list(range(n))  # 用于记录每个元素的值及其指向的值。第x个位置表示该元素值为x，其对应的值fa[x]表示元素x指向元素fa[x]\n",
    "        self.rank = [1] * n  # 用于记录某个代表元素对应的集合的复杂度（节点个数）\n",
    "    \n",
    "    # 找到某个集合的代表元素，并进行路径压缩\n",
    "    def find(self, x):\n",
    "        \n",
    "        # 若元素x不指向自己，则寻找x指向的元素fa[x],看其是否指向自己\n",
    "        # 若fa[fa[x]]仍不指向自己，则继续找，直到找到指向自己的元素（一个集合的代表元素）\n",
    "        # 找到代表元素后，迭代函数返回该代表元素的值，在回溯过程中，由于最后一个find返回了代表元素的值，因此迭代中的每个fa[x]都会变得指向代表元素\n",
    "        if self.fa[x] != x:\n",
    "            self.fa[x] = self.find(self.fa[x])\n",
    "        \n",
    "        return self.fa[x]\n",
    "\n",
    "    # 将两个元素所对应的集合合并\n",
    "    def union(self, x, y):\n",
    "        \n",
    "        # 找到元素x和元素y所在集合的代表元素，并进行路径压缩\n",
    "        fx, fy = self.find(x), self.find(y)\n",
    "        \n",
    "        # 若元素x和元素y所在集合为同一个，返回None\n",
    "        if fx == fy:\n",
    "            return\n",
    "        \n",
    "        # 将rank更小的集合连接到rank更大的集合\n",
    "        # 若元素x所在集合的最大路径长度小于元素x所在集合的最大路径长度，则交换fx和fy\n",
    "        if self.rank[fx] < self.rank[fy]:\n",
    "            fx, fy = fy, fx  # fx代表x,y中rank更大的集合的代表元素，fy代表x,y中rank更小的集合的代表元素\n",
    "        \n",
    "        # 更新合并后集合的代表元素的rank\n",
    "        self.rank[fx] += self.rank[fy]\n",
    "        \n",
    "        # 将较小集合的代表元素指向较大集合的代表元素\n",
    "        self.fa[fy] = fx\n",
    "\n",
    "    # 判断两个元素是否属于同一集合\n",
    "    def is_connected(self, x, y):\n",
    "        return self.find(x) == self.find(y)\n",
    "\n",
    "# 解法\n",
    "class Solution:\n",
    "    def possibleBipartition(self, n, dislikes):\n",
    "        # 包含n个列表的列表，位置x对应编号x+1\n",
    "        g = [[] for _ in range(n)]  # 列表g[x]列举了不与编号x+1同集合的编号\n",
    "        \n",
    "        # 遍历dislikes列表，填充列表g\n",
    "        for x, y in dislikes:\n",
    "            g[x - 1].append(y - 1)\n",
    "            g[y - 1].append(x - 1)\n",
    "        \n",
    "        # 构建并查集\n",
    "        uf = UnionFind(n)\n",
    "        \n",
    "        for x, nodes in enumerate(g):  # x代表编号x+1，nodes代表不与编号x+1相邻的编号\n",
    "            # 对每个编号，将与之不相邻的编号放到一个集合里\n",
    "            for y in nodes:\n",
    "                uf.union(nodes[0], y)\n",
    "                # x和y若属于一个集合，则出现矛盾\n",
    "                if uf.is_connected(x, y):\n",
    "                    return False\n",
    "        return True"
   ]
  },
  {
   "cell_type": "markdown",
   "id": "1370a26c",
   "metadata": {},
   "source": [
    "#### 测试一"
   ]
  },
  {
   "cell_type": "code",
   "execution_count": 4,
   "id": "175380bd",
   "metadata": {},
   "outputs": [
    {
     "data": {
      "text/plain": [
       "True"
      ]
     },
     "execution_count": 4,
     "metadata": {},
     "output_type": "execute_result"
    }
   ],
   "source": [
    "n = 4\n",
    "dislikes = [[1,2],[1,3],[2,4]]\n",
    "\n",
    "test = Solution()\n",
    "test.possibleBipartition(n, dislikes)"
   ]
  },
  {
   "cell_type": "markdown",
   "id": "d5296e38",
   "metadata": {},
   "source": [
    "#### 测试二"
   ]
  },
  {
   "cell_type": "code",
   "execution_count": 5,
   "id": "5732a083",
   "metadata": {},
   "outputs": [
    {
     "data": {
      "text/plain": [
       "False"
      ]
     },
     "execution_count": 5,
     "metadata": {},
     "output_type": "execute_result"
    }
   ],
   "source": [
    "n = 3\n",
    "dislikes = [[1,2],[1,3],[2,3]]\n",
    "\n",
    "test = Solution()\n",
    "test.possibleBipartition(n, dislikes)"
   ]
  },
  {
   "cell_type": "code",
   "execution_count": null,
   "id": "5577b8f9",
   "metadata": {},
   "outputs": [],
   "source": []
  }
 ],
 "metadata": {
  "kernelspec": {
   "display_name": "Python 3",
   "language": "python",
   "name": "python3"
  },
  "language_info": {
   "codemirror_mode": {
    "name": "ipython",
    "version": 3
   },
   "file_extension": ".py",
   "mimetype": "text/x-python",
   "name": "python",
   "nbconvert_exporter": "python",
   "pygments_lexer": "ipython3",
   "version": "3.7.4"
  }
 },
 "nbformat": 4,
 "nbformat_minor": 5
}
