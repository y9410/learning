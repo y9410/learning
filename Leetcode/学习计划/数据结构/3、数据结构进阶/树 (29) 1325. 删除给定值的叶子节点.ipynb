{
 "cells": [
  {
   "cell_type": "markdown",
   "id": "786c068e",
   "metadata": {},
   "source": [
    "# 题目"
   ]
  },
  {
   "cell_type": "markdown",
   "id": "723690fa",
   "metadata": {},
   "source": [
    "> 给你一棵以 root 为根的二叉树和一个整数 target ，请你删除所有值为 target 的 叶子节点 。  \n",
    "注意，一旦删除值为 target 的叶子节点，它的父节点就可能变成叶子节点；如果新叶子节点的值恰好也是 target ，那么这个节点也应该被删除。  \n",
    "也就是说，你需要重复此过程直到不能继续删除。"
   ]
  },
  {
   "cell_type": "markdown",
   "id": "8f29d3c5",
   "metadata": {},
   "source": [
    "# 方法一：后序遍历"
   ]
  },
  {
   "cell_type": "markdown",
   "id": "23477b7b",
   "metadata": {},
   "source": [
    "> 由于需要删除所有值为 target 的叶子节点，操作顺序应当从二叉树的叶子节点开始，逐步向上直到二叉树的根为止。因此可以使用递归的方法遍历整颗二叉树，并在回溯时进行删除操作。这样对于二叉树中的每个节点，它的子节点一定先于它被操作。这其实也就是二叉树的后序遍历。  \n",
    "具体地，当回溯到某个节点 u 时，如果 u 的左右孩子均不存在（这里有两种情况，一是节点 u 的孩子本来就不存在，二是节点 u 的孩子变成了叶子节点并且值为 target，导致其被删除），并且值为 target，那么要删除节点 u，递归函数的返回值为空节点；如果节点 u 不需要被删除，那么递归函数的返回值为节点 u 本身。"
   ]
  },
  {
   "cell_type": "markdown",
   "id": "ca9b2e24",
   "metadata": {},
   "source": [
    "## 复杂度"
   ]
  },
  {
   "cell_type": "markdown",
   "id": "7e277b1f",
   "metadata": {},
   "source": [
    "- 时间复杂度: $O(n)$ ，其中 $n$ 是二叉树中的节点个数。"
   ]
  },
  {
   "cell_type": "markdown",
   "id": "69b7e0bf",
   "metadata": {},
   "source": [
    "> 要后序遍历二叉树一次。"
   ]
  },
  {
   "cell_type": "markdown",
   "id": "1eff3f63",
   "metadata": {},
   "source": [
    "- 空间复杂度: $O(h)$ ，其中 $h$ 是二叉树中的高度。"
   ]
  },
  {
   "cell_type": "markdown",
   "id": "b217ba3a",
   "metadata": {},
   "source": [
    "> 递归使用的栈空间。"
   ]
  },
  {
   "cell_type": "markdown",
   "id": "bea20add",
   "metadata": {},
   "source": [
    "## 代码"
   ]
  },
  {
   "cell_type": "code",
   "execution_count": 1,
   "id": "005bbd00",
   "metadata": {},
   "outputs": [],
   "source": [
    "class TreeNode:\n",
    "    def __init__(self, val=0, left=None, right=None):\n",
    "        self.val = val\n",
    "        self.left = left\n",
    "        self.right = right"
   ]
  },
  {
   "cell_type": "code",
   "execution_count": 2,
   "id": "0ec7eace",
   "metadata": {},
   "outputs": [],
   "source": [
    "def removeLeafNodes(root, target):\n",
    "    \n",
    "    # 基本情况\n",
    "    if not root:\n",
    "        return None\n",
    "    \n",
    "    # 后序遍历\n",
    "    root.left = removeLeafNodes(root.left, target)\n",
    "    root.right = removeLeafNodes(root.right, target)\n",
    "    \n",
    "    # 若当前节点为叶子节点且值与目标值相等，返回None\n",
    "    if not root.left and not root.right and root.val == target:\n",
    "        return None\n",
    "    \n",
    "    # 若不需要删除当前节点，则返回当前节点\n",
    "    return root"
   ]
  },
  {
   "cell_type": "markdown",
   "id": "978c9dbb",
   "metadata": {},
   "source": [
    "#### 测试一"
   ]
  },
  {
   "cell_type": "code",
   "execution_count": 4,
   "id": "37ce79f6",
   "metadata": {},
   "outputs": [
    {
     "name": "stdout",
     "output_type": "stream",
     "text": [
      "1 3 4\n"
     ]
    }
   ],
   "source": [
    "N2_1 = TreeNode(val=2, left=None, right=None)\n",
    "N2_3 = TreeNode(val=2, left=None, right=None)\n",
    "N2_4 = TreeNode(val=4, left=None, right=None)\n",
    "N1_1 = TreeNode(val=2, left=N2_1, right=None)\n",
    "N1_2 = TreeNode(val=3, left=N2_3, right=N2_4)\n",
    "root = TreeNode(val=1, left=N1_1, right=N1_2)\n",
    "\n",
    "target = 2\n",
    "newroot = removeLeafNodes(root, target)\n",
    "print(newroot.val, newroot.right.val, newroot.right.right.val)"
   ]
  },
  {
   "cell_type": "code",
   "execution_count": null,
   "id": "4574ce77",
   "metadata": {},
   "outputs": [],
   "source": []
  }
 ],
 "metadata": {
  "kernelspec": {
   "display_name": "Python 3",
   "language": "python",
   "name": "python3"
  },
  "language_info": {
   "codemirror_mode": {
    "name": "ipython",
    "version": 3
   },
   "file_extension": ".py",
   "mimetype": "text/x-python",
   "name": "python",
   "nbconvert_exporter": "python",
   "pygments_lexer": "ipython3",
   "version": "3.7.4"
  }
 },
 "nbformat": 4,
 "nbformat_minor": 5
}
