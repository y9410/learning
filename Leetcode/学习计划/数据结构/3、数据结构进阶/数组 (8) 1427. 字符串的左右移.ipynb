{
 "cells": [
  {
   "cell_type": "markdown",
   "id": "8d71cfc8",
   "metadata": {},
   "source": [
    "# 题目"
   ]
  },
  {
   "cell_type": "markdown",
   "id": "86a3f552",
   "metadata": {},
   "source": [
    "> 给定一个包含小写英文字母的字符串 s 以及一个矩阵 shift，其中 shift[i] = [direction, amount]：  \n",
    "direction 可以为 0 （表示左移）或 1 （表示右移）。  \n",
    "amount 表示 s 左右移的位数。  \n",
    "左移 1 位表示移除 s 的第一个字符，并将该字符插入到 s 的结尾。  \n",
    "类似地，右移 1 位表示移除 s 的最后一个字符，并将该字符插入到 s 的开头。  \n",
    "对这个字符串进行所有操作后，返回最终结果。"
   ]
  },
  {
   "cell_type": "markdown",
   "id": "369023b6",
   "metadata": {},
   "source": [
    "# 方法一：计算"
   ]
  },
  {
   "cell_type": "markdown",
   "id": "68263c9a",
   "metadata": {},
   "source": [
    "> 先遍历shift，计算真实的移动步数；然后通过切片的方式返回最终的字符串。"
   ]
  },
  {
   "cell_type": "markdown",
   "id": "93995bb2",
   "metadata": {},
   "source": [
    "## 复杂度"
   ]
  },
  {
   "cell_type": "markdown",
   "id": "0f9bac29",
   "metadata": {},
   "source": [
    "- 时间复杂度: $O(n+m)$ ，其中 $n$ 为数组的长度， $m$ 为列表 shift 的长度。"
   ]
  },
  {
   "cell_type": "markdown",
   "id": "7e909b62",
   "metadata": {},
   "source": [
    "- 空间复杂度: $O(1)$ 。"
   ]
  },
  {
   "cell_type": "markdown",
   "id": "13dada4d",
   "metadata": {},
   "source": [
    "## 代码"
   ]
  },
  {
   "cell_type": "code",
   "execution_count": 1,
   "id": "aaa346b0",
   "metadata": {},
   "outputs": [],
   "source": [
    "def stringShift(s, shift):\n",
    "    #使用哈希表1表示正，0表示负\n",
    "    hashtable = {1: 1, 0: -1}\n",
    "    #res记录最终左移或右移了多少位\n",
    "    res = 0\n",
    "    #如果移动的位数大于len(s)，求余后再移动\n",
    "    yu = 0\n",
    "    #遍历shift，计算最终向哪边移动几步\n",
    "    for i in range(len(shift)):\n",
    "        res += hashtable[shift[i][0]] * shift[i][1] \n",
    "\n",
    "    #如果左右移动的是len(s)的整数倍，直接返回s,相当于不移动\n",
    "    if res % len(s) == 0:\n",
    "        return s\n",
    "    #如果最终是左移\n",
    "    elif res < 0:\n",
    "        yu = -res % len(s)\n",
    "        return s[yu:] + s[:yu]\n",
    "    #如果最终是右移\n",
    "    elif res > 0:\n",
    "        yu = res % len(s)\n",
    "        return s[-yu:] + s[ :len(s) - yu]"
   ]
  },
  {
   "cell_type": "markdown",
   "id": "ecde3ff2",
   "metadata": {},
   "source": [
    "#### 测试一"
   ]
  },
  {
   "cell_type": "code",
   "execution_count": 2,
   "id": "6f0129cc",
   "metadata": {},
   "outputs": [
    {
     "data": {
      "text/plain": [
       "'cab'"
      ]
     },
     "execution_count": 2,
     "metadata": {},
     "output_type": "execute_result"
    }
   ],
   "source": [
    "s = \"abc\"\n",
    "shift = [[0,1],[1,2]]\n",
    "stringShift(s, shift)"
   ]
  },
  {
   "cell_type": "markdown",
   "id": "cae311df",
   "metadata": {},
   "source": [
    "#### 测试二"
   ]
  },
  {
   "cell_type": "code",
   "execution_count": 3,
   "id": "4f0f4cb0",
   "metadata": {},
   "outputs": [
    {
     "data": {
      "text/plain": [
       "'efgabcd'"
      ]
     },
     "execution_count": 3,
     "metadata": {},
     "output_type": "execute_result"
    }
   ],
   "source": [
    "s = \"abcdefg\"\n",
    "shift = [[1,1],[1,1],[0,2],[1,3]]\n",
    "stringShift(s, shift)"
   ]
  },
  {
   "cell_type": "code",
   "execution_count": null,
   "id": "537ad8d9",
   "metadata": {},
   "outputs": [],
   "source": []
  }
 ],
 "metadata": {
  "kernelspec": {
   "display_name": "Python 3",
   "language": "python",
   "name": "python3"
  },
  "language_info": {
   "codemirror_mode": {
    "name": "ipython",
    "version": 3
   },
   "file_extension": ".py",
   "mimetype": "text/x-python",
   "name": "python",
   "nbconvert_exporter": "python",
   "pygments_lexer": "ipython3",
   "version": "3.7.4"
  }
 },
 "nbformat": 4,
 "nbformat_minor": 5
}
