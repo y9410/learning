{
 "cells": [
  {
   "cell_type": "markdown",
   "id": "14a7372b",
   "metadata": {},
   "source": [
    "# 题目"
   ]
  },
  {
   "cell_type": "markdown",
   "id": "8c3dbc8d",
   "metadata": {},
   "source": [
    "> 给你链表的头结点 head ，请将其按升序排列并返回排序后的链表。"
   ]
  },
  {
   "cell_type": "markdown",
   "id": "1dc805a4",
   "metadata": {},
   "source": [
    "# 方法一：自顶向下归并排序"
   ]
  },
  {
   "cell_type": "markdown",
   "id": "20807987",
   "metadata": {},
   "source": [
    "> 对于排序来说，时间复杂度达到 $O(nlogn)$ 的算法包括归并排序、堆排序和快速排序，其中归并排序最适合链表。  \n",
    "归并过程可以通过递归实现。递归的终止条件是链表的节点个数小于或等于 1 ，即当链表为空或者链表只包含 1 个节点时，不需要对链表进行拆分和排序。  \n",
    "对链表自顶向下归并排序的过程如下：  \n",
    "1. 找到链表的中点，以中点为分界，将链表拆分成两个子链表。寻找链表的中点可以使用快慢指针的做法，快指针每次移动 222 步，慢指针每次移动 111 步，当快指针到达链表末尾时，慢指针指向的链表节点即为链表的中点；\n",
    "2. 对两个子链表分别排序；\n",
    "3. 将两个排序后的子链表合并，得到完整的排序后的链表。"
   ]
  },
  {
   "cell_type": "markdown",
   "id": "c515e35e",
   "metadata": {},
   "source": [
    "# 方法二：自底向上归并排序"
   ]
  },
  {
   "cell_type": "markdown",
   "id": "d710b743",
   "metadata": {},
   "source": [
    "> 使用自底向上的方法实现归并排序，则可以达到 $O(1)$ 的空间复杂度。  \n",
    "首先求得链表的长度 length ，然后将链表拆分成子链表进行合并，具体过程如下：  \n",
    "1. 用 subLength 表示每次需要排序的子链表的长度，初始时 subLength=1；\n",
    "2. 每次将链表拆分成若干个长度为 subLength 的子链表（最后一个子链表的长度可以小于 subLength ），按照每两个子链表一组进行合并，合并后即可得到若干个长度为 subLength×2 的有序子链表（最后一个子链表的长度可以小于 subLength×2 ）；\n",
    "3. 将 subLength 的值加倍，重复第 2 步，对更长的有序子链表进行合并操作，直到有序子链表的长度大于或等于 length，整个链表排序完毕。\n",
    "\n",
    "> 可以通过数学归纳法证明每次合并之后得到的子链表都是有序的：  \n",
    "1. 初始时 subLength=1，每个长度为 1 的子链表都是有序的；\n",
    "2. 如果每个长度为 subLength 的子链表已经有序，合并两个长度为 subLength 的有序子链表，得到长度为 subLength×2 的子链表，一定也是有序的；\n",
    "3. 当最后一个子链表的长度小于 subLength 时，该子链表也是有序的，合并两个有序子链表之后得到的子链表一定也是有序的。"
   ]
  },
  {
   "cell_type": "markdown",
   "id": "29c7737c",
   "metadata": {},
   "source": [
    "## 复杂度"
   ]
  },
  {
   "cell_type": "markdown",
   "id": "5e7ac30c",
   "metadata": {},
   "source": [
    "- 时间复杂度: $O(nlogn)$ ，其中 $n$ 是输入链表的长度。"
   ]
  },
  {
   "cell_type": "markdown",
   "id": "b85e5b72",
   "metadata": {},
   "source": [
    "> 归并排序的时间复杂度。"
   ]
  },
  {
   "cell_type": "markdown",
   "id": "8326f415",
   "metadata": {},
   "source": [
    "- 空间复杂度: $O(1)$ 。"
   ]
  },
  {
   "cell_type": "markdown",
   "id": "039c272e",
   "metadata": {},
   "source": [
    "> 只需要使用常数空间。"
   ]
  },
  {
   "cell_type": "markdown",
   "id": "0ef56146",
   "metadata": {},
   "source": [
    "## 代码"
   ]
  },
  {
   "cell_type": "code",
   "execution_count": 1,
   "id": "26bc4f79",
   "metadata": {},
   "outputs": [],
   "source": [
    "class ListNode:\n",
    "    def __init__(self, val=0, next=None):\n",
    "        self.val = val\n",
    "        self.next = next"
   ]
  },
  {
   "cell_type": "code",
   "execution_count": 2,
   "id": "625132c6",
   "metadata": {},
   "outputs": [],
   "source": [
    "def sortList(head):\n",
    "    \n",
    "    # 按升序合并两个子链表\n",
    "    def merge(head1, head2):\n",
    "        dummyHead = ListNode(0)  # 创建临时变量，作为合并后链表的虚拟头\n",
    "        temp, temp1, temp2 = dummyHead, head1, head2\n",
    "        # 使用两个指针从头开始分别遍历两个子链表\n",
    "        while temp1 and temp2:\n",
    "            # 比较两个指针对应的节点值，将值较小的节点放在前面，并移动对应指针\n",
    "            if temp1.val <= temp2.val:\n",
    "                temp.next = temp1\n",
    "                temp1 = temp1.next\n",
    "            else:\n",
    "                temp.next = temp2\n",
    "                temp2 = temp2.next\n",
    "            temp = temp.next\n",
    "        # 当某一个子链表先被遍历完后，将另一个子链表接到最后\n",
    "        if temp1:\n",
    "            temp.next = temp1\n",
    "        elif temp2:\n",
    "            temp.next = temp2\n",
    "        # 返回虚拟头的next节点（即为合并链表的头节点）\n",
    "        return dummyHead.next\n",
    "    \n",
    "    # 判断链表是否为空\n",
    "    if not head:\n",
    "        return head\n",
    "    \n",
    "    # 返回链表总长度\n",
    "    length = 0\n",
    "    node = head\n",
    "    while node:\n",
    "        length += 1\n",
    "        node = node.next\n",
    "    \n",
    "    dummyHead = ListNode(0, head)  # 创建临时变量，作为排序后链表的虚拟头\n",
    "    subLength = 1  # 子链表的长度\n",
    "    \n",
    "    # 进行自底向上归并排序\n",
    "    while subLength < length:\n",
    "        # 每次合并完所有长度相同的子链表后，将指针再次指向头部，以进行新一轮合并\n",
    "        prev, curr = dummyHead, dummyHead.next\n",
    "        # 每次对两个子链表进行合并\n",
    "        while curr:\n",
    "            \n",
    "            # head1是第1个子链表的头节点\n",
    "            head1 = curr\n",
    "            for i in range(1, subLength):  # 使用subLength构建子链表\n",
    "                if curr.next:\n",
    "                    curr = curr.next\n",
    "                else:\n",
    "                    break\n",
    "            \n",
    "            # head2是第2个子链表的头节点\n",
    "            head2 = curr.next\n",
    "            curr.next = None\n",
    "            curr = head2\n",
    "            for i in range(1, subLength):\n",
    "                if curr and curr.next:\n",
    "                    curr = curr.next\n",
    "                else:\n",
    "                    break\n",
    "            \n",
    "            # 用succ记录当前第2个子链表后面的节点\n",
    "            succ = None\n",
    "            if curr:\n",
    "                succ = curr.next\n",
    "                curr.next = None\n",
    "            \n",
    "            # 合并两个子链表\n",
    "            merged = merge(head1, head2)\n",
    "            \n",
    "            # 不断将合并后的链表接到前一个合并好的链表后面\n",
    "            prev.next = merged\n",
    "            while prev.next:\n",
    "                prev = prev.next\n",
    "            \n",
    "            # 在当前的subLength下，进行下一次的两个子链表的合并\n",
    "            curr = succ\n",
    "        \n",
    "        # 每完成一轮子链表的合并（一个while循环），子链表长度×2\n",
    "        subLength <<= 1\n",
    "    \n",
    "    return dummyHead.next"
   ]
  },
  {
   "cell_type": "markdown",
   "id": "32b56cf8",
   "metadata": {},
   "source": [
    "#### 测试一"
   ]
  },
  {
   "cell_type": "code",
   "execution_count": 3,
   "id": "2c2fb940",
   "metadata": {},
   "outputs": [
    {
     "name": "stdout",
     "output_type": "stream",
     "text": [
      "1 2 3 4\n"
     ]
    }
   ],
   "source": [
    "L3 = ListNode(1, None)\n",
    "L2 = ListNode(2, next=L3)\n",
    "L1 = ListNode(3, next=L2)\n",
    "head = ListNode(4, next=L1)\n",
    "newhead = sortList(head)\n",
    "print(newhead.val, newhead.next.val, newhead.next.next.val, newhead.next.next.next.val)"
   ]
  }
 ],
 "metadata": {
  "kernelspec": {
   "display_name": "Python 3",
   "language": "python",
   "name": "python3"
  },
  "language_info": {
   "codemirror_mode": {
    "name": "ipython",
    "version": 3
   },
   "file_extension": ".py",
   "mimetype": "text/x-python",
   "name": "python",
   "nbconvert_exporter": "python",
   "pygments_lexer": "ipython3",
   "version": "3.7.4"
  }
 },
 "nbformat": 4,
 "nbformat_minor": 5
}
