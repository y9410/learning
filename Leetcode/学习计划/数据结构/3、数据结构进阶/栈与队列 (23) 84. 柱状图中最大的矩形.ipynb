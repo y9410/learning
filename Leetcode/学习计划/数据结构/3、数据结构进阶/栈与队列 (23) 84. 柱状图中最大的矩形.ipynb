{
 "cells": [
  {
   "cell_type": "markdown",
   "id": "e816ba66",
   "metadata": {},
   "source": [
    "# 题目"
   ]
  },
  {
   "cell_type": "markdown",
   "id": "6c62bd19",
   "metadata": {},
   "source": [
    "> 给定 n 个非负整数，用来表示柱状图中各个柱子的高度。每个柱子彼此相邻，且宽度为 1 。  \n",
    "求在该柱状图中，能够勾勒出来的矩形的最大面积。"
   ]
  },
  {
   "cell_type": "markdown",
   "id": "d73b6ae7",
   "metadata": {},
   "source": [
    "# 方法一：单调栈+常数优化"
   ]
  },
  {
   "cell_type": "markdown",
   "id": "6ffffd4e",
   "metadata": {},
   "source": [
    "> 矩形的面积由其宽度与高度决定，因此可以遍历所有柱子，计算以每根柱子为高时的矩形面积。  \n",
    "为了正确的枚举矩形，对于遍历到的每根柱子，将其作为中心柱子 i ，分别向左和向右查看每根柱子，若扩展的柱子高度大于等于当前遍历到的柱子高度，说明这个柱子可以是组成矩形的一部分，直到扩展到左边和右边各自的第一根低于当前中心柱子的柱子，分别记为 j,k 。这两根柱子 j,k 即是当前中心柱子的左右边界。根据左边界 j 、中心 i 和右边界 k 可计算出矩形面积，即为当前柱子对应的矩形面积，所有面积中最大的即为答案。  \n",
    "因此，构建一个自底向上单调递增的单调栈来保存每根柱子的左边界。根据每根柱子被压入栈的时机可以得知其左边界的位置，根据栈中柱子被弹出栈的时机可以得知栈中柱子的右边界，根据所有柱子的边界可计算出矩形面积。"
   ]
  },
  {
   "cell_type": "markdown",
   "id": "7bcad779",
   "metadata": {},
   "source": [
    "## 复杂度"
   ]
  },
  {
   "cell_type": "markdown",
   "id": "4935c516",
   "metadata": {},
   "source": [
    "- 时间复杂度: $O(n)$ ，其中 $n$ 是高度列表的长度。"
   ]
  },
  {
   "cell_type": "markdown",
   "id": "c81bd6ec",
   "metadata": {},
   "source": [
    "> 每一个元素最多被加入和弹出单调栈各一次。"
   ]
  },
  {
   "cell_type": "markdown",
   "id": "025bb670",
   "metadata": {},
   "source": [
    "- 空间复杂度: $O(n)$ ，其中 $n$ 是高度列表的长度。"
   ]
  },
  {
   "cell_type": "markdown",
   "id": "6012c939",
   "metadata": {},
   "source": [
    "> 单调栈和边界列表需要使用的空间。"
   ]
  },
  {
   "cell_type": "markdown",
   "id": "8a9446ba",
   "metadata": {},
   "source": [
    "## 代码"
   ]
  },
  {
   "cell_type": "code",
   "execution_count": 1,
   "id": "4b56954a",
   "metadata": {},
   "outputs": [],
   "source": [
    "def largestRectangleArea(heights):\n",
    "    \n",
    "    n = len(heights)\n",
    "    left, right = [0] * n, [n] * n  # 两个列表分别记录每根柱子左右边界的位置\n",
    "    mono_stack = list()  # 自底向上单调递增的单调栈，用于记录每根柱子的左边界\n",
    "    \n",
    "    # 从左到右遍历每根柱子\n",
    "    for i in range(n):\n",
    "        # 定义一个柱子的左右边界为：距其最近的、高度小于当前柱子高度的柱子位置\n",
    "        # 对于当前柱子，若栈不为空且当前柱子高度小于等于栈顶柱子高度\n",
    "        # 说明还没找到当前柱子的左边界，需要将栈顶元素删除，重复此过程直到栈为空或栈顶柱子高度小于当前柱子高度\n",
    "        # 可以依次删除栈顶柱子是因为对于后续要遍历的柱子来说，当前柱子比那些被删除的柱子更矮，在后续柱子寻找左边界时会“挡住”更靠左的柱子\n",
    "        while mono_stack and heights[mono_stack[-1]] >= heights[i]:\n",
    "            # 对于每个被弹出的元素来说，其右边界即是当前柱子（因为当前柱子是右侧离它们最近的、高度小于等于它们的柱子）\n",
    "            # 一个问题是，这样找出的边界柱子高度有可能等于中心柱子，不符合边界的定义\n",
    "            # 但对于连续有若干个柱子的高度都等于矩形的高度的特殊情况来说，最右侧的那根柱子是可以求出正确的右边界的，因此不会影响答案\n",
    "            right[mono_stack[-1]] = i\n",
    "            mono_stack.pop()\n",
    "        \n",
    "        left[i] = mono_stack[-1] if mono_stack else -1  # 若栈不为空，当前柱子的左边界是栈顶元素，否则其不存在左边界  \n",
    "        \n",
    "        mono_stack.append(i)\n",
    "    \n",
    "    # 得到所有柱子的左右边界后，计算各自的矩形面积，选出最大值\n",
    "    ans = max((right[i] - left[i] - 1) * heights[i] for i in range(n)) if n > 0 else 0\n",
    "    \n",
    "    return ans"
   ]
  },
  {
   "cell_type": "markdown",
   "id": "2cc96859",
   "metadata": {},
   "source": [
    "#### 测试一"
   ]
  },
  {
   "cell_type": "code",
   "execution_count": 2,
   "id": "bb4e9d6a",
   "metadata": {},
   "outputs": [
    {
     "data": {
      "text/plain": [
       "10"
      ]
     },
     "execution_count": 2,
     "metadata": {},
     "output_type": "execute_result"
    }
   ],
   "source": [
    "heights = [2,1,5,6,2,3]\n",
    "largestRectangleArea(heights)"
   ]
  },
  {
   "cell_type": "markdown",
   "id": "46d7aab5",
   "metadata": {},
   "source": [
    "#### 测试二"
   ]
  },
  {
   "cell_type": "code",
   "execution_count": 3,
   "id": "1d6df663",
   "metadata": {},
   "outputs": [
    {
     "data": {
      "text/plain": [
       "4"
      ]
     },
     "execution_count": 3,
     "metadata": {},
     "output_type": "execute_result"
    }
   ],
   "source": [
    "heights = [2,4]\n",
    "largestRectangleArea(heights)"
   ]
  },
  {
   "cell_type": "code",
   "execution_count": null,
   "id": "b78bb730",
   "metadata": {},
   "outputs": [],
   "source": []
  }
 ],
 "metadata": {
  "kernelspec": {
   "display_name": "Python 3",
   "language": "python",
   "name": "python3"
  },
  "language_info": {
   "codemirror_mode": {
    "name": "ipython",
    "version": 3
   },
   "file_extension": ".py",
   "mimetype": "text/x-python",
   "name": "python",
   "nbconvert_exporter": "python",
   "pygments_lexer": "ipython3",
   "version": "3.7.4"
  }
 },
 "nbformat": 4,
 "nbformat_minor": 5
}
