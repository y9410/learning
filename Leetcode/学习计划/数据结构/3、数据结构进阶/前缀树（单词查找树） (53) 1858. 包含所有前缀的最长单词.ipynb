{
 "cells": [
  {
   "cell_type": "markdown",
   "id": "615876e7",
   "metadata": {},
   "source": [
    "# 题目"
   ]
  },
  {
   "cell_type": "markdown",
   "id": "2151b1e2",
   "metadata": {},
   "source": [
    "> 给定一个字符串数组 words，找出 words 中所有的前缀都在 words 中的最长字符串。  \n",
    "例如，令 words = [\"a\", \"app\", \"ap\"]。字符串 \"app\" 含前缀 \"ap\" 和 \"a\" ，都在 words 中。  \n",
    "返回符合上述要求的字符串。如果存在多个（符合条件的）相同长度的字符串，返回字典序中最小的字符串，如果这样的字符串不存在，返回 \"\"。"
   ]
  },
  {
   "cell_type": "markdown",
   "id": "ca106e88",
   "metadata": {},
   "source": [
    "# 方法一：字典树"
   ]
  },
  {
   "cell_type": "markdown",
   "id": "6748e19f",
   "metadata": {},
   "source": [
    "> 套用字典树模板。  \n",
    "先把单词按长度排序，随后遍历单词。  \n",
    "要注意的是，由于答案要相同长度中字典序小的，而默认排序字典序小的在前面。因此，如果新单词和已存的答案长度相同，则不需要更新。"
   ]
  },
  {
   "cell_type": "markdown",
   "id": "70bbd37b",
   "metadata": {},
   "source": [
    "## 复杂度"
   ]
  },
  {
   "cell_type": "markdown",
   "id": "bf91f283",
   "metadata": {},
   "source": [
    "- 时间复杂度: 添加和搜索单词为 $O(|S|)$ ，其中 $|S|$ 是每次添加或搜索的单词的长度， $|\\Sigma|$ 是字符集，本题中为26；遍历时要对每个单词的所有前缀进行遍历。"
   ]
  },
  {
   "cell_type": "markdown",
   "id": "72810bae",
   "metadata": {},
   "source": [
    "- 空间复杂度:：$O(|T|⋅|\\Sigma|)$，其中 $|T|$ 为所有添加的单词的长度之和， $|\\Sigma|$ 为字符集的大小。"
   ]
  },
  {
   "cell_type": "markdown",
   "id": "e03a33de",
   "metadata": {},
   "source": [
    "## 代码"
   ]
  },
  {
   "cell_type": "code",
   "execution_count": 1,
   "id": "4e20d3f7",
   "metadata": {},
   "outputs": [],
   "source": [
    "# 字典树的节点\n",
    "class TrieNode():\n",
    "    def __init__(self):\n",
    "        self.children = [None] * 26  # 每个位置对应一个字母，例如[0]→'a'\n",
    "        self.isEnd = False  # 该节点是否为字符串的结尾\n",
    "\n",
    "# 字典树\n",
    "class Trie:\n",
    "    def __init__(self):\n",
    "        self.root = TrieNode()\n",
    "    \n",
    "    # 查找前缀是否存在，若是则返回前缀的最后一个字符对应的子节点\n",
    "    def searchPrefix(self, prefix):\n",
    "        node = self.root\n",
    "        # 遍历前缀的每个字符\n",
    "        for ch in prefix:\n",
    "            ch = ord(ch) - ord(\"a\")\n",
    "            # 只要某个字符对应的子节点不存在，就说明前缀树中不存在这个前缀\n",
    "            if not node.children[ch]:\n",
    "                return None\n",
    "            # 移动到字符对应的子节点\n",
    "            node = node.children[ch]\n",
    "        # 返回前缀的最后一个字符对应的子节点\n",
    "        return node\n",
    "\n",
    "    # 向树中插入字符串word\n",
    "    def insert(self, word):\n",
    "        node = self.root\n",
    "        # 遍历每个字符\n",
    "        for ch in word:\n",
    "            # 计算字符离'a'的距离，得到当前字符在children中的位置\n",
    "            ch = ord(ch) - ord(\"a\")\n",
    "            # 若对应位置为空（子节点不存在），则在那里添加一个子节点\n",
    "            if not node.children[ch]:\n",
    "                node.children[ch] = TrieNode()\n",
    "            # 移动该字符的子节点\n",
    "            node = node.children[ch]\n",
    "        # 将word的最后一个字符对应的子节点的isEnd标为True\n",
    "        node.isEnd = True\n",
    "\n",
    "    # 查找字符串word是否存在\n",
    "    def search(self, word):\n",
    "        node = self.searchPrefix(word)\n",
    "        # 若作为前缀的word在树中存在且最后一个字符对应的子节点的isEnd为True，说明word作为一个单词存在于树中\n",
    "        return node is not None and node.isEnd\n",
    "\n",
    "    # 查找前缀是否存在\n",
    "    def startsWith(self, prefix):\n",
    "        return self.searchPrefix(prefix) is not None"
   ]
  },
  {
   "cell_type": "code",
   "execution_count": 2,
   "id": "a400dfb7",
   "metadata": {},
   "outputs": [],
   "source": [
    "# 解法\n",
    "class Solution:\n",
    "    def longestWord(self, words):\n",
    "        # 按各个前缀长度由小到大排序，若长度相同，则按字母顺序由前到后排序\n",
    "        words.sort(key = lambda x: (len(x), x))\n",
    "        # 初始化一个字典树\n",
    "        trie = Trie()\n",
    "        ans = ''\n",
    "        for word in words:\n",
    "            isTarget = True\n",
    "            # 遍历word的所有前缀\n",
    "            # 假设word长度为n，则前缀为：前1个字母，前2个字母，...，前n-1个字母\n",
    "            for i in range(len(word)-1):\n",
    "                pre = word[:i+1]\n",
    "                # 任何一个前缀不在字典树中，则当前word不是答案，并跳出for循环\n",
    "                if not trie.search(pre):\n",
    "                    isTarget = False\n",
    "                    break\n",
    "            # 由于输出同长度中字典序小的，因此长度未变，则不更新ans\n",
    "            if isTarget and len(word) != len(ans): \n",
    "                ans = word\n",
    "            # 将当前word插入字典树\n",
    "            trie.insert(word)\n",
    "        return ans"
   ]
  },
  {
   "cell_type": "markdown",
   "id": "b1447835",
   "metadata": {},
   "source": [
    "#### 测试一"
   ]
  },
  {
   "cell_type": "code",
   "execution_count": 3,
   "id": "d0cfa67a",
   "metadata": {},
   "outputs": [
    {
     "data": {
      "text/plain": [
       "'kiran'"
      ]
     },
     "execution_count": 3,
     "metadata": {},
     "output_type": "execute_result"
    }
   ],
   "source": [
    "words = [\"k\",\"ki\",\"kir\",\"kira\", \"kiran\"]\n",
    "\n",
    "test = Solution()\n",
    "test.longestWord(words)"
   ]
  },
  {
   "cell_type": "markdown",
   "id": "d7b0ca3b",
   "metadata": {},
   "source": [
    "#### 测试二"
   ]
  },
  {
   "cell_type": "code",
   "execution_count": 4,
   "id": "e27b343f",
   "metadata": {},
   "outputs": [
    {
     "data": {
      "text/plain": [
       "'apple'"
      ]
     },
     "execution_count": 4,
     "metadata": {},
     "output_type": "execute_result"
    }
   ],
   "source": [
    "words = [\"a\", \"banana\", \"app\", \"appl\", \"ap\", \"apply\", \"apple\"]\n",
    "\n",
    "test = Solution()\n",
    "test.longestWord(words)"
   ]
  },
  {
   "cell_type": "markdown",
   "id": "6db780a7",
   "metadata": {},
   "source": [
    "#### 测试三"
   ]
  },
  {
   "cell_type": "code",
   "execution_count": 5,
   "id": "f50d234d",
   "metadata": {},
   "outputs": [
    {
     "data": {
      "text/plain": [
       "''"
      ]
     },
     "execution_count": 5,
     "metadata": {},
     "output_type": "execute_result"
    }
   ],
   "source": [
    "words = [\"abc\", \"bc\", \"ab\", \"qwe\"]\n",
    "\n",
    "test = Solution()\n",
    "test.longestWord(words)"
   ]
  },
  {
   "cell_type": "code",
   "execution_count": null,
   "id": "394beabd",
   "metadata": {},
   "outputs": [],
   "source": []
  }
 ],
 "metadata": {
  "kernelspec": {
   "display_name": "Python 3",
   "language": "python",
   "name": "python3"
  },
  "language_info": {
   "codemirror_mode": {
    "name": "ipython",
    "version": 3
   },
   "file_extension": ".py",
   "mimetype": "text/x-python",
   "name": "python",
   "nbconvert_exporter": "python",
   "pygments_lexer": "ipython3",
   "version": "3.7.4"
  }
 },
 "nbformat": 4,
 "nbformat_minor": 5
}
