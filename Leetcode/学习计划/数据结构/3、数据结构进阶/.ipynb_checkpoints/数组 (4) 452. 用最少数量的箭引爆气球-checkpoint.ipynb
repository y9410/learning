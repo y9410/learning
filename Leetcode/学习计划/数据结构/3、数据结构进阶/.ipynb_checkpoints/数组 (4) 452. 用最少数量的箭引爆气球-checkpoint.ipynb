{
 "cells": [
  {
   "cell_type": "markdown",
   "id": "b8d9b034",
   "metadata": {},
   "source": [
    "# 题目"
   ]
  },
  {
   "cell_type": "markdown",
   "id": "da471434",
   "metadata": {},
   "source": [
    "> 有一些球形气球贴在一堵用 XY 平面表示的墙面上。墙面上的气球记录在整数数组 `points` ，其中 `points[i] = [xstart, xend]` 表示水平直径在 `xstart` 和 `xend` 之间的气球。你不知道气球的确切 y 坐标。  \n",
    "一支弓箭可以沿着 x 轴从不同点 完全垂直 地射出。在坐标 x 处射出一支箭，若有一个气球的直径的开始和结束坐标为 `xstart,xend` ， 且满足 `xstart ≤ x ≤ xend` ，则该气球会被引爆。可以射出的弓箭的数量没有限制。弓箭一旦被射出之后，可以无限地前进。  \n",
    "给你一个数组 `points` ，返回引爆所有气球所必须射出的最小弓箭数。"
   ]
  },
  {
   "cell_type": "markdown",
   "id": "6db53508",
   "metadata": {},
   "source": [
    "# 方法一：排序+贪心"
   ]
  },
  {
   "cell_type": "markdown",
   "id": "ac0f3a38",
   "metadata": {},
   "source": [
    "> 为了引爆更多的气球，可以先随机射出一支箭，然后调整其位置，使其穿过更多气球。  \n",
    "例如，对于三个存在重叠的气球 [1,2],[2,3],[1,3] ，射出的箭的位置最好是 x=3 ，即**最小的右边界**，这时如果箭再向右偏一点，则无法射穿三个气球。  \n",
    "根据例子，可以得出以下算法：  \n",
    "1. 将所有气球的右边界 `xend` 从小到大排序；\n",
    "2. 从最小右边界的位置射出一支箭，将所有射穿的气球移出，给出剩余气球的最小右边界；\n",
    "3. 重复步骤2，直至没有气球，统计共射出几支箭。"
   ]
  },
  {
   "cell_type": "markdown",
   "id": "32d9d769",
   "metadata": {},
   "source": [
    "## 复杂度"
   ]
  },
  {
   "cell_type": "markdown",
   "id": "88ace8de",
   "metadata": {},
   "source": [
    "- 时间复杂度: $O(nlogn)$ ，其中 $n$ 为数组 `points` 的长度。"
   ]
  },
  {
   "cell_type": "markdown",
   "id": "6556ee70",
   "metadata": {},
   "source": [
    "> 主要是排序的开销。"
   ]
  },
  {
   "cell_type": "markdown",
   "id": "a442c961",
   "metadata": {},
   "source": [
    "- 空间复杂度: $O(nlogn)$ ，其中 $n$ 为数组 `points` 的长度。"
   ]
  },
  {
   "cell_type": "markdown",
   "id": "570371a6",
   "metadata": {},
   "source": [
    "> 排序需要使用的栈空间。"
   ]
  },
  {
   "cell_type": "markdown",
   "id": "2ea88490",
   "metadata": {},
   "source": [
    "## 代码"
   ]
  },
  {
   "cell_type": "code",
   "execution_count": 1,
   "id": "8ca86e81",
   "metadata": {},
   "outputs": [],
   "source": [
    "def findMinArrowShots(points):\n",
    "    if not points:\n",
    "        return 0\n",
    "    \n",
    "    points.sort(key = lambda balloon: balloon[1])  # 按照所有气球的右边界从小到大排序\n",
    "    pos = points[0][1]  # 射出箭的位置，即最小右边界\n",
    "    ans = 1  # 射箭数\n",
    "    for balloon in points:\n",
    "        # 对于每个气球，如果该气球的左边界大于射出箭的位置（否则被射爆）\n",
    "        if balloon[0] > pos:\n",
    "            pos = balloon[1]  # 则需要射出下一箭，位置为当前气球的右边界（也是最小右边界）\n",
    "            ans += 1  # 射箭数+1\n",
    "    \n",
    "    return ans"
   ]
  },
  {
   "cell_type": "markdown",
   "id": "e6830a24",
   "metadata": {},
   "source": [
    "#### 测试一"
   ]
  },
  {
   "cell_type": "code",
   "execution_count": 4,
   "id": "0f12cda1",
   "metadata": {},
   "outputs": [
    {
     "data": {
      "text/plain": [
       "2"
      ]
     },
     "execution_count": 4,
     "metadata": {},
     "output_type": "execute_result"
    }
   ],
   "source": [
    "points = [[10,16],[2,8],[1,6],[7,12]]\n",
    "findMinArrowShots(points)"
   ]
  },
  {
   "cell_type": "markdown",
   "id": "9e3ebc2f",
   "metadata": {},
   "source": [
    "#### 测试二"
   ]
  },
  {
   "cell_type": "code",
   "execution_count": 5,
   "id": "ea794369",
   "metadata": {},
   "outputs": [
    {
     "data": {
      "text/plain": [
       "4"
      ]
     },
     "execution_count": 5,
     "metadata": {},
     "output_type": "execute_result"
    }
   ],
   "source": [
    "points = [[1,2],[3,4],[5,6],[7,8]]\n",
    "findMinArrowShots(points)"
   ]
  },
  {
   "cell_type": "code",
   "execution_count": null,
   "id": "93932fa1",
   "metadata": {},
   "outputs": [],
   "source": []
  }
 ],
 "metadata": {
  "kernelspec": {
   "display_name": "Python 3",
   "language": "python",
   "name": "python3"
  },
  "language_info": {
   "codemirror_mode": {
    "name": "ipython",
    "version": 3
   },
   "file_extension": ".py",
   "mimetype": "text/x-python",
   "name": "python",
   "nbconvert_exporter": "python",
   "pygments_lexer": "ipython3",
   "version": "3.7.4"
  }
 },
 "nbformat": 4,
 "nbformat_minor": 5
}
