{
 "cells": [
  {
   "cell_type": "markdown",
   "id": "5af7975e",
   "metadata": {},
   "source": [
    "# 题目"
   ]
  },
  {
   "cell_type": "markdown",
   "id": "8953c36a",
   "metadata": {},
   "source": [
    "> 给你一个含 n 个整数的数组 nums ，其中 nums[i] 在区间 [1, n] 内。请你找出所有在 [1, n] 范围内但没有出现在 nums 中的数字，并以数组的形式返回结果。"
   ]
  },
  {
   "cell_type": "markdown",
   "id": "e5596eab",
   "metadata": {},
   "source": [
    "# 方法一：原地修改"
   ]
  },
  {
   "cell_type": "markdown",
   "id": "a4286d03",
   "metadata": {},
   "source": [
    "> 可以用一个哈希表记录数组 nums 中的数字，但这样会使用额外的 $O(n)$ 空间。为了节约空间，可以使用输入数组 nums 进行记录。  \n",
    "可以使用 nums[i] 来记录i+1这个数是否出现过，具体而言：遍历 nums ，对于其中的每一个数 num ，其存在便说明 num 出现过，因此给位置 nums[(num-1)%n] 的数加上n，让其超出范围，表示 i+1 已经出现过了；取模运算也可以还原已经加过n的数的原值。"
   ]
  },
  {
   "cell_type": "markdown",
   "id": "c2d01411",
   "metadata": {},
   "source": [
    "## 复杂度"
   ]
  },
  {
   "cell_type": "markdown",
   "id": "58020b66",
   "metadata": {},
   "source": [
    "- 时间复杂度: $O(n)$ ，其中 $n$ 为数组的长度。"
   ]
  },
  {
   "cell_type": "markdown",
   "id": "97c775a0",
   "metadata": {},
   "source": [
    "> 主要是遍历数组的开销。"
   ]
  },
  {
   "cell_type": "markdown",
   "id": "88320fa0",
   "metadata": {},
   "source": [
    "- 空间复杂度: $O(1)$ 。"
   ]
  },
  {
   "cell_type": "markdown",
   "id": "2273635f",
   "metadata": {},
   "source": [
    "> 返回值不计入空间复杂度。"
   ]
  },
  {
   "cell_type": "markdown",
   "id": "350a3c19",
   "metadata": {},
   "source": [
    "## 代码"
   ]
  },
  {
   "cell_type": "code",
   "execution_count": 1,
   "id": "162859a8",
   "metadata": {},
   "outputs": [],
   "source": [
    "def findDisappearedNumbers(nums):\n",
    "    n = len(nums)\n",
    "    # 利用输入数组nums记录1到n是否出现过，nums[i]用于记录i+1是否在nums中出现过\n",
    "    for num in nums:\n",
    "        # 若num=i+1出现过，则在位置i加上n让其取值超出[1,n]这个范围\n",
    "        x = (num - 1) % n  # 因为位置x上的数可能之间已经加过n，取模可以还原这个位置上原本的值\n",
    "        nums[x] += n\n",
    "    # 遍历处理过的nums，对于index=i这个位置上的数来说，若其值在[1,n]范围内，说明原本的nums中没有i+1这个数，则记录下来\n",
    "    ret = [i + 1 for i, num in enumerate(nums) if num <= n]\n",
    "    return ret"
   ]
  },
  {
   "cell_type": "markdown",
   "id": "a55693a6",
   "metadata": {},
   "source": [
    "#### 测试一"
   ]
  },
  {
   "cell_type": "code",
   "execution_count": 2,
   "id": "497c2de2",
   "metadata": {},
   "outputs": [
    {
     "data": {
      "text/plain": [
       "[5, 6]"
      ]
     },
     "execution_count": 2,
     "metadata": {},
     "output_type": "execute_result"
    }
   ],
   "source": [
    "nums = [4,3,2,7,8,2,3,1]\n",
    "findDisappearedNumbers(nums)"
   ]
  },
  {
   "cell_type": "markdown",
   "id": "9a3e2830",
   "metadata": {},
   "source": [
    "#### 测试二"
   ]
  },
  {
   "cell_type": "code",
   "execution_count": 3,
   "id": "71c49e32",
   "metadata": {},
   "outputs": [
    {
     "data": {
      "text/plain": [
       "[2]"
      ]
     },
     "execution_count": 3,
     "metadata": {},
     "output_type": "execute_result"
    }
   ],
   "source": [
    "nums = [1,1]\n",
    "findDisappearedNumbers(nums)"
   ]
  },
  {
   "cell_type": "code",
   "execution_count": null,
   "id": "2dd038b0",
   "metadata": {},
   "outputs": [],
   "source": []
  }
 ],
 "metadata": {
  "kernelspec": {
   "display_name": "Python 3",
   "language": "python",
   "name": "python3"
  },
  "language_info": {
   "codemirror_mode": {
    "name": "ipython",
    "version": 3
   },
   "file_extension": ".py",
   "mimetype": "text/x-python",
   "name": "python",
   "nbconvert_exporter": "python",
   "pygments_lexer": "ipython3",
   "version": "3.7.4"
  }
 },
 "nbformat": 4,
 "nbformat_minor": 5
}
