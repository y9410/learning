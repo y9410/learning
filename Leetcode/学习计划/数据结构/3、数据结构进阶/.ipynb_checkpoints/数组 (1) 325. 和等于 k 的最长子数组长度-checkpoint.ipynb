{
 "cells": [
  {
   "cell_type": "markdown",
   "id": "336ad85f",
   "metadata": {},
   "source": [
    "# 题目"
   ]
  },
  {
   "cell_type": "markdown",
   "id": "a84420d6",
   "metadata": {},
   "source": [
    "> 给定一个数组 nums 和一个目标值 k，找到和等于 k 的最长连续子数组长度。  \n",
    "如果不存在任意一个符合要求的子数组，则返回 0。"
   ]
  },
  {
   "cell_type": "markdown",
   "id": "f6651999",
   "metadata": {},
   "source": [
    "# 方法一：位运算"
   ]
  },
  {
   "cell_type": "markdown",
   "id": "d8e29acd",
   "metadata": {},
   "source": [
    "> 构建一个字典，用于记录当前和以及那个和第一次出现时子数组尾端数的index，字典的第一个元素为0:0（说明0个数的和index为0）  \n",
    "从数组的第0个数开始遍历：  \n",
    "1. 当前和等于从第0个数开始到当前数的和；\n",
    "2. 若当前和没在字典里出现过，则在字典中记录当前和以及当前数的index；\n",
    "3. 若 当前和-k 在字典里出现过，说明找到了一个满足条件的子数组，比较该子数组的长度与之前所有满足条件的子数组长度（或0）孰大，记录较大者；\n",
    "4. 遍历到nums尾部，返回答案"
   ]
  },
  {
   "cell_type": "markdown",
   "id": "bea959a8",
   "metadata": {},
   "source": [
    "## 复杂度"
   ]
  },
  {
   "cell_type": "markdown",
   "id": "08c8bfee",
   "metadata": {},
   "source": [
    "- 时间复杂度: $O(n)$ ，其中 $n$ 为数组 `nums` 的长度。"
   ]
  },
  {
   "cell_type": "markdown",
   "id": "6a5758df",
   "metadata": {},
   "source": [
    "> 只需要对数组遍历一次。"
   ]
  },
  {
   "cell_type": "markdown",
   "id": "e0de3ab9",
   "metadata": {},
   "source": [
    "- 空间复杂度: $O(n)$ ，其中 $n$ 为数组 `nums` 的长度。"
   ]
  },
  {
   "cell_type": "markdown",
   "id": "34458033",
   "metadata": {},
   "source": [
    "> 字典的大小。"
   ]
  },
  {
   "cell_type": "markdown",
   "id": "29f8f5f8",
   "metadata": {},
   "source": [
    "## 代码"
   ]
  },
  {
   "cell_type": "code",
   "execution_count": 1,
   "id": "3ba3feee",
   "metadata": {},
   "outputs": [],
   "source": [
    "from collections import defaultdict"
   ]
  },
  {
   "cell_type": "code",
   "execution_count": 2,
   "id": "8387501f",
   "metadata": {},
   "outputs": [],
   "source": [
    "def maxSubArrayLen(nums, k):\n",
    "    n = len(nums)\n",
    "    presum_idx = defaultdict(int)\n",
    "    res = 0  # 记录子数组最大长度\n",
    "    presum = 0  # 当前所有数的和\n",
    "    presum_idx[0] = 0   #前0个，和为0   也决定了必须用虚指\n",
    "    for i in range(n):\n",
    "        presum += nums[i]  # 计算当前和\n",
    "        if presum not in presum_idx:  # 如果当前和没出现过\n",
    "            presum_idx[presum] = i + 1  # 则记录当前子数组的长度（从第0个到第i个）\n",
    "        if (presum - k) in presum_idx:  # 若当前的presum[i2]-k在字典中出现过，且presum_idx为i1，则说明presum[i2]-presum[i1]=k，i1到i2的子数组即为一个新的答案\n",
    "            res = max(res, i - presum_idx[presum - k] + 1)\n",
    "    \n",
    "    return res"
   ]
  },
  {
   "cell_type": "markdown",
   "id": "a3eb3f6b",
   "metadata": {},
   "source": [
    "#### 测试一"
   ]
  },
  {
   "cell_type": "code",
   "execution_count": 3,
   "id": "47cf11e3",
   "metadata": {},
   "outputs": [
    {
     "data": {
      "text/plain": [
       "4"
      ]
     },
     "execution_count": 3,
     "metadata": {},
     "output_type": "execute_result"
    }
   ],
   "source": [
    "nums = [1,-1,5,-2,3]\n",
    "k = 3\n",
    "maxSubArrayLen(nums, k)"
   ]
  },
  {
   "cell_type": "markdown",
   "id": "e0f713d6",
   "metadata": {},
   "source": [
    "#### 测试二"
   ]
  },
  {
   "cell_type": "code",
   "execution_count": 4,
   "id": "985bf79c",
   "metadata": {},
   "outputs": [
    {
     "data": {
      "text/plain": [
       "2"
      ]
     },
     "execution_count": 4,
     "metadata": {},
     "output_type": "execute_result"
    }
   ],
   "source": [
    "nums = [-2,-1,2,1]\n",
    "k = 1\n",
    "maxSubArrayLen(nums, k)"
   ]
  },
  {
   "cell_type": "code",
   "execution_count": null,
   "id": "076079db",
   "metadata": {},
   "outputs": [],
   "source": []
  }
 ],
 "metadata": {
  "kernelspec": {
   "display_name": "Python 3",
   "language": "python",
   "name": "python3"
  },
  "language_info": {
   "codemirror_mode": {
    "name": "ipython",
    "version": 3
   },
   "file_extension": ".py",
   "mimetype": "text/x-python",
   "name": "python",
   "nbconvert_exporter": "python",
   "pygments_lexer": "ipython3",
   "version": "3.7.4"
  }
 },
 "nbformat": 4,
 "nbformat_minor": 5
}
