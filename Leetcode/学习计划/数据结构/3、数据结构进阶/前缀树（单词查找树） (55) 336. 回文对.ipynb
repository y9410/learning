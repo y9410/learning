{
 "cells": [
  {
   "cell_type": "markdown",
   "id": "8e6cddfd",
   "metadata": {},
   "source": [
    "# 题目"
   ]
  },
  {
   "cell_type": "markdown",
   "id": "aefb35d5",
   "metadata": {},
   "source": [
    "> 给定一组互不相同的单词，找出所有不同的索引对 (i, j) ，使得列表中的两个单词， words[i] + words[j] ，可拼接成回文串。"
   ]
  },
  {
   "cell_type": "markdown",
   "id": "c4b221e5",
   "metadata": {},
   "source": [
    "# 方法一：字典树"
   ]
  },
  {
   "cell_type": "markdown",
   "id": "c6214d75",
   "metadata": {},
   "source": [
    "> 对于每一个字符串 $s$ ，都可以拆解成 $s_1$ 和 $s_2$ 两部分：  \n",
    "其中一部分（假设是 $s_1$ ）是一个回文串（空字符串也是回文串），另一部分（假设是 $s_2$ ）是一个子字符串。  \n",
    "那么可以在列表 words 中寻找是否有与 $s_2$ 的翻转相同的字符串，若有，则找到了一个答案。  \n",
    "\n",
    "> 可以使用字典树储存所有单词，并在字典树上查找某个字符串的翻转是否存在。"
   ]
  },
  {
   "cell_type": "markdown",
   "id": "8aa8e2c0",
   "metadata": {},
   "source": [
    "## 复杂度"
   ]
  },
  {
   "cell_type": "markdown",
   "id": "7a334fbf",
   "metadata": {},
   "source": [
    "- 时间复杂度： $O(n×m^2)$，其中 $n$ 是字符串的数量， $m$ 是字符串的平均长度。"
   ]
  },
  {
   "cell_type": "markdown",
   "id": "283982c0",
   "metadata": {},
   "source": [
    "> 对于每一个字符串，我们需要 $O(m^2)$ 地判断其所有前缀与后缀是否是回文串，并 $O(m^2)$ 地寻找其所有前缀与后缀是否在给定的字符串序列中出现。"
   ]
  },
  {
   "cell_type": "markdown",
   "id": "264e9bdb",
   "metadata": {},
   "source": [
    "- 空间复杂度：$O(n×m)$，其中 $n$ 是字符串的数量， $m$ 是字符串的平均长度。"
   ]
  },
  {
   "cell_type": "markdown",
   "id": "d288f546",
   "metadata": {},
   "source": [
    "> 字典树的空间开销。"
   ]
  },
  {
   "cell_type": "markdown",
   "id": "a0cefcb8",
   "metadata": {},
   "source": [
    "## 代码"
   ]
  },
  {
   "cell_type": "code",
   "execution_count": 1,
   "id": "395aa371",
   "metadata": {},
   "outputs": [],
   "source": [
    "# 定义字典树的节点\n",
    "class Node:\n",
    "    def __init__(self):\n",
    "        self.ch = [0] * 26\n",
    "        self.flag = -1\n",
    "\n",
    "# 解法\n",
    "class Solution:\n",
    "    def palindromePairs(self, words):\n",
    "        # 初始化一个树，包含一个根节点，根节点不表示任何字母\n",
    "        tree = [Node()]\n",
    "\n",
    "        # 字典树方法：插入一个字符串s\n",
    "        def insert(s, index):\n",
    "            length = len(s)\n",
    "            add = 0  # 用于指示节点的位置\n",
    "            \n",
    "            # 遍历一个字符串，将这个字符串记录在字典树中\n",
    "            # 该循环的效果如下：\n",
    "            # 假设当前字符串为'abc'\n",
    "            # i=0时，add=0，当前节点为tree[0]，即根节点。x=0，tree[0].ch[0]==0，因此添加一个子节点到列表尾部，该子节点代表位置[0]处的a\n",
    "            # 该子节点在tree中的位置为[1]，因此令tree[0].ch[0]=1以指向这个子节点。并且令add=1，以便接下来的遍历。\n",
    "            # i=1时，add=1，当前节点为tree[1]，即代表位置[0]处的a的子节点。x=1，tree[1].ch[1]==0，因此添加一个子节点到列表尾部，代表位置[1]处的b\n",
    "            # 该子节点在tree中的位置为[2]，因此令tree[1].ch[1]=2以指向这个子节点。并且令add=2，以便接下来的遍历。\n",
    "            # i=2时，add=2，进行类似操作。\n",
    "            # 字符串'abc'遍历结束后，将代表字符串末尾字符的节点tree[3]的flag属性设置为index\n",
    "            for i in range(length):\n",
    "                x = ord(s[i]) - ord(\"a\")  # 当前字母s[i]在ch中的位置\n",
    "                # 若当前字符在字典树的对应位置不存在\n",
    "                if tree[add].ch[x] == 0:\n",
    "                    # 在tree列表尾部添加一个子节点用于表示当前字符\n",
    "                    tree.append(Node())\n",
    "                    # len(tree) - 1标示了一个子节点在tree列表中的位置，这个子节点代表当前的字符s[i]\n",
    "                    tree[add].ch[x] = len(tree) - 1\n",
    "                # 记录子节点在列表中的位置，for循环的下一个遍历时移动到该节点\n",
    "                add = tree[add].ch[x]\n",
    "            \n",
    "            # 代表字符串末尾字符的节点的flag属性设为index已记录当前字符在列表words中的位置\n",
    "            tree[add].flag = index\n",
    "        \n",
    "        # 输入字符串s和它的头尾位置left、right，返回s的翻转的位置\n",
    "        def findWord(s, left, right):\n",
    "            add = 0\n",
    "            # 从右往左遍历逆序遍历s，查看s的翻转是否在字典树中\n",
    "            for i in range(right, left - 1, -1):\n",
    "                x = ord(s[i]) - ord(\"a\")\n",
    "                if tree[add].ch[x] == 0:\n",
    "                    return -1\n",
    "                add = tree[add].ch[x]\n",
    "            # 若字典树中包含s的翻转，返回这个字符串的位置\n",
    "            return tree[add].flag\n",
    "        \n",
    "        # 输入字符串s和它的头尾位置left、right，返回s是否为回文串\n",
    "        def isPalindrome(s, left, right):\n",
    "            length = right - left + 1\n",
    "            # 分别从s的头尾遍历到中间，若每个字母都相等，则返回True\n",
    "            return length < 0 or all(s[left + i] == s[right - i] for i in range(length // 2))\n",
    "        \n",
    "        n = len(words)\n",
    "        # 将所有单词插入字典树\n",
    "        for i, word in enumerate(words):\n",
    "            insert(word, i)\n",
    "        \n",
    "        ret = list()\n",
    "        # 遍历每个单词\n",
    "        for i, word in enumerate(words):\n",
    "            m = len(word)\n",
    "            # 遍历0到m\n",
    "            for j in range(m + 1):\n",
    "                \n",
    "                # 查看单词word从第j个字符开始的后缀是否是回文串\n",
    "                if isPalindrome(word, j, m - 1):\n",
    "                    # 若是，则寻找一个能接在word右边的单词\n",
    "                    # 在字典树中查找word中以第j-1个字符为结尾的前缀的翻转，返回那个单词的位置\n",
    "                    leftId = findWord(word, 0, j - 1)\n",
    "                    # 如果那个单词存在且不是word本身\n",
    "                    if leftId != -1 and leftId != i:\n",
    "                        # 将那个单词接在word右边\n",
    "                        ret.append([i, leftId])\n",
    "                \n",
    "                # 查看单词word以第j-1个字符为结尾的前缀是否是回文串\n",
    "                if j and isPalindrome(word, 0, j - 1):\n",
    "                    # 若是，则寻找一个能接在word左边的单词\n",
    "                    # 在字典树中查找word中从第j个字符开始的后缀的翻转，返回那个单词的位置\n",
    "                    rightId = findWord(word, j, m - 1)\n",
    "                    # 如果那个单词存在且不是word本身\n",
    "                    if rightId != -1 and rightId != i:\n",
    "                        # 将那个单词接在word左边\n",
    "                        ret.append([rightId, i])\n",
    "\n",
    "        return ret"
   ]
  },
  {
   "cell_type": "markdown",
   "id": "8d1b22d5",
   "metadata": {},
   "source": [
    "#### 测试一"
   ]
  },
  {
   "cell_type": "code",
   "execution_count": 2,
   "id": "e972e06c",
   "metadata": {},
   "outputs": [
    {
     "data": {
      "text/plain": [
       "[[0, 1], [1, 0], [3, 2], [2, 4]]"
      ]
     },
     "execution_count": 2,
     "metadata": {},
     "output_type": "execute_result"
    }
   ],
   "source": [
    "words = [\"abcd\",\"dcba\",\"lls\",\"s\",\"sssll\"]\n",
    "\n",
    "test = Solution()\n",
    "test.palindromePairs(words)"
   ]
  },
  {
   "cell_type": "markdown",
   "id": "9083e4b5",
   "metadata": {},
   "source": [
    "#### 测试二"
   ]
  },
  {
   "cell_type": "code",
   "execution_count": 3,
   "id": "b5cc213c",
   "metadata": {},
   "outputs": [
    {
     "data": {
      "text/plain": [
       "[[0, 1], [1, 0]]"
      ]
     },
     "execution_count": 3,
     "metadata": {},
     "output_type": "execute_result"
    }
   ],
   "source": [
    "words = [\"a\",\"\"]\n",
    "\n",
    "test = Solution()\n",
    "test.palindromePairs(words)"
   ]
  },
  {
   "cell_type": "code",
   "execution_count": null,
   "id": "00c5b3cc",
   "metadata": {},
   "outputs": [],
   "source": []
  }
 ],
 "metadata": {
  "kernelspec": {
   "display_name": "Python 3",
   "language": "python",
   "name": "python3"
  },
  "language_info": {
   "codemirror_mode": {
    "name": "ipython",
    "version": 3
   },
   "file_extension": ".py",
   "mimetype": "text/x-python",
   "name": "python",
   "nbconvert_exporter": "python",
   "pygments_lexer": "ipython3",
   "version": "3.7.4"
  }
 },
 "nbformat": 4,
 "nbformat_minor": 5
}
