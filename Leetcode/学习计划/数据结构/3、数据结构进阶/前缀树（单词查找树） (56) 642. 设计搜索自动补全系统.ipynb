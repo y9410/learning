{
 "cells": [
  {
   "cell_type": "markdown",
   "id": "e3fe72bf",
   "metadata": {},
   "source": [
    "# 题目"
   ]
  },
  {
   "cell_type": "markdown",
   "id": "6d82c705",
   "metadata": {},
   "source": [
    "> 为搜索引擎设计一个搜索自动补全系统。用户会输入一条语句（最少包含一个字母，以特殊字符 '#' 结尾）。  \n",
    "给定一个字符串数组 sentences 和一个整数数组 times ，长度都为 n ，其中 sentences[i] 是之前输入的句子， times[i] 是该句子输入的相应次数。对于除 ‘#’ 以外的每个输入字符，返回前 3 个历史热门句子，这些句子的前缀与已经输入的句子的部分相同。  \n",
    "下面是详细规则：  \n",
    "- 一条句子的热度定义为历史上用户输入这个句子的总次数。\n",
    "- 返回前 3 的句子需要按照热度从高到低排序（第一个是最热门的）。如果有多条热度相同的句子，请按照 ASCII 码的顺序输出（ASCII 码越小排名越前）。\n",
    "- 如果满足条件的句子个数少于 3 ，将它们全部输出。\n",
    "- 如果输入了特殊字符，意味着句子结束了，请返回一个空集合。\n",
    "\n",
    "> 实现 AutocompleteSystem 类：  \n",
    "1、AutocompleteSystem(String[] sentences, int[] times): 使用数组 sentences 和 times 对对象进行初始化。  \n",
    "2、List<String> input(char c) 表示用户输入了字符 c 。\n",
    "- 如果 c == '#' ，则返回空数组 [] ，并将输入的语句存储在系统中。\n",
    "- 返回前 3 个历史热门句子，这些句子的前缀与已经输入的句子的部分相同。如果少于 3 个匹配项，则全部返回。"
   ]
  },
  {
   "cell_type": "markdown",
   "id": "e1e55a0f",
   "metadata": {},
   "source": [
    "# 方法一：字典树"
   ]
  },
  {
   "cell_type": "markdown",
   "id": "2c9f5f6b",
   "metadata": {},
   "source": [
    "> 见代码。"
   ]
  },
  {
   "cell_type": "markdown",
   "id": "10a84ce3",
   "metadata": {},
   "source": [
    "## 复杂度"
   ]
  },
  {
   "cell_type": "markdown",
   "id": "286acf05",
   "metadata": {},
   "source": [
    "- 时间复杂度：初始化类的时间复杂度为 $O(k×l)$，其中 $k$ 是句子的平均长度， $l$ 是句子数量； input() 方法的时间复杂度为 $O\\big(p+q+mlog(m)\\big)$ ，其中 $p$ 表示当前已输入句子 $cursent$ 的长度， $q$ 表示单词查找树中的节点数量， $m$ 为包含前缀的句子的长度。"
   ]
  },
  {
   "cell_type": "markdown",
   "id": "7b0353cb",
   "metadata": {},
   "source": [
    "> 对长度为 $m$ 的 list 排序需要时间 $O\\big(mlog(m)\\big)$ 。"
   ]
  },
  {
   "cell_type": "markdown",
   "id": "69b659ac",
   "metadata": {},
   "source": [
    "## 代码"
   ]
  },
  {
   "cell_type": "code",
   "execution_count": 1,
   "id": "45a30cb3",
   "metadata": {},
   "outputs": [],
   "source": [
    "class AutocompleteSystem:\n",
    "\n",
    "    def __init__(self, sentences, times):\n",
    "        # 属性1：字典树\n",
    "        self.trie = {}\n",
    "        # 将列表sentences中的每句话存储到字典树中\n",
    "        for i,sentence in enumerate(sentences):\n",
    "            node = self.trie\n",
    "            for c in sentence:\n",
    "                if c not in node:\n",
    "                    node[c] = {}\n",
    "                node = node[c]\n",
    "            node[\"#\"] = times[i]  # 子节点的key'#'对应的value的用来保存这个句子出现的次数\n",
    "        # 属性2：字典树的根节点\n",
    "        self.node = self.trie\n",
    "        # 属性3：目前为止的前缀\n",
    "        self.prefix = []\n",
    "\n",
    "    # 输入字符c，返回包含当前前缀的热度最高的三句话\n",
    "    def input(self, c):\n",
    "        if c == \"#\":\n",
    "            # 如果当前节点中包含名为'#'的key\n",
    "            if \"#\" in self.node:\n",
    "                # 这句话的出现次数+1\n",
    "                self.node[\"#\"] += 1\n",
    "            # 否则说明这句话第一次出现\n",
    "            else:\n",
    "                self.node[\"#\"] = 1\n",
    "            # 用户已经输入完了一句话，因此将prefix和node重置\n",
    "            self.prefix = []\n",
    "            self.node = self.trie\n",
    "            return []\n",
    "\n",
    "        # 如果c不是'#'，且c不在当前子节点的字典里\n",
    "        if c not in self.node:\n",
    "            # 创建一个用于表示这个c的子节点\n",
    "            self.node[c] = {}\n",
    "        # 移动到这个子节点\n",
    "        self.node = self.node[c]\n",
    "        # 将当前的字符c加入前缀列表\n",
    "        self.prefix.append(c)\n",
    "        \n",
    "        ans = []\n",
    "\n",
    "        # 对代表c的子节点进行dfs\n",
    "        # 这个子节点的每一个key都表示c的下一个可能的字符\n",
    "        self.dfs(self.node, self.prefix, ans)\n",
    "\n",
    "        # 按出现次数降序排列，按ASCII升序排列\n",
    "        ans.sort(key=lambda x:(-x[0],x[1]))\n",
    "        # 取前3\n",
    "        return [x[1] for x in ans][:3]\n",
    "\n",
    "    \n",
    "    def dfs(self, node, prefix, ans):\n",
    "        # 遍历当前子节点字典的每一个key\n",
    "        for k in node:\n",
    "            # 如果k不是'#'，说明这句话没有结束\n",
    "            if k != \"#\":\n",
    "                # 将当前字符k加入prefix中\n",
    "                prefix.append(k)\n",
    "                # 递归地进行dfs，直到搜索到'#'才会回溯\n",
    "                self.dfs(node[k], prefix, ans)\n",
    "                # 所有新添加的k都会被pop()删除，因此prefix会恢复到最开始输入时的状态\n",
    "                prefix.pop()\n",
    "            # 如果k是'#'，说明在列表sentences中找到了一个包含当前前缀的句子，将其添加到ans\n",
    "            else:\n",
    "                ans.append([node[\"#\"],\"\".join(prefix)])  # 出现次数，句子"
   ]
  },
  {
   "cell_type": "markdown",
   "id": "8e4bec34",
   "metadata": {},
   "source": [
    "#### 测试一"
   ]
  },
  {
   "cell_type": "code",
   "execution_count": 2,
   "id": "3653971d",
   "metadata": {},
   "outputs": [
    {
     "data": {
      "text/plain": [
       "['i love you', 'island', 'i love leetcode']"
      ]
     },
     "execution_count": 2,
     "metadata": {},
     "output_type": "execute_result"
    }
   ],
   "source": [
    "sentences = [\"i love you\", \"island\", \"iroman\", \"i love leetcode\"]\n",
    "times = [5, 3, 2, 2]\n",
    "\n",
    "autocompleteSystem = AutocompleteSystem(sentences, times)\n",
    "autocompleteSystem.input('i')"
   ]
  },
  {
   "cell_type": "code",
   "execution_count": 3,
   "id": "a77dd118",
   "metadata": {},
   "outputs": [
    {
     "data": {
      "text/plain": [
       "['i love you', 'i love leetcode']"
      ]
     },
     "execution_count": 3,
     "metadata": {},
     "output_type": "execute_result"
    }
   ],
   "source": [
    "autocompleteSystem.input(' ')"
   ]
  },
  {
   "cell_type": "code",
   "execution_count": 4,
   "id": "879dd0a0",
   "metadata": {},
   "outputs": [
    {
     "data": {
      "text/plain": [
       "[]"
      ]
     },
     "execution_count": 4,
     "metadata": {},
     "output_type": "execute_result"
    }
   ],
   "source": [
    "autocompleteSystem.input('a')"
   ]
  },
  {
   "cell_type": "code",
   "execution_count": 5,
   "id": "839bd589",
   "metadata": {},
   "outputs": [
    {
     "data": {
      "text/plain": [
       "[]"
      ]
     },
     "execution_count": 5,
     "metadata": {},
     "output_type": "execute_result"
    }
   ],
   "source": [
    "autocompleteSystem.input('#')"
   ]
  },
  {
   "cell_type": "code",
   "execution_count": null,
   "id": "bbeb10b3",
   "metadata": {},
   "outputs": [],
   "source": []
  }
 ],
 "metadata": {
  "kernelspec": {
   "display_name": "Python 3",
   "language": "python",
   "name": "python3"
  },
  "language_info": {
   "codemirror_mode": {
    "name": "ipython",
    "version": 3
   },
   "file_extension": ".py",
   "mimetype": "text/x-python",
   "name": "python",
   "nbconvert_exporter": "python",
   "pygments_lexer": "ipython3",
   "version": "3.7.4"
  }
 },
 "nbformat": 4,
 "nbformat_minor": 5
}
