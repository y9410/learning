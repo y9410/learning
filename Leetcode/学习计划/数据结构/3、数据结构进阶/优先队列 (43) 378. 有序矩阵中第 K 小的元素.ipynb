{
 "cells": [
  {
   "cell_type": "markdown",
   "id": "79a9a8ef",
   "metadata": {},
   "source": [
    "# 题目"
   ]
  },
  {
   "cell_type": "markdown",
   "id": "e19ed766",
   "metadata": {},
   "source": [
    "> 给你一个 n x n 矩阵 matrix ，其中每行和每列元素均按升序排序，找到矩阵中第 k 小的元素。  \n",
    "请注意，它是排序后的第 k 小元素，而不是第 k 个不同的元素。  \n",
    "你必须找到一个内存复杂度优于 $O(n^2)$ 的解决方案。"
   ]
  },
  {
   "cell_type": "markdown",
   "id": "34f5d09d",
   "metadata": {},
   "source": [
    "# 方法一：二分查找"
   ]
  },
  {
   "cell_type": "markdown",
   "id": "bb767fa3",
   "metadata": {},
   "source": [
    "> 给定的矩阵具有一个重要性质：任取一个数 mid 满足 l≤mid≤r ，那么矩阵中不大于 mid 的数，肯定全部分布在矩阵的左上角。  \n",
    "因此，每次可以给定一个 mid ，从左下角开始向右上角走，直到走出矩阵，即可得知不大于 mid 的数的数量。这一操作的复杂度是线性的，符合二分查找的性质。  \n",
    "因此可以通过二分查找每次给定一个新的界限 mid ，并根据找到的数的数量与 k 的大小关系，改变 mid 大小继续进行查找，直到找到的数的数量等于 k ，即找到答案。"
   ]
  },
  {
   "cell_type": "markdown",
   "id": "ca2bf4ba",
   "metadata": {},
   "source": [
    "## 复杂度"
   ]
  },
  {
   "cell_type": "markdown",
   "id": "bc5e6299",
   "metadata": {},
   "source": [
    "- 时间复杂度: $O(nlog(r-l))$ ，其中 $n$ 是矩阵的边长， $l$ 是矩阵中的最小数， $r$ 是矩阵中的最大数。"
   ]
  },
  {
   "cell_type": "markdown",
   "id": "a7004f7b",
   "metadata": {},
   "source": [
    "> 二分查找进行次数为 $O(log⁡(r−l))$ ，每次操作时间复杂度为 $O(n)$ 。"
   ]
  },
  {
   "cell_type": "markdown",
   "id": "05850f61",
   "metadata": {},
   "source": [
    "- 空间复杂度: $O(1)$ 。"
   ]
  },
  {
   "cell_type": "markdown",
   "id": "e6545166",
   "metadata": {},
   "source": [
    "> 只使用常数空间。"
   ]
  },
  {
   "cell_type": "markdown",
   "id": "33861a5f",
   "metadata": {},
   "source": [
    "## 代码"
   ]
  },
  {
   "cell_type": "code",
   "execution_count": 1,
   "id": "d3baf537",
   "metadata": {},
   "outputs": [],
   "source": [
    "class Solution:\n",
    "    def kthSmallest(self, matrix, k):\n",
    "        \n",
    "        n = len(matrix)  # 长度和宽度\n",
    "\n",
    "        # 以mid为界限，查看有多少不大于mid的数，并这些数是否不少于k个\n",
    "        def check(mid):  # mid表示处于最小元素（左上角）和最大元素（右下角）之间的元素\n",
    "            i, j = n - 1, 0  # 从左下角（第n-1行，第0列）开始往右上角走\n",
    "            num = 0  # 记录有多少不大于mid的数\n",
    "            \n",
    "            while i >= 0 and j < n:  # 只要还没走出边界，就继续循环\n",
    "                \n",
    "                if matrix[i][j] <= mid:\n",
    "                    num += i + 1  # 记录当前不大于mid的数的个数（当前这一列的数的个数）\n",
    "                    j += 1  # 向右移动一格（下一个数比当前数更大）\n",
    "                # 若当前元素大于mid\n",
    "                else:\n",
    "                    i -= 1  # 向上移动一格（下一个数比当前数更小）\n",
    "            \n",
    "            return num >= k  # 判断不大于mid的数是否不少于k个\n",
    "\n",
    "        left, right = matrix[0][0], matrix[-1][-1]  # 一开始，左右边界分别为最小数和最大数\n",
    "        \n",
    "        # 二分查找\n",
    "        # 若左边界小于右边界，说明第k小的元素还在两个边界中间\n",
    "        while left < right:\n",
    "            mid = (left + right) // 2  # mid为平均数\n",
    "            # 如果以mid为界限，找出的数不少于k个\n",
    "            if check(mid):\n",
    "                # 说明第k小的元素小于mid，新的界限mid应该在left和原来的mid之间\n",
    "                right = mid\n",
    "            # 如果找出的数少于k个\n",
    "            else:\n",
    "                # 说明第k小的元素大于mid，新的界限mid应该在原来的mid和right之间\n",
    "                left = mid + 1\n",
    "        \n",
    "        # 当左右边界相等时，说明找到了第k小的元素\n",
    "        return left"
   ]
  },
  {
   "cell_type": "markdown",
   "id": "965c119e",
   "metadata": {},
   "source": [
    "#### 测试一"
   ]
  },
  {
   "cell_type": "code",
   "execution_count": 2,
   "id": "b31bca29",
   "metadata": {},
   "outputs": [
    {
     "data": {
      "text/plain": [
       "13"
      ]
     },
     "execution_count": 2,
     "metadata": {},
     "output_type": "execute_result"
    }
   ],
   "source": [
    "matrix = [[1,5,9],[10,11,13],[12,13,15]]\n",
    "k = 8\n",
    "\n",
    "test = Solution()\n",
    "test.kthSmallest(matrix, k)"
   ]
  },
  {
   "cell_type": "markdown",
   "id": "90059be3",
   "metadata": {},
   "source": [
    "#### 测试二"
   ]
  },
  {
   "cell_type": "code",
   "execution_count": 3,
   "id": "f015a40d",
   "metadata": {},
   "outputs": [
    {
     "data": {
      "text/plain": [
       "-5"
      ]
     },
     "execution_count": 3,
     "metadata": {},
     "output_type": "execute_result"
    }
   ],
   "source": [
    "matrix = [[-5]]\n",
    "k = 1\n",
    "\n",
    "test = Solution()\n",
    "test.kthSmallest(matrix, k)"
   ]
  },
  {
   "cell_type": "code",
   "execution_count": null,
   "id": "d26b1e0c",
   "metadata": {},
   "outputs": [],
   "source": []
  }
 ],
 "metadata": {
  "kernelspec": {
   "display_name": "Python 3",
   "language": "python",
   "name": "python3"
  },
  "language_info": {
   "codemirror_mode": {
    "name": "ipython",
    "version": 3
   },
   "file_extension": ".py",
   "mimetype": "text/x-python",
   "name": "python",
   "nbconvert_exporter": "python",
   "pygments_lexer": "ipython3",
   "version": "3.7.4"
  }
 },
 "nbformat": 4,
 "nbformat_minor": 5
}
