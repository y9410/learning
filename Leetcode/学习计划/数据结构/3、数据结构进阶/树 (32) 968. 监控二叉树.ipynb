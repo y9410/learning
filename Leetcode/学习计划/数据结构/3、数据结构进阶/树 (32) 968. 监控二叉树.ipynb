{
 "cells": [
  {
   "cell_type": "markdown",
   "id": "13fdb0e0",
   "metadata": {},
   "source": [
    "# 题目"
   ]
  },
  {
   "cell_type": "markdown",
   "id": "b2d19a1a",
   "metadata": {},
   "source": [
    "> 给定一个二叉树，我们在树的节点上安装摄像头。  \n",
    "节点上的每个摄影头都可以监视其父对象、自身及其直接子对象。  \n",
    "计算监控树的所有节点所需的最小摄像头数量。"
   ]
  },
  {
   "cell_type": "markdown",
   "id": "9c2cddab",
   "metadata": {},
   "source": [
    "# 方法一：动态规划"
   ]
  },
  {
   "cell_type": "markdown",
   "id": "22bd6298",
   "metadata": {},
   "source": [
    "> 对于任意节点，可以根据其“是否安装摄像头”和“是否被监控”来分类讨论：\n",
    "1. 若当前节点安装了摄像头，则其子节点必被监控，只需保证其左右子节点各自的子树的所有节点都被监控即可；\n",
    "2. 若当前节点没安装摄像头，则在保证其左右子树的所有节点都被监控的前提下，左右子节点至少有一个需要安装摄像头。\n",
    "\n",
    "> 通过递归的方式计算每个节点的三种状态a,b,c：\n",
    "1. 状态a。当前节点安装摄像头时，使以当前节点为根节点的整颗子树的所有节点均被监控的最小摄像头数量；\n",
    "2. 状态b。无论当前节点是否安装摄像头，使以当前节点为根节点的整颗子树的所有节点均被监控的最小摄像头数量；\n",
    "3. 状态c。无论当前节点是否被监控，使当前节点的两颗子树的所有节点均被监控的最小摄像头数量。\n",
    "\n",
    "> 每个节点的各种状态都是由其子节点转移得到，具体如下（假设左右子节点的三种状态分别为 $[l_a,l_b,l_c],[r_a,r_b,r_c]$ ）：\n",
    "1. $a=l_c+r_c+1$ 。保证左右子节点各自的子树均被监控的情况下，在当前节点处安装摄像头即可监控左右子节点；\n",
    "2. $b=min(a,min(l_a+r_b,r_a+l_b))$ 。若状态a成立，则状态b必然成立，若状态a不成立（当前节点没装摄像头），则左右子节点至少有一个装了摄像头， $l_a+r_b$ 对应左子节点装摄像头而右子节点可能没装（也可能装了）的情况，$l_b+r_a$ 对应右子节点装摄像头而左子节点可能没装（也可能装了）的情况，选择其中较小者再与a比较；\n",
    "3. $c=min(a,l_b + r_b)$ 。若状态a成立，则状态c必然成立，若状态a不成立（当前节点没装摄像头），则需要保证两颗子树均被监控（不需要保证当前节点被监控），对应 $c=l_b + r_b$ ，比较两种情况；\n",
    "4. 对于空节点（递归的基本情况），因为不需要摄像头进行监控，所以 $b=0,c=0$ ，由于不可能在空节点除放置摄像头，因此取 $a=+∞$ 用于标识不可能的情况。\n",
    "\n",
    "> 由于必须知道子节点的情况才能知道父节点的情况，因此使用后序遍历，最终根节点的状态b（当前节点在内的所有节点均被监控）为答案。"
   ]
  },
  {
   "cell_type": "markdown",
   "id": "cef8b58c",
   "metadata": {},
   "source": [
    "## 复杂度"
   ]
  },
  {
   "cell_type": "markdown",
   "id": "c14b6ec0",
   "metadata": {},
   "source": [
    "- 时间复杂度: $O(n)$ ，其中 $n$ 是二叉树中的节点个数。"
   ]
  },
  {
   "cell_type": "markdown",
   "id": "8a24a4dd",
   "metadata": {},
   "source": [
    "> 对于每个节点，在常数时间内计算出 a,b,c 三个状态变量。"
   ]
  },
  {
   "cell_type": "markdown",
   "id": "e26aacd7",
   "metadata": {},
   "source": [
    "- 空间复杂度: $O(n)$ ，其中 $n$ 是二叉树中的节点个数。"
   ]
  },
  {
   "cell_type": "markdown",
   "id": "14623ce1",
   "metadata": {},
   "source": [
    "> 空间复杂度主要取决于递归调用层数，最大层数等于二叉树的高度，最坏情况下，二叉树的高度等于二叉树中的节点个数。"
   ]
  },
  {
   "cell_type": "markdown",
   "id": "938098c8",
   "metadata": {},
   "source": [
    "## 代码"
   ]
  },
  {
   "cell_type": "code",
   "execution_count": 1,
   "id": "4e6701ca",
   "metadata": {},
   "outputs": [],
   "source": [
    "class TreeNode:\n",
    "    def __init__(self, val=0, left=None, right=None):\n",
    "        self.val = val\n",
    "        self.left = left\n",
    "        self.right = right"
   ]
  },
  {
   "cell_type": "code",
   "execution_count": 2,
   "id": "8b3c8d3f",
   "metadata": {},
   "outputs": [],
   "source": [
    "class Solution:\n",
    "    def minCameraCover(self, root):\n",
    "        def dfs(root):\n",
    "            \n",
    "            # 对于空节点，其状态b,c都为0（因为不需要摄像头进行监控），状态a为+∞（不可能在空节点放摄像头）\n",
    "            if not root:\n",
    "                return [float(\"inf\"), 0, 0]\n",
    "            \n",
    "            # 后序遍历\n",
    "            la, lb, lc = dfs(root.left)\n",
    "            ra, rb, rc = dfs(root.right)\n",
    "            \n",
    "            # 计算当前节点的状态a,b,c\n",
    "            a = lc + rc + 1\n",
    "            b = min(a, la + rb, ra + lb)\n",
    "            c = min(a, lb + rb)\n",
    "            \n",
    "            return [a, b, c]  # 返回状态a,b,c\n",
    "        \n",
    "        a, b, c = dfs(root)\n",
    "        return b"
   ]
  },
  {
   "cell_type": "markdown",
   "id": "183bbf39",
   "metadata": {},
   "source": [
    "#### 测试一"
   ]
  },
  {
   "cell_type": "code",
   "execution_count": 3,
   "id": "c014d98c",
   "metadata": {},
   "outputs": [
    {
     "data": {
      "text/plain": [
       "2"
      ]
     },
     "execution_count": 3,
     "metadata": {},
     "output_type": "execute_result"
    }
   ],
   "source": [
    "N2_3 = TreeNode(val=0, left=None, right=None)\n",
    "N2_4 = TreeNode(val=0, left=None, right=None)\n",
    "N1_1 = TreeNode(val=0, left=None, right=None)\n",
    "N1_2 = TreeNode(val=0, left=N2_3, right=N2_4)\n",
    "root = TreeNode(val=0, left=N1_1, right=N1_2)\n",
    "\n",
    "test = Solution()\n",
    "test.minCameraCover(root)"
   ]
  },
  {
   "cell_type": "code",
   "execution_count": null,
   "id": "7bc7bc55",
   "metadata": {},
   "outputs": [],
   "source": []
  }
 ],
 "metadata": {
  "kernelspec": {
   "display_name": "Python 3",
   "language": "python",
   "name": "python3"
  },
  "language_info": {
   "codemirror_mode": {
    "name": "ipython",
    "version": 3
   },
   "file_extension": ".py",
   "mimetype": "text/x-python",
   "name": "python",
   "nbconvert_exporter": "python",
   "pygments_lexer": "ipython3",
   "version": "3.7.4"
  }
 },
 "nbformat": 4,
 "nbformat_minor": 5
}
