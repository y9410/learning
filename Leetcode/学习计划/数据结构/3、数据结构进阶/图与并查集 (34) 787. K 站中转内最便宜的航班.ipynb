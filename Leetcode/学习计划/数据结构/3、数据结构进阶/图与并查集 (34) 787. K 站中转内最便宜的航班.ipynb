{
 "cells": [
  {
   "cell_type": "markdown",
   "id": "72b80a23",
   "metadata": {},
   "source": [
    "# 题目"
   ]
  },
  {
   "cell_type": "markdown",
   "id": "14b75531",
   "metadata": {},
   "source": [
    "> 有 n 个城市通过一些航班连接。给你一个数组 flights ，其中 flights[i] = [from_i, toi, pricei] ，表示该航班都从城市 fromi 开始，以价格 pricei 抵达 toi。  \n",
    "现在给定所有的城市和航班，以及出发城市 src 和目的地 dst，你的任务是找到出一条最多经过 k 站中转的路线，使得从 src 到 dst 的 价格最便宜 ，并返回该价格。 如果不存在这样的路线，则输出 -1。"
   ]
  },
  {
   "cell_type": "markdown",
   "id": "746f9326",
   "metadata": {},
   "source": [
    "# 方法一：动态规划"
   ]
  },
  {
   "cell_type": "markdown",
   "id": "67aa011c",
   "metadata": {},
   "source": [
    "> 用 $f[t][i]$ 表示通过恰好 t 次航班，从出发城市 src 到达城市 i 需要的最小花费。  \n",
    "$$\n",
    "f[t][i]=\\min _{(j, i) \\in \\text { flights }}\\{f[t-1][j]+\\operatorname{cost}(j, i)\\}\n",
    "$$\n",
    "其中 $(j,i)∈flights(j, i)$ 表示在给定的航班数组 $flights$ 中存在从城市 j 出发到达城市 i 的航班， $cost(j,i)$ 表示该航班的花费。该状态转移方程的意义在于，枚举最后一次航班的起点 j ，那么前 t−1 次航班的最小花费为 f[t−1][j] 加上最后一次航班的花费 $cost(j,i)$ 中的最小值，即为 $f[t][i]$ 。  \n",
    "由于我们最多只能中转 kkk 次，也就是最多搭乘 k+1k+1k+1 次航班，最终的答案即为 $f[1][d s t], f[2][d s t], \\cdots, f[k+1][d s t]$ 中的最小值。\n",
    "\n",
    "> 当 t=0 时，状态 $f[t][i]$ 表示不搭乘航班到达城市 i 的最小花费，因此有：\n",
    "$$\n",
    "f[t][i]= \\begin{cases}0, & i=s r c \\\\ \\infty, & i \\neq s r c\\end{cases}\n",
    "$$\n",
    "也就是说，如果 i 是出发城市 src ，那么花费为 0 ；否则 $f[0][i]$ 不是一个合法的状态，由于在状态转移方程中我们需要求出的是最小值，因此可以将不合法的状态置为极大值 ∞ 。"
   ]
  },
  {
   "cell_type": "markdown",
   "id": "5ed176b3",
   "metadata": {},
   "source": [
    "## 复杂度"
   ]
  },
  {
   "cell_type": "markdown",
   "id": "41948efe",
   "metadata": {},
   "source": [
    "- 时间复杂度: $O((n+m)k)$ ，其中 $n$ 是城市数量， $m$ 为给定的 flights 数组的大小， $k$ 是中转次数函数。"
   ]
  },
  {
   "cell_type": "markdown",
   "id": "da11e6c8",
   "metadata": {},
   "source": [
    "> 状态的数量为 $O(nk)$ ，对于固定的 t ，我们需要 $O(m)$ 的时间计算出所有 $f[t][..]$ 的值。"
   ]
  },
  {
   "cell_type": "markdown",
   "id": "0eda9b1d",
   "metadata": {},
   "source": [
    "- 空间复杂度: $O(n)$ ，其中 $n$ 是城市数量。"
   ]
  },
  {
   "cell_type": "markdown",
   "id": "0181e273",
   "metadata": {},
   "source": [
    "> 用两个长度为 n 的数组储存状态。"
   ]
  },
  {
   "cell_type": "markdown",
   "id": "9f873500",
   "metadata": {},
   "source": [
    "## 代码"
   ]
  },
  {
   "cell_type": "code",
   "execution_count": 1,
   "id": "ee8b7397",
   "metadata": {},
   "outputs": [],
   "source": [
    "class Solution:\n",
    "    def findCheapestPrice(n, flights, src, dst, k):\n",
    "        # 表示上一次的状态\n",
    "        # f[i]表示恰好 t 次航班，从出发城市 src 到达城市 i 需要的最小花费\n",
    "        f = [float(\"inf\")] * n  # 不乘航班时，从本地出发到外地的花费是无穷大（因为不可能）\n",
    "        f[src] = 0  # 初始化为0，表示不乘航班时，从src出发到src的花费是0\n",
    "        ans = float(\"inf\")\n",
    "        \n",
    "        # k个中转站对应k+1次航班，对应着k+1种状态\n",
    "        for t in range(1, k + 2):\n",
    "            g = [float(\"inf\")] * n # g初始化，表示当前次航班的新状态\n",
    "            # 遍历航班表，进行状态转移，用g记录最新状态\n",
    "            for j, i, cost in flights:\n",
    "                # g[i]记录了从j出发到i的最小花费\n",
    "                # 首先，g[i]默认为+∞，表示若没有任何航班能到达i，则花费无穷大（不可能）\n",
    "                # 然后，若有j到i的航班，则g[i]为：乘坐t-1次航班从src出发飞到j的最小花费+本次从j到i的花费cost\n",
    "                # 最后，若有不止一个航班能一站飞到i（假设m和n都能飞到i），则f[m]+cost(m,i)和f[n]+cost(n,i)中的较小值\n",
    "                g[i] = min(g[i], f[j] + cost)\n",
    "            \n",
    "            # 更新状态后，用f记录本次状态\n",
    "            f = g\n",
    "            \n",
    "            # 每飞行一次，都查看当前已经飞到目的地dst的总价格，并更新最新答案\n",
    "            ans = min(ans, f[dst])\n",
    "        \n",
    "        # 若总花费为+∞，说明无法从src出发到达dst\n",
    "        return -1 if ans == float(\"inf\") else ans"
   ]
  },
  {
   "cell_type": "markdown",
   "id": "c1243e11",
   "metadata": {},
   "source": [
    "#### 测试一"
   ]
  },
  {
   "cell_type": "code",
   "execution_count": 2,
   "id": "960be77d",
   "metadata": {},
   "outputs": [
    {
     "data": {
      "text/plain": [
       "200"
      ]
     },
     "execution_count": 2,
     "metadata": {},
     "output_type": "execute_result"
    }
   ],
   "source": [
    "n = 3\n",
    "flights = [[0,1,100],[1,2,100],[0,2,500]]\n",
    "src = 0\n",
    "dst = 2\n",
    "k = 1\n",
    "\n",
    "test = Solution\n",
    "test.findCheapestPrice(n, flights, src, dst, k)"
   ]
  },
  {
   "cell_type": "markdown",
   "id": "19c55482",
   "metadata": {},
   "source": [
    "#### 测试二"
   ]
  },
  {
   "cell_type": "code",
   "execution_count": 3,
   "id": "a76755b6",
   "metadata": {},
   "outputs": [
    {
     "data": {
      "text/plain": [
       "500"
      ]
     },
     "execution_count": 3,
     "metadata": {},
     "output_type": "execute_result"
    }
   ],
   "source": [
    "n = 3\n",
    "flights = [[0,1,100],[1,2,100],[0,2,500]]\n",
    "src = 0\n",
    "dst = 2\n",
    "k = 0\n",
    "\n",
    "test = Solution\n",
    "test.findCheapestPrice(n, flights, src, dst, k)"
   ]
  },
  {
   "cell_type": "code",
   "execution_count": null,
   "id": "8cdcc3e8",
   "metadata": {},
   "outputs": [],
   "source": []
  }
 ],
 "metadata": {
  "kernelspec": {
   "display_name": "Python 3",
   "language": "python",
   "name": "python3"
  },
  "language_info": {
   "codemirror_mode": {
    "name": "ipython",
    "version": 3
   },
   "file_extension": ".py",
   "mimetype": "text/x-python",
   "name": "python",
   "nbconvert_exporter": "python",
   "pygments_lexer": "ipython3",
   "version": "3.7.4"
  }
 },
 "nbformat": 4,
 "nbformat_minor": 5
}
