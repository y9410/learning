{
 "cells": [
  {
   "cell_type": "markdown",
   "id": "850249c1",
   "metadata": {},
   "source": [
    "# 题目"
   ]
  },
  {
   "cell_type": "markdown",
   "id": "9ca81b63",
   "metadata": {},
   "source": [
    ">给你一个整数数组 nums ，数组中共有 n 个整数。132 模式的子序列 由三个整数 nums[i]、nums[j] 和 nums[k] 组成，并同时满足：i < j < k 和 nums[i] < nums[k] < nums[j] 。  \n",
    "如果 nums 中存在 132 模式的子序列 ，返回 true ；否则，返回 false 。"
   ]
  },
  {
   "cell_type": "markdown",
   "id": "10673c2e",
   "metadata": {},
   "source": [
    "# 方法一：枚举1"
   ]
  },
  {
   "cell_type": "markdown",
   "id": "63250efe",
   "metadata": {},
   "source": [
    "> 考虑枚举其中1个的下标，并用栈维护另外两个下标的可能值。  \n",
    "从右往左枚举'1'，并使用一个自底向上递减的单调栈保存'2'的候选元素，具体过程如下：  \n",
    "1. 创建一个栈，其中的初始元素为数组的尾部元素；\n",
    "2. 从右边第二个元素开始向左遍历，每次遇到新元素时进行以下判断：  \n",
    "a. 判断其能否作为'1'；\n",
    "b. 判断其能否作为'3'；\n",
    "c. 判断其能否作为'2'的候选。"
   ]
  },
  {
   "cell_type": "markdown",
   "id": "881427ce",
   "metadata": {},
   "source": [
    "## 复杂度"
   ]
  },
  {
   "cell_type": "markdown",
   "id": "c019e5a1",
   "metadata": {},
   "source": [
    "- 时间复杂度: $O(n)$ ，其中 $n$ 是数组的长度。"
   ]
  },
  {
   "cell_type": "markdown",
   "id": "98365621",
   "metadata": {},
   "source": [
    "> 每一个元素最多被加入和弹出单调栈各一次。"
   ]
  },
  {
   "cell_type": "markdown",
   "id": "f3f7869d",
   "metadata": {},
   "source": [
    "- 空间复杂度: $O(n)$ ，其中 $n$ 是数组的长度。"
   ]
  },
  {
   "cell_type": "markdown",
   "id": "08d89479",
   "metadata": {},
   "source": [
    "> 单调栈需要使用的空间。"
   ]
  },
  {
   "cell_type": "markdown",
   "id": "9451f40c",
   "metadata": {},
   "source": [
    "## 代码"
   ]
  },
  {
   "cell_type": "code",
   "execution_count": 1,
   "id": "0df8d153",
   "metadata": {},
   "outputs": [],
   "source": [
    "def find132pattern(nums):\n",
    "    n = len(nums)\n",
    "    candidate_k = [nums[n - 1]]  # 用于保存'2'的候选元素的单调栈（自底向上递减），从右边第2个元素开始\n",
    "    max_k = float(\"-inf\")  # 记录能够作为'2'的数的最大值（值越大，'1'越容易小于'2'），初始化为-∞\n",
    "\n",
    "    for i in range(n - 2, -1, -1):  # 从右向左遍历\n",
    "        # 1、判断当前数是否可以作为'1'\n",
    "        if nums[i] < max_k:\n",
    "            return True  # 若是，返回True\n",
    "        # 2、判断当前数是否可以作为'3'\n",
    "        # 若当前数大于栈顶数，就不断弹出栈顶元素直至当前数小于栈顶数或栈为空，记录弹出数中最大的一个（目前为止最适合作为'2'的数）\n",
    "        while candidate_k and nums[i] > candidate_k[-1]:\n",
    "            max_k = candidate_k[-1]\n",
    "            candidate_k.pop()\n",
    "        # 3、若当前数比之前最适合作为'2'候选的数max_k更大，将当前数作为'2'的候选加入栈\n",
    "        if nums[i] > max_k:\n",
    "            candidate_k.append(nums[i])\n",
    "\n",
    "    return False"
   ]
  },
  {
   "cell_type": "markdown",
   "id": "eab8257f",
   "metadata": {},
   "source": [
    "#### 测试一"
   ]
  },
  {
   "cell_type": "code",
   "execution_count": 2,
   "id": "690cec1c",
   "metadata": {},
   "outputs": [
    {
     "data": {
      "text/plain": [
       "False"
      ]
     },
     "execution_count": 2,
     "metadata": {},
     "output_type": "execute_result"
    }
   ],
   "source": [
    "nums = [1,2,3,4]\n",
    "find132pattern(nums)"
   ]
  },
  {
   "cell_type": "markdown",
   "id": "98b9483d",
   "metadata": {},
   "source": [
    "#### 测试二"
   ]
  },
  {
   "cell_type": "code",
   "execution_count": 3,
   "id": "21be3bca",
   "metadata": {},
   "outputs": [
    {
     "data": {
      "text/plain": [
       "True"
      ]
     },
     "execution_count": 3,
     "metadata": {},
     "output_type": "execute_result"
    }
   ],
   "source": [
    "nums = [3,1,4,2]\n",
    "find132pattern(nums)"
   ]
  },
  {
   "cell_type": "markdown",
   "id": "e8a35b58",
   "metadata": {},
   "source": [
    "# 方法二：枚举2"
   ]
  },
  {
   "cell_type": "markdown",
   "id": "08fb14fc",
   "metadata": {},
   "source": [
    "> 当我们枚举 2 的下标 k 时，与方法一相反，从左到右进行枚举的方法是十分合理的：在枚举的过程中，i,j 的下标范围都是增加的。  \n",
    "由于我们需要保证 1<2 并且 2<3 ，那么我们需要维护一系列尽可能小的元素作为 1 的候选元素，并且维护一系列尽可能大的元素作为 3 的候选元素。  \n",
    "我们可以分情况进行讨论，假设当前有一个小元素 $x_i$ 和一个大元素 $x_j$ 表示一个二元组，而我们当前遍历到了一个新的元素 x=a[k] ，那么：  \n",
    "1. 如果 x>$x_j$ ，那么让 x 作为 3 显然是比 $x_j$ 作为 3 更优，因此我们可以用 x 替代 $x_j$ ；\n",
    "2. 如果 x<$x_i$ ，那么让 x 作为 1 显然是比 $x_i$ 作为 3 更优，然而我们必须要满足 132 模式中的顺序，即 1 出现在 3 之前，这里如果我们简单地用 x 替代 $x_i$ ，那么 $x_i$=x 作为 1 是出现在 $x_j$ 作为 3 之后的，这并不满足要求。因此我们需要为 x 找一个新的元素作为 3 。由于我们还没有遍历到后面的元素，因此可以简单地将 x 同时看作一个二元组的 $x_i$ 和 $x_j$ ；\n",
    "4. 对于其它的情况，$x_i$≤x≤$x_j$ ，x 无论作为 1 还是 3 都没有当前二元组对应的要优，因此我们可以不用考虑 x 作为 1 或者 3 的情况。\n",
    "\n",
    "> 这样一来，与方法一类似，我们使用两个单调递减的单调栈维护一系列二元组 $(x_i,x_j)$ ，表示一个可以选择的 1−3 区间，并且从栈底到栈顶 $x_i$ 和 $x_j$ 分别严格单调递减，因为根据上面的讨论，我们只有在 x<$x_i$ 时才会增加一个新的二元组。  \n",
    "然而与方法一不同的是，如果我们想让 x 作为 2 ，那么我们并不知道到底应该选择单调栈中的哪个 1−3 区间，因此我们只能根据单调性进行二分查找：  \n",
    "1. 对于单调栈中的 $x_i$ ，需要找出第一个满足 $x_i$<x 的位置 id$x_i$ ，这样从该位置到栈顶的所有二元组都满足 $x_i$<x ；\n",
    "2. 对于单调栈中的 $x_j$ ，需要找出第一个满足 $x_j$>x 的位置 id$x_j$ ，这样从栈底到该位置的所有二元组都满足 $x_j$>x ；\n",
    "3. 如果 id$x_i$ 和 id$x_j$ 都存在，且 id$x_i$<id$x_j$ ,那么至少存在一个二元组 $(x_i,x_j)$ 满足 $x_i$<x<$x_j$ ， x 可以作为 2 ，找到了一组满足 132 模式的三元组。  \n",
    "\n",
    "> 在枚举完所有的元素后，如果仍未找到满足 132 模式的三元组，那就说明其不存在。  \n",
    "需要注意的是，我们是在单调递减的栈上进行二分查找，因此大部分语言都需要实现一个自定义比较函数，或者将栈中的元素取相反数后再使用默认的比较函数。  \n",
    "\n",
    "> **这种方法时间复杂度更高，但由于是从左到右遍历，因此不需要提前知道全部数组。**"
   ]
  },
  {
   "cell_type": "markdown",
   "id": "b16d6348",
   "metadata": {},
   "source": [
    "## 复杂度"
   ]
  },
  {
   "cell_type": "markdown",
   "id": "97ec6e3e",
   "metadata": {},
   "source": [
    "- 时间复杂度: $O(nlogn)$ ，其中 $n$ 是数组的长度。"
   ]
  },
  {
   "cell_type": "markdown",
   "id": "c127f0dd",
   "metadata": {},
   "source": [
    "> 二分查找的单次时间为 $O(log⁡n)$ ，一共为 $O(nlog⁡n)$ 。"
   ]
  },
  {
   "cell_type": "markdown",
   "id": "b02e8bce",
   "metadata": {},
   "source": [
    "- 空间复杂度: $O(n)$ ，其中 $n$ 是数组的长度。"
   ]
  },
  {
   "cell_type": "markdown",
   "id": "2e923586",
   "metadata": {},
   "source": [
    "> 单调栈需要使用的空间。"
   ]
  },
  {
   "cell_type": "markdown",
   "id": "56ab5463",
   "metadata": {},
   "source": [
    "## 代码"
   ]
  },
  {
   "cell_type": "code",
   "execution_count": 4,
   "id": "0f5c20aa",
   "metadata": {},
   "outputs": [],
   "source": [
    "import bisect"
   ]
  },
  {
   "cell_type": "code",
   "execution_count": 5,
   "id": "2fcbeef0",
   "metadata": {},
   "outputs": [],
   "source": [
    "def find132pattern(nums):\n",
    "    candidate_i, candidate_j = [-nums[0]], [-nums[0]]\n",
    "\n",
    "    for v in nums[1:]:\n",
    "        idx_i = bisect.bisect_right(candidate_i, -v)  # bisect_right表示使用二分查找返回-v在列表中插入的位置，靠右侧\n",
    "        idx_j = bisect.bisect_left(candidate_j, -v)  # bisect_left表示使用二分查找返回-v在列表中插入的位置，靠左侧\n",
    "        if idx_i < idx_j:\n",
    "            return True\n",
    "\n",
    "        if v < -candidate_i[-1]:\n",
    "            candidate_i.append(-v)\n",
    "            candidate_j.append(-v)\n",
    "        elif v > -candidate_j[-1]:\n",
    "            last_i = -candidate_i[-1]\n",
    "            while candidate_j and v > -candidate_j[-1]:\n",
    "                candidate_i.pop()\n",
    "                candidate_j.pop()\n",
    "            candidate_i.append(-last_i)\n",
    "            candidate_j.append(-v)\n",
    "\n",
    "    return False"
   ]
  },
  {
   "cell_type": "markdown",
   "id": "90a09a0a",
   "metadata": {},
   "source": [
    "#### 测试一"
   ]
  },
  {
   "cell_type": "code",
   "execution_count": 6,
   "id": "2140d05a",
   "metadata": {},
   "outputs": [
    {
     "data": {
      "text/plain": [
       "False"
      ]
     },
     "execution_count": 6,
     "metadata": {},
     "output_type": "execute_result"
    }
   ],
   "source": [
    "nums = [1,2,3,4]\n",
    "find132pattern(nums)"
   ]
  },
  {
   "cell_type": "markdown",
   "id": "74ddf614",
   "metadata": {},
   "source": [
    "#### 测试二"
   ]
  },
  {
   "cell_type": "code",
   "execution_count": 7,
   "id": "ccf782a9",
   "metadata": {},
   "outputs": [
    {
     "data": {
      "text/plain": [
       "True"
      ]
     },
     "execution_count": 7,
     "metadata": {},
     "output_type": "execute_result"
    }
   ],
   "source": [
    "nums = [3,1,4,2]\n",
    "find132pattern(nums)"
   ]
  },
  {
   "cell_type": "code",
   "execution_count": null,
   "id": "d37bc53d",
   "metadata": {},
   "outputs": [],
   "source": []
  }
 ],
 "metadata": {
  "kernelspec": {
   "display_name": "Python 3",
   "language": "python",
   "name": "python3"
  },
  "language_info": {
   "codemirror_mode": {
    "name": "ipython",
    "version": 3
   },
   "file_extension": ".py",
   "mimetype": "text/x-python",
   "name": "python",
   "nbconvert_exporter": "python",
   "pygments_lexer": "ipython3",
   "version": "3.7.4"
  }
 },
 "nbformat": 4,
 "nbformat_minor": 5
}
