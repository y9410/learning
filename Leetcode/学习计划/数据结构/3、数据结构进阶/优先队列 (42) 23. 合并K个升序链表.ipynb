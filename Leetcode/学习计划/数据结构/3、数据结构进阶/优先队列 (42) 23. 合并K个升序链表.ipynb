{
 "cells": [
  {
   "cell_type": "markdown",
   "id": "e3fc5a34",
   "metadata": {},
   "source": [
    "# 题目"
   ]
  },
  {
   "cell_type": "markdown",
   "id": "00e27b30",
   "metadata": {},
   "source": [
    "> 给你一个链表数组，每个链表都已经按升序排列。  \n",
    "请你将所有链表合并到一个升序链表中，返回合并后的链表。"
   ]
  },
  {
   "cell_type": "markdown",
   "id": "47c84268",
   "metadata": {},
   "source": [
    "# 方法一：优先队列"
   ]
  },
  {
   "cell_type": "markdown",
   "id": "4c7b62e5",
   "metadata": {},
   "source": [
    "> 将所有升序列表放到一个最小堆里面，设置一个虚拟头指向头节点，从头节点开始使用最小堆构建链表。"
   ]
  },
  {
   "cell_type": "markdown",
   "id": "cf2b371a",
   "metadata": {},
   "source": [
    "## 复杂度"
   ]
  },
  {
   "cell_type": "markdown",
   "id": "c4b4dad6",
   "metadata": {},
   "source": [
    "- 时间复杂度: $O(kn×logkn)$ ，其中 $k$ 是升序列表的个数， $n$ 是升序列表的最大长度。"
   ]
  },
  {
   "cell_type": "markdown",
   "id": "1a65a206",
   "metadata": {},
   "source": [
    "> 最小堆的长度最大为 kn ，插入的时间代价为 $O(logkn)$ ，最多有 kn 个点。"
   ]
  },
  {
   "cell_type": "markdown",
   "id": "7bf4bf3c",
   "metadata": {},
   "source": [
    "- 空间复杂度: $O(kn)$ ，其中 $k$ 是升序列表的个数， $n$ 是升序列表的最大长度。"
   ]
  },
  {
   "cell_type": "markdown",
   "id": "920ae1c2",
   "metadata": {},
   "source": [
    "> 额外空间用于建立最小堆。"
   ]
  },
  {
   "cell_type": "markdown",
   "id": "654d4454",
   "metadata": {},
   "source": [
    "## 代码"
   ]
  },
  {
   "cell_type": "code",
   "execution_count": 1,
   "id": "dea864c9",
   "metadata": {},
   "outputs": [],
   "source": [
    "class ListNode:\n",
    "    def __init__(self, val=0, next=None):\n",
    "        self.val = val\n",
    "        self.next = next"
   ]
  },
  {
   "cell_type": "code",
   "execution_count": 2,
   "id": "0905c289",
   "metadata": {},
   "outputs": [],
   "source": [
    "import heapq"
   ]
  },
  {
   "cell_type": "code",
   "execution_count": 3,
   "id": "4caa6e4e",
   "metadata": {},
   "outputs": [],
   "source": [
    "class Solution:\n",
    "    def mergeKLists(self, lists):\n",
    "        \n",
    "        minHeap = []  # 最小堆（从左到右依次递增）\n",
    "        \n",
    "        # 遍历链表数组\n",
    "        for listi in lists: \n",
    "            while listi:\n",
    "                heapq.heappush(minHeap, listi.val)  # 把listi中的数据逐个加到堆中\n",
    "                listi = listi.next\n",
    "        \n",
    "        dummy = ListNode(0)  # 构造虚节点\n",
    "        p = dummy\n",
    "        \n",
    "        # 遍历最小堆\n",
    "        while minHeap:\n",
    "            p.next = ListNode(heapq.heappop(minHeap))  # 依次弹出最小堆的数据\n",
    "            p = p.next\n",
    "        \n",
    "        return dummy.next  # 返回头节点"
   ]
  },
  {
   "cell_type": "markdown",
   "id": "77f6d6ec",
   "metadata": {},
   "source": [
    "#### 测试一"
   ]
  },
  {
   "cell_type": "code",
   "execution_count": 4,
   "id": "802b1237",
   "metadata": {},
   "outputs": [],
   "source": [
    "# 链表1\n",
    "node1_2 = ListNode(val=5)\n",
    "node1_1 = ListNode(val=4, next=node1_2)\n",
    "list1 = ListNode(val=1, next=node1_1)\n",
    "# 链表2\n",
    "node2_2 = ListNode(val=4)\n",
    "node2_1 = ListNode(val=3, next=node2_2)\n",
    "list2 = ListNode(val=1, next=node2_1)\n",
    "# 链表3\n",
    "node3_2 = ListNode(val=6)\n",
    "node3_1 = ListNode(val=2, next=node3_2)\n",
    "list3 = ListNode(val=1, next=node3_1)\n",
    "\n",
    "lists = [list1, list2, list3]\n",
    "\n",
    "test = Solution()\n",
    "newhead = test.mergeKLists(lists)"
   ]
  },
  {
   "cell_type": "code",
   "execution_count": 5,
   "id": "e490d97b",
   "metadata": {},
   "outputs": [
    {
     "name": "stdout",
     "output_type": "stream",
     "text": [
      "1\n",
      "1\n",
      "1\n",
      "2\n",
      "3\n",
      "4\n",
      "4\n",
      "5\n",
      "6\n"
     ]
    }
   ],
   "source": [
    "while newhead:\n",
    "    print(newhead.val)\n",
    "    newhead = newhead.next"
   ]
  },
  {
   "cell_type": "markdown",
   "id": "fa8c7ba5",
   "metadata": {},
   "source": [
    "#### 测试二"
   ]
  },
  {
   "cell_type": "code",
   "execution_count": 6,
   "id": "a6af1065",
   "metadata": {},
   "outputs": [],
   "source": [
    "lists = []\n",
    "\n",
    "test = Solution()\n",
    "newhead = test.mergeKLists(lists)"
   ]
  },
  {
   "cell_type": "code",
   "execution_count": 7,
   "id": "549a2d76",
   "metadata": {},
   "outputs": [],
   "source": [
    "while newhead:\n",
    "    print(newhead.val)\n",
    "    newhead = newhead.next"
   ]
  }
 ],
 "metadata": {
  "kernelspec": {
   "display_name": "Python 3",
   "language": "python",
   "name": "python3"
  },
  "language_info": {
   "codemirror_mode": {
    "name": "ipython",
    "version": 3
   },
   "file_extension": ".py",
   "mimetype": "text/x-python",
   "name": "python",
   "nbconvert_exporter": "python",
   "pygments_lexer": "ipython3",
   "version": "3.7.4"
  }
 },
 "nbformat": 4,
 "nbformat_minor": 5
}
