{
 "cells": [
  {
   "cell_type": "markdown",
   "id": "23461a80",
   "metadata": {},
   "source": [
    "# 题目"
   ]
  },
  {
   "cell_type": "markdown",
   "id": "ae10d4d3",
   "metadata": {},
   "source": [
    "> 给你一个整数数组 nums 和一个整数 k ，找出 nums 中和至少为 k 的最短非空子数组，并返回该子数组的长度。如果不存在这样的子数组，返回 -1 。  \n",
    "子数组是数组中连续的一部分。"
   ]
  },
  {
   "cell_type": "markdown",
   "id": "b28cdbfa",
   "metadata": {},
   "source": [
    "# 方法一：前缀和 + 单调双端队列"
   ]
  },
  {
   "cell_type": "markdown",
   "id": "e437bcbb",
   "metadata": {},
   "source": [
    "> 数组中每个数 i 的前缀和 preSumArr[i] 等于数 0 加到数 i-1 的和，第一个数 0 的前缀和 preSumArr[0]=0 。数组中第 i 个数开始长度为 m 的子数组和可以用 preSumArr[i+m]−preSumArr[i] 快速计算得到。  \n",
    "因此，可进行以下操作：  \n",
    "1. 遍历数组，计算每个数的前缀和并保存；\n",
    "2. 遍历前缀和列表，在这一过程中：  \n",
    "a. 维护一个从左到右单调递增的双端队列q，用于记录已经遍历过的前缀和的情况；  \n",
    "b. 每遍历到一个新的前缀和，使用q计算子数组和，判断是否满足要求，同时对q进行增删操作；\n",
    "3. 遍历完前缀和列表后返回结果。"
   ]
  },
  {
   "cell_type": "markdown",
   "id": "27378994",
   "metadata": {},
   "source": [
    "## 复杂度"
   ]
  },
  {
   "cell_type": "markdown",
   "id": "336a0dba",
   "metadata": {},
   "source": [
    "- 时间复杂度: $O(n)$ ，其中 $n$ 是数组 nums 的长度。"
   ]
  },
  {
   "cell_type": "markdown",
   "id": "6ade9a71",
   "metadata": {},
   "source": [
    "> 求 preSumArr 消耗 $O(n)$ 。preSumArr 每个下标会入 q 一次，最多出 q 一次。"
   ]
  },
  {
   "cell_type": "markdown",
   "id": "aed116da",
   "metadata": {},
   "source": [
    "- 空间复杂度: $O(n)$ ，其中 $n$ 是数组 nums 的长度。"
   ]
  },
  {
   "cell_type": "markdown",
   "id": "7764d22f",
   "metadata": {},
   "source": [
    "> preSumArr 和 q 长度均为 $O(n)$ 。"
   ]
  },
  {
   "cell_type": "markdown",
   "id": "25b74acf",
   "metadata": {},
   "source": [
    "## 代码"
   ]
  },
  {
   "cell_type": "code",
   "execution_count": 1,
   "id": "13bb1956",
   "metadata": {},
   "outputs": [],
   "source": [
    "from collections import deque"
   ]
  },
  {
   "cell_type": "code",
   "execution_count": 2,
   "id": "104ba7fa",
   "metadata": {},
   "outputs": [],
   "source": [
    "def shortestSubarray(nums, k):\n",
    "    \n",
    "    preSumArr = [0]  # 用于保存每个数的前缀和\n",
    "    res = len(nums) + 1  # 记录最短子数组的长度\n",
    "    \n",
    "    # 遍历数组，记录每个数的前缀和\n",
    "    for num in nums:\n",
    "        preSumArr.append(preSumArr[-1] + num)\n",
    "    \n",
    "    q = deque()  # 双端队列，用于储存访问过的前缀和的序号\n",
    "    \n",
    "    # 遍历所有前缀和，curSum表示当前前缀和、i表示前缀和的序号\n",
    "    for i, curSum in enumerate(preSumArr):\n",
    "        \n",
    "        # 对于每个前缀和：遍历q，计算当前前缀和与q中左端前缀和的差值（若其不满足要求，则后续前缀和也不可能满足要求），若差值大于等于k，则找到一个满足条件的子数组\n",
    "        while q and curSum - preSumArr[q[0]] >= k:\n",
    "            # 对于满足条件的子数组，从q中将左端前缀和删除\n",
    "            # 且若当前子数组长度为最优，将其记录下来\n",
    "            res = min(res, i - q.popleft())\n",
    "        \n",
    "        # 为了保证q中只存储最可能满足答案的前缀和，进行以下操作\n",
    "        # 若当前前缀和小于等于q中的右端前缀和，则将q中右端前缀和删除，重复这一过程直至当前前缀和大于q中右端前缀和\n",
    "        # 这是因为：q中的前缀和只可能在后续作为减数（减号右边的），而越小的减数越可能满足答案，因此删除大于等于当前前缀和的数\n",
    "        # 这一操作同样保证了q中的前缀和是从左到右依次递增的，靠左的前缀和更可能满足答案，因此计算子数组和时先将最左端前缀和作为减数\n",
    "        while q and preSumArr[q[-1]] >= curSum:\n",
    "            q.pop()\n",
    "        \n",
    "        # 将当前前缀和的序号加入双端队列右端\n",
    "        q.append(i)\n",
    "        \n",
    "    return res if res < len(nums) + 1 else -1"
   ]
  },
  {
   "cell_type": "markdown",
   "id": "450505a8",
   "metadata": {},
   "source": [
    "#### 测试一"
   ]
  },
  {
   "cell_type": "code",
   "execution_count": 3,
   "id": "96cc6b9c",
   "metadata": {},
   "outputs": [
    {
     "data": {
      "text/plain": [
       "1"
      ]
     },
     "execution_count": 3,
     "metadata": {},
     "output_type": "execute_result"
    }
   ],
   "source": [
    "nums = [1]\n",
    "k = 1\n",
    "shortestSubarray(nums, k)"
   ]
  },
  {
   "cell_type": "markdown",
   "id": "9c6bd45b",
   "metadata": {},
   "source": [
    "#### 测试二"
   ]
  },
  {
   "cell_type": "code",
   "execution_count": 4,
   "id": "19278401",
   "metadata": {},
   "outputs": [
    {
     "data": {
      "text/plain": [
       "-1"
      ]
     },
     "execution_count": 4,
     "metadata": {},
     "output_type": "execute_result"
    }
   ],
   "source": [
    "nums = [1,2]\n",
    "k = 4\n",
    "shortestSubarray(nums, k)"
   ]
  },
  {
   "cell_type": "code",
   "execution_count": null,
   "id": "3e1106d3",
   "metadata": {},
   "outputs": [],
   "source": []
  }
 ],
 "metadata": {
  "kernelspec": {
   "display_name": "Python 3",
   "language": "python",
   "name": "python3"
  },
  "language_info": {
   "codemirror_mode": {
    "name": "ipython",
    "version": 3
   },
   "file_extension": ".py",
   "mimetype": "text/x-python",
   "name": "python",
   "nbconvert_exporter": "python",
   "pygments_lexer": "ipython3",
   "version": "3.7.4"
  }
 },
 "nbformat": 4,
 "nbformat_minor": 5
}
