{
 "cells": [
  {
   "cell_type": "markdown",
   "id": "80fbd9b5",
   "metadata": {},
   "source": [
    "# 题目"
   ]
  },
  {
   "cell_type": "markdown",
   "id": "e3de640a",
   "metadata": {},
   "source": [
    "> 路径被定义为一条从树中任意节点出发，沿父节点-子节点连接，达到任意节点的序列。同一个节点在一条路径序列中至多出现一次。该路径至少包含一个节点，且不一定经过根节点。  \n",
    "路径和是路径中各节点值的总和。  \n",
    "给你一个二叉树的根节点 root ，返回其最大路径和。"
   ]
  },
  {
   "cell_type": "markdown",
   "id": "cb6514fc",
   "metadata": {},
   "source": [
    "# 方法一：递归 + 后序遍历"
   ]
  },
  {
   "cell_type": "markdown",
   "id": "4fb10cab",
   "metadata": {},
   "source": [
    "> 通过递归的方式计算每个节点的贡献值：\n",
    "1. 基本情况：若该节点为空节点，则贡献值为0；\n",
    "2. 若该节点不为空节点，贡献值=自身值+左右子节点中贡献值较大者；\n",
    "3. 此外，对于任意节点来说，当期贡献值小于0时，最大路径不会包含以该节点为根节点的子树。因此，最大贡献值在计算时，应当与0作比较，选取其中较大者。\n",
    "\n",
    "> 考虑到需要先计算子节点的贡献值，才能知道父节点的贡献值，因此采取后序遍历的方法。  \n",
    "从叶子节点开始，一路向上计算贡献值，同时使用一个初始值为 -∞ 的变量记录最大路径和。  \n",
    "在递归过程中，对于每个节点来说，若其贡献值大于当前的最大路径和，则说明该节点需要加入到最大路径当中，用其贡献值更新最大路径和。  \n",
    "一路递归到根节点便可得到最大路径和。"
   ]
  },
  {
   "cell_type": "markdown",
   "id": "6bb8e2b5",
   "metadata": {},
   "source": [
    "## 复杂度"
   ]
  },
  {
   "cell_type": "markdown",
   "id": "ea66ae8d",
   "metadata": {},
   "source": [
    "- 时间复杂度: $O(n)$ ，其中 $n$ 是二叉树中的节点个数。"
   ]
  },
  {
   "cell_type": "markdown",
   "id": "768b702b",
   "metadata": {},
   "source": [
    "> 对每个节点访问不超过 2 次。"
   ]
  },
  {
   "cell_type": "markdown",
   "id": "84092eb8",
   "metadata": {},
   "source": [
    "- 空间复杂度: $O(n)$ ，其中 $n$ 是二叉树中的节点个数。"
   ]
  },
  {
   "cell_type": "markdown",
   "id": "64a2b6fa",
   "metadata": {},
   "source": [
    "> 空间复杂度主要取决于递归调用层数，最大层数等于二叉树的高度，最坏情况下，二叉树的高度等于二叉树中的节点个数。"
   ]
  },
  {
   "cell_type": "markdown",
   "id": "02109ee9",
   "metadata": {},
   "source": [
    "## 代码"
   ]
  },
  {
   "cell_type": "code",
   "execution_count": 1,
   "id": "18eb4bfa",
   "metadata": {},
   "outputs": [],
   "source": [
    "class TreeNode:\n",
    "    def __init__(self, val=0, left=None, right=None):\n",
    "        self.val = val\n",
    "        self.left = left\n",
    "        self.right = right"
   ]
  },
  {
   "cell_type": "code",
   "execution_count": 2,
   "id": "aef0d2f3",
   "metadata": {},
   "outputs": [],
   "source": [
    "class Solution:\n",
    "    def __init__(self):\n",
    "        self.maxSum = float(\"-inf\")\n",
    "\n",
    "    def maxPathSum(self, root):\n",
    "        def maxGain(node):\n",
    "            if not node:\n",
    "                return 0\n",
    "\n",
    "            # 后续遍历\n",
    "            # 递归计算左右子节点的最大贡献值\n",
    "            # 只有在最大贡献值大于 0 时，才会选取对应子节点\n",
    "            leftGain = max(maxGain(node.left), 0)\n",
    "            rightGain = max(maxGain(node.right), 0)\n",
    "            \n",
    "            # 节点的最大路径和取决于该节点的值与该节点的左右子节点的最大贡献值\n",
    "            priceNewpath = node.val + leftGain + rightGain\n",
    "            \n",
    "            # 更新答案\n",
    "            self.maxSum = max(self.maxSum, priceNewpath)\n",
    "        \n",
    "            # 返回节点的最大贡献值\n",
    "            return node.val + max(leftGain, rightGain)\n",
    "   \n",
    "        maxGain(root)\n",
    "        return self.maxSum"
   ]
  },
  {
   "cell_type": "markdown",
   "id": "52576035",
   "metadata": {},
   "source": [
    "#### 测试一"
   ]
  },
  {
   "cell_type": "code",
   "execution_count": 3,
   "id": "848675a7",
   "metadata": {},
   "outputs": [
    {
     "data": {
      "text/plain": [
       "42"
      ]
     },
     "execution_count": 3,
     "metadata": {},
     "output_type": "execute_result"
    }
   ],
   "source": [
    "N2_3 = TreeNode(val=15, left=None, right=None)\n",
    "N2_4 = TreeNode(val=7, left=None, right=None)\n",
    "N1_1 = TreeNode(val=9, left=None, right=None)\n",
    "N1_2 = TreeNode(val=20, left=N2_3, right=N2_4)\n",
    "root = TreeNode(val=-10, left=N1_1, right=N1_2)\n",
    "\n",
    "test = Solution()\n",
    "test.maxPathSum(root)"
   ]
  },
  {
   "cell_type": "code",
   "execution_count": null,
   "id": "1f71c75d",
   "metadata": {},
   "outputs": [],
   "source": []
  }
 ],
 "metadata": {
  "kernelspec": {
   "display_name": "Python 3",
   "language": "python",
   "name": "python3"
  },
  "language_info": {
   "codemirror_mode": {
    "name": "ipython",
    "version": 3
   },
   "file_extension": ".py",
   "mimetype": "text/x-python",
   "name": "python",
   "nbconvert_exporter": "python",
   "pygments_lexer": "ipython3",
   "version": "3.7.4"
  }
 },
 "nbformat": 4,
 "nbformat_minor": 5
}
