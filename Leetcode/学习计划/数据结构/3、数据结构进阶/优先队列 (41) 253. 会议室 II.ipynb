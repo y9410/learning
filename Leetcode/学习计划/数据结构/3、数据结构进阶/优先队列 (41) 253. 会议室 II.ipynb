{
 "cells": [
  {
   "cell_type": "markdown",
   "id": "c48e8cce",
   "metadata": {},
   "source": [
    "# 题目"
   ]
  },
  {
   "cell_type": "markdown",
   "id": "8d7aad75",
   "metadata": {},
   "source": [
    "> 给你一个会议时间安排的数组 intervals ，每个会议时间都会包括开始和结束的时间 intervals[i] = [starti, endi] ，返回所需会议室的最小数量。"
   ]
  },
  {
   "cell_type": "markdown",
   "id": "68a5b6fb",
   "metadata": {},
   "source": [
    "# 方法一：优先队列"
   ]
  },
  {
   "cell_type": "markdown",
   "id": "ad41b6ed",
   "metadata": {},
   "source": [
    "> 第一步：按照开始时间对会议进行排序。   \n",
    "第二步：初始化一个新的最小堆，将第一个会议的结束时间加入到堆中。我们只需要记录会议的结束时间，告诉我们什么时候房间会空。最小堆保证了堆顶的会议结束时间最早。  \n",
    "第三步：对每个会议，检查堆的最小元素（即堆顶部的房间）是否空闲。由于是最小堆，因此若堆顶房间（结束时间最早）都不空闲，则其余会议肯定也没有结束。  \n",
    "a. 若房间空闲，则从堆顶拿出该元素，将其改为我们处理的会议的结束时间，加回到堆中。  \n",
    "b. 若房间不空闲。开新房间，并加入到堆中。  \n",
    "第四步：处理完所有会议后，堆的大小即为开的房间数量。这就是容纳这些会议需要的最小房间数。"
   ]
  },
  {
   "cell_type": "markdown",
   "id": "357cb5d5",
   "metadata": {},
   "source": [
    "## 复杂度"
   ]
  },
  {
   "cell_type": "markdown",
   "id": "db2040ad",
   "metadata": {},
   "source": [
    "- 时间复杂度: $O(nlogn)$ ，其中 $n$ 是数组 intervals 的长度。"
   ]
  },
  {
   "cell_type": "markdown",
   "id": "9bcba6c4",
   "metadata": {},
   "source": [
    "> 时间开销主要有两部分：  \n",
    "第一部分是数组的排序过程，数组中有 n 个元素，消耗 $O(nlogn)$ 的时间；  \n",
    "第二部分是最小堆占用的时间。在最坏的情况下，全部 n 个会议都会互相冲突。在任何情况下，都要向堆执行 n 次插入操作。在最坏的情况下，要对堆进行 n 次查找并删除最小值操作。总的时间复杂度为 $O(nlogn)$ ，因为查找并删除最小值操作只消耗 $O(logn)$ 的时间。"
   ]
  },
  {
   "cell_type": "markdown",
   "id": "740c0931",
   "metadata": {},
   "source": [
    "- 空间复杂度: $O(n)$ ，其中 $n$ 是数组 intervals 的长度。"
   ]
  },
  {
   "cell_type": "markdown",
   "id": "62730d7d",
   "metadata": {},
   "source": [
    "> 额外空间用于建立最小堆。在最坏的情况下，堆需要容纳全部 n 个元素。"
   ]
  },
  {
   "cell_type": "markdown",
   "id": "e279e86c",
   "metadata": {},
   "source": [
    "## 代码"
   ]
  },
  {
   "cell_type": "code",
   "execution_count": 1,
   "id": "0832bc56",
   "metadata": {},
   "outputs": [],
   "source": [
    "import heapq"
   ]
  },
  {
   "cell_type": "code",
   "execution_count": 2,
   "id": "87ae10de",
   "metadata": {},
   "outputs": [],
   "source": [
    "class Solution:\n",
    "    def minMeetingRooms(self, intervals):\n",
    "\n",
    "        # 输入数组为空\n",
    "        if not intervals:\n",
    "            return 0\n",
    "\n",
    "        # 初始化一个小根堆（列表元素从左到右依次递增）\n",
    "        free_rooms = []\n",
    "\n",
    "        # 按照开始时间对输入数组排序\n",
    "        intervals.sort(key = lambda x: x[0])\n",
    "\n",
    "        # 将第一场会议的结束时间压入堆，heappush保证了堆顶元素（列表最前端）最小\n",
    "        heapq.heappush(free_rooms, intervals[0][1])\n",
    "\n",
    "        # 从第二场会议开始遍历所有会议\n",
    "        for i in intervals[1:]:\n",
    "\n",
    "            # 若当前会议的起始时间在堆顶元素（最早的结束时间）之后，说明有空闲会议室，将其移除\n",
    "            if free_rooms[0] <= i[0]:\n",
    "                heapq.heappop(free_rooms)\n",
    "\n",
    "            # 否则，说明当前没有空闲会议室，需要开一个新会议室\n",
    "            # 将当前会议的结束时间压入堆，并依然维持小根堆的特性\n",
    "            heapq.heappush(free_rooms, i[1])\n",
    "\n",
    "        # 遍历结束后，堆的长度即为最少会议室数目\n",
    "        return len(free_rooms)"
   ]
  },
  {
   "cell_type": "markdown",
   "id": "616069a2",
   "metadata": {},
   "source": [
    "#### 测试一"
   ]
  },
  {
   "cell_type": "code",
   "execution_count": 3,
   "id": "8158348e",
   "metadata": {},
   "outputs": [
    {
     "data": {
      "text/plain": [
       "2"
      ]
     },
     "execution_count": 3,
     "metadata": {},
     "output_type": "execute_result"
    }
   ],
   "source": [
    "intervals = [[0,30],[5,10],[15,20]]\n",
    "\n",
    "test = Solution()\n",
    "test.minMeetingRooms(intervals)"
   ]
  },
  {
   "cell_type": "markdown",
   "id": "82746778",
   "metadata": {},
   "source": [
    "#### 测试二"
   ]
  },
  {
   "cell_type": "code",
   "execution_count": 4,
   "id": "3db14c1a",
   "metadata": {},
   "outputs": [
    {
     "data": {
      "text/plain": [
       "1"
      ]
     },
     "execution_count": 4,
     "metadata": {},
     "output_type": "execute_result"
    }
   ],
   "source": [
    "intervals = [[7,10],[2,4]]\n",
    "\n",
    "test = Solution()\n",
    "test.minMeetingRooms(intervals)"
   ]
  },
  {
   "cell_type": "code",
   "execution_count": null,
   "id": "315f9bd0",
   "metadata": {},
   "outputs": [],
   "source": []
  }
 ],
 "metadata": {
  "kernelspec": {
   "display_name": "Python 3",
   "language": "python",
   "name": "python3"
  },
  "language_info": {
   "codemirror_mode": {
    "name": "ipython",
    "version": 3
   },
   "file_extension": ".py",
   "mimetype": "text/x-python",
   "name": "python",
   "nbconvert_exporter": "python",
   "pygments_lexer": "ipython3",
   "version": "3.7.4"
  }
 },
 "nbformat": 4,
 "nbformat_minor": 5
}
