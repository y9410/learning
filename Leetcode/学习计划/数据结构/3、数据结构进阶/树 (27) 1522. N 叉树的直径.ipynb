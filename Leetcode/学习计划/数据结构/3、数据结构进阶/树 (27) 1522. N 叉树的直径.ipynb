{
 "cells": [
  {
   "cell_type": "markdown",
   "id": "b9c82361",
   "metadata": {},
   "source": [
    "# 题目"
   ]
  },
  {
   "cell_type": "markdown",
   "id": "9e3570d3",
   "metadata": {},
   "source": [
    "> 给定一棵 N 叉树的根节点 root ，计算这棵树的直径长度。  \n",
    "N 叉树的直径指的是树中任意两个节点间路径中最长路径的长度。这条路径可能经过根节点，也可能不经过根节点。  \n",
    "（N 叉树的输入序列以层序遍历的形式给出，每组子节点用 null 分隔）"
   ]
  },
  {
   "cell_type": "markdown",
   "id": "9fe96a55",
   "metadata": {},
   "source": [
    "# 方法一：深度优先搜索"
   ]
  },
  {
   "cell_type": "markdown",
   "id": "c54e7754",
   "metadata": {},
   "source": [
    "> 树的最大直径由某个节点的两个不重叠的最深子树决定。因此DFS遍历时，当遇到一个node，树的最大直径可能有两种情况：\n",
    "1. 最大直径出现在以此node的两个子树中，即最大直径是此node最深的两个子树深度之和；\n",
    "2. 最大直径不出现在上述情况，那么这个node可能对最大直径的贡献，就是这个node最深的子树。\n",
    "\n",
    "> 因此，使用这个node最深的两个子树深度，更新一下当前统计到的最大直径，然后返回这个node的最大子树深度，以便后续的统计中使用。"
   ]
  },
  {
   "cell_type": "markdown",
   "id": "33368c15",
   "metadata": {},
   "source": [
    "## 复杂度"
   ]
  },
  {
   "cell_type": "markdown",
   "id": "cc8d8d28",
   "metadata": {},
   "source": [
    "- 时间复杂度: $O(n)$ ，其中 $n$ 是N叉树中的节点个数。"
   ]
  },
  {
   "cell_type": "markdown",
   "id": "ab10872e",
   "metadata": {},
   "source": [
    "> 要遍历N叉树一次"
   ]
  },
  {
   "cell_type": "markdown",
   "id": "7b851899",
   "metadata": {},
   "source": [
    "- 空间复杂度: $O(n)$ ，其中 $n$ 是N叉树中的节点个数。"
   ]
  },
  {
   "cell_type": "markdown",
   "id": "93af1ba2",
   "metadata": {},
   "source": [
    "> 递归使用的栈空间。"
   ]
  },
  {
   "cell_type": "markdown",
   "id": "1862f402",
   "metadata": {},
   "source": [
    "## 代码"
   ]
  },
  {
   "cell_type": "code",
   "execution_count": 1,
   "id": "643fe550",
   "metadata": {},
   "outputs": [],
   "source": [
    "class Node:\n",
    "    def __init__(self, val=None, children=None):\n",
    "        self.val = val\n",
    "        self.children = children if children is not None else []"
   ]
  },
  {
   "cell_type": "code",
   "execution_count": 2,
   "id": "b5a633a1",
   "metadata": {},
   "outputs": [],
   "source": [
    "def diameter(root):\n",
    "    \n",
    "    # 函数外的变量在函数里如果不事先作为参数，则不能使用赋值操作\n",
    "    maxdist = []  # 记录距离(必须使用列表，使用变量存在局部变量与全局变量冲突的问题)\n",
    "\n",
    "    # 使用DFS搜索，在搜索过程中更新最深子树和第二深子树，函数返回当前节点的最深子树深度\n",
    "    def DFS(root):\n",
    "        \n",
    "        # 基本情况\n",
    "        if not root: \n",
    "            return 0\n",
    "        if not root.children: \n",
    "            return 1\n",
    "\n",
    "        childNum = len(root.children)  # 记录当前节点的子节点个数\n",
    "        dist = [0] * childNum  # 用一个列表记录当前节点所有子节点各自的最深子树距离\n",
    "        maxD, secmaxD = 0, 0  # 记录前二深的子树\n",
    "        \n",
    "        for i in range(childNum):\n",
    "            dist[i] = DFS(root.children[i])  # 递归，探索更深的节点\n",
    "            \n",
    "            # 对每个子节点，找到其最深的两个子树\n",
    "            if dist[i] > maxD:\n",
    "                maxD, secmaxD = dist[i], maxD\n",
    "            elif dist[i] > secmaxD:\n",
    "                secmaxD = dist[i]\n",
    "        \n",
    "        maxdist.append(maxD + secmaxD)\n",
    "        return maxD + 1  # 最深子树距离还得加上当前节点\n",
    "\n",
    "    DFS(root)\n",
    "    maxdistance = max(maxdist)\n",
    "    return maxdistance"
   ]
  },
  {
   "cell_type": "markdown",
   "id": "f17f3c8b",
   "metadata": {},
   "source": [
    "#### 测试一"
   ]
  },
  {
   "cell_type": "code",
   "execution_count": 3,
   "id": "d7d9d975",
   "metadata": {},
   "outputs": [
    {
     "data": {
      "text/plain": [
       "3"
      ]
     },
     "execution_count": 3,
     "metadata": {},
     "output_type": "execute_result"
    }
   ],
   "source": [
    "N2_1 = Node(val=5, children=None)\n",
    "N2_2 = Node(val=6, children=None)\n",
    "N1_1 = Node(val=3, children=None)\n",
    "N1_2 = Node(val=2, children=None)\n",
    "N1_3 = Node(val=4, children=[N2_1, N2_2])\n",
    "root = Node(val=1, children=[N1_1, N1_2, N1_3])\n",
    "\n",
    "diameter(root)"
   ]
  },
  {
   "cell_type": "markdown",
   "id": "b56e66e7",
   "metadata": {},
   "source": [
    "#### 测试二"
   ]
  },
  {
   "cell_type": "code",
   "execution_count": 4,
   "id": "648dfa82",
   "metadata": {},
   "outputs": [
    {
     "data": {
      "text/plain": [
       "4"
      ]
     },
     "execution_count": 4,
     "metadata": {},
     "output_type": "execute_result"
    }
   ],
   "source": [
    "N3_1 = Node(val=5, children=None)\n",
    "N3_2 = Node(val=6, children=None)\n",
    "N2_1 = Node(val=3, children=[N3_1])\n",
    "N2_2 = Node(val=4, children=[N3_2])\n",
    "N1_1 = Node(val=2, children=[N2_1, N2_2])\n",
    "root = Node(val=1, children=[N1_1])\n",
    "\n",
    "diameter(root)"
   ]
  },
  {
   "cell_type": "code",
   "execution_count": null,
   "id": "84d57689",
   "metadata": {},
   "outputs": [],
   "source": []
  }
 ],
 "metadata": {
  "kernelspec": {
   "display_name": "Python 3",
   "language": "python",
   "name": "python3"
  },
  "language_info": {
   "codemirror_mode": {
    "name": "ipython",
    "version": 3
   },
   "file_extension": ".py",
   "mimetype": "text/x-python",
   "name": "python",
   "nbconvert_exporter": "python",
   "pygments_lexer": "ipython3",
   "version": "3.7.4"
  }
 },
 "nbformat": 4,
 "nbformat_minor": 5
}
