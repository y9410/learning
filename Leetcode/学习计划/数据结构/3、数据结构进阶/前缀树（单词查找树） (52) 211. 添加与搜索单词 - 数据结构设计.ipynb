{
 "cells": [
  {
   "cell_type": "markdown",
   "id": "6cb6454d",
   "metadata": {},
   "source": [
    "# 题目"
   ]
  },
  {
   "cell_type": "markdown",
   "id": "99f33fa8",
   "metadata": {},
   "source": [
    "> 请你设计一个数据结构，支持添加新单词和查找字符串是否与任何先前添加的字符串匹配。  \n",
    "实现词典类 WordDictionary ：  \n",
    "- WordDictionary() 初始化词典对象。\n",
    "- void addWord(word) 将 word 添加到数据结构中，之后可以对它进行匹配。\n",
    "- bool search(word) 如果数据结构中存在字符串与 word 匹配，则返回 true ；否则，返回  false 。word 中可能包含一些 '.' ，每个 . 都可以表示任何一个字母。"
   ]
  },
  {
   "cell_type": "markdown",
   "id": "3616251a",
   "metadata": {},
   "source": [
    "# 方法一：字典树"
   ]
  },
  {
   "cell_type": "markdown",
   "id": "1e445fed",
   "metadata": {},
   "source": [
    "> **字典树**  \n",
    "字典树（前缀树）是一种树形数据结构，用于高效地存储和检索字符串数据集中的键。前缀树可以用 $O(|S|)$ 的时间复杂度完成如下操作，其中 $|S|$ 是插入字符串或查询前缀的长度：  \n",
    "- 向字典树中插入字符串 word\\textit{word}word；\n",
    "- 查询字符串 word\\textit{word}word 是否已经插入到字典树中。\n",
    "\n",
    "> **思路**  \n",
    "根据题意， WordDictionary 类需要支持添加单词和搜索单词的操作，可以使用字典树实现。  \n",
    "1、对于添加单词，将单词添加到字典树中即可。  \n",
    "2、对于搜索单词，从字典树的根结点开始搜索。由于待搜索的单词可能包含点号，因此在搜索过程中需要考虑点号的处理。对于当前字符是字母和点号的情况，分别按照如下方式处理：  \n",
    "2-a. 如果当前字符是字母，则判断当前字符对应的子结点是否存在，如果子结点存在则移动到子结点，继续搜索下一个字符，如果子结点不存在则说明单词不存在，返回 false ；  \n",
    "2-b. 如果当前字符是点号，由于点号可以表示任何字母，因此需要对当前结点的所有非空子结点继续搜索下一个字符。  \n",
    "重复上述步骤，直到返回 false 或搜索完给定单词的最后一个字符。  \n",
    "如果搜索完给定的单词的最后一个字符，则当搜索到的最后一个结点的 isEnd 为 true 时，给定的单词存在。  \n",
    "特别地，当搜索到点号时，只要存在一个非空子结点可以搜索到给定的单词，即返回 true 。  "
   ]
  },
  {
   "cell_type": "markdown",
   "id": "5ef6967b",
   "metadata": {},
   "source": [
    "## 复杂度"
   ]
  },
  {
   "cell_type": "markdown",
   "id": "d1e1e0f1",
   "metadata": {},
   "source": [
    "- 时间复杂度: 初始化为 $O(1)$ ，添加单词为 $O(|S|)$ ，搜索单词为 $O\\left(|\\Sigma|^{|S|}\\right)$ ，其中 $|S|$ 是每次添加或搜索的单词的长度， $|\\Sigma|$ 是字符集，本题中为26。"
   ]
  },
  {
   "cell_type": "markdown",
   "id": "b2c8f802",
   "metadata": {},
   "source": [
    "> 最坏情况下，待搜索的单词中的每个字符都是点号，则每个字符都有 $|\\Sigma|$ 种可能。"
   ]
  },
  {
   "cell_type": "markdown",
   "id": "607aefdb",
   "metadata": {},
   "source": [
    "- 空间复杂度:：$O(|T|⋅|\\Sigma|)$，其中 $|T|$ 为所有添加的单词的长度之和， $|\\Sigma|$ 为字符集的大小。"
   ]
  },
  {
   "cell_type": "markdown",
   "id": "5756d266",
   "metadata": {},
   "source": [
    ">  $|\\Sigma|=26$ 。 "
   ]
  },
  {
   "cell_type": "markdown",
   "id": "7a3b783c",
   "metadata": {},
   "source": [
    "## 代码"
   ]
  },
  {
   "cell_type": "code",
   "execution_count": 1,
   "id": "39f9d0ad",
   "metadata": {},
   "outputs": [],
   "source": [
    "# 字典树的节点\n",
    "class TrieNode:\n",
    "    def __init__(self):\n",
    "        self.children = [None] * 26\n",
    "        self.isEnd = False\n",
    "\n",
    "    def insert(self, word):\n",
    "        node = self\n",
    "        for ch in word:\n",
    "            ch = ord(ch) - ord('a')\n",
    "            if not node.children[ch]:\n",
    "                node.children[ch] = TrieNode()\n",
    "            node = node.children[ch]\n",
    "        node.isEnd = True\n",
    "\n",
    "# 解法\n",
    "class WordDictionary:\n",
    "    # 初始化为字典树的根节点\n",
    "    def __init__(self):\n",
    "        self.trieRoot = TrieNode()\n",
    "\n",
    "    # 向字典中插入一个单词\n",
    "    def addWord(self, word):\n",
    "        self.trieRoot.insert(word)\n",
    "\n",
    "    # 搜索某个单词是否存在于字典中\n",
    "    def search(self, word):\n",
    "        # 深度优先搜索，返回一个布尔值\n",
    "        def dfs(index, node):  # index为树的层数（根节点位于第0层），每一层代表word中的一个字符；node为代表当前字符的节点的父节点（因为根节点不代表任何字符）\n",
    "            \n",
    "            # 基本情况：若当前层数等于单词长度，则查看当前字符是否为最后一个字符\n",
    "            if index == len(word):\n",
    "                return node.isEnd\n",
    "            \n",
    "            ch = word[index]\n",
    "            \n",
    "            # 若当前字符为小写字母\n",
    "            if ch != '.':\n",
    "                # 移动到代表该字符的子节点\n",
    "                child = node.children[ord(ch) - ord('a')]\n",
    "                # 若子节点存在，继续向更深层探索\n",
    "                if child is not None and dfs(index + 1, child):\n",
    "                    return True\n",
    "            # 若当前字符为'.'\n",
    "            else:\n",
    "                # 则遍历26个子节点\n",
    "                for child in node.children:\n",
    "                    # 并探索其中所有存在的子节点\n",
    "                    if child is not None and dfs(index + 1, child):\n",
    "                        return True\n",
    "            \n",
    "            # 若在dfs过程中不返回True，则返回False\n",
    "            return False\n",
    "\n",
    "        # 从第0层的根节点开始向下探索\n",
    "        return dfs(0, self.trieRoot)"
   ]
  },
  {
   "cell_type": "markdown",
   "id": "eb0ff673",
   "metadata": {},
   "source": [
    "#### 测试一"
   ]
  },
  {
   "cell_type": "code",
   "execution_count": 3,
   "id": "5e8f3d41",
   "metadata": {},
   "outputs": [
    {
     "name": "stdout",
     "output_type": "stream",
     "text": [
      "False\n",
      "True\n",
      "True\n",
      "True\n"
     ]
    }
   ],
   "source": [
    "wordDictionary = WordDictionary()\n",
    "wordDictionary.addWord(\"bad\")\n",
    "wordDictionary.addWord(\"dad\")\n",
    "wordDictionary.addWord(\"mad\")\n",
    "print(wordDictionary.search(\"pad\"))\n",
    "print(wordDictionary.search(\"bad\"))\n",
    "print(wordDictionary.search(\".ad\"))\n",
    "print(wordDictionary.search(\"b..\"))"
   ]
  },
  {
   "cell_type": "code",
   "execution_count": null,
   "id": "7f392e37",
   "metadata": {},
   "outputs": [],
   "source": []
  }
 ],
 "metadata": {
  "kernelspec": {
   "display_name": "Python 3",
   "language": "python",
   "name": "python3"
  },
  "language_info": {
   "codemirror_mode": {
    "name": "ipython",
    "version": 3
   },
   "file_extension": ".py",
   "mimetype": "text/x-python",
   "name": "python",
   "nbconvert_exporter": "python",
   "pygments_lexer": "ipython3",
   "version": "3.7.4"
  }
 },
 "nbformat": 4,
 "nbformat_minor": 5
}
