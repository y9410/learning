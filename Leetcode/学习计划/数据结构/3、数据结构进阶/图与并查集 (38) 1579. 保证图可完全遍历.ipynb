{
 "cells": [
  {
   "cell_type": "markdown",
   "id": "1102d5c7",
   "metadata": {},
   "source": [
    "# 题目"
   ]
  },
  {
   "cell_type": "markdown",
   "id": "4525f9ec",
   "metadata": {},
   "source": [
    "> Alice 和 Bob 共有一个无向图，其中包含 n 个节点和 3  种类型的边：  \n",
    "类型 1：只能由 Alice 遍历。  \n",
    "类型 2：只能由 Bob 遍历。  \n",
    "类型 3：Alice 和 Bob 都可以遍历。  \n",
    "给你一个数组 edges ，其中 edges[i] = [typei, ui, vi] 表示节点 ui 和 vi 之间存在类型为 typei 的双向边。请你在保证图仍能够被 Alice和 Bob 完全遍历的前提下，找出可以删除的最大边数。如果从任何节点开始，Alice 和 Bob 都可以到达所有其他节点，则认为图是可以完全遍历的。  \n",
    "返回可以删除的最大边数，如果 Alice 和 Bob 无法完全遍历图，则返回 -1 。"
   ]
  },
  {
   "cell_type": "markdown",
   "id": "8e0e761e",
   "metadata": {},
   "source": [
    "# 方法一：并查集"
   ]
  },
  {
   "cell_type": "markdown",
   "id": "04968e12",
   "metadata": {},
   "source": [
    "> 类型 1,2,3 分别为「Alice 独占边」「Bob 独占边」以及「公共边」。  \n",
    "对于每个人来说，都需要仅通过独占边和公共边将所有节点连接到一个集合中。删除最多的边相当于保留最少的边，因此可以先将所有边去掉，只剩下节点，然后在将边添加进入。  \n",
    "因为公共边对两个人都有效，因此严格优于独占边，先添加公共边，在分别添加两者的独占边。  \n",
    "最终，若两者的图中都被连通，则返回答案，否则返回-1。"
   ]
  },
  {
   "cell_type": "markdown",
   "id": "09a5c108",
   "metadata": {},
   "source": [
    "## 复杂度"
   ]
  },
  {
   "cell_type": "markdown",
   "id": "ff615d57",
   "metadata": {},
   "source": [
    "- 时间复杂度: $O(m\\alpha(n))$ ，其中 $m$ 是数组 edges 的长度， $n$ 是节点的个数， $\\alpha$ 是阿克曼函数的反函数。"
   ]
  },
  {
   "cell_type": "markdown",
   "id": "f2b8ccc1",
   "metadata": {},
   "source": [
    "- 空间复杂度: $O(n)$ ，其中 $m$ 是行数， $n$ 是节点的个数。"
   ]
  },
  {
   "cell_type": "markdown",
   "id": "ff3e5a06",
   "metadata": {},
   "source": [
    "> 并查集所需的空间。"
   ]
  },
  {
   "cell_type": "markdown",
   "id": "c986e018",
   "metadata": {},
   "source": [
    "## 代码"
   ]
  },
  {
   "cell_type": "code",
   "execution_count": 1,
   "id": "2a7a3530",
   "metadata": {},
   "outputs": [],
   "source": [
    "# 并查集模板\n",
    "class UnionFind:\n",
    "    def __init__(self, n):\n",
    "        self.parent = list(range(n))  # 记录节点及其指向情况\n",
    "        self.size = [1] * n  # 记录代表元素对应的集合的大小（节点数量）\n",
    "        self.n = n\n",
    "        # 当前集合的数目（共有n个节点，彼此不连通，所以有n个集合）\n",
    "        self.setCount = n\n",
    "    \n",
    "    # 寻找某节点所属的集合的代表元素，并进行路径压缩\n",
    "    def findset(self, x):\n",
    "        if self.parent[x] == x:\n",
    "            return x\n",
    "        self.parent[x] = self.findset(self.parent[x])\n",
    "        return self.parent[x]\n",
    "    \n",
    "    # 合并两个节点所属的集合\n",
    "    def unite(self, x, y):\n",
    "        x, y = self.findset(x), self.findset(y)\n",
    "        if x == y:\n",
    "            return False\n",
    "        # 按size合并\n",
    "        if self.size[x] < self.size[y]:\n",
    "            x, y = y, x\n",
    "        self.parent[y] = x\n",
    "        self.size[x] += self.size[y]  # 更新size\n",
    "        self.setCount -= 1  # 每次合并成功，总集合数量-1\n",
    "        return True\n",
    "    \n",
    "    # 判断两个节点是否属于同一集合\n",
    "    def connected(self, x, y):\n",
    "        x, y = self.findset(x), self.findset(y)\n",
    "        return x == y\n",
    "\n",
    "# 解法\n",
    "class Solution:\n",
    "    def maxNumEdgesToRemove(self, n, edges):\n",
    "        \n",
    "        ufa, ufb = UnionFind(n), UnionFind(n)  # 分别给Alice和Bob各构建一个并查集\n",
    "        \n",
    "        ans = 0  # 可删减的边数\n",
    "        \n",
    "        # 节点编号改为从 0 开始，因此把edges列表中表示节点的数都-1\n",
    "        for edge in edges:\n",
    "            edge[1] -= 1\n",
    "            edge[2] -= 1\n",
    "\n",
    "        # 先使用公共边连接节点\n",
    "        for t, u, v in edges:\n",
    "            if t == 3:\n",
    "                # 若当前公共边对应的两个节点属于同一个集合，则说明这条边是多余的，可以删减\n",
    "                # 在判断过程中，若ufa.unite(u, v)=True，则说明公共边不多余，此时ufa和ufb都进行了合并操作（因为ufa的操作在判断时已经完成）\n",
    "                if not ufa.unite(u, v):\n",
    "                    ans += 1\n",
    "                # 否则，将两个节点连通（此时集合数-1）\n",
    "                else:\n",
    "                    ufb.unite(u, v)\n",
    "\n",
    "        # 此时的ufa和ufb是相等的，都添加完了所有的不多余公共边\n",
    "        # 再使用独占边连接节点\n",
    "        for t, u, v in edges:\n",
    "            # Alice 独占边\n",
    "            if t == 1:\n",
    "                # 判断边是否多余\n",
    "                if not ufa.unite(u, v):\n",
    "                    ans += 1\n",
    "            # Bob 独占边\n",
    "            elif t == 2:\n",
    "                # 判断边是否多余\n",
    "                if not ufb.unite(u, v):\n",
    "                    ans += 1\n",
    "        \n",
    "        # 任何一个图中的集合数多余一都说明不能遍历\n",
    "        if ufa.setCount != 1 or ufb.setCount != 1:\n",
    "            return -1\n",
    "        \n",
    "        return ans"
   ]
  },
  {
   "cell_type": "markdown",
   "id": "323f73ef",
   "metadata": {},
   "source": [
    "#### 测试一"
   ]
  },
  {
   "cell_type": "code",
   "execution_count": 2,
   "id": "22e1b5e1",
   "metadata": {},
   "outputs": [
    {
     "data": {
      "text/plain": [
       "2"
      ]
     },
     "execution_count": 2,
     "metadata": {},
     "output_type": "execute_result"
    }
   ],
   "source": [
    "n = 4\n",
    "edges = [[3,1,2],[3,2,3],[1,1,3],[1,2,4],[1,1,2],[2,3,4]]\n",
    "\n",
    "test = Solution()\n",
    "test.maxNumEdgesToRemove(n, edges)"
   ]
  },
  {
   "cell_type": "markdown",
   "id": "21f0688a",
   "metadata": {},
   "source": [
    "#### 测试二"
   ]
  },
  {
   "cell_type": "code",
   "execution_count": 3,
   "id": "b71746ac",
   "metadata": {},
   "outputs": [
    {
     "data": {
      "text/plain": [
       "0"
      ]
     },
     "execution_count": 3,
     "metadata": {},
     "output_type": "execute_result"
    }
   ],
   "source": [
    "n = 4\n",
    "edges = [[3,1,2],[3,2,3],[1,1,4],[2,1,4]]\n",
    "\n",
    "test = Solution()\n",
    "test.maxNumEdgesToRemove(n, edges)"
   ]
  },
  {
   "cell_type": "markdown",
   "id": "520f21d0",
   "metadata": {},
   "source": [
    "#### 测试三"
   ]
  },
  {
   "cell_type": "code",
   "execution_count": 4,
   "id": "655161f1",
   "metadata": {},
   "outputs": [
    {
     "data": {
      "text/plain": [
       "-1"
      ]
     },
     "execution_count": 4,
     "metadata": {},
     "output_type": "execute_result"
    }
   ],
   "source": [
    "n = 4\n",
    "edges = [[3,2,3],[1,1,2],[2,3,4]]\n",
    "\n",
    "test = Solution()\n",
    "test.maxNumEdgesToRemove(n, edges)"
   ]
  },
  {
   "cell_type": "code",
   "execution_count": null,
   "id": "234358e7",
   "metadata": {},
   "outputs": [],
   "source": []
  }
 ],
 "metadata": {
  "kernelspec": {
   "display_name": "Python 3",
   "language": "python",
   "name": "python3"
  },
  "language_info": {
   "codemirror_mode": {
    "name": "ipython",
    "version": 3
   },
   "file_extension": ".py",
   "mimetype": "text/x-python",
   "name": "python",
   "nbconvert_exporter": "python",
   "pygments_lexer": "ipython3",
   "version": "3.7.4"
  }
 },
 "nbformat": 4,
 "nbformat_minor": 5
}
