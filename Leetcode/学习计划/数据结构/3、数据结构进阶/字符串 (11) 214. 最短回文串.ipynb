{
 "cells": [
  {
   "cell_type": "markdown",
   "id": "36510187",
   "metadata": {},
   "source": [
    "# 题目"
   ]
  },
  {
   "cell_type": "markdown",
   "id": "e977ae32",
   "metadata": {},
   "source": [
    "> 给定一个字符串 s，你可以通过在字符串前面添加字符将其转换为回文串。  \n",
    "找到并返回可以用这种方式转换的最短回文串。"
   ]
  },
  {
   "cell_type": "markdown",
   "id": "f5f4cec5",
   "metadata": {},
   "source": [
    "# 方法一：KMP"
   ]
  },
  {
   "cell_type": "markdown",
   "id": "0e48290f",
   "metadata": {},
   "source": [
    "> KMP算法见'C:\\Users\\y9410\\Desktop\\学习编程\\数据结构\\KMP算法.docx'。  \n",
    "> 字符串 $s$ 可以看成前缀 $s_1$ 和后缀 $s_2$ 之和。题目的目的即是找出一个最长的回文串前缀 $s_1$ 。可以将字符串反过来作为主串，然后用正向字符串作为模式串去匹配，使用KMP算法匹配，匹配到的最长子串的长度即为回文串前缀 $s_1$ 的长度，将后缀 $s_2$ 翻转过来加到前面即可。"
   ]
  },
  {
   "cell_type": "markdown",
   "id": "2df2df11",
   "metadata": {},
   "source": [
    "## 复杂度"
   ]
  },
  {
   "cell_type": "markdown",
   "id": "5dc4d84d",
   "metadata": {},
   "source": [
    "- 时间复杂度: $O(|s|)$ ，其中 $|s|$ 为字符串 s 的长度。"
   ]
  },
  {
   "cell_type": "markdown",
   "id": "83e211b3",
   "metadata": {},
   "source": [
    "- 空间复杂度: $O(|s|)$ ，其中 $|s|$ 为字符串 s 的长度。"
   ]
  },
  {
   "cell_type": "markdown",
   "id": "0d3f5323",
   "metadata": {},
   "source": [
    "## 代码"
   ]
  },
  {
   "cell_type": "code",
   "execution_count": 1,
   "id": "740a425d",
   "metadata": {},
   "outputs": [],
   "source": [
    "def shortestPalindrome(s):\n",
    "    n = len(s)\n",
    "    fail = [-1] * n\n",
    "    \n",
    "    # 求得一个列表fail，相当于KMP中的next数组\n",
    "    # 例如s='abad'，则fail=[-1,-1,0,-1]，其中第二个a对应的0表示next[2]=0+1\n",
    "    for i in range(1, n):  \n",
    "        j = fail[i - 1]  # 前一个字符的next值（next[i-1]）\n",
    "        # 情况2：前一个字符的next值不为-1（至少有长度为1的前缀与后缀相等）且当前字符与前一个字符对应next值位置上的字符不相等（即P[i]!=P[next[i-1]]）\n",
    "        while j != -1 and s[j + 1] != s[i]:\n",
    "            # 将位置now指向P[next[i-1]]对应的next值，这个位置之前的前缀与当前字符P[i]对应的后缀相等\n",
    "            # 但此时P[i]可能还是与P[now]不等，因此需要不断向前缩短前缀，找到一个P[now]与P[i]相等\n",
    "            # 如果找不到，当前字符的next值为-1\n",
    "            j = fail[j]\n",
    "        # 情况1：当前字符与前一个字符对应next值位置上的字符相等（即P[i]=P[next[i-1]]）\n",
    "        if s[j + 1] == s[i]:\n",
    "            fail[i] = j + 1  # 当前字符的next值直接为前一字符的next值+1\n",
    "    \n",
    "    # 构建完next数组后，将字符串反过来作为主串S，用正向顺序的字符串作为模式串P去匹配\n",
    "    best = -1  # 表示前缀回文串的最大长度\n",
    "    for i in range(n - 1, -1, -1):  # 从后往前遍历字符串\n",
    "        # 只要best!=-1（best=-1说明在当前的S[i]之前没有任何字符匹配得上）或当前的P[best+1]与S[i]不等\n",
    "        while best != -1 and s[best + 1] != s[i]:\n",
    "            # 一直向前缩短前缀的长度直到P[best+1]与S[i]相等或best=-1\n",
    "            best = fail[best]\n",
    "        # 模式串P（正向字符串）与主串S（反向字符串）每匹配上1个字符，回文串长度就+1（从-1开始）\n",
    "        if s[best + 1] == s[i]:\n",
    "            best += 1\n",
    "\n",
    "    add = (\"\" if best == n - 1 else s[best+1:])\n",
    "    return add[::-1] + s"
   ]
  },
  {
   "cell_type": "code",
   "execution_count": 2,
   "id": "0af03ac6",
   "metadata": {},
   "outputs": [],
   "source": [
    "def shortestPalindrome(s):\n",
    "    n = len(s)\n",
    "    fail = [-1] * n\n",
    "    \n",
    "    # 求得一个列表fail，相当于KMP中的next数组\n",
    "    # 例如s='abad'，则fail=[-1,-1,0,-1]，其中第二个a对应的0表示next[2]=0+1\n",
    "    for i in range(1, n):  \n",
    "        j = fail[i - 1]  # 前一个字符的next值（next[i-1]）\n",
    "        # 情况2：前一个字符的next值不为-1（至少有长度为1的前缀与后缀相等）且当前字符与前一个字符对应next值位置上的字符不相等（即P[i]!=P[next[i-1]]）\n",
    "        while j != -1 and s[j + 1] != s[i]:\n",
    "            # 将位置now指向P[next[i-1]]对应的next值，这个位置之前的前缀与当前字符P[i]对应的后缀相等\n",
    "            # 但此时P[i]可能还是与P[now]不等，因此需要不断向前缩短前缀，找到一个P[now]与P[i]相等\n",
    "            # 如果找不到，当前字符的next值为-1\n",
    "            j = fail[j]\n",
    "        # 情况1：当前字符与前一个字符对应next值位置上的字符相等（即P[i]=P[next[i-1]]）\n",
    "        if s[j + 1] == s[i]:\n",
    "            fail[i] = j + 1  # 当前字符的next值直接为前一字符的next值+1\n",
    "    print('fail:{}'.format(fail))\n",
    "    # 构建完next数组后，将字符串反过来作为主串S，用正向顺序的字符串作为模式串P去匹配\n",
    "    best = -1  # 表示前缀回文串的最大长度\n",
    "    print('主串S（反向列表）={}'.format(list(reversed(s))))\n",
    "    print('模式串P（正向列表）={}'.format(list(s)))\n",
    "    for i in range(n - 1, -1, -1):  # 从后往前遍历字符串\n",
    "        # 只要best!=-1（best=-1说明在当前的S[i]之前没有任何字符匹配得上）或当前的P[best+1]与S[i]不等\n",
    "        while best != -1 and s[best + 1] != s[i]:\n",
    "            # 一直向前缩短前缀的长度直到P[best+1]与S[i]相等或best=-1\n",
    "            print('匹配失败，此时i={}'.format(i))\n",
    "            print('当前匹配主串S（反向列表）={}'.format(list(reversed(s[0:i+1]))))\n",
    "            print('当前匹配模式串P（正向列表）={}'.format(list(s[best + 1:])))\n",
    "            print('主串字符为：{}'.format(s[i]))\n",
    "            print('模式串字符为：{}'.format(s[best + 1]))\n",
    "            print('之前best={}'.format(best))\n",
    "            best = fail[best]\n",
    "            print('之后best={}'.format(best))\n",
    "            print('当前匹配主串S（反向列表）={}'.format(list(reversed(s[0:i+1]))))\n",
    "            print('当前匹配模式串P（正向列表）={}'.format(list(s[best + 1:])))\n",
    "        # 模式串P（正向字符串）与主串S（反向字符串）每匹配上1个字符，回文串长度就+1（从-1开始）\n",
    "        if s[best + 1] == s[i]:\n",
    "            print('主串字符为：{}'.format(s[i]))\n",
    "            print('模式串字符为：{}'.format(s[best + 1]))\n",
    "            best += 1\n",
    "            print('best={}'.format(best))\n",
    "\n",
    "    add = (\"\" if best == n - 1 else s[best+1:])\n",
    "    return add[::-1] + s"
   ]
  },
  {
   "cell_type": "markdown",
   "id": "31a7c6ac",
   "metadata": {},
   "source": [
    "#### 测试一"
   ]
  },
  {
   "cell_type": "code",
   "execution_count": 3,
   "id": "ef3ad913",
   "metadata": {},
   "outputs": [
    {
     "name": "stdout",
     "output_type": "stream",
     "text": [
      "fail:[-1, 0, -1, -1, -1, 0, 1, 1]\n",
      "主串S（反向列表）=['a', 'a', 'a', 'c', 'e', 'c', 'a', 'a']\n",
      "模式串P（正向列表）=['a', 'a', 'c', 'e', 'c', 'a', 'a', 'a']\n",
      "主串字符为：a\n",
      "模式串字符为：a\n",
      "best=0\n",
      "主串字符为：a\n",
      "模式串字符为：a\n",
      "best=1\n",
      "匹配失败，此时i=5\n",
      "当前匹配主串S（反向列表）=['a', 'c', 'e', 'c', 'a', 'a']\n",
      "当前匹配模式串P（正向列表）=['c', 'e', 'c', 'a', 'a', 'a']\n",
      "主串字符为：a\n",
      "模式串字符为：c\n",
      "之前best=1\n",
      "之后best=0\n",
      "当前匹配主串S（反向列表）=['a', 'c', 'e', 'c', 'a', 'a']\n",
      "当前匹配模式串P（正向列表）=['a', 'c', 'e', 'c', 'a', 'a', 'a']\n",
      "主串字符为：a\n",
      "模式串字符为：a\n",
      "best=1\n",
      "主串字符为：c\n",
      "模式串字符为：c\n",
      "best=2\n",
      "主串字符为：e\n",
      "模式串字符为：e\n",
      "best=3\n",
      "主串字符为：c\n",
      "模式串字符为：c\n",
      "best=4\n",
      "主串字符为：a\n",
      "模式串字符为：a\n",
      "best=5\n",
      "主串字符为：a\n",
      "模式串字符为：a\n",
      "best=6\n"
     ]
    },
    {
     "data": {
      "text/plain": [
       "'aaacecaaa'"
      ]
     },
     "execution_count": 3,
     "metadata": {},
     "output_type": "execute_result"
    }
   ],
   "source": [
    "s = \"aacecaaa\"\n",
    "shortestPalindrome(s)"
   ]
  },
  {
   "cell_type": "markdown",
   "id": "72695217",
   "metadata": {},
   "source": [
    "#### 测试二"
   ]
  },
  {
   "cell_type": "code",
   "execution_count": 4,
   "id": "0954b1ef",
   "metadata": {},
   "outputs": [
    {
     "name": "stdout",
     "output_type": "stream",
     "text": [
      "fail:[-1, -1, -1, -1]\n",
      "主串S（反向列表）=['d', 'c', 'b', 'a']\n",
      "模式串P（正向列表）=['a', 'b', 'c', 'd']\n",
      "主串字符为：a\n",
      "模式串字符为：a\n",
      "best=0\n"
     ]
    },
    {
     "data": {
      "text/plain": [
       "'dcbabcd'"
      ]
     },
     "execution_count": 4,
     "metadata": {},
     "output_type": "execute_result"
    }
   ],
   "source": [
    "s = \"abcd\"\n",
    "shortestPalindrome(s)"
   ]
  },
  {
   "cell_type": "code",
   "execution_count": null,
   "id": "cff70b03",
   "metadata": {},
   "outputs": [],
   "source": []
  }
 ],
 "metadata": {
  "kernelspec": {
   "display_name": "Python 3",
   "language": "python",
   "name": "python3"
  },
  "language_info": {
   "codemirror_mode": {
    "name": "ipython",
    "version": 3
   },
   "file_extension": ".py",
   "mimetype": "text/x-python",
   "name": "python",
   "nbconvert_exporter": "python",
   "pygments_lexer": "ipython3",
   "version": "3.7.4"
  }
 },
 "nbformat": 4,
 "nbformat_minor": 5
}
