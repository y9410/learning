{
 "cells": [
  {
   "cell_type": "markdown",
   "id": "28802501",
   "metadata": {},
   "source": [
    "# 题目"
   ]
  },
  {
   "cell_type": "markdown",
   "id": "f7abb307",
   "metadata": {},
   "source": [
    "> 给定一个用链表表示的非负整数， 然后将这个整数 再加上 1 。  \n",
    "这些数字的存储是这样的：最高位有效的数字位于链表的首位 head 。"
   ]
  },
  {
   "cell_type": "markdown",
   "id": "6fe9b45f",
   "metadata": {},
   "source": [
    "# 方法一：哨兵头节点"
   ]
  },
  {
   "cell_type": "markdown",
   "id": "0ec57728",
   "metadata": {},
   "source": [
    "> 由于存在进位的问题（最后一个节点为9时前面的节点需要改变），因此可以使用以下思路：找出最靠右的不是 9 的数字，将该数字加 1。然后将该数字之后所有的 9 改成 0。  \n",
    "但假如输入的整数为 99 ,则找不出不是 9 的数字。  \n",
    "为了应对这种特殊情况，可在输入头节点之前添加一个值为0的哨兵节点，以保证一定有一个不为 0 的数存在。  \n",
    "按照以上思路找到最靠右的不是 9 的数字后，将该数字加 1，并将该数字之后所有的 9 改成 0，此时若哨兵节点为 1 则返回哨兵节点，否则返回原始头节点。"
   ]
  },
  {
   "cell_type": "markdown",
   "id": "915ca1ab",
   "metadata": {},
   "source": [
    "## 复杂度"
   ]
  },
  {
   "cell_type": "markdown",
   "id": "691fb830",
   "metadata": {},
   "source": [
    "- 时间复杂度: $O(n)$ ，其中 $n$ 是输入链表的长度。"
   ]
  },
  {
   "cell_type": "markdown",
   "id": "df3567eb",
   "metadata": {},
   "source": [
    "> 最多只需遍历两遍链表。"
   ]
  },
  {
   "cell_type": "markdown",
   "id": "b24c460e",
   "metadata": {},
   "source": [
    "- 空间复杂度: $O(1)$ 。"
   ]
  },
  {
   "cell_type": "markdown",
   "id": "6a0f389a",
   "metadata": {},
   "source": [
    "> 只需要使用常数空间。"
   ]
  },
  {
   "cell_type": "markdown",
   "id": "fa1726ab",
   "metadata": {},
   "source": [
    "## 代码"
   ]
  },
  {
   "cell_type": "code",
   "execution_count": 1,
   "id": "047b794b",
   "metadata": {},
   "outputs": [],
   "source": [
    "class ListNode:\n",
    "    def __init__(self, val=0, next=None):\n",
    "        self.val = val\n",
    "        self.next = next"
   ]
  },
  {
   "cell_type": "code",
   "execution_count": 2,
   "id": "151ef35e",
   "metadata": {},
   "outputs": [],
   "source": [
    "def plusOne(head):\n",
    "    # 创建哨兵头节点\n",
    "    sentinel = ListNode(0)\n",
    "    sentinel.next = head\n",
    "    not_nine = sentinel\n",
    "    \n",
    "    # 找到最右边的不为9的节点\n",
    "    while head:\n",
    "        if head.val != 9:\n",
    "            not_nine = head  # 用not_nine记录这个节点\n",
    "        head = head.next \n",
    "    \n",
    "    # 将最右边的不为9的节点加1\n",
    "    not_nine.val += 1\n",
    "    not_nine = not_nine.next \n",
    "    \n",
    "    # 将最右边的不为9的节点的右边节点全设置为0\n",
    "    while not_nine:\n",
    "        not_nine.val = 0\n",
    "        not_nine = not_nine.next\n",
    "    \n",
    "    # 若哨兵头节点的值不为0，返回哨兵头节点，否则返回原始头节点\n",
    "    return sentinel if sentinel.val else sentinel.next"
   ]
  },
  {
   "cell_type": "markdown",
   "id": "cbb3121d",
   "metadata": {},
   "source": [
    "#### 测试一"
   ]
  },
  {
   "cell_type": "code",
   "execution_count": 3,
   "id": "0447ba37",
   "metadata": {},
   "outputs": [
    {
     "name": "stdout",
     "output_type": "stream",
     "text": [
      "1 0 0 0\n"
     ]
    }
   ],
   "source": [
    "L2 = ListNode(9, None)\n",
    "L1 = ListNode(9, next=L2)\n",
    "head = ListNode(9, next=L1)\n",
    "newhead = plusOne(head)\n",
    "print(newhead.val, newhead.next.val, newhead.next.next.val, newhead.next.next.next.val)"
   ]
  },
  {
   "cell_type": "code",
   "execution_count": null,
   "id": "e906dd0f",
   "metadata": {},
   "outputs": [],
   "source": []
  }
 ],
 "metadata": {
  "kernelspec": {
   "display_name": "Python 3",
   "language": "python",
   "name": "python3"
  },
  "language_info": {
   "codemirror_mode": {
    "name": "ipython",
    "version": 3
   },
   "file_extension": ".py",
   "mimetype": "text/x-python",
   "name": "python",
   "nbconvert_exporter": "python",
   "pygments_lexer": "ipython3",
   "version": "3.7.4"
  }
 },
 "nbformat": 4,
 "nbformat_minor": 5
}
