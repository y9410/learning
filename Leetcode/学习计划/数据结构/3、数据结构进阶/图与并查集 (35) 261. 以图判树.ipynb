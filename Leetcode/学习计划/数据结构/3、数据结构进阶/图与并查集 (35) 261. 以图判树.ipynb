{
 "cells": [
  {
   "cell_type": "markdown",
   "id": "81de857a",
   "metadata": {},
   "source": [
    "# 题目"
   ]
  },
  {
   "cell_type": "markdown",
   "id": "1d20f2fb",
   "metadata": {},
   "source": [
    "> 给定编号从 0 到 n - 1 的 n 个结点。给定一个整数 n 和一个 edges 列表，其中 edges[i] = [ai, bi] 表示图中节点 ai 和 bi 之间存在一条无向边。  \n",
    "如果这些边能够形成一个合法有效的树结构，则返回 true ，否则返回 false 。"
   ]
  },
  {
   "cell_type": "markdown",
   "id": "b8f9c2ef",
   "metadata": {},
   "source": [
    "# 方法一：并查集"
   ]
  },
  {
   "cell_type": "markdown",
   "id": "e7d6d54a",
   "metadata": {},
   "source": [
    "> 对 n 个节点构建并查集。  \n",
    "遍历 `edges` 列表，对于每个元素，将其中的两个节点合并，若合并过程中发现两个节点属于同一集合，说明形成了环，无法构成一棵树。  \n",
    "在遍历结束后，若 n 个节点最终属于 1 个集合，则说明构成一棵树。"
   ]
  },
  {
   "cell_type": "markdown",
   "id": "67bf98aa",
   "metadata": {},
   "source": [
    "## 复杂度"
   ]
  },
  {
   "cell_type": "markdown",
   "id": "e26a8c9d",
   "metadata": {},
   "source": [
    "- 时间复杂度: $O(m\\alpha(n))$ ，其中 $m$ 为给定的 edges 列表的大小， $\\alpha$ 是反 Ackerman 函数。"
   ]
  },
  {
   "cell_type": "markdown",
   "id": "30118bc2",
   "metadata": {},
   "source": [
    "- 空间复杂度: $O(n)$ ，其中 $n$ 是给定的节点数。"
   ]
  },
  {
   "cell_type": "markdown",
   "id": "12e565b9",
   "metadata": {},
   "source": [
    "## 代码"
   ]
  },
  {
   "cell_type": "code",
   "execution_count": 1,
   "id": "126b80a5",
   "metadata": {},
   "outputs": [],
   "source": [
    "# 构建并查集\n",
    "class UnionFind:\n",
    "    def __init__(self, n):\n",
    "        self.fa = list(range(n))  # 用于记录每个元素的值及其指向的值。第x个位置表示该元素值为x，其对应的值fa[x]表示元素x指向元素fa[x]\n",
    "        self.rank = [1] * n  # 用于记录某个代表元素对应的集合的复杂度（节点个数）\n",
    "        self.part = n  # n个元素共有几个集合\n",
    "    \n",
    "    # 找到某个集合的代表元素，并进行路径压缩\n",
    "    def find(self, x):\n",
    "        \n",
    "        # 若元素x不指向自己，则寻找x指向的元素fa[x],看其是否指向自己\n",
    "        # 若fa[fa[x]]仍不指向自己，则继续找，直到找到指向自己的元素（一个集合的代表元素）\n",
    "        # 找到代表元素后，迭代函数返回该代表元素的值，在回溯过程中，由于最后一个find返回了代表元素的值，因此迭代中的每个fa[x]都会变得指向代表元素\n",
    "        if self.fa[x] != x:\n",
    "            self.fa[x] = self.find(self.fa[x])\n",
    "        \n",
    "        return self.fa[x]\n",
    "\n",
    "    # 将两个元素所对应的集合合并\n",
    "    def union(self, x, y):\n",
    "        \n",
    "        # 找到元素x和元素y所在集合的代表元素，并进行路径压缩\n",
    "        fx, fy = self.find(x), self.find(y)\n",
    "        \n",
    "        # 若元素x和元素y所在集合为同一个，返回None\n",
    "        if fx == fy:\n",
    "            return False\n",
    "        \n",
    "        # 将rank更小的集合连接到rank更大的集合\n",
    "        # 若元素x所在集合的最大路径长度小于元素x所在集合的最大路径长度，则交换fx和fy\n",
    "        if self.rank[fx] < self.rank[fy]:\n",
    "            fx, fy = fy, fx  # fx代表x,y中rank更大的集合的代表元素，fy代表x,y中rank更小的集合的代表元素\n",
    "        \n",
    "        # 更新合并后集合的代表元素的rank\n",
    "        self.rank[fx] += self.rank[fy]\n",
    "        \n",
    "        # 将较小集合的代表元素指向较大集合的代表元素\n",
    "        self.fa[fy] = fx\n",
    "        self.part -= 1  # 每将单个元素合并一次，总集合数-1\n",
    "        return True\n",
    "\n",
    "    # 判断两个元素是否属于同一集合\n",
    "    def is_connected(self, x, y):\n",
    "        return self.find(x) == self.find(y)\n",
    "\n",
    "# 解法\n",
    "class Solution:\n",
    "    def validTree(self, n, edges):\n",
    "        UF = UnionFind(n)\n",
    "        for x, y in edges:\n",
    "            if UF.union(x, y) == False: #失败了，说明已经在一个连通域中了。再连接就是环了\n",
    "                return False\n",
    "        return UF.part == 1  # 若最后合并出来不止一个集合，也无法构成树"
   ]
  },
  {
   "cell_type": "markdown",
   "id": "5cdc883c",
   "metadata": {},
   "source": [
    "#### 测试一"
   ]
  },
  {
   "cell_type": "code",
   "execution_count": 2,
   "id": "8f51bd9d",
   "metadata": {},
   "outputs": [
    {
     "data": {
      "text/plain": [
       "True"
      ]
     },
     "execution_count": 2,
     "metadata": {},
     "output_type": "execute_result"
    }
   ],
   "source": [
    "n = 5\n",
    "edges = [[0,1],[0,2],[0,3],[1,4]]\n",
    "\n",
    "test = Solution()\n",
    "test.validTree(n, edges)"
   ]
  },
  {
   "cell_type": "markdown",
   "id": "fce9c8d6",
   "metadata": {},
   "source": [
    "#### 测试二"
   ]
  },
  {
   "cell_type": "code",
   "execution_count": 3,
   "id": "c2981b2d",
   "metadata": {},
   "outputs": [
    {
     "data": {
      "text/plain": [
       "False"
      ]
     },
     "execution_count": 3,
     "metadata": {},
     "output_type": "execute_result"
    }
   ],
   "source": [
    "n = 5\n",
    "edges = [[0,1],[1,2],[2,3],[1,3],[1,4]]\n",
    "\n",
    "test = Solution()\n",
    "test.validTree(n, edges)"
   ]
  },
  {
   "cell_type": "code",
   "execution_count": null,
   "id": "e356206f",
   "metadata": {},
   "outputs": [],
   "source": []
  }
 ],
 "metadata": {
  "kernelspec": {
   "display_name": "Python 3",
   "language": "python",
   "name": "python3"
  },
  "language_info": {
   "codemirror_mode": {
    "name": "ipython",
    "version": 3
   },
   "file_extension": ".py",
   "mimetype": "text/x-python",
   "name": "python",
   "nbconvert_exporter": "python",
   "pygments_lexer": "ipython3",
   "version": "3.7.4"
  }
 },
 "nbformat": 4,
 "nbformat_minor": 5
}
