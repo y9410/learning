{
 "cells": [
  {
   "cell_type": "markdown",
   "id": "645eee01",
   "metadata": {},
   "source": [
    "# 题目"
   ]
  },
  {
   "cell_type": "markdown",
   "id": "08037d11",
   "metadata": {},
   "source": [
    "> 设计一种类似队列的数据结构，该数据结构将最近使用的元素移到队列尾部。  \n",
    "实现 MRUQueue 类：  \n",
    "MRUQueue(int n)  使用 n 个元素： [1,2,3,...,n] 构造 MRUQueue 。  \n",
    "fetch(int k) 将第 k 个元素（从 1 开始索引）移到队尾，并返回该元素。"
   ]
  },
  {
   "cell_type": "markdown",
   "id": "2ce956a1",
   "metadata": {},
   "source": [
    "# 方法一：红黑树"
   ]
  },
  {
   "cell_type": "markdown",
   "id": "9a48be91",
   "metadata": {},
   "source": [
    "> 红黑树：  \n",
    "https://blog.csdn.net/u014454538/article/details/120120216?spm=1001.2101.3001.6661.1&utm_medium=distribute.pc_relevant_t0.none-task-blog-2%7Edefault%7EBlogCommendFromBaidu%7ERate-1-120120216-blog-124982316.pc_relevant_vip_default&depth_1-utm_source=distribute.pc_relevant_t0.none-task-blog-2%7Edefault%7EBlogCommendFromBaidu%7ERate-1-120120216-blog-124982316.pc_relevant_vip_default&utm_relevant_index=1\n",
    "\n",
    "> 红黑树可以做到插入和删除都是 $O(logn)$ 时间，同时能保证排序。  \n",
    "python的SortedList内部实现了红黑树，直接用就行。  \n",
    "注意SortedList内的元素按OrderIndex排序，要记住并不断更新最大的OrderIndex，确保插入SortedList尾部的OrderIndex是最大的。"
   ]
  },
  {
   "cell_type": "markdown",
   "id": "6341e199",
   "metadata": {},
   "source": [
    "## 复杂度"
   ]
  },
  {
   "cell_type": "markdown",
   "id": "854cbf55",
   "metadata": {},
   "source": [
    "- 时间复杂度: fetch操作的时间复杂度为 $O(nlogn)$ ，其中 $n$ 是元素个数。"
   ]
  },
  {
   "cell_type": "markdown",
   "id": "a3ed9f25",
   "metadata": {},
   "source": [
    "> 红黑树的特性。"
   ]
  },
  {
   "cell_type": "markdown",
   "id": "f8a7c0d8",
   "metadata": {},
   "source": [
    "- 空间复杂度: fetch操作的空间复杂度为 $O(1)$ 。"
   ]
  },
  {
   "cell_type": "markdown",
   "id": "e8443fea",
   "metadata": {},
   "source": [
    "> 只使用常数空间。"
   ]
  },
  {
   "cell_type": "markdown",
   "id": "52364de1",
   "metadata": {},
   "source": [
    "## 代码"
   ]
  },
  {
   "cell_type": "code",
   "execution_count": 1,
   "id": "24f7df3f",
   "metadata": {},
   "outputs": [],
   "source": [
    "from sortedcontainers import SortedList"
   ]
  },
  {
   "cell_type": "code",
   "execution_count": 13,
   "id": "afb71770",
   "metadata": {},
   "outputs": [],
   "source": [
    "class MRUQueue:\n",
    "    \n",
    "    def __init__(self, n):\n",
    "        self.maxOrderIndex = n\n",
    "        self.arr = SortedList([[v,v] for v in range(1, n+1)])\n",
    "        \n",
    "    def fetch(self, k):\n",
    "        # 将第k个元素弹出\n",
    "        order, val = self.arr.pop(k-1)  # 位置,值\n",
    "        # 将该元素加到队尾\n",
    "        self.maxOrderIndex += 1\n",
    "        self.arr.add([self.maxOrderIndex, val])\n",
    "        print(self.arr)\n",
    "        return val"
   ]
  },
  {
   "cell_type": "markdown",
   "id": "4e9f161f",
   "metadata": {},
   "source": [
    "#### 测试一"
   ]
  },
  {
   "cell_type": "code",
   "execution_count": 16,
   "id": "46b7ee64",
   "metadata": {},
   "outputs": [
    {
     "name": "stdout",
     "output_type": "stream",
     "text": [
      "SortedList([[1, 1], [2, 2], [3, 3], [4, 4], [5, 5], [6, 6], [7, 7], [8, 8]])\n",
      "SortedList([[1, 1], [2, 2], [4, 4], [5, 5], [6, 6], [7, 7], [8, 8], [9, 3]])\n",
      "3\n",
      "SortedList([[1, 1], [2, 2], [4, 4], [5, 5], [7, 7], [8, 8], [9, 3], [10, 6]])\n",
      "6\n",
      "SortedList([[1, 1], [4, 4], [5, 5], [7, 7], [8, 8], [9, 3], [10, 6], [11, 2]])\n",
      "2\n",
      "SortedList([[1, 1], [4, 4], [5, 5], [7, 7], [8, 8], [9, 3], [10, 6], [12, 2]])\n",
      "2\n"
     ]
    }
   ],
   "source": [
    "obj = MRUQueue(8)\n",
    "print(obj.arr)\n",
    "print(obj.fetch(3))\n",
    "print(obj.fetch(5))\n",
    "print(obj.fetch(2))\n",
    "print(obj.fetch(8))"
   ]
  },
  {
   "cell_type": "code",
   "execution_count": null,
   "id": "bb88632f",
   "metadata": {},
   "outputs": [],
   "source": []
  }
 ],
 "metadata": {
  "kernelspec": {
   "display_name": "Python 3",
   "language": "python",
   "name": "python3"
  },
  "language_info": {
   "codemirror_mode": {
    "name": "ipython",
    "version": 3
   },
   "file_extension": ".py",
   "mimetype": "text/x-python",
   "name": "python",
   "nbconvert_exporter": "python",
   "pygments_lexer": "ipython3",
   "version": "3.7.4"
  }
 },
 "nbformat": 4,
 "nbformat_minor": 5
}
