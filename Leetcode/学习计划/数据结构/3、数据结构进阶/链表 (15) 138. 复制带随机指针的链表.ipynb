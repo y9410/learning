{
 "cells": [
  {
   "cell_type": "markdown",
   "id": "b01c99ba",
   "metadata": {},
   "source": [
    "# 题目"
   ]
  },
  {
   "cell_type": "markdown",
   "id": "6722dd08",
   "metadata": {},
   "source": [
    "> 给你一个长度为 n 的链表，每个节点包含一个额外增加的随机指针 random ，该指针可以指向链表中的任何节点或空节点。  \n",
    "构造这个链表的**深拷贝**。**深拷贝**应该正好由 n 个全新节点组成，其中每个新节点的值都设为其对应的原节点的值。新节点的 next 指针和 random 指针也都应指向复制链表中的新节点，并使原链表和复制链表中的这些指针能够表示相同的链表状态。复制链表中的指针都不应指向原链表中的节点。  \n",
    "例如，如果原链表中有 X 和 Y 两个节点，其中 X.random --> Y 。那么在复制链表中对应的两个节点 x 和 y ，同样有 x.random --> y 。  \n",
    "返回复制链表的头节点。  \n",
    "用一个由 n 个节点组成的链表来表示输入/输出中的链表。每个节点用一个 [val, random_index] 表示：  \n",
    "val：一个表示 Node.val 的整数。  \n",
    "random_index：随机指针指向的节点索引（范围从 0 到 n-1）；如果不指向任何节点，则为  null 。  \n",
    "你的代码只接受原链表的头节点 head 作为传入参数。"
   ]
  },
  {
   "cell_type": "markdown",
   "id": "fa13523e",
   "metadata": {},
   "source": [
    "# 方法一：迭代+拆分"
   ]
  },
  {
   "cell_type": "markdown",
   "id": "25e2f7ce",
   "metadata": {},
   "source": [
    "> 使用自底向上的方法实现归并排序，则可以达到 $O(1)$ 的空间复杂度。  \n",
    "首先求得链表的长度 length ，然后将链表拆分成子链表进行合并，具体过程如下：  \n",
    "1. 用 subLength 表示每次需要排序的子链表的长度，初始时 subLength=1；\n",
    "2. 每次将链表拆分成若干个长度为 subLength 的子链表（最后一个子链表的长度可以小于 subLength ），按照每两个子链表一组进行合并，合并后即可得到若干个长度为 subLength×2 的有序子链表（最后一个子链表的长度可以小于 subLength×2 ）；\n",
    "3. 将 subLength 的值加倍，重复第 2 步，对更长的有序子链表进行合并操作，直到有序子链表的长度大于或等于 length，整个链表排序完毕。\n",
    "\n",
    "> 可以通过数学归纳法证明每次合并之后得到的子链表都是有序的：  \n",
    "1. 初始时 subLength=1，每个长度为 1 的子链表都是有序的；\n",
    "2. 如果每个长度为 subLength 的子链表已经有序，合并两个长度为 subLength 的有序子链表，得到长度为 subLength×2 的子链表，一定也是有序的；\n",
    "3. 当最后一个子链表的长度小于 subLength 时，该子链表也是有序的，合并两个有序子链表之后得到的子链表一定也是有序的。"
   ]
  },
  {
   "cell_type": "markdown",
   "id": "35ce1f32",
   "metadata": {},
   "source": [
    "## 复杂度"
   ]
  },
  {
   "cell_type": "markdown",
   "id": "4773274e",
   "metadata": {},
   "source": [
    "- 时间复杂度: $O(n)$ ，其中 $n$ 是输入链表的长度。"
   ]
  },
  {
   "cell_type": "markdown",
   "id": "9d9a6bfc",
   "metadata": {},
   "source": [
    "> 遍历链表三次。"
   ]
  },
  {
   "cell_type": "markdown",
   "id": "6cfd95b2",
   "metadata": {},
   "source": [
    "- 空间复杂度: $O(1)$ 。"
   ]
  },
  {
   "cell_type": "markdown",
   "id": "4525f315",
   "metadata": {},
   "source": [
    "> 只需要使用常数空间。"
   ]
  },
  {
   "cell_type": "markdown",
   "id": "4037377a",
   "metadata": {},
   "source": [
    "## 代码"
   ]
  },
  {
   "cell_type": "code",
   "execution_count": 1,
   "id": "101e4677",
   "metadata": {},
   "outputs": [],
   "source": [
    "class Node:\n",
    "    def __init__(self, x, next = None, random = None):\n",
    "        self.val = int(x)\n",
    "        self.next = next\n",
    "        self.random = random"
   ]
  },
  {
   "cell_type": "code",
   "execution_count": 2,
   "id": "b68a81ec",
   "metadata": {},
   "outputs": [],
   "source": [
    "def copyRandomList(head):\n",
    "    \n",
    "    if not head:\n",
    "        return None\n",
    "    \n",
    "    # 第一步，在每个原节点后面创建一个新节点\n",
    "    # 1->1'->2->2'->3->3'\n",
    "    p = head  # p指针用来指向每个原节点\n",
    "    while p:\n",
    "        new_node = Node(p.val, None, None)\n",
    "        new_node.next = p.next\n",
    "        p.next = new_node\n",
    "        p = new_node.next\n",
    "    \n",
    "    # 第二步，设置新节点的随机节点\n",
    "    p = head  # p指针用来指向每个原节点\n",
    "    while p:\n",
    "        if p.random:\n",
    "            p.next.random = p.random.next  # 新节点的random指向对应原节点的random.next\n",
    "        p = p.next.next\n",
    "    \n",
    "    # 第三步，将两个链表分离\n",
    "    p = head\n",
    "    dummy = Node(-1,None,None)\n",
    "    cur = dummy\n",
    "    while p:\n",
    "        cur.next = p.next  # 将原节点的next节点接到新链表上\n",
    "        cur = cur.next  # cur指向新链表中的下一个节点\n",
    "        p.next = cur.next  # p.next指向下一个原节点\n",
    "        p = p.next  # 将p指向下一个原节点，进行下一次断开\n",
    "\n",
    "    return dummy.next"
   ]
  },
  {
   "cell_type": "markdown",
   "id": "248d654a",
   "metadata": {},
   "source": [
    "#### 测试一"
   ]
  },
  {
   "cell_type": "code",
   "execution_count": 3,
   "id": "0d6f54ad",
   "metadata": {},
   "outputs": [
    {
     "name": "stdout",
     "output_type": "stream",
     "text": [
      "1 2 3 4\n",
      "3 3 2\n"
     ]
    }
   ],
   "source": [
    "L3 = Node(4)\n",
    "L2 = Node(3, next=L3)\n",
    "L1 = Node(2, next=L2)\n",
    "head = Node(1, next=L1)\n",
    "head.random = L2\n",
    "L1.random = L2\n",
    "L2.random = L1\n",
    "\n",
    "newhead = copyRandomList(head)\n",
    "print(newhead.val, newhead.next.val, newhead.next.next.val, newhead.next.next.next.val)\n",
    "print(newhead.random.val, newhead.next.random.val, newhead.next.next.random.val)"
   ]
  },
  {
   "cell_type": "code",
   "execution_count": null,
   "id": "dbc769d0",
   "metadata": {},
   "outputs": [],
   "source": []
  }
 ],
 "metadata": {
  "kernelspec": {
   "display_name": "Python 3",
   "language": "python",
   "name": "python3"
  },
  "language_info": {
   "codemirror_mode": {
    "name": "ipython",
    "version": 3
   },
   "file_extension": ".py",
   "mimetype": "text/x-python",
   "name": "python",
   "nbconvert_exporter": "python",
   "pygments_lexer": "ipython3",
   "version": "3.7.4"
  }
 },
 "nbformat": 4,
 "nbformat_minor": 5
}
