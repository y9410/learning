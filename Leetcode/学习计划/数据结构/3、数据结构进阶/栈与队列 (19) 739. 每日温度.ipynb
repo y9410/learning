{
 "cells": [
  {
   "cell_type": "markdown",
   "id": "0c5ea305",
   "metadata": {},
   "source": [
    "# 题目"
   ]
  },
  {
   "cell_type": "markdown",
   "id": "52fa36de",
   "metadata": {},
   "source": [
    "> 给定一个整数数组 temperatures ，表示每天的温度，返回一个数组 answer ，其中 answer[i] 是指对于第 i 天，下一个更高温度出现在几天后。  \n",
    "如果气温在这之后都不会升高，请在该位置用 0 来代替。"
   ]
  },
  {
   "cell_type": "markdown",
   "id": "126814b0",
   "metadata": {},
   "source": [
    "# 方法一：单调栈"
   ]
  },
  {
   "cell_type": "markdown",
   "id": "54cf09d0",
   "metadata": {},
   "source": [
    "> 对于某一天来说，若明日的温度更高，则其等待天数为 1 ，否则需要继续等待若干天，直到出现另一天温度更高。因此考虑构造一个单调栈，用于记录温度及等待天数的信息，单调栈中的元素为天数，按照天数对应的温度由栈底到栈顶呈递减排序。  \n",
    "\n",
    "> 遍历数组 temperatures ，设每个温度对应的的天数为 i ，对于每个遍历到的温度，存在以下情况：  \n",
    "1. 栈为空。直接把当前天数 i 压入栈；\n",
    "2. 栈不为空，且当前温度小于等于栈顶天数对应的温度（由于栈是单调的，因此当前温度小于栈中所有天数对应的温度）。直接将当前天数 i 压入栈，栈中尚存的元素说明其还没有等来一个更高的温度；\n",
    "3. 栈不为空，且当前温度大于栈顶天数对应的温度。这说明栈顶天数对应的温度等来了一个更高温度，将栈顶元素移除，并计算其等待的天数。等待天数为当前天数 i 减去栈顶天数（说明在栈顶天数之后又过了多少天才等来了一个更高温度）。重复上述过程，直到当前温度小于等于栈顶天数对应的温度。将当前天数 i 压入栈（当前天数 i 还没有等来答案）。\n",
    "\n",
    "> 遍历结束后，返回答案列表"
   ]
  },
  {
   "cell_type": "markdown",
   "id": "da16c3e8",
   "metadata": {},
   "source": [
    "## 复杂度"
   ]
  },
  {
   "cell_type": "markdown",
   "id": "4f5d83a5",
   "metadata": {},
   "source": [
    "- 时间复杂度: $O(n)$ ，其中 $n$ 是列表 temperatures 的长度。"
   ]
  },
  {
   "cell_type": "markdown",
   "id": "7c5a9ca7",
   "metadata": {},
   "source": [
    "> 正向遍历温度列表一遍，对于温度列表中的每个下标，最多有一次进栈和出栈的操作。"
   ]
  },
  {
   "cell_type": "markdown",
   "id": "c070c42b",
   "metadata": {},
   "source": [
    "- 空间复杂度: $O(n)$ ，其中 $n$ 是列表 temperatures 的长度。"
   ]
  },
  {
   "cell_type": "markdown",
   "id": "80b48f35",
   "metadata": {},
   "source": [
    "> 需要维护一个单调栈存储温度列表中的下标。"
   ]
  },
  {
   "cell_type": "markdown",
   "id": "76d72f7d",
   "metadata": {},
   "source": [
    "## 代码"
   ]
  },
  {
   "cell_type": "code",
   "execution_count": 1,
   "id": "9c0db513",
   "metadata": {},
   "outputs": [],
   "source": [
    "def dailyTemperatures(temperatures):\n",
    "    length = len(temperatures)\n",
    "    ans = [0] * length  # 用于储存答案的列表\n",
    "    stack = []  # 辅助用的单调栈，从栈底到栈顶依次递减\n",
    "    print('temperatures={}'.format(temperatures))\n",
    "    for i in range(length):\n",
    "        temperature = temperatures[i]  # 当天的温度\n",
    "        # 对于所有遍历过的、还没有得到答案（因为没有在之后遇到更高温度）的温度，都被存在单调栈中\n",
    "        # 只要栈不为空且当天温度大于栈顶温度（最近一个没有得到答案的温度）\n",
    "        while stack and temperature > temperatures[stack[-1]]:\n",
    "            prev_index = stack.pop()  # 就弹出其对应的天数（第prev_index天的温度）\n",
    "            ans[prev_index] = i - prev_index  # 等待天数为：最近的一个更高温度的天数（i）-栈顶温度对应的天数\n",
    "        # 若当前的温度小于栈顶温度，则直接把当前天数压入栈顶，这保证了栈是单调的（天数对应的温度呈递减）\n",
    "        stack.append(i)\n",
    "        print('stack={}'.format(stack))\n",
    "        print('ans={}'.format(ans))\n",
    "    return ans"
   ]
  },
  {
   "cell_type": "markdown",
   "id": "0444ed4f",
   "metadata": {},
   "source": [
    "#### 测试一"
   ]
  },
  {
   "cell_type": "code",
   "execution_count": 2,
   "id": "afce6da0",
   "metadata": {},
   "outputs": [
    {
     "name": "stdout",
     "output_type": "stream",
     "text": [
      "temperatures=[73, 74, 75, 71, 69, 72, 76, 73]\n",
      "stack=[0]\n",
      "ans=[0, 0, 0, 0, 0, 0, 0, 0]\n",
      "stack=[1]\n",
      "ans=[1, 0, 0, 0, 0, 0, 0, 0]\n",
      "stack=[2]\n",
      "ans=[1, 1, 0, 0, 0, 0, 0, 0]\n",
      "stack=[2, 3]\n",
      "ans=[1, 1, 0, 0, 0, 0, 0, 0]\n",
      "stack=[2, 3, 4]\n",
      "ans=[1, 1, 0, 0, 0, 0, 0, 0]\n",
      "stack=[2, 5]\n",
      "ans=[1, 1, 0, 2, 1, 0, 0, 0]\n",
      "stack=[6]\n",
      "ans=[1, 1, 4, 2, 1, 1, 0, 0]\n",
      "stack=[6, 7]\n",
      "ans=[1, 1, 4, 2, 1, 1, 0, 0]\n"
     ]
    },
    {
     "data": {
      "text/plain": [
       "[1, 1, 4, 2, 1, 1, 0, 0]"
      ]
     },
     "execution_count": 2,
     "metadata": {},
     "output_type": "execute_result"
    }
   ],
   "source": [
    "temperatures = [73,74,75,71,69,72,76,73]\n",
    "dailyTemperatures(temperatures)"
   ]
  },
  {
   "cell_type": "markdown",
   "id": "410b323f",
   "metadata": {},
   "source": [
    "#### 测试二"
   ]
  },
  {
   "cell_type": "code",
   "execution_count": 3,
   "id": "3cae62ad",
   "metadata": {},
   "outputs": [
    {
     "name": "stdout",
     "output_type": "stream",
     "text": [
      "temperatures=[30, 40, 50, 60]\n",
      "stack=[0]\n",
      "ans=[0, 0, 0, 0]\n",
      "stack=[1]\n",
      "ans=[1, 0, 0, 0]\n",
      "stack=[2]\n",
      "ans=[1, 1, 0, 0]\n",
      "stack=[3]\n",
      "ans=[1, 1, 1, 0]\n"
     ]
    },
    {
     "data": {
      "text/plain": [
       "[1, 1, 1, 0]"
      ]
     },
     "execution_count": 3,
     "metadata": {},
     "output_type": "execute_result"
    }
   ],
   "source": [
    "temperatures = [30,40,50,60]\n",
    "dailyTemperatures(temperatures)"
   ]
  },
  {
   "cell_type": "code",
   "execution_count": null,
   "id": "840e11de",
   "metadata": {},
   "outputs": [],
   "source": []
  }
 ],
 "metadata": {
  "kernelspec": {
   "display_name": "Python 3",
   "language": "python",
   "name": "python3"
  },
  "language_info": {
   "codemirror_mode": {
    "name": "ipython",
    "version": 3
   },
   "file_extension": ".py",
   "mimetype": "text/x-python",
   "name": "python",
   "nbconvert_exporter": "python",
   "pygments_lexer": "ipython3",
   "version": "3.7.4"
  }
 },
 "nbformat": 4,
 "nbformat_minor": 5
}
