{
 "cells": [
  {
   "cell_type": "markdown",
   "id": "16ff2aa6",
   "metadata": {},
   "source": [
    "# 题目"
   ]
  },
  {
   "cell_type": "markdown",
   "id": "0eb09b5b",
   "metadata": {},
   "source": [
    "> 给你一个以字符串表示的非负整数 num 和一个整数 k ，移除这个数中的 k 位数字，使得剩下的数字最小。  \n",
    "请你以字符串形式返回这个最小的数字。"
   ]
  },
  {
   "cell_type": "markdown",
   "id": "76f6ac7e",
   "metadata": {},
   "source": [
    "# 方法一：贪心 + 单调栈"
   ]
  },
  {
   "cell_type": "markdown",
   "id": "83f045ae",
   "metadata": {},
   "source": [
    "> 对于两个位数相同的数，其最左边的不同的数字决定了两个数的大小，因此为了让删除某数后的数更小，要让靠前的数字尽可能小。  \n",
    "\n",
    "> 可以构建一个自底向上单调递增的栈，遍历字符串：  \n",
    "1. 若当前栈为空或栈顶数字小于等于当前数字，则将当前数字压入栈；\n",
    "2. 若栈顶数字大于当前数字，则将栈顶元素弹出，并减少一次删除次数。重复这一过程，直到栈顶数字小于等于当前数字，将当前数字压入栈。\n",
    "\n",
    "> 遍历完成后返回字符串。\n",
    "\n",
    "> 需要注意：  \n",
    "1. 如果删除了 m 个数字且 m<k ，这种情况下需要从序列尾部删除额外的 k−m 个数字（尾部数字最大）；\n",
    "2. 如果最终的数字序列存在前导零，要删去前导零；\n",
    "3. 如果最终数字序列为空，应该返回 0 。"
   ]
  },
  {
   "cell_type": "markdown",
   "id": "8005e7ac",
   "metadata": {},
   "source": [
    "## 复杂度"
   ]
  },
  {
   "cell_type": "markdown",
   "id": "2cb781c3",
   "metadata": {},
   "source": [
    "- 时间复杂度: $O(n)$ ，其中 $n$ 是字符串的长度。"
   ]
  },
  {
   "cell_type": "markdown",
   "id": "3ee0f3dc",
   "metadata": {},
   "source": [
    "> 尽管存在嵌套循环，但内部循环最多运行 k 次。由于 0<k≤n ，主循环的时间复杂度被限制在 2n 以内。对于主循环之外的逻辑，它们的时间复杂度是 $O(n)$ ，因此总时间复杂度为 $O(n)$ 。"
   ]
  },
  {
   "cell_type": "markdown",
   "id": "5cad4aed",
   "metadata": {},
   "source": [
    "- 空间复杂度: $O(n)$ ，其中 $n$ 是字符串的长度。"
   ]
  },
  {
   "cell_type": "markdown",
   "id": "7565ecdd",
   "metadata": {},
   "source": [
    "> 栈存储数字需要线性的空间。"
   ]
  },
  {
   "cell_type": "markdown",
   "id": "7e24ecdc",
   "metadata": {},
   "source": [
    "## 代码"
   ]
  },
  {
   "cell_type": "code",
   "execution_count": 1,
   "id": "eb24f31c",
   "metadata": {},
   "outputs": [],
   "source": [
    "def removeKdigits(num, k):\n",
    "    numStack = []\n",
    "    \n",
    "    # 构建从底到顶单调递增的栈\n",
    "    for digit in num:\n",
    "        # k不等于0说明还有删除次数\n",
    "        # 对于每个数字，判断其是否小于栈顶数字\n",
    "        while k and numStack and numStack[-1] > digit:\n",
    "            numStack.pop()  # 若是，则删除栈顶数字\n",
    "            k -= 1  # 每删除一次，都减少一次删除次数\n",
    "        # 将当前数字压入栈\n",
    "        numStack.append(digit)\n",
    "    \n",
    "    # 如果k > 0，说明删除次数没用净，则删除末尾的k个数字（由于栈单调递增，因此末尾数字最大）\n",
    "    finalStack = numStack[:-k] if k else numStack\n",
    "    \n",
    "    # 抹去前导零\n",
    "    return \"\".join(finalStack).lstrip('0') or \"0\""
   ]
  },
  {
   "cell_type": "markdown",
   "id": "7e0ea875",
   "metadata": {},
   "source": [
    "#### 测试一"
   ]
  },
  {
   "cell_type": "code",
   "execution_count": 2,
   "id": "2f18e72a",
   "metadata": {},
   "outputs": [
    {
     "data": {
      "text/plain": [
       "'1219'"
      ]
     },
     "execution_count": 2,
     "metadata": {},
     "output_type": "execute_result"
    }
   ],
   "source": [
    "num = \"1432219\"\n",
    "k = 3\n",
    "removeKdigits(num, k)"
   ]
  },
  {
   "cell_type": "markdown",
   "id": "77609495",
   "metadata": {},
   "source": [
    "#### 测试二"
   ]
  },
  {
   "cell_type": "code",
   "execution_count": 3,
   "id": "1021d95c",
   "metadata": {},
   "outputs": [
    {
     "data": {
      "text/plain": [
       "'200'"
      ]
     },
     "execution_count": 3,
     "metadata": {},
     "output_type": "execute_result"
    }
   ],
   "source": [
    "num = \"10200\"\n",
    "k = 1\n",
    "removeKdigits(num, k)"
   ]
  },
  {
   "cell_type": "code",
   "execution_count": null,
   "id": "8814cee4",
   "metadata": {},
   "outputs": [],
   "source": []
  }
 ],
 "metadata": {
  "kernelspec": {
   "display_name": "Python 3",
   "language": "python",
   "name": "python3"
  },
  "language_info": {
   "codemirror_mode": {
    "name": "ipython",
    "version": 3
   },
   "file_extension": ".py",
   "mimetype": "text/x-python",
   "name": "python",
   "nbconvert_exporter": "python",
   "pygments_lexer": "ipython3",
   "version": "3.7.4"
  }
 },
 "nbformat": 4,
 "nbformat_minor": 5
}
