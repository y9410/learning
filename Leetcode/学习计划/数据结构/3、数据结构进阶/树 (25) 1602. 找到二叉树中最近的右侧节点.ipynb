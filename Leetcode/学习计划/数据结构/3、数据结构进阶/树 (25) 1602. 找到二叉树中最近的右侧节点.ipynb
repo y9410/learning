{
 "cells": [
  {
   "cell_type": "markdown",
   "id": "392eef2b",
   "metadata": {},
   "source": [
    "# 题目"
   ]
  },
  {
   "cell_type": "markdown",
   "id": "5306056d",
   "metadata": {},
   "source": [
    "> 给定一棵二叉树的根节点 root 和树中的一个节点 u ，返回与 u 所在层中距离最近的右侧节点，当 u 是所在层中最右侧的节点，返回 null 。"
   ]
  },
  {
   "cell_type": "markdown",
   "id": "36ab6dcc",
   "metadata": {},
   "source": [
    "# 方法一：广度优先搜索"
   ]
  },
  {
   "cell_type": "markdown",
   "id": "a27d385b",
   "metadata": {},
   "source": [
    "> 每层统一输出，如果是最后一个返回null，不是则返回下一个节点。"
   ]
  },
  {
   "cell_type": "markdown",
   "id": "4af497bc",
   "metadata": {},
   "source": [
    "## 复杂度"
   ]
  },
  {
   "cell_type": "markdown",
   "id": "443a621b",
   "metadata": {},
   "source": [
    "- 时间复杂度: $O(n)$ ，其中 $n$ 是二叉树中的节点个数。"
   ]
  },
  {
   "cell_type": "markdown",
   "id": "3f8f7dc9",
   "metadata": {},
   "source": [
    "> 最坏情况下要遍历二叉树一次"
   ]
  },
  {
   "cell_type": "markdown",
   "id": "c8b7374c",
   "metadata": {},
   "source": [
    "- 空间复杂度: $O(n)$ ，其中 $n$ 是二叉树中的节点个数。"
   ]
  },
  {
   "cell_type": "markdown",
   "id": "05091028",
   "metadata": {},
   "source": [
    "> 双端队列储存某曾的节点，最坏情况下要存储最后一层的全部节点，假设其为 m ，则 m>n/2 。"
   ]
  },
  {
   "cell_type": "markdown",
   "id": "777ce3a9",
   "metadata": {},
   "source": [
    "## 代码"
   ]
  },
  {
   "cell_type": "code",
   "execution_count": 1,
   "id": "4e6d23c0",
   "metadata": {},
   "outputs": [],
   "source": [
    "class TreeNode:\n",
    "    def __init__(self, val=0, left=None, right=None):\n",
    "        self.val = val\n",
    "        self.left = left\n",
    "        self.right = right"
   ]
  },
  {
   "cell_type": "code",
   "execution_count": 2,
   "id": "bc56a73d",
   "metadata": {},
   "outputs": [],
   "source": [
    "from collections import deque"
   ]
  },
  {
   "cell_type": "code",
   "execution_count": 3,
   "id": "43648a8c",
   "metadata": {},
   "outputs": [],
   "source": [
    "def findNearestRightNode(root, u):\n",
    "\n",
    "    stack = deque([root])  # 用双端队列记录每一层的节点\n",
    "    \n",
    "    # 从上往下按层遍历二叉树\n",
    "    while stack:\n",
    "        \n",
    "        num_of_layer = len(stack)  # 每一层的节点数等于队列的长度\n",
    "        \n",
    "        # 从左往右遍历当前层的所有节点\n",
    "        for i in range(num_of_layer):\n",
    "            \n",
    "            # 每次在删除一个节点时，其子节点已经加入队列\n",
    "            # 当某层的最右侧节点被弹出队列时，队列中已储存好下一层的全部节点\n",
    "            cur_node = stack.popleft()\n",
    "            \n",
    "            # 若找到u，则判断队列是否为空，若不为空，则返回队列中的下一个节点，否则返回None\n",
    "            if cur_node == u:\n",
    "                return stack.popleft() if i < num_of_layer-1 else None\n",
    "            \n",
    "            # 将当前节点的左右子节点依次加入双端队列\n",
    "            if cur_node.left:\n",
    "                stack.append(cur_node.left)\n",
    "            if cur_node.right:\n",
    "                stack.append(cur_node.right)"
   ]
  },
  {
   "cell_type": "markdown",
   "id": "499aeeb9",
   "metadata": {},
   "source": [
    "#### 测试一"
   ]
  },
  {
   "cell_type": "code",
   "execution_count": 4,
   "id": "9c6263e9",
   "metadata": {},
   "outputs": [
    {
     "name": "stdout",
     "output_type": "stream",
     "text": [
      "5\n"
     ]
    }
   ],
   "source": [
    "N2_2 = TreeNode(val=4, left=None, right=None)\n",
    "N2_3 = TreeNode(val=5, left=None, right=None)\n",
    "N2_4 = TreeNode(val=6, left=None, right=None)\n",
    "N1_1 = TreeNode(val=2, left=None, right=N2_2)\n",
    "N1_2 = TreeNode(val=3, left=N2_3, right=N2_4)\n",
    "root = TreeNode(val=1, left=N1_1, right=N1_2)\n",
    "\n",
    "u = N2_2\n",
    "node = findNearestRightNode(root, u)\n",
    "if node:\n",
    "    print(node.val)\n",
    "else:\n",
    "    print('None')"
   ]
  },
  {
   "cell_type": "markdown",
   "id": "82a36c27",
   "metadata": {},
   "source": [
    "#### 测试二"
   ]
  },
  {
   "cell_type": "code",
   "execution_count": 5,
   "id": "bd0bdb25",
   "metadata": {},
   "outputs": [
    {
     "name": "stdout",
     "output_type": "stream",
     "text": [
      "None\n"
     ]
    }
   ],
   "source": [
    "N2_2 = TreeNode(val=4, left=None, right=None)\n",
    "N2_3 = TreeNode(val=5, left=None, right=None)\n",
    "N2_4 = TreeNode(val=6, left=None, right=None)\n",
    "N1_1 = TreeNode(val=2, left=None, right=N2_2)\n",
    "N1_2 = TreeNode(val=3, left=N2_3, right=N2_4)\n",
    "root = TreeNode(val=1, left=N1_1, right=N1_2)\n",
    "\n",
    "u = N2_4\n",
    "node = findNearestRightNode(root, u)\n",
    "if node:\n",
    "    print(node.val)\n",
    "else:\n",
    "    print('None')"
   ]
  },
  {
   "cell_type": "code",
   "execution_count": null,
   "id": "d2adcca9",
   "metadata": {},
   "outputs": [],
   "source": []
  }
 ],
 "metadata": {
  "kernelspec": {
   "display_name": "Python 3",
   "language": "python",
   "name": "python3"
  },
  "language_info": {
   "codemirror_mode": {
    "name": "ipython",
    "version": 3
   },
   "file_extension": ".py",
   "mimetype": "text/x-python",
   "name": "python",
   "nbconvert_exporter": "python",
   "pygments_lexer": "ipython3",
   "version": "3.7.4"
  }
 },
 "nbformat": 4,
 "nbformat_minor": 5
}
