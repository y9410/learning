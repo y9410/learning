{
 "cells": [
  {
   "cell_type": "markdown",
   "id": "450f8a4d",
   "metadata": {},
   "source": [
    "# 题目"
   ]
  },
  {
   "cell_type": "markdown",
   "id": "7753a8ec",
   "metadata": {},
   "source": [
    "> 给出两个一维的向量，请你实现一个迭代器，交替返回它们中间的元素。  \n",
    "拓展：假如给你 k 个一维向量呢？你的代码在这种情况下的扩展性又会如何呢?  \n",
    "拓展声明：  \n",
    "“锯齿” 顺序对于 k > 2 的情况定义可能会有些歧义。所以，假如你觉得 “锯齿” 这个表述不妥，也可以认为这是一种 “循环”。  \n",
    "例如：输入 [1,2,3], [4,5,6,7], [8,9] ，输出 [1,4,8,2,5,9,3,6,7] 。"
   ]
  },
  {
   "cell_type": "markdown",
   "id": "a813168f",
   "metadata": {},
   "source": [
    "# 方法一：列表+指针"
   ]
  },
  {
   "cell_type": "markdown",
   "id": "b800188b",
   "metadata": {},
   "source": [
    "> 遍历到某个 child 不为空的节点 node 时，进行扁平化操作：  \n",
    "1. 将 node 与 node 的下一个节点 next 断开；\n",
    "2. 将 node 与 child 相连；\n",
    "3. 将子链表的最后一个节点 last 与 next 相连。\n",
    "\n",
    "> 需要注意：node 可能没有下一个节点，即 next 为空，此时只需进行第二步操作；此外，在插入扁平化的链表后，需要将 node 的 child 成员置为空。"
   ]
  },
  {
   "cell_type": "markdown",
   "id": "b8f1fa0c",
   "metadata": {},
   "source": [
    "## 复杂度"
   ]
  },
  {
   "cell_type": "markdown",
   "id": "bc8b9b5d",
   "metadata": {},
   "source": [
    "- 时间复杂度: $O(n)$ ，其中 $n$ 是所有输入列表的总长度。"
   ]
  },
  {
   "cell_type": "markdown",
   "id": "b66d622e",
   "metadata": {},
   "source": [
    "> 遍历每个列表。"
   ]
  },
  {
   "cell_type": "markdown",
   "id": "45620d49",
   "metadata": {},
   "source": [
    "- 空间复杂度: $O(n)$ ，其中 $n$ 是所有输入列表的总长度。"
   ]
  },
  {
   "cell_type": "markdown",
   "id": "277a05fe",
   "metadata": {},
   "source": [
    "> 构建了一个用于遍历的、包含所有输入列表的大列表。"
   ]
  },
  {
   "cell_type": "markdown",
   "id": "97bf1a23",
   "metadata": {},
   "source": [
    "## 代码"
   ]
  },
  {
   "cell_type": "code",
   "execution_count": 1,
   "id": "0f8cd158",
   "metadata": {},
   "outputs": [],
   "source": [
    "class ZigzagIterator:\n",
    "    def __init__(self, v1, v2):\n",
    "        self.map = [v1, v2]  # 将输入的子列表放在一个大列表里\n",
    "        self.maxY = max(len(v1), len(v2))  # 找出最长子列表的长度\n",
    "        self.x, self.y = 0, 0  # x表示第几个子列表，y表示子列表中的第几个数\n",
    "        while len(self.map[self.x]) == 0:  # 若某个子列表中没有数，则x指向下一个子列表\n",
    "            self.x += 1\n",
    "\n",
    "    def next(self):\n",
    "        ret = self.map[self.x][self.y]  # 第x个子列表的第y个数\n",
    "        \n",
    "        # 寻找下一个数的位置（x和y）\n",
    "        while self.y < self.maxY:  # 只要y小于maxY，说明存在没遍历完的子列表\n",
    "            self.x += 1  # 切换到下一个子列表\n",
    "            # 如果x等于子列表个数，说明已经遍历完所有子列表一轮，需要切换到第一个子列表中的下一个数\n",
    "            if self.x == len(self.map):\n",
    "                self.x = 0\n",
    "                self.y += 1\n",
    "            # 如果当前的y小于当前子列表长度，说明已经找到了要迭代的下一个数，跳出循环\n",
    "            # 否则需要继续切换到下一个子列表，直到找到一个合理的y\n",
    "            if self.y < len(self.map[self.x]):\n",
    "                break\n",
    "        \n",
    "        return ret\n",
    "\n",
    "    def hasNext(self):\n",
    "        # 只要最长的子列表没遍历完，就肯定存在下一个数\n",
    "        return not self.y == self.maxY"
   ]
  },
  {
   "cell_type": "markdown",
   "id": "b9417a18",
   "metadata": {},
   "source": [
    "#### 测试一"
   ]
  },
  {
   "cell_type": "code",
   "execution_count": 2,
   "id": "7abf5ef0",
   "metadata": {},
   "outputs": [
    {
     "name": "stdout",
     "output_type": "stream",
     "text": [
      "[1, 3, 2, 4, 5, 6]\n"
     ]
    }
   ],
   "source": [
    "v1 = [1,2]\n",
    "v2 = [3,4,5,6]\n",
    "\n",
    "i, v = ZigzagIterator(v1, v2), []\n",
    "while i.hasNext():\n",
    "    v.append(i.next())\n",
    "print(v)"
   ]
  },
  {
   "cell_type": "code",
   "execution_count": null,
   "id": "87bcc5d3",
   "metadata": {},
   "outputs": [],
   "source": []
  }
 ],
 "metadata": {
  "kernelspec": {
   "display_name": "Python 3",
   "language": "python",
   "name": "python3"
  },
  "language_info": {
   "codemirror_mode": {
    "name": "ipython",
    "version": 3
   },
   "file_extension": ".py",
   "mimetype": "text/x-python",
   "name": "python",
   "nbconvert_exporter": "python",
   "pygments_lexer": "ipython3",
   "version": "3.7.4"
  }
 },
 "nbformat": 4,
 "nbformat_minor": 5
}
