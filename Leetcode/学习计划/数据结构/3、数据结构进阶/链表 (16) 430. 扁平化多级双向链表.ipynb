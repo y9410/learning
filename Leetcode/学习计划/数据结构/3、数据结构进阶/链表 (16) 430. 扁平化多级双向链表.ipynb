{
 "cells": [
  {
   "cell_type": "markdown",
   "id": "28815375",
   "metadata": {},
   "source": [
    "# 题目"
   ]
  },
  {
   "cell_type": "markdown",
   "id": "690474fc",
   "metadata": {},
   "source": [
    "> 你会得到一个双链表，其中包含的节点有一个下一个指针、一个前一个指针和一个额外的子指针。这个子指针可能指向一个单独的双向链表，也包含这些特殊的节点。这些子列表可以有一个或多个自己的子列表，以此类推，以生成如下面的示例所示的多层数据结构。  \n",
    "给定链表的头节点 head ，将链表扁平化，以便所有节点都出现在单层双链表中。让 curr 是一个带有子列表的节点。子列表中的节点应该出现在扁平化列表中的 curr 之后和 curr.next 之前。  \n",
    "返回扁平列表的 head 。列表中的节点必须将其所有子指针设置为 null 。  \n",
    "例如：链表 [1,2,3] ，其中节点 3 为节点 1 的子节点，处理完后的扁平链表应该为 [1,3,2] ，其中节点 1 的 next 指向节点 3 ，节点 3 的 next 指向节点 2 。"
   ]
  },
  {
   "cell_type": "markdown",
   "id": "63794b71",
   "metadata": {},
   "source": [
    "# 方法一：深度优先搜索"
   ]
  },
  {
   "cell_type": "markdown",
   "id": "45238e60",
   "metadata": {},
   "source": [
    "> 遍历到某个 child 不为空的节点 node 时，进行扁平化操作：  \n",
    "1. 将 node 与 node 的下一个节点 next 断开；\n",
    "2. 将 node 与 child 相连；\n",
    "3. 将子链表的最后一个节点 last 与 next 相连。\n",
    "\n",
    "> 需要注意：node 可能没有下一个节点，即 next 为空，此时只需进行第二步操作；此外，在插入扁平化的链表后，需要将 node 的 child 成员置为空。"
   ]
  },
  {
   "cell_type": "markdown",
   "id": "f9c69670",
   "metadata": {},
   "source": [
    "## 复杂度"
   ]
  },
  {
   "cell_type": "markdown",
   "id": "d6308da2",
   "metadata": {},
   "source": [
    "- 时间复杂度: $O(n)$ ，其中 $n$ 是输入链表的节点个数。"
   ]
  },
  {
   "cell_type": "markdown",
   "id": "8ac33aae",
   "metadata": {},
   "source": [
    "> 遍历链表的每个节点。"
   ]
  },
  {
   "cell_type": "markdown",
   "id": "8a622487",
   "metadata": {},
   "source": [
    "- 空间复杂度: $O(n)$ ，其中 $n$ 是输入链表的节点个数。"
   ]
  },
  {
   "cell_type": "markdown",
   "id": "db1b2748",
   "metadata": {},
   "source": [
    "> 使用的空间为深度优先搜索中的栈空间，如果给定的链表的「深度」为 d ，那么空间复杂度为 $O(d)$ 。在最坏情况下，链表中的每个节点的 next 都为空，且除了最后一个节点外，每个节点的 child 都不为空，整个链表的深度为 n ，因此空间复杂度为 $O(n)$ 。"
   ]
  },
  {
   "cell_type": "markdown",
   "id": "96cc5a38",
   "metadata": {},
   "source": [
    "## 代码"
   ]
  },
  {
   "cell_type": "code",
   "execution_count": 1,
   "id": "b95899f8",
   "metadata": {},
   "outputs": [],
   "source": [
    "class Node:\n",
    "    def __init__(self, val, prev, next, child):\n",
    "        self.val = val\n",
    "        self.prev = prev\n",
    "        self.next = next\n",
    "        self.child = child"
   ]
  },
  {
   "cell_type": "code",
   "execution_count": 2,
   "id": "a883c6d3",
   "metadata": {},
   "outputs": [],
   "source": [
    "def flatten(head):\n",
    "    def dfs(node):\n",
    "        cur = node\n",
    "        \n",
    "        # 记录子链表的最后一个节点\n",
    "        last = None\n",
    "        \n",
    "        # 遍历链表\n",
    "        while cur:\n",
    "            nxt = cur.next\n",
    "            # 如果有子节点，那么首先处理子节点\n",
    "            if cur.child:\n",
    "                child_last = dfs(cur.child)  # 递归得到子链表的末尾节点\n",
    "                \n",
    "                nxt = cur.next  # 记录子链表末端需要连接的下一个节点\n",
    "                \n",
    "                # 将当前具有子节点的节点node与其子节点child相连\n",
    "                cur.next = cur.child\n",
    "                cur.child.prev = cur\n",
    "\n",
    "                # 如果当前节点原先的next不为空，就将子链表的末尾结点last与当前节点原先的next节点相连\n",
    "                if nxt:\n",
    "                    child_last.next = nxt\n",
    "                    nxt.prev = child_last\n",
    "\n",
    "                # 将child置为空\n",
    "                cur.child = None\n",
    "                last = child_last\n",
    "            # 如果没有子节点，last就是当前节点\n",
    "            else:\n",
    "                last = cur\n",
    "            # 向下继续遍历\n",
    "            cur = nxt\n",
    "        # 最终返回当前子链表的末尾节点\n",
    "        return last\n",
    "\n",
    "    dfs(head)\n",
    "    return head"
   ]
  },
  {
   "cell_type": "markdown",
   "id": "f9738f21",
   "metadata": {},
   "source": [
    "#### 测试一"
   ]
  },
  {
   "cell_type": "code",
   "execution_count": 3,
   "id": "7603c7bb",
   "metadata": {},
   "outputs": [
    {
     "name": "stdout",
     "output_type": "stream",
     "text": [
      "1 3 2\n",
      "2 3 1\n"
     ]
    }
   ],
   "source": [
    "L2 = Node(3, prev=None, next=None, child=None)\n",
    "L1 = Node(2, prev=None, next=None, child=None)\n",
    "head = Node(1, prev=None, next=L1, child=L2)\n",
    "L1.prev = head\n",
    "\n",
    "newhead = flatten(head)\n",
    "print(newhead.val, newhead.next.val, newhead.next.next.val)\n",
    "print(newhead.next.next.val, newhead.next.next.prev.val, newhead.next.next.prev.prev.val)"
   ]
  },
  {
   "cell_type": "code",
   "execution_count": null,
   "id": "d98d70bc",
   "metadata": {},
   "outputs": [],
   "source": []
  }
 ],
 "metadata": {
  "kernelspec": {
   "display_name": "Python 3",
   "language": "python",
   "name": "python3"
  },
  "language_info": {
   "codemirror_mode": {
    "name": "ipython",
    "version": 3
   },
   "file_extension": ".py",
   "mimetype": "text/x-python",
   "name": "python",
   "nbconvert_exporter": "python",
   "pygments_lexer": "ipython3",
   "version": "3.7.4"
  }
 },
 "nbformat": 4,
 "nbformat_minor": 5
}
