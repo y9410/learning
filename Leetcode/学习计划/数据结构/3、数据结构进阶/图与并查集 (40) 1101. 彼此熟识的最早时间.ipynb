{
 "cells": [
  {
   "cell_type": "markdown",
   "id": "c77bd224",
   "metadata": {},
   "source": [
    "# 题目"
   ]
  },
  {
   "cell_type": "markdown",
   "id": "df2ce36b",
   "metadata": {},
   "source": [
    "> 在一个社交圈子当中，有 n 个人。每个人都有一个从 0 到 n - 1 的唯一编号。我们有一份日志列表 logs，其中 logs[i] = [timestampi, xi, yi] 表示 xi 和 yi 将在同一时间 timestampi 成为朋友。  \n",
    "友谊是相互的。也就是说，如果 a 和 b 是朋友，那么 b 和 a 也是朋友。同样，如果 a 和 b 是朋友，或者 a 是 b 朋友的朋友 ，那么 a 和 b 是熟识友。  \n",
    "返回圈子里所有人之间都熟识的最早时间。如果找不到最早时间，就返回 -1 。"
   ]
  },
  {
   "cell_type": "markdown",
   "id": "1199e72d",
   "metadata": {},
   "source": [
    "# 方法一：并查集"
   ]
  },
  {
   "cell_type": "markdown",
   "id": "2196e0ab",
   "metadata": {},
   "source": [
    "> 标准并查集问题。"
   ]
  },
  {
   "cell_type": "markdown",
   "id": "e7e6764f",
   "metadata": {},
   "source": [
    "## 复杂度"
   ]
  },
  {
   "cell_type": "markdown",
   "id": "3f1acde4",
   "metadata": {},
   "source": [
    "- 时间复杂度: $O(m\\alpha(n))$ ，其中 $m$ 是数组 logs 的长度， $n$ 是人数， $\\alpha$ 是阿克曼函数的反函数。"
   ]
  },
  {
   "cell_type": "markdown",
   "id": "f36656b3",
   "metadata": {},
   "source": [
    "- 空间复杂度: $O(n)$ ，其中 $n$ 是人数。"
   ]
  },
  {
   "cell_type": "markdown",
   "id": "6ecea190",
   "metadata": {},
   "source": [
    "> 并查集所需的空间。"
   ]
  },
  {
   "cell_type": "markdown",
   "id": "2a29240b",
   "metadata": {},
   "source": [
    "## 代码"
   ]
  },
  {
   "cell_type": "code",
   "execution_count": 1,
   "id": "1a24fdbc",
   "metadata": {},
   "outputs": [],
   "source": [
    "# 标准的并查集类\n",
    "class UnionFind:\n",
    "    def __init__(self, n):\n",
    "        self.n = n\n",
    "        self.part = n  # 记录集合数量\n",
    "        self.parent = [x for x in range(n)]  # 记录节点指向\n",
    "        self.size = [1 for _ in range(n)]  # 记录集合的大小（节点个数）\n",
    "\n",
    "    # 找寻节点x所属集合的代表元素，并进行路径压缩\n",
    "    def Find(self, x):\n",
    "        if self.parent[x] == x:\n",
    "            return x\n",
    "        return self.Find(self.parent[x])\n",
    "\n",
    "    # 合并节点x,y各自的所属集合\n",
    "    def Union(self, x, y):\n",
    "        root_x = self.Find(x)\n",
    "        root_y = self.Find(y)\n",
    "        if root_x == root_y:\n",
    "            return False\n",
    "        # 按size合并\n",
    "        if self.size[root_x] > self.size[root_y]:\n",
    "            root_x, root_y = root_y, root_x\n",
    "        \n",
    "        self.parent[root_x] = root_y\n",
    "        self.size[root_y] += self.size[root_x]\n",
    "        self.part -= 1\n",
    "        return True\n",
    "    \n",
    "    # 查看节点x,y是否同属于一个集合\n",
    "    def in_the_same_part(self, x, y):\n",
    "        return self.Find(x) == self.Find(y)\n",
    "    \n",
    "    # 得到集合的size\n",
    "    def get_part_size(self, x):\n",
    "        root_x = self.Find(x)\n",
    "        return self.size[root_x]"
   ]
  },
  {
   "cell_type": "code",
   "execution_count": 2,
   "id": "37979583",
   "metadata": {},
   "outputs": [],
   "source": [
    "# 解法\n",
    "class Solution:\n",
    "    def earliestAcq(self, logs, N):\n",
    "        UF = UnionFind(N)\n",
    "        # 按结交时间排序\n",
    "        logs.sort()\n",
    "        for timestamp, x, y in logs:\n",
    "            # 按结交时间对节点所属的集合进行合并\n",
    "            UF.Union(x, y)\n",
    "            # 当所有人都合并到一个集合中时，该结交时间就是最早时间\n",
    "            if UF.part == 1:\n",
    "                return timestamp\n",
    "        # 遍历完成后，若集合数大于1，说明并不是所有人都相互熟识\n",
    "        return -1"
   ]
  },
  {
   "cell_type": "markdown",
   "id": "0c767cf3",
   "metadata": {},
   "source": [
    "#### 测试一"
   ]
  },
  {
   "cell_type": "code",
   "execution_count": 3,
   "id": "4a342100",
   "metadata": {},
   "outputs": [
    {
     "data": {
      "text/plain": [
       "20190301"
      ]
     },
     "execution_count": 3,
     "metadata": {},
     "output_type": "execute_result"
    }
   ],
   "source": [
    "logs = [[20190101,0,1],[20190104,3,4],[20190107,2,3],[20190211,1,5],[20190224,2,4],[20190301,0,3],[20190312,1,2],[20190322,4,5]]\n",
    "N = 6\n",
    "\n",
    "test = Solution()\n",
    "test.earliestAcq(logs, N)"
   ]
  },
  {
   "cell_type": "markdown",
   "id": "5d38e6c9",
   "metadata": {},
   "source": [
    "#### 测试二"
   ]
  },
  {
   "cell_type": "code",
   "execution_count": 4,
   "id": "caaef7cb",
   "metadata": {},
   "outputs": [
    {
     "data": {
      "text/plain": [
       "3"
      ]
     },
     "execution_count": 4,
     "metadata": {},
     "output_type": "execute_result"
    }
   ],
   "source": [
    "logs = [[0,2,0],[1,0,1],[3,0,3],[4,1,2],[7,3,1]]\n",
    "N = 4\n",
    "\n",
    "test = Solution()\n",
    "test.earliestAcq(logs, N)"
   ]
  },
  {
   "cell_type": "code",
   "execution_count": null,
   "id": "941d9013",
   "metadata": {},
   "outputs": [],
   "source": []
  }
 ],
 "metadata": {
  "kernelspec": {
   "display_name": "Python 3",
   "language": "python",
   "name": "python3"
  },
  "language_info": {
   "codemirror_mode": {
    "name": "ipython",
    "version": 3
   },
   "file_extension": ".py",
   "mimetype": "text/x-python",
   "name": "python",
   "nbconvert_exporter": "python",
   "pygments_lexer": "ipython3",
   "version": "3.7.4"
  }
 },
 "nbformat": 4,
 "nbformat_minor": 5
}
