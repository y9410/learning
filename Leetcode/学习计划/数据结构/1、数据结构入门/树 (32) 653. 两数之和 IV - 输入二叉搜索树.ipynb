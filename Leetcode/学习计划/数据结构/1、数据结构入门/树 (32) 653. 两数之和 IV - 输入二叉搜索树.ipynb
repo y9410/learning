{
 "cells": [
  {
   "cell_type": "markdown",
   "id": "32b77151",
   "metadata": {},
   "source": [
    "# 题目"
   ]
  },
  {
   "cell_type": "markdown",
   "id": "7a4a0701",
   "metadata": {},
   "source": [
    "> 给你一个二叉树的根节点 `root` 和一个目标结果 `k` ，如果二叉搜索树中存在两个元素且它们的和等于给定的目标结果，则返回 `true` 。"
   ]
  },
  {
   "cell_type": "markdown",
   "id": "51ff2a14",
   "metadata": {},
   "source": [
    "# 方法一：广度优先搜索 + 哈希表"
   ]
  },
  {
   "cell_type": "markdown",
   "id": "4bcb0b8b",
   "metadata": {},
   "source": [
    "> 使用广度优先搜索的方式遍历整棵树，用哈希表记录遍历过的节点的值。  \n",
    "具体地，创建一个哈希表和一个队列，将根节点加入队列中，然后执行以下步骤：\n",
    "1、从队列中取出队头，假设其值为 `x` ；  \n",
    "2、检查哈希表中是否存在 `k−x` ，如果存在，返回 `True` ；  \n",
    "3、否则，将 `k−x` 加入哈希表，并将该节点的左右的非空子节点加入队尾；  \n",
    "4、重复以上步骤，直到队列为空；  \n",
    "5、如果队列为空，说明树上不存在两个和为 `k` 的节点，返回 `False` 。"
   ]
  },
  {
   "cell_type": "markdown",
   "id": "b82a882d",
   "metadata": {},
   "source": [
    "## 复杂度"
   ]
  },
  {
   "cell_type": "markdown",
   "id": "c94b9fde",
   "metadata": {},
   "source": [
    "- 时间复杂度: $O(N)$ ，其中 $N$ 是二叉搜索树的节点数。"
   ]
  },
  {
   "cell_type": "markdown",
   "id": "7e8981b6",
   "metadata": {},
   "source": [
    "> 遍历整棵树一次。"
   ]
  },
  {
   "cell_type": "markdown",
   "id": "23230c0d",
   "metadata": {},
   "source": [
    "- 空间复杂度: $O(N)$ ，其中 $N$ 是二叉搜索树的节点数。"
   ]
  },
  {
   "cell_type": "markdown",
   "id": "8eb8e736",
   "metadata": {},
   "source": [
    "> 主要为哈希表的开销，最坏情况下需要将每个节点加入哈希表一次。"
   ]
  },
  {
   "cell_type": "markdown",
   "id": "2da57083",
   "metadata": {},
   "source": [
    "## 代码"
   ]
  },
  {
   "cell_type": "markdown",
   "id": "f62ea013",
   "metadata": {},
   "source": [
    "### 代码：构建二叉树 "
   ]
  },
  {
   "cell_type": "code",
   "execution_count": 1,
   "id": "fd084a6a",
   "metadata": {},
   "outputs": [],
   "source": [
    "class TreeNode:\n",
    "    def __init__(self, val=0, left=None, right=None):\n",
    "        self.val = val\n",
    "        self.left = left\n",
    "        self.right = right"
   ]
  },
  {
   "cell_type": "markdown",
   "id": "883ba1d8",
   "metadata": {},
   "source": [
    "### 代码：广度优先搜索 + 哈希表"
   ]
  },
  {
   "cell_type": "code",
   "execution_count": 2,
   "id": "f64a4049",
   "metadata": {},
   "outputs": [],
   "source": [
    "import collections"
   ]
  },
  {
   "cell_type": "code",
   "execution_count": 3,
   "id": "98741ce9",
   "metadata": {},
   "outputs": [],
   "source": [
    "def findTarget(root, k):\n",
    "    s = set()\n",
    "    q = collections.deque([root])\n",
    "    while q:\n",
    "        node = q.popleft()\n",
    "        if k - node.val in s:\n",
    "            return True\n",
    "        s.add(node.val)\n",
    "        if node.left:\n",
    "            q.append(node.left)\n",
    "        if node.right:\n",
    "            q.append(node.right)\n",
    "    return False"
   ]
  },
  {
   "cell_type": "markdown",
   "id": "e9a40b72",
   "metadata": {},
   "source": [
    "#### 测试一"
   ]
  },
  {
   "cell_type": "code",
   "execution_count": 4,
   "id": "a36111fd",
   "metadata": {},
   "outputs": [],
   "source": [
    "root = TreeNode(5)\n",
    "a = TreeNode(1)\n",
    "b = TreeNode(7)\n",
    "c = TreeNode(6)\n",
    "d = TreeNode(8)"
   ]
  },
  {
   "cell_type": "code",
   "execution_count": 5,
   "id": "d5803de7",
   "metadata": {},
   "outputs": [],
   "source": [
    "root.left = a\n",
    "root.right = b\n",
    "b.left = c\n",
    "b.right = d"
   ]
  },
  {
   "cell_type": "code",
   "execution_count": 6,
   "id": "e66a7b2f",
   "metadata": {},
   "outputs": [
    {
     "data": {
      "text/plain": [
       "True"
      ]
     },
     "execution_count": 6,
     "metadata": {},
     "output_type": "execute_result"
    }
   ],
   "source": [
    "findTarget(root, 6)"
   ]
  },
  {
   "cell_type": "markdown",
   "id": "0c067211",
   "metadata": {},
   "source": [
    "#### 测试二"
   ]
  },
  {
   "cell_type": "code",
   "execution_count": 7,
   "id": "d2a3188f",
   "metadata": {},
   "outputs": [
    {
     "data": {
      "text/plain": [
       "False"
      ]
     },
     "execution_count": 7,
     "metadata": {},
     "output_type": "execute_result"
    }
   ],
   "source": [
    "findTarget(root, 5)"
   ]
  },
  {
   "cell_type": "markdown",
   "id": "cec697c9",
   "metadata": {},
   "source": [
    "#### 测试三"
   ]
  },
  {
   "cell_type": "code",
   "execution_count": 8,
   "id": "43ace155",
   "metadata": {},
   "outputs": [
    {
     "data": {
      "text/plain": [
       "False"
      ]
     },
     "execution_count": 8,
     "metadata": {},
     "output_type": "execute_result"
    }
   ],
   "source": [
    "findTarget(root, 20)"
   ]
  },
  {
   "cell_type": "code",
   "execution_count": null,
   "id": "87fd7160",
   "metadata": {},
   "outputs": [],
   "source": []
  }
 ],
 "metadata": {
  "kernelspec": {
   "display_name": "Python 3",
   "language": "python",
   "name": "python3"
  },
  "language_info": {
   "codemirror_mode": {
    "name": "ipython",
    "version": 3
   },
   "file_extension": ".py",
   "mimetype": "text/x-python",
   "name": "python",
   "nbconvert_exporter": "python",
   "pygments_lexer": "ipython3",
   "version": "3.7.4"
  }
 },
 "nbformat": 4,
 "nbformat_minor": 5
}
