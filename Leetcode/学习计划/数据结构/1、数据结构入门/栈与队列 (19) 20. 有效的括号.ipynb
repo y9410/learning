{
 "cells": [
  {
   "cell_type": "markdown",
   "id": "6d662625",
   "metadata": {},
   "source": [
    "# 题目"
   ]
  },
  {
   "cell_type": "markdown",
   "id": "8446eafa",
   "metadata": {},
   "source": [
    "> 给定一个只包括 `'('`，`')'`，`'{'`，`'}'`，`'['`，`']'` 的字符串 `s` ，判断字符串是否有效。  \n",
    "> 有效字符串需满足：  \n",
    "> 左括号必须用相同类型的右括号闭合；   \n",
    "> 左括号必须以正确的顺序闭合；  \n",
    "> 每个右括号都有一个对应的相同类型的左括号。"
   ]
  },
  {
   "cell_type": "markdown",
   "id": "63a98a05",
   "metadata": {},
   "source": [
    "# 方法一：栈"
   ]
  },
  {
   "cell_type": "markdown",
   "id": "125c8089",
   "metadata": {},
   "source": [
    "> 构建一个栈。遍历字符串，遇到左括号时，将其推入栈；遇到右括号时，查看栈最上一层的括号是否匹配，若是，则将其移出栈，继续遍历字符串，否则返回False。遍历完字符串后，若栈为空，则返回True。"
   ]
  },
  {
   "cell_type": "markdown",
   "id": "1bd53937",
   "metadata": {},
   "source": [
    "## 复杂度"
   ]
  },
  {
   "cell_type": "markdown",
   "id": "6e46baa9",
   "metadata": {},
   "source": [
    "- 时间复杂度: $O(n)$ ，其中 $n$ 是字符串 `s` 的长度。"
   ]
  },
  {
   "cell_type": "markdown",
   "id": "5040e4ec",
   "metadata": {},
   "source": [
    "> 需要遍历字符串一次。"
   ]
  },
  {
   "cell_type": "markdown",
   "id": "5cd15766",
   "metadata": {},
   "source": [
    "- 空间复杂度: $O(n+|Σ|)$ ，其中 $Σ$ 表示字符集大小，本题中字符串只包含 6 种括号， $|Σ|=6$ 。"
   ]
  },
  {
   "cell_type": "markdown",
   "id": "249238f2",
   "metadata": {},
   "source": [
    "> 栈中的字符数量为 $O(n)$ ，而哈希表使用的空间为 $O(|Σ|)$ ，相加即可得到总空间复杂度。"
   ]
  },
  {
   "cell_type": "markdown",
   "id": "791c90d4",
   "metadata": {},
   "source": [
    "## 代码"
   ]
  },
  {
   "cell_type": "code",
   "execution_count": 1,
   "id": "f5b3c876",
   "metadata": {},
   "outputs": [],
   "source": [
    "def isValid(s):\n",
    "    if len(s) % 2 == 1:\n",
    "        return False\n",
    "        \n",
    "    pairs = {\")\": \"(\", #用字典记录括号的对应情况\n",
    "             \"]\": \"[\",\n",
    "             \"}\": \"{\",}\n",
    "    stack = list() #用一个栈来判断括号的匹配情况\n",
    "    for ch in s:\n",
    "        if ch in pairs: #若是右括号，则使用栈进行判断\n",
    "            if not stack or stack[-1] != pairs[ch]: #若栈为空或栈的最上层字符不是对应的左括号，返回False\n",
    "                return False\n",
    "            stack.pop()\n",
    "        else: #若是左括号，则将其加入栈，最后加入的括号在最上面\n",
    "            stack.append(ch)\n",
    "        \n",
    "    return not stack #若栈为空，则返回True"
   ]
  },
  {
   "cell_type": "markdown",
   "id": "cca663be",
   "metadata": {},
   "source": [
    "#### 测试一 "
   ]
  },
  {
   "cell_type": "code",
   "execution_count": 2,
   "id": "963fb276",
   "metadata": {},
   "outputs": [
    {
     "data": {
      "text/plain": [
       "True"
      ]
     },
     "execution_count": 2,
     "metadata": {},
     "output_type": "execute_result"
    }
   ],
   "source": [
    "s = \"()[]{}\"\n",
    "isValid(s)"
   ]
  },
  {
   "cell_type": "markdown",
   "id": "52e52f65",
   "metadata": {},
   "source": [
    "#### 测试二"
   ]
  },
  {
   "cell_type": "code",
   "execution_count": 3,
   "id": "a898482e",
   "metadata": {},
   "outputs": [
    {
     "data": {
      "text/plain": [
       "False"
      ]
     },
     "execution_count": 3,
     "metadata": {},
     "output_type": "execute_result"
    }
   ],
   "source": [
    "s = \"(]{}\"\n",
    "isValid(s)"
   ]
  },
  {
   "cell_type": "markdown",
   "id": "0f5810d7",
   "metadata": {},
   "source": [
    "#### 测试三"
   ]
  },
  {
   "cell_type": "code",
   "execution_count": 4,
   "id": "cd9cc1d6",
   "metadata": {},
   "outputs": [
    {
     "data": {
      "text/plain": [
       "False"
      ]
     },
     "execution_count": 4,
     "metadata": {},
     "output_type": "execute_result"
    }
   ],
   "source": [
    "s = \"([(]\"\n",
    "isValid(s)"
   ]
  },
  {
   "cell_type": "code",
   "execution_count": null,
   "id": "c6dd2fb7",
   "metadata": {},
   "outputs": [],
   "source": []
  }
 ],
 "metadata": {
  "kernelspec": {
   "display_name": "Python 3",
   "language": "python",
   "name": "python3"
  },
  "language_info": {
   "codemirror_mode": {
    "name": "ipython",
    "version": 3
   },
   "file_extension": ".py",
   "mimetype": "text/x-python",
   "name": "python",
   "nbconvert_exporter": "python",
   "pygments_lexer": "ipython3",
   "version": "3.7.4"
  }
 },
 "nbformat": 4,
 "nbformat_minor": 5
}
