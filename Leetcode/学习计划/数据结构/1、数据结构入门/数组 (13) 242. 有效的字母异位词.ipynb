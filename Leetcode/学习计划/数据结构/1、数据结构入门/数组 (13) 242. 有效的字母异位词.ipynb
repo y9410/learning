{
 "cells": [
  {
   "cell_type": "markdown",
   "id": "f23143b0",
   "metadata": {},
   "source": [
    "# 题目"
   ]
  },
  {
   "cell_type": "markdown",
   "id": "11e65c9c",
   "metadata": {},
   "source": [
    "> 给定两个字符串 `s` 和 `t` ，编写一个函数来判断 `t` 是否是 `s` 的字母异位词。  \n",
    "> 若 `s` 和 `t` 中每个字符出现的次数都相同，则称 `s` 和 `t` 互为字母异位词。"
   ]
  },
  {
   "cell_type": "markdown",
   "id": "38e12ec8",
   "metadata": {},
   "source": [
    "# 方法一：用哈希表进行字符统计"
   ]
  },
  {
   "cell_type": "markdown",
   "id": "6660a1eb",
   "metadata": {},
   "source": [
    "> 统计两个字符串中的字符频次，若两者的字符频次相同，则返回 True，否则返回 False。"
   ]
  },
  {
   "cell_type": "markdown",
   "id": "a8e9cc6b",
   "metadata": {},
   "source": [
    "## 复杂度"
   ]
  },
  {
   "cell_type": "markdown",
   "id": "e2f97557",
   "metadata": {},
   "source": [
    "- 时间复杂度: $O(n)$ ，其中 $n$ 是字符串的长度。"
   ]
  },
  {
   "cell_type": "markdown",
   "id": "99f8db8f",
   "metadata": {},
   "source": [
    "> 只需要遍历两个字符串一次。"
   ]
  },
  {
   "cell_type": "markdown",
   "id": "af66753c",
   "metadata": {},
   "source": [
    "- 空间复杂度: $O(∣S∣)$ ，其中 $S$ 是字符集。"
   ]
  },
  {
   "cell_type": "markdown",
   "id": "47c8fa9b",
   "metadata": {},
   "source": [
    "> 在本题中字符串只包含小写字母，因此 $∣S∣=26$ 。"
   ]
  },
  {
   "cell_type": "markdown",
   "id": "754e396d",
   "metadata": {},
   "source": [
    "## 代码"
   ]
  },
  {
   "cell_type": "code",
   "execution_count": 1,
   "id": "2b004c42",
   "metadata": {},
   "outputs": [],
   "source": [
    "def isAnagram(s, t):\n",
    "    record = [0] * 26 #字符一共只有26种\n",
    "    \n",
    "    for i in range(len(s)): #并不需要记住字符a的ASCII，只要求出一个相对数值就可以了\n",
    "        record[ord(s[i]) - ord(\"a\")] += 1\n",
    "    for i in range(len(t)):\n",
    "        record[ord(t[i]) - ord(\"a\")] -= 1\n",
    "    \n",
    "    for i in range(26):\n",
    "        if record[i] != 0: #record数组如果有的元素不为零0，说明字符串s和t 一定是谁多了字符或者谁少了字符。 \n",
    "            return False\n",
    "    return True"
   ]
  },
  {
   "cell_type": "code",
   "execution_count": 2,
   "id": "a9cb1452",
   "metadata": {
    "scrolled": true
   },
   "outputs": [
    {
     "data": {
      "text/plain": [
       "True"
      ]
     },
     "execution_count": 2,
     "metadata": {},
     "output_type": "execute_result"
    }
   ],
   "source": [
    "s = \"anagram\"\n",
    "t = \"nagaram\"\n",
    "isAnagram(s, t)"
   ]
  },
  {
   "cell_type": "code",
   "execution_count": 3,
   "id": "9fedd2d3",
   "metadata": {},
   "outputs": [
    {
     "data": {
      "text/plain": [
       "False"
      ]
     },
     "execution_count": 3,
     "metadata": {},
     "output_type": "execute_result"
    }
   ],
   "source": [
    "s = \"rat\"\n",
    "t = \"car\"\n",
    "isAnagram(s, t)"
   ]
  },
  {
   "cell_type": "code",
   "execution_count": null,
   "id": "511beba1",
   "metadata": {},
   "outputs": [],
   "source": []
  }
 ],
 "metadata": {
  "kernelspec": {
   "display_name": "Python 3",
   "language": "python",
   "name": "python3"
  },
  "language_info": {
   "codemirror_mode": {
    "name": "ipython",
    "version": 3
   },
   "file_extension": ".py",
   "mimetype": "text/x-python",
   "name": "python",
   "nbconvert_exporter": "python",
   "pygments_lexer": "ipython3",
   "version": "3.7.4"
  }
 },
 "nbformat": 4,
 "nbformat_minor": 5
}
