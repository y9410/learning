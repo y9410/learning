{
 "cells": [
  {
   "cell_type": "markdown",
   "id": "69b47593",
   "metadata": {},
   "source": [
    "# 题目"
   ]
  },
  {
   "cell_type": "markdown",
   "id": "09807d04",
   "metadata": {},
   "source": [
    "> 给你二叉树的根节点 `root` ，返回其节点值的**层序遍历**。  \n",
    "> **层序遍历**是即逐层地，从左到右访问所有节点。"
   ]
  },
  {
   "cell_type": "markdown",
   "id": "98833456",
   "metadata": {},
   "source": [
    "# 方法一：广度优先搜索"
   ]
  },
  {
   "cell_type": "markdown",
   "id": "206719bc",
   "metadata": {},
   "source": [
    "> 广度优先搜素使用队列，把每个还没有搜索到的点依次放入队列，然后再弹出队列的头部元素当做当前遍历点。使用队列保存每层的所有节点，每次把队列里的原先所有节点进行出队列操作，再把每个元素的非空左右子节点进入队列。因此即可得到每层的遍历。"
   ]
  },
  {
   "cell_type": "markdown",
   "id": "368bc6ae",
   "metadata": {},
   "source": [
    "## 复杂度"
   ]
  },
  {
   "cell_type": "markdown",
   "id": "fbc12d51",
   "metadata": {},
   "source": [
    "- 时间复杂度: $O(n)$ ，其中 $n$ 是二叉树的节点数。"
   ]
  },
  {
   "cell_type": "markdown",
   "id": "5e6ded54",
   "metadata": {},
   "source": [
    "> 每个点进队出队各一次，故渐进时间复杂度为 $O(n)$ 。"
   ]
  },
  {
   "cell_type": "markdown",
   "id": "9d4bf970",
   "metadata": {},
   "source": [
    "- 空间复杂度: $O(n)$ ，其中 $n$ 是二叉树的节点数。"
   ]
  },
  {
   "cell_type": "markdown",
   "id": "48fa0391",
   "metadata": {},
   "source": [
    "> 队列中元素的个数不超过 $n$ 个，故渐进空间复杂度为 $O(n)$ 。"
   ]
  },
  {
   "cell_type": "markdown",
   "id": "9c505878",
   "metadata": {},
   "source": [
    "## 代码"
   ]
  },
  {
   "cell_type": "markdown",
   "id": "f6ad1637",
   "metadata": {},
   "source": [
    "### 代码：构建二叉树 "
   ]
  },
  {
   "cell_type": "code",
   "execution_count": 1,
   "id": "46c92903",
   "metadata": {},
   "outputs": [],
   "source": [
    "class TreeNode:\n",
    "    def __init__(self, val=0, left=None, right=None):\n",
    "        self.val = val\n",
    "        self.left = left\n",
    "        self.right = right"
   ]
  },
  {
   "cell_type": "markdown",
   "id": "ee19d26c",
   "metadata": {},
   "source": [
    "### 代码：广度优先搜索"
   ]
  },
  {
   "cell_type": "code",
   "execution_count": 2,
   "id": "686083c4",
   "metadata": {},
   "outputs": [],
   "source": [
    "import collections"
   ]
  },
  {
   "cell_type": "code",
   "execution_count": 3,
   "id": "cd4f1779",
   "metadata": {},
   "outputs": [],
   "source": [
    "def levelOrder(root):\n",
    "        \n",
    "    queue = collections.deque() #创建双端队列\n",
    "    queue.append(root)\n",
    "    res = []\n",
    "    while queue:\n",
    "        size = len(queue)\n",
    "        level = [] #用于储存每一层的所有节点，每一层遍历完成后，清空列表\n",
    "        for _ in range(size): #遍历当前层的所有节点\n",
    "            cur = queue.popleft() #从双端队列头部取出当前节点\n",
    "            if not cur:\n",
    "                continue\n",
    "            level.append(cur.val) #将当前节点值加入level\n",
    "            queue.append(cur.left) #并在队列尾端插入当前节点的左右子节点\n",
    "            queue.append(cur.right)\n",
    "        if level:\n",
    "            res.append(level)\n",
    "    return res"
   ]
  },
  {
   "cell_type": "markdown",
   "id": "b54f1d96",
   "metadata": {},
   "source": [
    "#### 测试一 "
   ]
  },
  {
   "cell_type": "code",
   "execution_count": 4,
   "id": "4dd186ca",
   "metadata": {},
   "outputs": [],
   "source": [
    "root = TreeNode(3)\n",
    "a = TreeNode(9)\n",
    "b = TreeNode(20)\n",
    "c = TreeNode(15)\n",
    "d = TreeNode(7)"
   ]
  },
  {
   "cell_type": "code",
   "execution_count": 5,
   "id": "c3014778",
   "metadata": {},
   "outputs": [],
   "source": [
    "root.left = a\n",
    "root.right = b\n",
    "b.left = c\n",
    "b.right = d"
   ]
  },
  {
   "cell_type": "code",
   "execution_count": 6,
   "id": "bebdbfc5",
   "metadata": {},
   "outputs": [
    {
     "data": {
      "text/plain": [
       "[[3], [9, 20], [15, 7]]"
      ]
     },
     "execution_count": 6,
     "metadata": {},
     "output_type": "execute_result"
    }
   ],
   "source": [
    "levelOrder(root)"
   ]
  },
  {
   "cell_type": "markdown",
   "id": "3ba8658a",
   "metadata": {},
   "source": [
    "#### 测试二"
   ]
  },
  {
   "cell_type": "code",
   "execution_count": 7,
   "id": "ca785a11",
   "metadata": {},
   "outputs": [],
   "source": [
    "root = TreeNode(1)"
   ]
  },
  {
   "cell_type": "code",
   "execution_count": 8,
   "id": "e7fc308d",
   "metadata": {
    "scrolled": true
   },
   "outputs": [
    {
     "data": {
      "text/plain": [
       "[[1]]"
      ]
     },
     "execution_count": 8,
     "metadata": {},
     "output_type": "execute_result"
    }
   ],
   "source": [
    "levelOrder(root)"
   ]
  },
  {
   "cell_type": "markdown",
   "id": "4d0358cf",
   "metadata": {},
   "source": [
    "#### 测试三"
   ]
  },
  {
   "cell_type": "code",
   "execution_count": 9,
   "id": "2601a172",
   "metadata": {},
   "outputs": [],
   "source": [
    "root = None"
   ]
  },
  {
   "cell_type": "code",
   "execution_count": 10,
   "id": "41fb955a",
   "metadata": {
    "scrolled": true
   },
   "outputs": [
    {
     "data": {
      "text/plain": [
       "[]"
      ]
     },
     "execution_count": 10,
     "metadata": {},
     "output_type": "execute_result"
    }
   ],
   "source": [
    "levelOrder(root)"
   ]
  },
  {
   "cell_type": "code",
   "execution_count": null,
   "id": "fdf2546d",
   "metadata": {},
   "outputs": [],
   "source": []
  }
 ],
 "metadata": {
  "kernelspec": {
   "display_name": "Python 3",
   "language": "python",
   "name": "python3"
  },
  "language_info": {
   "codemirror_mode": {
    "name": "ipython",
    "version": 3
   },
   "file_extension": ".py",
   "mimetype": "text/x-python",
   "name": "python",
   "nbconvert_exporter": "python",
   "pygments_lexer": "ipython3",
   "version": "3.7.4"
  }
 },
 "nbformat": 4,
 "nbformat_minor": 5
}
