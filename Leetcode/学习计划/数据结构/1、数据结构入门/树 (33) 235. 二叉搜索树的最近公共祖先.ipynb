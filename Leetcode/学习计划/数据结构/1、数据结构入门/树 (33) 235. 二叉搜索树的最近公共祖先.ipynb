{
 "cells": [
  {
   "cell_type": "markdown",
   "id": "172e32ee",
   "metadata": {},
   "source": [
    "# 题目"
   ]
  },
  {
   "cell_type": "markdown",
   "id": "8bcd4441",
   "metadata": {},
   "source": [
    "> 给定一个二叉搜索树, 找到该树中两个指定节点的最近公共祖先。  \n",
    "**最近公共祖先的定义为：**“对于有根树 T 的两个节点 p、q，最近公共祖先表示为一个节点 x，满足 x 是 p、q 的祖先且 x 的深度尽可能大（一个节点也可以是它自己的祖先）。”"
   ]
  },
  {
   "cell_type": "markdown",
   "id": "5252eab1",
   "metadata": {},
   "source": [
    "# 方法一：一次遍历"
   ]
  },
  {
   "cell_type": "markdown",
   "id": "99191f17",
   "metadata": {},
   "source": [
    "> 可以使用两次遍历来找到最近公共祖先，方法如下：  \n",
    "1、找到节点 p ，记录其遍历路径1；  \n",
    "2、找到节点 q ，记录其遍历路径2；  \n",
    "3、对比路径1和路径2，从前往后对比每个数，最后一个相同的数即为“分岔点”，也就是最近公共祖先。\n",
    "\n",
    "> 但两次遍历可以减少为1次：  \n",
    "1、从根节点开始遍历；  \n",
    "2、如果当前节点的值大于 p 和 q 的值，说明 p 和 q 应该在当前节点的左子树，因此将当前节点移动到它的左子节点；  \n",
    "3、如果当前节点的值小于 p 和 q 的值，说明 p 和 q 应该在当前节点的右子树，因此将当前节点移动到它的右子节点；  \n",
    "4、如果当前节点的值不满足上述两条要求，那么说明当前节点就是“分岔点”。此时，p 和 q 要么在当前节点的不同的子树中，要么其中一个就是当前节点。"
   ]
  },
  {
   "cell_type": "markdown",
   "id": "54bd32c7",
   "metadata": {},
   "source": [
    "## 复杂度"
   ]
  },
  {
   "cell_type": "markdown",
   "id": "6dfc2189",
   "metadata": {},
   "source": [
    "- 时间复杂度: $O(N)$ ，其中 $N$ 是二叉搜索树的节点数。"
   ]
  },
  {
   "cell_type": "markdown",
   "id": "b2c5d07e",
   "metadata": {},
   "source": [
    "> 遍历整棵树一次。"
   ]
  },
  {
   "cell_type": "markdown",
   "id": "18c3f45a",
   "metadata": {},
   "source": [
    "- 空间复杂度: $O(1)$ 。"
   ]
  },
  {
   "cell_type": "markdown",
   "id": "47281049",
   "metadata": {},
   "source": [
    "## 代码"
   ]
  },
  {
   "cell_type": "markdown",
   "id": "c3b798f7",
   "metadata": {},
   "source": [
    "### 代码：构建二叉树 "
   ]
  },
  {
   "cell_type": "code",
   "execution_count": 1,
   "id": "c1a6065d",
   "metadata": {},
   "outputs": [],
   "source": [
    "class TreeNode:\n",
    "    def __init__(self, val=0, left=None, right=None):\n",
    "        self.val = val\n",
    "        self.left = left\n",
    "        self.right = right"
   ]
  },
  {
   "cell_type": "markdown",
   "id": "4f33de01",
   "metadata": {},
   "source": [
    "### 代码：一次遍历"
   ]
  },
  {
   "cell_type": "code",
   "execution_count": 2,
   "id": "f1b2ac1c",
   "metadata": {},
   "outputs": [],
   "source": [
    "def lowestCommonAncestor(root, p, q):\n",
    "    ancestor = root\n",
    "    while True:\n",
    "        if p.val < ancestor.val and q.val < ancestor.val:\n",
    "            ancestor = ancestor.left\n",
    "        elif p.val > ancestor.val and q.val > ancestor.val:\n",
    "            ancestor = ancestor.right\n",
    "        else:\n",
    "            break\n",
    "    return ancestor"
   ]
  },
  {
   "cell_type": "markdown",
   "id": "da617f2c",
   "metadata": {},
   "source": [
    "#### 测试一"
   ]
  },
  {
   "cell_type": "code",
   "execution_count": 3,
   "id": "598c652b",
   "metadata": {},
   "outputs": [],
   "source": [
    "root = TreeNode(5)\n",
    "a = TreeNode(1)\n",
    "b = TreeNode(7)\n",
    "c = TreeNode(6)\n",
    "d = TreeNode(8)"
   ]
  },
  {
   "cell_type": "code",
   "execution_count": 4,
   "id": "653fafa3",
   "metadata": {},
   "outputs": [],
   "source": [
    "root.left = a\n",
    "root.right = b\n",
    "b.left = c\n",
    "b.right = d"
   ]
  },
  {
   "cell_type": "code",
   "execution_count": 5,
   "id": "3428b958",
   "metadata": {},
   "outputs": [
    {
     "data": {
      "text/plain": [
       "7"
      ]
     },
     "execution_count": 5,
     "metadata": {},
     "output_type": "execute_result"
    }
   ],
   "source": [
    "p = c\n",
    "q = d\n",
    "lowestCommonAncestor(root, p, q).val"
   ]
  },
  {
   "cell_type": "markdown",
   "id": "1079cc55",
   "metadata": {},
   "source": [
    "#### 测试二"
   ]
  },
  {
   "cell_type": "code",
   "execution_count": 6,
   "id": "43809445",
   "metadata": {},
   "outputs": [],
   "source": [
    "root = TreeNode(5)\n",
    "a = TreeNode(1)\n",
    "b = TreeNode(7)\n",
    "c = TreeNode(6)\n",
    "d = TreeNode(8)"
   ]
  },
  {
   "cell_type": "code",
   "execution_count": 7,
   "id": "5d471a90",
   "metadata": {},
   "outputs": [],
   "source": [
    "root.left = a\n",
    "root.right = b\n",
    "b.left = c\n",
    "b.right = d"
   ]
  },
  {
   "cell_type": "code",
   "execution_count": 8,
   "id": "308698fd",
   "metadata": {},
   "outputs": [
    {
     "data": {
      "text/plain": [
       "7"
      ]
     },
     "execution_count": 8,
     "metadata": {},
     "output_type": "execute_result"
    }
   ],
   "source": [
    "p = c\n",
    "q = b\n",
    "lowestCommonAncestor(root, p, q).val"
   ]
  },
  {
   "cell_type": "code",
   "execution_count": null,
   "id": "39d6de41",
   "metadata": {},
   "outputs": [],
   "source": []
  }
 ],
 "metadata": {
  "kernelspec": {
   "display_name": "Python 3",
   "language": "python",
   "name": "python3"
  },
  "language_info": {
   "codemirror_mode": {
    "name": "ipython",
    "version": 3
   },
   "file_extension": ".py",
   "mimetype": "text/x-python",
   "name": "python",
   "nbconvert_exporter": "python",
   "pygments_lexer": "ipython3",
   "version": "3.7.4"
  }
 },
 "nbformat": 4,
 "nbformat_minor": 5
}
