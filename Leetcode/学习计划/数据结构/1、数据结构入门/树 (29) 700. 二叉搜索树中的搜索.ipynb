{
 "cells": [
  {
   "cell_type": "markdown",
   "id": "fbba3cf8",
   "metadata": {},
   "source": [
    "# 题目"
   ]
  },
  {
   "cell_type": "markdown",
   "id": "fb11c45f",
   "metadata": {},
   "source": [
    "> 给定**二叉搜索树（BST）**的根节点 `root` 和一个整数值 `val` 。你需要在 `BST` 中找到节点值等于 `val` 的节点。 返回以该节点为根的子树。如果节点不存在，则返回 `null` 。  \n",
    "> **二叉搜索树**的性质为：左子树所有节点的元素值均小于根的元素值；右子树所有节点的元素值均大于根的元素值。"
   ]
  },
  {
   "cell_type": "markdown",
   "id": "97eb996e",
   "metadata": {},
   "source": [
    "# 方法一：递归"
   ]
  },
  {
   "cell_type": "markdown",
   "id": "8160cbae",
   "metadata": {},
   "source": [
    "> 若 `root` 为空则返回空节点；  \n",
    "若 `val = root.val` ，则返回 `root` ；  \n",
    "若 `val < root.val` ，递归左子树；  \n",
    "若 `val > root.val` ，递归右子树。"
   ]
  },
  {
   "cell_type": "markdown",
   "id": "d97d9618",
   "metadata": {},
   "source": [
    "## 复杂度"
   ]
  },
  {
   "cell_type": "markdown",
   "id": "e891a88d",
   "metadata": {},
   "source": [
    "- 时间复杂度: $O(N)$ ，其中 $N$ 是二叉搜索树的节点数。"
   ]
  },
  {
   "cell_type": "markdown",
   "id": "2e60029d",
   "metadata": {},
   "source": [
    "> 最坏情况下二叉搜索树是一条链，且要找的元素比链末尾的元素值还要小（大），这种情况下需要递归 $N$ 次。"
   ]
  },
  {
   "cell_type": "markdown",
   "id": "fe425af1",
   "metadata": {},
   "source": [
    "- 空间复杂度: $O(N)$ ，其中 $N$ 是二叉树的节点数。"
   ]
  },
  {
   "cell_type": "markdown",
   "id": "5c3634af",
   "metadata": {},
   "source": [
    "> 空间复杂度主要取决于栈的开销。"
   ]
  },
  {
   "cell_type": "markdown",
   "id": "777d1ced",
   "metadata": {},
   "source": [
    "## 代码"
   ]
  },
  {
   "cell_type": "markdown",
   "id": "e8199c84",
   "metadata": {},
   "source": [
    "### 代码：构建二叉树 "
   ]
  },
  {
   "cell_type": "code",
   "execution_count": 1,
   "id": "5fd574c0",
   "metadata": {},
   "outputs": [],
   "source": [
    "class TreeNode:\n",
    "    def __init__(self, val=0, left=None, right=None):\n",
    "        self.val = val\n",
    "        self.left = left\n",
    "        self.right = right"
   ]
  },
  {
   "cell_type": "markdown",
   "id": "86062f4b",
   "metadata": {},
   "source": [
    "### 代码：递归"
   ]
  },
  {
   "cell_type": "code",
   "execution_count": 2,
   "id": "02ab996e",
   "metadata": {},
   "outputs": [],
   "source": [
    "def searchBST(root, val):\n",
    "    if root is None:\n",
    "        return None\n",
    "    if val == root.val:\n",
    "        return root\n",
    "    return searchBST(root.left if val < root.val else root.right, val)"
   ]
  },
  {
   "cell_type": "markdown",
   "id": "cf971ae7",
   "metadata": {},
   "source": [
    "#### 测试一 "
   ]
  },
  {
   "cell_type": "code",
   "execution_count": 3,
   "id": "3797cde5",
   "metadata": {},
   "outputs": [],
   "source": [
    "root = TreeNode(4)\n",
    "a = TreeNode(2)\n",
    "b = TreeNode(7)\n",
    "c = TreeNode(1)\n",
    "d = TreeNode(3)"
   ]
  },
  {
   "cell_type": "code",
   "execution_count": 4,
   "id": "9bd04741",
   "metadata": {},
   "outputs": [],
   "source": [
    "root.left = a\n",
    "root.right = b\n",
    "a.left = c\n",
    "a.right = d"
   ]
  },
  {
   "cell_type": "code",
   "execution_count": 5,
   "id": "9d27c7ba",
   "metadata": {},
   "outputs": [
    {
     "name": "stdout",
     "output_type": "stream",
     "text": [
      "<__main__.TreeNode object at 0x000001F42CD6BCC8>\n"
     ]
    }
   ],
   "source": [
    "val = 1\n",
    "print(searchBST(root, val))"
   ]
  },
  {
   "cell_type": "markdown",
   "id": "6231ab73",
   "metadata": {},
   "source": [
    "#### 测试二"
   ]
  },
  {
   "cell_type": "code",
   "execution_count": 6,
   "id": "ab6c7240",
   "metadata": {},
   "outputs": [],
   "source": [
    "root = TreeNode(4)\n",
    "a = TreeNode(2)\n",
    "b = TreeNode(7)\n",
    "c = TreeNode(1)\n",
    "d = TreeNode(3)"
   ]
  },
  {
   "cell_type": "code",
   "execution_count": 7,
   "id": "7e722840",
   "metadata": {},
   "outputs": [],
   "source": [
    "root.left = a\n",
    "root.right = b\n",
    "a.left = c\n",
    "a.right = d"
   ]
  },
  {
   "cell_type": "code",
   "execution_count": 8,
   "id": "3f811534",
   "metadata": {},
   "outputs": [
    {
     "name": "stdout",
     "output_type": "stream",
     "text": [
      "None\n"
     ]
    }
   ],
   "source": [
    "val = 5\n",
    "print(searchBST(root, val))"
   ]
  },
  {
   "cell_type": "code",
   "execution_count": null,
   "id": "afe4f4e3",
   "metadata": {},
   "outputs": [],
   "source": []
  }
 ],
 "metadata": {
  "kernelspec": {
   "display_name": "Python 3",
   "language": "python",
   "name": "python3"
  },
  "language_info": {
   "codemirror_mode": {
    "name": "ipython",
    "version": 3
   },
   "file_extension": ".py",
   "mimetype": "text/x-python",
   "name": "python",
   "nbconvert_exporter": "python",
   "pygments_lexer": "ipython3",
   "version": "3.7.4"
  }
 },
 "nbformat": 4,
 "nbformat_minor": 5
}
