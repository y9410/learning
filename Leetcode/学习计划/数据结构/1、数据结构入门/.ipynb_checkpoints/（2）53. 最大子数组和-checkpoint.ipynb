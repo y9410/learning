{
 "cells": [
  {
   "cell_type": "markdown",
   "id": "9ccc3239",
   "metadata": {},
   "source": [
    "# 题目"
   ]
  },
  {
   "cell_type": "markdown",
   "id": "b6b7420b",
   "metadata": {},
   "source": [
    "> 给你一个整数数组 `nums` ，请你找出一个具有最大和的连续子数组（子数组最少包含一个元素），返回其最大和。"
   ]
  },
  {
   "cell_type": "markdown",
   "id": "3d044483",
   "metadata": {},
   "source": [
    "# 方法一：动态规划"
   ]
  },
  {
   "cell_type": "markdown",
   "id": "d2970555",
   "metadata": {},
   "source": [
    "> 对数组 `nums` 进行从前到后遍历，下标 i 从 0 到 n-1 。  \n",
    "> 对于以下标 `nums[i]` 为结尾的子数组，求出其子数组的最大和 `Submax` ，最后返回所有最大和的最大值 `Max` 。  \n",
    "> 计算子数组 `nums[:i+1]` 最大和时可分为三种情况：  \n",
    "> （1）子数组只有1个元素：返回子数组的和；  \n",
    "> （2） `nums[:i+1]` 的前一个子数组 `nums[:i]` 的子数组最大和 `Submax` 小于 0 ：返回 `nums[i]` ；  \n",
    "> （3） `nums[:i+1]` 的前一个子数组 `nums[:i]` 的子数组最大和 `Submax` 大于等于 0 ：返回 `Submax+nums[i]` 。"
   ]
  },
  {
   "cell_type": "markdown",
   "id": "48baeb5e",
   "metadata": {},
   "source": [
    "## 复杂度"
   ]
  },
  {
   "cell_type": "markdown",
   "id": "ccc50cd8",
   "metadata": {},
   "source": [
    "- 时间复杂度: $O(N)$ ，其中 $N$ 为数组 `nums` 的长度。"
   ]
  },
  {
   "cell_type": "markdown",
   "id": "4ae64082",
   "metadata": {},
   "source": [
    "> 只需要遍历一遍数组即可求得答案。"
   ]
  },
  {
   "cell_type": "markdown",
   "id": "475509bf",
   "metadata": {},
   "source": [
    "- 空间复杂度: $O(1)$ 。"
   ]
  },
  {
   "cell_type": "markdown",
   "id": "5a2a442c",
   "metadata": {},
   "source": [
    "> 只需要常数空间存放若干变量。"
   ]
  },
  {
   "cell_type": "markdown",
   "id": "235bd276",
   "metadata": {},
   "source": [
    "## 代码"
   ]
  },
  {
   "cell_type": "code",
   "execution_count": 1,
   "id": "794ef2b6",
   "metadata": {},
   "outputs": [],
   "source": [
    "def maxSubArray(nums):\n",
    "    if len(nums) == 0:\n",
    "        return 0\n",
    "    Submax = 0 #保存前一个子组合的最大值\n",
    "    Max = nums[0] #用于保存每个子组合的最大值的列表\n",
    "    for i in nums:\n",
    "        if Submax >= 0:\n",
    "            Submax = Submax + i\n",
    "        else:\n",
    "            Submax = i\n",
    "        if Max < Submax:\n",
    "            Max = Submax\n",
    "    return Max"
   ]
  },
  {
   "cell_type": "code",
   "execution_count": 2,
   "id": "3e28ccaa",
   "metadata": {},
   "outputs": [
    {
     "data": {
      "text/plain": [
       "6"
      ]
     },
     "execution_count": 2,
     "metadata": {},
     "output_type": "execute_result"
    }
   ],
   "source": [
    "nums = [-2,1,-3,4,-1,2,1,-5,4]\n",
    "maxSubArray(nums)"
   ]
  },
  {
   "cell_type": "code",
   "execution_count": 3,
   "id": "291fce8c",
   "metadata": {},
   "outputs": [
    {
     "data": {
      "text/plain": [
       "1"
      ]
     },
     "execution_count": 3,
     "metadata": {},
     "output_type": "execute_result"
    }
   ],
   "source": [
    "nums = [1]\n",
    "maxSubArray(nums)"
   ]
  },
  {
   "cell_type": "markdown",
   "id": "21c04cb1",
   "metadata": {},
   "source": [
    "# 方法二：分治"
   ]
  },
  {
   "cell_type": "markdown",
   "id": "0d041c16",
   "metadata": {},
   "source": [
    "> 连续子序列的最大和主要由这三部分子区间里元素的最大和得到：    \n",
    "> （1）子区间 `[left, mid]`；  \n",
    "> （2）子区间 `[mid + 1, right]`；  \n",
    "> （3）包含子区间 `[mid , mid + 1]` 的子区间。"
   ]
  },
  {
   "cell_type": "markdown",
   "id": "740f1452",
   "metadata": {},
   "source": [
    "## 复杂度"
   ]
  },
  {
   "cell_type": "markdown",
   "id": "21c0658d",
   "metadata": {},
   "source": [
    "- 时间复杂度: $O(NlogN)$ ，其中 $N$ 为数组的长度。"
   ]
  },
  {
   "cell_type": "markdown",
   "id": "7d24dcc1",
   "metadata": {},
   "source": [
    "> 这里递归的深度是对数级别的，每一层需要遍历一遍数组（或者数组的一半、四分之一）。"
   ]
  },
  {
   "cell_type": "markdown",
   "id": "f766381a",
   "metadata": {},
   "source": [
    "- 空间复杂度: $O(logN)$ ，其中 $N$ 为数组的长度。"
   ]
  },
  {
   "cell_type": "markdown",
   "id": "0d8de361",
   "metadata": {},
   "source": [
    "> 需要常数个变量用于选取最大值，需要使用的空间取决于递归栈的深度。"
   ]
  },
  {
   "cell_type": "markdown",
   "id": "9b6ec417",
   "metadata": {},
   "source": [
    "## 备注"
   ]
  },
  {
   "cell_type": "markdown",
   "id": "1150a846",
   "metadata": {},
   "source": [
    "> 方法二相较于方法一来说，时间复杂度相同，但是因为使用了递归，并且维护了四个信息的结构体，运行的时间略长，空间复杂度也不如方法一优秀。  \n",
    "> 但方法二可以解决任意子区间 `[left, right]` 的求最大值问题。"
   ]
  },
  {
   "cell_type": "markdown",
   "id": "028812a5",
   "metadata": {},
   "source": [
    "## 代码"
   ]
  },
  {
   "cell_type": "code",
   "execution_count": 4,
   "id": "14d8ad3a",
   "metadata": {},
   "outputs": [],
   "source": [
    "'''主程序'''\n",
    "def maxSubArray(nums): #输入数组\n",
    "    size = len(nums)\n",
    "    if size == 0:\n",
    "        return 0\n",
    "    return __max_sub_array(nums, 0, size - 1)\n",
    "\n",
    "'''计算子数组的最大值'''\n",
    "def __max_sub_array(nums, left, right): #输入数组和左右边界（索引）\n",
    "    if left == right: #基本情况：若数组长度为1，则返回数组中第一个元素的值\n",
    "        return nums[left]\n",
    "    \n",
    "    '''递归计算更小的子数组的最大值情况'''\n",
    "    mid = (left + right) // 2 #否则将数组分为三个不同的子数组，计算他们的最大值\n",
    "    return max(__max_sub_array(nums, left, mid), #包含左边一半元素的子数组\n",
    "                __max_sub_array(nums, mid + 1, right), #包含右边一半元素的子数组\n",
    "                __max_cross_array(nums, left, mid, right)) #包含中间元素的子数组\n",
    "\n",
    "'''专门计算包含中间数的子数组的最大值'''\n",
    "def __max_cross_array(nums, left, mid, right):\n",
    "    \n",
    "    '''从中间元素的前一个元素开始向左遍历，计算子数组的最大值（类似方法一）'''\n",
    "    left_sum_max = 0 #记录左子数组的最大值\n",
    "    start_left = mid - 1 #向左遍历的索引\n",
    "    s1 = 0\n",
    "    while start_left >= left:\n",
    "        s1 += nums[start_left] #每次增加一个新的元素值\n",
    "        left_sum_max = max(left_sum_max, s1) #只有新加一个值后比原来的最大值更大，才会记录\n",
    "        start_left -= 1 #向左移动\n",
    "    \n",
    "    '''从中间元素的后一个元素开始向右遍历，计算子数组的最大值'''\n",
    "    right_sum_max = 0\n",
    "    start_right = mid + 1\n",
    "    s2 = 0\n",
    "    while start_right <= right:\n",
    "        s2 += nums[start_right]\n",
    "        right_sum_max = max(right_sum_max, s2)\n",
    "        start_right += 1\n",
    "    \n",
    "    return left_sum_max + nums[mid] + right_sum_max #返回左子数组的最大值和右子树组的最大值之和，再加上中间元素的值"
   ]
  },
  {
   "cell_type": "code",
   "execution_count": 5,
   "id": "a50d4f86",
   "metadata": {},
   "outputs": [
    {
     "data": {
      "text/plain": [
       "6"
      ]
     },
     "execution_count": 5,
     "metadata": {},
     "output_type": "execute_result"
    }
   ],
   "source": [
    "nums = [-2,1,-3,4,-1,2,1,-5,4]\n",
    "maxSubArray(nums)"
   ]
  },
  {
   "cell_type": "code",
   "execution_count": 6,
   "id": "d5b76b8d",
   "metadata": {},
   "outputs": [
    {
     "data": {
      "text/plain": [
       "1"
      ]
     },
     "execution_count": 6,
     "metadata": {},
     "output_type": "execute_result"
    }
   ],
   "source": [
    "nums = [1]\n",
    "maxSubArray(nums)"
   ]
  },
  {
   "cell_type": "code",
   "execution_count": null,
   "id": "89bd9ab6",
   "metadata": {},
   "outputs": [],
   "source": []
  }
 ],
 "metadata": {
  "kernelspec": {
   "display_name": "Python 3",
   "language": "python",
   "name": "python3"
  },
  "language_info": {
   "codemirror_mode": {
    "name": "ipython",
    "version": 3
   },
   "file_extension": ".py",
   "mimetype": "text/x-python",
   "name": "python",
   "nbconvert_exporter": "python",
   "pygments_lexer": "ipython3",
   "version": "3.7.4"
  }
 },
 "nbformat": 4,
 "nbformat_minor": 5
}
