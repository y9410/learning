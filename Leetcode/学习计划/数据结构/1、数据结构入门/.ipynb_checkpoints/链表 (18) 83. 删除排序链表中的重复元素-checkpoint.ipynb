{
 "cells": [
  {
   "cell_type": "markdown",
   "id": "122454fb",
   "metadata": {},
   "source": [
    "# 题目"
   ]
  },
  {
   "cell_type": "markdown",
   "id": "c19c04d1",
   "metadata": {},
   "source": [
    "> 给定一个已排序的链表的头 `head` ，删除所有重复的元素，使每个元素只出现一次。返回已排序的链表。"
   ]
  },
  {
   "cell_type": "markdown",
   "id": "02156ed0",
   "metadata": {},
   "source": [
    "# 方法一：一次遍历"
   ]
  },
  {
   "cell_type": "markdown",
   "id": "02aec4aa",
   "metadata": {},
   "source": [
    "> 由于给定的链表是排好序的，因此重复的元素在链表中出现的位置是连续的，只需要对链表进行一次遍历，就可以删除重复的元素。  \n",
    "> 当遍历到链表的最后一个节点时，`cur.next` 为空节点，如果不加以判断，访问 `cur.next` 对应的元素会产生运行错误。因此只需要遍历到链表的最后一个节点，而不需要遍历完整个链表。"
   ]
  },
  {
   "cell_type": "markdown",
   "id": "2fe452ca",
   "metadata": {},
   "source": [
    "## 复杂度"
   ]
  },
  {
   "cell_type": "markdown",
   "id": "abfc8336",
   "metadata": {},
   "source": [
    "- 时间复杂度: $O(n)$ ，其中 $n$ 是链表的长度。"
   ]
  },
  {
   "cell_type": "markdown",
   "id": "e0d7d979",
   "metadata": {},
   "source": [
    "> 需要遍历链表一次。"
   ]
  },
  {
   "cell_type": "markdown",
   "id": "6b6ae674",
   "metadata": {},
   "source": [
    "- 空间复杂度: $O(1)$ 。"
   ]
  },
  {
   "cell_type": "markdown",
   "id": "2dca2853",
   "metadata": {},
   "source": [
    "> 只需要常数的空间存放若干变量。"
   ]
  },
  {
   "cell_type": "markdown",
   "id": "ced62980",
   "metadata": {},
   "source": [
    "## 代码"
   ]
  },
  {
   "cell_type": "markdown",
   "id": "24818bb1",
   "metadata": {},
   "source": [
    "### 代码：构建链表"
   ]
  },
  {
   "cell_type": "code",
   "execution_count": 1,
   "id": "736782f7",
   "metadata": {},
   "outputs": [],
   "source": [
    "#用于构建链表中的节点\n",
    "class ListNode:\n",
    "    def __init__(self, initdata):\n",
    "        self.val = initdata #节点的数据变量\n",
    "        self.next = None #节点指向下一个节点的引用（若为None，则表示没有引用）\n",
    "\n",
    "    def getData(self): #获得当前节点的数据变量\n",
    "        return self.val\n",
    "\n",
    "    def getNext(self): #获得当前节点连接的下一个节点的数据变量\n",
    "        return self.next\n",
    "\n",
    "    def setData(self, newdata): #设置当前节点的数据变量\n",
    "        self.val = newdata\n",
    "\n",
    "    def setNext(self, newnext): #设置当前节点的引用\n",
    "        self.next = newnext"
   ]
  },
  {
   "cell_type": "code",
   "execution_count": 2,
   "id": "fd51a090",
   "metadata": {},
   "outputs": [],
   "source": [
    "#构建一个无序的链表\n",
    "class UnorderedList:\n",
    "    def __init__(self):\n",
    "        self.head = None #给出一个外部引用head（指向第一个节点）\n",
    "\n",
    "    def add(self, item):#假设元素 item 之前不在列表中，并向其中添加 item。它接受一个元素作为参数，无返回值。复杂度：O(1)\n",
    "        #为了方便，将新节点插入列表的开头\n",
    "        temp = ListNode(item) #每次使用add方法都会创建一个新实例（即新节点）\n",
    "        temp.setNext(self.head) #新节点指向原列表的第一个节点\n",
    "        self.head = temp #head指向新节点\n",
    "    \n",
    "    def setpos(self, CurrentNode): #将链表尾节点的next指向CurrentNode\n",
    "        current = self.head #从头开始遍历链表\n",
    "        while current.getNext() != None : #若当前节点的next指向None，说明其是尾节点\n",
    "            current = current.getNext()\n",
    "        current.setNext(CurrentNode)"
   ]
  },
  {
   "cell_type": "code",
   "execution_count": 3,
   "id": "ed0a7e50",
   "metadata": {},
   "outputs": [],
   "source": [
    "def BuildUnorderedListFromNode(ListHead):\n",
    "    unorderedlist = UnorderedList()\n",
    "    unorderedlist.head = ListHead\n",
    "    cur = unorderedlist.head\n",
    "    while cur:\n",
    "        unorderedlist.add(cur.next)\n",
    "        cur = cur.next\n",
    "    return unorderedlist"
   ]
  },
  {
   "cell_type": "code",
   "execution_count": 4,
   "id": "16a44e56",
   "metadata": {},
   "outputs": [],
   "source": [
    "def BuildUnorderedList(List, pos = -1): #输入用于构建链表的列表和链表尾节点的next指向（索引）\n",
    "    Aim = UnorderedList() #一定要加括号，这样才代表实例化\n",
    "    for i in range(len(List)-1, -1, -1): #由于链表采用从头插入的方法，因此从后往前遍历List\n",
    "        Aim.add(List[i]) #将新节点插入链表\n",
    "        if i == pos: #若当前节点是尾节点的next指向，则将尾节点的next指向设置为当前节点\n",
    "            print(Aim.head.val)\n",
    "            Aim.setpos(Aim.head)\n",
    "    return Aim #返回构建好的链表"
   ]
  },
  {
   "cell_type": "code",
   "execution_count": 5,
   "id": "49f7f000",
   "metadata": {},
   "outputs": [],
   "source": [
    "def showList(ListHead): #给定链表的头元素，返回以列表形式表示的链表\n",
    "    prev = ListHead\n",
    "    List = []\n",
    "    while prev:\n",
    "        List.append(prev.val)\n",
    "        prev = prev.next\n",
    "    return List"
   ]
  },
  {
   "cell_type": "code",
   "execution_count": 6,
   "id": "0b28764e",
   "metadata": {},
   "outputs": [],
   "source": [
    "def NextToNone(Head, value): #给定一个链表的头元素和一个值，若链表中的某个节点的next等于这个值，则将其next设置为None\n",
    "    cur = Head\n",
    "    while cur.next.val != value:\n",
    "        cur = cur.next\n",
    "    cur.next = None"
   ]
  },
  {
   "cell_type": "markdown",
   "id": "e722994b",
   "metadata": {},
   "source": [
    "### 代码：删除重复元素"
   ]
  },
  {
   "cell_type": "code",
   "execution_count": 7,
   "id": "46f4cf16",
   "metadata": {},
   "outputs": [],
   "source": [
    "def deleteDuplicates(head):\n",
    "    if not head: #若链表为空，返回空值\n",
    "        return head\n",
    "\n",
    "    cur = head\n",
    "    while cur.next: #由于重复的元素都排列在相邻位置，因此只需判断当前元素是否与next元素相同\n",
    "        if cur.val == cur.next.val:\n",
    "            cur.next = cur.next.next\n",
    "        else:\n",
    "            cur = cur.next\n",
    "\n",
    "    return head"
   ]
  },
  {
   "cell_type": "markdown",
   "id": "6aa5d14a",
   "metadata": {},
   "source": [
    "#### 测试一 "
   ]
  },
  {
   "cell_type": "code",
   "execution_count": 8,
   "id": "a20b98a0",
   "metadata": {},
   "outputs": [],
   "source": [
    "List = [1,1,2]\n",
    "Aim_1 = BuildUnorderedList(List)"
   ]
  },
  {
   "cell_type": "code",
   "execution_count": 9,
   "id": "38bb66a3",
   "metadata": {},
   "outputs": [
    {
     "data": {
      "text/plain": [
       "[1, 2]"
      ]
     },
     "execution_count": 9,
     "metadata": {},
     "output_type": "execute_result"
    }
   ],
   "source": [
    "showList(deleteDuplicates(Aim_1.head))"
   ]
  },
  {
   "cell_type": "markdown",
   "id": "238da890",
   "metadata": {},
   "source": [
    "#### 测试二"
   ]
  },
  {
   "cell_type": "code",
   "execution_count": 10,
   "id": "0536c9c1",
   "metadata": {},
   "outputs": [],
   "source": [
    "List = [1,1,2,3,3]\n",
    "Aim_1 = BuildUnorderedList(List)"
   ]
  },
  {
   "cell_type": "code",
   "execution_count": 11,
   "id": "9ce14931",
   "metadata": {},
   "outputs": [
    {
     "data": {
      "text/plain": [
       "[1, 2, 3]"
      ]
     },
     "execution_count": 11,
     "metadata": {},
     "output_type": "execute_result"
    }
   ],
   "source": [
    "showList(deleteDuplicates(Aim_1.head))"
   ]
  },
  {
   "cell_type": "markdown",
   "id": "f05361ba",
   "metadata": {},
   "source": [
    "#### 测试三"
   ]
  },
  {
   "cell_type": "code",
   "execution_count": 12,
   "id": "a09bf0df",
   "metadata": {},
   "outputs": [],
   "source": [
    "List = []\n",
    "Aim_1 = BuildUnorderedList(List)"
   ]
  },
  {
   "cell_type": "code",
   "execution_count": 13,
   "id": "b658e18e",
   "metadata": {},
   "outputs": [
    {
     "data": {
      "text/plain": [
       "[]"
      ]
     },
     "execution_count": 13,
     "metadata": {},
     "output_type": "execute_result"
    }
   ],
   "source": [
    "showList(deleteDuplicates(Aim_1.head))"
   ]
  },
  {
   "cell_type": "code",
   "execution_count": null,
   "id": "012e9c7b",
   "metadata": {},
   "outputs": [],
   "source": []
  }
 ],
 "metadata": {
  "kernelspec": {
   "display_name": "Python 3",
   "language": "python",
   "name": "python3"
  },
  "language_info": {
   "codemirror_mode": {
    "name": "ipython",
    "version": 3
   },
   "file_extension": ".py",
   "mimetype": "text/x-python",
   "name": "python",
   "nbconvert_exporter": "python",
   "pygments_lexer": "ipython3",
   "version": "3.7.4"
  }
 },
 "nbformat": 4,
 "nbformat_minor": 5
}
