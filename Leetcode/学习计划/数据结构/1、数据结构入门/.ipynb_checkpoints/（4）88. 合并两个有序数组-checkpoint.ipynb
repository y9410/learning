{
 "cells": [
  {
   "cell_type": "markdown",
   "id": "3e8c400e",
   "metadata": {},
   "source": [
    "# 题目"
   ]
  },
  {
   "cell_type": "markdown",
   "id": "fc3954dd",
   "metadata": {},
   "source": [
    "> 给你两个按非递减顺序排列的整数数组 `nums1` 和 `nums2` ，另有两个整数 `m` 和 `n` ，分别表示 `nums1` 和 `nums2` 中的元素数目。请你合并 `nums2` 到 `nums1` 中，使合并后的数组同样按非递减顺序排列。  \n",
    "**注意：**最终，合并后数组不应由函数返回，而是存储在数组 `nums1` 中。为了应对这种情况， `nums1` 的初始长度为 `m + n` ，其中前 `m` 个元素表示应合并的元素，后 `n` 个元素为 0 ，应忽略。 `nums2` 的长度为 `n` 。"
   ]
  },
  {
   "cell_type": "markdown",
   "id": "3f0cad2e",
   "metadata": {},
   "source": [
    "# 方法一：插入后合并"
   ]
  },
  {
   "cell_type": "markdown",
   "id": "ade59618",
   "metadata": {},
   "source": [
    "> 将数组 `nums2` 放进数组 `nums1` 的尾部，然后直接对整个数组进行排序。"
   ]
  },
  {
   "cell_type": "markdown",
   "id": "390d4d55",
   "metadata": {},
   "source": [
    "# 方法二：双指针"
   ]
  },
  {
   "cell_type": "markdown",
   "id": "749e98cc",
   "metadata": {},
   "source": [
    "> 方法一没有利用数组 `nums1` 与 `nums2` 已经被排序的性质。为了利用这一性质，我们可以使用双指针方法。这一方法将两个数组看作队列，每次从两个数组头部取出比较小的数字放到结果中。"
   ]
  },
  {
   "cell_type": "markdown",
   "id": "dab13144",
   "metadata": {},
   "source": [
    "## 复杂度"
   ]
  },
  {
   "cell_type": "markdown",
   "id": "07cc0e82",
   "metadata": {},
   "source": [
    "- 时间复杂度: $O(m+n)$ ，其中 $m,n$ 分别为为数组 `nums1`,`nums2` 的长度。"
   ]
  },
  {
   "cell_type": "markdown",
   "id": "f30b41bc",
   "metadata": {},
   "source": [
    "> 指针移动单调递增，最多移动 m+n 次。"
   ]
  },
  {
   "cell_type": "markdown",
   "id": "56d2bb61",
   "metadata": {},
   "source": [
    "- 空间复杂度: $O(m+n)$ ，其中 $m,n$ 分别为为数组 `nums1`,`nums2` 的长度。"
   ]
  },
  {
   "cell_type": "markdown",
   "id": "08a55587",
   "metadata": {},
   "source": [
    "> 需要建立长度为 m+n 的中间数组 `sorted` 。"
   ]
  },
  {
   "cell_type": "markdown",
   "id": "30e11a8b",
   "metadata": {},
   "source": [
    "# 方法三：逆向双指针"
   ]
  },
  {
   "cell_type": "markdown",
   "id": "ddf8fa9f",
   "metadata": {},
   "source": [
    "> 从后往前遍历数组 `nums1`,`nums2` ，每次取出较大值放在 `nums1` 的最后，可避免 `nums1` 中有效元素被覆盖的情况。  \n",
    "> **注意：**方法三不需要使用临时变量 `sorted` 储存排序结果，因此空间复杂度会降低。"
   ]
  },
  {
   "cell_type": "markdown",
   "id": "ff7c2370",
   "metadata": {},
   "source": [
    "## 复杂度"
   ]
  },
  {
   "cell_type": "markdown",
   "id": "d39996e0",
   "metadata": {},
   "source": [
    "- 时间复杂度: $O(m+n)$ ，其中 $m,n$ 分别为为数组 `nums1`,`nums2` 的长度。"
   ]
  },
  {
   "cell_type": "markdown",
   "id": "d9e6cb26",
   "metadata": {},
   "source": [
    "> 这里递归的深度是对数级别的，每一层需要遍历一遍数组（或者数组的一半、四分之一）。"
   ]
  },
  {
   "cell_type": "markdown",
   "id": "cf0302b8",
   "metadata": {},
   "source": [
    "- 空间复杂度: $O(1)$ 。"
   ]
  },
  {
   "cell_type": "markdown",
   "id": "3f67f217",
   "metadata": {},
   "source": [
    "> 不需要使用临时变量 `sorted` 储存排序结果。"
   ]
  },
  {
   "cell_type": "markdown",
   "id": "d1ad12a1",
   "metadata": {},
   "source": [
    "## 代码"
   ]
  },
  {
   "cell_type": "code",
   "execution_count": 1,
   "id": "5d9f752e",
   "metadata": {},
   "outputs": [],
   "source": [
    "def merge(nums1, m, nums2, n):\n",
    "    p1, p2 = m - 1, n - 1 \n",
    "    tail = m + n - 1\n",
    "    '''从后往前遍历两个数组'''\n",
    "    while p1 >= 0 or p2 >= 0:\n",
    "        if p1 == -1: #若nums1已遍历完而nums2没遍历完，后续直接插入nums2的元素\n",
    "            nums1[tail] = nums2[p2]\n",
    "            p2 -= 1\n",
    "        elif p2 == -1: #若nums2已遍历完而nums1没遍历完，后续直接插入nums1的元素\n",
    "            nums1[tail] = nums1[p1]\n",
    "            p1 -= 1\n",
    "        elif nums1[p1] > nums2[p2]: #比较后面的元素\n",
    "            nums1[tail] = nums1[p1]\n",
    "            p1 -= 1\n",
    "        else:\n",
    "            nums1[tail] = nums2[p2]\n",
    "            p2 -= 1\n",
    "        tail -= 1"
   ]
  },
  {
   "cell_type": "code",
   "execution_count": 2,
   "id": "19561156",
   "metadata": {},
   "outputs": [
    {
     "data": {
      "text/plain": [
       "[1, 2, 2, 3, 5, 6]"
      ]
     },
     "execution_count": 2,
     "metadata": {},
     "output_type": "execute_result"
    }
   ],
   "source": [
    "nums1 = [1,2,3,0,0,0]\n",
    "m = 3\n",
    "nums2 = [2,5,6]\n",
    "n = 3\n",
    "merge(nums1, m, nums2, n)\n",
    "nums1"
   ]
  },
  {
   "cell_type": "code",
   "execution_count": 3,
   "id": "3013d6e6",
   "metadata": {},
   "outputs": [
    {
     "data": {
      "text/plain": [
       "[1]"
      ]
     },
     "execution_count": 3,
     "metadata": {},
     "output_type": "execute_result"
    }
   ],
   "source": [
    "nums1 = [1]\n",
    "m = 1\n",
    "nums2 = []\n",
    "n = 0\n",
    "merge(nums1, m, nums2, n)\n",
    "nums1"
   ]
  },
  {
   "cell_type": "code",
   "execution_count": null,
   "id": "7920f3a7",
   "metadata": {},
   "outputs": [],
   "source": []
  }
 ],
 "metadata": {
  "kernelspec": {
   "display_name": "Python 3",
   "language": "python",
   "name": "python3"
  },
  "language_info": {
   "codemirror_mode": {
    "name": "ipython",
    "version": 3
   },
   "file_extension": ".py",
   "mimetype": "text/x-python",
   "name": "python",
   "nbconvert_exporter": "python",
   "pygments_lexer": "ipython3",
   "version": "3.7.4"
  }
 },
 "nbformat": 4,
 "nbformat_minor": 5
}
