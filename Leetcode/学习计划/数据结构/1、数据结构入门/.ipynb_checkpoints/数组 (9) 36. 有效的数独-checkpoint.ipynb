{
 "cells": [
  {
   "cell_type": "markdown",
   "id": "0c08fe34",
   "metadata": {},
   "source": [
    "# 题目"
   ]
  },
  {
   "cell_type": "markdown",
   "id": "946f0423",
   "metadata": {},
   "source": [
    "> 请你判断一个 `9 × 9` 的数独是否有效。只需要根据以下规则，验证已经填入的数字是否有效即可。  \n",
    "> **规则：**  \n",
    "> 数字 1-9 在每一行只能出现一次；  \n",
    "> 数字 1-9 在每一列只能出现一次；  \n",
    "> 数字 1-9 在每一个以粗实线分隔的 3x3 宫内只能出现一次。  \n",
    "> **注意：**  \n",
    "> 一个有效的数独（部分已被填充）不一定是可解的。  \n",
    "> 只需要根据以上规则，验证已经填入的数字是否有效即可。  \n",
    "> 空白格用 '.' 表示。"
   ]
  },
  {
   "cell_type": "markdown",
   "id": "546002e0",
   "metadata": {},
   "source": [
    "# 方法一：数学"
   ]
  },
  {
   "cell_type": "markdown",
   "id": "ec3b78ae",
   "metadata": {},
   "source": [
    "> 从上往下从左往右遍历数独。对每个元素，记录该元素所属的行、列、方块，并检查行、列、方块中是否已有相同的元素。"
   ]
  },
  {
   "cell_type": "markdown",
   "id": "4d5585b0",
   "metadata": {},
   "source": [
    "## 复杂度"
   ]
  },
  {
   "cell_type": "markdown",
   "id": "d5a6b17a",
   "metadata": {},
   "source": [
    "- 时间复杂度: $O(1)$ 。"
   ]
  },
  {
   "cell_type": "markdown",
   "id": "6c4c167e",
   "metadata": {},
   "source": [
    "> 数独共有 81 个单元格，只需要对每个单元格遍历一次即可。"
   ]
  },
  {
   "cell_type": "markdown",
   "id": "ee77c137",
   "metadata": {},
   "source": [
    "- 空间复杂度: $O(1)$ 。"
   ]
  },
  {
   "cell_type": "markdown",
   "id": "c2bab013",
   "metadata": {},
   "source": [
    "> 由于数独的大小固定，因此哈希表的空间也是固定的。"
   ]
  },
  {
   "cell_type": "markdown",
   "id": "cd1cb508",
   "metadata": {},
   "source": [
    "## 代码"
   ]
  },
  {
   "cell_type": "code",
   "execution_count": 1,
   "id": "ab55a866",
   "metadata": {},
   "outputs": [],
   "source": [
    "import math\n",
    "import collections"
   ]
  },
  {
   "cell_type": "code",
   "execution_count": 2,
   "id": "e949fe52",
   "metadata": {},
   "outputs": [],
   "source": [
    "def isValidSudoku(board):\n",
    "    \n",
    "    '''创建一个字典，其中再套一个字典，'defaultdict(set)'表示最里面字典的值是一个元组'''\n",
    "    record = {0: collections.defaultdict(set), 1: collections.defaultdict(set), 2: collections.defaultdict(set)} #0: row, 1: column, 2: square\n",
    "    \n",
    "    n = len(board)\n",
    "    m = math.sqrt(n) #开根号\n",
    "    \n",
    "    '''遍历数独'''\n",
    "    for i in range(n):\n",
    "        for j in range(n):\n",
    "            if board[i][j] == '.':\n",
    "                continue\n",
    "            if board[i][j] in record[0][i] or board[i][j] in record[1][j]:\n",
    "                return False\n",
    "            sq = i // m * m + j // m #判断当前元素属于哪个方块（从上往下从左往右分别为0-8）\n",
    "            if board[i][j] in record[2][sq]:\n",
    "                return False\n",
    "            \n",
    "            record[0][i].add(board[i][j]) #第i行添加当前元素\n",
    "            record[1][j].add(board[i][j]) #第i列添加当前元素\n",
    "            record[2][sq].add(board[i][j]) #第i个方块添加当前元素\n",
    "    return True"
   ]
  },
  {
   "cell_type": "code",
   "execution_count": 3,
   "id": "4623ed35",
   "metadata": {},
   "outputs": [],
   "source": [
    "board = [[\"5\",\"3\",\".\",\".\",\"7\",\".\",\".\",\".\",\".\"]\n",
    "        ,[\"6\",\".\",\".\",\"1\",\"9\",\"5\",\".\",\".\",\".\"]\n",
    "        ,[\".\",\"9\",\"8\",\".\",\".\",\".\",\".\",\"6\",\".\"]\n",
    "        ,[\"8\",\".\",\".\",\".\",\"6\",\".\",\".\",\".\",\"3\"]\n",
    "        ,[\"4\",\".\",\".\",\"8\",\".\",\"3\",\".\",\".\",\"1\"]\n",
    "        ,[\"7\",\".\",\".\",\".\",\"2\",\".\",\".\",\".\",\"6\"]\n",
    "        ,[\".\",\"6\",\".\",\".\",\".\",\".\",\"2\",\"8\",\".\"]\n",
    "        ,[\".\",\".\",\".\",\"4\",\"1\",\"9\",\".\",\".\",\"5\"]\n",
    "        ,[\".\",\".\",\".\",\".\",\"8\",\".\",\".\",\"7\",\"9\"]]\n",
    "isValidSudoku(board)"
   ]
  },
  {
   "cell_type": "code",
   "execution_count": 4,
   "id": "6f76f553",
   "metadata": {},
   "outputs": [],
   "source": [
    "board = [[\"8\",\"3\",\".\",\".\",\"7\",\".\",\".\",\".\",\".\"]\n",
    "        ,[\"6\",\".\",\".\",\"1\",\"9\",\"5\",\".\",\".\",\".\"]\n",
    "        ,[\".\",\"9\",\"8\",\".\",\".\",\".\",\".\",\"6\",\".\"]\n",
    "        ,[\"8\",\".\",\".\",\".\",\"6\",\".\",\".\",\".\",\"3\"]\n",
    "        ,[\"4\",\".\",\".\",\"8\",\".\",\"3\",\".\",\".\",\"1\"]\n",
    "        ,[\"7\",\".\",\".\",\".\",\"2\",\".\",\".\",\".\",\"6\"]\n",
    "        ,[\".\",\"6\",\".\",\".\",\".\",\".\",\"2\",\"8\",\".\"]\n",
    "        ,[\".\",\".\",\".\",\"4\",\"1\",\"9\",\".\",\".\",\"5\"]\n",
    "        ,[\".\",\".\",\".\",\".\",\"8\",\".\",\".\",\"7\",\"9\"]]\n",
    "isValidSudoku(board)"
   ]
  },
  {
   "cell_type": "code",
   "execution_count": null,
   "id": "c2f830c1",
   "metadata": {},
   "outputs": [],
   "source": []
  }
 ],
 "metadata": {
  "kernelspec": {
   "display_name": "Python 3",
   "language": "python",
   "name": "python3"
  },
  "language_info": {
   "codemirror_mode": {
    "name": "ipython",
    "version": 3
   },
   "file_extension": ".py",
   "mimetype": "text/x-python",
   "name": "python",
   "nbconvert_exporter": "python",
   "pygments_lexer": "ipython3",
   "version": "3.7.4"
  }
 },
 "nbformat": 4,
 "nbformat_minor": 5
}
