{
 "cells": [
  {
   "cell_type": "markdown",
   "id": "b4e2a79d",
   "metadata": {},
   "source": [
    "# 题目"
   ]
  },
  {
   "cell_type": "markdown",
   "id": "c245f201",
   "metadata": {},
   "source": [
    "> 给你两个字符串： `ransomNote` 和 `magazine` ，判断 `ransomNote` 能不能由 `magazine` 里面的字符构成。  \n",
    "> 如果可以，返回 `true` ；否则返回 `false` 。  \n",
    "> `magazine` 中的每个字符只能在 `ransomNote` 中使用一次。"
   ]
  },
  {
   "cell_type": "markdown",
   "id": "774cf28e",
   "metadata": {},
   "source": [
    "# 方法一：字符统计"
   ]
  },
  {
   "cell_type": "markdown",
   "id": "4092321b",
   "metadata": {},
   "source": [
    "> 统计两个字符串中的字符频次，若前者的所有字符频次都小于后者，则返回 True，否则返回 False。"
   ]
  },
  {
   "cell_type": "markdown",
   "id": "9dd7a418",
   "metadata": {},
   "source": [
    "## 复杂度"
   ]
  },
  {
   "cell_type": "markdown",
   "id": "c43769e8",
   "metadata": {},
   "source": [
    "- 时间复杂度: $O(m+n)$ ，其中 $m,n$ 分别是字符串 `ransomNote` 和 `magazine`  的长度。"
   ]
  },
  {
   "cell_type": "markdown",
   "id": "100a0c3c",
   "metadata": {},
   "source": [
    "> 只需要遍历两个字符串一次。"
   ]
  },
  {
   "cell_type": "markdown",
   "id": "65153cec",
   "metadata": {},
   "source": [
    "- 空间复杂度: $O(∣S∣)$ ，其中 $S$ 是字符集。"
   ]
  },
  {
   "cell_type": "markdown",
   "id": "ea73ab91",
   "metadata": {},
   "source": [
    "> 在本题中字符串只包含小写字母，因此 $∣S∣≤26$ 。"
   ]
  },
  {
   "cell_type": "markdown",
   "id": "4d3f674c",
   "metadata": {},
   "source": [
    "## 代码"
   ]
  },
  {
   "cell_type": "code",
   "execution_count": 1,
   "id": "fc2a4ee7",
   "metadata": {},
   "outputs": [],
   "source": [
    "import collections"
   ]
  },
  {
   "cell_type": "code",
   "execution_count": 2,
   "id": "8d322f17",
   "metadata": {},
   "outputs": [],
   "source": [
    "def canConstruct(ransomNote, magazine):\n",
    "    if len(ransomNote) > len(magazine): #若ransomNote长度更大，直接返回False\n",
    "        return False\n",
    "    '''若减完的结果为空，返回True；否则返回False'''\n",
    "    return not collections.Counter(ransomNote) - collections.Counter(magazine) #'collections.Counter'返回一个字典，键是字符串中的每个字符，值是字符对应的频次"
   ]
  },
  {
   "cell_type": "code",
   "execution_count": 3,
   "id": "cd5384e9",
   "metadata": {
    "scrolled": true
   },
   "outputs": [
    {
     "data": {
      "text/plain": [
       "False"
      ]
     },
     "execution_count": 3,
     "metadata": {},
     "output_type": "execute_result"
    }
   ],
   "source": [
    "ransomNote = \"a\"\n",
    "magazine = \"b\"\n",
    "canConstruct(ransomNote, magazine)"
   ]
  },
  {
   "cell_type": "code",
   "execution_count": 4,
   "id": "9cd39fbe",
   "metadata": {},
   "outputs": [
    {
     "data": {
      "text/plain": [
       "True"
      ]
     },
     "execution_count": 4,
     "metadata": {},
     "output_type": "execute_result"
    }
   ],
   "source": [
    "ransomNote = \"aa\"\n",
    "magazine = \"aab\"\n",
    "canConstruct(ransomNote, magazine)"
   ]
  },
  {
   "cell_type": "code",
   "execution_count": null,
   "id": "d59f7055",
   "metadata": {},
   "outputs": [],
   "source": []
  }
 ],
 "metadata": {
  "kernelspec": {
   "display_name": "Python 3",
   "language": "python",
   "name": "python3"
  },
  "language_info": {
   "codemirror_mode": {
    "name": "ipython",
    "version": 3
   },
   "file_extension": ".py",
   "mimetype": "text/x-python",
   "name": "python",
   "nbconvert_exporter": "python",
   "pygments_lexer": "ipython3",
   "version": "3.7.4"
  }
 },
 "nbformat": 4,
 "nbformat_minor": 5
}
