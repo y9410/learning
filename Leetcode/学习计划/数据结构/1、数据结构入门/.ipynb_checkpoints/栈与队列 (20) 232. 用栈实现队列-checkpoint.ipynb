{
 "cells": [
  {
   "cell_type": "markdown",
   "id": "3d55b03b",
   "metadata": {},
   "source": [
    "# 题目"
   ]
  },
  {
   "cell_type": "markdown",
   "id": "9af183e2",
   "metadata": {},
   "source": [
    "> 请你仅使用两个栈实现先入先出队列。队列应当支持一般队列支持的所有操作（ `push` 、 `pop` 、 `peek` 、 `empty` ）：  \n",
    "> 实现 MyQueue 类：  \n",
    "> （1） `push(int x)`  将元素 `x` 推到队列的末尾；  \n",
    "> （2） `pop()`  从队列的开头移除并返回元素；  \n",
    "> （3） `peek()` 返回队列开头的元素；  \n",
    "> （4） `empty()` 如果队列为空，返回 `true` ；否则，返回 `false` 。  \n",
    "\n",
    "> **说明：**只能使用标准的栈操作： `push to top` , `peek/pop from top` , `size` ,和 `is empty` 操作是合法的。可以使用 list 或者 deque（双端队列）来模拟一个栈，只要是标准的栈操作即可。"
   ]
  },
  {
   "cell_type": "markdown",
   "id": "ce1f568e",
   "metadata": {},
   "source": [
    "# 方法一：双栈"
   ]
  },
  {
   "cell_type": "markdown",
   "id": "76d7ecd9",
   "metadata": {},
   "source": [
    "> 使用两个后进先出的栈实现先进先出的队列。  \n",
    "> 「输入栈」会把输入顺序颠倒；如果把「输入栈」的元素逐个弹出放到「输出栈」，再从「输出栈」弹出元素的时候，则可以负负得正，实现了先进先出。"
   ]
  },
  {
   "cell_type": "markdown",
   "id": "02a7bede",
   "metadata": {},
   "source": [
    "## 复杂度"
   ]
  },
  {
   "cell_type": "markdown",
   "id": "074c857a",
   "metadata": {},
   "source": [
    "- 时间复杂度: `push` 和 `empty` 为 $O(1)$ ， `pop` 和 `peek` 为均摊 `O(1)` 。"
   ]
  },
  {
   "cell_type": "markdown",
   "id": "238d0af8",
   "metadata": {},
   "source": [
    "> 对于每个元素，至多入栈和出栈各两次，故均 `pop` 和 `peek` 为均摊 `O(1)` 。"
   ]
  },
  {
   "cell_type": "markdown",
   "id": "29ecdb96",
   "metadata": {},
   "source": [
    "- 空间复杂度: $O(n)$ ，其中 $n$ 是总操作数。"
   ]
  },
  {
   "cell_type": "markdown",
   "id": "64035aaa",
   "metadata": {},
   "source": [
    "> 对于有 $n$ 次 `push` 操作的情况，队列中会有 $n$ 个元素，故空间复杂度为 $O(n)$。"
   ]
  },
  {
   "cell_type": "markdown",
   "id": "215dbbe8",
   "metadata": {},
   "source": [
    "## 代码"
   ]
  },
  {
   "cell_type": "code",
   "execution_count": 1,
   "id": "3527aa71",
   "metadata": {},
   "outputs": [],
   "source": [
    "class MyQueue(object):\n",
    "\n",
    "    def __init__(self): #用两个列表模拟栈，两个栈的元素排列顺序刚好相反\n",
    "        self.stack1 = [] #输入栈：要将元素加入队列时，使用该栈\n",
    "        self.stack2 = [] #输出栈：要将元素推出队列时，使用该栈\n",
    "\n",
    "    def push(self, x): #向队列中推入一个元素\n",
    "        self.stack1.append(x)\n",
    "\n",
    "    def pop(self): #弹出队列开头的元素并返回该元素\n",
    "        '''将输入栈的元素从后往前推入输出栈，此时输出栈的最上层是队列的头部，将其弹出'''\n",
    "        if not self.stack2:\n",
    "            while self.stack1:\n",
    "                self.stack2.append(self.stack1.pop())\n",
    "        return self.stack2.pop()\n",
    "\n",
    "    def peek(self): #返回队列开头的元素\n",
    "        '''与pop()类似'''\n",
    "        if not self.stack2:\n",
    "            while self.stack1:\n",
    "                self.stack2.append(self.stack1.pop())\n",
    "        return self.stack2[-1]\n",
    "\n",
    "    def empty(self): #判断队列是否为空\n",
    "        return not self.stack1 and not self.stack2 #两个栈都为空说明队列为空\n",
    "    \n",
    "    def show(self):\n",
    "        if self.stack1:\n",
    "            return self.stack1\n",
    "        else:\n",
    "            return self.stack2"
   ]
  },
  {
   "cell_type": "markdown",
   "id": "4b9f0ce2",
   "metadata": {},
   "source": [
    "#### 测试一 "
   ]
  },
  {
   "cell_type": "code",
   "execution_count": 2,
   "id": "f20dace4",
   "metadata": {},
   "outputs": [],
   "source": [
    "myQueue = MyQueue()"
   ]
  },
  {
   "cell_type": "code",
   "execution_count": 3,
   "id": "c680f0ac",
   "metadata": {},
   "outputs": [
    {
     "data": {
      "text/plain": [
       "[1]"
      ]
     },
     "execution_count": 3,
     "metadata": {},
     "output_type": "execute_result"
    }
   ],
   "source": [
    "myQueue.push(1)\n",
    "myQueue.show()"
   ]
  },
  {
   "cell_type": "code",
   "execution_count": 4,
   "id": "99270f3d",
   "metadata": {},
   "outputs": [
    {
     "data": {
      "text/plain": [
       "[1, 2]"
      ]
     },
     "execution_count": 4,
     "metadata": {},
     "output_type": "execute_result"
    }
   ],
   "source": [
    "myQueue.push(2)\n",
    "myQueue.show()"
   ]
  },
  {
   "cell_type": "code",
   "execution_count": 5,
   "id": "7fa01d6b",
   "metadata": {},
   "outputs": [
    {
     "data": {
      "text/plain": [
       "1"
      ]
     },
     "execution_count": 5,
     "metadata": {},
     "output_type": "execute_result"
    }
   ],
   "source": [
    "myQueue.peek()"
   ]
  },
  {
   "cell_type": "code",
   "execution_count": 6,
   "id": "bc726a7f",
   "metadata": {},
   "outputs": [
    {
     "data": {
      "text/plain": [
       "1"
      ]
     },
     "execution_count": 6,
     "metadata": {},
     "output_type": "execute_result"
    }
   ],
   "source": [
    "myQueue.pop()"
   ]
  },
  {
   "cell_type": "code",
   "execution_count": 7,
   "id": "3ed9a7ad",
   "metadata": {},
   "outputs": [
    {
     "data": {
      "text/plain": [
       "[2]"
      ]
     },
     "execution_count": 7,
     "metadata": {},
     "output_type": "execute_result"
    }
   ],
   "source": [
    "myQueue.show()"
   ]
  },
  {
   "cell_type": "code",
   "execution_count": 8,
   "id": "64a12cbb",
   "metadata": {},
   "outputs": [
    {
     "data": {
      "text/plain": [
       "False"
      ]
     },
     "execution_count": 8,
     "metadata": {},
     "output_type": "execute_result"
    }
   ],
   "source": [
    "myQueue.empty()"
   ]
  }
 ],
 "metadata": {
  "kernelspec": {
   "display_name": "Python 3",
   "language": "python",
   "name": "python3"
  },
  "language_info": {
   "codemirror_mode": {
    "name": "ipython",
    "version": 3
   },
   "file_extension": ".py",
   "mimetype": "text/x-python",
   "name": "python",
   "nbconvert_exporter": "python",
   "pygments_lexer": "ipython3",
   "version": "3.7.4"
  }
 },
 "nbformat": 4,
 "nbformat_minor": 5
}
