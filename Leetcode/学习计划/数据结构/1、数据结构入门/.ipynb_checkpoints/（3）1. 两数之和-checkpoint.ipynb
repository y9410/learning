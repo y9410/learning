{
 "cells": [
  {
   "cell_type": "markdown",
   "id": "1b379f72",
   "metadata": {},
   "source": [
    "# 题目"
   ]
  },
  {
   "cell_type": "markdown",
   "id": "a417929b",
   "metadata": {},
   "source": [
    "> 给定一个整数数组 `nums` 和一个整数目标值 `target`，请你在该数组中找出和为目标值 `target` 的那两个整数，并返回它们的数组下标。"
   ]
  },
  {
   "cell_type": "markdown",
   "id": "ea9e31de",
   "metadata": {},
   "source": [
    "# 方法一：哈希表"
   ]
  },
  {
   "cell_type": "markdown",
   "id": "ad515700",
   "metadata": {},
   "source": [
    "> 对于 `nums` 中的每个元素 `i` ，使用哈希表查找 `target - i` 的时间复杂度更低。"
   ]
  },
  {
   "cell_type": "markdown",
   "id": "baf755f3",
   "metadata": {},
   "source": [
    "## 复杂度"
   ]
  },
  {
   "cell_type": "markdown",
   "id": "72694cc5",
   "metadata": {},
   "source": [
    "- 时间复杂度: $O(N)$ ，其中 $N$ 为数组 `nums` 的长度。"
   ]
  },
  {
   "cell_type": "markdown",
   "id": "51153a7a",
   "metadata": {},
   "source": [
    "> 对于每一个元素 `i` ，我们可以 $O(1)$ 地寻找 `target - i` 。"
   ]
  },
  {
   "cell_type": "markdown",
   "id": "b38d295d",
   "metadata": {},
   "source": [
    "- 空间复杂度: $O(N)$ ，其中 $N$ 为数组 `nums` 的长度。"
   ]
  },
  {
   "cell_type": "markdown",
   "id": "97399ae3",
   "metadata": {},
   "source": [
    "> 主要为哈希表的开销。"
   ]
  },
  {
   "cell_type": "markdown",
   "id": "e3105272",
   "metadata": {},
   "source": [
    "## 代码"
   ]
  },
  {
   "cell_type": "code",
   "execution_count": 1,
   "id": "7617f18c",
   "metadata": {},
   "outputs": [],
   "source": [
    "def twoSum(nums, target):\n",
    "    hashtable = dict() #python字典是用哈希表实现的\n",
    "    for i, num in enumerate(nums): #对于数列nums，i是从0到N-1的索引，num是数列中的元素\n",
    "        if target - num in hashtable:\n",
    "            return [hashtable[target - num], i]\n",
    "        hashtable[nums[i]] = i\n",
    "    return []"
   ]
  },
  {
   "cell_type": "code",
   "execution_count": 2,
   "id": "5ce7f3da",
   "metadata": {},
   "outputs": [
    {
     "data": {
      "text/plain": [
       "[0, 1]"
      ]
     },
     "execution_count": 2,
     "metadata": {},
     "output_type": "execute_result"
    }
   ],
   "source": [
    "nums = [2,7,11,15]\n",
    "target = 9\n",
    "twoSum(nums, target)"
   ]
  },
  {
   "cell_type": "code",
   "execution_count": 3,
   "id": "47889f27",
   "metadata": {},
   "outputs": [
    {
     "data": {
      "text/plain": [
       "[]"
      ]
     },
     "execution_count": 3,
     "metadata": {},
     "output_type": "execute_result"
    }
   ],
   "source": [
    "nums = [2,7,11,15]\n",
    "target = 100\n",
    "twoSum(nums, target)"
   ]
  },
  {
   "cell_type": "code",
   "execution_count": null,
   "id": "807673a3",
   "metadata": {},
   "outputs": [],
   "source": []
  }
 ],
 "metadata": {
  "kernelspec": {
   "display_name": "Python 3",
   "language": "python",
   "name": "python3"
  },
  "language_info": {
   "codemirror_mode": {
    "name": "ipython",
    "version": 3
   },
   "file_extension": ".py",
   "mimetype": "text/x-python",
   "name": "python",
   "nbconvert_exporter": "python",
   "pygments_lexer": "ipython3",
   "version": "3.7.4"
  }
 },
 "nbformat": 4,
 "nbformat_minor": 5
}
