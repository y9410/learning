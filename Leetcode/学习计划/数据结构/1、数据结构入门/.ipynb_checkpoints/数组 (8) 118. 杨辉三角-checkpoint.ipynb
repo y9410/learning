{
 "cells": [
  {
   "cell_type": "markdown",
   "id": "494df9b9",
   "metadata": {},
   "source": [
    "# 题目"
   ]
  },
  {
   "cell_type": "markdown",
   "id": "4f1629ff",
   "metadata": {},
   "source": [
    "> 给定一个非负整数 `numRows` ，生成“杨辉三角”的前 `numRows` 行。"
   ]
  },
  {
   "cell_type": "markdown",
   "id": "b5b7b048",
   "metadata": {},
   "source": [
    "# 方法一：数学"
   ]
  },
  {
   "cell_type": "markdown",
   "id": "e3b91b11",
   "metadata": {},
   "source": [
    "> 逐层计算。  \n",
    "> **注意：**杨辉三角左右对称，因此可以只算一半。"
   ]
  },
  {
   "cell_type": "markdown",
   "id": "c2bd7819",
   "metadata": {},
   "source": [
    "## 复杂度"
   ]
  },
  {
   "cell_type": "markdown",
   "id": "eeaa99eb",
   "metadata": {},
   "source": [
    "- 时间复杂度: $O(n^2)$ ，其中 $n$ 为 `numRows` 。"
   ]
  },
  {
   "cell_type": "markdown",
   "id": "eb82aaaf",
   "metadata": {},
   "source": [
    "> 要遍历 $n$ 行，每次要构建一个列表，最大列表长度为 $n$ 。"
   ]
  },
  {
   "cell_type": "markdown",
   "id": "5aa4a1da",
   "metadata": {},
   "source": [
    "- 空间复杂度: $O(1)$ 。"
   ]
  },
  {
   "cell_type": "markdown",
   "id": "c5e6cbdb",
   "metadata": {},
   "source": [
    "> 不考虑返回值的空间占用。"
   ]
  },
  {
   "cell_type": "markdown",
   "id": "eda48bf4",
   "metadata": {},
   "source": [
    "## 代码"
   ]
  },
  {
   "cell_type": "code",
   "execution_count": 1,
   "id": "a2cb3a06",
   "metadata": {},
   "outputs": [],
   "source": [
    "def generate(numRows):\n",
    "    ret = list()\n",
    "    for i in range(numRows):\n",
    "        row = list()\n",
    "        for j in range(0, i + 1):\n",
    "            if j == 0 or j == i: #如果是某层的第一个或最后一个位置，则直接设为1\n",
    "                row.append(1)\n",
    "            else: #否则设为上一层相邻的左右两数之和\n",
    "                row.append(ret[i - 1][j] + ret[i - 1][j - 1])\n",
    "        ret.append(row)\n",
    "    return ret"
   ]
  },
  {
   "cell_type": "code",
   "execution_count": 2,
   "id": "6c9e49b7",
   "metadata": {},
   "outputs": [
    {
     "data": {
      "text/plain": [
       "[[1], [1, 1], [1, 2, 1], [1, 3, 3, 1], [1, 4, 6, 4, 1]]"
      ]
     },
     "execution_count": 2,
     "metadata": {},
     "output_type": "execute_result"
    }
   ],
   "source": [
    "numRows = 5\n",
    "generate(numRows)"
   ]
  },
  {
   "cell_type": "code",
   "execution_count": 3,
   "id": "283e778c",
   "metadata": {},
   "outputs": [
    {
     "data": {
      "text/plain": [
       "[[1]]"
      ]
     },
     "execution_count": 3,
     "metadata": {},
     "output_type": "execute_result"
    }
   ],
   "source": [
    "numRows = 1\n",
    "generate(numRows)"
   ]
  },
  {
   "cell_type": "code",
   "execution_count": null,
   "id": "d53ab56e",
   "metadata": {},
   "outputs": [],
   "source": []
  }
 ],
 "metadata": {
  "kernelspec": {
   "display_name": "Python 3",
   "language": "python",
   "name": "python3"
  },
  "language_info": {
   "codemirror_mode": {
    "name": "ipython",
    "version": 3
   },
   "file_extension": ".py",
   "mimetype": "text/x-python",
   "name": "python",
   "nbconvert_exporter": "python",
   "pygments_lexer": "ipython3",
   "version": "3.7.4"
  }
 },
 "nbformat": 4,
 "nbformat_minor": 5
}
