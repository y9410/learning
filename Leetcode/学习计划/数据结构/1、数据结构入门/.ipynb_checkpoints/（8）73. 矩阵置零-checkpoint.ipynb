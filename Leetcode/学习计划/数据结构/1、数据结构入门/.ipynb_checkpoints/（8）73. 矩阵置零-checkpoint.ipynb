{
 "cells": [
  {
   "cell_type": "markdown",
   "id": "8c40b9d8",
   "metadata": {},
   "source": [
    "# 题目"
   ]
  },
  {
   "cell_type": "markdown",
   "id": "20524e8f",
   "metadata": {},
   "source": [
    "> 给定一个 `m × n` 的矩阵，如果一个元素为 0 ，则将其所在行和列的所有元素都设为 0 。  \n",
    "> 请使用原地算法。  \n",
    "> 一个原地算法（in-place algorithm）是一种使用小的，固定数量的额外之空间来转换资料的算法。当算法执行时，输入的资料通常会被要输出的部分覆盖掉。不是原地算法有时候称为非原地（not-in-place）或不得其所（out-of-place）。"
   ]
  },
  {
   "cell_type": "markdown",
   "id": "2144ea85",
   "metadata": {},
   "source": [
    "# 方法一：使用两个标记变量"
   ]
  },
  {
   "cell_type": "markdown",
   "id": "7536a9b1",
   "metadata": {},
   "source": [
    "> 遍历矩阵，用矩阵的第一行和第一列记录 0 元素的位置。但这样会导致原数组的第一行和第一列被修改，无法记录它们是否原本包含 0 元素。因此我们需要额外使用两个标记变量分别记录第一行和第一列是否原本包含 0 元素。"
   ]
  },
  {
   "cell_type": "markdown",
   "id": "de4c2746",
   "metadata": {},
   "source": [
    "## 复杂度"
   ]
  },
  {
   "cell_type": "markdown",
   "id": "53fa74a2",
   "metadata": {},
   "source": [
    "- 时间复杂度: $O(mn)$ ，其中 $m$ 和 $n$ 分别是矩阵的行列长度。"
   ]
  },
  {
   "cell_type": "markdown",
   "id": "04ab5847",
   "metadata": {},
   "source": [
    "> 至多只需要遍历该矩阵两次。"
   ]
  },
  {
   "cell_type": "markdown",
   "id": "e0275665",
   "metadata": {},
   "source": [
    "- 空间复杂度: $O(1)$ 。"
   ]
  },
  {
   "cell_type": "markdown",
   "id": "9d27d3b3",
   "metadata": {},
   "source": [
    "> 只需要常数空间存储若干变量。"
   ]
  },
  {
   "cell_type": "markdown",
   "id": "72204d77",
   "metadata": {},
   "source": [
    "## 代码"
   ]
  },
  {
   "cell_type": "code",
   "execution_count": 1,
   "id": "6780de37",
   "metadata": {},
   "outputs": [],
   "source": [
    "def setZeroes(matrix):\n",
    "    m, n = len(matrix), len(matrix[0])\n",
    "    \n",
    "    '''记录第一行和第一列是否有0元素'''\n",
    "    flag_col0 = any(matrix[i][0] == 0 for i in range(m)) #'any'用于判断给定的可迭代参数是否全为False，若否，则返回True\n",
    "    flag_row0 = any(matrix[0][j] == 0 for j in range(n))\n",
    "    \n",
    "    '''用第一行和第一列记录0元素的位置'''\n",
    "    for i in range(1, m):\n",
    "        for j in range(1, n): #遍历第二行/第二列到最后一行/最后一列的全部元素\n",
    "            if matrix[i][j] == 0: #0元素同行列的第一行和第一列的元素变为0\n",
    "                matrix[i][0] = matrix[0][j] = 0\n",
    "    \n",
    "    '''根据第一行和第一列0元素的情况将对应行列的所有元素变为0'''\n",
    "    for i in range(1, m):\n",
    "        for j in range(1, n):\n",
    "            if matrix[i][0] == 0 or matrix[0][j] == 0:\n",
    "                matrix[i][j] = 0\n",
    "    \n",
    "    '''根据第一行和第一列的情况决定是否将它们变为0'''\n",
    "    if flag_col0:\n",
    "        for i in range(m):\n",
    "            matrix[i][0] = 0\n",
    "    if flag_row0:\n",
    "        for j in range(n):\n",
    "            matrix[0][j] = 0"
   ]
  },
  {
   "cell_type": "code",
   "execution_count": 2,
   "id": "c12382d8",
   "metadata": {},
   "outputs": [],
   "source": [
    "matrix = [[1,1,1],[1,0,1],[1,1,1]]\n",
    "setZeroes(matrix)\n",
    "matrix"
   ]
  },
  {
   "cell_type": "code",
   "execution_count": 3,
   "id": "c30d22a4",
   "metadata": {},
   "outputs": [],
   "source": [
    "matrix = [[0,1,2,0],[3,4,5,2],[1,3,1,5]]\n",
    "setZeroes(matrix)\n",
    "matrix"
   ]
  },
  {
   "cell_type": "code",
   "execution_count": null,
   "id": "7f965728",
   "metadata": {},
   "outputs": [],
   "source": []
  }
 ],
 "metadata": {
  "kernelspec": {
   "display_name": "Python 3",
   "language": "python",
   "name": "python3"
  },
  "language_info": {
   "codemirror_mode": {
    "name": "ipython",
    "version": 3
   },
   "file_extension": ".py",
   "mimetype": "text/x-python",
   "name": "python",
   "nbconvert_exporter": "python",
   "pygments_lexer": "ipython3",
   "version": "3.7.4"
  }
 },
 "nbformat": 4,
 "nbformat_minor": 5
}
