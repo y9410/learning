{
 "cells": [
  {
   "cell_type": "markdown",
   "id": "35cd2181",
   "metadata": {},
   "source": [
    "# 题目"
   ]
  },
  {
   "cell_type": "markdown",
   "id": "60d8fb62",
   "metadata": {},
   "source": [
    "> 给你一个整数数组 `nums` 。如果任一值在数组中出现**至少两次**，返回 True ；如果数组中每个元素**互不相同**，返回 False 。"
   ]
  },
  {
   "cell_type": "markdown",
   "id": "2ec57e29",
   "metadata": {},
   "source": [
    "# 方法一：排序"
   ]
  },
  {
   "cell_type": "markdown",
   "id": "37f8f069",
   "metadata": {},
   "source": [
    "> 对数组进行由小到大排序，相同元素会出现在相邻位置。"
   ]
  },
  {
   "cell_type": "markdown",
   "id": "ca58e8c0",
   "metadata": {},
   "source": [
    "## 复杂度"
   ]
  },
  {
   "cell_type": "markdown",
   "id": "620918a5",
   "metadata": {},
   "source": [
    "- 时间复杂度: $O(NlogN)$ ，其中 $N$ 为数组 `nums` 的长度。"
   ]
  },
  {
   "cell_type": "markdown",
   "id": "f4f193dd",
   "metadata": {},
   "source": [
    "> 需要对数组进行排序。"
   ]
  },
  {
   "cell_type": "markdown",
   "id": "6b5bc9be",
   "metadata": {},
   "source": [
    "- 空间复杂度: $O(logN)$ ，其中 $N$ 为数组 `nums` 的长度。"
   ]
  },
  {
   "cell_type": "markdown",
   "id": "d09f05dd",
   "metadata": {},
   "source": [
    "> 应当考虑递归调用栈的深度。"
   ]
  },
  {
   "cell_type": "markdown",
   "id": "afce9e48",
   "metadata": {},
   "source": [
    "## 代码"
   ]
  },
  {
   "cell_type": "code",
   "execution_count": 1,
   "id": "8a7ba0fa",
   "metadata": {},
   "outputs": [],
   "source": [
    "def containsDuplicate(nums):\n",
    "    nums.sort()\n",
    "    for i in range(len(nums) - 1):\n",
    "        if nums[i] == nums[i+1]:\n",
    "            return True\n",
    "    return False"
   ]
  },
  {
   "cell_type": "code",
   "execution_count": 2,
   "id": "13996c82",
   "metadata": {},
   "outputs": [
    {
     "data": {
      "text/plain": [
       "True"
      ]
     },
     "execution_count": 2,
     "metadata": {},
     "output_type": "execute_result"
    }
   ],
   "source": [
    "nums = [1,2,3,1]\n",
    "containsDuplicate(nums)"
   ]
  },
  {
   "cell_type": "code",
   "execution_count": 3,
   "id": "367559c7",
   "metadata": {},
   "outputs": [
    {
     "data": {
      "text/plain": [
       "False"
      ]
     },
     "execution_count": 3,
     "metadata": {},
     "output_type": "execute_result"
    }
   ],
   "source": [
    "nums = [1,2,3,4]\n",
    "containsDuplicate(nums)"
   ]
  },
  {
   "cell_type": "markdown",
   "id": "9715ea2e",
   "metadata": {},
   "source": [
    "# 方法二：哈希表"
   ]
  },
  {
   "cell_type": "markdown",
   "id": "fb181177",
   "metadata": {},
   "source": [
    "> 对于数组中每个元素，我们将它插入到哈希表中。如果插入一个元素时发现该元素已经存在于哈希表中，则说明存在重复的元素。"
   ]
  },
  {
   "cell_type": "markdown",
   "id": "53498540",
   "metadata": {},
   "source": [
    "## 复杂度"
   ]
  },
  {
   "cell_type": "markdown",
   "id": "95976351",
   "metadata": {},
   "source": [
    "- 时间复杂度: $O(N)$，其中$N$为数组的长度。"
   ]
  },
  {
   "cell_type": "markdown",
   "id": "fd1c83d4",
   "metadata": {},
   "source": [
    "- 空间复杂度: $O(N)$，其中$N$为数组的长度。"
   ]
  },
  {
   "cell_type": "markdown",
   "id": "29e42d96",
   "metadata": {},
   "source": [
    "## 代码"
   ]
  },
  {
   "cell_type": "code",
   "execution_count": 4,
   "id": "46429375",
   "metadata": {},
   "outputs": [],
   "source": [
    "def containsDuplicate(nums):\n",
    "    hastable = {} #python中的字典是哈希表\n",
    "    for i in nums:\n",
    "        if i in hastable:\n",
    "            return True\n",
    "        hastable[i] = 1\n",
    "    return False"
   ]
  },
  {
   "cell_type": "code",
   "execution_count": 5,
   "id": "646b87f5",
   "metadata": {},
   "outputs": [
    {
     "data": {
      "text/plain": [
       "True"
      ]
     },
     "execution_count": 5,
     "metadata": {},
     "output_type": "execute_result"
    }
   ],
   "source": [
    "nums = [1,2,3,1]\n",
    "containsDuplicate(nums)"
   ]
  },
  {
   "cell_type": "code",
   "execution_count": 6,
   "id": "ac3f4114",
   "metadata": {},
   "outputs": [
    {
     "data": {
      "text/plain": [
       "False"
      ]
     },
     "execution_count": 6,
     "metadata": {},
     "output_type": "execute_result"
    }
   ],
   "source": [
    "nums = [1,2,3,4]\n",
    "containsDuplicate(nums)"
   ]
  },
  {
   "cell_type": "code",
   "execution_count": null,
   "id": "039a0cf4",
   "metadata": {},
   "outputs": [],
   "source": []
  }
 ],
 "metadata": {
  "kernelspec": {
   "display_name": "Python 3",
   "language": "python",
   "name": "python3"
  },
  "language_info": {
   "codemirror_mode": {
    "name": "ipython",
    "version": 3
   },
   "file_extension": ".py",
   "mimetype": "text/x-python",
   "name": "python",
   "nbconvert_exporter": "python",
   "pygments_lexer": "ipython3",
   "version": "3.7.4"
  }
 },
 "nbformat": 4,
 "nbformat_minor": 5
}
