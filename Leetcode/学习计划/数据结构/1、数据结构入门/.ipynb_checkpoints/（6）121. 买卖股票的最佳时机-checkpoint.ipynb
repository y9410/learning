{
 "cells": [
  {
   "cell_type": "markdown",
   "id": "e224ad23",
   "metadata": {},
   "source": [
    "# 题目"
   ]
  },
  {
   "cell_type": "markdown",
   "id": "524165f7",
   "metadata": {},
   "source": [
    "> 给定一个数组 `prices` ，它的第 `i` 个元素 `prices[i]` 表示一支给定股票第 `i` 天的价格。  \n",
    "> 你只能选择某一天买入这只股票，并选择在未来的某一个不同的日子卖出该股票。设计一个算法来计算你所能获取的最大利润。  \n",
    "> 返回你可以从这笔交易中获取的最大利润。如果你不能获取任何利润，返回 `0` 。"
   ]
  },
  {
   "cell_type": "markdown",
   "id": "f65b8199",
   "metadata": {},
   "source": [
    "# 方法一：动态规划"
   ]
  },
  {
   "cell_type": "markdown",
   "id": "c075b604",
   "metadata": {},
   "source": [
    "> 遍历股价数组，遍历过程中记录第一天到当天的历史最低股价，当天的最大收益是两者之差，记录每一天的最大收益，其最大值即使所求解。"
   ]
  },
  {
   "cell_type": "markdown",
   "id": "a23ca632",
   "metadata": {},
   "source": [
    "## 复杂度"
   ]
  },
  {
   "cell_type": "markdown",
   "id": "cb9851df",
   "metadata": {},
   "source": [
    "- 时间复杂度: $O(n)$ ，其中 $n$ 是数组的长度。"
   ]
  },
  {
   "cell_type": "markdown",
   "id": "78cef203",
   "metadata": {},
   "source": [
    "> 只需要遍历数组一次。"
   ]
  },
  {
   "cell_type": "markdown",
   "id": "fb1237cf",
   "metadata": {},
   "source": [
    "- 空间复杂度: $O(1)$ 。"
   ]
  },
  {
   "cell_type": "markdown",
   "id": "30a78d09",
   "metadata": {},
   "source": [
    "> 只是用了常数个变量。"
   ]
  },
  {
   "cell_type": "markdown",
   "id": "bf5a80df",
   "metadata": {},
   "source": [
    "## 代码"
   ]
  },
  {
   "cell_type": "code",
   "execution_count": 1,
   "id": "f8bbdc86",
   "metadata": {},
   "outputs": [],
   "source": [
    "def maxProfit(prices):\n",
    "    minprice = prices[0] #记录最低历史价格\n",
    "    maxprofit = 0 #记录最大收益\n",
    "    for price in prices:\n",
    "        maxprofit = max(price - minprice, maxprofit) #最大收益为当天最大收益与历史最大收益中的较大者\n",
    "        minprice = min(price, minprice) #历史最低价为当天价格与先前历史最低价中的较小者\n",
    "    return maxprofit"
   ]
  },
  {
   "cell_type": "code",
   "execution_count": 2,
   "id": "6a7f7ced",
   "metadata": {},
   "outputs": [],
   "source": [
    "prices = [7,1,5,3,6,4]\n",
    "maxProfit(prices)"
   ]
  },
  {
   "cell_type": "code",
   "execution_count": 3,
   "id": "835ad37f",
   "metadata": {},
   "outputs": [],
   "source": [
    "prices = [7,6,4,3,1]\n",
    "maxProfit(prices)"
   ]
  },
  {
   "cell_type": "code",
   "execution_count": 4,
   "id": "a8e1a404",
   "metadata": {},
   "outputs": [],
   "source": [
    "prices = [7]\n",
    "maxProfit(prices)"
   ]
  },
  {
   "cell_type": "code",
   "execution_count": null,
   "id": "5732a4d9",
   "metadata": {},
   "outputs": [],
   "source": []
  }
 ],
 "metadata": {
  "kernelspec": {
   "display_name": "Python 3",
   "language": "python",
   "name": "python3"
  },
  "language_info": {
   "codemirror_mode": {
    "name": "ipython",
    "version": 3
   },
   "file_extension": ".py",
   "mimetype": "text/x-python",
   "name": "python",
   "nbconvert_exporter": "python",
   "pygments_lexer": "ipython3",
   "version": "3.7.4"
  }
 },
 "nbformat": 4,
 "nbformat_minor": 5
}
