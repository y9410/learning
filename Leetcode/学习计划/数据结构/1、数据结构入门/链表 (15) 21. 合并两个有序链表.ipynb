{
 "cells": [
  {
   "cell_type": "markdown",
   "id": "eb010a83",
   "metadata": {},
   "source": [
    "# 题目"
   ]
  },
  {
   "cell_type": "markdown",
   "id": "854e4085",
   "metadata": {},
   "source": [
    "> 将两个升序链表 `l1` 和 `l2` 合并为一个新的升序链表并返回。新链表是通过拼接给定的两个链表的所有节点组成的。 "
   ]
  },
  {
   "cell_type": "markdown",
   "id": "c5828481",
   "metadata": {},
   "source": [
    "# 方法一：迭代"
   ]
  },
  {
   "cell_type": "markdown",
   "id": "e327bf2b",
   "metadata": {},
   "source": [
    "> 当 `l1` 和 `l2` 都不是空链表时，判断 `l1` 和 `l2` 哪一个链表的头节点的值更小，将较小值的节点添加到结果里，当一个节点被添加到结果里之后，将对应链表中的节点向后移一位。"
   ]
  },
  {
   "cell_type": "markdown",
   "id": "e7b2d263",
   "metadata": {},
   "source": [
    "## 复杂度"
   ]
  },
  {
   "cell_type": "markdown",
   "id": "11670727",
   "metadata": {},
   "source": [
    "- 时间复杂度: $O(m+n)$ ，其中 $n$ 和 $m$ 分别为两个链表的长度。"
   ]
  },
  {
   "cell_type": "markdown",
   "id": "4c3d28e6",
   "metadata": {},
   "source": [
    "> 每次循环迭代中， `l1` 和 `l2` 只有一个元素会被放进合并链表中， 因此 `while` 循环的次数不会超过两个链表的长度之和。所有其他操作的时间复杂度都是常数级别的，因此总的时间复杂度为 $O(n+m)$。"
   ]
  },
  {
   "cell_type": "markdown",
   "id": "0275bdba",
   "metadata": {},
   "source": [
    "- 空间复杂度: $O(1)$ 。"
   ]
  },
  {
   "cell_type": "markdown",
   "id": "3f7c22c8",
   "metadata": {},
   "source": [
    "> 只需要常数的空间存放若干变量。"
   ]
  },
  {
   "cell_type": "markdown",
   "id": "6f66e556",
   "metadata": {},
   "source": [
    "## 代码"
   ]
  },
  {
   "cell_type": "markdown",
   "id": "0fa09163",
   "metadata": {},
   "source": [
    "### 代码：构建链表"
   ]
  },
  {
   "cell_type": "code",
   "execution_count": 1,
   "id": "93053c5d",
   "metadata": {},
   "outputs": [],
   "source": [
    "#用于构建链表中的节点\n",
    "class ListNode:\n",
    "    def __init__(self, initdata):\n",
    "        self.val = initdata #节点的数据变量\n",
    "        self.next = None #节点指向下一个节点的引用（若为None，则表示没有引用）\n",
    "\n",
    "    def getData(self): #获得当前节点的数据变量\n",
    "        return self.val\n",
    "\n",
    "    def getNext(self): #获得当前节点连接的下一个节点的数据变量\n",
    "        return self.next\n",
    "\n",
    "    def setData(self, newdata): #设置当前节点的数据变量\n",
    "        self.val = newdata\n",
    "\n",
    "    def setNext(self, newnext): #设置当前节点的引用\n",
    "        self.next = newnext"
   ]
  },
  {
   "cell_type": "code",
   "execution_count": 2,
   "id": "628ec8aa",
   "metadata": {},
   "outputs": [],
   "source": [
    "#构建一个无序的链表\n",
    "class UnorderedList:\n",
    "    def __init__(self):\n",
    "        self.head = None #给出一个外部引用head（指向第一个节点）\n",
    "\n",
    "    def add(self, item):#假设元素 item 之前不在列表中，并向其中添加 item。它接受一个元素作为参数，无返回值。复杂度：O(1)\n",
    "        #为了方便，将新节点插入列表的开头\n",
    "        temp = ListNode(item) #每次使用add方法都会创建一个新实例（即新节点）\n",
    "        temp.setNext(self.head) #新节点指向原列表的第一个节点\n",
    "        self.head = temp #head指向新节点\n",
    "    \n",
    "    def setpos(self, CurrentNode): #将链表尾节点的next指向CurrentNode\n",
    "        current = self.head #从头开始遍历链表\n",
    "        while current.getNext() != None : #若当前节点的next指向None，说明其是尾节点\n",
    "            current = current.getNext()\n",
    "        current.setNext(CurrentNode)"
   ]
  },
  {
   "cell_type": "code",
   "execution_count": 3,
   "id": "def6fd9a",
   "metadata": {},
   "outputs": [],
   "source": [
    "def BuildUnorderedList(List, pos = -1): #输入用于构建链表的列表和链表尾节点的next指向（索引）\n",
    "    Aim = UnorderedList() #一定要加括号，这样才代表实例化\n",
    "    for i in range(len(List)-1, -1, -1): #由于链表采用从头插入的方法，因此从后往前遍历List\n",
    "        Aim.add(List[i]) #将新节点插入链表\n",
    "        if i == pos: #若当前节点是尾节点的next指向，则将尾节点的next指向设置为当前节点\n",
    "            print(Aim.head.val)\n",
    "            Aim.setpos(Aim.head)\n",
    "    return Aim #返回构建好的链表"
   ]
  },
  {
   "cell_type": "code",
   "execution_count": 4,
   "id": "366cd7f1",
   "metadata": {},
   "outputs": [],
   "source": [
    "def showList(ListHead): #给定链表的头元素，返回以列表形式表示的链表\n",
    "    prev = ListHead\n",
    "    List = []\n",
    "    while prev:\n",
    "        List.append(prev.val)\n",
    "        prev = prev.next\n",
    "    return List"
   ]
  },
  {
   "cell_type": "markdown",
   "id": "cca7ffd0",
   "metadata": {},
   "source": [
    "### 代码：合并链表"
   ]
  },
  {
   "cell_type": "code",
   "execution_count": 5,
   "id": "bf2eae56",
   "metadata": {},
   "outputs": [],
   "source": [
    "def mergeTwoLists(l1, l2): #输入两个链表各自的头节点\n",
    "    \n",
    "    prehead = ListNode(-1) #设置合并列表的头节点\n",
    "    prev = prehead #当前节点为合并列表的头节点\n",
    "    \n",
    "    while l1 and l2: #只要两链表都不为空，就不断比较两链表的当前节点的值，并将较小者加入合并链表\n",
    "        if l1.val <= l2.val:\n",
    "            prev.next = l1\n",
    "            l1 = l1.next\n",
    "        else:\n",
    "            prev.next = l2\n",
    "            l2 = l2.next            \n",
    "        prev = prev.next\n",
    "\n",
    "    prev.next = l1 if l1 is not None else l2 #合并后l1和l2最多只有一个还未被合并完，直接将链表末尾指向未合并完的链表即可\n",
    "\n",
    "    return prehead.next"
   ]
  },
  {
   "cell_type": "markdown",
   "id": "b17dc918",
   "metadata": {},
   "source": [
    "#### 测试一 "
   ]
  },
  {
   "cell_type": "code",
   "execution_count": 6,
   "id": "cea272a8",
   "metadata": {},
   "outputs": [],
   "source": [
    "l1 = [1,2,4]\n",
    "l2 = [1,3,4]\n",
    "Aim_1_l1 = BuildUnorderedList(l1)\n",
    "Aim_1_l2 = BuildUnorderedList(l2)"
   ]
  },
  {
   "cell_type": "code",
   "execution_count": 7,
   "id": "db6af01e",
   "metadata": {},
   "outputs": [
    {
     "data": {
      "text/plain": [
       "[1, 1, 2, 3, 4, 4]"
      ]
     },
     "execution_count": 7,
     "metadata": {},
     "output_type": "execute_result"
    }
   ],
   "source": [
    "mergeList = mergeTwoLists(Aim_1_l1.head, Aim_1_l2.head)\n",
    "showList(mergeList)"
   ]
  },
  {
   "cell_type": "markdown",
   "id": "e56fcd2d",
   "metadata": {},
   "source": [
    "#### 测试二 "
   ]
  },
  {
   "cell_type": "code",
   "execution_count": 8,
   "id": "5207f131",
   "metadata": {},
   "outputs": [],
   "source": [
    "#测试二\n",
    "l1 = []\n",
    "l2 = []\n",
    "Aim_2_l1 = BuildUnorderedList(l1)\n",
    "Aim_2_l2 = BuildUnorderedList(l2)"
   ]
  },
  {
   "cell_type": "code",
   "execution_count": 9,
   "id": "56b652a2",
   "metadata": {},
   "outputs": [
    {
     "data": {
      "text/plain": [
       "[]"
      ]
     },
     "execution_count": 9,
     "metadata": {},
     "output_type": "execute_result"
    }
   ],
   "source": [
    "#测试二\n",
    "mergeList = mergeTwoLists(Aim_2_l1.head, Aim_2_l2.head)\n",
    "showList(mergeList)"
   ]
  },
  {
   "cell_type": "markdown",
   "id": "7355afe2",
   "metadata": {},
   "source": [
    "#### 测试三 "
   ]
  },
  {
   "cell_type": "code",
   "execution_count": 10,
   "id": "7c53f0f8",
   "metadata": {},
   "outputs": [],
   "source": [
    "#测试三\n",
    "l1 = []\n",
    "l2 = [0]\n",
    "Aim_3_l1 = BuildUnorderedList(l1)\n",
    "Aim_3_l2 = BuildUnorderedList(l2)"
   ]
  },
  {
   "cell_type": "code",
   "execution_count": 11,
   "id": "88f39f24",
   "metadata": {},
   "outputs": [
    {
     "data": {
      "text/plain": [
       "[0]"
      ]
     },
     "execution_count": 11,
     "metadata": {},
     "output_type": "execute_result"
    }
   ],
   "source": [
    "#测试三\n",
    "mergeList = mergeTwoLists(Aim_3_l1.head, Aim_3_l2.head)\n",
    "showList(mergeList)"
   ]
  }
 ],
 "metadata": {
  "kernelspec": {
   "display_name": "Python 3",
   "language": "python",
   "name": "python3"
  },
  "language_info": {
   "codemirror_mode": {
    "name": "ipython",
    "version": 3
   },
   "file_extension": ".py",
   "mimetype": "text/x-python",
   "name": "python",
   "nbconvert_exporter": "python",
   "pygments_lexer": "ipython3",
   "version": "3.7.4"
  }
 },
 "nbformat": 4,
 "nbformat_minor": 5
}
