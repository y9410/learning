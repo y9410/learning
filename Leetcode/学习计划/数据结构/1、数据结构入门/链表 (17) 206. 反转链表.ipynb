{
 "cells": [
  {
   "cell_type": "markdown",
   "id": "30fbc623",
   "metadata": {},
   "source": [
    "# 题目"
   ]
  },
  {
   "cell_type": "markdown",
   "id": "95527929",
   "metadata": {},
   "source": [
    "> 给你单链表的头节点 `head` ，请你反转链表，并返回反转后的链表。"
   ]
  },
  {
   "cell_type": "markdown",
   "id": "79146ac5",
   "metadata": {},
   "source": [
    "# 方法一：双指针迭代"
   ]
  },
  {
   "cell_type": "markdown",
   "id": "aa62822d",
   "metadata": {},
   "source": [
    "> （1）设置一个虚拟节点，其 `next` 指向链表的头节点；  \n",
    "> （2）设置两个指针 `pre` 和 `cur` ，后者指向当前的节点，前者指向当前节点的上一个节点；  \n",
    "> （3）为了反转两个节点的指向关系，设置一个变量 `tmp` 用于临时储存，其为当前节点的下一个节点；  \n",
    "> （4）将 `cur` 指向头节点， `pre` 指向虚拟节点，开始遍历；  \n",
    "> （5）交换时，让当前节点的 `next` 指向前一个节点，将 `pre`, `cur`, `tmp` 往后移一位，重复（5）。  \n",
    "> （6）遍历结束后，删除虚拟节点。"
   ]
  },
  {
   "cell_type": "markdown",
   "id": "073dca88",
   "metadata": {},
   "source": [
    "## 复杂度"
   ]
  },
  {
   "cell_type": "markdown",
   "id": "e5dc7a4d",
   "metadata": {},
   "source": [
    "- 时间复杂度: $O(n)$ ，其中 $n$ 是链表的长度。"
   ]
  },
  {
   "cell_type": "markdown",
   "id": "2798d482",
   "metadata": {},
   "source": [
    "> 需要遍历链表两次（第二次删除虚拟节点）。"
   ]
  },
  {
   "cell_type": "markdown",
   "id": "45da2d4d",
   "metadata": {},
   "source": [
    "- 空间复杂度: $O(1)$ 。"
   ]
  },
  {
   "cell_type": "markdown",
   "id": "3ea79809",
   "metadata": {},
   "source": [
    "> 只需要常数的空间存放若干变量。"
   ]
  },
  {
   "cell_type": "markdown",
   "id": "811e00ff",
   "metadata": {},
   "source": [
    "## 代码"
   ]
  },
  {
   "cell_type": "markdown",
   "id": "f75d47d5",
   "metadata": {},
   "source": [
    "### 代码：构建链表"
   ]
  },
  {
   "cell_type": "code",
   "execution_count": 1,
   "id": "9539bf45",
   "metadata": {},
   "outputs": [],
   "source": [
    "#用于构建链表中的节点\n",
    "class ListNode:\n",
    "    def __init__(self, initdata):\n",
    "        self.val = initdata #节点的数据变量\n",
    "        self.next = None #节点指向下一个节点的引用（若为None，则表示没有引用）\n",
    "\n",
    "    def getData(self): #获得当前节点的数据变量\n",
    "        return self.val\n",
    "\n",
    "    def getNext(self): #获得当前节点连接的下一个节点的数据变量\n",
    "        return self.next\n",
    "\n",
    "    def setData(self, newdata): #设置当前节点的数据变量\n",
    "        self.val = newdata\n",
    "\n",
    "    def setNext(self, newnext): #设置当前节点的引用\n",
    "        self.next = newnext"
   ]
  },
  {
   "cell_type": "code",
   "execution_count": 2,
   "id": "ff290a54",
   "metadata": {},
   "outputs": [],
   "source": [
    "#构建一个无序的链表\n",
    "class UnorderedList:\n",
    "    def __init__(self):\n",
    "        self.head = None #给出一个外部引用head（指向第一个节点）\n",
    "\n",
    "    def add(self, item):#假设元素 item 之前不在列表中，并向其中添加 item。它接受一个元素作为参数，无返回值。复杂度：O(1)\n",
    "        #为了方便，将新节点插入列表的开头\n",
    "        temp = ListNode(item) #每次使用add方法都会创建一个新实例（即新节点）\n",
    "        temp.setNext(self.head) #新节点指向原列表的第一个节点\n",
    "        self.head = temp #head指向新节点\n",
    "    \n",
    "    def setpos(self, CurrentNode): #将链表尾节点的next指向CurrentNode\n",
    "        current = self.head #从头开始遍历链表\n",
    "        while current.getNext() != None : #若当前节点的next指向None，说明其是尾节点\n",
    "            current = current.getNext()\n",
    "        current.setNext(CurrentNode)"
   ]
  },
  {
   "cell_type": "code",
   "execution_count": 3,
   "id": "99186293",
   "metadata": {},
   "outputs": [],
   "source": [
    "def BuildUnorderedListFromNode(ListHead):\n",
    "    unorderedlist = UnorderedList()\n",
    "    unorderedlist.head = ListHead\n",
    "    cur = unorderedlist.head\n",
    "    while cur:\n",
    "        unorderedlist.add(cur.next)\n",
    "        cur = cur.next\n",
    "    return unorderedlist"
   ]
  },
  {
   "cell_type": "code",
   "execution_count": 4,
   "id": "c8408479",
   "metadata": {},
   "outputs": [],
   "source": [
    "def BuildUnorderedList(List, pos = -1): #输入用于构建链表的列表和链表尾节点的next指向（索引）\n",
    "    Aim = UnorderedList() #一定要加括号，这样才代表实例化\n",
    "    for i in range(len(List)-1, -1, -1): #由于链表采用从头插入的方法，因此从后往前遍历List\n",
    "        Aim.add(List[i]) #将新节点插入链表\n",
    "        if i == pos: #若当前节点是尾节点的next指向，则将尾节点的next指向设置为当前节点\n",
    "            print(Aim.head.val)\n",
    "            Aim.setpos(Aim.head)\n",
    "    return Aim #返回构建好的链表"
   ]
  },
  {
   "cell_type": "code",
   "execution_count": 5,
   "id": "e2e3ccb4",
   "metadata": {},
   "outputs": [],
   "source": [
    "def showList(ListHead): #给定链表的头元素，返回以列表形式表示的链表\n",
    "    prev = ListHead\n",
    "    List = []\n",
    "    while prev:\n",
    "        List.append(prev.val)\n",
    "        prev = prev.next\n",
    "    return List"
   ]
  },
  {
   "cell_type": "code",
   "execution_count": 6,
   "id": "147a17e1",
   "metadata": {},
   "outputs": [],
   "source": [
    "def NextToNone(Head, value): #给定一个链表的头元素和一个值，若链表中的某个节点的next等于这个值，则将其next设置为None\n",
    "    cur = Head\n",
    "    while cur.next.val != value:\n",
    "        cur = cur.next\n",
    "    cur.next = None"
   ]
  },
  {
   "cell_type": "markdown",
   "id": "fe46c897",
   "metadata": {},
   "source": [
    "### 代码：反转链表"
   ]
  },
  {
   "cell_type": "code",
   "execution_count": 7,
   "id": "4d5e596c",
   "metadata": {},
   "outputs": [],
   "source": [
    "def reverseList(Head): #输入一个头节点\n",
    "    if not Head: #假如链表为空，则返回None\n",
    "        return Head\n",
    "    \n",
    "    #申请两个节点，pre和cur，pre指向None\n",
    "    pre = ListNode('dummy') #设置一个虚拟节点指向头节点\n",
    "    cur = Head\n",
    "    \n",
    "    #遍历链表\n",
    "    while cur:\n",
    "        #记录当前节点的下一个节点\n",
    "        tmp = cur.next\n",
    "        #然后将当前节点指向pre\n",
    "        cur.next = pre\n",
    "        #pre和cur节点都前进一位\n",
    "        pre = cur\n",
    "        cur = tmp\n",
    "        \n",
    "    tmplist = showList(pre) #根据当前的头节点创建一个临时列表\n",
    "    unorderedlist = BuildUnorderedList(tmplist) #根据临时列表构建一个链表，这个链表即是以pre为头节点的链表\n",
    "    NextToNone(unorderedlist.head, 'dummy') #删除之前创建的虚拟节点，此时链表中的尾节点的next指向None\n",
    "    return unorderedlist.head #返回反转链表的头节点"
   ]
  },
  {
   "cell_type": "markdown",
   "id": "345ad38f",
   "metadata": {},
   "source": [
    "#### 测试一 "
   ]
  },
  {
   "cell_type": "code",
   "execution_count": 8,
   "id": "029ed007",
   "metadata": {},
   "outputs": [],
   "source": [
    "List = [1,2,3,4,5]\n",
    "Aim_1 = BuildUnorderedList(List)"
   ]
  },
  {
   "cell_type": "code",
   "execution_count": 9,
   "id": "cf9a1189",
   "metadata": {},
   "outputs": [
    {
     "data": {
      "text/plain": [
       "[5, 4, 3, 2, 1]"
      ]
     },
     "execution_count": 9,
     "metadata": {},
     "output_type": "execute_result"
    }
   ],
   "source": [
    "showList(reverseList(Aim_1.head))"
   ]
  },
  {
   "cell_type": "markdown",
   "id": "a200c15f",
   "metadata": {},
   "source": [
    "#### 测试二"
   ]
  },
  {
   "cell_type": "code",
   "execution_count": 10,
   "id": "c71cc4a2",
   "metadata": {},
   "outputs": [],
   "source": [
    "List = [1,2]\n",
    "Aim_1 = BuildUnorderedList(List)"
   ]
  },
  {
   "cell_type": "code",
   "execution_count": 11,
   "id": "6f3cc27d",
   "metadata": {},
   "outputs": [
    {
     "data": {
      "text/plain": [
       "[2, 1]"
      ]
     },
     "execution_count": 11,
     "metadata": {},
     "output_type": "execute_result"
    }
   ],
   "source": [
    "showList(reverseList(Aim_1.head))"
   ]
  },
  {
   "cell_type": "markdown",
   "id": "e3aa274e",
   "metadata": {},
   "source": [
    "#### 测试三"
   ]
  },
  {
   "cell_type": "code",
   "execution_count": 12,
   "id": "e35f3dc6",
   "metadata": {},
   "outputs": [],
   "source": [
    "List = []\n",
    "Aim_1 = BuildUnorderedList(List)"
   ]
  },
  {
   "cell_type": "code",
   "execution_count": 13,
   "id": "76d49462",
   "metadata": {},
   "outputs": [
    {
     "data": {
      "text/plain": [
       "[]"
      ]
     },
     "execution_count": 13,
     "metadata": {},
     "output_type": "execute_result"
    }
   ],
   "source": [
    "showList(reverseList(Aim_1.head))"
   ]
  },
  {
   "cell_type": "markdown",
   "id": "17079dc2",
   "metadata": {},
   "source": [
    "# 方法二：递归"
   ]
  },
  {
   "cell_type": "markdown",
   "id": "01bacb22",
   "metadata": {},
   "source": [
    "> （1）终止条件是当前节点或下一个节点为 `None` 。   \n",
    "> （2）每次递归调用函数时都反转一个节点的 `next` ,从后往前开始。"
   ]
  },
  {
   "cell_type": "markdown",
   "id": "a215e7d2",
   "metadata": {},
   "source": [
    "## 复杂度"
   ]
  },
  {
   "cell_type": "markdown",
   "id": "ac3e698f",
   "metadata": {},
   "source": [
    "- 时间复杂度: $O(n)$ ，其中 $n$ 是链表的长度。"
   ]
  },
  {
   "cell_type": "markdown",
   "id": "d61f229e",
   "metadata": {},
   "source": [
    "> 要使用 $n$ 个栈帧。"
   ]
  },
  {
   "cell_type": "markdown",
   "id": "5604f7de",
   "metadata": {},
   "source": [
    "- 空间复杂度: $O(1)$ 。"
   ]
  },
  {
   "cell_type": "markdown",
   "id": "761591f6",
   "metadata": {},
   "source": [
    "> 只需要常数的空间存放若干变量。"
   ]
  },
  {
   "cell_type": "markdown",
   "id": "330ea64b",
   "metadata": {},
   "source": [
    "## 代码"
   ]
  },
  {
   "cell_type": "markdown",
   "id": "2f4486f9",
   "metadata": {},
   "source": [
    "### 代码：反转链表"
   ]
  },
  {
   "cell_type": "code",
   "execution_count": 14,
   "id": "414078bc",
   "metadata": {},
   "outputs": [],
   "source": [
    "def reverseList(head):\n",
    "    \n",
    "    #递归终止条件是当前为空，或者下一个节点为空\n",
    "    if(head == None or head.next == None):\n",
    "        return head\n",
    "    \n",
    "    #这里的cur就是最后一个节点\n",
    "    cur = reverseList(head.next) #这是第二次调用，参数是第二个节点；第n次调用函数时，参数就是第n个节点\n",
    "    \n",
    "    #如果链表是 1->2->3->4->5，那么此时的cur就是5\n",
    "    #而head是4，head的下一个是5，下下一个是空\n",
    "    #所以head.next.next就是5->4\n",
    "    \n",
    "    '''将第n个节点的下个节点的next指向第n个节点，再删掉第n个节点的next指向，即为完成一次反转'''\n",
    "    head.next.next = head \n",
    "    head.next = None #防止链表循环，需要将head.next设置为空\n",
    "    \n",
    "    #由于直到递归调用到尾节点为参数输入时，才触发终止条件，因此每次调用函数都返回尾节点\n",
    "    return cur"
   ]
  },
  {
   "cell_type": "markdown",
   "id": "58e73719",
   "metadata": {},
   "source": [
    "#### 测试一 "
   ]
  },
  {
   "cell_type": "code",
   "execution_count": 15,
   "id": "c6a7f3de",
   "metadata": {},
   "outputs": [],
   "source": [
    "List = [1,2,3,4,5]\n",
    "Aim_1 = BuildUnorderedList(List)"
   ]
  },
  {
   "cell_type": "code",
   "execution_count": 16,
   "id": "392f4830",
   "metadata": {},
   "outputs": [
    {
     "data": {
      "text/plain": [
       "[5, 4, 3, 2, 1]"
      ]
     },
     "execution_count": 16,
     "metadata": {},
     "output_type": "execute_result"
    }
   ],
   "source": [
    "showList(reverseList(Aim_1.head))"
   ]
  },
  {
   "cell_type": "markdown",
   "id": "ec61581a",
   "metadata": {},
   "source": [
    "#### 测试二"
   ]
  },
  {
   "cell_type": "code",
   "execution_count": 17,
   "id": "6bd5955d",
   "metadata": {},
   "outputs": [],
   "source": [
    "List = [1,2]\n",
    "Aim_1 = BuildUnorderedList(List)"
   ]
  },
  {
   "cell_type": "code",
   "execution_count": 18,
   "id": "df00d21a",
   "metadata": {},
   "outputs": [
    {
     "data": {
      "text/plain": [
       "[2, 1]"
      ]
     },
     "execution_count": 18,
     "metadata": {},
     "output_type": "execute_result"
    }
   ],
   "source": [
    "showList(reverseList(Aim_1.head))"
   ]
  },
  {
   "cell_type": "markdown",
   "id": "6910cdab",
   "metadata": {},
   "source": [
    "#### 测试三"
   ]
  },
  {
   "cell_type": "code",
   "execution_count": 19,
   "id": "eeca7aa1",
   "metadata": {},
   "outputs": [],
   "source": [
    "List = []\n",
    "Aim_1 = BuildUnorderedList(List)"
   ]
  },
  {
   "cell_type": "code",
   "execution_count": 20,
   "id": "7a8eb84a",
   "metadata": {},
   "outputs": [
    {
     "data": {
      "text/plain": [
       "[]"
      ]
     },
     "execution_count": 20,
     "metadata": {},
     "output_type": "execute_result"
    }
   ],
   "source": [
    "showList(reverseList(Aim_1.head))"
   ]
  },
  {
   "cell_type": "code",
   "execution_count": null,
   "id": "051ae415",
   "metadata": {},
   "outputs": [],
   "source": []
  }
 ],
 "metadata": {
  "kernelspec": {
   "display_name": "Python 3",
   "language": "python",
   "name": "python3"
  },
  "language_info": {
   "codemirror_mode": {
    "name": "ipython",
    "version": 3
   },
   "file_extension": ".py",
   "mimetype": "text/x-python",
   "name": "python",
   "nbconvert_exporter": "python",
   "pygments_lexer": "ipython3",
   "version": "3.7.4"
  }
 },
 "nbformat": 4,
 "nbformat_minor": 5
}
