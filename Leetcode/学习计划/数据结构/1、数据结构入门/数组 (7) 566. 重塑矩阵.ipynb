{
 "cells": [
  {
   "cell_type": "markdown",
   "id": "6b2f2ccb",
   "metadata": {},
   "source": [
    "# 题目"
   ]
  },
  {
   "cell_type": "markdown",
   "id": "337253fc",
   "metadata": {},
   "source": [
    "> 给你一个由二维数组 `mat` 表示的 `m × n` 矩阵，以及两个正整数 `r` 和 `c` ，分别表示想要的重构的矩阵的行数和列数。  \n",
    "> 重构后的矩阵需要将原始矩阵的所有元素以相同的行遍历顺序填充。  \n",
    "> 如果具有给定参数的 reshape 操作是可行且合理的，则输出新的重塑矩阵；否则，输出原始矩阵。"
   ]
  },
  {
   "cell_type": "markdown",
   "id": "eb894013",
   "metadata": {},
   "source": [
    "# 方法一：二维数组的一维表示"
   ]
  },
  {
   "cell_type": "markdown",
   "id": "5c0afe22",
   "metadata": {},
   "source": [
    "> （1）判断 `m × n` 是否等于 `r × c` （且 `r` 和 `c` 都为正数），若否，输出原数组。转至下一步。  \n",
    "> （2）将原数组映射到一维，再映射到新数组上。"
   ]
  },
  {
   "cell_type": "markdown",
   "id": "68df7a64",
   "metadata": {},
   "source": [
    "## 复杂度"
   ]
  },
  {
   "cell_type": "markdown",
   "id": "886bb116",
   "metadata": {},
   "source": [
    "- 时间复杂度: $O(rc)$ ，其中 $r$ 和 $c$ 分别是新矩阵的行列长度。"
   ]
  },
  {
   "cell_type": "markdown",
   "id": "17ede700",
   "metadata": {},
   "source": [
    "> 这里的时间复杂度是在重塑矩阵成功的前提下的时间复杂度。  \n",
    "> 当 `r` 和 `c` 不合法时，直接返回原数组的对象，需要的时间复杂度仅为 $O(1)$ 。"
   ]
  },
  {
   "cell_type": "markdown",
   "id": "68a644e6",
   "metadata": {},
   "source": [
    "- 空间复杂度: $O(1)$ 。"
   ]
  },
  {
   "cell_type": "markdown",
   "id": "09c48048",
   "metadata": {},
   "source": [
    "> 这里的空间复杂度不包含返回的重塑矩阵需要的空间。"
   ]
  },
  {
   "cell_type": "markdown",
   "id": "da4497bd",
   "metadata": {},
   "source": [
    "## 代码"
   ]
  },
  {
   "cell_type": "code",
   "execution_count": 1,
   "id": "7e6eba1d",
   "metadata": {},
   "outputs": [],
   "source": [
    "def matrixReshape(mat, r, c):\n",
    "    m, n = len(mat), len(mat[0])\n",
    "    if m * n != r * c or r < 0 or c < 0: #判断参数r,c是否合理\n",
    "        return mat \n",
    "    ans = [[0] * c for _ in range(r)] #创建新矩阵\n",
    "    '''直接映射'''\n",
    "    for x in range(m * n):\n",
    "        ans[x // c][x % c] = mat[x // n][x % n] #对于取值范围在[0,mn)的坐标值，'x // n'代表行位置，'x % n'代表列位置   \n",
    "    return ans"
   ]
  },
  {
   "cell_type": "code",
   "execution_count": 2,
   "id": "26d4b6f9",
   "metadata": {},
   "outputs": [
    {
     "data": {
      "text/plain": [
       "[[1, 2, 3, 4]]"
      ]
     },
     "execution_count": 2,
     "metadata": {},
     "output_type": "execute_result"
    }
   ],
   "source": [
    "mat = [[1,2],[3,4]]\n",
    "r = 1\n",
    "c = 4\n",
    "matrixReshape(mat, r, c)"
   ]
  },
  {
   "cell_type": "code",
   "execution_count": 3,
   "id": "0ee5a520",
   "metadata": {},
   "outputs": [
    {
     "data": {
      "text/plain": [
       "[[1, 2], [3, 4]]"
      ]
     },
     "execution_count": 3,
     "metadata": {},
     "output_type": "execute_result"
    }
   ],
   "source": [
    "mat = [[1,2],[3,4]]\n",
    "r = 2\n",
    "c = 4\n",
    "matrixReshape(mat, r, c)"
   ]
  },
  {
   "cell_type": "code",
   "execution_count": 4,
   "id": "c8f06b2b",
   "metadata": {},
   "outputs": [
    {
     "data": {
      "text/plain": [
       "[[1, 2], [3, 4]]"
      ]
     },
     "execution_count": 4,
     "metadata": {},
     "output_type": "execute_result"
    }
   ],
   "source": [
    "mat = [[1,2],[3,4]]\n",
    "r = -1\n",
    "c = -4\n",
    "matrixReshape(mat, r, c)"
   ]
  },
  {
   "cell_type": "code",
   "execution_count": null,
   "id": "e38de131",
   "metadata": {},
   "outputs": [],
   "source": []
  }
 ],
 "metadata": {
  "kernelspec": {
   "display_name": "Python 3",
   "language": "python",
   "name": "python3"
  },
  "language_info": {
   "codemirror_mode": {
    "name": "ipython",
    "version": 3
   },
   "file_extension": ".py",
   "mimetype": "text/x-python",
   "name": "python",
   "nbconvert_exporter": "python",
   "pygments_lexer": "ipython3",
   "version": "3.7.4"
  }
 },
 "nbformat": 4,
 "nbformat_minor": 5
}
