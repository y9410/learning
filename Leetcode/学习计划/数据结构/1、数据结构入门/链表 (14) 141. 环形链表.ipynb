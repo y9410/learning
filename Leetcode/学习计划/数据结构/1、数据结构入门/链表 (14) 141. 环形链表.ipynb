{
 "cells": [
  {
   "cell_type": "markdown",
   "id": "80c4fd4c",
   "metadata": {},
   "source": [
    "# 题目"
   ]
  },
  {
   "cell_type": "markdown",
   "id": "e56f2fa1",
   "metadata": {},
   "source": [
    "> 给你一个链表的头节点 `head` ，判断链表中是否有环。  \n",
    "> 如果链表中有某个节点，可以通过连续跟踪 `next` 指针再次到达，则链表中存在环。为了表示给定链表中的环，评测系统内部使用整数 `pos` 来表示链表尾连接到链表中的位置（索引从 0 开始）。注意：`pos` 不作为参数进行传递 。仅仅是为了标识链表的实际情况。  \n",
    "> 如果链表中存在环 ，则返回 `true` 。否则，返回 `false` 。"
   ]
  },
  {
   "cell_type": "markdown",
   "id": "5eab8475",
   "metadata": {},
   "source": [
    "# 方法一：快慢指针"
   ]
  },
  {
   "cell_type": "markdown",
   "id": "440c8221",
   "metadata": {},
   "source": [
    "> **Floyd 判圈算法（又称龟兔赛跑算法）：**假想“乌龟”和“兔子”在链表上移动，“兔子”跑得快，“乌龟”跑得慢。当“乌龟”和“兔子”从链表上的同一个节点开始移动时，如果该链表中没有环，那么“兔子”将一直处于“乌龟”的前方；如果该链表中有环，那么“兔子”会先于“乌龟”进入环，并且一直在环内移动。等到“乌龟”进入环时，由于“兔子”的速度快，它一定会在某个时刻与“乌龟”相遇。  \n",
    "\n",
    "> 定义两个指针，一快一慢。慢指针每次只移动一步，而快指针每次移动两步。初始时，慢指针在位置 `head` ，而快指针在位置 `head.next` 。这样一来，如果在移动的过程中，快指针反过来追上慢指针，就说明该链表为环形链表。否则快指针将到达链表尾部，该链表不为环形链表。"
   ]
  },
  {
   "cell_type": "markdown",
   "id": "a33af737",
   "metadata": {},
   "source": [
    "## 复杂度"
   ]
  },
  {
   "cell_type": "markdown",
   "id": "9de0b89c",
   "metadata": {},
   "source": [
    "- 时间复杂度: $O(N)$ ，其中 $N$ 是链表中的节点数。"
   ]
  },
  {
   "cell_type": "markdown",
   "id": "dc8647c2",
   "metadata": {},
   "source": [
    "> 当链表中不存在环时，快指针将先于慢指针到达链表尾部，链表中每个节点至多被访问两次；  \n",
    "> 当链表中存在环时，每一轮移动后，快慢指针的距离将减小一。而初始距离为环的长度，因此至多移动 $N$ 轮。"
   ]
  },
  {
   "cell_type": "markdown",
   "id": "89a697b2",
   "metadata": {},
   "source": [
    "- 空间复杂度: $O(1)$ 。"
   ]
  },
  {
   "cell_type": "markdown",
   "id": "490a6c3c",
   "metadata": {},
   "source": [
    "> 只使用了两个指针的额外空间。"
   ]
  },
  {
   "cell_type": "markdown",
   "id": "f6235f1f",
   "metadata": {},
   "source": [
    "## 代码"
   ]
  },
  {
   "cell_type": "markdown",
   "id": "1f33c98d",
   "metadata": {},
   "source": [
    "### 代码：构建链表"
   ]
  },
  {
   "cell_type": "code",
   "execution_count": 1,
   "id": "812cd6ec",
   "metadata": {},
   "outputs": [],
   "source": [
    "#用于构建链表中的节点\n",
    "class ListNode:\n",
    "    def __init__(self, initdata):\n",
    "        self.val = initdata #节点的数据变量\n",
    "        self.next = None #节点指向下一个节点的引用（若为None，则表示没有引用）\n",
    "\n",
    "    def getData(self): #获得当前节点的数据变量\n",
    "        return self.val\n",
    "\n",
    "    def getNext(self): #获得当前节点连接的下一个节点的数据变量\n",
    "        return self.next\n",
    "\n",
    "    def setData(self, newdata): #设置当前节点的数据变量\n",
    "        self.val = newdata\n",
    "\n",
    "    def setNext(self, newnext): #设置当前节点的引用\n",
    "        self.next = newnext"
   ]
  },
  {
   "cell_type": "code",
   "execution_count": 2,
   "id": "37871290",
   "metadata": {},
   "outputs": [],
   "source": [
    "#构建一个无序的链表\n",
    "class UnorderedList:\n",
    "    def __init__(self):\n",
    "        self.head = None #给出一个外部引用head（指向第一个节点）\n",
    "\n",
    "    def add(self, item):#假设元素 item 之前不在列表中，并向其中添加 item。它接受一个元素作为参数，无返回值。复杂度：O(1)\n",
    "        #为了方便，将新节点插入列表的开头\n",
    "        temp = ListNode(item) #每次使用add方法都会创建一个新实例（即新节点）\n",
    "        temp.setNext(self.head) #新节点指向原列表的第一个节点\n",
    "        self.head = temp #head指向新节点\n",
    "    \n",
    "    def setpos(self, CurrentNode): #将链表尾节点的next指向CurrentNode\n",
    "        current = self.head #从头开始遍历链表\n",
    "        while current.getNext() != None : #若当前节点的next指向None，说明其是尾节点\n",
    "            current = current.getNext()\n",
    "        current.setNext(CurrentNode)"
   ]
  },
  {
   "cell_type": "code",
   "execution_count": 3,
   "id": "c271de48",
   "metadata": {},
   "outputs": [],
   "source": [
    "def BuildUnorderedList(List, pos): #输入用于构建链表的列表和链表尾节点的next指向（索引）\n",
    "    Aim = UnorderedList() #一定要加括号，这样才代表实例化\n",
    "    for i in range(len(List)-1, -1, -1): #由于链表采用从头插入的方法，因此从后往前遍历List\n",
    "        Aim.add(List[i]) #将新节点插入链表\n",
    "        if i == pos: #若当前节点是尾节点的next指向，则将尾节点的next指向设置为当前节点\n",
    "            print(Aim.head.val)\n",
    "            Aim.setpos(Aim.head)\n",
    "    return Aim #返回构建好的链表"
   ]
  },
  {
   "cell_type": "markdown",
   "id": "3b496e40",
   "metadata": {},
   "source": [
    "### 代码：判断链表中是否存在环"
   ]
  },
  {
   "cell_type": "code",
   "execution_count": 4,
   "id": "635875b7",
   "metadata": {},
   "outputs": [],
   "source": [
    "def hasCycle(head):\n",
    "    if not head or not head.next:\n",
    "        return False\n",
    "        \n",
    "    slow = head\n",
    "    fast = head.next\n",
    "\n",
    "    while slow != fast:\n",
    "        if not fast or not fast.next:\n",
    "            return False\n",
    "        slow = slow.next\n",
    "        fast = fast.next.next\n",
    "        \n",
    "    return True"
   ]
  },
  {
   "cell_type": "markdown",
   "id": "a54daecb",
   "metadata": {},
   "source": [
    "#### 测试一 "
   ]
  },
  {
   "cell_type": "code",
   "execution_count": 5,
   "id": "09c0b984",
   "metadata": {},
   "outputs": [
    {
     "name": "stdout",
     "output_type": "stream",
     "text": [
      "1\n"
     ]
    }
   ],
   "source": [
    "List = [1,2]\n",
    "pos = 0\n",
    "Aim_1 = BuildUnorderedList(List, pos)"
   ]
  },
  {
   "cell_type": "code",
   "execution_count": 6,
   "id": "64f0f225",
   "metadata": {},
   "outputs": [
    {
     "data": {
      "text/plain": [
       "True"
      ]
     },
     "execution_count": 6,
     "metadata": {},
     "output_type": "execute_result"
    }
   ],
   "source": [
    "hasCycle(Aim_1.head)"
   ]
  },
  {
   "cell_type": "markdown",
   "id": "e7dae540",
   "metadata": {},
   "source": [
    "#### 测试二"
   ]
  },
  {
   "cell_type": "code",
   "execution_count": 7,
   "id": "6f0b36a5",
   "metadata": {},
   "outputs": [
    {
     "name": "stdout",
     "output_type": "stream",
     "text": [
      "2\n"
     ]
    }
   ],
   "source": [
    "List = [3,2,0,-4]\n",
    "pos = 1\n",
    "Aim_2 = BuildUnorderedList(List, pos)"
   ]
  },
  {
   "cell_type": "code",
   "execution_count": 8,
   "id": "2015ba6e",
   "metadata": {},
   "outputs": [
    {
     "data": {
      "text/plain": [
       "True"
      ]
     },
     "execution_count": 8,
     "metadata": {},
     "output_type": "execute_result"
    }
   ],
   "source": [
    "hasCycle(Aim_2.head)"
   ]
  },
  {
   "cell_type": "markdown",
   "id": "a032293a",
   "metadata": {},
   "source": [
    "#### 测试三"
   ]
  },
  {
   "cell_type": "code",
   "execution_count": 9,
   "id": "3da6c6b7",
   "metadata": {},
   "outputs": [],
   "source": [
    "List = [1]\n",
    "pos = -1\n",
    "Aim_3 = BuildUnorderedList(List, pos)"
   ]
  },
  {
   "cell_type": "code",
   "execution_count": 10,
   "id": "7e5bd752",
   "metadata": {},
   "outputs": [
    {
     "data": {
      "text/plain": [
       "False"
      ]
     },
     "execution_count": 10,
     "metadata": {},
     "output_type": "execute_result"
    }
   ],
   "source": [
    "hasCycle(Aim_3.head)"
   ]
  },
  {
   "cell_type": "code",
   "execution_count": null,
   "id": "780b54f6",
   "metadata": {},
   "outputs": [],
   "source": []
  }
 ],
 "metadata": {
  "kernelspec": {
   "display_name": "Python 3",
   "language": "python",
   "name": "python3"
  },
  "language_info": {
   "codemirror_mode": {
    "name": "ipython",
    "version": 3
   },
   "file_extension": ".py",
   "mimetype": "text/x-python",
   "name": "python",
   "nbconvert_exporter": "python",
   "pygments_lexer": "ipython3",
   "version": "3.7.4"
  }
 },
 "nbformat": 4,
 "nbformat_minor": 5
}
