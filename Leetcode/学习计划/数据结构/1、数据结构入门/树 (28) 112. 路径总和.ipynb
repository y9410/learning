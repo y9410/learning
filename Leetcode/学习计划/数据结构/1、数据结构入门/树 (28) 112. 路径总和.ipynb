{
 "cells": [
  {
   "cell_type": "markdown",
   "id": "34366b51",
   "metadata": {},
   "source": [
    "# 题目"
   ]
  },
  {
   "cell_type": "markdown",
   "id": "cbd22fee",
   "metadata": {},
   "source": [
    "> 给你二叉树的根节点 `root` ，和一个表示目标和的整数 `targetSum` 。判断该树中是否存在根节点到叶子节点的路径，这条路径上所有节点值相加等于目标和 `targetSum` 。如果存在，返回 `true` ；否则，返回 `false` 。"
   ]
  },
  {
   "cell_type": "markdown",
   "id": "8313f9c3",
   "metadata": {},
   "source": [
    "# 方法一：广度优先搜索"
   ]
  },
  {
   "cell_type": "markdown",
   "id": "97b45118",
   "metadata": {},
   "source": [
    "> 使用广度优先搜索的方式，记录从根节点到当前节点的路径和，以防止重复计算。使用两个队列，分别存储将要遍历的节点，以及根节点到这些节点的路径和。"
   ]
  },
  {
   "cell_type": "markdown",
   "id": "16f3011d",
   "metadata": {},
   "source": [
    "## 复杂度"
   ]
  },
  {
   "cell_type": "markdown",
   "id": "44960d5c",
   "metadata": {},
   "source": [
    "- 时间复杂度: $O(n)$ ，其中 $n$ 是二叉树的节点数。"
   ]
  },
  {
   "cell_type": "markdown",
   "id": "e9bab0ee",
   "metadata": {},
   "source": [
    "> 每个点遍历一次。"
   ]
  },
  {
   "cell_type": "markdown",
   "id": "b6e87824",
   "metadata": {},
   "source": [
    "- 空间复杂度: $O(n)$ ，其中 $n$ 是二叉树的节点数。"
   ]
  },
  {
   "cell_type": "markdown",
   "id": "c81968ac",
   "metadata": {},
   "source": [
    "> 空间复杂度主要取决于队列的开销，队列中的元素个数不会超过树的节点数。"
   ]
  },
  {
   "cell_type": "markdown",
   "id": "48a5b6a7",
   "metadata": {},
   "source": [
    "## 代码"
   ]
  },
  {
   "cell_type": "markdown",
   "id": "6611b078",
   "metadata": {},
   "source": [
    "### 代码：构建二叉树 "
   ]
  },
  {
   "cell_type": "code",
   "execution_count": 1,
   "id": "c8f9897a",
   "metadata": {},
   "outputs": [],
   "source": [
    "class TreeNode:\n",
    "    def __init__(self, val=0, left=None, right=None):\n",
    "        self.val = val\n",
    "        self.left = left\n",
    "        self.right = right"
   ]
  },
  {
   "cell_type": "markdown",
   "id": "da74c566",
   "metadata": {},
   "source": [
    "### 代码：广度优先搜索"
   ]
  },
  {
   "cell_type": "code",
   "execution_count": 2,
   "id": "14b799dd",
   "metadata": {},
   "outputs": [],
   "source": [
    "import collections"
   ]
  },
  {
   "cell_type": "code",
   "execution_count": 3,
   "id": "ecbecaae",
   "metadata": {},
   "outputs": [],
   "source": [
    "def hasPathSum(root, targetSum):\n",
    "    if not root:\n",
    "        return False\n",
    "    que_node = collections.deque([root]) #用于储存节点\n",
    "    que_val = collections.deque([root.val]) #用于储存当前节点的路径值\n",
    "    while que_node:\n",
    "        now = que_node.popleft() #从双端队列左边弹出当前节点\n",
    "        temp = que_val.popleft()\n",
    "        if not now.left and not now.right: #若当前节点是叶子节点\n",
    "            if temp == targetSum:\n",
    "                return True\n",
    "            continue #且当前路径值不等于目标值，则跳过下面两个if\n",
    "        if now.left:\n",
    "            que_node.append(now.left)\n",
    "            que_val.append(now.left.val + temp)\n",
    "        if now.right:\n",
    "            que_node.append(now.right)\n",
    "            que_val.append(now.right.val + temp)\n",
    "    return False"
   ]
  },
  {
   "cell_type": "markdown",
   "id": "ae06b5a2",
   "metadata": {},
   "source": [
    "#### 测试一 "
   ]
  },
  {
   "cell_type": "code",
   "execution_count": 4,
   "id": "e3a7601c",
   "metadata": {},
   "outputs": [],
   "source": [
    "root = TreeNode(5)\n",
    "a = TreeNode(4)\n",
    "b = TreeNode(8)\n",
    "c = TreeNode(11)\n",
    "d = TreeNode(13)\n",
    "e = TreeNode(4)\n",
    "f = TreeNode(7)\n",
    "g = TreeNode(2)\n",
    "h = TreeNode(1)"
   ]
  },
  {
   "cell_type": "code",
   "execution_count": 5,
   "id": "b589fc54",
   "metadata": {},
   "outputs": [],
   "source": [
    "root.left = a\n",
    "root.right = b\n",
    "a.left = c\n",
    "b.left = d\n",
    "b.right = e\n",
    "c.left = f\n",
    "c.right = g\n",
    "e.right = h"
   ]
  },
  {
   "cell_type": "code",
   "execution_count": 6,
   "id": "f30bc3d4",
   "metadata": {},
   "outputs": [
    {
     "data": {
      "text/plain": [
       "True"
      ]
     },
     "execution_count": 6,
     "metadata": {},
     "output_type": "execute_result"
    }
   ],
   "source": [
    "targetSum = 22\n",
    "hasPathSum(root, targetSum)"
   ]
  },
  {
   "cell_type": "markdown",
   "id": "8408a63e",
   "metadata": {},
   "source": [
    "#### 测试二"
   ]
  },
  {
   "cell_type": "code",
   "execution_count": 7,
   "id": "b95781d2",
   "metadata": {},
   "outputs": [],
   "source": [
    "root = TreeNode(5)\n",
    "a = TreeNode(4)\n",
    "b = TreeNode(8)\n",
    "c = TreeNode(11)\n",
    "d = TreeNode(13)\n",
    "e = TreeNode(4)\n",
    "f = TreeNode(7)\n",
    "g = TreeNode(2)\n",
    "h = TreeNode(1)"
   ]
  },
  {
   "cell_type": "code",
   "execution_count": 8,
   "id": "0e21523a",
   "metadata": {},
   "outputs": [],
   "source": [
    "root.left = a\n",
    "root.right = b\n",
    "a.left = c\n",
    "b.left = d\n",
    "b.right = e\n",
    "c.left = f\n",
    "c.right = g\n",
    "e.right = h"
   ]
  },
  {
   "cell_type": "code",
   "execution_count": 9,
   "id": "7c136cc8",
   "metadata": {},
   "outputs": [
    {
     "data": {
      "text/plain": [
       "False"
      ]
     },
     "execution_count": 9,
     "metadata": {},
     "output_type": "execute_result"
    }
   ],
   "source": [
    "targetSum = 100\n",
    "hasPathSum(root, targetSum)"
   ]
  },
  {
   "cell_type": "markdown",
   "id": "bf836da7",
   "metadata": {},
   "source": [
    "# 方法二：递归"
   ]
  },
  {
   "cell_type": "markdown",
   "id": "1c986514",
   "metadata": {},
   "source": [
    "> 假定从根节点到当前节点的值之和为 `val` ，可以将这个大问题转化为一个小问题：是否存在从当前节点的子节点到叶子的路径，满足其路径和为 ` targetSum - val` 。"
   ]
  },
  {
   "cell_type": "markdown",
   "id": "df6d9d6f",
   "metadata": {},
   "source": [
    "## 复杂度"
   ]
  },
  {
   "cell_type": "markdown",
   "id": "eb4f8245",
   "metadata": {},
   "source": [
    "- 时间复杂度: $O(n)$ ，其中 $n$ 是二叉树的节点数。"
   ]
  },
  {
   "cell_type": "markdown",
   "id": "326a0d8e",
   "metadata": {},
   "source": [
    "> 每个点遍历一次。"
   ]
  },
  {
   "cell_type": "markdown",
   "id": "f7ccb0b3",
   "metadata": {},
   "source": [
    "- 空间复杂度: $O(height)$ ，其中 $height$ 是二叉树的高度。"
   ]
  },
  {
   "cell_type": "markdown",
   "id": "b596e4ba",
   "metadata": {},
   "source": [
    "> 空间复杂度主要取决于递归时栈空间的开销，最坏情况下，树呈现链状，空间复杂度为 $O(n)$ 。平均情况下树的高度与节点数的对数正相关，空间复杂度为 $O(log⁡n)$ 。"
   ]
  },
  {
   "cell_type": "markdown",
   "id": "ed0d592a",
   "metadata": {},
   "source": [
    "## 代码"
   ]
  },
  {
   "cell_type": "markdown",
   "id": "bc8d2a44",
   "metadata": {},
   "source": [
    "### 代码：递归"
   ]
  },
  {
   "cell_type": "code",
   "execution_count": 10,
   "id": "7ab2e4c4",
   "metadata": {},
   "outputs": [],
   "source": [
    "def hasPathSum(root, targetSum):\n",
    "    if not root:\n",
    "        return False\n",
    "    if not root.left and not root.right: #基本情况：如果当前节点是叶子节点\n",
    "        return targetSum == root.val #则判断当前路径值是否等于节点值\n",
    "    return hasPathSum(root.left, targetSum - root.val) or hasPathSum(root.right, targetSum - root.val) #否则递归地向下计算路径值"
   ]
  },
  {
   "cell_type": "markdown",
   "id": "c3b781b4",
   "metadata": {},
   "source": [
    "#### 测试一 "
   ]
  },
  {
   "cell_type": "code",
   "execution_count": 11,
   "id": "49389004",
   "metadata": {},
   "outputs": [],
   "source": [
    "root = TreeNode(5)\n",
    "a = TreeNode(4)\n",
    "b = TreeNode(8)\n",
    "c = TreeNode(11)\n",
    "d = TreeNode(13)\n",
    "e = TreeNode(4)\n",
    "f = TreeNode(7)\n",
    "g = TreeNode(2)\n",
    "h = TreeNode(1)"
   ]
  },
  {
   "cell_type": "code",
   "execution_count": 12,
   "id": "bfdeb5c7",
   "metadata": {},
   "outputs": [],
   "source": [
    "root.left = a\n",
    "root.right = b\n",
    "a.left = c\n",
    "b.left = d\n",
    "b.right = e\n",
    "c.left = f\n",
    "c.right = g\n",
    "e.right = h"
   ]
  },
  {
   "cell_type": "code",
   "execution_count": 13,
   "id": "49913321",
   "metadata": {},
   "outputs": [
    {
     "data": {
      "text/plain": [
       "True"
      ]
     },
     "execution_count": 13,
     "metadata": {},
     "output_type": "execute_result"
    }
   ],
   "source": [
    "targetSum = 22\n",
    "hasPathSum(root, targetSum)"
   ]
  },
  {
   "cell_type": "markdown",
   "id": "33387507",
   "metadata": {},
   "source": [
    "#### 测试二"
   ]
  },
  {
   "cell_type": "code",
   "execution_count": 14,
   "id": "345c475a",
   "metadata": {},
   "outputs": [],
   "source": [
    "root = TreeNode(5)\n",
    "a = TreeNode(4)\n",
    "b = TreeNode(8)\n",
    "c = TreeNode(11)\n",
    "d = TreeNode(13)\n",
    "e = TreeNode(4)\n",
    "f = TreeNode(7)\n",
    "g = TreeNode(2)\n",
    "h = TreeNode(1)"
   ]
  },
  {
   "cell_type": "code",
   "execution_count": 15,
   "id": "f3a4eee3",
   "metadata": {},
   "outputs": [],
   "source": [
    "root.left = a\n",
    "root.right = b\n",
    "a.left = c\n",
    "b.left = d\n",
    "b.right = e\n",
    "c.left = f\n",
    "c.right = g\n",
    "e.right = h"
   ]
  },
  {
   "cell_type": "code",
   "execution_count": 16,
   "id": "c511ed38",
   "metadata": {},
   "outputs": [
    {
     "data": {
      "text/plain": [
       "False"
      ]
     },
     "execution_count": 16,
     "metadata": {},
     "output_type": "execute_result"
    }
   ],
   "source": [
    "targetSum = 100\n",
    "hasPathSum(root, targetSum)"
   ]
  },
  {
   "cell_type": "code",
   "execution_count": null,
   "id": "f5f1a127",
   "metadata": {},
   "outputs": [],
   "source": []
  }
 ],
 "metadata": {
  "kernelspec": {
   "display_name": "Python 3",
   "language": "python",
   "name": "python3"
  },
  "language_info": {
   "codemirror_mode": {
    "name": "ipython",
    "version": 3
   },
   "file_extension": ".py",
   "mimetype": "text/x-python",
   "name": "python",
   "nbconvert_exporter": "python",
   "pygments_lexer": "ipython3",
   "version": "3.7.4"
  }
 },
 "nbformat": 4,
 "nbformat_minor": 5
}
