{
 "cells": [
  {
   "cell_type": "markdown",
   "id": "2dc0a5f2",
   "metadata": {},
   "source": [
    "# 题目"
   ]
  },
  {
   "cell_type": "markdown",
   "id": "3a559399",
   "metadata": {},
   "source": [
    "> 给你一个二叉树的根节点 `root` ，判断其是否是一个有效的二叉搜索树。  \n",
    "**有效二叉搜索树定义如下：**  \n",
    "1、节点的左子树只包含小于当前节点的数；  \n",
    "2、节点的右子树只包含大于当前节点的数；  \n",
    "3、所有左子树和右子树自身必须也是二叉搜索树。"
   ]
  },
  {
   "cell_type": "markdown",
   "id": "4a604552",
   "metadata": {},
   "source": [
    "# 方法一：递归"
   ]
  },
  {
   "cell_type": "markdown",
   "id": "54189f66",
   "metadata": {},
   "source": [
    "> 判断二叉搜索树是否有效即是判断其根节点下的所有节点是否都有效。  \n",
    "对于根节点来说，其取值范围只要在无穷小到无穷大之间即可，因此必然有效。  \n",
    "对于非根节点来说，其基本情况分为两种：  \n",
    "1、该节点为None，则其有效；  \n",
    "2、若该节点超出合理区间，则其无效。  \n",
    "每次向下遍历时，当前节点的合理区间都会改变，改变方法如下：  \n",
    "1、向左遍历时，上界设为当前节点值；  \n",
    "2、向右遍历时，下界设为当前节点值。"
   ]
  },
  {
   "cell_type": "markdown",
   "id": "f65fc627",
   "metadata": {},
   "source": [
    "## 复杂度"
   ]
  },
  {
   "cell_type": "markdown",
   "id": "abb661e0",
   "metadata": {},
   "source": [
    "- 时间复杂度: $O(N)$ ，其中 $N$ 是二叉搜索树的节点数。"
   ]
  },
  {
   "cell_type": "markdown",
   "id": "06be3184",
   "metadata": {},
   "source": [
    "> 在递归调用的时候二叉树的每个节点最多被访问一次。"
   ]
  },
  {
   "cell_type": "markdown",
   "id": "b20a82c9",
   "metadata": {},
   "source": [
    "- 空间复杂度: $O(N)$ ，其中 $N$ 是二叉搜索树的节点数。"
   ]
  },
  {
   "cell_type": "markdown",
   "id": "85f8ae5d",
   "metadata": {},
   "source": [
    "> 递归函数在递归过程中需要为每一层递归函数分配栈空间，所以这里需要额外的空间且该空间取决于递归的深度，即二叉树的高度。最坏情况下二叉树为一条链，树的高度为 $N$ ，递归最深达到 $N$ 层，故最坏情况下空间复杂度为 $O(N)$ 。"
   ]
  },
  {
   "cell_type": "markdown",
   "id": "8680f984",
   "metadata": {},
   "source": [
    "## 代码"
   ]
  },
  {
   "cell_type": "markdown",
   "id": "9a0f0e5f",
   "metadata": {},
   "source": [
    "### 代码：构建二叉树 "
   ]
  },
  {
   "cell_type": "code",
   "execution_count": 1,
   "id": "a9fd18b3",
   "metadata": {},
   "outputs": [],
   "source": [
    "class TreeNode:\n",
    "    def __init__(self, val=0, left=None, right=None):\n",
    "        self.val = val\n",
    "        self.left = left\n",
    "        self.right = right"
   ]
  },
  {
   "cell_type": "markdown",
   "id": "df519e51",
   "metadata": {},
   "source": [
    "### 代码：递归"
   ]
  },
  {
   "cell_type": "code",
   "execution_count": 2,
   "id": "761c58f6",
   "metadata": {},
   "outputs": [],
   "source": [
    "def isValidBST(root):\n",
    "    def helper(node, lower = float('-inf'), upper = float('inf')): #上下界在开始时是无穷大\n",
    "        if not node: #基本情况1：节点为空，贼该节点一定是一个BST\n",
    "            return True\n",
    "            \n",
    "        val = node.val\n",
    "        if val <= lower or val >= upper: #基本情况2：当前节点的值超过合理区间（开区间），则返回False\n",
    "            return False\n",
    "\n",
    "        '''下面两个helper已经暗含了赋值：例如，判断某节点的左子节点的右子节点是否合法时，先调用helper(node.left, lower, val)，再调用\n",
    "        helper(node.right, val, upper)，第一次调用时给upper赋值为当前节点的val（val1），第二次调用时给lower赋值为当前节点左子节点的\n",
    "        val（val2），此时目标节点的取值区间为(val2,val1)'''\n",
    "        if not helper(node.right, val, upper): #向右子树递归，右子树的区间下界为右子树根节点的值\n",
    "            return False\n",
    "        if not helper(node.left, lower, val): #向左子树递归，左子树的区间上界为右子树根节点的值\n",
    "            return False\n",
    "        return True\n",
    "\n",
    "    return helper(root)"
   ]
  },
  {
   "cell_type": "markdown",
   "id": "d2b7c21d",
   "metadata": {},
   "source": [
    "#### 测试一 "
   ]
  },
  {
   "cell_type": "code",
   "execution_count": 3,
   "id": "407f0a6f",
   "metadata": {},
   "outputs": [],
   "source": [
    "root = TreeNode(5)\n",
    "a = TreeNode(1)\n",
    "b = TreeNode(4)\n",
    "c = TreeNode(3)\n",
    "d = TreeNode(6)"
   ]
  },
  {
   "cell_type": "code",
   "execution_count": 4,
   "id": "fc353a69",
   "metadata": {},
   "outputs": [],
   "source": [
    "root.left = a\n",
    "root.right = b\n",
    "b.left = c\n",
    "b.right = d"
   ]
  },
  {
   "cell_type": "code",
   "execution_count": 5,
   "id": "23a9ef26",
   "metadata": {},
   "outputs": [
    {
     "data": {
      "text/plain": [
       "False"
      ]
     },
     "execution_count": 5,
     "metadata": {},
     "output_type": "execute_result"
    }
   ],
   "source": [
    "isValidBST(root)"
   ]
  },
  {
   "cell_type": "markdown",
   "id": "f0413749",
   "metadata": {},
   "source": [
    "#### 测试二 "
   ]
  },
  {
   "cell_type": "code",
   "execution_count": 6,
   "id": "a982fb68",
   "metadata": {},
   "outputs": [],
   "source": [
    "root = TreeNode(5)\n",
    "a = TreeNode(1)\n",
    "b = TreeNode(7)\n",
    "c = TreeNode(6)\n",
    "d = TreeNode(8)"
   ]
  },
  {
   "cell_type": "code",
   "execution_count": 7,
   "id": "ca6490f0",
   "metadata": {},
   "outputs": [],
   "source": [
    "root.left = a\n",
    "root.right = b\n",
    "b.left = c\n",
    "b.right = d"
   ]
  },
  {
   "cell_type": "code",
   "execution_count": 8,
   "id": "60df754b",
   "metadata": {},
   "outputs": [
    {
     "data": {
      "text/plain": [
       "True"
      ]
     },
     "execution_count": 8,
     "metadata": {},
     "output_type": "execute_result"
    }
   ],
   "source": [
    "isValidBST(root)"
   ]
  },
  {
   "cell_type": "markdown",
   "id": "17abf690",
   "metadata": {},
   "source": [
    "# 方法二：中序遍历"
   ]
  },
  {
   "cell_type": "markdown",
   "id": "60419112",
   "metadata": {},
   "source": [
    "> 中序遍历的过程为：左子节点——根节点——右子节点。因此若BST有效，则中序遍历的结果必然是一个升序数列。"
   ]
  },
  {
   "cell_type": "markdown",
   "id": "c2bf95d2",
   "metadata": {},
   "source": [
    "## 复杂度"
   ]
  },
  {
   "cell_type": "markdown",
   "id": "442dba73",
   "metadata": {},
   "source": [
    "- 时间复杂度: $O(N)$ ，其中 $N$ 是二叉搜索树的节点数。"
   ]
  },
  {
   "cell_type": "markdown",
   "id": "bb9c3846",
   "metadata": {},
   "source": [
    "> 二叉树的每个节点最多被访问一次。"
   ]
  },
  {
   "cell_type": "markdown",
   "id": "1406ff1e",
   "metadata": {},
   "source": [
    "- 空间复杂度: $O(N)$ ，其中 $N$ 是二叉搜索树的节点数。"
   ]
  },
  {
   "cell_type": "markdown",
   "id": "fa755b22",
   "metadata": {},
   "source": [
    "> 栈最多存储 $N$ 个节点。"
   ]
  },
  {
   "cell_type": "markdown",
   "id": "c681c14b",
   "metadata": {},
   "source": [
    "## 代码"
   ]
  },
  {
   "cell_type": "markdown",
   "id": "4fdf8fcc",
   "metadata": {},
   "source": [
    "### 代码：中序遍历"
   ]
  },
  {
   "cell_type": "code",
   "execution_count": 9,
   "id": "a853dcf6",
   "metadata": {},
   "outputs": [],
   "source": [
    "def isValidBST(root):\n",
    "    stack, inorder = [], float('-inf')\n",
    "        \n",
    "    while stack or root:\n",
    "        while root:\n",
    "            stack.append(root)\n",
    "            root = root.left\n",
    "        root = stack.pop()\n",
    "        \n",
    "        #如果中序遍历得到的节点的值小于等于前一个inorder，说明不是二叉搜索树\n",
    "        if root.val <= inorder:\n",
    "            return False\n",
    "        \n",
    "        inorder = root.val #将当前节点的值记录下来\n",
    "        root = root.right #若当前节点为叶子节点，则root.right = None\n",
    "\n",
    "    return True"
   ]
  },
  {
   "cell_type": "markdown",
   "id": "53428e4b",
   "metadata": {},
   "source": [
    "#### 测试一 "
   ]
  },
  {
   "cell_type": "code",
   "execution_count": 10,
   "id": "00d60969",
   "metadata": {},
   "outputs": [],
   "source": [
    "root = TreeNode(5)\n",
    "a = TreeNode(1)\n",
    "b = TreeNode(4)\n",
    "c = TreeNode(3)\n",
    "d = TreeNode(6)"
   ]
  },
  {
   "cell_type": "code",
   "execution_count": 11,
   "id": "8fc81463",
   "metadata": {},
   "outputs": [],
   "source": [
    "root.left = a\n",
    "root.right = b\n",
    "b.left = c\n",
    "b.right = d"
   ]
  },
  {
   "cell_type": "code",
   "execution_count": 12,
   "id": "0b080c2c",
   "metadata": {},
   "outputs": [
    {
     "data": {
      "text/plain": [
       "False"
      ]
     },
     "execution_count": 12,
     "metadata": {},
     "output_type": "execute_result"
    }
   ],
   "source": [
    "isValidBST(root)"
   ]
  },
  {
   "cell_type": "markdown",
   "id": "1a91ac19",
   "metadata": {},
   "source": [
    "#### 测试二 "
   ]
  },
  {
   "cell_type": "code",
   "execution_count": 13,
   "id": "d3954dde",
   "metadata": {},
   "outputs": [],
   "source": [
    "root = TreeNode(5)\n",
    "a = TreeNode(1)\n",
    "b = TreeNode(7)\n",
    "c = TreeNode(6)\n",
    "d = TreeNode(8)"
   ]
  },
  {
   "cell_type": "code",
   "execution_count": 14,
   "id": "54ed95db",
   "metadata": {},
   "outputs": [],
   "source": [
    "root.left = a\n",
    "root.right = b\n",
    "b.left = c\n",
    "b.right = d"
   ]
  },
  {
   "cell_type": "code",
   "execution_count": 15,
   "id": "fb63b2c6",
   "metadata": {},
   "outputs": [
    {
     "data": {
      "text/plain": [
       "True"
      ]
     },
     "execution_count": 15,
     "metadata": {},
     "output_type": "execute_result"
    }
   ],
   "source": [
    "isValidBST(root)"
   ]
  },
  {
   "cell_type": "code",
   "execution_count": null,
   "id": "274b8320",
   "metadata": {},
   "outputs": [],
   "source": []
  }
 ],
 "metadata": {
  "kernelspec": {
   "display_name": "Python 3",
   "language": "python",
   "name": "python3"
  },
  "language_info": {
   "codemirror_mode": {
    "name": "ipython",
    "version": 3
   },
   "file_extension": ".py",
   "mimetype": "text/x-python",
   "name": "python",
   "nbconvert_exporter": "python",
   "pygments_lexer": "ipython3",
   "version": "3.7.4"
  }
 },
 "nbformat": 4,
 "nbformat_minor": 5
}
