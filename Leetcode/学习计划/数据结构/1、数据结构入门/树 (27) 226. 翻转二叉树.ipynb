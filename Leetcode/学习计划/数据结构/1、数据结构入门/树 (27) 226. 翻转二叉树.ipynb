{
 "cells": [
  {
   "cell_type": "markdown",
   "id": "6c60af86",
   "metadata": {},
   "source": [
    "# 题目"
   ]
  },
  {
   "cell_type": "markdown",
   "id": "a64dfd23",
   "metadata": {},
   "source": [
    "> 给你二叉树的根节点 `root` ，翻转这棵二叉树，并返回其根节点。"
   ]
  },
  {
   "cell_type": "markdown",
   "id": "e16282a4",
   "metadata": {},
   "source": [
    "# 方法一：递归"
   ]
  },
  {
   "cell_type": "markdown",
   "id": "7d472795",
   "metadata": {},
   "source": [
    "> 从根节点开始，递归地对树进行遍历，并从叶子节点先开始翻转。如果当前遍历到的节点 `root` 的左右两棵子树都已经翻转，那么只需要交换两棵子树的位置，即可完成以 `root` 为根节点的整棵子树的翻转。"
   ]
  },
  {
   "cell_type": "markdown",
   "id": "ab02af07",
   "metadata": {},
   "source": [
    "## 复杂度"
   ]
  },
  {
   "cell_type": "markdown",
   "id": "4d070dc2",
   "metadata": {},
   "source": [
    "- 时间复杂度: $O(n)$ ，其中 $n$ 是二叉树的节点数。"
   ]
  },
  {
   "cell_type": "markdown",
   "id": "bb086fc0",
   "metadata": {},
   "source": [
    "> 每个点遍历一次，交换值的时间为常数。"
   ]
  },
  {
   "cell_type": "markdown",
   "id": "5549f702",
   "metadata": {},
   "source": [
    "- 空间复杂度: $O(n)$ ，其中 $n$ 是二叉树的节点数。"
   ]
  },
  {
   "cell_type": "markdown",
   "id": "427b18c9",
   "metadata": {},
   "source": [
    "> 使用的空间由递归栈的深度决定，它等于当前节点在二叉树中的高度。在平均情况下，二叉树的高度与节点个数为对数关系，即 $O(logn)$ 。而在最坏情况下，树形成链状，空间复杂度为 $O(n)$ 。"
   ]
  },
  {
   "cell_type": "markdown",
   "id": "bbb1bd4b",
   "metadata": {},
   "source": [
    "## 代码"
   ]
  },
  {
   "cell_type": "markdown",
   "id": "d139494d",
   "metadata": {},
   "source": [
    "### 代码：构建二叉树 "
   ]
  },
  {
   "cell_type": "code",
   "execution_count": 1,
   "id": "64c392ea",
   "metadata": {},
   "outputs": [],
   "source": [
    "class TreeNode:\n",
    "    def __init__(self, val=0, left=None, right=None):\n",
    "        self.val = val\n",
    "        self.left = left\n",
    "        self.right = right"
   ]
  },
  {
   "cell_type": "markdown",
   "id": "65a95345",
   "metadata": {},
   "source": [
    "### 代码：递归"
   ]
  },
  {
   "cell_type": "code",
   "execution_count": 2,
   "id": "e8fcb629",
   "metadata": {},
   "outputs": [],
   "source": [
    "def invertTree(root):\n",
    "    if not root: #若当前节点不存在，返回None\n",
    "        return root\n",
    "        \n",
    "    left = invertTree(root.left)\n",
    "    right = invertTree(root.right)\n",
    "    root.left, root.right = right, left #可以同时赋值\n",
    "    return root"
   ]
  },
  {
   "cell_type": "markdown",
   "id": "25779944",
   "metadata": {},
   "source": [
    "#### 测试一 "
   ]
  },
  {
   "cell_type": "code",
   "execution_count": 3,
   "id": "15635a12",
   "metadata": {},
   "outputs": [],
   "source": [
    "root = TreeNode(4)\n",
    "a = TreeNode(2)\n",
    "b = TreeNode(7)\n",
    "c = TreeNode(1)\n",
    "d = TreeNode(3)\n",
    "e = TreeNode(6)\n",
    "f = TreeNode(9)"
   ]
  },
  {
   "cell_type": "code",
   "execution_count": 4,
   "id": "da886113",
   "metadata": {},
   "outputs": [],
   "source": [
    "root.left = a\n",
    "root.right = b\n",
    "a.left = c\n",
    "a.right = d\n",
    "b.left = e\n",
    "b.right = f"
   ]
  },
  {
   "cell_type": "code",
   "execution_count": 5,
   "id": "2f252653",
   "metadata": {},
   "outputs": [
    {
     "name": "stdout",
     "output_type": "stream",
     "text": [
      "4\n",
      "2 7\n",
      "1 3 6 9\n"
     ]
    }
   ],
   "source": [
    "print(root.val)\n",
    "print(root.left.val, root.right.val)\n",
    "print(root.left.left.val, root.left.right.val, root.right.left.val, root.right.right.val)"
   ]
  },
  {
   "cell_type": "code",
   "execution_count": 6,
   "id": "6d271ffe",
   "metadata": {},
   "outputs": [],
   "source": [
    "result = invertTree(root)"
   ]
  },
  {
   "cell_type": "code",
   "execution_count": 7,
   "id": "863d6030",
   "metadata": {},
   "outputs": [
    {
     "name": "stdout",
     "output_type": "stream",
     "text": [
      "4\n",
      "7 2\n",
      "9 6 3 1\n"
     ]
    }
   ],
   "source": [
    "print(result.val)\n",
    "print(result.left.val, result.right.val)\n",
    "print(result.left.left.val, result.left.right.val, result.right.left.val, result.right.right.val)"
   ]
  },
  {
   "cell_type": "code",
   "execution_count": null,
   "id": "2b662186",
   "metadata": {},
   "outputs": [],
   "source": []
  }
 ],
 "metadata": {
  "kernelspec": {
   "display_name": "Python 3",
   "language": "python",
   "name": "python3"
  },
  "language_info": {
   "codemirror_mode": {
    "name": "ipython",
    "version": 3
   },
   "file_extension": ".py",
   "mimetype": "text/x-python",
   "name": "python",
   "nbconvert_exporter": "python",
   "pygments_lexer": "ipython3",
   "version": "3.7.4"
  }
 },
 "nbformat": 4,
 "nbformat_minor": 5
}
