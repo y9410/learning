{
 "cells": [
  {
   "cell_type": "markdown",
   "id": "acb0ed07",
   "metadata": {},
   "source": [
    "# 题目"
   ]
  },
  {
   "cell_type": "markdown",
   "id": "46b73512",
   "metadata": {},
   "source": [
    "> 给你两个整数数组 `nums1` 和 `nums2` ，请你以数组形式返回两数组的交集。返回结果中每个元素出现的次数，应与元素在两个数组中都出现的次数一致（如果出现次数不一致，则考虑取较小值）。"
   ]
  },
  {
   "cell_type": "markdown",
   "id": "fa3ffdad",
   "metadata": {},
   "source": [
    "# 方法一：排序+双指针"
   ]
  },
  {
   "cell_type": "markdown",
   "id": "70e8c6f6",
   "metadata": {},
   "source": [
    "> 首先对两个数组进行排序，然后使用两个指针遍历两个数组。  \n",
    "> 初始时，两个指针分别指向两个数组的头部。每次比较两个指针指向的两个数组中的数字，如果两个数字不相等，则将指向较小数字的指针右移一位，如果两个数字相等，将该数字添加到答案，并将两个指针都右移一位。当至少有一个指针超出数组范围时，遍历结束。"
   ]
  },
  {
   "cell_type": "markdown",
   "id": "6bb2ea12",
   "metadata": {},
   "source": [
    "## 复杂度"
   ]
  },
  {
   "cell_type": "markdown",
   "id": "2e9b63d6",
   "metadata": {},
   "source": [
    "- 时间复杂度: $O(mlogm+nlogn)$ ，其中 $m$ 和 $n$ 分别是两个数组的长度。"
   ]
  },
  {
   "cell_type": "markdown",
   "id": "ab322293",
   "metadata": {},
   "source": [
    "> 对两个数组进行排序的时间复杂度是 $O(mlogm+nlogn)$ ，遍历两个数组的时间复杂度是 $O(m+n)$ ，因此总时间复杂度是 $O(mlogm+nlogn)$ 。"
   ]
  },
  {
   "cell_type": "markdown",
   "id": "a8e0bb2d",
   "metadata": {},
   "source": [
    "- 空间复杂度: $O(min(m+n))$ ，其中 $m$ 和 $n$ 分别是两个数组的长度。"
   ]
  },
  {
   "cell_type": "markdown",
   "id": "578436b5",
   "metadata": {},
   "source": [
    "> 需要创建一个数组用于保存交集。"
   ]
  },
  {
   "cell_type": "markdown",
   "id": "bde82a8a",
   "metadata": {},
   "source": [
    "# 方法二：哈希表"
   ]
  },
  {
   "cell_type": "markdown",
   "id": "a6427adb",
   "metadata": {},
   "source": [
    "> 由于同一个数字在两个数组中都可能出现多次，因此需要用哈希表存储每个数字出现的次数。对于一个数字，其在交集中出现的次数等于该数字在两个数组中出现次数的最小值。  \n",
    "> 首先遍历较短的数组，并在哈希表中记录该数组中的每个数字以及对应出现的次数，然后遍历第二个数组，对于第二个数组中的每个数字，如果在哈希表中存在这个数字，则将该数字添加到答案，并减少哈希表中该数字出现的次数。"
   ]
  },
  {
   "cell_type": "markdown",
   "id": "1467e9d6",
   "metadata": {},
   "source": [
    "## 复杂度"
   ]
  },
  {
   "cell_type": "markdown",
   "id": "0928e4c0",
   "metadata": {},
   "source": [
    "- 时间复杂度: $O(m+n)$ ，其中 $m$ 和 $n$ 分别是两个数组的长度。"
   ]
  },
  {
   "cell_type": "markdown",
   "id": "9e7c41c9",
   "metadata": {},
   "source": [
    "> 需要遍历两个数组并对哈希表进行操作，哈希表操作的时间复杂度是 $O(1)$ ，因此总时间复杂度与两个数组的长度和呈线性关系。"
   ]
  },
  {
   "cell_type": "markdown",
   "id": "505b9d4b",
   "metadata": {},
   "source": [
    "- 空间复杂度: $O(min(m+n))$ ，其中 $m$ 和 $n$ 分别是两个数组的长度。"
   ]
  },
  {
   "cell_type": "markdown",
   "id": "80ec5705",
   "metadata": {},
   "source": [
    "> 对较短的数组进行哈希表的操作，哈希表的大小不会超过较短的数组的长度。"
   ]
  },
  {
   "cell_type": "markdown",
   "id": "083881a1",
   "metadata": {},
   "source": [
    "## 代码"
   ]
  },
  {
   "cell_type": "code",
   "execution_count": 1,
   "id": "54cbd73f",
   "metadata": {},
   "outputs": [],
   "source": [
    "import collections"
   ]
  },
  {
   "cell_type": "code",
   "execution_count": 2,
   "id": "8cf8d388",
   "metadata": {},
   "outputs": [],
   "source": [
    "def intersect(nums1, nums2):\n",
    "    if len(nums1) > len(nums2):\n",
    "        return intersect(nums2, nums1)\n",
    "    m = collections.Counter() #用哈希表实现的计数用的字典，键是数组中出现的元素，值是元素出现的次数\n",
    "    for num in nums1:\n",
    "        m[num] += 1   \n",
    "    intersection = list()\n",
    "    for num in nums2:\n",
    "        if m.get(num, 0) > 0: #':='用于在表达式内对变量赋值；'get(num, 0)'表示在字典中查找num，若不存在则返回0\n",
    "            intersection.append(num)\n",
    "            m[num] -= 1\n",
    "            if m[num] == 0:\n",
    "                m.pop(num)\n",
    "    return intersection"
   ]
  },
  {
   "cell_type": "code",
   "execution_count": 3,
   "id": "7f4f8f63",
   "metadata": {},
   "outputs": [],
   "source": [
    "nums1 = [1,2,2,1]\n",
    "nums2 = [2,2]\n",
    "intersect(nums1, nums2)"
   ]
  },
  {
   "cell_type": "code",
   "execution_count": 4,
   "id": "12812385",
   "metadata": {},
   "outputs": [],
   "source": [
    "nums1 = [4,9,5]\n",
    "nums2 = [9,4,9,8,4]\n",
    "intersect(nums1, nums2)"
   ]
  },
  {
   "cell_type": "code",
   "execution_count": null,
   "id": "ec0000b7",
   "metadata": {},
   "outputs": [],
   "source": []
  }
 ],
 "metadata": {
  "kernelspec": {
   "display_name": "Python 3",
   "language": "python",
   "name": "python3"
  },
  "language_info": {
   "codemirror_mode": {
    "name": "ipython",
    "version": 3
   },
   "file_extension": ".py",
   "mimetype": "text/x-python",
   "name": "python",
   "nbconvert_exporter": "python",
   "pygments_lexer": "ipython3",
   "version": "3.7.4"
  }
 },
 "nbformat": 4,
 "nbformat_minor": 5
}
