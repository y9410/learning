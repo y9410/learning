{
 "cells": [
  {
   "cell_type": "markdown",
   "id": "23177b24",
   "metadata": {},
   "source": [
    "# 题目"
   ]
  },
  {
   "cell_type": "markdown",
   "id": "67327786",
   "metadata": {},
   "source": [
    "> 给你二叉树的根节点 `root` ，检查它是否轴对称。"
   ]
  },
  {
   "cell_type": "markdown",
   "id": "cfa941d5",
   "metadata": {},
   "source": [
    "# 方法一：递归"
   ]
  },
  {
   "cell_type": "markdown",
   "id": "f3f0667b",
   "metadata": {},
   "source": [
    "> 递归地遍历每个节点的左右子树，对比其中的镜像节点，根据三种基本情况判断它们是否对称。"
   ]
  },
  {
   "cell_type": "markdown",
   "id": "10288541",
   "metadata": {},
   "source": [
    "## 复杂度"
   ]
  },
  {
   "cell_type": "markdown",
   "id": "3a90d3fb",
   "metadata": {},
   "source": [
    "- 时间复杂度: $O(n)$ ，其中 $n$ 是二叉树的节点数。"
   ]
  },
  {
   "cell_type": "markdown",
   "id": "4701b4a5",
   "metadata": {},
   "source": [
    "> 每个点遍历一次，故渐进时间复杂度为 $O(n)$ 。"
   ]
  },
  {
   "cell_type": "markdown",
   "id": "af2f2c66",
   "metadata": {},
   "source": [
    "- 空间复杂度: $O(n)$ ，其中 $n$ 是二叉树的节点数。"
   ]
  },
  {
   "cell_type": "markdown",
   "id": "30c781e4",
   "metadata": {},
   "source": [
    "> 空间复杂度和递归使用的栈空间有关，这里递归层数不超过 $n$ ，故渐进空间复杂度为 $O(n)$ 。"
   ]
  },
  {
   "cell_type": "markdown",
   "id": "54a5f95a",
   "metadata": {},
   "source": [
    "## 代码"
   ]
  },
  {
   "cell_type": "markdown",
   "id": "727f7993",
   "metadata": {},
   "source": [
    "### 代码：构建二叉树 "
   ]
  },
  {
   "cell_type": "code",
   "execution_count": 1,
   "id": "cf317772",
   "metadata": {},
   "outputs": [],
   "source": [
    "class TreeNode:\n",
    "    def __init__(self, val=0, left=None, right=None):\n",
    "        self.val = val\n",
    "        self.left = left\n",
    "        self.right = right"
   ]
  },
  {
   "cell_type": "markdown",
   "id": "17074a83",
   "metadata": {},
   "source": [
    "### 代码：递归"
   ]
  },
  {
   "cell_type": "code",
   "execution_count": 2,
   "id": "93f14546",
   "metadata": {},
   "outputs": [],
   "source": [
    "def isSymmetric(root):\n",
    "    if not root:\n",
    "        return True\n",
    "    \n",
    "    def dfs(left, right):\n",
    "        if not (left or right): #基本条件1：左右子节点都为空\n",
    "            return True\n",
    "        if not (left and right): #基本条件2：左右子节点有一个为空\n",
    "            return False\n",
    "        if left.val != right.val: #基本条件3：左子节点值不等于右子节点值\n",
    "            return False\n",
    "        return dfs(left.left,right.right) and dfs(left.right,right.left) #只要出现任意一个return False的基本情况，则结果为False\n",
    "    \n",
    "    return dfs(root.left,root.right) #用递归函数，比较左节点和右节点"
   ]
  },
  {
   "cell_type": "markdown",
   "id": "78d2b33d",
   "metadata": {},
   "source": [
    "#### 测试一 "
   ]
  },
  {
   "cell_type": "code",
   "execution_count": 3,
   "id": "86c953ca",
   "metadata": {},
   "outputs": [],
   "source": [
    "root = TreeNode(1)\n",
    "a = TreeNode(2)\n",
    "b = TreeNode(2)\n",
    "c = TreeNode(3)\n",
    "d = TreeNode(4)\n",
    "e = TreeNode(4)\n",
    "f = TreeNode(3)"
   ]
  },
  {
   "cell_type": "code",
   "execution_count": 4,
   "id": "81c96175",
   "metadata": {},
   "outputs": [],
   "source": [
    "root.left = a\n",
    "root.right = b\n",
    "a.left = c\n",
    "a.right = d\n",
    "b.left = e\n",
    "b.right = f"
   ]
  },
  {
   "cell_type": "code",
   "execution_count": 5,
   "id": "ec5d747a",
   "metadata": {},
   "outputs": [
    {
     "data": {
      "text/plain": [
       "True"
      ]
     },
     "execution_count": 5,
     "metadata": {},
     "output_type": "execute_result"
    }
   ],
   "source": [
    "isSymmetric(root)"
   ]
  },
  {
   "cell_type": "markdown",
   "id": "c8168b3a",
   "metadata": {},
   "source": [
    "#### 测试二"
   ]
  },
  {
   "cell_type": "code",
   "execution_count": 6,
   "id": "a57c7bdc",
   "metadata": {},
   "outputs": [],
   "source": [
    "root = TreeNode(1)\n",
    "a = TreeNode(2)\n",
    "b = TreeNode(2)\n",
    "c = TreeNode(3)\n",
    "d = TreeNode(4)\n",
    "e = TreeNode(3)\n",
    "f = TreeNode(4)"
   ]
  },
  {
   "cell_type": "code",
   "execution_count": 7,
   "id": "e2a61566",
   "metadata": {
    "scrolled": true
   },
   "outputs": [],
   "source": [
    "root.left = a\n",
    "root.right = b\n",
    "a.left = c\n",
    "a.right = d\n",
    "b.left = e\n",
    "b.right = f"
   ]
  },
  {
   "cell_type": "code",
   "execution_count": 8,
   "id": "df58d75f",
   "metadata": {},
   "outputs": [
    {
     "data": {
      "text/plain": [
       "False"
      ]
     },
     "execution_count": 8,
     "metadata": {},
     "output_type": "execute_result"
    }
   ],
   "source": [
    "isSymmetric(root)"
   ]
  }
 ],
 "metadata": {
  "kernelspec": {
   "display_name": "Python 3",
   "language": "python",
   "name": "python3"
  },
  "language_info": {
   "codemirror_mode": {
    "name": "ipython",
    "version": 3
   },
   "file_extension": ".py",
   "mimetype": "text/x-python",
   "name": "python",
   "nbconvert_exporter": "python",
   "pygments_lexer": "ipython3",
   "version": "3.7.4"
  }
 },
 "nbformat": 4,
 "nbformat_minor": 5
}
