{
 "cells": [
  {
   "cell_type": "markdown",
   "id": "37190a4f",
   "metadata": {},
   "source": [
    "# 题目"
   ]
  },
  {
   "cell_type": "markdown",
   "id": "8bf907b5",
   "metadata": {},
   "source": [
    "> 给你一个链表的头节点 `head` 和一个整数 `val` ，请你删除链表中所有满足 `Node.val == val` 的节点，并返回新的头节点。"
   ]
  },
  {
   "cell_type": "markdown",
   "id": "d35aa743",
   "metadata": {},
   "source": [
    "# 方法一：迭代"
   ]
  },
  {
   "cell_type": "markdown",
   "id": "d7627098",
   "metadata": {},
   "source": [
    "> 从头开始遍历链表，遇到目标元素后，将其前一个节点的 `next` 指向其后一个节点。  \n",
    "> **注意：**由于每个节点的删除都需要前一个节点的帮助，为了正确的删除头节点，在遍历链表前设置一个虚拟头节点，其 `next` 指向头节点。"
   ]
  },
  {
   "cell_type": "markdown",
   "id": "c39b973d",
   "metadata": {},
   "source": [
    "## 复杂度"
   ]
  },
  {
   "cell_type": "markdown",
   "id": "5fbe1d61",
   "metadata": {},
   "source": [
    "- 时间复杂度: $O(n)$ ，其中 $n$ 是链表的长度。"
   ]
  },
  {
   "cell_type": "markdown",
   "id": "76e5cd0d",
   "metadata": {},
   "source": [
    "> 需要遍历链表一次。"
   ]
  },
  {
   "cell_type": "markdown",
   "id": "7a4e2e9d",
   "metadata": {},
   "source": [
    "- 空间复杂度: $O(1)$ 。"
   ]
  },
  {
   "cell_type": "markdown",
   "id": "14d38db1",
   "metadata": {},
   "source": [
    "> 只需要常数的空间存放若干变量。"
   ]
  },
  {
   "cell_type": "markdown",
   "id": "9d9eca75",
   "metadata": {},
   "source": [
    "## 代码"
   ]
  },
  {
   "cell_type": "markdown",
   "id": "0d714eb9",
   "metadata": {},
   "source": [
    "### 代码：构建链表"
   ]
  },
  {
   "cell_type": "code",
   "execution_count": 1,
   "id": "721adb55",
   "metadata": {},
   "outputs": [],
   "source": [
    "#用于构建链表中的节点\n",
    "class ListNode:\n",
    "    def __init__(self, initdata):\n",
    "        self.val = initdata #节点的数据变量\n",
    "        self.next = None #节点指向下一个节点的引用（若为None，则表示没有引用）\n",
    "\n",
    "    def getData(self): #获得当前节点的数据变量\n",
    "        return self.val\n",
    "\n",
    "    def getNext(self): #获得当前节点连接的下一个节点的数据变量\n",
    "        return self.next\n",
    "\n",
    "    def setData(self, newdata): #设置当前节点的数据变量\n",
    "        self.val = newdata\n",
    "\n",
    "    def setNext(self, newnext): #设置当前节点的引用\n",
    "        self.next = newnext"
   ]
  },
  {
   "cell_type": "code",
   "execution_count": 2,
   "id": "d1104381",
   "metadata": {},
   "outputs": [],
   "source": [
    "#构建一个无序的链表\n",
    "class UnorderedList:\n",
    "    def __init__(self):\n",
    "        self.head = None #给出一个外部引用head（指向第一个节点）\n",
    "\n",
    "    def add(self, item):#假设元素 item 之前不在列表中，并向其中添加 item。它接受一个元素作为参数，无返回值。复杂度：O(1)\n",
    "        #为了方便，将新节点插入列表的开头\n",
    "        temp = ListNode(item) #每次使用add方法都会创建一个新实例（即新节点）\n",
    "        temp.setNext(self.head) #新节点指向原列表的第一个节点\n",
    "        self.head = temp #head指向新节点\n",
    "    \n",
    "    def setpos(self, CurrentNode): #将链表尾节点的next指向CurrentNode\n",
    "        current = self.head #从头开始遍历链表\n",
    "        while current.getNext() != None : #若当前节点的next指向None，说明其是尾节点\n",
    "            current = current.getNext()\n",
    "        current.setNext(CurrentNode)"
   ]
  },
  {
   "cell_type": "code",
   "execution_count": 3,
   "id": "1ad5ff20",
   "metadata": {},
   "outputs": [],
   "source": [
    "def BuildUnorderedList(List, pos = -1): #输入用于构建链表的列表和链表尾节点的next指向（索引）\n",
    "    Aim = UnorderedList() #一定要加括号，这样才代表实例化\n",
    "    for i in range(len(List)-1, -1, -1): #由于链表采用从头插入的方法，因此从后往前遍历List\n",
    "        Aim.add(List[i]) #将新节点插入链表\n",
    "        if i == pos: #若当前节点是尾节点的next指向，则将尾节点的next指向设置为当前节点\n",
    "            print(Aim.head.val)\n",
    "            Aim.setpos(Aim.head)\n",
    "    return Aim #返回构建好的链表"
   ]
  },
  {
   "cell_type": "code",
   "execution_count": 4,
   "id": "f58f0137",
   "metadata": {},
   "outputs": [],
   "source": [
    "def showList(ListHead): #给定链表的头元素，返回以列表形式表示的链表\n",
    "    prev = ListHead\n",
    "    List = []\n",
    "    while prev:\n",
    "        List.append(prev.val)\n",
    "        prev = prev.next\n",
    "    return List"
   ]
  },
  {
   "cell_type": "markdown",
   "id": "8de14a60",
   "metadata": {},
   "source": [
    "### 代码：合并链表"
   ]
  },
  {
   "cell_type": "code",
   "execution_count": 5,
   "id": "a59c239a",
   "metadata": {},
   "outputs": [],
   "source": [
    "def removeElements(head, val): #输入一个链表的头节点和要在链表中删除的值\n",
    "    dummy_head = ListNode(-1) #由于所有节点的删除都需要前一个节点的帮助，而头节点没有前一个节点，因此添加一个虚拟节点\n",
    "    dummy_head.next = head\n",
    "    cur = dummy_head\n",
    "    while(cur.next != None): #从头开始遍历链表，若找到目标元素，则将其上一个节点的next指向其下一个节点\n",
    "        if(cur.next.val == val):\n",
    "            cur.next = cur.next.next #删除cur.next节点\n",
    "        else:\n",
    "            cur = cur.next\n",
    "    return dummy_head.next"
   ]
  },
  {
   "cell_type": "markdown",
   "id": "a25cfbae",
   "metadata": {},
   "source": [
    "#### 测试一 "
   ]
  },
  {
   "cell_type": "code",
   "execution_count": 6,
   "id": "80b14026",
   "metadata": {},
   "outputs": [],
   "source": [
    "List = [1,2,6,3,4,5,6]\n",
    "Aim_1 = BuildUnorderedList(List)"
   ]
  },
  {
   "cell_type": "code",
   "execution_count": 7,
   "id": "5e79f8b8",
   "metadata": {
    "scrolled": true
   },
   "outputs": [
    {
     "data": {
      "text/plain": [
       "[1, 2, 3, 4, 5]"
      ]
     },
     "execution_count": 7,
     "metadata": {},
     "output_type": "execute_result"
    }
   ],
   "source": [
    "head = Aim_1.head\n",
    "val = 6\n",
    "removeElements(head, val)\n",
    "showList(Aim_1.head)"
   ]
  },
  {
   "cell_type": "markdown",
   "id": "c14b1e0f",
   "metadata": {},
   "source": [
    "#### 测试二"
   ]
  },
  {
   "cell_type": "code",
   "execution_count": 8,
   "id": "0e3c264d",
   "metadata": {},
   "outputs": [],
   "source": [
    "List = []\n",
    "Aim_1 = BuildUnorderedList(List)"
   ]
  },
  {
   "cell_type": "code",
   "execution_count": 9,
   "id": "0e8cfa30",
   "metadata": {
    "scrolled": true
   },
   "outputs": [
    {
     "data": {
      "text/plain": [
       "[]"
      ]
     },
     "execution_count": 9,
     "metadata": {},
     "output_type": "execute_result"
    }
   ],
   "source": [
    "head = Aim_1.head\n",
    "val = 1\n",
    "removeElements(head, val)\n",
    "showList(Aim_1.head)"
   ]
  },
  {
   "cell_type": "markdown",
   "id": "9785085f",
   "metadata": {},
   "source": [
    "#### 测试三"
   ]
  },
  {
   "cell_type": "code",
   "execution_count": 10,
   "id": "7663f98a",
   "metadata": {},
   "outputs": [],
   "source": [
    "List = [7,7,7,7]\n",
    "Aim_1 = BuildUnorderedList(List)"
   ]
  },
  {
   "cell_type": "code",
   "execution_count": 11,
   "id": "0cb6ab4d",
   "metadata": {
    "scrolled": true
   },
   "outputs": [
    {
     "data": {
      "text/plain": [
       "[7, 7, 7, 7]"
      ]
     },
     "execution_count": 11,
     "metadata": {},
     "output_type": "execute_result"
    }
   ],
   "source": [
    "head = Aim_1.head\n",
    "val = 7\n",
    "removeElements(head, val)\n",
    "showList(Aim_1.head)"
   ]
  },
  {
   "cell_type": "code",
   "execution_count": null,
   "id": "03bd3987",
   "metadata": {},
   "outputs": [],
   "source": []
  }
 ],
 "metadata": {
  "kernelspec": {
   "display_name": "Python 3",
   "language": "python",
   "name": "python3"
  },
  "language_info": {
   "codemirror_mode": {
    "name": "ipython",
    "version": 3
   },
   "file_extension": ".py",
   "mimetype": "text/x-python",
   "name": "python",
   "nbconvert_exporter": "python",
   "pygments_lexer": "ipython3",
   "version": "3.7.4"
  }
 },
 "nbformat": 4,
 "nbformat_minor": 5
}
