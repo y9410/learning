{
 "cells": [
  {
   "cell_type": "markdown",
   "id": "cd8d8459",
   "metadata": {},
   "source": [
    "# 题目"
   ]
  },
  {
   "cell_type": "markdown",
   "id": "e5dab8dd",
   "metadata": {},
   "source": [
    "> 给定二叉搜索树（BST）的根节点 `root` 和要插入树中的值 `value` ，将值插入二叉搜索树。返回插入后二叉搜索树的根节点。输入数据保证新值和原始二叉搜索树中的任意节点值都不同。    \n",
    "> **注意：**可能存在多种有效的插入方式，只要树在插入后仍保持为二叉搜索树即可。你可以返回任意有效的结果 。"
   ]
  },
  {
   "cell_type": "markdown",
   "id": "0a99a33b",
   "metadata": {},
   "source": [
    "# 方法一：模拟"
   ]
  },
  {
   "cell_type": "markdown",
   "id": "37468123",
   "metadata": {},
   "source": [
    "> 按照BST的规则向下一直遍历，如果该子树不为空，则问题转化成了将 `val` 插入到对应子树上。否则，在此处新建一个以 `val` 为值的节点，并链接到其父节点 `root` 上。"
   ]
  },
  {
   "cell_type": "markdown",
   "id": "b18f901c",
   "metadata": {},
   "source": [
    "## 复杂度"
   ]
  },
  {
   "cell_type": "markdown",
   "id": "7c45dcd0",
   "metadata": {},
   "source": [
    "- 时间复杂度: $O(N)$ ，其中 $N$ 是二叉搜索树的节点数。"
   ]
  },
  {
   "cell_type": "markdown",
   "id": "a500cbae",
   "metadata": {},
   "source": [
    "> 最坏情况下，我们需要将值插入到树的最深的叶子结点上，而叶子节点最深为 $O(N)$ 。"
   ]
  },
  {
   "cell_type": "markdown",
   "id": "9160cf28",
   "metadata": {},
   "source": [
    "- 空间复杂度: $O(1)$ 。"
   ]
  },
  {
   "cell_type": "markdown",
   "id": "d39efce9",
   "metadata": {},
   "source": [
    "> 只使用了常数大小的空间。"
   ]
  },
  {
   "cell_type": "markdown",
   "id": "d6c30249",
   "metadata": {},
   "source": [
    "## 代码"
   ]
  },
  {
   "cell_type": "markdown",
   "id": "ba8999bd",
   "metadata": {},
   "source": [
    "### 代码：构建二叉树 "
   ]
  },
  {
   "cell_type": "code",
   "execution_count": 1,
   "id": "aab13ce1",
   "metadata": {},
   "outputs": [],
   "source": [
    "class TreeNode:\n",
    "    def __init__(self, val=0, left=None, right=None):\n",
    "        self.val = val\n",
    "        self.left = left\n",
    "        self.right = right"
   ]
  },
  {
   "cell_type": "markdown",
   "id": "c96ea81b",
   "metadata": {},
   "source": [
    "### 代码：模拟"
   ]
  },
  {
   "cell_type": "code",
   "execution_count": 2,
   "id": "8b1b6efa",
   "metadata": {},
   "outputs": [],
   "source": [
    "def insertIntoBST(root, val):\n",
    "    if not root:\n",
    "        return TreeNode(val)\n",
    "        \n",
    "    pos = root\n",
    "    while pos: #按照BST的规则向下一直遍历，直到找到一个缺少左或右子节点（或两者）的节点，将该节点插入下方\n",
    "        if val < pos.val:\n",
    "            if not pos.left:\n",
    "                pos.left = TreeNode(val)\n",
    "                break\n",
    "            else:\n",
    "                pos = pos.left\n",
    "        else:\n",
    "            if not pos.right:\n",
    "                pos.right = TreeNode(val)\n",
    "                break\n",
    "            else:\n",
    "                pos = pos.right\n",
    "        \n",
    "    return root"
   ]
  },
  {
   "cell_type": "markdown",
   "id": "ed2e0c4d",
   "metadata": {},
   "source": [
    "#### 测试一 "
   ]
  },
  {
   "cell_type": "code",
   "execution_count": 3,
   "id": "ae84cb13",
   "metadata": {},
   "outputs": [],
   "source": [
    "root = TreeNode(4)\n",
    "a = TreeNode(2)\n",
    "b = TreeNode(7)\n",
    "c = TreeNode(1)\n",
    "d = TreeNode(3)"
   ]
  },
  {
   "cell_type": "code",
   "execution_count": 4,
   "id": "2249770a",
   "metadata": {},
   "outputs": [],
   "source": [
    "root.left = a\n",
    "root.right = b\n",
    "a.left = c\n",
    "a.right = d"
   ]
  },
  {
   "cell_type": "code",
   "execution_count": 5,
   "id": "8663f36f",
   "metadata": {},
   "outputs": [
    {
     "data": {
      "text/plain": [
       "<__main__.TreeNode at 0x226a2ba5948>"
      ]
     },
     "execution_count": 5,
     "metadata": {},
     "output_type": "execute_result"
    }
   ],
   "source": [
    "val = 5\n",
    "insertIntoBST(root, val)"
   ]
  },
  {
   "cell_type": "code",
   "execution_count": 6,
   "id": "646be971",
   "metadata": {},
   "outputs": [
    {
     "data": {
      "text/plain": [
       "5"
      ]
     },
     "execution_count": 6,
     "metadata": {},
     "output_type": "execute_result"
    }
   ],
   "source": [
    "b.left.val"
   ]
  },
  {
   "cell_type": "code",
   "execution_count": null,
   "id": "c22b6c91",
   "metadata": {},
   "outputs": [],
   "source": []
  }
 ],
 "metadata": {
  "kernelspec": {
   "display_name": "Python 3",
   "language": "python",
   "name": "python3"
  },
  "language_info": {
   "codemirror_mode": {
    "name": "ipython",
    "version": 3
   },
   "file_extension": ".py",
   "mimetype": "text/x-python",
   "name": "python",
   "nbconvert_exporter": "python",
   "pygments_lexer": "ipython3",
   "version": "3.7.4"
  }
 },
 "nbformat": 4,
 "nbformat_minor": 5
}
