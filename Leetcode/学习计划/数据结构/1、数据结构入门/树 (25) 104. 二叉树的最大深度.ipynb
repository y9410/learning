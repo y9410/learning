{
 "cells": [
  {
   "cell_type": "markdown",
   "id": "d487129a",
   "metadata": {},
   "source": [
    "# 题目"
   ]
  },
  {
   "cell_type": "markdown",
   "id": "05481ce4",
   "metadata": {},
   "source": [
    "> 给你二叉树的根节点 `root` ，找出其最大深度。二叉树的深度为根节点到最远叶子节点的最长路径上的节点数。  \n",
    "> **说明:** 叶子节点是指没有子节点的节点。"
   ]
  },
  {
   "cell_type": "markdown",
   "id": "be00ae60",
   "metadata": {},
   "source": [
    "# 方法一：深度优先搜索"
   ]
  },
  {
   "cell_type": "markdown",
   "id": "4d57ea66",
   "metadata": {},
   "source": [
    "> 在计算当前二叉树的最大深度时，可以先递归计算出其左子树和右子树的最大深度，然后在 $O(1)$ 时间内计算出当前二叉树的最大深度。递归在访问到空节点时退出。"
   ]
  },
  {
   "cell_type": "markdown",
   "id": "c06c77da",
   "metadata": {},
   "source": [
    "## 复杂度"
   ]
  },
  {
   "cell_type": "markdown",
   "id": "d219e023",
   "metadata": {},
   "source": [
    "- 时间复杂度: $O(n)$ ，其中 $n$ 是二叉树的节点数。"
   ]
  },
  {
   "cell_type": "markdown",
   "id": "b56186cf",
   "metadata": {},
   "source": [
    "> 每个节点在递归中只被遍历一次。"
   ]
  },
  {
   "cell_type": "markdown",
   "id": "c4e496eb",
   "metadata": {},
   "source": [
    "- 空间复杂度: $O(height)$ ，其中 $height$ 是二叉树的高度。"
   ]
  },
  {
   "cell_type": "markdown",
   "id": "78936317",
   "metadata": {},
   "source": [
    "> 递归函数需要栈空间，而栈空间取决于递归的深度，因此空间复杂度等价于二叉树的高度。"
   ]
  },
  {
   "cell_type": "markdown",
   "id": "6befe250",
   "metadata": {},
   "source": [
    "## 代码"
   ]
  },
  {
   "cell_type": "markdown",
   "id": "36a990a7",
   "metadata": {},
   "source": [
    "### 代码：构建二叉树 "
   ]
  },
  {
   "cell_type": "code",
   "execution_count": 1,
   "id": "65c8ee80",
   "metadata": {},
   "outputs": [],
   "source": [
    "class TreeNode:\n",
    "    def __init__(self, val=0, left=None, right=None):\n",
    "        self.val = val\n",
    "        self.left = left\n",
    "        self.right = right"
   ]
  },
  {
   "cell_type": "markdown",
   "id": "bab686f8",
   "metadata": {},
   "source": [
    "### 代码：深度优先搜索"
   ]
  },
  {
   "cell_type": "code",
   "execution_count": 2,
   "id": "ab75d707",
   "metadata": {},
   "outputs": [],
   "source": [
    "def maxDepth(root):\n",
    "    if root is None: #基本情况：遍历到叶子节点\n",
    "        return 0 \n",
    "    else:  #循环：每次向叶子节点逼近一层\n",
    "        left_height = maxDepth(root.left) \n",
    "        right_height = maxDepth(root.right) \n",
    "        return max(left_height, right_height) + 1"
   ]
  },
  {
   "cell_type": "markdown",
   "id": "4defd7f8",
   "metadata": {},
   "source": [
    "#### 测试一 "
   ]
  },
  {
   "cell_type": "code",
   "execution_count": 3,
   "id": "0d51861a",
   "metadata": {},
   "outputs": [],
   "source": [
    "root = TreeNode(3)\n",
    "a = TreeNode(9)\n",
    "b = TreeNode(20)\n",
    "c = TreeNode(15)\n",
    "d = TreeNode(7)"
   ]
  },
  {
   "cell_type": "code",
   "execution_count": 4,
   "id": "39b5afc9",
   "metadata": {},
   "outputs": [],
   "source": [
    "root.left = a\n",
    "root.right = b\n",
    "b.left = c\n",
    "b.right = d"
   ]
  },
  {
   "cell_type": "code",
   "execution_count": 5,
   "id": "c8abab04",
   "metadata": {},
   "outputs": [
    {
     "data": {
      "text/plain": [
       "3"
      ]
     },
     "execution_count": 5,
     "metadata": {},
     "output_type": "execute_result"
    }
   ],
   "source": [
    "maxDepth(root)"
   ]
  },
  {
   "cell_type": "markdown",
   "id": "0d3b877a",
   "metadata": {},
   "source": [
    "#### 测试二"
   ]
  },
  {
   "cell_type": "code",
   "execution_count": 6,
   "id": "a55600ea",
   "metadata": {},
   "outputs": [],
   "source": [
    "root = TreeNode(1)"
   ]
  },
  {
   "cell_type": "code",
   "execution_count": 7,
   "id": "04a93f5c",
   "metadata": {},
   "outputs": [
    {
     "data": {
      "text/plain": [
       "1"
      ]
     },
     "execution_count": 7,
     "metadata": {},
     "output_type": "execute_result"
    }
   ],
   "source": [
    "maxDepth(root)"
   ]
  }
 ],
 "metadata": {
  "kernelspec": {
   "display_name": "Python 3",
   "language": "python",
   "name": "python3"
  },
  "language_info": {
   "codemirror_mode": {
    "name": "ipython",
    "version": 3
   },
   "file_extension": ".py",
   "mimetype": "text/x-python",
   "name": "python",
   "nbconvert_exporter": "python",
   "pygments_lexer": "ipython3",
   "version": "3.7.4"
  }
 },
 "nbformat": 4,
 "nbformat_minor": 5
}
