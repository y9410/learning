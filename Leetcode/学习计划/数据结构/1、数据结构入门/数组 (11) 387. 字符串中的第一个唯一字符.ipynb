{
 "cells": [
  {
   "cell_type": "markdown",
   "id": "253828a2",
   "metadata": {},
   "source": [
    "# 题目"
   ]
  },
  {
   "cell_type": "markdown",
   "id": "4b40de3a",
   "metadata": {},
   "source": [
    "> 给定一个字符串 `s` ，找到它的第一个不重复的字符，并返回它的索引 。如果不存在，则返回 -1 。"
   ]
  },
  {
   "cell_type": "markdown",
   "id": "583c65dc",
   "metadata": {},
   "source": [
    "# 方法一：哈希表+队列"
   ]
  },
  {
   "cell_type": "markdown",
   "id": "111b8e26",
   "metadata": {},
   "source": [
    "> （1）构建一个哈希表，对于哈希映射中的每一个键值对，键表示一个字符，值表示它的首次出现的索引（如果该字符只出现一次）或者 -1（如果该字符出现多次）。  \n",
    "> （2）构建一个双端队列，按照顺序存储每一个字符以及它们第一次出现的位置。当对字符串进行遍历时，如果当前元素不在哈希映射中，我们就将当前元素与它的索引作为一个二元组放入队尾，否则我们就需要检查队列中的元素是否都满足“只出现一次”的要求，即我们不断地根据哈希映射中存储的值（是否为 −1 ）选择弹出队首的元素，直到队首元素“真的”只出现了一次或者队列为空。  \n",
    "> （3）在遍历完成后，如果队列为空，说明没有不重复的字符，返回 -1；否则队首的元素的索引。  \n",
    "\n",
    "> **注意：**在维护队列时，我们使用了“延迟删除”这一技巧。也就是说，即使队列中有一些字符出现了超过一次，但它只要不位于队首，那么就不会对答案造成影响，我们也就可以不用去删除它。只有当它前面的所有字符被移出队列，它成为队首时，我们才需要将它移除。"
   ]
  },
  {
   "cell_type": "markdown",
   "id": "19117575",
   "metadata": {},
   "source": [
    "## 复杂度"
   ]
  },
  {
   "cell_type": "markdown",
   "id": "0ef66b9b",
   "metadata": {},
   "source": [
    "- 时间复杂度: $O(n)$ ，其中 $n$ 分别是字符串 `s` 的长度。"
   ]
  },
  {
   "cell_type": "markdown",
   "id": "03572976",
   "metadata": {},
   "source": [
    "> 遍历字符串的时间复杂度为 $O(n)$ ；由于每一个字符最多只会被放入和弹出队列最多各一次，因此维护队列的总时间复杂度为 $O(∣Σ∣)$ ，由于 `s` 包含的字符种类数一定小于 `s` 的长度，因此 $O(∣Σ∣)$ 在渐进意义下小于 $O(n)$ ，可以忽略。"
   ]
  },
  {
   "cell_type": "markdown",
   "id": "a76ae517",
   "metadata": {},
   "source": [
    "- 空间复杂度: $O(∣Σ∣)$ ，其中 $Σ$ 是字符集。"
   ]
  },
  {
   "cell_type": "markdown",
   "id": "57e57324",
   "metadata": {},
   "source": [
    "> 在本题中 `s` 只包含小写字母，因此 $∣Σ∣≤26$ 。我们需要 $O(∣Σ∣)$ 的空间存储哈希映射以及队列。"
   ]
  },
  {
   "cell_type": "markdown",
   "id": "d72f0093",
   "metadata": {},
   "source": [
    "## 代码"
   ]
  },
  {
   "cell_type": "code",
   "execution_count": 1,
   "id": "bca31faa",
   "metadata": {},
   "outputs": [],
   "source": [
    "import collections"
   ]
  },
  {
   "cell_type": "code",
   "execution_count": 2,
   "id": "f82e63d2",
   "metadata": {},
   "outputs": [],
   "source": [
    "def firstUniqChar(s):\n",
    "    position = dict() #记录字符串中的字符及其对应的索引\n",
    "    q = collections.deque() #创建一个双端队列\n",
    "    n = len(s)\n",
    "    for i, ch in enumerate(s): #'ch'为字符，'i'为对应的索引\n",
    "        if ch not in position:\n",
    "            position[ch] = i #若字符不在哈希表中，则将字符及其对应的索引加入哈希表\n",
    "            q.append((s[i], i)) #将字符及其对应的索引加入双端队列的队尾\n",
    "        else:\n",
    "            position[ch] = -1 #若字符在哈希表中，则将字符的索引设为-1（表示重复）\n",
    "            while q and position[q[0][0]] == -1: #若双端队列不为空且队头的字符是重复字符，则将其弹出\n",
    "                q.popleft()\n",
    "    return -1 if not q else q[0][1] #若双端队列为空，则返回-1；否则返回队列的头元素"
   ]
  },
  {
   "cell_type": "code",
   "execution_count": 3,
   "id": "2f3cc7f4",
   "metadata": {},
   "outputs": [
    {
     "data": {
      "text/plain": [
       "0"
      ]
     },
     "execution_count": 3,
     "metadata": {},
     "output_type": "execute_result"
    }
   ],
   "source": [
    "s = \"leetcode\"\n",
    "firstUniqChar(s)"
   ]
  },
  {
   "cell_type": "code",
   "execution_count": 4,
   "id": "e52ef730",
   "metadata": {},
   "outputs": [
    {
     "data": {
      "text/plain": [
       "2"
      ]
     },
     "execution_count": 4,
     "metadata": {},
     "output_type": "execute_result"
    }
   ],
   "source": [
    "s = \"loveleetcode\"\n",
    "firstUniqChar(s)"
   ]
  },
  {
   "cell_type": "code",
   "execution_count": 5,
   "id": "4657d48c",
   "metadata": {},
   "outputs": [
    {
     "data": {
      "text/plain": [
       "-1"
      ]
     },
     "execution_count": 5,
     "metadata": {},
     "output_type": "execute_result"
    }
   ],
   "source": [
    "s = \"aabb\"\n",
    "firstUniqChar(s)"
   ]
  },
  {
   "cell_type": "code",
   "execution_count": null,
   "id": "d18267f6",
   "metadata": {},
   "outputs": [],
   "source": []
  }
 ],
 "metadata": {
  "kernelspec": {
   "display_name": "Python 3",
   "language": "python",
   "name": "python3"
  },
  "language_info": {
   "codemirror_mode": {
    "name": "ipython",
    "version": 3
   },
   "file_extension": ".py",
   "mimetype": "text/x-python",
   "name": "python",
   "nbconvert_exporter": "python",
   "pygments_lexer": "ipython3",
   "version": "3.7.4"
  }
 },
 "nbformat": 4,
 "nbformat_minor": 5
}
