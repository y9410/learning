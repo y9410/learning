{
 "cells": [
  {
   "cell_type": "code",
   "execution_count": 1,
   "id": "999b5693",
   "metadata": {},
   "outputs": [],
   "source": [
    "#对于图G，强连通单元C为最大的顶点子集C包含于V，其中对于每一对顶点v,w∈C，都有一条从v到w的路径和一条从w到v的路径"
   ]
  },
  {
   "cell_type": "code",
   "execution_count": 2,
   "id": "a212ef20",
   "metadata": {},
   "outputs": [],
   "source": [
    "#计算强连通单元的算法：\n",
    "#1、对图G调用dfs，以计算每一个顶点的结束时间\n",
    "#2、计算图G的转置G^T（G^T中所有的边都与图G的边反向）\n",
    "#3、对图G^T调用dfs，但是在主循环中，按照结束时间的递减顺序访问顶点\n",
    "#4、第3步得到的深度优先森林中的每一棵树都是一个强连通单元。输出每一棵树中的顶点的id"
   ]
  },
  {
   "cell_type": "code",
   "execution_count": null,
   "id": "cc1b7b5a",
   "metadata": {},
   "outputs": [],
   "source": []
  }
 ],
 "metadata": {
  "kernelspec": {
   "display_name": "Python 3",
   "language": "python",
   "name": "python3"
  },
  "language_info": {
   "codemirror_mode": {
    "name": "ipython",
    "version": 3
   },
   "file_extension": ".py",
   "mimetype": "text/x-python",
   "name": "python",
   "nbconvert_exporter": "python",
   "pygments_lexer": "ipython3",
   "version": "3.7.4"
  }
 },
 "nbformat": 4,
 "nbformat_minor": 5
}
