{
 "cells": [
  {
   "cell_type": "code",
   "execution_count": 2,
   "id": "41e35b3d",
   "metadata": {},
   "outputs": [],
   "source": [
    "#将一个单词转化为另一个单词，一次智能改变一个字母，且每一步的结果必须是一个存在的单词"
   ]
  },
  {
   "cell_type": "code",
   "execution_count": 3,
   "id": "9aede014",
   "metadata": {},
   "outputs": [],
   "source": [
    "#图算法的解法"
   ]
  },
  {
   "cell_type": "code",
   "execution_count": 4,
   "id": "0eb0d224",
   "metadata": {},
   "outputs": [],
   "source": [
    "#用图表示单词之间的关系\n",
    "#如果两个单词的区别仅在于有一个不同的字母，就用一条边将它们相连（但将一个单词与列表中的其他所有单词进行比较，时间复杂度为O(n^2)）\n",
    "#通过构建单词桶可以更好地解决问题\n",
    "#每个单词桶的标签都是长度为n的单词，其中的一个字母用“_”表示（表示任意字母），桶中的单词都是除“_”外其余字母相同的单词，因此其相互相连\n",
    "#可以通过字典来实现上述方法：字典的键就是桶上的标签，值就是对应的单词列表"
   ]
  },
  {
   "cell_type": "code",
   "execution_count": 6,
   "id": "86e06b90",
   "metadata": {},
   "outputs": [],
   "source": [
    "#从其它文件夹导入模块\n",
    "import sys\n",
    "sys.path.append(\"C:/Users/y9410/Desktop/学习编程/数据结构/程序/5、图及其算法\") #添加对应模块的路径（注意要用“/”分隔）\n",
    "from Graph import Graph, Vertex"
   ]
  },
  {
   "cell_type": "code",
   "execution_count": 7,
   "id": "818a735b",
   "metadata": {},
   "outputs": [],
   "source": [
    "sys.path.append(\"C:/Users/y9410/Desktop/学习编程/数据结构/程序/1、基本数据结构/2、队列\") #添加对应模块的路径（注意要用“/”分隔）\n",
    "from Queue import Queue"
   ]
  },
  {
   "cell_type": "code",
   "execution_count": 1,
   "id": "dd526936",
   "metadata": {},
   "outputs": [],
   "source": [
    "def buildGraph(wordFile): #为词梯问题构建单词关系图\n",
    "    d = {} #字典，单词桶的集合\n",
    "    g = Graph()\n",
    "    wfile = open(wordFile, 'r') #导入单词表\"wordFile\"\n",
    "    \n",
    "    #创建词桶\n",
    "    for line in wfile:\n",
    "        word = line [:-1]\n",
    "        for i in range(len(word)):\n",
    "            bucket = word[:i] + '_' + word[i+1:]\n",
    "            if bucket in d:\n",
    "                d[bucket].append(word)\n",
    "            else:\n",
    "                d[bucket] = [word]\n",
    "    \n",
    "    #为同一个桶中的单词添加顶点和边\n",
    "    for bucket in d.keys():\n",
    "        for word1 in d[bucket]:\n",
    "            for word2 in d[bucket]:\n",
    "                if word1 != word2:\n",
    "                    g.addEdge(word1, word2)\n",
    "    return g"
   ]
  },
  {
   "cell_type": "code",
   "execution_count": 9,
   "id": "36db2058",
   "metadata": {},
   "outputs": [],
   "source": [
    "def bfs(g, start): #宽度优先搜索，给定一个起始点\n",
    "    start.setDistance(0) #初始距离设为0\n",
    "    start.setPred(None) #父节点设置为None\n",
    "    vertQueue = Queue()\n",
    "    vertQueue.enqueue(start) #将起点放入访问队列里\n",
    "    while (vertQueue.size() > 0):\n",
    "        currentVert = vertQueue.dequeue() #从访问队列中取出头部元素\n",
    "        for nbr in currentVert.getConnections(): #对所有与它有连接的元素进行如下操作\n",
    "            if (nbr.getColor() == 'white'): #若当前节点为白色（没被访问过）\n",
    "                nbr.setColor('gray') #将该节点标为灰色（正在访问）\n",
    "                nbr.setDistance(currentVert.getDistance() + 1)\n",
    "                nbr.setPred(currentVert) #将nbr的父节点设置为currentVert\n",
    "                vertQueue.enqueue(nbr) #将nbr放到访问列表的尾部\n",
    "        currentVert.setColor('black') #全部访问完距离为i的节点后将其父节点标黑，准备访问距离为i+1的节点"
   ]
  },
  {
   "cell_type": "code",
   "execution_count": 10,
   "id": "943d80e3",
   "metadata": {},
   "outputs": [],
   "source": [
    "def traverse(y):\n",
    "    x = y\n",
    "    while (x.getPred()): #若当前节点有父节点，则一直向上找到所有父节点，直到找到根节点\n",
    "        print(x.getId())\n",
    "        x = x.getPred()\n",
    "    print(x.getId())"
   ]
  },
  {
   "cell_type": "code",
   "execution_count": 11,
   "id": "684f7c72",
   "metadata": {
    "collapsed": true
   },
   "outputs": [
    {
     "ename": "NameError",
     "evalue": "name 'g' is not defined",
     "output_type": "error",
     "traceback": [
      "\u001b[1;31m---------------------------------------------------------------------------\u001b[0m",
      "\u001b[1;31mNameError\u001b[0m                                 Traceback (most recent call last)",
      "\u001b[1;32m<ipython-input-11-0e55c0fcda33>\u001b[0m in \u001b[0;36m<module>\u001b[1;34m\u001b[0m\n\u001b[1;32m----> 1\u001b[1;33m \u001b[0mtraverse\u001b[0m\u001b[1;33m(\u001b[0m\u001b[0mg\u001b[0m\u001b[1;33m.\u001b[0m\u001b[0mgetVertex\u001b[0m\u001b[1;33m(\u001b[0m\u001b[1;34m'sage'\u001b[0m\u001b[1;33m)\u001b[0m\u001b[1;33m)\u001b[0m\u001b[1;33m\u001b[0m\u001b[1;33m\u001b[0m\u001b[0m\n\u001b[0m",
      "\u001b[1;31mNameError\u001b[0m: name 'g' is not defined"
     ]
    }
   ],
   "source": [
    "g = buildGraph(wordFile) #并没有单词表\n",
    "traverse(g.getVertex('sage'))"
   ]
  },
  {
   "cell_type": "code",
   "execution_count": null,
   "id": "9b0feb27",
   "metadata": {},
   "outputs": [],
   "source": []
  }
 ],
 "metadata": {
  "kernelspec": {
   "display_name": "Python 3",
   "language": "python",
   "name": "python3"
  },
  "language_info": {
   "codemirror_mode": {
    "name": "ipython",
    "version": 3
   },
   "file_extension": ".py",
   "mimetype": "text/x-python",
   "name": "python",
   "nbconvert_exporter": "python",
   "pygments_lexer": "ipython3",
   "version": "3.7.4"
  }
 },
 "nbformat": 4,
 "nbformat_minor": 5
}
