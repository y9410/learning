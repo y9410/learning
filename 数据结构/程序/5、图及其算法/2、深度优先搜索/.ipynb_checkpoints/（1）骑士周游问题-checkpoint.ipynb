{
 "cells": [
  {
   "cell_type": "code",
   "execution_count": 1,
   "id": "6e98f4e7",
   "metadata": {},
   "outputs": [],
   "source": [
    "#取一块国际象棋棋盘和一颗骑士棋子（马）。目标是找到一系列走法，使得骑士对8×8棋盘上的每一格刚好都只访问一次"
   ]
  },
  {
   "cell_type": "code",
   "execution_count": 2,
   "id": "fed96356",
   "metadata": {},
   "outputs": [],
   "source": [
    "#从其它文件夹导入模块\n",
    "import sys\n",
    "sys.path.append(\"C:/Users/y9410/Desktop/学习编程/数据结构/程序/5、图及其算法\") #添加对应模块的路径（注意要用“/”分隔）\n",
    "from Graph import Graph, Vertex"
   ]
  },
  {
   "cell_type": "code",
   "execution_count": 11,
   "id": "bf323ec8",
   "metadata": {},
   "outputs": [],
   "source": [
    "'''构建棋盘'''\n",
    "#将整个棋盘遍历了一遍，访问棋盘上的每一格时，都会调用辅助函数genLegalMoves来创建一个列表，用于记录从这一格开始的所有合理走法\n",
    "def knightGraph(bdSize): #输入棋盘大小（bdSize×bdSize），构建一个图，用于表示棋盘与棋子的合理走法\n",
    "    ktGraph = Graph()\n",
    "    for row in range(bdSize):\n",
    "        for col in range(bdSize):\n",
    "            nodeId = posToNodeId(row, col, bdSize) #将行列位置转化为坐标\n",
    "            newPositions = genLegalMoves(row, col, bdSize) #创建一个列表，用于记录从这一格开始的所有合理走法\n",
    "            for e in newPositions:\n",
    "                nid = posToNodeId(e[0], e[1], bdSize)\n",
    "                ktGraph.addEdge(nodeId, nid) #将合理走法转换为图中的边\n",
    "    return ktGraph\n",
    "\n",
    "def genLegalMoves(x, y, bdSize): #接受骑士在棋盘上的位置，并生成该位置的合理走法\n",
    "    newMoves = []\n",
    "    moveOffsets = [(-1, -2), (-1, 2), (-2, -1), (-2, 1), (1, -2), (1, 2), (2, -1), (2, 1)] #八个不同方向的走法\n",
    "    for i in moveOffsets:\n",
    "        newX = x + i[0]\n",
    "        newY = y + i[1]\n",
    "        if legalCoord(newX, bdSize) and legalCoord(newY, bdSize): #用于确认走法的合理性\n",
    "            newMoves.append((newX, newY))\n",
    "    return newMoves\n",
    "\n",
    "def legalCoord(x, bdSize): #接受棋子当前的横/纵坐标，判断走法是否合理（不能跳出棋盘）\n",
    "    if x >= 0 and x < bdSize:\n",
    "        return True\n",
    "    else:\n",
    "        return False\n",
    "    \n",
    "def posToNodeId(row, col, bdSize): #给定棋子的行列位置与棋盘大小，返回对应格子的Id\n",
    "    return row * bdSize + col"
   ]
  },
  {
   "cell_type": "code",
   "execution_count": 12,
   "id": "cb959785",
   "metadata": {},
   "outputs": [
    {
     "data": {
      "text/plain": [
       "<Graph.Graph at 0x20df6d03d48>"
      ]
     },
     "execution_count": 12,
     "metadata": {},
     "output_type": "execute_result"
    }
   ],
   "source": [
    "knightGraph(8)"
   ]
  },
  {
   "cell_type": "code",
   "execution_count": 13,
   "id": "46d4b7ca",
   "metadata": {},
   "outputs": [],
   "source": [
    "#深度优先搜索（DFS）与BFS 每次构建一层不同，其通过尽可能深地探索分支来构建搜索树\n",
    "#当DFS遇到死路时（无法找到下一个合理走法），它会回退到树中倒数第2深的顶点，以继续移动，这被称为回溯\n",
    "#由于DFS是递归的，因此隐式地使用一个栈来回溯"
   ]
  },
  {
   "cell_type": "code",
   "execution_count": 15,
   "id": "c2b9029e",
   "metadata": {},
   "outputs": [],
   "source": [
    "#目前实现的骑士周游问题算法是一种O(k^N)的指数阶算法，其中N是棋盘上的格子数，k是一个较小的常量(每个格子都有平均k种走法)"
   ]
  },
  {
   "cell_type": "code",
   "execution_count": 16,
   "id": "175bd2e6",
   "metadata": {},
   "outputs": [],
   "source": [
    "#骑士周游\n",
    "def knightTour(n, path, u, limit): #接受4个参数：搜索树的当前深度；当前为止访问过的顶点列表；希望在图中访问的顶点；路径上的顶点总数\n",
    "    u.setColor('gray') #将要访问的节点涂灰\n",
    "    path.append(u)\n",
    "    if n < limit: #若深度小于限制\n",
    "        #nbrList = list(u.getConnections()) #获得与u相连的所有节点的列表\n",
    "        nbrList = list(orderByAvail(u)) #一种更快的遍历方法\n",
    "        i = 0\n",
    "        done = False\n",
    "        while i < len(nbrList) and not done:\n",
    "            if nbrList[i].getColor() == 'white': #若节点尚未被访问过\n",
    "                done = knightTour(n+1, path, nbrList[i], limit) #骑士将继续周游（先深度）\n",
    "                i = i + 1 #探索访问节点的其它相邻节点（再宽度）\n",
    "            if not done: #如果从当前节点出发的所有路径都不成功，则回溯到上个节点\n",
    "                path.pop()\n",
    "                u.setColor('white') #并且将当前节点（弹出的节点）标记为白色，表示它仍可以通过其他路径进行访问\n",
    "            else: #一旦深度等于限制，说明骑士已经周游完毕\n",
    "                done = True\n",
    "    return done #返回结果为：是否周游成功"
   ]
  },
  {
   "cell_type": "code",
   "execution_count": 17,
   "id": "ed4afae2",
   "metadata": {},
   "outputs": [],
   "source": [
    "#选择合理走法最多的顶点作为下一个访问顶点的问题在于，它会使骑士在周游的前期就访问位于棋盘中间的格子\n",
    "#当这种情况发生时，骑士很容易被困在棋盘的一边，而无法到达另一边的那些没访问过的格子\n",
    "#首先访问合理走法最少的顶点，则可使骑士优先访问棋盘边缘的格子\n",
    "#这样做保证了骑士能够尽早访问难以到达的角落，并且在需要的时候通过中间的格子跨越到棋盘的另一边\n",
    "\n",
    "def orderByAvail(n): #输入当前顶点n，给出按照合理走法由少到多排序的相邻访问节点列表\n",
    "    resList = []\n",
    "    for v in n.getConnections(): #遍历顶点n的所有下一步可能走到的顶点v\n",
    "        if v.getColor() == 'white': #如果这一顶点没被访问过\n",
    "            c = 0\n",
    "            for w in v.getConnections(): #再遍历所有顶点v下一步可能走到的顶点\n",
    "                if w.getColor() == 'white': #每有一个顶点w没被访问过，则c+1\n",
    "                    c= c + 1\n",
    "            resList.append((c, v))\n",
    "    resList.sort(key = lambda x: x[0]) #按照c的大小降序排序，c越大说明这个点越是偏离中心的点\n",
    "    return [y[1] for y in resList] #返回一个列表，包含所有排好序的相邻点"
   ]
  },
  {
   "cell_type": "code",
   "execution_count": null,
   "id": "12ded6ff",
   "metadata": {},
   "outputs": [],
   "source": []
  }
 ],
 "metadata": {
  "kernelspec": {
   "display_name": "Python 3",
   "language": "python",
   "name": "python3"
  },
  "language_info": {
   "codemirror_mode": {
    "name": "ipython",
    "version": 3
   },
   "file_extension": ".py",
   "mimetype": "text/x-python",
   "name": "python",
   "nbconvert_exporter": "python",
   "pygments_lexer": "ipython3",
   "version": "3.7.4"
  }
 },
 "nbformat": 4,
 "nbformat_minor": 5
}
