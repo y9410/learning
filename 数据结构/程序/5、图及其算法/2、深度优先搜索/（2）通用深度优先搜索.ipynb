{
 "cells": [
  {
   "cell_type": "code",
   "execution_count": 8,
   "id": "40fa5282",
   "metadata": {},
   "outputs": [],
   "source": [
    "#骑士周游是深度优先搜索的一种特殊情况，它需要创建没有分支的最深深度优先搜索树\n",
    "#通用的深度优先搜索其实更简单，它的目标是尽可能深地搜索，尽可能多地连接图中的顶点，并且在需要的时候进行分支\n",
    "#一次深度优先搜索甚至能够创建多棵深度优先搜索树，我们称之为深度优先森林\n",
    "#深度优先搜索还会使用Vertex类中的两个额外的实例变量：发现时间记录算法在第一次访问顶点时的步数，结束时间记录算法在顶点被标记为黑色时的步数"
   ]
  },
  {
   "cell_type": "code",
   "execution_count": 10,
   "id": "83941d06",
   "metadata": {},
   "outputs": [],
   "source": [
    "#从其它文件夹导入模块\n",
    "import sys\n",
    "sys.path.append(\"C:/Users/y9410/Desktop/学习编程/数据结构/程序/5、图及其算法\") #添加对应模块的路径（注意要用“/”分隔）\n",
    "from Graph import Graph, Vertex"
   ]
  },
  {
   "cell_type": "code",
   "execution_count": 5,
   "id": "121525b3",
   "metadata": {},
   "outputs": [],
   "source": [
    "#循环对所有顶点只执行一次，因此复杂度为O(V)\n",
    "#由于dfsvisit只有在顶点是白色时被递归调用，因此循环最多会对图中的每一条边执行一次，也就是O(E)\n",
    "#因此，深度优先搜索算法的时间复杂度是O(V+E)"
   ]
  },
  {
   "cell_type": "code",
   "execution_count": 4,
   "id": "aa556922",
   "metadata": {},
   "outputs": [],
   "source": [
    "class DFSGraph(Graph): #深度优先搜索类继承了Graph类\n",
    "    def __init__(self):\n",
    "        super(). __init__()\n",
    "        self.time = 0 #用于记录调用dfsvisit方法的时间\n",
    "    \n",
    "    def dfs(self):\n",
    "        for aVertex in self: #遍历一个图实例中的所有顶点（self是DFSGraph类中的一个实例）\n",
    "            aVertex.setColor('white') #将图中所有点涂白\n",
    "            aVertex.setPred(-1) #将所有点的父节点设置为-1（表示不存在）\n",
    "        for aVertex in self:\n",
    "            if aVertex.getColor() == 'white':\n",
    "                self.dfsvisit(aVertex)\n",
    "        \n",
    "    def dfsvisit(self, startVertex): #从一个顶点开始，进行深度优先搜索\n",
    "        startVertex.setColor('gray')\n",
    "        self.time += 1\n",
    "        startVertex.setDiscovery(self.time) #表示第一次遇到这一节点时调用了几次dfsvisit函数\n",
    "        for nextVertex in startVertex.getConnections(): #遍历访问点的所有子节点\n",
    "            if nextVertex.getColor() == 'white':\n",
    "                nextVertex.setPred(startVertex) #设置父节点为当前访问点\n",
    "                self.dfsvisit(nextVertex) #迭代访问子节点的子节点\n",
    "        startVertex.setColor('black') #所有路径访问完毕后，将当前访问节点设置为黑色（未来不再访问）\n",
    "        self.time += 1\n",
    "        startVertex.setFinish(self.time) #表示这一节点访问完毕时调用了几次dfsvisit函数"
   ]
  },
  {
   "cell_type": "code",
   "execution_count": null,
   "id": "441a2e2b",
   "metadata": {},
   "outputs": [],
   "source": []
  }
 ],
 "metadata": {
  "kernelspec": {
   "display_name": "Python 3",
   "language": "python",
   "name": "python3"
  },
  "language_info": {
   "codemirror_mode": {
    "name": "ipython",
    "version": 3
   },
   "file_extension": ".py",
   "mimetype": "text/x-python",
   "name": "python",
   "nbconvert_exporter": "python",
   "pygments_lexer": "ipython3",
   "version": "3.7.4"
  }
 },
 "nbformat": 4,
 "nbformat_minor": 5
}
