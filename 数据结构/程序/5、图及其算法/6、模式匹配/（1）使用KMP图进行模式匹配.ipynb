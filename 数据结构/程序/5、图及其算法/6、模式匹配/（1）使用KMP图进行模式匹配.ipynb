{
 "cells": [
  {
   "cell_type": "code",
   "execution_count": 1,
   "id": "f0a50633",
   "metadata": {},
   "outputs": [],
   "source": [
    "#比较模式与其自身，找出前缀和后缀的重叠部分\n",
    "def mismatchLinks(pattern): #输入表示匹配模式的字符串\n",
    "    augPattern = \"0\"+pattern\n",
    "    links = {}\n",
    "    links [1] = 0\n",
    "    for k in range(2, len(augPattern)):\n",
    "        s = links[k-1]\n",
    "        stop = False\n",
    "        while s>=1 and not stop:\n",
    "            if augPattern[s] == augPattern[k-1]:\n",
    "                stop = True\n",
    "            else:\n",
    "                s = links[s]\n",
    "        links[k] = s + 1\n",
    "    return links #返回一个字典，其中的键是当前的顶点（状态），值是不匹配链接的终点"
   ]
  },
  {
   "cell_type": "code",
   "execution_count": 2,
   "id": "7afce3d2",
   "metadata": {},
   "outputs": [
    {
     "data": {
      "text/plain": [
       "{1: 0, 2: 1, 3: 1, 4: 2, 5: 1}"
      ]
     },
     "execution_count": 2,
     "metadata": {},
     "output_type": "execute_result"
    }
   ],
   "source": [
    "mismatchLinks(\"ACATA\")"
   ]
  },
  {
   "cell_type": "code",
   "execution_count": null,
   "id": "63f1d393",
   "metadata": {},
   "outputs": [],
   "source": []
  }
 ],
 "metadata": {
  "kernelspec": {
   "display_name": "Python 3",
   "language": "python",
   "name": "python3"
  },
  "language_info": {
   "codemirror_mode": {
    "name": "ipython",
    "version": 3
   },
   "file_extension": ".py",
   "mimetype": "text/x-python",
   "name": "python",
   "nbconvert_exporter": "python",
   "pygments_lexer": "ipython3",
   "version": "3.7.4"
  }
 },
 "nbformat": 4,
 "nbformat_minor": 5
}
