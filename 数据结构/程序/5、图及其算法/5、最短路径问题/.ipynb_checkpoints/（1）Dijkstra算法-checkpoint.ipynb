{
 "cells": [
  {
   "cell_type": "code",
   "execution_count": 13,
   "id": "37198b49",
   "metadata": {},
   "outputs": [],
   "source": [
    "#最短路径问题：给定一个图，图中存在若干定点与若干条边，每个边具有各自权重，找出一条连接特定两点且总权重最小的路径"
   ]
  },
  {
   "cell_type": "code",
   "execution_count": 18,
   "id": "ce1b3b37",
   "metadata": {},
   "outputs": [],
   "source": [
    "#从其它文件夹导入模块\n",
    "import sys\n",
    "sys.path.append(\"C:/Users/y9410/Desktop/学习编程/数据结构/程序/4、树/2、二叉堆\") #添加对应模块的路径（注意要用“/”分隔）\n",
    "from PriorityQueue import PriorityQueue\n",
    "sys.path.append(\"C:/Users/y9410/Desktop/学习编程/数据结构/程序/5、图及其算法\") #添加对应模块的路径（注意要用“/”分隔）\n",
    "from Graph import Graph, Vertex"
   ]
  },
  {
   "cell_type": "code",
   "execution_count": 17,
   "id": "c8efa044",
   "metadata": {},
   "outputs": [],
   "source": [
    "#要将图中的每一个顶点都添加到优先级队列中，这个操作的时间复杂度是O(V)\n",
    "#在循环内部，每次对delMin的调用都是O(logV)。综合起来考虑，循环和delMin调用的总时间复杂度是O(VlogV)\n",
    "#for循环对图中的每一条边都执行一次，并且循环内部的decreaseKey调用为O(ElogV)\n",
    "#因此，总的时间复杂度为O((V+E)logV)"
   ]
  },
  {
   "cell_type": "code",
   "execution_count": 16,
   "id": "2b128e92",
   "metadata": {},
   "outputs": [],
   "source": [
    "def dijkstra(aGraph, start): #输入图和起始点\n",
    "    pq = PriorityQueue()\n",
    "    start.setDistance(0) \n",
    "    pq.buildHeap([(v.getDistance(), v) for v in aGraph]) #构建优先级队列，获取所有点以及点与起始点的距离（除起始点外，其余距离都是一个极大的值）\n",
    "    while not pq.isEmpty():\n",
    "        currentVert = pq.delMin() #优先取出距离最近的点作为当前访问点（一开始取出的是起始点）\n",
    "        for nextVert in currentVert.getConnections(): #对所有与当前访问点相邻的点进行遍历\n",
    "            newDist = currentVert.getDistance() + currentVert.getWeight(nextVert) #相邻点的新距离等于当前访问点的距离加相邻点与当前访问点之间的权重\n",
    "            if newDist < nextVert.getDistance(): #若相邻点的新距离小于相邻点的当前距离\n",
    "                nextVert.setDistance(newDist) #则将距离设置为新距离\n",
    "                nextVert.setPred(currentVert) #并将相邻点的父节点设置为当前访问点\n",
    "                pq.decreaseKey(nextVert, newDist) #将该顶点移向优先级队列的头部"
   ]
  },
  {
   "cell_type": "code",
   "execution_count": null,
   "id": "c90bc778",
   "metadata": {},
   "outputs": [],
   "source": []
  }
 ],
 "metadata": {
  "kernelspec": {
   "display_name": "Python 3",
   "language": "python",
   "name": "python3"
  },
  "language_info": {
   "codemirror_mode": {
    "name": "ipython",
    "version": 3
   },
   "file_extension": ".py",
   "mimetype": "text/x-python",
   "name": "python",
   "nbconvert_exporter": "python",
   "pygments_lexer": "ipython3",
   "version": "3.7.4"
  }
 },
 "nbformat": 4,
 "nbformat_minor": 5
}
