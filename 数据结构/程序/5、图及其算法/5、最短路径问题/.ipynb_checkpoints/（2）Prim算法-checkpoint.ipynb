{
 "cells": [
  {
   "cell_type": "code",
   "execution_count": 1,
   "id": "4e84e8b7",
   "metadata": {},
   "outputs": [],
   "source": [
    "#广播问题：给定一个图，图中存在若干定点与若干条边，每个边具有各自权重，从某一点出发，找寻若干条路线到达其余所有点，使这些路径的权重总和最小"
   ]
  },
  {
   "cell_type": "code",
   "execution_count": 2,
   "id": "1ca2ad2c",
   "metadata": {},
   "outputs": [],
   "source": [
    "#解决广播问题的关键在于构建一棵权重最小的生成树\n",
    "#对最小生成树的正式定义如下：对于图G(V,E)，最小生成树T是E的无环子集，并且连接V中的所有顶点\n",
    "#由于每一步都选择代价最小的下一步，因此Prim算法属于一种“贪婪算法”"
   ]
  },
  {
   "cell_type": "code",
   "execution_count": 4,
   "id": "e5edfd75",
   "metadata": {},
   "outputs": [],
   "source": [
    "#从其它文件夹导入模块\n",
    "import sys\n",
    "sys.path.append(\"C:/Users/y9410/Desktop/学习编程/数据结构/程序/4、树/2、二叉堆\") #添加对应模块的路径（注意要用“/”分隔）\n",
    "from PriorityQueue import PriorityQueue\n",
    "sys.path.append(\"C:/Users/y9410/Desktop/学习编程/数据结构/程序/5、图及其算法\") #添加对应模块的路径（注意要用“/”分隔）\n",
    "from Graph import Graph, Vertex"
   ]
  },
  {
   "cell_type": "code",
   "execution_count": 5,
   "id": "b87c9fee",
   "metadata": {},
   "outputs": [],
   "source": [
    "def prim(G, start):\n",
    "    pq = PriorityQueue()\n",
    "    for v in G:\n",
    "        v.setDistance(sys.maxsize) #将所有顶点的初始距离均设置为极大值\n",
    "        v.setPred(None) #所有顶点的父节点设置为None\n",
    "    start.setDistance(0) #初始点距离设置为0\n",
    "    pq.buildHeap([(v.getDistance(), v) for v in G]) #构建一个堆用于表示优先级队列，获取所有点以及点与起始点的距离（除起始点外，其余距离都是一个极大的值）\n",
    "    while not pq.isEmpty():\n",
    "        currentVert = pq.delMin()\n",
    "        for nextVert in currentVert.getConnections():\n",
    "            newCost = currentVert.getWeight(nextVert) + currentVert.getDistance()\n",
    "        if nextVert in pq and newCost < nextVert.getDistance():\n",
    "            nextVert.setPred(currentVert)\n",
    "            nextVert.setDistance(newCost)\n",
    "            pq.decreaseKey(nextVert, newCost)"
   ]
  },
  {
   "cell_type": "code",
   "execution_count": null,
   "id": "68b46a9c",
   "metadata": {},
   "outputs": [],
   "source": []
  }
 ],
 "metadata": {
  "kernelspec": {
   "display_name": "Python 3",
   "language": "python",
   "name": "python3"
  },
  "language_info": {
   "codemirror_mode": {
    "name": "ipython",
    "version": 3
   },
   "file_extension": ".py",
   "mimetype": "text/x-python",
   "name": "python",
   "nbconvert_exporter": "python",
   "pygments_lexer": "ipython3",
   "version": "3.7.4"
  }
 },
 "nbformat": 4,
 "nbformat_minor": 5
}
