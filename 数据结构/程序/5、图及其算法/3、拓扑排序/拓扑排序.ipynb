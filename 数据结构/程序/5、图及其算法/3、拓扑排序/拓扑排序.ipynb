{
 "cells": [
  {
   "cell_type": "code",
   "execution_count": 1,
   "id": "c6068bd8",
   "metadata": {},
   "outputs": [],
   "source": [
    "#拓扑排序根据有向无环图生成一个包含所有顶点的线性序列，使得如果图 G 中有一条边为(v,w)，那么顶点v排在顶点w之前"
   ]
  },
  {
   "cell_type": "code",
   "execution_count": 2,
   "id": "ad8909c7",
   "metadata": {},
   "outputs": [],
   "source": [
    "#拓扑排序是对深度优先搜索的一种简单而强大的改进，其算法如下:\n",
    "#1、对图g调用dfs(g)。之所以调用深度优先搜索函数，是因为要计算每一个顶点的结束时间\n",
    "#2、基于结束时间，将顶点按照递减顺序存储在列表中\n",
    "#3、将有序列表作为拓扑排序的结果返回"
   ]
  },
  {
   "cell_type": "code",
   "execution_count": null,
   "id": "66dbd868",
   "metadata": {},
   "outputs": [],
   "source": []
  }
 ],
 "metadata": {
  "kernelspec": {
   "display_name": "Python 3",
   "language": "python",
   "name": "python3"
  },
  "language_info": {
   "codemirror_mode": {
    "name": "ipython",
    "version": 3
   },
   "file_extension": ".py",
   "mimetype": "text/x-python",
   "name": "python",
   "nbconvert_exporter": "python",
   "pygments_lexer": "ipython3",
   "version": "3.7.4"
  }
 },
 "nbformat": 4,
 "nbformat_minor": 5
}
