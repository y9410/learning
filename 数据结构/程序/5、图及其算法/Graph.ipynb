{
 "cells": [
  {
   "cell_type": "code",
   "execution_count": 1,
   "id": "c608687f",
   "metadata": {},
   "outputs": [],
   "source": [
    "#在邻接表实现中，我们为图对象的所有顶点保存一个主列表，同时为每一个顶点对象都维护一个列表，其中记录了与它相连的顶点\n",
    "#在对 Vertex 类的实现中，我们使用字典（而不是列表），字典的键是顶点，值是权重"
   ]
  },
  {
   "cell_type": "code",
   "execution_count": 2,
   "id": "2b3fc272",
   "metadata": {},
   "outputs": [],
   "source": [
    "class Vertex: #每个实例对应一个顶点\n",
    "    def __init__(self, key):\n",
    "        self.id = key #初始化id（顶点）\n",
    "        self.connectedTo = {} #初始化与其连接的其他点及权重（字典）\n",
    "        self.color = 'white'\n",
    "        self.dist = 100000 #一个很大的值\n",
    "        self.pred = None\n",
    "        self.disc = 0\n",
    "        self.fin = 0\n",
    "    \n",
    "    def addNeighbor(self, nbr, weight=0): #为顶点添加一个相邻节点和权重\n",
    "        self.connectedTo[nbr] = weight\n",
    "    \n",
    "    def __str__(self):\n",
    "        return str(self.id) + ' connectedTo: ' + str([x.id for x in self.connectedTo])\n",
    "\n",
    "    def getConnections(self): #返回邻接表中的所有顶点，由 connectedTo 来表示\n",
    "        return self.connectedTo.keys()\n",
    "    \n",
    "    def getId(self):\n",
    "        return self.id\n",
    "    \n",
    "    def getWeight(self, nbr): #返回从当前顶点到以参数传入的顶点之间的边的权重\n",
    "        return self.connectedTo[nbr]\n",
    "    \n",
    "    def setColor(self, color):\n",
    "        self.color = color\n",
    "    \n",
    "    def getColor(self):\n",
    "        return self.color\n",
    "        \n",
    "    def setDistance(self,d):\n",
    "        self.dist = d\n",
    "    \n",
    "    def getDistance(self):\n",
    "        return self.dist\n",
    "\n",
    "    def setPred(self,p):\n",
    "        self.pred = p\n",
    "\n",
    "    def getPred(self):\n",
    "        return self.pred\n",
    "    \n",
    "    def setDiscovery(self, dtime):\n",
    "        self.disc = dtime\n",
    "    \n",
    "    def getDiscovery(self):\n",
    "        return self.disc\n",
    "        \n",
    "    def setFinish(self, ftime):\n",
    "        self.fin = ftime\n",
    "        \n",
    "    def getFinish(self):\n",
    "        return self.fin"
   ]
  },
  {
   "cell_type": "code",
   "execution_count": 3,
   "id": "d3e68610",
   "metadata": {},
   "outputs": [],
   "source": [
    "class Graph: #新建一个空图\n",
    "    def __init__(self):\n",
    "        self.vertList = {} #初始化包含顶点的字典\n",
    "        self.numVertices = 0 #顶点个数\n",
    "    \n",
    "    def addVertex(self, key): #向图中添加一个顶点实例\n",
    "        self.numVertices = self.numVertices + 1\n",
    "        newVertex = Vertex(key) #创建一个顶点实例\n",
    "        self.vertList[key] = newVertex\n",
    "        return newVertex\n",
    "    \n",
    "    def getVertex(self, n): #在图中找到名为n的顶点\n",
    "        if n in self.vertList:\n",
    "            return self.vertList[n]\n",
    "        else:\n",
    "            return None\n",
    "    \n",
    "    def __contains__(self, n):\n",
    "        return n in self.vertList\n",
    "    \n",
    "    def addEdge(self, f, t, cost=0): #向图中添加一条带权重cost的有向边，用于连接顶点f和t\n",
    "        if f not in self.vertList:\n",
    "            nv = self.addVertex(f)\n",
    "        if t not in self.vertList:\n",
    "            nv = self.addVertex(t)\n",
    "        self.vertList[f].addNeighbor(self.vertList[t], cost)\n",
    "    \n",
    "    \n",
    "    def getVertices(self): #以列表形式返回图中所有顶点\n",
    "        return self.vertList.keys()\n",
    "    \n",
    "    def __iter__(self):\n",
    "        return iter(self.vertList.values())"
   ]
  },
  {
   "cell_type": "code",
   "execution_count": 4,
   "id": "ad91fb6a",
   "metadata": {},
   "outputs": [],
   "source": [
    "g = Graph()\n",
    "for i in range(6):\n",
    "    g.addVertex(i)"
   ]
  },
  {
   "cell_type": "code",
   "execution_count": 5,
   "id": "5050aade",
   "metadata": {},
   "outputs": [
    {
     "data": {
      "text/plain": [
       "{0: <__main__.Vertex at 0x18929fb8f88>,\n",
       " 1: <__main__.Vertex at 0x18929fb8f08>,\n",
       " 2: <__main__.Vertex at 0x18929fb8708>,\n",
       " 3: <__main__.Vertex at 0x18929fb8888>,\n",
       " 4: <__main__.Vertex at 0x18929fb8748>,\n",
       " 5: <__main__.Vertex at 0x18929fb8ec8>}"
      ]
     },
     "execution_count": 5,
     "metadata": {},
     "output_type": "execute_result"
    }
   ],
   "source": [
    "g.vertList"
   ]
  },
  {
   "cell_type": "code",
   "execution_count": 6,
   "id": "570372e7",
   "metadata": {},
   "outputs": [],
   "source": [
    "g.addEdge(0, 1, 5)\n",
    "g.addEdge(0, 5, 2)\n",
    "g.addEdge(1, 2, 4)\n",
    "g.addEdge(2, 3, 9)\n",
    "g.addEdge(3, 4, 7)\n",
    "g.addEdge(3, 5, 3)\n",
    "g.addEdge(4, 0, 1)\n",
    "g.addEdge(5, 4, 8)\n",
    "g.addEdge(5, 2, 1)"
   ]
  },
  {
   "cell_type": "code",
   "execution_count": 7,
   "id": "b5e467e5",
   "metadata": {},
   "outputs": [
    {
     "name": "stdout",
     "output_type": "stream",
     "text": [
      "( 0 , 1 )\n",
      "( 0 , 5 )\n",
      "( 1 , 2 )\n",
      "( 2 , 3 )\n",
      "( 3 , 4 )\n",
      "( 3 , 5 )\n",
      "( 4 , 0 )\n",
      "( 5 , 4 )\n",
      "( 5 , 2 )\n"
     ]
    }
   ],
   "source": [
    "for v in g:\n",
    "    for w in v.getConnections():\n",
    "        print(\"( %s , %s )\" % (v.getId(), w.getId()))"
   ]
  },
  {
   "cell_type": "code",
   "execution_count": null,
   "id": "96b66f66",
   "metadata": {},
   "outputs": [],
   "source": []
  }
 ],
 "metadata": {
  "kernelspec": {
   "display_name": "Python 3",
   "language": "python",
   "name": "python3"
  },
  "language_info": {
   "codemirror_mode": {
    "name": "ipython",
    "version": 3
   },
   "file_extension": ".py",
   "mimetype": "text/x-python",
   "name": "python",
   "nbconvert_exporter": "python",
   "pygments_lexer": "ipython3",
   "version": "3.7.4"
  }
 },
 "nbformat": 4,
 "nbformat_minor": 5
}
