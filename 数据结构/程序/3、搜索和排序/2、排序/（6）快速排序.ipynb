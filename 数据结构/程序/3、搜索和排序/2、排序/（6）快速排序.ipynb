{
 "cells": [
  {
   "cell_type": "code",
   "execution_count": 1,
   "id": "d862797e",
   "metadata": {},
   "outputs": [],
   "source": [
    "#快速排序算法首先选出一个基准值,基准值的位置通常被称作分割点，算法在分割点切分列表，以进行对快速排序的子调用\n",
    "#下一步是分区操作,它会找到分割点，同时将其他元素放到正确的一边——要么大于基准值，要么小于基准值"
   ]
  },
  {
   "cell_type": "code",
   "execution_count": 7,
   "id": "67092500",
   "metadata": {},
   "outputs": [],
   "source": [
    "#对于长度为n的列表，如果分区操作总是发生在列表的中部，就会切分logn次\n",
    "#为了找到分割点，n个元素都要与基准值比较。所以，时间复杂度是O(nlogn)"
   ]
  },
  {
   "cell_type": "code",
   "execution_count": 8,
   "id": "5ac2ca22",
   "metadata": {},
   "outputs": [],
   "source": [
    "#最坏情况下，分割点不在列表的中部，而是偏向某一端，含有n个元素的列表可能被分成一个不含元素的列表与一个含有 n–1 个元素的列表\n",
    "#然后，含有n–1个元素的列表可能会被分成不含元素的列表与一个含有 n–2 个元素的列表，依此类推\n",
    "#此时时间复杂度变为O(n^2)"
   ]
  },
  {
   "cell_type": "code",
   "execution_count": 9,
   "id": "5b1b33ba",
   "metadata": {},
   "outputs": [],
   "source": [
    "#可以尝试使用三数取中法避免切分不均匀，即在选择基准值时考虑列表的头元素、中间元素与尾元素,选其中的中间值作为基准值"
   ]
  },
  {
   "cell_type": "code",
   "execution_count": 3,
   "id": "65a13a14",
   "metadata": {},
   "outputs": [],
   "source": [
    "def quickSort(alist):\n",
    "    quickSortHelper(alist, 0, len(alist)-1)\n",
    "    \n",
    "def quickSortHelper(alist, first, last):\n",
    "    if first < last: #基本情况：子序列长度小于等于1\n",
    "    \n",
    "        splitpoint = partition(alist, first, last) #算出分割点\n",
    "    \n",
    "        quickSortHelper(alist, first, splitpoint-1) #根据分割点分别对左右两个子序列递归调用快速排序\n",
    "        quickSortHelper(alist, splitpoint+1, last)\n",
    "\n",
    "def partition(alist, first, last): #分区函数，返回分割点位置\n",
    "    pivotvalue = alist[first] #将列表的第一个元素设为基准值\n",
    "    \n",
    "    leftmark = first + 1\n",
    "    rightmark = last\n",
    "    done = False #用于判断leftmark与rightmark是否交错\n",
    "    while not done:\n",
    "\n",
    "        while leftmark <= rightmark and alist[leftmark] <= pivotvalue: #若leftmark与rightmark尚未交错，且leftmark对应的值小于等于基准值\n",
    "            leftmark = leftmark + 1 #leftmark右移一位\n",
    "\n",
    "        while alist[rightmark] >= pivotvalue and rightmark >= leftmark: #若rightmark与leftmark尚未交错，且rightmark对应的值大于等于基准值\n",
    "            rightmark = rightmark - 1 #rightmark左移一位\n",
    "        '''当leftmark对应的是一个大于基准值的元素且rightmark对应的是一个小于基准值的元素时，两个mark止步'''\n",
    "        \n",
    "        if rightmark < leftmark: #当两个mark都止步，且leftmark与rightmark交错时，跳出循环\n",
    "            done = True\n",
    "        else: #若leftmark与rightmark尚未交错，leftmark对应的值大于基准值且rightmark对应的值小于基准值，交换两个mark对应的元素\n",
    "            temp = alist[leftmark]\n",
    "            alist[leftmark] = alist[rightmark]\n",
    "            alist[rightmark] = temp\n",
    "\n",
    "    '''leftmark与rightmark交错后，交换rightmark对应的元素（对应值小于基准值）与基准值元素'''\n",
    "    temp = alist[first]\n",
    "    alist[first] = alist[rightmark]\n",
    "    alist[rightmark] = temp\n",
    "\n",
    "    return rightmark #新的rightmark位置即为分割点位置"
   ]
  },
  {
   "cell_type": "code",
   "execution_count": 5,
   "id": "34066378",
   "metadata": {},
   "outputs": [],
   "source": [
    "list1 = [3,2,1]\n",
    "quickSort(list1)"
   ]
  },
  {
   "cell_type": "code",
   "execution_count": 6,
   "id": "c001b1fe",
   "metadata": {},
   "outputs": [
    {
     "data": {
      "text/plain": [
       "[1, 2, 3]"
      ]
     },
     "execution_count": 6,
     "metadata": {},
     "output_type": "execute_result"
    }
   ],
   "source": [
    "list1"
   ]
  },
  {
   "cell_type": "code",
   "execution_count": null,
   "id": "c708b476",
   "metadata": {},
   "outputs": [],
   "source": []
  }
 ],
 "metadata": {
  "kernelspec": {
   "display_name": "Python 3",
   "language": "python",
   "name": "python3"
  },
  "language_info": {
   "codemirror_mode": {
    "name": "ipython",
    "version": 3
   },
   "file_extension": ".py",
   "mimetype": "text/x-python",
   "name": "python",
   "nbconvert_exporter": "python",
   "pygments_lexer": "ipython3",
   "version": "3.7.4"
  }
 },
 "nbformat": 4,
 "nbformat_minor": 5
}
