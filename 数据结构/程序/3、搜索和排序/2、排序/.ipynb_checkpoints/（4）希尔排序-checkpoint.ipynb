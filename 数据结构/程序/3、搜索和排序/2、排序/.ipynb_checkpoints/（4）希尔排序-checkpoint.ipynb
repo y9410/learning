{
 "cells": [
  {
   "cell_type": "code",
   "execution_count": 1,
   "id": "c908cbd4",
   "metadata": {},
   "outputs": [],
   "source": [
    "#将列表分成数个子列表，并对每一个子列表应用插入排序\n",
    "#如何切分列表是希尔排序的关键——并不是连续切分，而是使用增量i（有时称作步长）选取所有间隔为i的元素组成子列表"
   ]
  },
  {
   "cell_type": "code",
   "execution_count": 16,
   "id": "e7778850",
   "metadata": {},
   "outputs": [],
   "source": [
    "#希尔排序的时间复杂度大概介于O(n)和O(n^2)之间\n",
    "#将增量设置为2^k-1（1,3,7,15,31,...），时间复杂度可达到O(n^(3/2))"
   ]
  },
  {
   "cell_type": "code",
   "execution_count": 17,
   "id": "f026f896",
   "metadata": {},
   "outputs": [],
   "source": [
    "def shellSort(alist):\n",
    "    sublistcount = len(alist) // 2 #先将整个列表且分为n/2个子列表\n",
    "    while sublistcount > 0:\n",
    "        for startposition in range(sublistcount): #对每个子列表进行排序\n",
    "            gapInsertionSort(alist, startposition, sublistcount)\n",
    "\n",
    "        print(\"After increments of size\", sublistcount, \"The list is\", alist)\n",
    "\n",
    "        sublistcount = sublistcount // 2 #每次新一轮遍历，字列表的个数都是之前的1/2\n",
    "\n",
    "def gapInsertionSort(alist, start, gap): #对子列表排序，输入参数为：列表、起始位置、要跳过的距离\n",
    "    for i in range(start+gap, len(alist), gap): #从子列表的第二个位置开始，循环到子列表的最后一个位置\n",
    "        \n",
    "        '''插入排序'''\n",
    "        currentvalue = alist[i]\n",
    "        position = i\n",
    "\n",
    "        while position >= gap and alist[position-gap] > currentvalue:\n",
    "            alist[position] = alist[position-gap]\n",
    "            position = position-gap\n",
    "\n",
    "        alist[position] = currentvalue"
   ]
  },
  {
   "cell_type": "code",
   "execution_count": 18,
   "id": "9ff9ba84",
   "metadata": {
    "scrolled": true
   },
   "outputs": [
    {
     "name": "stdout",
     "output_type": "stream",
     "text": [
      "After increments of size 4 The list is [20, 26, 44, 17, 54, 31, 93, 55, 77]\n",
      "After increments of size 2 The list is [20, 17, 44, 26, 54, 31, 77, 55, 93]\n",
      "After increments of size 1 The list is [17, 20, 26, 31, 44, 54, 55, 77, 93]\n"
     ]
    }
   ],
   "source": [
    "list1 = [54, 26, 93, 17, 77, 31, 44, 55, 20]\n",
    "shellSort(list1)"
   ]
  },
  {
   "cell_type": "code",
   "execution_count": null,
   "id": "9f2e46f7",
   "metadata": {},
   "outputs": [],
   "source": []
  }
 ],
 "metadata": {
  "kernelspec": {
   "display_name": "Python 3",
   "language": "python",
   "name": "python3"
  },
  "language_info": {
   "codemirror_mode": {
    "name": "ipython",
    "version": 3
   },
   "file_extension": ".py",
   "mimetype": "text/x-python",
   "name": "python",
   "nbconvert_exporter": "python",
   "pygments_lexer": "ipython3",
   "version": "3.7.4"
  }
 },
 "nbformat": 4,
 "nbformat_minor": 5
}
