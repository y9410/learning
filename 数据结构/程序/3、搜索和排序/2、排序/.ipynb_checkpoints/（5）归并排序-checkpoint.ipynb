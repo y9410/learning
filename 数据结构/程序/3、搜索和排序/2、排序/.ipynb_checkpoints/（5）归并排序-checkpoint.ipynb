{
 "cells": [
  {
   "cell_type": "code",
   "execution_count": 1,
   "id": "abe8672c",
   "metadata": {},
   "outputs": [],
   "source": [
    "#它是递归算法，每次将一个列表一分为二\n",
    "#如果列表为空或只有一个元素，那么从定义上来说它就是有序的（基本情况）\n",
    "#如果列表不止一个元素，就将列表一分为二，并对两部分都递归调用归并排序\n",
    "#当两部分都有序后，就进行归并这一基本操作。归并是指将两个较小的有序列表归并为一个有序列表的过程"
   ]
  },
  {
   "cell_type": "code",
   "execution_count": 5,
   "id": "f6a9c81b",
   "metadata": {},
   "outputs": [],
   "source": [
    "#切割时，当列表的长度为n时，能切分logn次\n",
    "#每一次归并时，列表中的每个元素最终都得到处理，并被放到有序列表中，得到长度为 n 的列表需要进行 n 次操作\n",
    "#归并排序算法的时间复杂度是O(nlogn)"
   ]
  },
  {
   "cell_type": "code",
   "execution_count": 2,
   "id": "3834665b",
   "metadata": {},
   "outputs": [],
   "source": [
    "def mergeSort(alist):\n",
    "    print(\"Splitting \", alist)\n",
    "    if len(alist) > 1: #递归的基本情况：len(alist) = 1\n",
    "        mid = len(alist) // 2 #确定中点的位置\n",
    "        lefthalf = alist[:mid] #将列表从中分开\n",
    "        righthalf = alist[mid:]\n",
    "        \n",
    "        '''递归'''\n",
    "        mergeSort(lefthalf)\n",
    "        mergeSort(righthalf)\n",
    "        \n",
    "        '''只有将列表完全分为长度为1的子列表时，才会进行以下步骤'''\n",
    "        i = 0 #代表左表的位置\n",
    "        j = 0 #代表右表的位置\n",
    "        k = 0 #代表原列表的位置\n",
    "        \n",
    "        '''归并'''\n",
    "        while i < len(lefthalf) and j < len(righthalf): #只要没有遍历完左右表中的任意一个，则循环\n",
    "            #对于原列表的第k个位置，从头开始一一对比左右表数字大小\n",
    "            if lefthalf[i] < righthalf[j]: #若左表更小，则将该值付给原列表，然后看左表的下一个数字\n",
    "                alist[k] = lefthalf[i]\n",
    "                i = i + 1\n",
    "            else:\n",
    "                alist[k] = righthalf[j] #若右表更小，则将该值付给原列表，然后看右表的下一个数字\n",
    "                j = j + 1\n",
    "            k = k + 1 #每给原列表赋一次值，原列表的位置右移一位\n",
    "        \n",
    "        '''当遍历完左右两个表中的任意一个后'''\n",
    "        while i < len(lefthalf): #若左表没遍历完，则将左表的数字依次赋给原列表剩下的位置（每个子表都是排好序的，没遍历完说明该表中的所有数都大于另一个子表）\n",
    "            alist[k] = lefthalf[i]\n",
    "            i = i + 1\n",
    "            k = k + 1\n",
    "\n",
    "        while j < len(righthalf): #若右表没遍历完，则将右表的数字依次赋给原列表剩下的位置\n",
    "            alist[k] = righthalf[j]\n",
    "            j = j + 1\n",
    "            k = k + 1\n",
    "    print(\"Merging \", alist)"
   ]
  },
  {
   "cell_type": "code",
   "execution_count": 3,
   "id": "d93bccbf",
   "metadata": {},
   "outputs": [],
   "source": [
    "list1 = [54, 26, 93, 17, 77, 31, 44, 55, 20]"
   ]
  },
  {
   "cell_type": "code",
   "execution_count": 4,
   "id": "2a609756",
   "metadata": {},
   "outputs": [
    {
     "name": "stdout",
     "output_type": "stream",
     "text": [
      "Splitting  [54, 26, 93, 17, 77, 31, 44, 55, 20]\n",
      "Splitting  [54, 26, 93, 17]\n",
      "Splitting  [54, 26]\n",
      "Splitting  [54]\n",
      "Merging  [54]\n",
      "Splitting  [26]\n",
      "Merging  [26]\n",
      "Merging  [26, 54]\n",
      "Splitting  [93, 17]\n",
      "Splitting  [93]\n",
      "Merging  [93]\n",
      "Splitting  [17]\n",
      "Merging  [17]\n",
      "Merging  [17, 93]\n",
      "Merging  [17, 26, 54, 93]\n",
      "Splitting  [77, 31, 44, 55, 20]\n",
      "Splitting  [77, 31]\n",
      "Splitting  [77]\n",
      "Merging  [77]\n",
      "Splitting  [31]\n",
      "Merging  [31]\n",
      "Merging  [31, 77]\n",
      "Splitting  [44, 55, 20]\n",
      "Splitting  [44]\n",
      "Merging  [44]\n",
      "Splitting  [55, 20]\n",
      "Splitting  [55]\n",
      "Merging  [55]\n",
      "Splitting  [20]\n",
      "Merging  [20]\n",
      "Merging  [20, 55]\n",
      "Merging  [20, 44, 55]\n",
      "Merging  [20, 31, 44, 55, 77]\n",
      "Merging  [17, 20, 26, 31, 44, 54, 55, 77, 93]\n"
     ]
    }
   ],
   "source": [
    "mergeSort(list1)"
   ]
  },
  {
   "cell_type": "code",
   "execution_count": null,
   "id": "22d110da",
   "metadata": {},
   "outputs": [],
   "source": []
  }
 ],
 "metadata": {
  "kernelspec": {
   "display_name": "Python 3",
   "language": "python",
   "name": "python3"
  },
  "language_info": {
   "codemirror_mode": {
    "name": "ipython",
    "version": 3
   },
   "file_extension": ".py",
   "mimetype": "text/x-python",
   "name": "python",
   "nbconvert_exporter": "python",
   "pygments_lexer": "ipython3",
   "version": "3.7.4"
  }
 },
 "nbformat": 4,
 "nbformat_minor": 5
}
