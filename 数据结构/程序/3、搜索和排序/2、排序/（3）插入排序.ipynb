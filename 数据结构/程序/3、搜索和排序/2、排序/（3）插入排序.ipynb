{
 "cells": [
  {
   "cell_type": "code",
   "execution_count": 1,
   "id": "697a2a5b",
   "metadata": {},
   "outputs": [],
   "source": [
    "#在列表较低的一端维护一个有序的子列表，并逐个将每个新元素“插入”这个子列表\n",
    "#从元素1到元素n–1，每一轮都将当前元素与有序子列表中的元素进行比较\n",
    "#在有序子列表中，将比它大的元素右移；当遇到一个比它小的元素或抵达子列表终点时，就可以插入当前元素\n",
    "#时间复杂度：O(n^2)"
   ]
  },
  {
   "cell_type": "code",
   "execution_count": 2,
   "id": "e9e1ffad",
   "metadata": {},
   "outputs": [],
   "source": [
    "#交换操作的处理时间大约是移动操作的3倍，因为后者只需进行一次赋值"
   ]
  },
  {
   "cell_type": "code",
   "execution_count": 3,
   "id": "178978ad",
   "metadata": {},
   "outputs": [],
   "source": [
    "def insertionSort(alist):\n",
    "    for index in range(1, len(alist)): #进行n-1轮遍历（1到n-1）\n",
    "\n",
    "        currentvalue = alist[index]\n",
    "        position = index\n",
    "\n",
    "        while position > 0 and alist[position-1] > currentvalue: #如果位置不是第一个且前一个位置上的值大于当前位置的值\n",
    "            alist[position] = alist[position-1] #将前一个位置的值往后挪一位\n",
    "            position = position-1 #位置往第一位推进一位\n",
    "\n",
    "        alist[position] = currentvalue"
   ]
  },
  {
   "cell_type": "code",
   "execution_count": 4,
   "id": "038a0592",
   "metadata": {},
   "outputs": [],
   "source": [
    "list1 = [3, 2, 1]\n",
    "insertionSort(list1)"
   ]
  },
  {
   "cell_type": "code",
   "execution_count": 5,
   "id": "6f3ceaea",
   "metadata": {},
   "outputs": [
    {
     "data": {
      "text/plain": [
       "[1, 2, 3]"
      ]
     },
     "execution_count": 5,
     "metadata": {},
     "output_type": "execute_result"
    }
   ],
   "source": [
    "list1"
   ]
  },
  {
   "cell_type": "code",
   "execution_count": null,
   "id": "1ddf155b",
   "metadata": {},
   "outputs": [],
   "source": []
  }
 ],
 "metadata": {
  "kernelspec": {
   "display_name": "Python 3",
   "language": "python",
   "name": "python3"
  },
  "language_info": {
   "codemirror_mode": {
    "name": "ipython",
    "version": 3
   },
   "file_extension": ".py",
   "mimetype": "text/x-python",
   "name": "python",
   "nbconvert_exporter": "python",
   "pygments_lexer": "ipython3",
   "version": "3.7.4"
  }
 },
 "nbformat": 4,
 "nbformat_minor": 5
}
