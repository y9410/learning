{
 "cells": [
  {
   "cell_type": "code",
   "execution_count": 1,
   "id": "b06af3f9",
   "metadata": {},
   "outputs": [],
   "source": [
    "#选择排序在冒泡排序的基础上做了改进，每次遍历列表时只做一次交换\n",
    "#选择排序在每次遍历时寻找最大值，并在遍历完之后将它放到正确位置上"
   ]
  },
  {
   "cell_type": "code",
   "execution_count": 2,
   "id": "ad4d896f",
   "metadata": {},
   "outputs": [],
   "source": [
    "#选择排序算法和冒泡排序算法的比较次数相同，所以时间复杂度也是O(n^2)\n",
    "#由于减少了交换次数，因此选择排序算法通常更快"
   ]
  },
  {
   "cell_type": "code",
   "execution_count": 3,
   "id": "d0767a96",
   "metadata": {},
   "outputs": [],
   "source": [
    "def selectionSort(alist):\n",
    "    for fillslot in range(len(alist)-1, 0, -1): #共遍历n-1次\n",
    "        positionOfMax = 0 #最大位置设置为0\n",
    "        for location in range(1, fillslot+1):\n",
    "            if alist[location] > alist[positionOfMax]: #如果当前位置的值大于最大位置，则将最大位置变为当前位置\n",
    "                positionOfMax = location\n",
    "        \n",
    "        '''交换最大位置与每轮的最后一个位置的值'''\n",
    "        temp = alist[fillslot]\n",
    "        alist[fillslot] = alist[positionOfMax]\n",
    "        alist[positionOfMax] = temp"
   ]
  },
  {
   "cell_type": "code",
   "execution_count": 4,
   "id": "384dee20",
   "metadata": {},
   "outputs": [],
   "source": [
    "list1 = [3, 2, 1]\n",
    "selectionSort(list1)"
   ]
  },
  {
   "cell_type": "code",
   "execution_count": 5,
   "id": "316a459f",
   "metadata": {},
   "outputs": [
    {
     "data": {
      "text/plain": [
       "[1, 2, 3]"
      ]
     },
     "execution_count": 5,
     "metadata": {},
     "output_type": "execute_result"
    }
   ],
   "source": [
    "list1"
   ]
  },
  {
   "cell_type": "code",
   "execution_count": null,
   "id": "b4b1c162",
   "metadata": {},
   "outputs": [],
   "source": []
  }
 ],
 "metadata": {
  "kernelspec": {
   "display_name": "Python 3",
   "language": "python",
   "name": "python3"
  },
  "language_info": {
   "codemirror_mode": {
    "name": "ipython",
    "version": 3
   },
   "file_extension": ".py",
   "mimetype": "text/x-python",
   "name": "python",
   "nbconvert_exporter": "python",
   "pygments_lexer": "ipython3",
   "version": "3.7.4"
  }
 },
 "nbformat": 4,
 "nbformat_minor": 5
}
