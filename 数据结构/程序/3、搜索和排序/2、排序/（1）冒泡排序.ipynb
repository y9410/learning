{
 "cells": [
  {
   "cell_type": "code",
   "execution_count": 1,
   "id": "dbc19220",
   "metadata": {},
   "outputs": [],
   "source": [
    "#冒泡排序多次遍历列表\n",
    "#它比较相邻的元素，将不合顺序的交换。每一轮遍历都将下一个最大值放到正确的位置上\n",
    "#第i轮的比较次数是n-i，n为序列的长度，复杂度为O(n^2)"
   ]
  },
  {
   "cell_type": "code",
   "execution_count": 3,
   "id": "140fc2e2",
   "metadata": {},
   "outputs": [],
   "source": [
    "def shortBubbleSort(alist):\n",
    "    exchanges = True\n",
    "    passnum = len(alist)-1\n",
    "    while passnum > 0 and exchanges:\n",
    "        exchanges = False\n",
    "        for i in range(passnum): #进行列表长度-1轮遍历\n",
    "            if alist[i] > alist[i+1]:\n",
    "                exchanges = True #若在某一轮中，所有元素的顺序是正确的，则exchanges = False，跳出遍历，完成排序\n",
    "                temp = alist[i]\n",
    "                alist[i] = alist[i+1]\n",
    "                alist[i+1] = temp\n",
    "        passnum = passnum -1"
   ]
  },
  {
   "cell_type": "code",
   "execution_count": 4,
   "id": "d3e5337c",
   "metadata": {},
   "outputs": [],
   "source": [
    "list1 = [3, 2, 1]\n",
    "shortBubbleSort(list1)"
   ]
  },
  {
   "cell_type": "code",
   "execution_count": 5,
   "id": "c48c659a",
   "metadata": {},
   "outputs": [
    {
     "data": {
      "text/plain": [
       "[1, 2, 3]"
      ]
     },
     "execution_count": 5,
     "metadata": {},
     "output_type": "execute_result"
    }
   ],
   "source": [
    "list1"
   ]
  },
  {
   "cell_type": "code",
   "execution_count": null,
   "id": "bff2c2c2",
   "metadata": {},
   "outputs": [],
   "source": []
  }
 ],
 "metadata": {
  "kernelspec": {
   "display_name": "Python 3",
   "language": "python",
   "name": "python3"
  },
  "language_info": {
   "codemirror_mode": {
    "name": "ipython",
    "version": 3
   },
   "file_extension": ".py",
   "mimetype": "text/x-python",
   "name": "python",
   "nbconvert_exporter": "python",
   "pygments_lexer": "ipython3",
   "version": "3.7.4"
  }
 },
 "nbformat": 4,
 "nbformat_minor": 5
}
