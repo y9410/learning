{
 "cells": [
  {
   "cell_type": "code",
   "execution_count": 2,
   "id": "156b4106",
   "metadata": {},
   "outputs": [],
   "source": [
    "#从中间的元素着手\n",
    "#如果这个元素就是目标元素，那就立即停止搜索；\n",
    "#如果不是，则可以利用列表有序的特性，排除一半的元素\n",
    "#如果目标元素比中间的元素大，就可以直接排除列表的左半部分和中间的元素"
   ]
  },
  {
   "cell_type": "code",
   "execution_count": 3,
   "id": "a0d93244",
   "metadata": {},
   "outputs": [],
   "source": [
    "#递归版本：不断对一分为二的小列表调用二分搜索函数"
   ]
  },
  {
   "cell_type": "code",
   "execution_count": 7,
   "id": "17524c1e",
   "metadata": {},
   "outputs": [],
   "source": [
    "#每一次分割列表后，大小变为n/2，因此第i次分割（比较）时，大小为n/2^i，此时列表只有一个元素，因此i=logn\n",
    "#复杂度：O(logn)"
   ]
  },
  {
   "cell_type": "code",
   "execution_count": 4,
   "id": "23856d2f",
   "metadata": {},
   "outputs": [],
   "source": [
    "def binarySearch(alist, item):\n",
    "    if len(alist) == 0: #基本情况\n",
    "        return False\n",
    "    else:\n",
    "        midpoint = len(alist) // 2 #中点位置是原列表长度的1/2（向下取整）\n",
    "        if alist[midpoint] == item: #基本情况\n",
    "            return True\n",
    "        else:\n",
    "            if item < alist[midpoint]: #若搜索目标小于中点\n",
    "                return binarySearch(alist[:midpoint], item) #新的小列表是原列表的左边一半\n",
    "            else: #若搜索目标大于中点\n",
    "                return binarySearch(alist[midpoint+1:], item) #新的小列表是原列表的右边一半"
   ]
  },
  {
   "cell_type": "code",
   "execution_count": 5,
   "id": "d5df2e1f",
   "metadata": {},
   "outputs": [
    {
     "data": {
      "text/plain": [
       "True"
      ]
     },
     "execution_count": 5,
     "metadata": {},
     "output_type": "execute_result"
    }
   ],
   "source": [
    "list1 = [1, 2, 3, 4, 5, 6, 7]\n",
    "binarySearch(list1, 6)"
   ]
  },
  {
   "cell_type": "code",
   "execution_count": 6,
   "id": "f855499f",
   "metadata": {},
   "outputs": [
    {
     "data": {
      "text/plain": [
       "False"
      ]
     },
     "execution_count": 6,
     "metadata": {},
     "output_type": "execute_result"
    }
   ],
   "source": [
    "binarySearch(list1, 8)"
   ]
  },
  {
   "cell_type": "code",
   "execution_count": null,
   "id": "10d08041",
   "metadata": {},
   "outputs": [],
   "source": []
  }
 ],
 "metadata": {
  "kernelspec": {
   "display_name": "Python 3",
   "language": "python",
   "name": "python3"
  },
  "language_info": {
   "codemirror_mode": {
    "name": "ipython",
    "version": 3
   },
   "file_extension": ".py",
   "mimetype": "text/x-python",
   "name": "python",
   "nbconvert_exporter": "python",
   "pygments_lexer": "ipython3",
   "version": "3.7.4"
  }
 },
 "nbformat": 4,
 "nbformat_minor": 5
}
