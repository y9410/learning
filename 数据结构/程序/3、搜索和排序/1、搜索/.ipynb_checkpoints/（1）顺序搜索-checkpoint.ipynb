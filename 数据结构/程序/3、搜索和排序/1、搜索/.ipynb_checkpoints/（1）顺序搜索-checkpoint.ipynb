{
 "cells": [
  {
   "cell_type": "code",
   "execution_count": 1,
   "id": "809c2274",
   "metadata": {},
   "outputs": [],
   "source": [
    "#从列表中的第一个元素开始，沿着默认的顺序逐个查看，直到找到目标元素或者查完列表\n",
    "#如果查完列表后仍没有找到目标元素，则说明目标元素不在列表中"
   ]
  },
  {
   "cell_type": "markdown",
   "id": "65a8f3b4",
   "metadata": {},
   "source": [
    "# 无序列表的顺序搜索"
   ]
  },
  {
   "cell_type": "code",
   "execution_count": 3,
   "id": "84fa2512",
   "metadata": {},
   "outputs": [],
   "source": [
    "#复杂度：O(n)"
   ]
  },
  {
   "cell_type": "code",
   "execution_count": 2,
   "id": "439c19af",
   "metadata": {},
   "outputs": [],
   "source": [
    "def sequentialSearch(alist, item):\n",
    "    pos = 0\n",
    "    found = False\n",
    "\n",
    "    while pos < len(alist) and not found:\n",
    "        if alist[pos] == item:\n",
    "            found = True\n",
    "        else:\n",
    "            pos = pos +1\n",
    "    \n",
    "    return found"
   ]
  },
  {
   "cell_type": "markdown",
   "id": "9c1d7ef2",
   "metadata": {},
   "source": [
    "# 有序列表的顺序搜索"
   ]
  },
  {
   "cell_type": "code",
   "execution_count": 4,
   "id": "38e8dded",
   "metadata": {},
   "outputs": [],
   "source": [
    "#复杂度：O(n)"
   ]
  },
  {
   "cell_type": "code",
   "execution_count": 5,
   "id": "d61dddbe",
   "metadata": {},
   "outputs": [],
   "source": [
    "def orderedSequentialSearch(alist, item):\n",
    "    pos = 0\n",
    "    found = False\n",
    "    stop = False\n",
    "    while pos < len(alist) and not found and not stop:\n",
    "        if alist[pos] == item:\n",
    "            found = True\n",
    "        else:\n",
    "            if alist[pos] > item: #对于升序列表，若列表当前值大于要搜索的元素，则说明该元素不在列表中\n",
    "                stop = True\n",
    "            else:\n",
    "                pos = pos +1\n",
    "    \n",
    "    return found"
   ]
  },
  {
   "cell_type": "code",
   "execution_count": null,
   "id": "d6a16e2c",
   "metadata": {},
   "outputs": [],
   "source": []
  }
 ],
 "metadata": {
  "kernelspec": {
   "display_name": "Python 3",
   "language": "python",
   "name": "python3"
  },
  "language_info": {
   "codemirror_mode": {
    "name": "ipython",
    "version": 3
   },
   "file_extension": ".py",
   "mimetype": "text/x-python",
   "name": "python",
   "nbconvert_exporter": "python",
   "pygments_lexer": "ipython3",
   "version": "3.7.4"
  }
 },
 "nbformat": 4,
 "nbformat_minor": 5
}
