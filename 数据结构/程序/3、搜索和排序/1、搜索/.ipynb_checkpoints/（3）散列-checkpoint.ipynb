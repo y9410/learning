{
 "cells": [
  {
   "cell_type": "code",
   "execution_count": 2,
   "id": "10a10f71",
   "metadata": {},
   "outputs": [],
   "source": [
    "#散列表是元素集合，其中的元素以一种便于查找的方式存储。散列表中的每个位置通常被称为槽，其中可以存储一个元素"
   ]
  },
  {
   "cell_type": "code",
   "execution_count": 3,
   "id": "a57a28ec",
   "metadata": {},
   "outputs": [],
   "source": [
    "#散列函数将散列表中的元素与其所属位置对应起来\n",
    "#取余函数是一个很常见的散列函数，这是因为结果必须在槽编号范围内\n",
    "#占用率被称作载荷因子，载荷因子=元素个数/散列表大小"
   ]
  },
  {
   "cell_type": "markdown",
   "id": "00a0d22d",
   "metadata": {},
   "source": [
    "# 散列函数"
   ]
  },
  {
   "cell_type": "code",
   "execution_count": 4,
   "id": "6f7420fb",
   "metadata": {},
   "outputs": [],
   "source": [
    "#散列函数可能会将两个元素都放入同一个槽，这种情况被称作冲突，也叫“碰撞”\n",
    "#我们的目标是创建这样一个散列函数：冲突数最少，计算方便，元素均匀分布于散列表中"
   ]
  },
  {
   "cell_type": "markdown",
   "id": "1afb5246",
   "metadata": {},
   "source": [
    "# 处理冲突"
   ]
  },
  {
   "cell_type": "code",
   "execution_count": 5,
   "id": "4f257fbd",
   "metadata": {},
   "outputs": [],
   "source": [
    "#当两个元素被分到同一个槽中时，必须通过一种系统化方法在散列表中安置第二个元素"
   ]
  },
  {
   "cell_type": "code",
   "execution_count": 6,
   "id": "0b455609",
   "metadata": {},
   "outputs": [],
   "source": [
    "#一种方法是在散列表中找到另一个空槽，用于放置引起冲突的元素。简单的做法是从起初的散列值开始，顺序遍历散列表，直到找到一个空槽\n",
    "#然而，如果一个槽发生太多冲突，线性探测会填满其附近的槽，而这会影响到后续插入的元素"
   ]
  },
  {
   "cell_type": "code",
   "execution_count": 7,
   "id": "d58c7876",
   "metadata": {},
   "outputs": [],
   "source": [
    "#要避免元素聚集，一种方法是扩展线性探测，不再依次顺序查找空槽，而是跳过一些槽，这样做能使引起冲突的元素分布得更均匀\n",
    "#注意， “跨步”的大小要能保证表中所有的槽最终都被访问到，否则就会浪费槽资源。要保证这一点，常常建议散列表的大小为素数"
   ]
  },
  {
   "cell_type": "markdown",
   "id": "c42ad9e6",
   "metadata": {},
   "source": [
    "# 利用散列实现字典"
   ]
  },
  {
   "cell_type": "code",
   "execution_count": 8,
   "id": "df103c32",
   "metadata": {},
   "outputs": [],
   "source": [
    "#字典是存储键–值对的数据类型。键用来查找关联的值，这个概念常常被称作映射\n",
    "#散列搜索算法的时间复杂度：O(1)"
   ]
  },
  {
   "cell_type": "code",
   "execution_count": 10,
   "id": "36b9e00b",
   "metadata": {},
   "outputs": [],
   "source": [
    "class HashTable:\n",
    "    def __init__(self):\n",
    "        self.size = 11\n",
    "        self.slots = [None] * self.size #包含key的列表\n",
    "        self.data = [None] * self.size #包含value的列表\n",
    "    \n",
    "    def put(self, key, data): #往映射中加入一个新的键–值对。如果键已经存在，就用新值替换旧值\n",
    "        hashvalue = self.hashfunction(key, len(self.slots)) #计算key应该分配的槽的位置\n",
    "\n",
    "        if self.slots[hashvalue] == None: #如果对应的槽为空，将输入的key和value分别分配到两个表的同个位置上\n",
    "            self.slots[hashvalue] = key\n",
    "            self.data[hashvalue] = data\n",
    "        else: \n",
    "            if self.slots[hashvalue] == key: #若对应槽的key与输入的key相等\n",
    "                self.data[hashvalue] = data #更新对应位置的value\n",
    "            else: #若不是以上情况，则给输入key重新分配位置，直到找到可用的槽，并再次判断\n",
    "                nextslot = self.rehash(hashvalue, len(self.slots))\n",
    "                while self.slots[nextslot] != None and self.slots[nextslot] != key:\n",
    "                    nextslot = self.rehash(nextslot, len(self.slots))\n",
    "\n",
    "                if self.slots[nextslot] == None:\n",
    "                    self.slots[nextslot] = key\n",
    "                    self.data[nextslot] = data\n",
    "                \n",
    "                else:\n",
    "                    self.data[nextslot] = data\n",
    "    \n",
    "    def hashfunction(self, key, size): #散列函数\n",
    "        return key%size\n",
    "    \n",
    "    def rehash(self, oldhash, size): #重新分配位置\n",
    "        return (oldhash + 1)%size\n",
    "    \n",
    "    def get(self, key): #返回 key 对应的值。如果 key 不存在，则返回 None\n",
    "        startslot = self.hashfunction(key, len(self.slots)) #进行第一次位置查找\n",
    "\n",
    "        data = None\n",
    "        stop = False\n",
    "        found = False\n",
    "        position = startslot\n",
    "        while self.slots[position] != None and not found and not stop: #如果位置不为None且没有找到或停止\n",
    "            if self.slots[position] == key: #若key等于要找的key，则找到，value等于对应位置的value\n",
    "                found = True\n",
    "                data = self.data[position]\n",
    "            else: #否则需要使用rehash查找下个位置\n",
    "                position=self.rehash(position, len(self.slots))\n",
    "                if position == startslot:\n",
    "                    stop = True\n",
    "        return data\n",
    "\n",
    "    def __getitem__(self, key):\n",
    "        return self.get(key)\n",
    "\n",
    "    def __setitem__(self, key, data):\n",
    "        self.put(key, data)"
   ]
  },
  {
   "cell_type": "code",
   "execution_count": 11,
   "id": "26ef86ae",
   "metadata": {},
   "outputs": [],
   "source": [
    "H = HashTable()"
   ]
  },
  {
   "cell_type": "code",
   "execution_count": 13,
   "id": "d094cb2e",
   "metadata": {},
   "outputs": [],
   "source": [
    "H[54] = \"cat\""
   ]
  },
  {
   "cell_type": "code",
   "execution_count": 14,
   "id": "dcd9ce66",
   "metadata": {},
   "outputs": [
    {
     "data": {
      "text/plain": [
       "[None, None, None, None, None, None, None, None, None, None, 'cat']"
      ]
     },
     "execution_count": 14,
     "metadata": {},
     "output_type": "execute_result"
    }
   ],
   "source": [
    "H.data"
   ]
  },
  {
   "cell_type": "code",
   "execution_count": null,
   "id": "d1b26637",
   "metadata": {},
   "outputs": [],
   "source": []
  }
 ],
 "metadata": {
  "kernelspec": {
   "display_name": "Python 3",
   "language": "python",
   "name": "python3"
  },
  "language_info": {
   "codemirror_mode": {
    "name": "ipython",
    "version": 3
   },
   "file_extension": ".py",
   "mimetype": "text/x-python",
   "name": "python",
   "nbconvert_exporter": "python",
   "pygments_lexer": "ipython3",
   "version": "3.7.4"
  }
 },
 "nbformat": 4,
 "nbformat_minor": 5
}
