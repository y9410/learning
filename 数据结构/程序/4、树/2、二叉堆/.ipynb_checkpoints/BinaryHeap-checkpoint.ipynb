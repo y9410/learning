{
 "cells": [
  {
   "cell_type": "code",
   "execution_count": 1,
   "id": "f0c46dd8",
   "metadata": {},
   "outputs": [],
   "source": [
    "#利用二叉堆可以实现优先级队列：优先级队列从头部移除元素，不过元素的逻辑顺序是由优先级决定的，优先级最高的元素在最前，优先级最低的元素在最后"
   ]
  },
  {
   "cell_type": "markdown",
   "id": "eb3f5215",
   "metadata": {},
   "source": [
    "# 结构属性"
   ]
  },
  {
   "cell_type": "code",
   "execution_count": 2,
   "id": "b1ad3b3d",
   "metadata": {},
   "outputs": [],
   "source": [
    "#在实现二叉堆时，通过创建一棵完全二叉树来维持树的平衡\n",
    "#完全二叉树中，除了最底层，其他每一层的节点都是满的\n",
    "#完全二叉树可用列表表示\n",
    "#对于在列表中处于位置 p 的节点来说，它的左子节点正好处于位置2p；同理，右子节点处于位置2p+1"
   ]
  },
  {
   "cell_type": "markdown",
   "id": "4db7f51c",
   "metadata": {},
   "source": [
    "# 堆的有序性"
   ]
  },
  {
   "cell_type": "code",
   "execution_count": 3,
   "id": "aa66c576",
   "metadata": {},
   "outputs": [],
   "source": [
    "#对于堆中任意元素x及其父元素p，p都不大于x"
   ]
  },
  {
   "cell_type": "markdown",
   "id": "2c03a566",
   "metadata": {},
   "source": [
    "# 实现"
   ]
  },
  {
   "cell_type": "code",
   "execution_count": 9,
   "id": "a3c5db8f",
   "metadata": {},
   "outputs": [],
   "source": [
    "class BinaryHeap: #新建一个二叉堆\n",
    "    def __init__(self):\n",
    "        self.heapList = [0] #列表heapList的第一个元素是 0，它的唯一用途是为了使后续的方法可以使用整数除法\n",
    "        self.currentSize = 0\n",
    "        \n",
    "    def insert(self, k): #往堆中加入一个新元素\n",
    "        self.heapList.append(k) #向列表末尾插入新元素\n",
    "        self.currentSize = self.currentSize + 1\n",
    "        self.percUp(self.currentSize) #调整新元素的位置\n",
    "        \n",
    "    def percUp(self, i): #为了保证堆的有序性，需要将小于父节点的新元素与父节点交换位置\n",
    "        while i // 2 > 0: #i//2会跳到当前节点的父节点——从子节点一路检查到根节点\n",
    "            if self.heapList[i] < self.heapList[i // 2]: #如果子节点小于父节点，交换两者的值\n",
    "                tmp = self.heapList[i // 2]\n",
    "                self.heapList[i // 2] = self.heapList[i]\n",
    "                self.heapList[i] = tmp\n",
    "            i = i // 2\n",
    "    \n",
    "    def delMin(self): #删除堆中最小的元素，并调整堆的结构使之有序\n",
    "        retval = self.heapList[1] #根节点是最小的元素\n",
    "        self.heapList[1] = self.heapList[self.currentSize] #将根节点替换为二叉堆最后一个元素\n",
    "        self.currentSize = self.currentSize - 1 #二叉堆大小减一\n",
    "        self.heapList.pop() #把最后一个元素删除\n",
    "        self.percDown(1) #从根节点开始向下检查排列错误的元素并纠正错误\n",
    "        return retval\n",
    "    \n",
    "    def percDown(self, i):\n",
    "        while (i * 2) <= self.currentSize: \n",
    "            mc = self.minChild(i) #取出当前节点的最小子节点的位置\n",
    "            if self.heapList[i] > self.heapList[mc]: #如果父节点值大于其最小子节点值，交换这两个节点\n",
    "                tmp = self.heapList[i]\n",
    "                self.heapList[i] = self.heapList[mc]\n",
    "                self.heapList[mc] = tmp\n",
    "            i = mc #将i设置为最小子节点位置继续向下判断\n",
    "\n",
    "    def minChild(self, i): #给定一个父节点，返回最小子节点的位置\n",
    "        if i * 2 + 1 > self.currentSize: #若父节点只有一个子节点，那么这个子节点就是最小子节点\n",
    "            return i * 2\n",
    "        else: #否则两个子节点进行比较，返回最小子节点\n",
    "            if self.heapList[i*2] < self.heapList[i*2+1]:\n",
    "                return i * 2\n",
    "            else:\n",
    "                return i * 2 + 1\n",
    "    \n",
    "    '''将n个元素插入堆中的操作为O(nlogn) ，因为插入元素时需要移动其他元素，复杂度为O(n)，使用二分搜索查找插入位置的复杂度为O(logn)'''\n",
    "    '''从完整的列表开始，构建整个堆只需O(n)'''\n",
    "    def buildHeap(self, alist): #给定用于构建二叉堆的列表，构建一个二叉堆\n",
    "        i = len(alist) // 2 #最后一个叶子节点的父节点（超过该节点的节点全是叶子节点）\n",
    "        self.currentSize = len(alist)\n",
    "        self.heapList = [0] + alist[:]\n",
    "        while (i > 0): #从后往前遍历所有父节点，并纠正错误（因此一定能保证排序正确）\n",
    "            self.percDown(i)\n",
    "            i = i - 1"
   ]
  },
  {
   "cell_type": "code",
   "execution_count": 10,
   "id": "a22a1147",
   "metadata": {},
   "outputs": [],
   "source": [
    "BinaryHeap1 = BinaryHeap()"
   ]
  },
  {
   "cell_type": "code",
   "execution_count": 15,
   "id": "3fa16c22",
   "metadata": {},
   "outputs": [],
   "source": [
    "BinaryHeap1.buildHeap([9, 6, 5, 2, 3])"
   ]
  },
  {
   "cell_type": "code",
   "execution_count": 19,
   "id": "f697922c",
   "metadata": {},
   "outputs": [
    {
     "data": {
      "text/plain": [
       "[0, 2, 3, 5, 6, 9]"
      ]
     },
     "execution_count": 19,
     "metadata": {},
     "output_type": "execute_result"
    }
   ],
   "source": [
    "BinaryHeap1.heapList"
   ]
  },
  {
   "cell_type": "code",
   "execution_count": null,
   "id": "eeb55617",
   "metadata": {},
   "outputs": [],
   "source": []
  }
 ],
 "metadata": {
  "kernelspec": {
   "display_name": "Python 3",
   "language": "python",
   "name": "python3"
  },
  "language_info": {
   "codemirror_mode": {
    "name": "ipython",
    "version": 3
   },
   "file_extension": ".py",
   "mimetype": "text/x-python",
   "name": "python",
   "nbconvert_exporter": "python",
   "pygments_lexer": "ipython3",
   "version": "3.7.4"
  }
 },
 "nbformat": 4,
 "nbformat_minor": 5
}
