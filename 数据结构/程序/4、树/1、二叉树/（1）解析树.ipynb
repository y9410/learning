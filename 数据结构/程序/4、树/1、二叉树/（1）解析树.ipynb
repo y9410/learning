{
 "cells": [
  {
   "cell_type": "code",
   "execution_count": 1,
   "id": "e6a44d45",
   "metadata": {},
   "outputs": [],
   "source": [
    "#将((7 + 3) ∗ (5 − 2))这样的数学表达式表示成解析树（必须是完全括号表达式）"
   ]
  },
  {
   "cell_type": "code",
   "execution_count": 2,
   "id": "3839cb31",
   "metadata": {},
   "outputs": [],
   "source": [
    "#左括号代表新表达式的起点，所以应该创建一棵对应该表达式的新树\n",
    "#右括号则意味着到达该表达式的终点\n",
    "#操作数既是叶子节点，也是其运算符的子节点\n",
    "#每个运算符都有左右子节点"
   ]
  },
  {
   "cell_type": "code",
   "execution_count": 3,
   "id": "c7d0b281",
   "metadata": {},
   "outputs": [],
   "source": [
    "#使用栈追踪父节点\n",
    "#在遍历这棵树时使用栈记录父节点，每当要下沉至当前节点的子节点时，先将当前节点压到栈中\n",
    "#当要返回到当前节点的父节点时，就将父节点从栈中弹出来"
   ]
  },
  {
   "cell_type": "code",
   "execution_count": 4,
   "id": "291ae180",
   "metadata": {},
   "outputs": [],
   "source": [
    "#从其它文件夹导入模块\n",
    "import sys\n",
    "sys.path.append(\"C:/Users/y9410/Desktop/学习编程/数据结构/程序/1、基本数据结构/1、栈\") #添加对应模块的路径（注意要用“/”分隔）\n",
    "from Stack import Stack"
   ]
  },
  {
   "cell_type": "code",
   "execution_count": 5,
   "id": "3dc5438e",
   "metadata": {},
   "outputs": [],
   "source": [
    "from BinaryTree import BinaryTree"
   ]
  },
  {
   "cell_type": "code",
   "execution_count": 6,
   "id": "4c562ae9",
   "metadata": {},
   "outputs": [],
   "source": [
    "import operator"
   ]
  },
  {
   "cell_type": "code",
   "execution_count": 7,
   "id": "a64d2186",
   "metadata": {},
   "outputs": [],
   "source": [
    "'''生成一个解析树'''\n",
    "def buildParseTree(fpexp): #输入一个完全括号表达式\n",
    "    fplist = fpexp.split() #拆解至单个字符\n",
    "    pStack = Stack() #创建一个栈，用于返回父节点\n",
    "    eTree = BinaryTree('') #创建一个初始的树\n",
    "    pStack.push(eTree) #将初始的树压入栈\n",
    "    currentTree = eTree #当前树等于初始树\n",
    "    for i in fplist:\n",
    "        if i == '(': #若当前字符为左括号，创建一个左子树并下沉到该子树\n",
    "            currentTree.insertLeft('')\n",
    "            pStack.push(currentTree)\n",
    "            currentTree = currentTree.getLeftChild()\n",
    "        elif i not in '+-*/)': #若当前字符为操作数\n",
    "            currentTree.setRootVal(eval(i)) #将子树的根节点设置为操作数\n",
    "            parent = pStack.pop() #返回父节点\n",
    "            currentTree = parent\n",
    "        elif i in '+-*/': #若当前字符为运算符\n",
    "            currentTree.setRootVal(i) #将当前树的根节点设置为运算符\n",
    "            currentTree.insertRight('') #并生成一颗右子树\n",
    "            pStack.push(currentTree) #记录右子树的父节点\n",
    "            currentTree = currentTree.getRightChild() #下沉至右子树\n",
    "        elif i == ')': #若当前字符为右括号\n",
    "            currentTree = pStack.pop() #返回父节点\n",
    "        else: #否则报错\n",
    "            raise ValueError(\"Unknown Operator: \" + i)\n",
    "    return eTree"
   ]
  },
  {
   "cell_type": "code",
   "execution_count": 8,
   "id": "67c8671e",
   "metadata": {},
   "outputs": [],
   "source": [
    "'''计算解析树'''\n",
    "def evaluate(parseTree):\n",
    "    opers = {'+':operator.add, '-':operator.sub, '*':operator.mul, '/':operator.truediv} #定义运算（opers['+'](2, 2)等价于2+2）\n",
    "    leftC = parseTree.getLeftChild() #获取左子树\n",
    "    rightC = parseTree.getRightChild() #获取右子树\n",
    "    \n",
    "    if leftC and rightC: #若左右子树都不是None，说明当前节点不是叶子节点（当前节点储存运算符）\n",
    "        fn = opers[parseTree.getRootVal()] #根据当前节点（当前树的根节点）的运算符设置运算规则\n",
    "        return fn(evaluate(leftC), evaluate(rightC)) #递归调用，对字数进行计算\n",
    "    else:\n",
    "        return parseTree.getRootVal() #基本情况：达到记录操作数的叶子节点"
   ]
  },
  {
   "cell_type": "code",
   "execution_count": 9,
   "id": "36143617",
   "metadata": {
    "scrolled": true
   },
   "outputs": [
    {
     "data": {
      "text/plain": [
       "28"
      ]
     },
     "execution_count": 9,
     "metadata": {},
     "output_type": "execute_result"
    }
   ],
   "source": [
    "fpexp = '(3+(5*5))'\n",
    "evaluate(buildParseTree(fpexp))"
   ]
  },
  {
   "cell_type": "code",
   "execution_count": null,
   "id": "c4f2dc1e",
   "metadata": {},
   "outputs": [],
   "source": []
  }
 ],
 "metadata": {
  "kernelspec": {
   "display_name": "Python 3",
   "language": "python",
   "name": "python3"
  },
  "language_info": {
   "codemirror_mode": {
    "name": "ipython",
    "version": 3
   },
   "file_extension": ".py",
   "mimetype": "text/x-python",
   "name": "python",
   "nbconvert_exporter": "python",
   "pygments_lexer": "ipython3",
   "version": "3.7.4"
  }
 },
 "nbformat": 4,
 "nbformat_minor": 5
}
