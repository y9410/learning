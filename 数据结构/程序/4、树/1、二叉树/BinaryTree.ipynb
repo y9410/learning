{
 "cells": [
  {
   "cell_type": "code",
   "execution_count": 9,
   "id": "4a533b80",
   "metadata": {},
   "outputs": [],
   "source": [
    "#“节点与引用”的二叉树表示方法遵循面向对象编程范式，因此采用这种方法\n",
    "#定义一个类，其中有根节点和左右子树的属性"
   ]
  },
  {
   "cell_type": "code",
   "execution_count": 12,
   "id": "8c1a1048",
   "metadata": {},
   "outputs": [],
   "source": [
    "class BinaryTree:\n",
    "    def __init__(self, rootObj):\n",
    "        self.key = rootObj\n",
    "        self.leftChild = None\n",
    "        self.rightChild = None\n",
    "    \n",
    "    def insertLeft(self, newNode): #新建一棵二叉树，并将其作为当前节点的左子节点\n",
    "        if self.leftChild == None: #若当前节点没有左子节点\n",
    "            self.leftChild = BinaryTree(newNode) #直接添加一个左子节点\n",
    "        else: #若当前节点有左子节点，则插入一个节点，并将已有的左子节点降一层\n",
    "            t = BinaryTree(newNode)\n",
    "            t.left = self.leftChild\n",
    "            self.leftChild = t\n",
    "    \n",
    "    def insertRight(self, newNode): #新建一棵二叉树，并将其作为当前节点的右子节点\n",
    "        if self.rightChild == None: #若当前节点没有右子节点\n",
    "            self.rightChild = BinaryTree(newNode) #直接添加一个右子节点\n",
    "        else: #若当前节点有右子节点，则插入一个节点，并将已有的右子节点降一层\n",
    "            t = BinaryTree(newNode)\n",
    "            t.right = self.rightChild\n",
    "            self.rightChild = t\n",
    "    \n",
    "    def getRightChild(self): #返回当前节点的右子节点所对应的二叉树\n",
    "        return self.rightChild\n",
    "    \n",
    "    def getLeftChild(self): #返回当前节点的左子节点所对应的二叉\n",
    "        return self.leftChild\n",
    "    \n",
    "    def setRootVal(self, obj): #在当前节点中存储参数obj中的对象\n",
    "        self.key = obj\n",
    "    \n",
    "    def getRootVal(self): #返回当前节点存储的对象\n",
    "        return self.key\n",
    "    \n",
    "    def preorder(self): #前序遍历\n",
    "        print(self.key)\n",
    "        if self.leftChild:\n",
    "            self.left.preorder()\n",
    "        if self.rightChild:\n",
    "            self.right.preorder()"
   ]
  },
  {
   "cell_type": "code",
   "execution_count": 13,
   "id": "ba23c830",
   "metadata": {},
   "outputs": [],
   "source": [
    "r = BinaryTree('a')"
   ]
  },
  {
   "cell_type": "code",
   "execution_count": 14,
   "id": "68dabb3a",
   "metadata": {},
   "outputs": [
    {
     "data": {
      "text/plain": [
       "'a'"
      ]
     },
     "execution_count": 14,
     "metadata": {},
     "output_type": "execute_result"
    }
   ],
   "source": [
    "r.getRootVal()"
   ]
  },
  {
   "cell_type": "code",
   "execution_count": 15,
   "id": "6fcc0808",
   "metadata": {},
   "outputs": [
    {
     "name": "stdout",
     "output_type": "stream",
     "text": [
      "None\n"
     ]
    }
   ],
   "source": [
    "print(r.getLeftChild())"
   ]
  },
  {
   "cell_type": "code",
   "execution_count": 16,
   "id": "98ba32d2",
   "metadata": {},
   "outputs": [
    {
     "name": "stdout",
     "output_type": "stream",
     "text": [
      "<__main__.BinaryTree object at 0x000001CAF3809E08>\n"
     ]
    }
   ],
   "source": [
    "r.insertLeft('b')\n",
    "print(r.getLeftChild())"
   ]
  },
  {
   "cell_type": "code",
   "execution_count": 17,
   "id": "af26c20f",
   "metadata": {},
   "outputs": [
    {
     "name": "stdout",
     "output_type": "stream",
     "text": [
      "b\n"
     ]
    }
   ],
   "source": [
    "print(r.getLeftChild().getRootVal())"
   ]
  },
  {
   "cell_type": "code",
   "execution_count": 18,
   "id": "ea71bfd2",
   "metadata": {},
   "outputs": [
    {
     "name": "stdout",
     "output_type": "stream",
     "text": [
      "c\n"
     ]
    }
   ],
   "source": [
    "r.insertRight('c')\n",
    "print(r.getRightChild().getRootVal())"
   ]
  },
  {
   "cell_type": "code",
   "execution_count": 19,
   "id": "f5f8ce6f",
   "metadata": {},
   "outputs": [
    {
     "name": "stdout",
     "output_type": "stream",
     "text": [
      "hello\n"
     ]
    }
   ],
   "source": [
    "r.getRightChild().setRootVal('hello')\n",
    "print(r.getRightChild().getRootVal())"
   ]
  },
  {
   "cell_type": "code",
   "execution_count": null,
   "id": "65b19481",
   "metadata": {},
   "outputs": [],
   "source": []
  }
 ],
 "metadata": {
  "kernelspec": {
   "display_name": "Python 3",
   "language": "python",
   "name": "python3"
  },
  "language_info": {
   "codemirror_mode": {
    "name": "ipython",
    "version": 3
   },
   "file_extension": ".py",
   "mimetype": "text/x-python",
   "name": "python",
   "nbconvert_exporter": "python",
   "pygments_lexer": "ipython3",
   "version": "3.7.4"
  }
 },
 "nbformat": 4,
 "nbformat_minor": 5
}
