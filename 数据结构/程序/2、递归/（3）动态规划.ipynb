{
 "cells": [
  {
   "cell_type": "markdown",
   "id": "b4027960",
   "metadata": {},
   "source": [
    "# 找零问题"
   ]
  },
  {
   "cell_type": "code",
   "execution_count": 1,
   "id": "f47064b6",
   "metadata": {},
   "outputs": [],
   "source": [
    "#假设硬币有多种面额（1分、5分...），给定找零面额，计算所需的最少硬币数量"
   ]
  },
  {
   "cell_type": "code",
   "execution_count": 2,
   "id": "7149ee9b",
   "metadata": {},
   "outputs": [],
   "source": [
    "#减少计算量的关键在于记住已有的结果\n",
    "#简单的做法是把最少硬币数的计算结果存储在一张表中，并在计算新的最少硬币数之前，检查结果是否已在表中\n",
    "#如果是，就直接使用结果，而不是重新计算"
   ]
  },
  {
   "cell_type": "code",
   "execution_count": 21,
   "id": "ab726e78",
   "metadata": {},
   "outputs": [],
   "source": [
    "def recDC(coinValueList, change, knownResults):\n",
    "    minCoins = change #开始时，最少硬币数为找零面额（全用面值1分的硬币找零）\n",
    "    if change in coinValueList: #基本情况：如果找零面额等于某种硬币的面额\n",
    "        knownResults[change - 1] = 1\n",
    "        return 1 #最小硬币数为1\n",
    "    elif knownResults[change - 1] > 0: #直接使用已计算过的结果\n",
    "        return knownResults[change - 1]\n",
    "    else: #若结果未计算\n",
    "        for i in [c for c in coinValueList if c <= change]: #对于每个小于当前找零面额的硬币面值，用面值由小到大的顺序进行找零\n",
    "            numCoins = 1 + recDC(coinValueList, change - i, knownResults) #递归：使用的硬币数应该是当前的硬币加剩余找零面额的最小所需硬币数\n",
    "            if numCoins < minCoins:\n",
    "                minCoins = numCoins\n",
    "                knownResults[change - 1] = minCoins #在对应面值的位置上记下所需硬币数量\n",
    "    return minCoins"
   ]
  },
  {
   "cell_type": "code",
   "execution_count": 22,
   "id": "49a63402",
   "metadata": {
    "scrolled": true
   },
   "outputs": [
    {
     "data": {
      "text/plain": [
       "6"
      ]
     },
     "execution_count": 22,
     "metadata": {},
     "output_type": "execute_result"
    }
   ],
   "source": [
    "recDC([1, 5, 10, 25], 63, [0]*63) "
   ]
  },
  {
   "cell_type": "markdown",
   "id": "570b536d",
   "metadata": {},
   "source": [
    "# 找零问题的动态规划方法"
   ]
  },
  {
   "cell_type": "code",
   "execution_count": 23,
   "id": "9a00f524",
   "metadata": {},
   "outputs": [],
   "source": [
    "#真正的动态规划算法会用更系统化的方法来解决问题\n",
    "#在解决找零问题时，动态规划算法会从 1 分找零开始，然后系统地一直计算到所需的找零金额\n",
    "#这样做可以保证在每一步都已经知道任何小于当前值的找零金额所需的最少硬币数"
   ]
  },
  {
   "cell_type": "code",
   "execution_count": 25,
   "id": "f4b9e3a3",
   "metadata": {},
   "outputs": [],
   "source": [
    "def dpMakeChange(coinValueList, change, minCoins, coinsUsed): #硬币面值列表、找零金额、由每一个找零金额所需的最少硬币数构成的列表、用于找零的硬币的列表\n",
    "    for cents in range(change+1): #构建一个由1到change的表，计算每个找零面值的最小硬币数\n",
    "        coinCount = cents #最小硬币数初始化为当前找零金额\n",
    "        newCoin = 1\n",
    "        for j in [c for c in coinValueList if c <= cents]:  #对每个小于当前找零金额的硬币面值\n",
    "            if minCoins[cents-j] + 1 < coinCount: #minCoins[cents-j] + 1表示找零cents面额需要的最小硬币数\n",
    "                coinCount = minCoins[cents -j]+1\n",
    "                newCoin = j #记录下当前使用的硬币面额\n",
    "        minCoins[cents] = coinCount\n",
    "        coinsUsed[cents] = newCoin #记录在列表中以备查看\n",
    "    return minCoins[change]\n",
    "\n",
    "def printCoins(coinsUsed, change):\n",
    "    coin = change\n",
    "    while coin > 0: #只要没找干净，就继续找\n",
    "        thisCoin = coinsUsed[coin]\n",
    "        print(thisCoin)\n",
    "        coin = coin - thisCoin"
   ]
  },
  {
   "cell_type": "code",
   "execution_count": 26,
   "id": "f40c97f1",
   "metadata": {},
   "outputs": [
    {
     "data": {
      "text/plain": [
       "3"
      ]
     },
     "execution_count": 26,
     "metadata": {},
     "output_type": "execute_result"
    }
   ],
   "source": [
    "cl = [1, 5, 10, 21, 25]\n",
    "coinsUsed = [0]*64\n",
    "coinCount = [0]*64\n",
    "dpMakeChange(cl, 63, coinCount, coinsUsed)"
   ]
  },
  {
   "cell_type": "code",
   "execution_count": 27,
   "id": "fb63286b",
   "metadata": {},
   "outputs": [
    {
     "name": "stdout",
     "output_type": "stream",
     "text": [
      "21\n",
      "21\n",
      "21\n"
     ]
    }
   ],
   "source": [
    "printCoins(coinsUsed, 63)"
   ]
  },
  {
   "cell_type": "code",
   "execution_count": null,
   "id": "414626b2",
   "metadata": {},
   "outputs": [],
   "source": []
  }
 ],
 "metadata": {
  "kernelspec": {
   "display_name": "Python 3",
   "language": "python",
   "name": "python3"
  },
  "language_info": {
   "codemirror_mode": {
    "name": "ipython",
    "version": 3
   },
   "file_extension": ".py",
   "mimetype": "text/x-python",
   "name": "python",
   "nbconvert_exporter": "python",
   "pygments_lexer": "ipython3",
   "version": "3.7.4"
  }
 },
 "nbformat": 4,
 "nbformat_minor": 5
}
