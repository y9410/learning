{
 "cells": [
  {
   "cell_type": "markdown",
   "id": "4cc313ae",
   "metadata": {},
   "source": [
    "# 绘制螺旋线"
   ]
  },
  {
   "cell_type": "code",
   "execution_count": 16,
   "id": "ce0b4272",
   "metadata": {},
   "outputs": [],
   "source": [
    "from turtle import *"
   ]
  },
  {
   "cell_type": "code",
   "execution_count": 2,
   "id": "2c35c071",
   "metadata": {},
   "outputs": [],
   "source": [
    "def drawSpiral(myTurtle, lineLen):\n",
    "    if lineLen > 0: #若直线长度大于0\n",
    "        myTurtle.forward(lineLen) #向前画一条直线\n",
    "        myTurtle.right(90) #向右转90度\n",
    "        drawSpiral(myTurtle, lineLen-5) #将直线长度减5，调用自身"
   ]
  },
  {
   "cell_type": "code",
   "execution_count": 3,
   "id": "ddad97be",
   "metadata": {},
   "outputs": [],
   "source": [
    "myTurtle = Turtle() #turtle模块中的一个类\n",
    "myWin = myTurtle.getscreen()"
   ]
  },
  {
   "cell_type": "code",
   "execution_count": 4,
   "id": "94764d07",
   "metadata": {},
   "outputs": [],
   "source": [
    "drawSpiral(myTurtle, 100)\n",
    "myWin.exitonclick()"
   ]
  },
  {
   "cell_type": "markdown",
   "id": "de5eeb60",
   "metadata": {},
   "source": [
    "# 绘制分形树"
   ]
  },
  {
   "cell_type": "code",
   "execution_count": 20,
   "id": "6e7d565f",
   "metadata": {},
   "outputs": [],
   "source": [
    "from turtle import *"
   ]
  },
  {
   "cell_type": "code",
   "execution_count": 21,
   "id": "4ef6e2a4",
   "metadata": {},
   "outputs": [],
   "source": [
    "def tree(branchLen, t):\n",
    "    if branchLen > 5: #只要树杈长度大于5，则继续绘制\n",
    "        t.forward(branchLen)\n",
    "        t.right(20)\n",
    "        tree(branchLen-15, t)\n",
    "        t.left(40) #抵消之前右转的 20度，然后再继续左转 20 度来绘制左子树\n",
    "        tree(branchLen-15, t)\n",
    "        t.right(20) #把方向调正\n",
    "        t.backward(branchLen) #退回上一个分叉"
   ]
  },
  {
   "cell_type": "code",
   "execution_count": 18,
   "id": "ab2be7d1",
   "metadata": {},
   "outputs": [],
   "source": [
    "t = Turtle()\n",
    "myWin = t.getscreen()\n",
    "t.left(90)\n",
    "t.up()\n",
    "t.backward(300)\n",
    "t.down()\n",
    "t.color('green')"
   ]
  },
  {
   "cell_type": "code",
   "execution_count": 19,
   "id": "036835a8",
   "metadata": {},
   "outputs": [],
   "source": [
    "tree(110, t)\n",
    "myWin.exitonclick() "
   ]
  },
  {
   "cell_type": "markdown",
   "id": "0c4f1d72",
   "metadata": {},
   "source": [
    "# 谢尔平斯基三角形"
   ]
  },
  {
   "cell_type": "code",
   "execution_count": 22,
   "id": "bfa4880e",
   "metadata": {},
   "outputs": [],
   "source": [
    "#基本情况：分割次数，也称为分形图的“度”，每进行一次递归调用，就将度减 1，直到度是 0 为止"
   ]
  },
  {
   "cell_type": "code",
   "execution_count": 1,
   "id": "c15b17cc",
   "metadata": {},
   "outputs": [],
   "source": [
    "from turtle import *"
   ]
  },
  {
   "cell_type": "code",
   "execution_count": 2,
   "id": "34ea809a",
   "metadata": {},
   "outputs": [],
   "source": [
    "def drawTriangle(points, color, myTurtle):\n",
    "    myTurtle.fillcolor(color)\n",
    "    myTurtle.up()\n",
    "    myTurtle.goto(points[0])\n",
    "    myTurtle.down()\n",
    "    myTurtle.begin_fill()\n",
    "    myTurtle.goto(points[1])\n",
    "    myTurtle.goto(points[2])\n",
    "    myTurtle.goto(points[0])\n",
    "    myTurtle.end_fill()\n",
    "\n",
    "def getMid(p1, p2): #接受两个点作为输入，并返回它们的中点\n",
    "    return ( (p1[0]+p2[0]) /2, (p1[1] + p2[1]) / 2)\n",
    "\n",
    "def sierpinski(points, degree, myTurtle):\n",
    "    colormap = ['blue', 'red', 'green', 'white', 'yellow', 'violet', 'orange']\n",
    "    drawTriangle(points, colormap[degree], myTurtle)\n",
    "    if degree > 0:\n",
    "        sierpinski([points[0], getMid(points[0], points[1]), getMid(points[0], points[2])], degree-1, myTurtle)\n",
    "        sierpinski([points[1], getMid(points[0], points[1]), getMid(points[1], points[2])], degree-1, myTurtle)\n",
    "        sierpinski([points[2], getMid(points[2], points[1]), getMid(points[0], points[2])], degree-1, myTurtle)"
   ]
  },
  {
   "cell_type": "code",
   "execution_count": 3,
   "id": "71494bbb",
   "metadata": {},
   "outputs": [],
   "source": [
    "myTurtle = Turtle()\n",
    "myWin = myTurtle.getscreen()\n",
    "myPoints = [(-250, -125), (0, 250), (250, -125)]\n",
    "sierpinski(myPoints, 2, myTurtle)\n",
    "myWin.exitonclick()"
   ]
  },
  {
   "cell_type": "code",
   "execution_count": null,
   "id": "1106d1b8",
   "metadata": {},
   "outputs": [],
   "source": []
  }
 ],
 "metadata": {
  "kernelspec": {
   "display_name": "Python 3",
   "language": "python",
   "name": "python3"
  },
  "language_info": {
   "codemirror_mode": {
    "name": "ipython",
    "version": 3
   },
   "file_extension": ".py",
   "mimetype": "text/x-python",
   "name": "python",
   "nbconvert_exporter": "python",
   "pygments_lexer": "ipython3",
   "version": "3.7.4"
  }
 },
 "nbformat": 4,
 "nbformat_minor": 5
}
