{
 "cells": [
  {
   "cell_type": "code",
   "execution_count": 1,
   "id": "9d7498a5",
   "metadata": {},
   "outputs": [],
   "source": [
    "#基本情况：把一个盘子移动到第三根柱子"
   ]
  },
  {
   "cell_type": "code",
   "execution_count": 2,
   "id": "4a5807ab",
   "metadata": {},
   "outputs": [],
   "source": [
    "def moveTower(height, fromPole, toPole, withPole): #第二个参数表示一开始有盘子的位置，第三个参数表示盘子移动的终点位置，第四个参数表示要借助的位置\n",
    "    if height >= 1:\n",
    "        '''每一次调用移动函数时，起点柱和终点柱的位置都会变'''\n",
    "        moveTower(height-1, fromPole, withPole, toPole) #借助终点柱子，将高度为 height − 1 的一叠盘子移到中间柱子\n",
    "        moveDisk(fromPole, toPole) #把最后一个盘子移动到终点位置\n",
    "        moveTower(height-1, withPole, toPole, fromPole) #借助起点柱子，将高度为 height − 1 的一叠盘子从中间柱子移到终点柱子\n",
    "\n",
    "def moveDisk(fp, tp):\n",
    "    print(\"moving disk from %d to %d\\n\" % (fp, tp))"
   ]
  },
  {
   "cell_type": "code",
   "execution_count": 3,
   "id": "175eec75",
   "metadata": {},
   "outputs": [
    {
     "name": "stdout",
     "output_type": "stream",
     "text": [
      "moving disk from 1 to 2\n",
      "\n",
      "moving disk from 1 to 3\n",
      "\n",
      "moving disk from 2 to 3\n",
      "\n"
     ]
    }
   ],
   "source": [
    "moveTower(2, 1, 3, 2)"
   ]
  }
 ],
 "metadata": {
  "kernelspec": {
   "display_name": "Python 3",
   "language": "python",
   "name": "python3"
  },
  "language_info": {
   "codemirror_mode": {
    "name": "ipython",
    "version": 3
   },
   "file_extension": ".py",
   "mimetype": "text/x-python",
   "name": "python",
   "nbconvert_exporter": "python",
   "pygments_lexer": "ipython3",
   "version": "3.7.4"
  }
 },
 "nbformat": 4,
 "nbformat_minor": 5
}
