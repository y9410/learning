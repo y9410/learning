{
 "cells": [
  {
   "cell_type": "markdown",
   "id": "9109f343",
   "metadata": {},
   "source": [
    "# 幂剩余"
   ]
  },
  {
   "cell_type": "code",
   "execution_count": 1,
   "id": "32e47ad6",
   "metadata": {},
   "outputs": [],
   "source": [
    "def modexp(x, n, p): #计算x的n次幂除以p的余数\n",
    "    if n == 0:\n",
    "        return 1\n",
    "    t = (x * x) % p\n",
    "    tmp = modexp(t, n//2, p)\n",
    "    if n%2 != 0:\n",
    "        tmp = (tmp * x) % p\n",
    "    return tmp"
   ]
  },
  {
   "cell_type": "code",
   "execution_count": 6,
   "id": "c8a1c2c8",
   "metadata": {},
   "outputs": [
    {
     "data": {
      "text/plain": [
       "2"
      ]
     },
     "execution_count": 6,
     "metadata": {},
     "output_type": "execute_result"
    }
   ],
   "source": [
    " modexp(23, 1, 7)"
   ]
  },
  {
   "cell_type": "markdown",
   "id": "337db781",
   "metadata": {},
   "source": [
    "# 最大公因数与逆元"
   ]
  },
  {
   "cell_type": "code",
   "execution_count": 8,
   "id": "720957c6",
   "metadata": {},
   "outputs": [],
   "source": [
    "def ext_gcd(x, y):\n",
    "    if y == 0:\n",
    "        return(x, 1, 0) #x=1*x+0*y\n",
    "    else:\n",
    "        (d, a, b) = ext_gcd(y, x%y) #d=gcd(x,y)=ax+by=gcd(y, x%y)=ay+b(x%y)=bx+[a-(x//y)*b]y\n",
    "        return(d, b, a-(x//y)*b) #返回：(最大公因数,x的系数,y的系数)（若d=1，则y的系数是y关于modx的一个逆元）"
   ]
  },
  {
   "cell_type": "code",
   "execution_count": 9,
   "id": "de601590",
   "metadata": {
    "scrolled": true
   },
   "outputs": [
    {
     "data": {
      "text/plain": [
       "(1, 4, -11)"
      ]
     },
     "execution_count": 9,
     "metadata": {},
     "output_type": "execute_result"
    }
   ],
   "source": [
    "ext_gcd(25, 9)"
   ]
  },
  {
   "cell_type": "markdown",
   "id": "bbd8f16a",
   "metadata": {},
   "source": [
    "# RSA算法"
   ]
  },
  {
   "cell_type": "code",
   "execution_count": 10,
   "id": "5566e908",
   "metadata": {},
   "outputs": [],
   "source": [
    "def RSAgenKeys(p, q):\n",
    "    n = p * q\n",
    "    pqminus = (p-1) * (q-1)\n",
    "    e = int(random.random() * n) #random.random() 返回一个0到1的随机数\n",
    "    while gcd(pqminus, e) != 1:\n",
    "        e = int(random.random() * n) #随机到一个与pqminus互质的e\n",
    "        d, a, b = ext_gcd(pqminus, e) #成一个e(mod pqminus)的逆元d（[a*pqminus+b*e](mod pqminus)=1）\n",
    "    '''保证d大于0'''\n",
    "    if b < 0:\n",
    "        d = pqminus + b\n",
    "    else:\n",
    "        d = b\n",
    "    return((e, d, n))\n",
    "    \n",
    "def RSAencrypt(m,e,n): #加密\n",
    "    '''bit_length()返回n用二进制表示的位数，再整除8得到m的16进制表示的位数上限，\n",
    "    因为每个字符由两个数表示，因此字节数还要×2。得到字符串m分割后每一块的位数。'''\n",
    "    chunks = toChunks(m, n.bit_length() // 8 * 2)\n",
    "    encList = []\n",
    "    for messChunk in chunks:\n",
    "        c = modexp(messChunk, e, n) #模指数运算：计算messChunk^e(mod n)\n",
    "        encList.append(c)\n",
    "    return encList\n",
    "    \n",
    "def RSAdecrypt(chunkList, d, n): #解密\n",
    "    rList = []\n",
    "    for c in chunkList:\n",
    "        m = modexp(c,d,n)\n",
    "        rList.append(m)\n",
    "    return chunksToPlain(rList, n.bit_length() // 8 * 2)"
   ]
  },
  {
   "cell_type": "code",
   "execution_count": 11,
   "id": "55355659",
   "metadata": {},
   "outputs": [],
   "source": [
    "'''将字符串转换为数字块列表'''\n",
    "def toChunks(m, chunkSize):\n",
    "    byteMess = bytes(m, 'utf-8') #用utf-8的编码返回m的编码\n",
    "    hexString = '' #hex表示16进制\n",
    "    for b in byteMess:\n",
    "        hexString = hexString + (\"%02x\" % b) #表示用16进制输出每一个字符，且每个字符都是两位（这样可以自动补0）\n",
    "\n",
    "    numChunks = len(hexString) // chunkSize #计算块数\n",
    "    chunkList = []\n",
    "    for i in range(0, numChunks*chunkSize+1, chunkSize): #将完整的字符串切割成numChunks块小字符串\n",
    "        chunkList.append(hexString[i:i+chunkSize])\n",
    "    chunkList = [eval('0x'+x) for x in chunkList if x] #'0x'表示16进制转10进制，将列表中的字符全部转换为10进制的数\n",
    "    return chunkList\n",
    "    \n",
    "def chunksToPlain(clist, chunkSize):\n",
    "    hexList = []\n",
    "    for c in clist:\n",
    "        hexString = hex(c)[2:] #将c转换为16进制字符串，[2:]意思是从第三位开始表示，是因为16进制字符串前两位是指示符0x\n",
    "        clen = len(hexString)\n",
    "        hexList.append('0' * ((chunkSize - clen) % 2) + hexString) #补0\n",
    "    \n",
    "    hstring = \"\".join(hexList)\n",
    "    messArray = bytearray.fromhex(hstring)\n",
    "    return messArray.decode('utf-8')"
   ]
  },
  {
   "cell_type": "code",
   "execution_count": null,
   "id": "33c298bd",
   "metadata": {},
   "outputs": [],
   "source": []
  }
 ],
 "metadata": {
  "kernelspec": {
   "display_name": "Python 3",
   "language": "python",
   "name": "python3"
  },
  "language_info": {
   "codemirror_mode": {
    "name": "ipython",
    "version": 3
   },
   "file_extension": ".py",
   "mimetype": "text/x-python",
   "name": "python",
   "nbconvert_exporter": "python",
   "pygments_lexer": "ipython3",
   "version": "3.7.4"
  }
 },
 "nbformat": 4,
 "nbformat_minor": 5
}
