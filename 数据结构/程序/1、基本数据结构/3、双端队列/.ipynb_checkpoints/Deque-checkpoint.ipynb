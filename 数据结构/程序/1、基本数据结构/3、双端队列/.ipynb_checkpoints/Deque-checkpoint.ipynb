{
 "cells": [
  {
   "cell_type": "code",
   "execution_count": 1,
   "id": "de3185e7",
   "metadata": {},
   "outputs": [],
   "source": [
    "#双端队列是与队列类似的有序集合\n",
    "#它有一前、一后两端，元素在其中保持自己的位置\n",
    "#与队列不同的是，双端队列对在哪一端添加和移除元素没有任何限制"
   ]
  },
  {
   "cell_type": "code",
   "execution_count": 3,
   "id": "b578a4e2",
   "metadata": {},
   "outputs": [],
   "source": [
    "class Deque: #创建一个空的双端队列。它不需要参数，且会返回一个空的双端队列\n",
    "    def __init__(self):\n",
    "        self.items = []\n",
    "\n",
    "    def isEmpty(self): #检查双端队列是否为空。它不需要参数，且会返回一个布尔值\n",
    "        return self.items == []\n",
    "\n",
    "    def addFront(self, item): #将一个元素添加到双端队列的前端。它接受一个元素作为参数，没有返回值。复杂度：O(1)\n",
    "        self.items.append(item)\n",
    "\n",
    "    def addRear(self, item): #将一个元素添加到双端队列的后端。它接受一个元素作为参数，没有返回值。复杂度：O(n)\n",
    "        self.items.insert(0, item)\n",
    "\n",
    "    def removeFront(self): #从双端队列的前端移除一个元素。它不需要参数，且会返回一个元素，并修改双端队列的内容。复杂度：O(1)\n",
    "        return self.items.pop()\n",
    "\n",
    "    def removeRear(self): #从双端队列的后端移除一个元素。它不需要参数，且会返回一个元素，并修改双端队列的内容。复杂度：O(n)\n",
    "        return self.items.pop(0)\n",
    "\n",
    "    def size(self): #返回双端队列中元素的数目。它不需要参数，且会返回一个整数\n",
    "        return len(self.items)"
   ]
  },
  {
   "cell_type": "code",
   "execution_count": null,
   "id": "ec5fae30",
   "metadata": {},
   "outputs": [],
   "source": []
  }
 ],
 "metadata": {
  "kernelspec": {
   "display_name": "Python 3",
   "language": "python",
   "name": "python3"
  },
  "language_info": {
   "codemirror_mode": {
    "name": "ipython",
    "version": 3
   },
   "file_extension": ".py",
   "mimetype": "text/x-python",
   "name": "python",
   "nbconvert_exporter": "python",
   "pygments_lexer": "ipython3",
   "version": "3.7.4"
  }
 },
 "nbformat": 4,
 "nbformat_minor": 5
}
