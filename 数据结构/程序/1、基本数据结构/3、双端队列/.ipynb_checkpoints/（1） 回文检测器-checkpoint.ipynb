{
 "cells": [
  {
   "cell_type": "code",
   "execution_count": 1,
   "id": "3a2cc468",
   "metadata": {},
   "outputs": [],
   "source": [
    "#回文是指从前往后读和从后往前读都一样的字符串，例如 radar、 toot，以及 madam\n",
    "#构建一个程序，它接受一个字符串并且检测其是否为回文"
   ]
  },
  {
   "cell_type": "code",
   "execution_count": 2,
   "id": "07aef57d",
   "metadata": {},
   "outputs": [],
   "source": [
    "#使用一个双端队列来存储字符串中的字符。按从左往右的顺序将字符串中的字符添加到双端队列的后端\n",
    "#由于可以从前后两端移除元素，因此我们能够比较两个元素，并且只有在二者相等时才继续\n",
    "#如果一直匹配第一个和最后一个元素，最终会处理完所有的字符（如果字符数是偶数），或者剩下只有一个元素的双端队列（如果字符数是奇数）\n",
    "#任意一种结果都表明输入字符串是回文"
   ]
  },
  {
   "cell_type": "code",
   "execution_count": 3,
   "id": "6324a61c",
   "metadata": {},
   "outputs": [],
   "source": [
    "from Deque import Deque"
   ]
  },
  {
   "cell_type": "code",
   "execution_count": 4,
   "id": "e8535809",
   "metadata": {},
   "outputs": [],
   "source": [
    "def palchecker(aString):\n",
    "    chardeque = Deque()\n",
    "\n",
    "    for ch in aString: #将输入的字符串加入双端队列\n",
    "        chardeque.addRear(ch)\n",
    "\n",
    "    stillEqual = True #前后字母是否相等\n",
    "\n",
    "    while chardeque.size() > 1 and stillEqual:\n",
    "        first = chardeque.removeFront()\n",
    "        last = chardeque.removeRear()\n",
    "        if first != last: #若前后字母不相等，则不是回文\n",
    "            stillEqual = False\n",
    "\n",
    "    return stillEqual"
   ]
  },
  {
   "cell_type": "code",
   "execution_count": 5,
   "id": "98895117",
   "metadata": {},
   "outputs": [
    {
     "data": {
      "text/plain": [
       "False"
      ]
     },
     "execution_count": 5,
     "metadata": {},
     "output_type": "execute_result"
    }
   ],
   "source": [
    "palchecker(\"lsdkjfskf\")"
   ]
  },
  {
   "cell_type": "code",
   "execution_count": 6,
   "id": "9a87be96",
   "metadata": {},
   "outputs": [
    {
     "data": {
      "text/plain": [
       "True"
      ]
     },
     "execution_count": 6,
     "metadata": {},
     "output_type": "execute_result"
    }
   ],
   "source": [
    "palchecker(\"toot\")"
   ]
  },
  {
   "cell_type": "code",
   "execution_count": null,
   "id": "9976357c",
   "metadata": {},
   "outputs": [],
   "source": []
  }
 ],
 "metadata": {
  "kernelspec": {
   "display_name": "Python 3",
   "language": "python",
   "name": "python3"
  },
  "language_info": {
   "codemirror_mode": {
    "name": "ipython",
    "version": 3
   },
   "file_extension": ".py",
   "mimetype": "text/x-python",
   "name": "python",
   "nbconvert_exporter": "python",
   "pygments_lexer": "ipython3",
   "version": "3.7.4"
  }
 },
 "nbformat": 4,
 "nbformat_minor": 5
}
