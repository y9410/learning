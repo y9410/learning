{
 "cells": [
  {
   "cell_type": "code",
   "execution_count": 1,
   "id": "e9743789",
   "metadata": {},
   "outputs": [],
   "source": [
    "#只有中序表达式需要额外的符号来消除歧义\n",
    "#前序表达式和后序表达式的运算顺序完全由运算符的位置决定"
   ]
  },
  {
   "cell_type": "markdown",
   "id": "7c8e20ee",
   "metadata": {},
   "source": [
    "# 从中序到后序的通用转换法"
   ]
  },
  {
   "cell_type": "code",
   "execution_count": 2,
   "id": "1f6415a6",
   "metadata": {},
   "outputs": [],
   "source": [
    "#创建用于保存运算符的空栈 opstack，以及一个用于保存结果的空列表\n",
    "#如果标记是操作数，将其添加到结果列表的末尾\n",
    "#如果标记是左括号，将其压入 opstack 栈中\n",
    "#如果标记是右括号，反复从 opstack 栈中移除元素，直到移除对应的左括号。将从栈中取出的每一个运算符都添加到结果列表的末尾\n",
    "#如果标记是运算符，将其压入 opstack 栈中。但是，在这之前，需要先从栈中取出优先级更高或相同的运算符，并将它们添加到结果列表的末尾\n",
    "# 当处理完输入表达式以后，检查 opstack。将其中所有残留的运算符全部添加到结果列表的末尾"
   ]
  },
  {
   "cell_type": "code",
   "execution_count": 4,
   "id": "28798398",
   "metadata": {},
   "outputs": [],
   "source": [
    "from Stack import Stack\n",
    "import string"
   ]
  },
  {
   "cell_type": "code",
   "execution_count": 18,
   "id": "8b3fdb1c",
   "metadata": {},
   "outputs": [],
   "source": [
    "def infixToPostfix(infixexpr): #必须输入一个一空格分隔的中序表达式\n",
    "    '''定义操作符优先级'''\n",
    "    prec = {}\n",
    "    prec[\"*\"] = 3\n",
    "    prec[\"/\"] = 3\n",
    "    prec[\"+\"] = 2\n",
    "    prec[\"-\"] = 2\n",
    "    prec[\"(\"] = 1\n",
    "\n",
    "    opStack = Stack()\n",
    "    postfixList = []\n",
    "\n",
    "    tokenList = infixexpr.split() #将输入的列表进行分割\n",
    "\n",
    "    for token in tokenList:\n",
    "        if token in string.ascii_uppercase:\n",
    "            postfixList.append(token)\n",
    "        elif token == '(': #将左括号压入栈\n",
    "            opStack.push(token)\n",
    "        elif token == ')': #若碰到右括号，则弹出栈中最上面的运算符，直至弹出左括号\n",
    "            topToken = opStack.pop()\n",
    "            while topToken != '(':\n",
    "                postfixList.append(topToken)\n",
    "                topToken = opStack.pop()\n",
    "        else: #对运算符进行判断\n",
    "            while (not opStack.isEmpty()) and (prec[opStack.peek()] >= prec[token]): #若新运算符的优先级更小，则将栈中最上方的运算符移出栈并加入列表\n",
    "                postfixList.append(opStack.pop())\n",
    "            opStack.push(token)\n",
    "\n",
    "    while not opStack.isEmpty(): #将栈清空，运算符全部移至列表中\n",
    "        postfixList.append(opStack.pop())\n",
    "\n",
    "    return \" \".join(postfixList)"
   ]
  },
  {
   "cell_type": "code",
   "execution_count": 19,
   "id": "78fb691a",
   "metadata": {},
   "outputs": [
    {
     "data": {
      "text/plain": [
       "'A B + C D + *'"
      ]
     },
     "execution_count": 19,
     "metadata": {},
     "output_type": "execute_result"
    }
   ],
   "source": [
    "infixToPostfix(\"( A + B ) * ( C + D )\")"
   ]
  },
  {
   "cell_type": "markdown",
   "id": "402fe4b1",
   "metadata": {},
   "source": [
    "# 计算后序表达式"
   ]
  },
  {
   "cell_type": "code",
   "execution_count": 12,
   "id": "ebffe7b9",
   "metadata": {},
   "outputs": [],
   "source": [
    "#创建用于保存运算符的空栈 opstack\n",
    "#如果标记是操作数，将其转换成整数并且压入 operandStack 栈中\n",
    "#如果标记是运算符，从 operandStack 栈中取出两个操作数。第一次取出右操作数，第二次取出左操作数。进行相应的算术运算，然后将运算结果压入 operandStack 栈中\n",
    "#当处理完输入表达式时，栈中的值就是结果。将其从栈中返回"
   ]
  },
  {
   "cell_type": "code",
   "execution_count": 17,
   "id": "4d346ffb",
   "metadata": {},
   "outputs": [],
   "source": [
    "def postfixEval(postfixExpr):\n",
    "    operandStack = Stack()\n",
    "    \n",
    "    tokenList = postfixExpr.split()\n",
    "    \n",
    "    for token in tokenList:\n",
    "        if token in \"0123456789\": #将操作数压入栈中\n",
    "            operandStack.push(int(token))\n",
    "        else: #碰到运算符时计算\n",
    "            operand2 = operandStack.pop()\n",
    "            operand1 = operandStack.pop()\n",
    "            result = doMath(token, operand1, operand2)\n",
    "            operandStack.push(result)\n",
    "\n",
    "    return operandStack.pop()\n",
    "\n",
    "def doMath(op, op1, op2): #返回两个操作数的计算结果\n",
    "    if op == \"*\":\n",
    "        return op1 * op2\n",
    "    elif op == \"/\":\n",
    "        return op1 / op2\n",
    "    elif op == \"+\":\n",
    "        return op1 + op2\n",
    "    else:\n",
    "        return op1 - op2"
   ]
  },
  {
   "cell_type": "code",
   "execution_count": 20,
   "id": "89493e35",
   "metadata": {},
   "outputs": [
    {
     "data": {
      "text/plain": [
       "3.0"
      ]
     },
     "execution_count": 20,
     "metadata": {},
     "output_type": "execute_result"
    }
   ],
   "source": [
    "postfixEval('7 8 + 3 2 + /')"
   ]
  }
 ],
 "metadata": {
  "kernelspec": {
   "display_name": "Python 3",
   "language": "python",
   "name": "python3"
  },
  "language_info": {
   "codemirror_mode": {
    "name": "ipython",
    "version": 3
   },
   "file_extension": ".py",
   "mimetype": "text/x-python",
   "name": "python",
   "nbconvert_exporter": "python",
   "pygments_lexer": "ipython3",
   "version": "3.7.4"
  }
 },
 "nbformat": 4,
 "nbformat_minor": 5
}
