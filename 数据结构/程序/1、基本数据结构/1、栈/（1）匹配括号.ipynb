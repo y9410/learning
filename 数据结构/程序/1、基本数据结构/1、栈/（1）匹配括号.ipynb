{
 "cells": [
  {
   "cell_type": "code",
   "execution_count": 1,
   "id": "46ba9aab",
   "metadata": {},
   "outputs": [],
   "source": [
    "#匹配括号是指每一个左括号都有与之对应的一个右括号，并且括号对有正确的嵌套关系"
   ]
  },
  {
   "cell_type": "code",
   "execution_count": 2,
   "id": "afeffbfd",
   "metadata": {},
   "outputs": [],
   "source": [
    "#由一个空栈开始，从左往右依次处理括号\n",
    "#如果遇到左括号，便通过 push 操作将其加入栈中，以此表示稍后需要有一个与之匹配的右括号\n",
    "#反之，如果遇到右括号，就调用 pop 操作\n",
    "#在处理完匹配的括号串之后，栈应该是空的"
   ]
  },
  {
   "cell_type": "code",
   "execution_count": 16,
   "id": "27458a08",
   "metadata": {},
   "outputs": [],
   "source": [
    "from Stack import Stack"
   ]
  },
  {
   "cell_type": "markdown",
   "id": "ead5544f",
   "metadata": {},
   "source": [
    "# 仅匹配小括号"
   ]
  },
  {
   "cell_type": "code",
   "execution_count": 27,
   "id": "88ae79dd",
   "metadata": {},
   "outputs": [],
   "source": [
    "#从左到右读取一个括号串，然后判断其中的括号是否匹配\n",
    "def parChecker(symbolString):\n",
    "    s = Stack()\n",
    "    balanced = True #判断左右是否匹配\n",
    "    index = 0\n",
    "    while index < len(symbolString) and balanced:\n",
    "        symbol = symbolString[index]\n",
    "        if symbol == \"(\": #如果当前的符号是左括号，它就会被压入栈中\n",
    "            s.push(symbol)\n",
    "        else:\n",
    "            if s.isEmpty():\n",
    "                balanced = False\n",
    "            else: #遇到右括号，则弹出对应的左括号\n",
    "                s.pop() \n",
    "        \n",
    "        index = index + 1\n",
    "    \n",
    "    if balanced and s.isEmpty(): #只要所有括号匹配并且栈为空，函数就会返回 True\n",
    "        return True\n",
    "    else: #否则返回 False\n",
    "        return False"
   ]
  },
  {
   "cell_type": "code",
   "execution_count": 29,
   "id": "b6629629",
   "metadata": {},
   "outputs": [
    {
     "data": {
      "text/plain": [
       "False"
      ]
     },
     "execution_count": 29,
     "metadata": {},
     "output_type": "execute_result"
    }
   ],
   "source": [
    "parChecker(\"())\")"
   ]
  },
  {
   "cell_type": "markdown",
   "id": "54e21a2d",
   "metadata": {},
   "source": [
    "# 普通情况：匹配符号"
   ]
  },
  {
   "cell_type": "code",
   "execution_count": 32,
   "id": "903604ac",
   "metadata": {},
   "outputs": [],
   "source": [
    "def parCheckerPlus(symbolString):\n",
    "    s = Stack()\n",
    "    \n",
    "    balanced = True\n",
    "    index = 0\n",
    "\n",
    "    while index < len(symbolString) and balanced:\n",
    "        symbol = symbolString[index]\n",
    "        if symbol in \"([{\":\n",
    "            s.push(symbol)\n",
    "        else:\n",
    "            if s.isEmpty():\n",
    "                balanced = False\n",
    "            else:\n",
    "                top = s.pop()\n",
    "                if not matches(top, symbol): #判断左右括号是否匹配\n",
    "                    balanced = False\n",
    "        \n",
    "        index = index + 1\n",
    "    \n",
    "    if balanced and s.isEmpty():\n",
    "        return True\n",
    "    else:\n",
    "        return False\n",
    "\n",
    "def matches(open, close):\n",
    "    opens = \"([{\"\n",
    "    closers = \")]}\"\n",
    "    return opens.index(open) == closers.index(close)"
   ]
  },
  {
   "cell_type": "code",
   "execution_count": 34,
   "id": "b9650a66",
   "metadata": {
    "scrolled": true
   },
   "outputs": [
    {
     "data": {
      "text/plain": [
       "True"
      ]
     },
     "execution_count": 34,
     "metadata": {},
     "output_type": "execute_result"
    }
   ],
   "source": [
    "parCheckerPlus(\"{{([][])}()}\")"
   ]
  }
 ],
 "metadata": {
  "kernelspec": {
   "display_name": "Python 3",
   "language": "python",
   "name": "python3"
  },
  "language_info": {
   "codemirror_mode": {
    "name": "ipython",
    "version": 3
   },
   "file_extension": ".py",
   "mimetype": "text/x-python",
   "name": "python",
   "nbconvert_exporter": "python",
   "pygments_lexer": "ipython3",
   "version": "3.7.4"
  }
 },
 "nbformat": 4,
 "nbformat_minor": 5
}
