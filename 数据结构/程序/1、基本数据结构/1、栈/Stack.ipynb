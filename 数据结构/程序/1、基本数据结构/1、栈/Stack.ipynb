{
 "cells": [
  {
   "cell_type": "markdown",
   "id": "f88e44de",
   "metadata": {},
   "source": [
    "# 构造栈"
   ]
  },
  {
   "cell_type": "code",
   "execution_count": 8,
   "id": "68cae912",
   "metadata": {},
   "outputs": [],
   "source": [
    "#栈的实现（假设列表的尾部是栈的顶端）\n",
    "class Stack: #创建一个空栈。它不需要参数，且会返回一个空栈\n",
    "    def __init__(self):\n",
    "        self.items = []\n",
    "\n",
    "    def isEmpty(self): #将一个元素添加到栈的顶端。它需要一个参数 item，且无返回值\n",
    "        return self.items == []\n",
    "\n",
    "    def push(self, item): #将栈顶端的元素移除。它不需要参数，但会返回顶端的元素，并且修改栈的内容。复杂度：O(1)\n",
    "        self.items.append(item)\n",
    "\n",
    "    def pop(self): #返回栈顶端的元素，但是并不移除该元素。它不需要参数，也不会修改栈的内容。复杂度：O(1)\n",
    "        return self.items.pop()\n",
    "\n",
    "    def peek(self): #检查栈是否为空。它不需要参数，且会返回一个布尔值\n",
    "        return self.items[len(self.items)-1]\n",
    "        \n",
    "    def size(self): #返回栈中元素的数目。它不需要参数，且会返回一个整数\n",
    "        return len(self.items)"
   ]
  },
  {
   "cell_type": "code",
   "execution_count": null,
   "id": "8416ab9a",
   "metadata": {},
   "outputs": [],
   "source": []
  }
 ],
 "metadata": {
  "kernelspec": {
   "display_name": "Python 3",
   "language": "python",
   "name": "python3"
  },
  "language_info": {
   "codemirror_mode": {
    "name": "ipython",
    "version": 3
   },
   "file_extension": ".py",
   "mimetype": "text/x-python",
   "name": "python",
   "nbconvert_exporter": "python",
   "pygments_lexer": "ipython3",
   "version": "3.7.4"
  }
 },
 "nbformat": 4,
 "nbformat_minor": 5
}
