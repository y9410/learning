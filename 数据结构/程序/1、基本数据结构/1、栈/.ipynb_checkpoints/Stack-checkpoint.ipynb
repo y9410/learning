{
 "cells": [
  {
   "cell_type": "markdown",
   "id": "bfb46a61",
   "metadata": {},
   "source": [
    "# 构造栈"
   ]
  },
  {
   "cell_type": "code",
   "execution_count": 4,
   "id": "41a35256",
   "metadata": {},
   "outputs": [],
   "source": [
    "#栈的实现（假设列表的尾部是栈的顶端）\n",
    "class Stack: #创建一个空栈。它不需要参数，且会返回一个空栈\n",
    "    def __init__(self):\n",
    "        self.items = []\n",
    "\n",
    "    def isEmpty(self): #将一个元素添加到栈的顶端。它需要一个参数 item，且无返回值\n",
    "        return self.items == []\n",
    "\n",
    "    def push(self, item): #将栈顶端的元素移除。它不需要参数，但会返回顶端的元素，并且修改栈的内容。复杂度：O(1)\n",
    "        self.items.append(item)\n",
    "\n",
    "    def pop(self): #返回栈顶端的元素，但是并不移除该元素。它不需要参数，也不会修改栈的内容。复杂度：O(1)\n",
    "        return self.items.pop()\n",
    "\n",
    "    def peek(self): #检查栈是否为空。它不需要参数，且会返回一个布尔值\n",
    "        return self.items[len(self.items)-1]\n",
    "        \n",
    "    def size(self): #返回栈中元素的数目。它不需要参数，且会返回一个整数\n",
    "        return len(self.items)"
   ]
  },
  {
   "cell_type": "markdown",
   "id": "93033a11",
   "metadata": {},
   "source": [
    "# 匹配括号"
   ]
  },
  {
   "cell_type": "code",
   "execution_count": 5,
   "id": "12091023",
   "metadata": {},
   "outputs": [],
   "source": [
    "#匹配括号是指每一个左括号都有与之对应的一个右括号，并且括号对有正确的嵌套关系"
   ]
  },
  {
   "cell_type": "code",
   "execution_count": 6,
   "id": "b99bbe7c",
   "metadata": {},
   "outputs": [],
   "source": [
    "#由一个空栈开始，从左往右依次处理括号\n",
    "#如果遇到左括号，便通过 push 操作将其加入栈中，以此表示稍后需要有一个与之匹配的右括号\n",
    "#反之，如果遇到右括号，就调用 pop 操作\n",
    "#在处理完匹配的括号串之后，栈应该是空的"
   ]
  },
  {
   "cell_type": "code",
   "execution_count": null,
   "id": "1de1f833",
   "metadata": {},
   "outputs": [],
   "source": []
  }
 ],
 "metadata": {
  "kernelspec": {
   "display_name": "Python 3",
   "language": "python",
   "name": "python3"
  },
  "language_info": {
   "codemirror_mode": {
    "name": "ipython",
    "version": 3
   },
   "file_extension": ".py",
   "mimetype": "text/x-python",
   "name": "python",
   "nbconvert_exporter": "python",
   "pygments_lexer": "ipython3",
   "version": "3.7.4"
  }
 },
 "nbformat": 4,
 "nbformat_minor": 5
}
