{
 "cells": [
  {
   "cell_type": "code",
   "execution_count": 2,
   "id": "4a74f7bb",
   "metadata": {},
   "outputs": [],
   "source": [
    "from Stack import Stack"
   ]
  },
  {
   "cell_type": "markdown",
   "id": "a46d32cb",
   "metadata": {},
   "source": [
    "# 将十进制数转换成二进制数"
   ]
  },
  {
   "cell_type": "code",
   "execution_count": null,
   "id": "05b71c9c",
   "metadata": {},
   "outputs": [],
   "source": [
    "#“除以 2”算法假设待处理的整数大于 0\n",
    "#它用一个简单的循环不停地将十进制数除以 2，并且记录余数\n",
    "#第一次除以 2 的结果能够用于区分偶数和奇数。如果是偶数，则余数为 0，因此个位上的数字为 0；如果是奇数，则余数为 1，因此个位上的数字为 1\n",
    "#可以将要构建的二进制数看成一系列数字,计算出的第一个余数是最后一位"
   ]
  },
  {
   "cell_type": "code",
   "execution_count": 3,
   "id": "d347917e",
   "metadata": {},
   "outputs": [],
   "source": [
    "def divideBy2(decNumber):\n",
    "    remstack = Stack()\n",
    "\n",
    "    while decNumber > 0: #当余数为0时退出\n",
    "        rem = decNumber % 2 #取余数\n",
    "        remstack.push(rem) #将求得的余数压入栈中\n",
    "        decNumber = decNumber // 2\n",
    "        \n",
    "    binString = \"\"\n",
    "    while not remstack.isEmpty():\n",
    "        binString = binString + str(remstack.pop()) #构建字符串\n",
    "    \n",
    "    return binString"
   ]
  },
  {
   "cell_type": "code",
   "execution_count": 4,
   "id": "0a73902a",
   "metadata": {},
   "outputs": [
    {
     "data": {
      "text/plain": [
       "'100'"
      ]
     },
     "execution_count": 4,
     "metadata": {},
     "output_type": "execute_result"
    }
   ],
   "source": [
    "divideBy2(4)"
   ]
  },
  {
   "cell_type": "markdown",
   "id": "2c4b0e01",
   "metadata": {},
   "source": [
    "# 将十进制数转换成任意进制数"
   ]
  },
  {
   "cell_type": "code",
   "execution_count": 5,
   "id": "1dd1f800",
   "metadata": {},
   "outputs": [],
   "source": [
    "def baseConverter(decNumber, base):\n",
    "    digits = \"0123456789ABCDEF\"\n",
    "\n",
    "    remstack = Stack()\n",
    "    \n",
    "    while decNumber > 0:\n",
    "        rem = decNumber % base\n",
    "        remstack.push(rem)\n",
    "        decNumber = decNumber // base\n",
    "\n",
    "    newString = \"\"\n",
    "    while not remstack.isEmpty():\n",
    "        newString = newString + digits[remstack.pop()]\n",
    "    \n",
    "    return newString"
   ]
  },
  {
   "cell_type": "code",
   "execution_count": 7,
   "id": "8bde60a9",
   "metadata": {
    "scrolled": true
   },
   "outputs": [
    {
     "data": {
      "text/plain": [
       "'F'"
      ]
     },
     "execution_count": 7,
     "metadata": {},
     "output_type": "execute_result"
    }
   ],
   "source": [
    "baseConverter(15, 16)"
   ]
  }
 ],
 "metadata": {
  "kernelspec": {
   "display_name": "Python 3",
   "language": "python",
   "name": "python3"
  },
  "language_info": {
   "codemirror_mode": {
    "name": "ipython",
    "version": 3
   },
   "file_extension": ".py",
   "mimetype": "text/x-python",
   "name": "python",
   "nbconvert_exporter": "python",
   "pygments_lexer": "ipython3",
   "version": "3.7.4"
  }
 },
 "nbformat": 4,
 "nbformat_minor": 5
}
