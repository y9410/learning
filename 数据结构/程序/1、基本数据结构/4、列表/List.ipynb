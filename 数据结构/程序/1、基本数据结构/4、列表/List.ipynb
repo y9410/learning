{
 "cells": [
  {
   "cell_type": "code",
   "execution_count": 1,
   "id": "1977fd04",
   "metadata": {},
   "outputs": [],
   "source": [
    "#为了实现无序列表，我们要构建链表\n",
    "#如果可以为每一个元素维护一份信息，即下一个元素的位置，那么这些元素的相对位置就能通过指向下一个元素的链接来表示\n",
    "#必须指明列表中第一个元素的位置"
   ]
  },
  {
   "cell_type": "markdown",
   "id": "dd5b81ae",
   "metadata": {},
   "source": [
    "# 节点（node）"
   ]
  },
  {
   "cell_type": "code",
   "execution_count": 4,
   "id": "ca6fb8c5",
   "metadata": {},
   "outputs": [],
   "source": [
    "#节点是构建链表的基本数据结构\n",
    "#节点必须包含列表元素，我们称之为节点的数据变量\n",
    "#节点必须保存指向下一个节点的引用"
   ]
  },
  {
   "cell_type": "code",
   "execution_count": 5,
   "id": "04514df4",
   "metadata": {},
   "outputs": [],
   "source": [
    "class Node:\n",
    "    def __init__(self, initdata):\n",
    "        self.data = initdata #节点的数据变量\n",
    "        self.next = None #节点指向下一个节点的引用（若为None，则表示没有引用）\n",
    "\n",
    "    def getData(self): #获得当前节点的数据变量\n",
    "        return self.data\n",
    "\n",
    "    def getNext(self): #获得当前节点连接的下一个节点的数据变量\n",
    "        return self.next\n",
    "\n",
    "    def setData(self, newdata): #设置当前节点的数据变量\n",
    "        self.data = newdata\n",
    "\n",
    "    def setNext(self, newnext): #设置当前节点的引用\n",
    "        self.next = newnext"
   ]
  },
  {
   "cell_type": "markdown",
   "id": "730f5062",
   "metadata": {},
   "source": [
    "# 无序列表（unordered list）"
   ]
  },
  {
   "cell_type": "code",
   "execution_count": 6,
   "id": "94fd035b",
   "metadata": {},
   "outputs": [],
   "source": [
    "#每一个节点都通过显式的引用指向下一个节点。只要知道第一个节点的位置（第一个节点包含第一个元素），其后的每一个元素都能通过下一个引用找到\n",
    "#因此， UnorderedList 类必须包含指向第一个节点的引用"
   ]
  },
  {
   "cell_type": "code",
   "execution_count": null,
   "id": "6a934b40",
   "metadata": {},
   "outputs": [],
   "source": [
    "class UnorderedList:\n",
    "    def __init__(self):\n",
    "        self.head = None #给出一个外部引用head（指向第一个节点）\n",
    "    \n",
    "    def isEmpty(self): #检查列表是否为空。它不需要参数，并且返回布尔值\n",
    "        return self.head == None\n",
    "    \n",
    "    def add(self, item):#假设元素 item 之前不在列表中，并向其中添加 item。它接受一个元素作为参数，无返回值。复杂度：O(1)\n",
    "        #为了方便，将新节点插入列表的开头\n",
    "        temp = Node(item) #每次使用add方法都会创建一个新实例（即新节点）\n",
    "        temp.setNext(self.head) #新节点指向原列表的第一个节点\n",
    "        self.head = temp #head指向新节点\n",
    "        \n",
    "    def length(self): #返回列表中元素的个数。它不需要参数，并且返回一个整数\n",
    "        current = self.head #从头开始遍历\n",
    "        count = 0\n",
    "        while current != None:\n",
    "            count = count + 1\n",
    "            current = current.getNext()\n",
    "\n",
    "        return count\n",
    "    \n",
    "    def search(self, item): #在列表中搜索元素 item。它接受一个元素作为参数，并且返回布尔值\n",
    "        current = self.head\n",
    "        found = False\n",
    "        while current != None and not found: #若没有到达末尾且没有找到目标节点\n",
    "            if current.getData() == item:\n",
    "                found = True\n",
    "            else:\n",
    "                current = current.getNext()\n",
    "\n",
    "        return found\n",
    "    \n",
    "    def remove(self, item): #设元素 item 已经在列表中，并从其中移除 item。它接受一个元素作为参数，并且修改列表\n",
    "        current = self.head\n",
    "        '''为了将包含元素的节点移除，需要将其前面的节点中的 next 引用指向 current 之后的节\n",
    "        点。然而，并没有反向遍历链表的方法。由于 current 已经指向了需要修改的节点之后的节点，\n",
    "        此时做修改为时已晚.这一困境的解决方法就是在遍历链表时使用两个外部引用'''\n",
    "        #新的引用 previous 总是指向 current 上一次访问的节点\n",
    "        #当 current 指向需要被移除的节点时， previous 就刚好指向真正需要修改的节点\n",
    "        previous = None \n",
    "        found = False\n",
    "        while not found: \n",
    "            if current.getData() == item:\n",
    "                found = True\n",
    "            else: #若没有找到要删除的节点，则一直向下遍历\n",
    "                previous = current\n",
    "                current = current.getNext()\n",
    "\n",
    "        if previous == None: #如果开头节点就是要删除的节点，直接将head设置为第二个节点\n",
    "            self.head = current.getNext()\n",
    "        else: #否则就将要删除节点的上一个节点的链接指向要删除节点的下个节点\n",
    "            previous.setNext(current.getNext())"
   ]
  },
  {
   "cell_type": "markdown",
   "id": "0c2b36cd",
   "metadata": {},
   "source": [
    "# 有序列表"
   ]
  },
  {
   "cell_type": "code",
   "execution_count": 7,
   "id": "4dde0bf5",
   "metadata": {},
   "outputs": [],
   "source": [
    "#列表中的元素按某种规律排列"
   ]
  },
  {
   "cell_type": "code",
   "execution_count": null,
   "id": "59a13622",
   "metadata": {},
   "outputs": [],
   "source": [
    "class OrderedList:\n",
    "    def __init__(self):\n",
    "        self.head = None\n",
    "    \n",
    "    '''前三种方法与无序列表相同'''\n",
    "    def isEmpty(self): #检查列表是否为空。它不需要参数，并且返回布尔值。复杂度：O(1)\n",
    "        return self.head == None\n",
    "    \n",
    "    def length(self): #返回列表中元素的个数。它不需要参数，并且返回一个整数。复杂度：O(n)\n",
    "        current = self.head #从头开始遍历\n",
    "        count = 0\n",
    "        while current != None:\n",
    "            count = count + 1\n",
    "            current = current.getNext()\n",
    "    \n",
    "     def remove(self, item): #设元素 item 已经在列表中，并从其中移除 item。它接受一个元素作为参数，并且修改列表。复杂度：O(n)\n",
    "        current = self.head\n",
    "        previous = None \n",
    "        found = False\n",
    "        while not found: \n",
    "            if current.getData() == item:\n",
    "                found = True\n",
    "            else: \n",
    "                previous = current\n",
    "                current = current.getNext()\n",
    "\n",
    "        if previous == None:\n",
    "            self.head = current.getNext()\n",
    "        else:\n",
    "            previous.setNext(current.getNext())\n",
    "        \n",
    "        '''如果目标元素不在列表中，可以利用元素有序排列这一特性尽早终止搜索'''\n",
    "        def search(self, item): #复杂度：O(n)\n",
    "            current = self.head\n",
    "            found = False\n",
    "            stop = False\n",
    "            while current != None and not found and not stop: \n",
    "                if current.getData() == item:\n",
    "                    found = True\n",
    "                else: \n",
    "                    if current.getData() > item: #如果遇到其值大于目标元素的节点，则将 stop 设为 True,跳出循环\n",
    "                        stop = True\n",
    "                    else:\n",
    "                        current = current.getNext()\n",
    "\n",
    "            return found\n",
    "        \n",
    "        '''当访问完所有节点（ current 是 None）或者当前值大于要添加的元素时，就找到了插入位置'''\n",
    "        def add(self, item): #复杂度：O(n)\n",
    "            current = self.head\n",
    "            previous = None\n",
    "            stop = False\n",
    "            while current != None and not stop: #如果current没遍历完或者不stop\n",
    "                if current.getData() > item: #判断当前遍历到的节点数值是否比要插入的新节点数值大，如果是，则停止\n",
    "                    stop = True\n",
    "                else:\n",
    "                    previous = current\n",
    "                    current = current.getNext()\n",
    "\n",
    "            temp = Node(item) #构建这个新节点\n",
    "            if previous == None: #如果新节点数值已有节点都小，那么将新节点的next设置为原来的最小数值节点，并将head设置为新节点\n",
    "                temp.setNext(self.head)\n",
    "                self.head = temp\n",
    "            else: #否则就将新节点的next设置为遍历到的最后一个节点，并将原列表中遍历到的最后一个节点的上一节点的next设置为新节点\n",
    "                temp.setNext(current)\n",
    "                previous.setNext(temp)"
   ]
  }
 ],
 "metadata": {
  "kernelspec": {
   "display_name": "Python 3",
   "language": "python",
   "name": "python3"
  },
  "language_info": {
   "codemirror_mode": {
    "name": "ipython",
    "version": 3
   },
   "file_extension": ".py",
   "mimetype": "text/x-python",
   "name": "python",
   "nbconvert_exporter": "python",
   "pygments_lexer": "ipython3",
   "version": "3.7.4"
  }
 },
 "nbformat": 4,
 "nbformat_minor": 5
}
