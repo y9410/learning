{
 "cells": [
  {
   "cell_type": "code",
   "execution_count": 1,
   "id": "dbd2c2fa",
   "metadata": {},
   "outputs": [],
   "source": [
    "#在任何给定的一小时内，实验室里都有约 10 个学生\n",
    "#他们在这一小时内最多打印 2 次，并且打印的页数从 1 到 20 不等\n",
    "#实验室的打印机比较老旧，每分钟只能以低质量打印 10 页\n",
    "#可以将打印质量调高，但是这样做会导致打印机每分钟只能打印 5 页\n",
    "#降低打印速度可能导致学生等待过长时间，应该如何设置打印速度？"
   ]
  },
  {
   "cell_type": "code",
   "execution_count": 2,
   "id": "c6d67991",
   "metadata": {},
   "outputs": [],
   "source": [
    "#为学生、打印任务和打印机构建对象\n",
    "#当学生提交打印任务时，我们需要将它们加入等待列表中，该列表是打印机上的打印任务队列\n",
    "#当打印机执行完一个任务后，它会检查该队列，看看其中是否还有需要处理的任务\n",
    "#我们感兴趣的是学生平均需要等待多久才能拿到打印好的文章，这个时间等于打印任务在队列中的平均等待时间"
   ]
  },
  {
   "cell_type": "markdown",
   "id": "012c23d8",
   "metadata": {},
   "source": [
    "# 主要步骤\n",
    "创建一个打印任务队列。每一个任务到来时都会有一个时间戳。一开始，队列是空的\n",
    "\n",
    "针对每一秒（ currentSecond），执行以下操作：\n",
    "\n",
    "是否有新创建的打印任务？如果是，以 currentSecond 作为其时间戳并将该任务加入到队列中\n",
    "\n",
    "如果打印机空闲，并且有正在等待执行的任务，执行以下操作：\n",
    "\n",
    "1 从队列中取出第一个任务并提交给打印机；\n",
    "\n",
    "2 用 currentSecond 减去该任务的时间戳，以此计算其等待时间；\n",
    "\n",
    "3 将该任务的等待时间存入一个列表，以备后用；\n",
    "\n",
    "4 根据该任务的页数，计算执行时间\n",
    "\n",
    "打印机进行一秒的打印，同时从该任务的执行时间中减去一秒\n",
    "\n",
    "如果打印任务执行完毕，或者说任务需要的时间减为 0，则说明打印机回到空闲状态\n",
    "\n",
    " 当模拟完成之后，根据等待时间列表中的值计算平均等待时间"
   ]
  },
  {
   "cell_type": "markdown",
   "id": "a57fc820",
   "metadata": {},
   "source": [
    "# 实现"
   ]
  },
  {
   "cell_type": "code",
   "execution_count": 7,
   "id": "4fba443b",
   "metadata": {},
   "outputs": [],
   "source": [
    "import random\n",
    "from Queue import Queue"
   ]
  },
  {
   "cell_type": "code",
   "execution_count": 8,
   "id": "fdfa5f94",
   "metadata": {},
   "outputs": [],
   "source": [
    "#模拟打印机\n",
    "class Printer:\n",
    "    def __init__(self, ppm): \n",
    "        self.pagerate = ppm #打印速度（每分钟打印几页）\n",
    "        self.currentTask = None\n",
    "        self.timeRemaining = 0\n",
    "\n",
    "    def tick(self): #减量计时\n",
    "        if self.currentTask != None:\n",
    "            self.timeRemaining = self.timeRemaining - 1\n",
    "            if self.timeRemaining <= 0:\n",
    "                self.currentTask = None #并且在执行完任务之后将打印机设置成空闲状态（第 11 行）\n",
    "\n",
    "    def busy(self): #打印机是否在工作\n",
    "        if self.currentTask != None:\n",
    "            return True\n",
    "        else:\n",
    "            return False\n",
    "    \n",
    "    def startNext(self, newtask): #开始执行下个打印任务\n",
    "        self.currentTask = newtask\n",
    "        self.timeRemaining = newtask.getPages() * 60/self.pagerate #计算该打印任务的执行时间"
   ]
  },
  {
   "cell_type": "code",
   "execution_count": 9,
   "id": "a1a1c024",
   "metadata": {},
   "outputs": [],
   "source": [
    "#模拟打印单个任务\n",
    "class Task:\n",
    "    def __init__(self, time):\n",
    "        self.timestamp = time #时间戳代表任务被创建并放入打印任务队列的时间\n",
    "        self.pages = random.randrange(1, 21) #生成打印页数\n",
    "\n",
    "    def getStamp(self): #获取时间戳\n",
    "        return self.timestamp\n",
    "\n",
    "    def getPages(self): #获取打印页数\n",
    "        return self.pages\n",
    "\n",
    "    def waitTime(self, currenttime): #计算任务在队列中的等待时间\n",
    "        return currenttime - self.timestamp"
   ]
  },
  {
   "cell_type": "code",
   "execution_count": 10,
   "id": "60e00e49",
   "metadata": {},
   "outputs": [],
   "source": [
    "#打印任务模拟程序\n",
    "def simulation(numSeconds, pagesPerMinute):\n",
    "\n",
    "    labprinter = Printer(pagesPerMinute) #创建一个打印机\n",
    "    printQueue = Queue() #创建一个打印队列\n",
    "    waitingtimes = [] #创建一个包含每个任务等待时间的列表\n",
    "\n",
    "    for currentSecond in range(numSeconds): #对于每一秒钟\n",
    "\n",
    "        if newPrintTask(): #若有新打印任务\n",
    "            task = Task(currentSecond)\n",
    "            printQueue.enqueue(task) #在打印队列中加入新任务\n",
    "\n",
    "        if (not labprinter.busy()) and (not printQueue.isEmpty()): #若打印机不在打印且打印队列中由打印任务\n",
    "            nexttask = printQueue.dequeue()\n",
    "            waitingtimes.append(nexttask.waitTime(currentSecond)) #将新任务的等待时间记录下来\n",
    "            labprinter.startNext(nexttask)\n",
    "\n",
    "        labprinter.tick() #每一秒钟进行一次计时\n",
    "\n",
    "    averageWait=sum(waitingtimes)/len(waitingtimes)\n",
    "    print(\"Average Wait %6.2f secs %3d tasks remaining.\"%(averageWait, printQueue.size()))\n",
    "\n",
    "def newPrintTask(): #判断是否有新创建的打印任务\n",
    "    num = random.randrange(1, 181) #平均每 180 秒有一个打印任务\n",
    "    if num == 180:\n",
    "        return True\n",
    "    else:\n",
    "        return False"
   ]
  },
  {
   "cell_type": "code",
   "execution_count": 11,
   "id": "1c59be09",
   "metadata": {},
   "outputs": [
    {
     "name": "stdout",
     "output_type": "stream",
     "text": [
      "Average Wait  54.79 secs   4 tasks remaining.\n"
     ]
    }
   ],
   "source": [
    "simulation(3600, 5)"
   ]
  },
  {
   "cell_type": "code",
   "execution_count": null,
   "id": "1b794328",
   "metadata": {},
   "outputs": [],
   "source": []
  }
 ],
 "metadata": {
  "kernelspec": {
   "display_name": "Python 3",
   "language": "python",
   "name": "python3"
  },
  "language_info": {
   "codemirror_mode": {
    "name": "ipython",
    "version": 3
   },
   "file_extension": ".py",
   "mimetype": "text/x-python",
   "name": "python",
   "nbconvert_exporter": "python",
   "pygments_lexer": "ipython3",
   "version": "3.7.4"
  }
 },
 "nbformat": 4,
 "nbformat_minor": 5
}
