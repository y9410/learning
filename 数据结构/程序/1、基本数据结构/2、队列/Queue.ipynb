{
 "cells": [
  {
   "cell_type": "code",
   "execution_count": 1,
   "id": "54a143ca",
   "metadata": {},
   "outputs": [],
   "source": [
    "#队列是有序集合，添加操作发生在“尾部”，移除操作则发生在“头部”\n",
    "#新元素从尾部进入队列，然后一直向前移动到头部，直到成为下一个被移除的元素\n",
    "#最新添加的元素必须在队列的尾部等待，在队列中时间最长的元素则排在最前面。这种排序原则被称作 FIFO（ first-in first-out），即先进先出，也称先到先得"
   ]
  },
  {
   "cell_type": "code",
   "execution_count": 2,
   "id": "da712656",
   "metadata": {},
   "outputs": [],
   "source": [
    "class Queue: #创建一个空队列。它不需要参数，且会返回一个空队列\n",
    "    def __init__(self):\n",
    "        self.items = []\n",
    "\n",
    "    def isEmpty(self): #检查队列是否为空。它不需要参数，且会返回一个布尔值\n",
    "        return self.items == []\n",
    "\n",
    "    def enqueue(self, item): #在队列的尾部添加一个元素。它需要一个元素作为参数，不返回任何值。复杂度：O(n)\n",
    "        self.items.insert(0, item)\n",
    "\n",
    "    def dequeue(self): #从队列的头部移除一个元素。它不需要参数，且会返回一个元素，并修改队列的内容。复杂度：O(1)\n",
    "        return self.items.pop()\n",
    "    \n",
    "    def size(self): #返回队列中元素的数目。它不需要参数，且会返回一个整数\n",
    "        return len(self.items)"
   ]
  },
  {
   "cell_type": "code",
   "execution_count": null,
   "id": "10ce2c2c",
   "metadata": {},
   "outputs": [],
   "source": []
  }
 ],
 "metadata": {
  "kernelspec": {
   "display_name": "Python 3",
   "language": "python",
   "name": "python3"
  },
  "language_info": {
   "codemirror_mode": {
    "name": "ipython",
    "version": 3
   },
   "file_extension": ".py",
   "mimetype": "text/x-python",
   "name": "python",
   "nbconvert_exporter": "python",
   "pygments_lexer": "ipython3",
   "version": "3.7.4"
  }
 },
 "nbformat": 4,
 "nbformat_minor": 5
}
