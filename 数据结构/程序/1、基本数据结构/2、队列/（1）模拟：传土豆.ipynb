{
 "cells": [
  {
   "cell_type": "code",
   "execution_count": 1,
   "id": "30262c3a",
   "metadata": {},
   "outputs": [],
   "source": [
    "#在这个游戏中，孩子们围成一圈，并依次尽可能快地传递一个土豆\n",
    "#某个时刻，大家停止传递，此时手里有土豆的孩子就得退出游戏\n",
    "#复上述过程，直到只剩下一个孩子"
   ]
  },
  {
   "cell_type": "code",
   "execution_count": 2,
   "id": "c18f7fc1",
   "metadata": {},
   "outputs": [],
   "source": [
    "#使用队列来模拟一个环\n",
    "#假设握着土豆的孩子位于队列的头部。在模拟传土豆的过程中，程序将这个孩子的名字移出队列，然后立刻将其插入队列的尾部\n",
    "#随后，这个孩子会一直等待，直到再次到达队列的头部\n",
    "#在出列和入列 num 次之后，此时位于队列头部的孩子出局，新一轮游戏开始\n",
    "#如此反复，直到队列中只剩下一个名字（队列的大小为 1）"
   ]
  },
  {
   "cell_type": "code",
   "execution_count": 3,
   "id": "22eed219",
   "metadata": {},
   "outputs": [],
   "source": [
    "from Queue import Queue"
   ]
  },
  {
   "cell_type": "code",
   "execution_count": 6,
   "id": "940a7987",
   "metadata": {},
   "outputs": [],
   "source": [
    "def hotPotato(namelist, num):\n",
    "    simqueue = Queue()\n",
    "    for name in namelist:\n",
    "        simqueue.enqueue(name)\n",
    "\n",
    "    while simqueue.size() > 1:\n",
    "        for i in range(num):\n",
    "            simqueue.enqueue(simqueue.dequeue())\n",
    "\n",
    "        simqueue.dequeue()\n",
    "            \n",
    "    return simqueue.dequeue()"
   ]
  },
  {
   "cell_type": "code",
   "execution_count": 9,
   "id": "81c421c2",
   "metadata": {
    "scrolled": false
   },
   "outputs": [
    {
     "data": {
      "text/plain": [
       "'Susan'"
      ]
     },
     "execution_count": 9,
     "metadata": {},
     "output_type": "execute_result"
    }
   ],
   "source": [
    "hotPotato([\"Bill\", \"David\", \"Susan\", \"Jane\", \"Kent\", \"Brad\"], 7)"
   ]
  },
  {
   "cell_type": "code",
   "execution_count": null,
   "id": "8707ace2",
   "metadata": {},
   "outputs": [],
   "source": []
  }
 ],
 "metadata": {
  "kernelspec": {
   "display_name": "Python 3",
   "language": "python",
   "name": "python3"
  },
  "language_info": {
   "codemirror_mode": {
    "name": "ipython",
    "version": 3
   },
   "file_extension": ".py",
   "mimetype": "text/x-python",
   "name": "python",
   "nbconvert_exporter": "python",
   "pygments_lexer": "ipython3",
   "version": "3.7.4"
  }
 },
 "nbformat": 4,
 "nbformat_minor": 5
}
