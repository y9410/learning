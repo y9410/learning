{
 "cells": [
  {
   "cell_type": "markdown",
   "id": "5647cda8",
   "metadata": {},
   "source": [
    "# 媒体文件"
   ]
  },
  {
   "cell_type": "code",
   "execution_count": 13,
   "id": "70c80cfd",
   "metadata": {},
   "outputs": [],
   "source": [
    "#存储媒体文件有两种主要方式：只获取文件 URL 链接，以及直接把源文件下载下来"
   ]
  },
  {
   "cell_type": "code",
   "execution_count": 29,
   "id": "0255e80e",
   "metadata": {},
   "outputs": [],
   "source": [
    "import os\n",
    "from urllib.request import urlretrieve\n",
    "from urllib.request import urlopen\n",
    "from bs4 import BeautifulSoup"
   ]
  },
  {
   "cell_type": "code",
   "execution_count": 30,
   "id": "f826e7e7",
   "metadata": {
    "scrolled": true
   },
   "outputs": [],
   "source": [
    "downloadDirectory = 'downloaded'\n",
    "baseUrl = 'https://pythonscraping.com'"
   ]
  },
  {
   "cell_type": "code",
   "execution_count": 31,
   "id": "8b3a1c25",
   "metadata": {},
   "outputs": [],
   "source": [
    "def getAbsoluteURL(baseUrl, source):\n",
    "    if source.startswith('https://www.'):\n",
    "        url = 'https://{}'.format(source[11:])\n",
    "    elif source.startswith('https://'):\n",
    "        url = source\n",
    "    elif source.startswith('www.'):\n",
    "        url = source[4:]\n",
    "        url = 'https://{}'.format(source)\n",
    "    else:\n",
    "        url = '{}/{}'.format(baseUrl, source)\n",
    "    if baseUrl not in url:\n",
    "        return None\n",
    "    return url\n",
    "\n",
    "def getDownloadPath(baseUrl, absoluteUrl, downloadDirectory):\n",
    "    path = absoluteUrl.replace('www.', '')\n",
    "    path = path.replace(baseUrl, '')\n",
    "    path = downloadDirectory + path\n",
    "    directory = os.path.dirname(path)\n",
    "\n",
    "    if not os.path.exists(directory):\n",
    "        os.makedirs(directory)\n",
    "    \n",
    "    return path"
   ]
  },
  {
   "cell_type": "code",
   "execution_count": 32,
   "id": "8b9db537",
   "metadata": {},
   "outputs": [],
   "source": [
    "html = urlopen('https://www.pythonscraping.com')\n",
    "bs = BeautifulSoup(html, 'html.parser')\n",
    "downloadList = bs.findAll(src = True)"
   ]
  },
  {
   "cell_type": "code",
   "execution_count": 33,
   "id": "e967b16b",
   "metadata": {},
   "outputs": [
    {
     "data": {
      "text/plain": [
       "[<script id=\"jquery-core-js\" src=\"https://pythonscraping.com/wp-includes/js/jquery/jquery.min.js?ver=3.6.1\"></script>,\n",
       " <script id=\"jquery-migrate-js\" src=\"https://pythonscraping.com/wp-includes/js/jquery/jquery-migrate.min.js?ver=3.3.2\"></script>,\n",
       " <script id=\"pagelayer-frontend-js\" src=\"https://pythonscraping.com/wp-content/plugins/pagelayer/js/givejs.php?give=pagelayer-frontend.js%2Cnivo-lightbox.min.js%2Cwow.min.js%2Cjquery-numerator.js%2CsimpleParallax.min.js%2Cowl.carousel.min.js&amp;premium&amp;ver=1.5.9\"></script>,\n",
       " <img alt=\"home1\" class=\"pagelayer-img pagelayer-animation-{{anim_hover}}\" decoding=\"async\" src=\"https://pythonscraping.com/wp-content/uploads/2021/08/home1.jpg\" srcset=\"https://pythonscraping.com/wp-content/uploads/2021/08/home1.jpg, https://pythonscraping.com/wp-content/uploads/2021/08/home1.jpg 1x, \" title=\"home1\"/>,\n",
       " <img alt=\"logo01\" class=\"pagelayer-img pagelayer-wp-title-img\" decoding=\"async\" src=\"https://pythonscraping.com/wp-content/uploads/2021/08/logo01.png\" title=\"logo01\"/>,\n",
       " <script id=\"popularfx-navigation-js\" src=\"https://pythonscraping.com/wp-content/themes/popularfx/js/navigation.js?ver=1.2.0\"></script>]"
      ]
     },
     "execution_count": 33,
     "metadata": {},
     "output_type": "execute_result"
    }
   ],
   "source": [
    "downloadList"
   ]
  },
  {
   "cell_type": "code",
   "execution_count": 35,
   "id": "91390d8d",
   "metadata": {
    "scrolled": true
   },
   "outputs": [
    {
     "name": "stdout",
     "output_type": "stream",
     "text": [
      "https://pythonscraping.com/wp-includes/js/jquery/jquery.min.js?ver=3.6.1\n"
     ]
    },
    {
     "ename": "OSError",
     "evalue": "[Errno 22] Invalid argument: 'downloaded/wp-includes/js/jquery/jquery.min.js?ver=3.6.1'",
     "output_type": "error",
     "traceback": [
      "\u001b[1;31m---------------------------------------------------------------------------\u001b[0m",
      "\u001b[1;31mOSError\u001b[0m                                   Traceback (most recent call last)",
      "\u001b[1;32m<ipython-input-35-b9c1af953d75>\u001b[0m in \u001b[0;36m<module>\u001b[1;34m\u001b[0m\n\u001b[0;32m      3\u001b[0m     \u001b[1;32mif\u001b[0m \u001b[0mfileUrl\u001b[0m \u001b[1;32mis\u001b[0m \u001b[1;32mnot\u001b[0m \u001b[1;32mNone\u001b[0m\u001b[1;33m:\u001b[0m\u001b[1;33m\u001b[0m\u001b[1;33m\u001b[0m\u001b[0m\n\u001b[0;32m      4\u001b[0m         \u001b[0mprint\u001b[0m\u001b[1;33m(\u001b[0m\u001b[0mfileUrl\u001b[0m\u001b[1;33m)\u001b[0m\u001b[1;33m\u001b[0m\u001b[1;33m\u001b[0m\u001b[0m\n\u001b[1;32m----> 5\u001b[1;33m         \u001b[0murlretrieve\u001b[0m\u001b[1;33m(\u001b[0m\u001b[0mfileUrl\u001b[0m\u001b[1;33m,\u001b[0m \u001b[0mgetDownloadPath\u001b[0m\u001b[1;33m(\u001b[0m\u001b[0mbaseUrl\u001b[0m\u001b[1;33m,\u001b[0m \u001b[0mfileUrl\u001b[0m\u001b[1;33m,\u001b[0m \u001b[0mdownloadDirectory\u001b[0m\u001b[1;33m)\u001b[0m\u001b[1;33m)\u001b[0m\u001b[1;33m\u001b[0m\u001b[1;33m\u001b[0m\u001b[0m\n\u001b[0m",
      "\u001b[1;32mC:\\anaconda\\lib\\urllib\\request.py\u001b[0m in \u001b[0;36murlretrieve\u001b[1;34m(url, filename, reporthook, data)\u001b[0m\n\u001b[0;32m    255\u001b[0m         \u001b[1;31m# Handle temporary file setup.\u001b[0m\u001b[1;33m\u001b[0m\u001b[1;33m\u001b[0m\u001b[1;33m\u001b[0m\u001b[0m\n\u001b[0;32m    256\u001b[0m         \u001b[1;32mif\u001b[0m \u001b[0mfilename\u001b[0m\u001b[1;33m:\u001b[0m\u001b[1;33m\u001b[0m\u001b[1;33m\u001b[0m\u001b[0m\n\u001b[1;32m--> 257\u001b[1;33m             \u001b[0mtfp\u001b[0m \u001b[1;33m=\u001b[0m \u001b[0mopen\u001b[0m\u001b[1;33m(\u001b[0m\u001b[0mfilename\u001b[0m\u001b[1;33m,\u001b[0m \u001b[1;34m'wb'\u001b[0m\u001b[1;33m)\u001b[0m\u001b[1;33m\u001b[0m\u001b[1;33m\u001b[0m\u001b[0m\n\u001b[0m\u001b[0;32m    258\u001b[0m         \u001b[1;32melse\u001b[0m\u001b[1;33m:\u001b[0m\u001b[1;33m\u001b[0m\u001b[1;33m\u001b[0m\u001b[0m\n\u001b[0;32m    259\u001b[0m             \u001b[0mtfp\u001b[0m \u001b[1;33m=\u001b[0m \u001b[0mtempfile\u001b[0m\u001b[1;33m.\u001b[0m\u001b[0mNamedTemporaryFile\u001b[0m\u001b[1;33m(\u001b[0m\u001b[0mdelete\u001b[0m\u001b[1;33m=\u001b[0m\u001b[1;32mFalse\u001b[0m\u001b[1;33m)\u001b[0m\u001b[1;33m\u001b[0m\u001b[1;33m\u001b[0m\u001b[0m\n",
      "\u001b[1;31mOSError\u001b[0m: [Errno 22] Invalid argument: 'downloaded/wp-includes/js/jquery/jquery.min.js?ver=3.6.1'"
     ]
    }
   ],
   "source": [
    "for download in downloadList:\n",
    "    fileUrl = getAbsoluteURL(baseUrl, download['src'])\n",
    "    if fileUrl is not None:\n",
    "        print(fileUrl)\n",
    "        urlretrieve(fileUrl, getDownloadPath(baseUrl, fileUrl, downloadDirectory))"
   ]
  },
  {
   "cell_type": "code",
   "execution_count": null,
   "id": "af0ecfeb",
   "metadata": {},
   "outputs": [],
   "source": []
  }
 ],
 "metadata": {
  "kernelspec": {
   "display_name": "Python 3",
   "language": "python",
   "name": "python3"
  },
  "language_info": {
   "codemirror_mode": {
    "name": "ipython",
    "version": 3
   },
   "file_extension": ".py",
   "mimetype": "text/x-python",
   "name": "python",
   "nbconvert_exporter": "python",
   "pygments_lexer": "ipython3",
   "version": "3.7.4"
  }
 },
 "nbformat": 4,
 "nbformat_minor": 5
}
