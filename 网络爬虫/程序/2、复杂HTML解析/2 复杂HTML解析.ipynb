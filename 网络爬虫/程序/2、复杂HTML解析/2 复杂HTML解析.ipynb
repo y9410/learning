{
 "cells": [
  {
   "cell_type": "code",
   "execution_count": 1,
   "id": "2cb8acea",
   "metadata": {},
   "outputs": [],
   "source": [
    "#创建一个网络爬虫来抓取 http://www.pythonscraping.com/pages/warandpeace.html 这个网页\n",
    "#在这个页面里，小说人物的对话内容都是红色的，人物名称都是绿色的\n",
    "#网页源代码里的 span 标签引用了对应的 CSS（层叠样式表cascading style sheet） 属性\n",
    "#CSS 可以让 HTML 元素呈现出差异化，使那些具有完全相同修饰的元素呈现出不同的样式"
   ]
  },
  {
   "cell_type": "code",
   "execution_count": 1,
   "id": "022ec8c3",
   "metadata": {},
   "outputs": [],
   "source": [
    "from urllib.request import urlopen\n",
    "from bs4 import BeautifulSoup"
   ]
  },
  {
   "cell_type": "code",
   "execution_count": 2,
   "id": "c1ce3649",
   "metadata": {},
   "outputs": [],
   "source": [
    "html = urlopen('http://www.pythonscraping.com/pages/warandpeace.html')\n",
    "bs = BeautifulSoup(html.read(), 'html.parser')"
   ]
  },
  {
   "cell_type": "code",
   "execution_count": 7,
   "id": "878d95fb",
   "metadata": {},
   "outputs": [
    {
     "name": "stdout",
     "output_type": "stream",
     "text": [
      "Anna\n",
      "Pavlovna Scherer\n",
      "Empress Marya\n",
      "Fedorovna\n",
      "Prince Vasili Kuragin\n",
      "Anna Pavlovna\n",
      "St. Petersburg\n",
      "the prince\n",
      "Anna Pavlovna\n",
      "Anna Pavlovna\n",
      "the prince\n",
      "the prince\n",
      "the prince\n",
      "Prince Vasili\n",
      "Anna Pavlovna\n",
      "Anna Pavlovna\n",
      "the prince\n",
      "Wintzingerode\n",
      "King of Prussia\n",
      "le Vicomte de Mortemart\n",
      "Montmorencys\n",
      "Rohans\n",
      "Abbe Morio\n",
      "the Emperor\n",
      "the prince\n",
      "Prince Vasili\n",
      "Dowager Empress Marya Fedorovna\n",
      "the baron\n",
      "Anna Pavlovna\n",
      "the Empress\n",
      "the Empress\n",
      "Anna Pavlovna's\n",
      "Her Majesty\n",
      "Baron\n",
      "Funke\n",
      "The prince\n",
      "Anna\n",
      "Pavlovna\n",
      "the Empress\n",
      "The prince\n",
      "Anatole\n",
      "the prince\n",
      "The prince\n",
      "Anna\n",
      "Pavlovna\n",
      "Anna Pavlovna\n"
     ]
    }
   ],
   "source": [
    "nameList = bs.find_all('span', {'class':'green'}) #获取所有绿色的文字（绿色代表人名）\n",
    "for name in nameList:\n",
    "    print(name.get_text()) #.get_text() 会清除你正在处理的 HTML 文档中的所有标签，然后返回一个只包含文字的 Unicode 字符串\n",
    "    #一般情况下，你应该尽可能地保留 HTML 文档的标签结构"
   ]
  },
  {
   "cell_type": "markdown",
   "id": "023fd1a6",
   "metadata": {},
   "source": [
    "# BeautifulSoup的find()和find_all()"
   ]
  },
  {
   "cell_type": "code",
   "execution_count": 8,
   "id": "a20d8a66",
   "metadata": {},
   "outputs": [],
   "source": [
    "#find_all(tag, attributes, recursive, text, limit, keywords)\n",
    "#标签参数 tag ：传递一个标签的名称或多个标签名称组成的 Python 列表做标签参数\n",
    "#属性参数 attributes ：用一个 Python 字典封装一个标签的若干属性和对应的属性值\n",
    "#递归参数 recursive ：是一个布尔变量。你想抓取 HTML 文档标签结构里多少层的信息？如果 recursive 设置为 True， find_all 就会根据你的要求去查找标签参数的所有子标签，以及子标签的子标签。如果 recursive 设置为 False， find_all 就只查找文档的一级标签\n",
    "#文本参数 text ：有点不同，它是用标签的文本内容去匹配，而不是用标签的属性\n",
    "#范围限制参数 limit ：显然只用于 find_all 方法。 find(tag, attributes, recursive, text, keywords) 其实等价于 limit 等于 1 时的 find_all 。如果你想获取网页中的前 x 项结果，就可以设置它\n",
    "#关键词参数 keyword ：可以让你选择那些具有指定属性的标签"
   ]
  },
  {
   "cell_type": "code",
   "execution_count": 9,
   "id": "61e311ae",
   "metadata": {},
   "outputs": [],
   "source": [
    "#虽然关键词参数 keyword 在一些场景中很有用，但是，它实际上是一个冗余的 BeautifulSoup 功能。任何用关键词参数能够完成的任务，同样可以用本章后面将介绍的技术解决\n",
    "#例如，下面两行代码是完全一样的：\n",
    "#bs.find_all(id='text')\n",
    "#bs.find_all('', {'id':'text'})\n",
    "#另外，用 keyword 偶尔会出现问题，尤其是在用 class 属性查找标签的时候，因为 class 是 Python 中受保护的关键字\n",
    "#使用 class 时应该增加一个“_”，例如 bs.find_all(class_='green') 或者 bs.find_all('', {'class':'green'})"
   ]
  },
  {
   "cell_type": "markdown",
   "id": "f3cb5f45",
   "metadata": {},
   "source": [
    "# BeautifulSoup对象"
   ]
  },
  {
   "cell_type": "code",
   "execution_count": 10,
   "id": "0636aa3c",
   "metadata": {},
   "outputs": [],
   "source": [
    "#BeautifulSoup对象：前面代码示例中的 bs\n",
    "#标签Tag对象： BeautifulSoup 对象通过 find 和 find_all，或者直接调用子标签获取的一列对象或单个对象，就像： bs.div.h1\n",
    "#NavigableString对象：用来表示标签里的文字，而不是标签本身（有些函数可以操作和生成 NavigableString对象，而不是标签对象）\n",
    "#Comment对象：用来查找 HTML 文档的注释标签， <!-- 像这样 -->"
   ]
  },
  {
   "cell_type": "markdown",
   "id": "d6d6935c",
   "metadata": {},
   "source": [
    "# 导航树"
   ]
  },
  {
   "cell_type": "code",
   "execution_count": 11,
   "id": "4435daa8",
   "metadata": {},
   "outputs": [],
   "source": [
    "#find_all 函数通过标签的名称和属性来查找标签\n",
    "#如果需要通过标签在文档中的位置来查找标签，可以使用导航树（navigating trees）"
   ]
  },
  {
   "cell_type": "code",
   "execution_count": 17,
   "id": "5f672950",
   "metadata": {},
   "outputs": [],
   "source": [
    "#1、子标签和后代标签"
   ]
  },
  {
   "cell_type": "code",
   "execution_count": 12,
   "id": "b68e1147",
   "metadata": {},
   "outputs": [],
   "source": [
    "#在 BeautifulSoup 库里， 孩子（child）和后代（descendant）有显著的不同：和人类的家谱一样，子标签就是父标签的下一级，而后代标签是指父标签下面所有级别的标签\n",
    "#例如， tr 标签是 table 标签的子标签，而 tr、 th、 td、 img 和 span 标签都是table 标签的后代标签\n",
    "#所有的子标签都是后代标签，但不是所有的后代标签都是子标签"
   ]
  },
  {
   "cell_type": "code",
   "execution_count": 13,
   "id": "738d3038",
   "metadata": {},
   "outputs": [],
   "source": [
    "#一般情况下， BeautifulSoup 函数总是处理当前标签的后代标签。例如， bs.body.h1 选择了 body 标签后代里的第一个 h1 标签，不会去找 body 外面的标签"
   ]
  },
  {
   "cell_type": "code",
   "execution_count": 14,
   "id": "00c6d8ff",
   "metadata": {
    "collapsed": true
   },
   "outputs": [
    {
     "name": "stdout",
     "output_type": "stream",
     "text": [
      "\n",
      "\n",
      "<tr><th>\n",
      "Item Title\n",
      "</th><th>\n",
      "Description\n",
      "</th><th>\n",
      "Cost\n",
      "</th><th>\n",
      "Image\n",
      "</th></tr>\n",
      "\n",
      "\n",
      "<tr class=\"gift\" id=\"gift1\"><td>\n",
      "Vegetable Basket\n",
      "</td><td>\n",
      "This vegetable basket is the perfect gift for your health conscious (or overweight) friends!\n",
      "<span class=\"excitingNote\">Now with super-colorful bell peppers!</span>\n",
      "</td><td>\n",
      "$15.00\n",
      "</td><td>\n",
      "<img src=\"../img/gifts/img1.jpg\"/>\n",
      "</td></tr>\n",
      "\n",
      "\n",
      "<tr class=\"gift\" id=\"gift2\"><td>\n",
      "Russian Nesting Dolls\n",
      "</td><td>\n",
      "Hand-painted by trained monkeys, these exquisite dolls are priceless! And by \"priceless,\" we mean \"extremely expensive\"! <span class=\"excitingNote\">8 entire dolls per set! Octuple the presents!</span>\n",
      "</td><td>\n",
      "$10,000.52\n",
      "</td><td>\n",
      "<img src=\"../img/gifts/img2.jpg\"/>\n",
      "</td></tr>\n",
      "\n",
      "\n",
      "<tr class=\"gift\" id=\"gift3\"><td>\n",
      "Fish Painting\n",
      "</td><td>\n",
      "If something seems fishy about this painting, it's because it's a fish! <span class=\"excitingNote\">Also hand-painted by trained monkeys!</span>\n",
      "</td><td>\n",
      "$10,005.00\n",
      "</td><td>\n",
      "<img src=\"../img/gifts/img3.jpg\"/>\n",
      "</td></tr>\n",
      "\n",
      "\n",
      "<tr class=\"gift\" id=\"gift4\"><td>\n",
      "Dead Parrot\n",
      "</td><td>\n",
      "This is an ex-parrot! <span class=\"excitingNote\">Or maybe he's only resting?</span>\n",
      "</td><td>\n",
      "$0.50\n",
      "</td><td>\n",
      "<img src=\"../img/gifts/img4.jpg\"/>\n",
      "</td></tr>\n",
      "\n",
      "\n",
      "<tr class=\"gift\" id=\"gift5\"><td>\n",
      "Mystery Box\n",
      "</td><td>\n",
      "If you love suprises, this mystery box is for you! Do not place on light-colored surfaces. May cause oil staining. <span class=\"excitingNote\">Keep your friends guessing!</span>\n",
      "</td><td>\n",
      "$1.50\n",
      "</td><td>\n",
      "<img src=\"../img/gifts/img6.jpg\"/>\n",
      "</td></tr>\n",
      "\n",
      "\n"
     ]
    }
   ],
   "source": [
    "html = urlopen('http://www.pythonscraping.com/pages/page3.html')\n",
    "bs = BeautifulSoup(html, 'html.parser')\n",
    "\n",
    "for child in bs.find('table',{'id':'giftList'}).children: #使用.children 标签保证只打印子标签而不是全部的后代标签\n",
    "    print(child)\n",
    "#如果你用 descendants() 函数而不是 children() 函数，那么就会打印出二十几个标签，包括 img 标签、 span 标签，以及每个 td 标签"
   ]
  },
  {
   "cell_type": "code",
   "execution_count": 18,
   "id": "7e60dd49",
   "metadata": {},
   "outputs": [],
   "source": [
    "#2、兄弟标签"
   ]
  },
  {
   "cell_type": "code",
   "execution_count": 15,
   "id": "1d8a2e17",
   "metadata": {
    "collapsed": true
   },
   "outputs": [
    {
     "name": "stdout",
     "output_type": "stream",
     "text": [
      "\n",
      "\n",
      "<tr class=\"gift\" id=\"gift1\"><td>\n",
      "Vegetable Basket\n",
      "</td><td>\n",
      "This vegetable basket is the perfect gift for your health conscious (or overweight) friends!\n",
      "<span class=\"excitingNote\">Now with super-colorful bell peppers!</span>\n",
      "</td><td>\n",
      "$15.00\n",
      "</td><td>\n",
      "<img src=\"../img/gifts/img1.jpg\"/>\n",
      "</td></tr>\n",
      "\n",
      "\n",
      "<tr class=\"gift\" id=\"gift2\"><td>\n",
      "Russian Nesting Dolls\n",
      "</td><td>\n",
      "Hand-painted by trained monkeys, these exquisite dolls are priceless! And by \"priceless,\" we mean \"extremely expensive\"! <span class=\"excitingNote\">8 entire dolls per set! Octuple the presents!</span>\n",
      "</td><td>\n",
      "$10,000.52\n",
      "</td><td>\n",
      "<img src=\"../img/gifts/img2.jpg\"/>\n",
      "</td></tr>\n",
      "\n",
      "\n",
      "<tr class=\"gift\" id=\"gift3\"><td>\n",
      "Fish Painting\n",
      "</td><td>\n",
      "If something seems fishy about this painting, it's because it's a fish! <span class=\"excitingNote\">Also hand-painted by trained monkeys!</span>\n",
      "</td><td>\n",
      "$10,005.00\n",
      "</td><td>\n",
      "<img src=\"../img/gifts/img3.jpg\"/>\n",
      "</td></tr>\n",
      "\n",
      "\n",
      "<tr class=\"gift\" id=\"gift4\"><td>\n",
      "Dead Parrot\n",
      "</td><td>\n",
      "This is an ex-parrot! <span class=\"excitingNote\">Or maybe he's only resting?</span>\n",
      "</td><td>\n",
      "$0.50\n",
      "</td><td>\n",
      "<img src=\"../img/gifts/img4.jpg\"/>\n",
      "</td></tr>\n",
      "\n",
      "\n",
      "<tr class=\"gift\" id=\"gift5\"><td>\n",
      "Mystery Box\n",
      "</td><td>\n",
      "If you love suprises, this mystery box is for you! Do not place on light-colored surfaces. May cause oil staining. <span class=\"excitingNote\">Keep your friends guessing!</span>\n",
      "</td><td>\n",
      "$1.50\n",
      "</td><td>\n",
      "<img src=\"../img/gifts/img6.jpg\"/>\n",
      "</td></tr>\n",
      "\n",
      "\n"
     ]
    }
   ],
   "source": [
    "#BeautifulSoup 的 next_siblings() 函数使得从表格中收集数据非常简单，尤其是带标题行的表格\n",
    "#打印产品表格里所有行的产品，第一行表格标题除外\n",
    "#为什么标题行被跳过了呢？对象不能是自己的兄弟标签。任何时候你获取一个标签的兄弟标签，都不会包含这个标签本身。正如函数名本身揭示的，这个函数只调用后面的兄弟标签\n",
    "for sibling in bs.find('table', {'id':'giftList'}).tr.next_siblings:\n",
    "    print(sibling)"
   ]
  },
  {
   "cell_type": "code",
   "execution_count": 16,
   "id": "ef42bfb1",
   "metadata": {},
   "outputs": [],
   "source": [
    "#如果想让你的爬虫更稳定，最好还是让标签的选择更加具体。如果有属性，就利用标签的属性"
   ]
  },
  {
   "cell_type": "code",
   "execution_count": 19,
   "id": "0785d9b2",
   "metadata": {},
   "outputs": [],
   "source": [
    "#3、父标签"
   ]
  },
  {
   "cell_type": "code",
   "execution_count": 21,
   "id": "77630a08",
   "metadata": {
    "collapsed": true
   },
   "outputs": [
    {
     "name": "stdout",
     "output_type": "stream",
     "text": [
      "\n",
      "$15.00\n",
      "\n"
     ]
    }
   ],
   "source": [
    "#打印 ../img/gifts/img1.jpg 这个图片所对应商品的价格（这个示例中价格是 $15.00）\n",
    "#首先选择图片标签 src=\"../img/gifts/img1.jpg\"\n",
    "#选择图片标签的父标签（在示例中是 td 标签）\n",
    "#选择 td 标签的前一个兄弟标签 previous_sibling（在示例中是包含美元价格的 td 标签）\n",
    "#选择标签中的文字，“$15.00”\n",
    "print(bs.find('img',{'src':'../img/gifts/img1.jpg'}).parent.previous_sibling.get_text())"
   ]
  },
  {
   "cell_type": "markdown",
   "id": "97c9948b",
   "metadata": {},
   "source": [
    "# 正则表达式"
   ]
  },
  {
   "cell_type": "code",
   "execution_count": 22,
   "id": "93e9218f",
   "metadata": {},
   "outputs": [],
   "source": [
    "#之所以叫正则表达式，是因为它们可以识别正则字符串（regular string）；也就是说，它们可以这么定义：“如果你给我的字符串符合规则，我就返回它”，或者是“如果字符串不符合规则，我就忽略它”\n",
    "#正则字符串就是任意可以用一系列线性规则构成的字符串"
   ]
  },
  {
   "cell_type": "code",
   "execution_count": 23,
   "id": "63d0ffb9",
   "metadata": {},
   "outputs": [],
   "source": [
    "#常用的正则表达式符号\n",
    "#“*”：匹配前面的字符、子表达式或括号里的字符 0 次或多次，例如：a*b*\n",
    "#“+”：匹配前面的字符、子表达式或括号里的字符至少 1 次。例如：a+b+\n",
    "#“[]”：匹配中括号里的任意一个字符（相当于“任选一个”），例如：[A-Z]*\n",
    "#“()”：表达式编组（在正则表达式的规则里编组会优先运行），例如：(a*b)*\n",
    "#“{m,n}”：匹配前面的字符、子表达式或括号里的字符 m 到 n 次（包含 m 或 n），例如：a{2,3}b{2,3}\n",
    "#“[^]”：匹配任意一个不在中括号里的字符，例如：[^A-Z]*\n",
    "#“|”：匹配任意一个由竖线分割的字符、子表达式（注意是竖线，不是大字字母 I），例如：b(a|i|e)d\n",
    "#“.”：匹配任意单个字符（包括符号、数字和空格等），例如：b.d\n",
    "#“^”：指字符串开始位置的字符或子表达式，例如：^a\n",
    "#“\\”：转义字符（把有特殊含义的字符转换成字面形式），例如：\\.\\|\\\\\n",
    "#“$”：经常用在正则表达式的末尾，表示“从字符串的末端匹配”。如果不用它，每个正则表达式实际都带着“.*”模式，只会从字符串开头进行匹配。这个符号可以看成是 ^ 符号的反义词，例如：[A-Z]*[a-z]*$\n",
    "#“?!”：“不包含”。这个奇怪的组合通常放在字符或正则表达式前面，表示字符不能出现在目标字符串里。这个符号比较难用，毕竟字符通常会在字符串的不同部位出现。如果要在整个字符串中彻底排除某个字符，就加上 ^ 和 $ 符号，例如：^((?![A-Z]).)*$"
   ]
  },
  {
   "cell_type": "code",
   "execution_count": 24,
   "id": "422b4e8d",
   "metadata": {},
   "outputs": [],
   "source": [
    "#正则表达式的一个常用应用：识别邮箱地址\n",
    "#邮箱地址的第一部分至少包括一种内容：大写字母、小写字母、数字 0-9、点号（.）、加号（+）或下划线（_）\n",
    "#之后，邮箱地址会包含一个 @ 符号\n",
    "#在符合 @ 之后，邮箱地址还必须至少包含一个大写或小写字母\n",
    "#之后跟一个点号（.）\n",
    "#最后邮箱地址用 com、 org、 edu、 net 结尾\n",
    "#[A-Za-z0-9\\._+]+@[A-Za-z]+\\.(com|org|edu|net)"
   ]
  },
  {
   "cell_type": "markdown",
   "id": "ae2b6119",
   "metadata": {},
   "source": [
    "# 正则表达式和BeautifulSoup"
   ]
  },
  {
   "cell_type": "code",
   "execution_count": 26,
   "id": "ced4bad2",
   "metadata": {},
   "outputs": [],
   "source": [
    "#如果我们想抓取所有图片的 URL 链接，非常直接的做法就是用 find_all(\"img\") 抓取所有图片\n",
    "#但是有个问题。除了那些明显“多余的”图片（比如 LOGO）之外，现代网站里都有一些隐藏的图片、用于网页布局留白和元素对齐的空白图片\n",
    "#网页的布局也可能会变化，或者，因为某些原因，我们不想通过图片在网页中的位置来查找标签"
   ]
  },
  {
   "cell_type": "code",
   "execution_count": 27,
   "id": "a8deae4b",
   "metadata": {},
   "outputs": [],
   "source": [
    "import re"
   ]
  },
  {
   "cell_type": "code",
   "execution_count": 28,
   "id": "8838ddf5",
   "metadata": {},
   "outputs": [],
   "source": [
    "#商品图片的源代码形式如下：<img src=\"../img/gifts/img3.jpg\">"
   ]
  },
  {
   "cell_type": "code",
   "execution_count": 29,
   "id": "9582ec0c",
   "metadata": {},
   "outputs": [
    {
     "name": "stdout",
     "output_type": "stream",
     "text": [
      "../img/gifts/img1.jpg\n",
      "../img/gifts/img2.jpg\n",
      "../img/gifts/img3.jpg\n",
      "../img/gifts/img4.jpg\n",
      "../img/gifts/img6.jpg\n"
     ]
    }
   ],
   "source": [
    "#直接通过商品图片的文件路径来查找信息\n",
    "images = bs.find_all('img', {'src':re.compile('\\.\\.\\/img\\/gifts\\/img.*\\.jpg')})\n",
    "for image in images:\n",
    "    print(image['src'])"
   ]
  },
  {
   "cell_type": "markdown",
   "id": "38d18b8c",
   "metadata": {},
   "source": [
    "# 获取属性"
   ]
  },
  {
   "cell_type": "code",
   "execution_count": 30,
   "id": "1dfc2574",
   "metadata": {},
   "outputs": [],
   "source": [
    "#在抓取网页时你经常不需要查找标签的内容，而是需要查找标签属性\n",
    "#对于一个标签对象，可以用下面的代码获取它的全部属性：myTag.attrs"
   ]
  },
  {
   "cell_type": "markdown",
   "id": "167fd222",
   "metadata": {},
   "source": [
    "# Lambda表达式"
   ]
  },
  {
   "cell_type": "code",
   "execution_count": 31,
   "id": "59c562de",
   "metadata": {},
   "outputs": [],
   "source": [
    "#Lambda 表达式本质上就是一个函数，可以作为变量传入另一个函数\n",
    "#也就是说，一个函数不是定义成 f(x, y)，而是可以定义成 f(g(x), y) 或 f(g(x), h(y)) 的形式\n",
    "#Lambda 函数可以是任意返回 True 或者 False 值的函数"
   ]
  },
  {
   "cell_type": "code",
   "execution_count": 32,
   "id": "b7e5fa15",
   "metadata": {},
   "outputs": [],
   "source": [
    "#BeautifulSoup 允许我们把特定类型的函数作为参数传入 find_all 函数,唯一的限制条件是这些函数必须把一个标签对象作为参数并且返回布尔类型的结果"
   ]
  },
  {
   "cell_type": "code",
   "execution_count": 33,
   "id": "f41bd490",
   "metadata": {
    "collapsed": true
   },
   "outputs": [
    {
     "data": {
      "text/plain": [
       "[<img src=\"../img/gifts/logo.jpg\" style=\"float:left;\"/>,\n",
       " <tr class=\"gift\" id=\"gift1\"><td>\n",
       " Vegetable Basket\n",
       " </td><td>\n",
       " This vegetable basket is the perfect gift for your health conscious (or overweight) friends!\n",
       " <span class=\"excitingNote\">Now with super-colorful bell peppers!</span>\n",
       " </td><td>\n",
       " $15.00\n",
       " </td><td>\n",
       " <img src=\"../img/gifts/img1.jpg\"/>\n",
       " </td></tr>,\n",
       " <tr class=\"gift\" id=\"gift2\"><td>\n",
       " Russian Nesting Dolls\n",
       " </td><td>\n",
       " Hand-painted by trained monkeys, these exquisite dolls are priceless! And by \"priceless,\" we mean \"extremely expensive\"! <span class=\"excitingNote\">8 entire dolls per set! Octuple the presents!</span>\n",
       " </td><td>\n",
       " $10,000.52\n",
       " </td><td>\n",
       " <img src=\"../img/gifts/img2.jpg\"/>\n",
       " </td></tr>,\n",
       " <tr class=\"gift\" id=\"gift3\"><td>\n",
       " Fish Painting\n",
       " </td><td>\n",
       " If something seems fishy about this painting, it's because it's a fish! <span class=\"excitingNote\">Also hand-painted by trained monkeys!</span>\n",
       " </td><td>\n",
       " $10,005.00\n",
       " </td><td>\n",
       " <img src=\"../img/gifts/img3.jpg\"/>\n",
       " </td></tr>,\n",
       " <tr class=\"gift\" id=\"gift4\"><td>\n",
       " Dead Parrot\n",
       " </td><td>\n",
       " This is an ex-parrot! <span class=\"excitingNote\">Or maybe he's only resting?</span>\n",
       " </td><td>\n",
       " $0.50\n",
       " </td><td>\n",
       " <img src=\"../img/gifts/img4.jpg\"/>\n",
       " </td></tr>,\n",
       " <tr class=\"gift\" id=\"gift5\"><td>\n",
       " Mystery Box\n",
       " </td><td>\n",
       " If you love suprises, this mystery box is for you! Do not place on light-colored surfaces. May cause oil staining. <span class=\"excitingNote\">Keep your friends guessing!</span>\n",
       " </td><td>\n",
       " $1.50\n",
       " </td><td>\n",
       " <img src=\"../img/gifts/img6.jpg\"/>\n",
       " </td></tr>]"
      ]
     },
     "execution_count": 33,
     "metadata": {},
     "output_type": "execute_result"
    }
   ],
   "source": [
    "#作为参数传入的函数是 len(tag.attrs) == 2\n",
    "#当该参数为真时， find_all 函数将返回 tag，即找出带有两个属性的所有标签\n",
    "bs.find_all(lambda tag: len(tag.attrs) == 2)"
   ]
  }
 ],
 "metadata": {
  "kernelspec": {
   "display_name": "Python 3",
   "language": "python",
   "name": "python3"
  },
  "language_info": {
   "codemirror_mode": {
    "name": "ipython",
    "version": 3
   },
   "file_extension": ".py",
   "mimetype": "text/x-python",
   "name": "python",
   "nbconvert_exporter": "python",
   "pygments_lexer": "ipython3",
   "version": "3.7.4"
  }
 },
 "nbformat": 4,
 "nbformat_minor": 5
}
